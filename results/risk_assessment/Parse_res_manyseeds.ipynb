{
 "cells": [
  {
   "cell_type": "markdown",
   "id": "palestinian-elite",
   "metadata": {},
   "source": [
    "## Parse results from algos"
   ]
  },
  {
   "cell_type": "code",
   "execution_count": 1,
   "id": "rubber-brazilian",
   "metadata": {},
   "outputs": [],
   "source": [
    "import numpy as np\n",
    "import numba as nb\n",
    "import pandas as pd\n",
    "\n",
    "import matplotlib.pyplot as plt\n",
    "\n",
    "import sys\n",
    "sys.path.insert(0, '../../src/')\n",
    "import networkx as nx"
   ]
  },
  {
   "cell_type": "code",
   "execution_count": 2,
   "id": "informal-vegetation",
   "metadata": {},
   "outputs": [],
   "source": [
    "import io_m.libsaving as libsaving\n",
    "import io_m.io_utils as io_utils\n",
    "\n",
    "from importlib import reload"
   ]
  },
  {
   "cell_type": "code",
   "execution_count": 3,
   "id": "fleet-hardwood",
   "metadata": {},
   "outputs": [],
   "source": [
    "from epigen import epidemy_gen"
   ]
  },
  {
   "cell_type": "code",
   "execution_count": 4,
   "id": "a6ab3082-20ce-4bd8-a0f5-f9145b7782c7",
   "metadata": {},
   "outputs": [],
   "source": [
    "from epigen import EpInstance"
   ]
  },
  {
   "cell_type": "code",
   "execution_count": null,
   "id": "cordless-transport",
   "metadata": {},
   "outputs": [],
   "source": [
    "type_graph=\"RRG\"\n",
    "#seed=7\n",
    "seed=8\n",
    "N=100\n",
    "d=10\n",
    "height=3\n",
    "lam=0.035\n",
    "mu=0.\n",
    "t_limit=15\n",
    "p_edge=1\n",
    "#sparse observ\n",
    "pr_sympt=0.5\n",
    "n_test_rnd=1\n",
    "#n_test_rnd=0\n",
    "p_test_delay=[0, 0.6,0.4]\n",
    "p_test_delay = np.array(p_test_delay)/sum(p_test_delay)\n",
    "nsrc=1\n",
    "\n",
    "gamma=None\n",
    "small_lambda_limit=0\n",
    "path_contacts=\" \""
   ]
  },
  {
   "cell_type": "code",
   "execution_count": null,
   "id": "71d87bbf-fa4c-4b15-b962-741181e1627d",
   "metadata": {},
   "outputs": [],
   "source": [
    "### NEW RRG (changed the test probabilities)\n",
    "type_graph=\"RRG\"\n",
    "#seed=7\n",
    "seed=8\n",
    "N=100\n",
    "d=10\n",
    "height=3\n",
    "lam=0.035\n",
    "#lam=0.038\n",
    "mu=0.\n",
    "t_limit=15\n",
    "p_edge=1\n",
    "#sparse observ\n",
    "pr_sympt=0.5\n",
    "n_test_rnd=1\n",
    "#n_test_rnd=0\n",
    "p_test_delay=[0, 0.4, 0.5, 0.6]\n",
    "p_test_delay = np.array(p_test_delay)/sum(p_test_delay)\n",
    "nsrc=1\n",
    "last_time_obs=False\n",
    "\n",
    "gamma=None\n",
    "small_lambda_limit=0\n",
    "path_contacts=\" \"\n",
    "scale=None\n",
    "\n",
    "seeds=range(1,101)\n"
   ]
  },
  {
   "cell_type": "code",
   "execution_count": null,
   "id": "49e010a8-9d4f-4940-8d4f-96609c455574",
   "metadata": {},
   "outputs": [],
   "source": [
    "### NEW RRG with 2 src last obs\n",
    "CASE=\"RRG with 2 src last obs\"\n",
    "type_graph=\"RRG\"\n",
    "#seed=7\n",
    "seed=5\n",
    "N=100\n",
    "d=10\n",
    "height=3\n",
    "lam=0.03\n",
    "#lam=0.038\n",
    "mu=0.\n",
    "t_limit=15\n",
    "p_edge=1\n",
    "#sparse observ\n",
    "pr_sympt=0.5\n",
    "n_test_rnd=1\n",
    "#n_test_rnd=0\n",
    "p_test_delay=[0, 0.4, 0.5, 0.6]\n",
    "p_test_delay = np.array(p_test_delay)/sum(p_test_delay)\n",
    "nsrc=2\n",
    "\n",
    "gamma=None\n",
    "small_lambda_limit=0\n",
    "path_contacts=\" \"\n",
    "scale=None\n",
    "\n",
    "last_time_obs=True\n",
    "\n",
    "seeds=range(0,101)"
   ]
  },
  {
   "cell_type": "code",
   "execution_count": 5,
   "id": "c27fa407-70d0-4c7c-8945-e01a4417b2d0",
   "metadata": {},
   "outputs": [],
   "source": [
    "### NEW RRG with 1 src last obs\n",
    "type_graph=\"RRG\"\n",
    "#seed=7\n",
    "seed=5\n",
    "N=100\n",
    "d=10\n",
    "height=3\n",
    "lam=0.035\n",
    "#lam=0.038\n",
    "mu=0.\n",
    "t_limit=15\n",
    "p_edge=1\n",
    "#sparse observ\n",
    "pr_sympt=0.5\n",
    "n_test_rnd=1\n",
    "#n_test_rnd=0\n",
    "p_test_delay=[0, 0.4, 0.5, 0.6]\n",
    "p_test_delay = np.array(p_test_delay)/sum(p_test_delay)\n",
    "nsrc=1\n",
    "\n",
    "gamma=None\n",
    "small_lambda_limit=0\n",
    "path_contacts=\" \"\n",
    "scale=None\n",
    "CASE=\"RRG with 1 src last obs\"\n",
    "\n",
    "last_time_obs=True\n",
    "\n",
    "seeds=range(0,101)"
   ]
  },
  {
   "cell_type": "code",
   "execution_count": null,
   "id": "material-hearing",
   "metadata": {},
   "outputs": [],
   "source": [
    "type_graph=\"i_bird\"\n",
    "seed=9\n",
    "N=100\n",
    "d=10\n",
    "height=3\n",
    "lam=0.04\n",
    "mu=0.02\n",
    "t_limit=12\n",
    "p_edge=1\n",
    "\n",
    "gamma=1e-3\n",
    "small_lambda_limit=0\n",
    "path_contacts=\"../../results/patient_zero/work/work_13_contacts.npz\"\n",
    "#sparse observ\n",
    "pr_sympt=0.5\n",
    "#n_test_rnd=3\n",
    "n_test_rnd=0\n",
    "p_test_delay=[0, 0.6,0.4]\n",
    "p_test_delay = np.array(p_test_delay)/sum(p_test_delay)"
   ]
  },
  {
   "cell_type": "code",
   "execution_count": null,
   "id": "5036ca5b-21c1-4ec7-97a1-99564b959cec",
   "metadata": {},
   "outputs": [],
   "source": [
    "type_graph=\"proximity\"\n",
    "CASE=f\"{type_graph} with 1 src last obs\"\n",
    "\n",
    "seed=9\n",
    "N=100\n",
    "d=10\n",
    "lam=0.026\n",
    "mu=0.\n",
    "t_limit=15\n",
    "p_edge=1\n",
    "\n",
    "height=3\n",
    "\n",
    "gamma=1e-3\n",
    "small_lambda_limit=0\n",
    "path_contacts=\"../../results/patient_zero/work/work_13_contacts.npz\"\n",
    "#sparse observ\n",
    "pr_sympt=0.5\n",
    "nsrc=1\n",
    "\n",
    "scale=2\n",
    "#n_test_rnd=3\n",
    "n_test_rnd=1\n",
    "p_test_delay=[0, 0.2, 0.5,0.6]\n",
    "p_test_delay = np.array(p_test_delay)/sum(p_test_delay)\n",
    "seeds=range(0,100)\n",
    "\n",
    "last_time_obs=True"
   ]
  },
  {
   "cell_type": "code",
   "execution_count": null,
   "id": "215b44c3-8865-408f-b0a6-49cb17a8e2c4",
   "metadata": {},
   "outputs": [],
   "source": [
    "type_graph=\"proximity\"\n",
    "CASE=f\"{type_graph} with 1 src last obs 2nd try\"\n",
    "\n",
    "seed=9\n",
    "N=100\n",
    "d=10\n",
    "lam=0.03\n",
    "mu=0.\n",
    "t_limit=15\n",
    "p_edge=1\n",
    "\n",
    "height=3\n",
    "\n",
    "gamma=1e-3\n",
    "small_lambda_limit=0\n",
    "path_contacts=\"../../results/patient_zero/work/work_13_contacts.npz\"\n",
    "#sparse observ\n",
    "pr_sympt=0.5\n",
    "nsrc=1\n",
    "\n",
    "scale=2\n",
    "#n_test_rnd=3\n",
    "n_test_rnd=1\n",
    "p_test_delay=[0, 0.2, 0.5,0.6]\n",
    "p_test_delay = np.array(p_test_delay)/sum(p_test_delay)\n",
    "seeds=list(range(0,104))\n",
    "for s in range(15,20):\n",
    "    seeds.remove(s)\n",
    "\n",
    "last_time_obs=True"
   ]
  },
  {
   "cell_type": "code",
   "execution_count": null,
   "id": "varying-platform",
   "metadata": {},
   "outputs": [],
   "source": [
    "#seeds = range(1,101)\n",
    "#seeds =range(0,101)\n",
    "#seeds=range(1,51)\n",
    "# list(range(1,20))+list(range(30,51))\n",
    "\n",
    "#seeds=range(0,80)\n",
    "\n",
    "# for RRG 2 src last obs\n",
    "#seeds=list(seeds)\n",
    "#seeds.remove(29)"
   ]
  },
  {
   "cell_type": "code",
   "execution_count": 6,
   "id": "auburn-lemon",
   "metadata": {},
   "outputs": [],
   "source": [
    "INSTANCES = {s: EpInstance(type_graph, N, d, t_limit, \n",
    "                                    lam, mu, s, float(p_edge), \n",
    "                                    n_source=nsrc) for s in seeds}"
   ]
  },
  {
   "cell_type": "code",
   "execution_count": 7,
   "id": "f6fc7176-1ec1-4cd9-afe7-97f2b1f60094",
   "metadata": {},
   "outputs": [
    {
     "data": {
      "text/plain": [
       "'RRG_n_100_d_10_tlim_15_lam_0.035_mu_0_s_1_pe_1.0'"
      ]
     },
     "execution_count": 7,
     "metadata": {},
     "output_type": "execute_result"
    }
   ],
   "source": [
    "str(INSTANCES[1])"
   ]
  },
  {
   "cell_type": "code",
   "execution_count": 8,
   "id": "286f60e1-7b60-43f7-8d5f-9f45bbf53808",
   "metadata": {},
   "outputs": [],
   "source": [
    "extra_gen = {\"h\":height,\n",
    "            \"scale\":scale}\n",
    "\n",
    "extra_gen.update({\"gamma\":gamma, \n",
    "                  \"small_lambda_limit\":small_lambda_limit, \n",
    "                  \"path_contacts\": path_contacts})"
   ]
  },
  {
   "cell_type": "code",
   "execution_count": 9,
   "id": "announced-decline",
   "metadata": {},
   "outputs": [],
   "source": [
    "\n",
    "num_conf=1\n",
    "start_conf=0"
   ]
  },
  {
   "cell_type": "code",
   "execution_count": 10,
   "id": "waiting-immunology",
   "metadata": {
    "tags": []
   },
   "outputs": [],
   "source": [
    "%%capture\n",
    "reload(epidemy_gen)\n",
    "DATA_ALL = {s: \n",
    "            epidemy_gen.epidemy_gen_epinstance(inst, \n",
    "                                               lim_infected=1, num_conf=num_conf,\n",
    "                                               extra_gen=extra_gen, \n",
    "                                               verbose=False,\n",
    "                                              num_sources=nsrc) \n",
    "            for s, inst in INSTANCES.items()}"
   ]
  },
  {
   "cell_type": "code",
   "execution_count": 11,
   "id": "2a8babd3-b8ea-4de2-8465-bc5a2827d837",
   "metadata": {},
   "outputs": [
    {
     "name": "stderr",
     "output_type": "stream",
     "text": [
      "/home/fmazza/app/miniconda3/envs/torche/lib/python3.8/site-packages/IPython/core/interactiveshell.py:3437: FutureWarning: arrays to stack must be passed as a \"sequence\" type such as list or tuple. Support for non-sequence iterables such as generators is deprecated as of NumPy 1.16 and will raise an error in the future.\n",
      "  exec(code_obj, self.user_global_ns, self.user_ns)\n"
     ]
    }
   ],
   "source": [
    "confs={s: np.array(mdata[\"test\"]) for s, mdata in DATA_ALL.items()}\n",
    "\n",
    "final_confs = {\n",
    "    s: c[...,1,:] for s, c in confs.items()\n",
    "} #np.stack(tuple(confs.values()) )[...,1,:]\n",
    "\n",
    "\n",
    "idx_source = {k: np.stack((np.where(c[0]==1)[0] for c in x)) for k, x in confs.items()}"
   ]
  },
  {
   "cell_type": "code",
   "execution_count": 12,
   "id": "5ece1d5c-6fd2-4ce3-991e-20b06c388566",
   "metadata": {},
   "outputs": [
    {
     "data": {
      "image/png": "[encoded data removed]",
      "text/plain": [
       "<Figure size 432x288 with 1 Axes>"
      ]
     },
     "metadata": {
      "needs_background": "light"
     },
     "output_type": "display_data"
    },
    {
     "data": {
      "image/png": "[encoded data removed]",
      "text/plain": [
       "<Figure size 432x288 with 1 Axes>"
      ]
     },
     "metadata": {
      "needs_background": "light"
     },
     "output_type": "display_data"
    }
   ],
   "source": [
    "r = np.stack(tuple(final_confs.values())).sum(-1).flatten()\n",
    "plt.figure()\n",
    "plt.hist(r,bins=max(r)+1)\n",
    "\n",
    "plt.figure()\n",
    "x,vals = np.unique(r, return_counts=True)\n",
    "allvals = np.zeros(max(x)+1)\n",
    "allvals[x] = vals\n",
    "plt.plot(allvals.cumsum(),\".--\")\n",
    "plt.grid()"
   ]
  },
  {
   "cell_type": "code",
   "execution_count": 13,
   "id": "37e6d92e-a576-4477-b293-ac8de4c79999",
   "metadata": {},
   "outputs": [],
   "source": [
    "from io_m import read_results\n",
    "\n",
    "from epigen import generators\n",
    "\n",
    "from analysis import risk_pred\n",
    "\n",
    "from epigen import gen_observ"
   ]
  },
  {
   "cell_type": "code",
   "execution_count": 14,
   "id": "5c104105-0802-4ce3-8773-dc725c46a351",
   "metadata": {},
   "outputs": [
    {
     "data": {
      "text/plain": [
       "(<function __main__.<lambda>(dat, t, s)>, True)"
      ]
     },
     "execution_count": 14,
     "metadata": {},
     "output_type": "execute_result"
    }
   ],
   "source": [
    "if last_time_obs:\n",
    "    test_gen = lambda dat, t, s: gen_observ.make_sparse_obs_last_t(\n",
    "                                            dat,t, pr_sympt,seed=s,\n",
    "                                               verbose=False, numeric_obs=True)\n",
    "else:\n",
    "    test_gen = lambda dat, t, s: gen_observ.make_sparse_obs_default(\n",
    "                        dat, t, n_test_rnd,\n",
    "                        seed=s,\n",
    "                        pr_sympt=pr_sympt, \n",
    "                        p_test_delay=p_test_delay, \n",
    "                    verbose=False, numeric_obs=True)\n",
    "\n",
    "test_gen, last_time_obs"
   ]
  },
  {
   "cell_type": "code",
   "execution_count": 15,
   "id": "12b5fcf3-a006-4d1e-86f1-962499471acf",
   "metadata": {},
   "outputs": [
    {
     "data": {
      "text/plain": [
       "101"
      ]
     },
     "execution_count": 15,
     "metadata": {},
     "output_type": "execute_result"
    }
   ],
   "source": [
    "len(DATA_ALL)"
   ]
  },
  {
   "cell_type": "code",
   "execution_count": 16,
   "id": "classical-color",
   "metadata": {},
   "outputs": [],
   "source": [
    "EPIDEMIES = {s: generators.calc_epidemies(mdata[\"epidemy\"], mdata[\"test\"], t_limit) \n",
    "             for s, mdata in DATA_ALL.items()}\n",
    "\"\"\"\n",
    "rdf, rjson = gen_observ.make_sparse_obs_default(mdata, INSTANCE.t_limit, \n",
    "                                               n_test_rnd, pr_sympt, \n",
    "                                               p_test_delay,seed, False, numeric_obs=True)\n",
    "\"\"\"\n",
    "##LAST TIME\n",
    "\n",
    "OBSERV_ALL = {s:\n",
    "              test_gen(mdata, INSTANCES[s].t_limit, s=s,)[0] \n",
    "            for s, mdata in DATA_ALL.items()}"
   ]
  },
  {
   "cell_type": "code",
   "execution_count": 17,
   "id": "222373cc-7025-4223-92a1-34e5b55ca9c2",
   "metadata": {},
   "outputs": [],
   "source": [
    "OBS_STATS = pd.concat([epidemy_gen.make_stats_observ(np.array(DATA_ALL[s][\"test\"]),\n",
    "                                 OBSERV_ALL[s], obs_key=\"obs\") \n",
    " for s in sorted(DATA_ALL.keys())], ignore_index=True)"
   ]
  },
  {
   "cell_type": "code",
   "execution_count": 18,
   "id": "9dc51a8b-d5d6-4ad2-be51-e317076408b0",
   "metadata": {},
   "outputs": [],
   "source": [
    "OBS_STATS[\"seed\"] = seeds"
   ]
  },
  {
   "cell_type": "code",
   "execution_count": 19,
   "id": "aafbc9e7-10bc-4101-82c9-814f4b417877",
   "metadata": {},
   "outputs": [
    {
     "data": {
      "image/png": "[encoded data removed]",
      "text/plain": [
       "<Figure size 432x288 with 1 Axes>"
      ]
     },
     "metadata": {
      "needs_background": "light"
     },
     "output_type": "display_data"
    }
   ],
   "source": [
    "OBS_STATS.plot(x=\"seed\",y=[\"num_inf_guess\"], style=\".\")\n",
    "plt.grid()"
   ]
  },
  {
   "cell_type": "code",
   "execution_count": 20,
   "id": "5a3d7a27-c202-47f3-8fff-855245c78d34",
   "metadata": {},
   "outputs": [
    {
     "data": {
      "text/html": [
       "<div>\n",
       "<style scoped>\n",
       "    .dataframe tbody tr th:only-of-type {\n",
       "        vertical-align: middle;\n",
       "    }\n",
       "\n",
       "    .dataframe tbody tr th {\n",
       "        vertical-align: top;\n",
       "    }\n",
       "\n",
       "    .dataframe thead th {\n",
       "        text-align: right;\n",
       "    }\n",
       "</style>\n",
       "<table border=\"1\" class=\"dataframe\">\n",
       "  <thead>\n",
       "    <tr style=\"text-align: right;\">\n",
       "      <th></th>\n",
       "      <th>num_inf</th>\n",
       "      <th>num_inf_obs</th>\n",
       "      <th>num_inf_guess</th>\n",
       "      <th>sources</th>\n",
       "      <th>seed</th>\n",
       "    </tr>\n",
       "  </thead>\n",
       "  <tbody>\n",
       "    <tr>\n",
       "      <th>45</th>\n",
       "      <td>2</td>\n",
       "      <td>2</td>\n",
       "      <td>0</td>\n",
       "      <td>[34]</td>\n",
       "      <td>45</td>\n",
       "    </tr>\n",
       "    <tr>\n",
       "      <th>86</th>\n",
       "      <td>2</td>\n",
       "      <td>1</td>\n",
       "      <td>1</td>\n",
       "      <td>[99]</td>\n",
       "      <td>86</td>\n",
       "    </tr>\n",
       "    <tr>\n",
       "      <th>90</th>\n",
       "      <td>2</td>\n",
       "      <td>1</td>\n",
       "      <td>1</td>\n",
       "      <td>[26]</td>\n",
       "      <td>90</td>\n",
       "    </tr>\n",
       "  </tbody>\n",
       "</table>\n",
       "</div>"
      ],
      "text/plain": [
       "    num_inf  num_inf_obs  num_inf_guess sources  seed\n",
       "45        2            2              0    [34]    45\n",
       "86        2            1              1    [99]    86\n",
       "90        2            1              1    [26]    90"
      ]
     },
     "execution_count": 20,
     "metadata": {},
     "output_type": "execute_result"
    }
   ],
   "source": [
    "OBS_STATS[OBS_STATS.num_inf_guess < 2]"
   ]
  },
  {
   "cell_type": "markdown",
   "id": "binding-charge",
   "metadata": {},
   "source": [
    "## Read marginals"
   ]
  },
  {
   "cell_type": "code",
   "execution_count": 21,
   "id": "identified-diesel",
   "metadata": {},
   "outputs": [],
   "source": [
    "from io_m import read_results"
   ]
  },
  {
   "cell_type": "code",
   "execution_count": 22,
   "id": "secure-organizer",
   "metadata": {},
   "outputs": [],
   "source": [
    "def load_many_inst(method, folder, instances, *args, **kwargs):\n",
    "    #if \"legacy\" in kwargs.keys():\n",
    "    #    for inst in \n",
    "    return {s: method(folder, inst, *args,**kwargs) for s, inst in instances.items()}"
   ]
  },
  {
   "cell_type": "code",
   "execution_count": 23,
   "id": "executed-friendship",
   "metadata": {},
   "outputs": [],
   "source": [
    "margs_all = {}"
   ]
  },
  {
   "cell_type": "code",
   "execution_count": 24,
   "id": "66c3ff2c-a0f8-44ec-956e-fcd329ef9e9b",
   "metadata": {},
   "outputs": [
    {
     "data": {
      "text/plain": [
       "<module 'io_m.read_results' from '../../src/io_m/read_results.py'>"
      ]
     },
     "execution_count": 24,
     "metadata": {},
     "output_type": "execute_result"
    }
   ],
   "source": [
    "reload(read_results)"
   ]
  },
  {
   "cell_type": "code",
   "execution_count": 25,
   "id": "czech-parade",
   "metadata": {},
   "outputs": [],
   "source": [
    "for inst in INSTANCES.values():\n",
    "    inst.p_edge=float(inst.p_edge)"
   ]
  },
  {
   "cell_type": "code",
   "execution_count": 26,
   "id": "30a47565-819b-4fa7-b28a-6abaed26debf",
   "metadata": {},
   "outputs": [],
   "source": [
    "confs_load=(0,1)"
   ]
  },
  {
   "cell_type": "code",
   "execution_count": null,
   "id": "8ec88a4a-14f0-4bf5-ace1-77c4ff1bf258",
   "metadata": {},
   "outputs": [],
   "source": []
  },
  {
   "cell_type": "code",
   "execution_count": 27,
   "id": "53f74be3-1a42-447a-9f35-9f7e22d049e8",
   "metadata": {},
   "outputs": [
    {
     "name": "stdout",
     "output_type": "stream",
     "text": [
      "RRG_lastobs_\n"
     ]
    }
   ],
   "source": [
    "if not last_time_obs:\n",
    "    name = f\"{type_graph}_{n_test_rnd}rnd_\" #psus06_\"\n",
    "else:\n",
    "    name = f\"{type_graph}_lastobs_\"#psus06_\"\n",
    "print(name)\n",
    "    \n",
    "folder=f\"sib/{type_graph}_{nsrc}src/\"\n",
    "#folder=f\"sib/{INSTANCE.type_graph}_nsrc{nsrc}/\"\n",
    "name_psus06=name+\"psus06_\"\n",
    "margs_all[\"sib_psus60\"] =load_many_inst(read_results.read_sib_data_def,\n",
    "                                        #\"sib/{type_graph}_nsrc1/\",\n",
    "                                        f\"sib/{type_graph}_{nsrc}src/\",\n",
    "                                        #f\"sib/{type_graph}/\",\n",
    "                                        INSTANCES, height, name_psus06,\n",
    "                                        range_confs=confs_load, outprint=False)"
   ]
  },
  {
   "cell_type": "code",
   "execution_count": 29,
   "id": "d950299f-853c-47a5-8194-5df82c34a0e5",
   "metadata": {},
   "outputs": [],
   "source": [
    "margs_all[\"sib_psus70_psrc2\"] =load_many_inst(read_results.read_sib_data_def,\n",
    "                                        #\"sib/{type_graph}_nsrc1/\",\n",
    "                                        f\"sib/{type_graph}_{nsrc}src/\",\n",
    "                                        #f\"sib/{type_graph}/\",\n",
    "                                        INSTANCES, height, name+\"psus07_psrc2_\",\n",
    "                                        range_confs=confs_load, outprint=False)"
   ]
  },
  {
   "cell_type": "code",
   "execution_count": null,
   "id": "13301a76-5f9b-487f-b639-11aafc720b94",
   "metadata": {},
   "outputs": [],
   "source": [
    "margs_all[\"ann_psus06_lexp\"] = load_many_inst(read_results.read_margs_inst,\n",
    "                                        f\"ann/good_new/{type_graph}_SI\",\n",
    "                                        INSTANCES,\n",
    "                                        prefix=f\"10kst10ks_{n_test_rnd}rnd_6lexp_\",\n",
    "                                        #prefix=f\"psrc4_{n_test_rnd}rnd_newfin06Bal_\",\n",
    "                                        n_end=num_conf)"
   ]
  },
  {
   "cell_type": "code",
   "execution_count": null,
   "id": "a2f0ddb1-42fe-40bc-ba25-f512c1f4e511",
   "metadata": {},
   "outputs": [],
   "source": [
    "instances_ann_1 = {k: INSTANCES[k] for k in filter(lambda x: x < 51, INSTANCES.keys())}\n",
    "instances_ann_2 = {k: INSTANCES[k] for k in filter(lambda x: x >= 51, INSTANCES.keys())}"
   ]
  },
  {
   "cell_type": "code",
   "execution_count": null,
   "id": "white-consideration",
   "metadata": {
    "tags": []
   },
   "outputs": [],
   "source": [
    "for inst in instances_ann_1.values():\n",
    "    inst.legacy(False)\n",
    "margs_all[\"ann_psus06_4lpow\"] = load_many_inst(read_results.read_margs_inst,\n",
    "                                        f\"ann/good_new/{type_graph}_SI\",\n",
    "                                        INSTANCES,\n",
    "                                        prefix=f\"10kst10ks_{n_test_rnd}rnd_4lpow2_\",\n",
    "                                        #prefix=f\"psrc4_{n_test_rnd}rnd_newfin06Bal_\",\n",
    "                                        range_confs=confs_load)\n",
    "for inst in instances_ann_1.values():\n",
    "    inst.legacy(True)"
   ]
  },
  {
   "cell_type": "markdown",
   "id": "0939f443-7819-40e0-bc91-3d0a7040fb9c",
   "metadata": {},
   "source": [
    "## ANN RRG 1 src last obs"
   ]
  },
  {
   "cell_type": "code",
   "execution_count": null,
   "id": "58ac0cd1-6688-49af-bf70-a099d2d03310",
   "metadata": {
    "tags": []
   },
   "outputs": [],
   "source": [
    "margs_all[\"ann_psus06_4lpow\"] = load_many_inst(read_results.read_margs_inst,\n",
    "                                        f\"ann/good_new/{type_graph}_{nsrc}src\",\n",
    "                                        INSTANCES,\n",
    "                                        prefix=f\"10kst10ks_lastobs_4lpow_\",\n",
    "                                        #prefix=f\"psrc4_{n_test_rnd}rnd_newfin06Bal_\",\n",
    "                                        range_confs=confs_load, outprint=False)"
   ]
  },
  {
   "cell_type": "code",
   "execution_count": 30,
   "id": "549c2251-6752-4b27-8c62-155be8180d6b",
   "metadata": {
    "tags": []
   },
   "outputs": [],
   "source": [
    "margs_all[\"ann_psus07_4lpow_psrc2\"] = load_many_inst(read_results.read_margs_inst,\n",
    "                                        f\"ann/good_new/{type_graph}_{nsrc}src\",\n",
    "                                        INSTANCES,\n",
    "                                        prefix=\"10kst10ks_lastobs_4lpow_psus07_psrc2_\",\n",
    "                                        #prefix=f\"psrc4_{n_test_rnd}rnd_newfin06Bal_\",\n",
    "                                        range_confs=confs_load, outprint=False)"
   ]
  },
  {
   "cell_type": "markdown",
   "id": "232626de-94a1-4097-b338-35f3f1f6d0e0",
   "metadata": {},
   "source": [
    "## ANN RRG 2 src last obs"
   ]
  },
  {
   "cell_type": "code",
   "execution_count": null,
   "id": "e2fa3ca0-965c-43e4-964a-3af031552591",
   "metadata": {
    "tags": []
   },
   "outputs": [],
   "source": [
    "margs_all[\"ann_psus06_4lpow\"] = load_many_inst(read_results.read_margs_inst,\n",
    "                                        f\"ann/good_new/{type_graph}_{nsrc}src\",\n",
    "                                        INSTANCES,\n",
    "                                        prefix=f\"10kst10ks_lastobs_4lpow_\",\n",
    "                                        #prefix=f\"psrc4_{n_test_rnd}rnd_newfin06Bal_\",\n",
    "                                        range_confs=confs_load, outprint=False)"
   ]
  },
  {
   "cell_type": "code",
   "execution_count": null,
   "id": "6b486f5c-ecd1-48b5-a161-da7ca0e19113",
   "metadata": {
    "tags": []
   },
   "outputs": [],
   "source": [
    "margs_all[\"ann_psus07_4lpow_psrc2\"] = load_many_inst(read_results.read_margs_inst,\n",
    "                                        f\"ann/good_new/{type_graph}_{nsrc}src\",\n",
    "                                        INSTANCES,\n",
    "                                        prefix=f\"10kst10ks_lastobs_4lpow_psus07_psrc2_\",\n",
    "                                        #prefix=f\"psrc4_{n_test_rnd}rnd_newfin06Bal_\",\n",
    "                                        range_confs=confs_load, outprint=False)"
   ]
  },
  {
   "cell_type": "code",
   "execution_count": null,
   "id": "d534b6c8-b862-4d8c-a6c6-25bc7696d09b",
   "metadata": {},
   "outputs": [],
   "source": [
    "CASE"
   ]
  },
  {
   "cell_type": "code",
   "execution_count": null,
   "id": "44d527a3-dd0d-4438-85aa-dc347d11fc24",
   "metadata": {},
   "outputs": [],
   "source": [
    "margs_all.keys()"
   ]
  },
  {
   "cell_type": "markdown",
   "id": "6115f952-0dc1-43ff-ac48-745b138c014b",
   "metadata": {},
   "source": [
    "## ANN proximity 1 src last obs"
   ]
  },
  {
   "cell_type": "code",
   "execution_count": null,
   "id": "d8b7127c-89aa-4296-a3ec-26803843da48",
   "metadata": {
    "tags": []
   },
   "outputs": [],
   "source": [
    "margs_all[\"ann_psus07_4lpow_psrc2\"] = load_many_inst(read_results.read_margs_inst,\n",
    "                                        f\"ann/good_new/{type_graph}_{nsrc}src\",\n",
    "                                        INSTANCES,\n",
    "                                        prefix=f\"10kst10ks_lastobs_4lpow_psus07_psrc2_\",\n",
    "                                        #prefix=f\"psrc4_{n_test_rnd}rnd_newfin06Bal_\",\n",
    "                                        range_confs=confs_load, outprint=False)"
   ]
  },
  {
   "cell_type": "markdown",
   "id": "increased-prior",
   "metadata": {},
   "source": [
    "## Read risks from estimators"
   ]
  },
  {
   "cell_type": "code",
   "execution_count": 31,
   "id": "modular-spokesman",
   "metadata": {},
   "outputs": [],
   "source": [
    "reload(read_results)\n",
    "risks_all = {}"
   ]
  },
  {
   "cell_type": "code",
   "execution_count": 32,
   "id": "f6d216f8-4c4f-4994-a8fe-7dcfec971ecb",
   "metadata": {},
   "outputs": [
    {
     "name": "stdout",
     "output_type": "stream",
     "text": [
      "lastobs_tau4_d10_\n"
     ]
    }
   ],
   "source": [
    "if last_time_obs:\n",
    "    name_rankers=f\"lastobs_tau4_d10_\"\n",
    "else:\n",
    "    name_rankers=f\"{n_test_rnd}rnd_tau4_d10_\"\n",
    "print(name_rankers)"
   ]
  },
  {
   "cell_type": "code",
   "execution_count": 33,
   "id": "dimensional-pleasure",
   "metadata": {
    "tags": []
   },
   "outputs": [],
   "source": [
    "risks_all[\"MF\"] = load_many_inst(read_results.read_risk_inst,\n",
    "                                 #f\"rankers/good_new/{type_graph}\",\n",
    "                                 f\"rankers/good/{type_graph}_{nsrc}src\",\n",
    "                                            INSTANCES, \"MF\",\n",
    "                                            prefix=name_rankers,\n",
    "                                            range_confs=confs_load, outprint=False)"
   ]
  },
  {
   "cell_type": "code",
   "execution_count": 34,
   "id": "38ab3c9a-553d-4bd9-bbd4-37333a3da599",
   "metadata": {
    "tags": []
   },
   "outputs": [],
   "source": [
    "risks_all[\"CT\"] = load_many_inst(read_results.read_risk_inst,\n",
    "                                 #f\"rankers/good_new/{type_graph}\",\n",
    "                                 f\"rankers/good/{type_graph}_{nsrc}src\",\n",
    "                                            INSTANCES, \"CT\",\n",
    "                                            prefix=name_rankers,\n",
    "                                            range_confs=confs_load, outprint=False)"
   ]
  },
  {
   "cell_type": "code",
   "execution_count": 35,
   "id": "developmental-township",
   "metadata": {},
   "outputs": [],
   "source": [
    "def calc_all_rocs(margs, fin_conf, obs_all_df, instance):\n",
    "    margs_diff =[]\n",
    "    for i, conf_fin in enumerate(fin_conf):\n",
    "        nidx = get_obs_idx(obs_all_df[i])\n",
    "        sel_idx = set(range(instance.n)).difference(nidx)\n",
    "        errs = get_err_rocs(margs[i], sel_idx, conf_fin)\n",
    "        margs_diff.append(np.array(errs))\n",
    "        \n",
    "    return margs_diff"
   ]
  },
  {
   "cell_type": "code",
   "execution_count": null,
   "id": "34b8d079-91ab-4224-b1fa-3d245b9da588",
   "metadata": {},
   "outputs": [],
   "source": []
  },
  {
   "cell_type": "markdown",
   "id": "elder-stewart",
   "metadata": {},
   "source": [
    "## Aggregated things"
   ]
  },
  {
   "cell_type": "code",
   "execution_count": 36,
   "id": "enclosed-program",
   "metadata": {},
   "outputs": [],
   "source": [
    "Nfin = {k: np.stack(tuple(mar.values()))[...,-1,:].sum(-2).reshape(-1,3) for k,mar in margs_all.items()}"
   ]
  },
  {
   "cell_type": "code",
   "execution_count": 37,
   "id": "daily-fisher",
   "metadata": {},
   "outputs": [],
   "source": [
    "Ninit = {k: np.stack(tuple(mar.values()))[...,0,:].sum(-2).reshape(-1,3) for k,mar in margs_all.items()}"
   ]
  },
  {
   "cell_type": "code",
   "execution_count": 38,
   "id": "contrary-concert",
   "metadata": {},
   "outputs": [],
   "source": [
    "Nfin_real = np.stack([ [(fin_conf==i).sum(-1) for i in range(3)] \n",
    "                      for s, fin_conf in final_confs.items()],0).reshape(-1,3)"
   ]
  },
  {
   "cell_type": "code",
   "execution_count": 39,
   "id": "valuable-suggestion",
   "metadata": {},
   "outputs": [
    {
     "data": {
      "text/plain": [
       "dict_keys(['sib_psus60', 'sib_psus70_psrc2', 'ann_psus07_4lpow_psrc2'])"
      ]
     },
     "execution_count": 39,
     "metadata": {},
     "output_type": "execute_result"
    }
   ],
   "source": [
    "margs_all.keys()"
   ]
  },
  {
   "cell_type": "code",
   "execution_count": 40,
   "id": "broadband-michigan",
   "metadata": {},
   "outputs": [
    {
     "data": {
      "text/plain": [
       "<matplotlib.legend.Legend at 0x7fa058fa43a0>"
      ]
     },
     "execution_count": 40,
     "metadata": {},
     "output_type": "execute_result"
    },
    {
     "data": {
      "image/png": "[encoded data removed]",
      "text/plain": [
       "<Figure size 576x432 with 1 Axes>"
      ]
     },
     "metadata": {
      "needs_background": "light"
     },
     "output_type": "display_data"
    }
   ],
   "source": [
    "plt.figure(figsize=(8,6))\n",
    "\n",
    "#plt.plot(margs_run[:,-1,1:].sum(-1),\"--\",label=\"10k steps mc -7 no netobs\")\n",
    "#plt.plot(margs_run_mc10[:,-1,1],\"-\",label=\"10k steps mc -10 no netobs\")\n",
    "plt.plot(Nfin_real[:,1:].sum(-1), label=\"real\", color=\"darkcyan\")\n",
    "#plt.plot(Nfin[\"sib\"][:,1:].sum(-1),\".--\",color=\"black\",label=\"sib\")\n",
    "#plt.plot(Nfin[\"sib_psus60\"][:,1:].sum(-1),\".--\",color=\"firebrick\",label=\"sib psus 0.6\")\n",
    "plt.plot(Nfin[\"sib_psus70_psrc2\"][:,1:].sum(-1),\".--\",color=\"orange\",label=\"sib psus 0.7\")\n",
    "#plt.plot(Nfin[\"sib_psus65\"][:,1:].sum(-1),\".--\",color=\"mediumpurple\",label=\"sib psus 0.65\")\n",
    "\n",
    "#plt.plot(Nfin[\"ann_pfinLin\"][:,1:].sum(-1),\"o-\",color=\"darkcyan\",label=\"ann pfin Lin\")\n",
    "\n",
    "#plt.plot(Nfin[\"ann_psus06_lexp\"][:,1:].sum(-1),\"o\",label=\"ann psus06 exp new\")\n",
    "#plt.plot(Nfin[\"ann_psus06_4lpow\"][:,1:].sum(-1),\"o\",label=\"ann psus06 pow\")\n",
    "plt.plot(Nfin[\"ann_psus07_4lpow_psrc2\"][:,1:].sum(-1),\"o\",label=\"ann psus07 pow\")\n",
    "\n",
    "#plt.plot(Nfin[\"ann_psus06_pow_nn\"][:,1:].sum(-1),\"o\",label=\"ann psus06 pow new\")\n",
    "\n",
    "\n",
    "#plt.xlim((-0.2,))\n",
    "\n",
    "\n",
    "plt.ylabel(\"$N_I + N_R$\")\n",
    "plt.legend()\n"
   ]
  },
  {
   "cell_type": "code",
   "execution_count": null,
   "id": "functional-pennsylvania",
   "metadata": {},
   "outputs": [],
   "source": []
  },
  {
   "cell_type": "code",
   "execution_count": 41,
   "id": "irish-electric",
   "metadata": {},
   "outputs": [
    {
     "name": "stderr",
     "output_type": "stream",
     "text": [
      "/home/fmazza/app/miniconda3/envs/torche/lib/python3.8/site-packages/sklearn/metrics/_ranking.py:949: UndefinedMetricWarning: No positive samples in y_true, true positive value should be meaningless\n",
      "  warnings.warn(\"No positive samples in y_true, \"\n",
      "/home/fmazza/app/miniconda3/envs/torche/lib/python3.8/site-packages/sklearn/metrics/_ranking.py:949: UndefinedMetricWarning: No positive samples in y_true, true positive value should be meaningless\n",
      "  warnings.warn(\"No positive samples in y_true, \"\n",
      "/home/fmazza/app/miniconda3/envs/torche/lib/python3.8/site-packages/sklearn/metrics/_ranking.py:949: UndefinedMetricWarning: No positive samples in y_true, true positive value should be meaningless\n",
      "  warnings.warn(\"No positive samples in y_true, \"\n"
     ]
    }
   ],
   "source": [
    "aucs_all = {name: \n",
    "            np.array([\n",
    "                risk_pred.calc_aucs(margs[s],final_confs[s], OBSERV_ALL[s], INSTANCES[s]) \n",
    "                 for s in sorted(INSTANCES.keys())\n",
    "            ]).flatten()\n",
    "            for name, margs in margs_all.items()}"
   ]
  },
  {
   "cell_type": "code",
   "execution_count": 42,
   "id": "prostate-green",
   "metadata": {},
   "outputs": [
    {
     "name": "stderr",
     "output_type": "stream",
     "text": [
      "/home/fmazza/app/miniconda3/envs/torche/lib/python3.8/site-packages/sklearn/metrics/_ranking.py:949: UndefinedMetricWarning: No positive samples in y_true, true positive value should be meaningless\n",
      "  warnings.warn(\"No positive samples in y_true, \"\n",
      "/home/fmazza/app/miniconda3/envs/torche/lib/python3.8/site-packages/sklearn/metrics/_ranking.py:949: UndefinedMetricWarning: No positive samples in y_true, true positive value should be meaningless\n",
      "  warnings.warn(\"No positive samples in y_true, \"\n"
     ]
    }
   ],
   "source": [
    "aucs_all.update({name: \n",
    "            np.array([\n",
    "                risk_pred.calc_aucs_risks(margs[s],final_confs[s], OBSERV_ALL[s], INSTANCES[s]) \n",
    "                 for s in sorted(INSTANCES.keys())\n",
    "            ]).flatten()\n",
    "            for name, margs in risks_all.items()} )"
   ]
  },
  {
   "cell_type": "code",
   "execution_count": 44,
   "id": "visible-amplifier",
   "metadata": {},
   "outputs": [
    {
     "data": {
      "image/png": "[encoded data removed]",
      "text/plain": [
       "<Figure size 648x360 with 1 Axes>"
      ]
     },
     "metadata": {
      "needs_background": "light"
     },
     "output_type": "display_data"
    }
   ],
   "source": [
    "plt.figure(figsize=(9,5))\n",
    "#plt.plot(aucs_all[\"sib\"], \"*--\",label=\"sib\", color=\"black\")\n",
    "#plt.plot(aucs_all[\"sib_psus60\"], \"o--\",label=\"sib psus 0.6\")\n",
    "plt.plot(aucs_all[\"sib_psus70_psrc2\"], \"o--\",label=\"sib psus 0.7\")\n",
    "\n",
    "#plt.plot(aucs_all[\"ann_psus06_lexp\"],\"*-\",label=\"ann psus06 6lexp\")\n",
    "\n",
    "#plt.plot(aucs_all[\"ann_psus06_4lpow\"],\"o--\",label=\"ann psus06 4lpow\")\n",
    "plt.plot(aucs_all[\"ann_psus07_4lpow_psrc2\"],\"*--\",label=\"ann psus07 4lpow\")\n",
    "\n",
    "\n",
    "\n",
    "plt.plot(aucs_all[\"MF\"], \"o--\", label=\"MF ranker\")\n",
    "\n",
    "#plt.plot(aucs_ranks[\"MF_cho\"], \"*--\", label=f\"MF ch_obs ranker\")\n",
    "\n",
    "plt.plot(aucs_all[\"CT\"], \"o--\", label=\"CT ranker\")\n",
    "#plt.plot(aucs_ranks[\"CT_cho\"], \"*--\", label=\"CT ch_obs ranker\")\n",
    "#plt.plot(aucs_all[\"ann_psus06_pow\"],\"*--\",label=\"ann psus06 4lpow\")\n",
    "\n",
    "\n",
    "#plt.plot([1], [auc(rocs_1_m[0],rocs_1_m[1])], \"o\", label=\"big net\")\n",
    "\n",
    "plt.legend()\n",
    "\"\"\"plt.xlim((-0.5,4.5))\n",
    "plt.ylim((0.3\n",
    "          ,0.83))\"\"\"\n",
    "plt.ylabel(\"AUC in finding infected\")\n",
    "plt.xlabel(\"Instance\")\n",
    "plt.grid(linestyle=\"--\")\n",
    "#plt.savefig(f\"auc_{str(INSTANCE)}.svg\", bbox_inches=\"tight\")"
   ]
  },
  {
   "cell_type": "code",
   "execution_count": 45,
   "id": "a23b9d1f-9a80-4882-babd-f5825a9cccb5",
   "metadata": {},
   "outputs": [
    {
     "name": "stdout",
     "output_type": "stream",
     "text": [
      "CT: 0.685 \\pm 0.009\n",
      "MF: 0.703 \\pm 0.010\n",
      "ann_psus07_4lpow_psrc2: 0.707 \\pm 0.010\n",
      "sib_psus60: 0.708 \\pm 0.009\n",
      "sib_psus70_psrc2: 0.711 \\pm 0.010\n"
     ]
    }
   ],
   "source": [
    "avg = {name: np.nanmean(r)\n",
    "              for name, r in aucs_all.items()}\n",
    "err_avg = {name: np.nanstd(r)/np.sqrt(len(r) - np.isnan(r).sum())\n",
    "              for name, r in aucs_all.items()}\n",
    "\n",
    "for k in sorted(avg.keys()):\n",
    "    print(f\"{k}: {avg[k]:5.3f} \\pm {err_avg[k]:5.3f}\")"
   ]
  },
  {
   "cell_type": "code",
   "execution_count": 46,
   "id": "f178b20f-e592-4b4b-ad7e-6c83f6460a4d",
   "metadata": {},
   "outputs": [],
   "source": [
    "aucs_df =pd.DataFrame(aucs_all).dropna(how=\"all\", axis=0)"
   ]
  },
  {
   "cell_type": "code",
   "execution_count": 47,
   "id": "1b704ed3-54fb-42af-a9c5-243e6060a5e6",
   "metadata": {},
   "outputs": [
    {
     "data": {
      "text/plain": [
       "100"
      ]
     },
     "execution_count": 47,
     "metadata": {},
     "output_type": "execute_result"
    }
   ],
   "source": [
    "len(aucs_df)"
   ]
  },
  {
   "cell_type": "code",
   "execution_count": 48,
   "id": "925956d6-4511-4c4d-ad7b-25c5f5553293",
   "metadata": {},
   "outputs": [
    {
     "name": "stdout",
     "output_type": "stream",
     "text": [
      "RRG_n_100_1src_lastobs_\n"
     ]
    }
   ],
   "source": [
    "name_out=f\"{type_graph}_n_{N}_{nsrc}src_\"\n",
    "if last_time_obs:\n",
    "    name_out=name_out+f\"lastobs_\"\n",
    "else:\n",
    "    name_out=name_out+f\"{n_test_rnd}rnd_\"\n",
    "print(name_out)"
   ]
  },
  {
   "cell_type": "code",
   "execution_count": 50,
   "id": "4293bf15-2aa0-4110-a4db-288d17cb4eff",
   "metadata": {},
   "outputs": [],
   "source": [
    "aucs_df.to_csv(\"res_plot/\"+name_out+\"aucs.csv\", index=False)"
   ]
  },
  {
   "cell_type": "code",
   "execution_count": null,
   "id": "7c9db81a-8d21-46f1-8c89-8dbcbe50eb20",
   "metadata": {},
   "outputs": [],
   "source": [
    "#auc_data = pd.DataFrame(avg)\n",
    "r =pd.concat((pd.Series(avg),pd.Series(err_avg)), axis=1, keys=[\"avg\",\"err_avg\"]\n",
    "         )\n",
    "\n",
    "r = r.set_index(np.array([\"BP\",\"ANN_4lpow\",\"MF\",\"CT\"]))"
   ]
  },
  {
   "cell_type": "code",
   "execution_count": null,
   "id": "a3f013af-33f3-4298-b32e-11550feed0a7",
   "metadata": {},
   "outputs": [],
   "source": [
    "r"
   ]
  },
  {
   "cell_type": "code",
   "execution_count": null,
   "id": "07043768-87d5-4693-9b4f-659e0492973a",
   "metadata": {},
   "outputs": [],
   "source": [
    "res = aucs_df.agg(lambda x: (np.nanmean(x),\n",
    "                       np.nanstd(x)/(np.prod(x.shape)- np.isnan(x).sum())))"
   ]
  },
  {
   "cell_type": "code",
   "execution_count": null,
   "id": "c8928a46-1f49-41bc-9e46-61f727abb342",
   "metadata": {},
   "outputs": [],
   "source": [
    "v = res.T"
   ]
  },
  {
   "cell_type": "code",
   "execution_count": null,
   "id": "d8805377-9b84-4fb6-ae43-f0c3e80da44e",
   "metadata": {},
   "outputs": [],
   "source": [
    "len(v)"
   ]
  },
  {
   "cell_type": "code",
   "execution_count": null,
   "id": "f87d61a9-aed2-40d2-b0a8-0e62ca5597d8",
   "metadata": {},
   "outputs": [],
   "source": [
    "fig, ax = plt.subplots()\n",
    "x_pos=range(len(v))\n",
    "ax.errorbar(x_pos, v[0], yerr=v[1], fmt=\"o\")\n",
    "ax.set_xticks(x_pos)\n",
    "ax.set_xticklabels(v.index)"
   ]
  },
  {
   "cell_type": "code",
   "execution_count": null,
   "id": "19268fb1-3a92-44fa-9ebe-c8beb8640430",
   "metadata": {},
   "outputs": [],
   "source": [
    "v.index"
   ]
  },
  {
   "cell_type": "code",
   "execution_count": null,
   "id": "7059795e-30e4-4086-8e7e-82817ae467ba",
   "metadata": {},
   "outputs": [],
   "source": [
    "from analysis.generic import filter_nans, histo_points\n",
    "\n",
    "pdfs_aucs = {name: histo_points(filter_nans(r), bins=200)\n",
    "              for name, r in aucs_all.items()}\n",
    "#del pdfs_aucs[\"ann_psus06_lexp\"]\n",
    "plt.figure(figsize=(8,6))\n",
    "for k, dr in pdfs_aucs.items():\n",
    "    plt.plot(dr[0],dr[1].cumsum()/dr[1].sum(), label=k)\n",
    "\n",
    "plt.legend()\n"
   ]
  },
  {
   "cell_type": "code",
   "execution_count": null,
   "id": "strategic-butler",
   "metadata": {},
   "outputs": [],
   "source": [
    "probsi_margs = {name: \n",
    "            [\n",
    "                risk_pred.get_probs_inf(margs[s],final_confs[s], OBSERV_ALL[s], INSTANCES[s],\n",
    "                                       risk_pred.ResType.margs) \n",
    "                 for s in sorted(INSTANCES.keys())\n",
    "            ]\n",
    "            for name, margs in margs_all.items()}\n",
    "sel_risk = {name: \n",
    "            [\n",
    "                risk_pred.get_probs_inf(margs[s],final_confs[s], OBSERV_ALL[s], INSTANCES[s],\n",
    "                                       risk_pred.ResType.risks) \n",
    "                 for s in sorted(INSTANCES.keys())\n",
    "            ]\n",
    "            for name, margs in risks_all.items()}"
   ]
  },
  {
   "cell_type": "code",
   "execution_count": null,
   "id": "96e732a8-9098-4be6-9b44-125f2db67ada",
   "metadata": {},
   "outputs": [],
   "source": [
    "len(sel_risk[\"MF\"][3][0][0])"
   ]
  },
  {
   "cell_type": "code",
   "execution_count": null,
   "id": "65bc8ece-e052-4767-8010-f8a8d58c78e0",
   "metadata": {},
   "outputs": [],
   "source": [
    "def maxarrel(r, el=0):\n",
    "    try:\n",
    "        return max((len(f[0]) for f in r))\n",
    "    except TypeError:\n",
    "        print([(f[0]) for f in r])\n",
    "        return (len(r[0]))\n",
    "        #raise InterruptedError"
   ]
  },
  {
   "cell_type": "code",
   "execution_count": null,
   "id": "secure-indicator",
   "metadata": {},
   "outputs": [],
   "source": [
    "num_max = max([maxarrel(g) for g in sel_risk[\"MF\"]])"
   ]
  },
  {
   "cell_type": "code",
   "execution_count": null,
   "id": "914cf9ba-ca1a-47c1-a2c5-ad72a216f41e",
   "metadata": {},
   "outputs": [],
   "source": [
    "num_max = 0\n",
    "for g in sel_risk[\"MF\"]:\n",
    "    for f in g:\n",
    "        if num_max < len(f[0]):\n",
    "            num_max = len(f[0])\n",
    "            print(num_max)"
   ]
  },
  {
   "cell_type": "code",
   "execution_count": null,
   "id": "happy-fluid",
   "metadata": {},
   "outputs": [],
   "source": [
    "def count_found2(risk_i, nmax=None):\n",
    "    #print(risk_i.shape)\n",
    "    #g = np.stack(risk_i,1).astype(np.float_)\n",
    "    idx = np.argsort(risk_i[0])[::-1]\n",
    "\n",
    "    #g.view(\"f8,f8\").sort(axis=0, order=\"f0\")\n",
    "    reu = risk_i[1][idx]\n",
    "    if nmax is not None:\n",
    "        res = np.zeros(nmax)\n",
    "        #print(g[::-1][:10])\n",
    "        res[:reu.shape[0]] = reu\n",
    "        return res.cumsum()\n",
    "    else:\n",
    "        return reu.cumsum()"
   ]
  },
  {
   "cell_type": "code",
   "execution_count": null,
   "id": "divided-breast",
   "metadata": {},
   "outputs": [],
   "source": [
    "normalize = lambda x: x/np.max(x)*100"
   ]
  },
  {
   "cell_type": "code",
   "execution_count": null,
   "id": "ignored-walker",
   "metadata": {},
   "outputs": [],
   "source": [
    "risks_all.keys()"
   ]
  },
  {
   "cell_type": "code",
   "execution_count": null,
   "id": "physical-smoke",
   "metadata": {},
   "outputs": [],
   "source": []
  },
  {
   "cell_type": "code",
   "execution_count": null,
   "id": "authentic-broadway",
   "metadata": {},
   "outputs": [],
   "source": [
    "for inst in [1,2,3,4]:\n",
    "    plt.figure(figsize=(7,5))\n",
    "    for name,x in counted_probs.items():\n",
    "        plt.plot(x[inst],\"-\", label=name)\n",
    "    for name,x in counted_risk.items():\n",
    "        plt.plot(x[inst],\"-\", label=name)\n",
    "    plt.legend()\n",
    "    plt.grid(linestyle=\"--\")\n",
    "    plt.title(f\"Instance {inst}\")"
   ]
  },
  {
   "cell_type": "code",
   "execution_count": null,
   "id": "attached-particular",
   "metadata": {},
   "outputs": [],
   "source": [
    "def plot_roc(roc, *rargs, **kwargs):\n",
    "    plt.plot(roc[0], roc[1], *rargs, **kwargs)"
   ]
  },
  {
   "cell_type": "code",
   "execution_count": null,
   "id": "recorded-buddy",
   "metadata": {},
   "outputs": [],
   "source": [
    "for inst in [1,4]:\n",
    "    plt.figure(figsize=(7,5))\n",
    "    for name,x in rocs_all.items():\n",
    "        plot_roc(x[inst],\"-\", label=name)\n",
    "    for name,x in rocs_risks.items():\n",
    "        plot_roc(x[inst],\".-\", label=name)\n",
    "    plt.legend()\n",
    "    plt.grid(linestyle=\"--\")\n",
    "    plt.title(f\"Instance {inst} ROC\")"
   ]
  },
  {
   "cell_type": "code",
   "execution_count": null,
   "id": "painful-crazy",
   "metadata": {},
   "outputs": [],
   "source": [
    "np.unique(sel_risk[\"CT\"][0][0][0])"
   ]
  },
  {
   "cell_type": "code",
   "execution_count": null,
   "id": "2f4889c8-2fbb-4c2f-9dee-f48e857b435a",
   "metadata": {},
   "outputs": [],
   "source": [
    "len(sel_risk[\"CT\"][0][0][0])"
   ]
  },
  {
   "cell_type": "code",
   "execution_count": null,
   "id": "7013f4af-838c-4c4b-9a02-1865c96f60d2",
   "metadata": {
    "tags": []
   },
   "outputs": [],
   "source": [
    "TOT_POINTS = 1000\n",
    "def count_found_all(risk_i, nmax=None):\n",
    "    #print(risk_i.shape)\n",
    "    #g = np.stack(risk_i,1).astype(np.float_)\n",
    "    res_out = []\n",
    "    vals = np.unique(risk_i[0])\n",
    "    #if len(vals) < len(risk_i[0]):\n",
    "    #    print(\"Have {} less values\".format(len(risk_i[0])-len(vals)))\n",
    "    #print(len(vals),len(risk_i), end=\"\\t\")\n",
    "    for i in range(20):\n",
    "        idx = np.argsort(risk_i[0])[::-1]\n",
    "\n",
    "        #g.view(\"f8,f8\").sort(axis=0, order=\"f0\")\n",
    "        count = risk_i[1][idx]\n",
    "\n",
    "        nfind = len(count)\n",
    "\n",
    "        points = np.linspace(1,TOT_POINTS, nfind)\n",
    "        #discr_points = (points * TOT_POINTS).astype(int)\n",
    "        resu = np.zeros(TOT_POINTS+1)\n",
    "\n",
    "        resu[points.astype(int)] = count\n",
    "    \n",
    "        res_out.append(resu.cumsum())\n",
    "    return np.stack(res_out).mean(0)\n",
    "    \n",
    "    "
   ]
  },
  {
   "cell_type": "code",
   "execution_count": null,
   "id": "d0636ed6-c7c4-48d9-a739-a44e19e0e4d1",
   "metadata": {},
   "outputs": [],
   "source": [
    "normalize = lambda x: x/np.max(x)*100"
   ]
  },
  {
   "cell_type": "code",
   "execution_count": null,
   "id": "83aca9e7-89f5-4545-b661-db9a67debf56",
   "metadata": {},
   "outputs": [],
   "source": [
    "risks_all.keys()"
   ]
  },
  {
   "cell_type": "code",
   "execution_count": null,
   "id": "f499a087-3cc5-4670-b95c-e71d7bf7d433",
   "metadata": {},
   "outputs": [],
   "source": [
    "ninst=num_conf\n",
    "\n",
    "mg = lambda x,y: [normalize(count_found_all(r,y)) for r in x[:ninst]]"
   ]
  },
  {
   "cell_type": "code",
   "execution_count": null,
   "id": "441f9b6a-27f5-4189-82ab-a74f982f1592",
   "metadata": {},
   "outputs": [],
   "source": [
    "counted_probs = {\n",
    "    name: [mg(r, num_max) for r in res] for name, res in probsi_margs.items() \n",
    "}"
   ]
  },
  {
   "cell_type": "code",
   "execution_count": null,
   "id": "9c2c365d-3ad7-485b-8ae3-5971f2e333d6",
   "metadata": {},
   "outputs": [],
   "source": [
    "counted_risk = {\n",
    "    name: [mg(r, num_max) for r in res] for name, res in sel_risk.items() \n",
    "}"
   ]
  },
  {
   "cell_type": "code",
   "execution_count": null,
   "id": "ccbdbd14-74d0-4212-925a-ef95a15322a8",
   "metadata": {},
   "outputs": [],
   "source": [
    "counted_all ={}\n",
    "counted_all.update(counted_probs)\n",
    "counted_all.update(counted_risk)"
   ]
  },
  {
   "cell_type": "code",
   "execution_count": null,
   "id": "33c851f5-8419-46f9-a126-6ef4d590ce05",
   "metadata": {},
   "outputs": [],
   "source": [
    "from sklearn.metrics import auc\n",
    "\n",
    "aucs_find = {k: np.array([\n",
    "                    [auc(np.linspace(0,1,len(x)), x/100) for x in v] \n",
    "                          for v in mar ]).flatten() for k,mar in counted_all.items()}"
   ]
  },
  {
   "cell_type": "code",
   "execution_count": null,
   "id": "68f7901d-be5d-4792-b31a-b706381e20f2",
   "metadata": {},
   "outputs": [],
   "source": [
    "labels={k: \"${:4.3f} \\pm {:4.3f}$\".format(np.mean(x),np.std(x)/np.sqrt(np.prod(x.shape))) for k,x in aucs_find.items()}"
   ]
  },
  {
   "cell_type": "code",
   "execution_count": null,
   "id": "795397d1-eadb-4e94-9faa-86c7ae8e3a05",
   "metadata": {},
   "outputs": [],
   "source": [
    "{k: (np.mean(x),np.std(x)) for k,x in aucs_find.items()}"
   ]
  },
  {
   "cell_type": "code",
   "execution_count": null,
   "id": "95788739-2a72-4c6c-89cf-150f6e8e6b74",
   "metadata": {},
   "outputs": [],
   "source": [
    "{k: np.quantile(x,[.1,.25,.5,.75,.9]) for k,x in aucs_find.items()}"
   ]
  },
  {
   "cell_type": "code",
   "execution_count": null,
   "id": "09b6b73d-f60d-4c6c-8c84-74adff5e129b",
   "metadata": {},
   "outputs": [],
   "source": [
    "for k,x in aucs_find.items():\n",
    "    plt.plot(np.quantile(x,[.1,.25,.5,.75,.9]),\"+\", label=k)\n",
    "plt.legend()"
   ]
  },
  {
   "cell_type": "code",
   "execution_count": null,
   "id": "c4646fc2-63c4-4295-94ed-e750cd82c5cb",
   "metadata": {},
   "outputs": [],
   "source": [
    "res_m = {name: np.stack(x).reshape(-1,TOT_POINTS+1).mean(0) for name,x in counted_all.items()}"
   ]
  },
  {
   "cell_type": "code",
   "execution_count": null,
   "id": "b3961f29-18c5-4244-a39f-232dffcc1e43",
   "metadata": {},
   "outputs": [],
   "source": [
    "from sklearn.metrics import auc\n",
    "\n",
    "auc_risk2 = {name: auc(np.linspace(0,1,len(x)),x/100) for name,x in res_m.items()}"
   ]
  },
  {
   "cell_type": "code",
   "execution_count": null,
   "id": "6d7b0630-388e-4d04-9308-46e384123b8d",
   "metadata": {},
   "outputs": [],
   "source": [
    "plt.figure(figsize=(8,6))\n",
    "#for name,x in avg_count_probs.items():\n",
    "#    plt.plot(x, label=name)\n",
    "#    print()\n",
    "#for name,x in avg_count_risk.items():\n",
    "#    plt.plot(x, label=name)\n",
    "#plt.plot(ul.mean(0))\n",
    "x_data = np.linspace(0,100,TOT_POINTS+1)\n",
    "\n",
    "#plt.plot(x_data, res_m[\"sib_psus60\"], label=\"BP, auc: {:4.3f}\".format(auc_risk2[\"sib_psus60\"]))\n",
    "plt.plot(x_data, res_m[\"sib_psus60\"], label=\"BP, auc: {}\".format(labels[\"sib_psus60\"]))\n",
    "\n",
    "#plt.plot(x_data, res_m[\"ann_psus06_lexp\"], label=\"ANN, auc: {}\".format(labels[\"ann_psus06_lexp\"]))\n",
    "plt.plot(x_data, res_m[\"ann_psus06_4lpow\"], label=\"ANN pow, auc: {}\".format(labels[\"ann_psus06_4lpow\"]))\n",
    "\n",
    "plt.plot(x_data, res_m[\"MF\"], label=\"MF, auc: {}\".format(labels[\"MF\"]))\n",
    "plt.plot(x_data, res_m[\"CT\"], label=\"CT, auc: {}\".format(labels[\"CT\"]))\n",
    "\"\"\"\n",
    "plt.plot(x_data,res_m[\"ann_psus06_lexp\"], label=\"ANN, auc: {:4.3f}\".format(auc_risk2[\"ann_psus06_lexp\"]))\n",
    "\n",
    "\n",
    "plt.plot(x_data,res_m[\"MF\"], label=\"MF, auc: {:4.3f}\".format(auc_risk2[\"MF\"]))\n",
    "plt.plot(x_data,res_m[\"CT\"], label=\"CT, auc: {:4.3f}\".format(auc_risk2[\"CT\"]))\n",
    "\n",
    "\"\"\"\n",
    "\n",
    "plt.legend()\n",
    "plt.xlabel(\"Percentage of individuals tested\")\n",
    "plt.ylabel(\"Perc infected found on average\")\n",
    "plt.grid(linestyle=\"--\")\n",
    "plt.savefig(f\"auc_infected_{type_graph}.svg\",bbox_inches=\"tight\")"
   ]
  },
  {
   "cell_type": "code",
   "execution_count": null,
   "id": "99bc07a0-15d6-4f6b-adcf-f8d048bcd199",
   "metadata": {},
   "outputs": [],
   "source": [
    "plt.figure(figsize=(8,6))\n",
    "#for name,x in avg_count_probs.items():\n",
    "#    plt.plot(x, label=name)\n",
    "#    print()\n",
    "#for name,x in avg_count_risk.items():\n",
    "#    plt.plot(x, label=name)\n",
    "#plt.plot(ul.mean(0))\n",
    "x_data = np.linspace(0,100,TOT_POINTS+1)\n",
    "\n",
    "#plt.plot(x_data, res_m[\"sib_psus60\"], label=\"BP, auc: {:4.3f}\".format(auc_risk2[\"sib_psus60\"]))\n",
    "plt.plot(x_data, res_m[\"sib_psus60\"], label=\"BP, auc: {}\".format(labels[\"sib_psus60\"]))\n",
    "\n",
    "plt.plot(x_data, res_m[\"ann_psus06_lexp\"], label=\"ANN, auc: {}\".format(labels[\"ann_psus06_lexp\"]))\n",
    "plt.plot(x_data, res_m[\"ann_psus06_pow\"], label=\"ANN pow, auc: {}\".format(labels[\"ann_psus06_pow\"]))\n",
    "\n",
    "plt.plot(x_data, res_m[\"MF\"], label=\"MF, auc: {}\".format(labels[\"MF\"]))\n",
    "plt.plot(x_data, res_m[\"CT\"], label=\"CT, auc: {}\".format(labels[\"CT\"]))\n",
    "\"\"\"\n",
    "plt.plot(x_data,res_m[\"ann_psus06_lexp\"], label=\"ANN, auc: {:4.3f}\".format(auc_risk2[\"ann_psus06_lexp\"]))\n",
    "\n",
    "\n",
    "plt.plot(x_data,res_m[\"MF\"], label=\"MF, auc: {:4.3f}\".format(auc_risk2[\"MF\"]))\n",
    "plt.plot(x_data,res_m[\"CT\"], label=\"CT, auc: {:4.3f}\".format(auc_risk2[\"CT\"]))\n",
    "\n",
    "\"\"\"\n",
    "\n",
    "plt.legend()\n",
    "plt.xlabel(\"Percentage of individuals tested\")\n",
    "plt.ylabel(\"Perc infected found on average\")\n",
    "plt.grid(linestyle=\"--\")\n",
    "plt.savefig(f\"auc_infected_{type_graph}.svg\",bbox_inches=\"tight\")"
   ]
  },
  {
   "cell_type": "code",
   "execution_count": null,
   "id": "9eb3d90e-83ba-4500-b9a5-9e80f8adefb3",
   "metadata": {},
   "outputs": [],
   "source": [
    "alg = \"ann_psus06_lexp\"\n",
    "plt.plot(counted_all[alg][0][0])\n",
    "plt.plot(counted_all[alg][1][0])\n",
    "plt.plot(counted_all[alg][2][0])\n",
    "plt.plot(counted_all[alg][3][0])"
   ]
  },
  {
   "cell_type": "markdown",
   "id": "74d549d8-8ecf-4e84-ab08-3e1fb4be5039",
   "metadata": {},
   "source": [
    "## Patient zero"
   ]
  },
  {
   "cell_type": "code",
   "execution_count": null,
   "id": "e084539c-e5fb-41d4-ae95-3c7562f2e383",
   "metadata": {},
   "outputs": [],
   "source": [
    "sources = {s:\n",
    "    np.stack( [np.where(np.array(c[0])==1)[0] for c in mdata[\"test\"] ])\n",
    "           for s, mdata in DATA_ALL.items()}"
   ]
  },
  {
   "cell_type": "code",
   "execution_count": null,
   "id": "28ae1d00-c860-45d7-bea2-8a72e0a73d09",
   "metadata": {},
   "outputs": [],
   "source": [
    "from sklearn.metrics import auc, roc_curve"
   ]
  },
  {
   "cell_type": "code",
   "execution_count": null,
   "id": "08a26fa7-a7e8-481c-bc86-2f74da4159a2",
   "metadata": {},
   "outputs": [],
   "source": [
    "def get_source_rank(m, msources):\n",
    "    psources = m[:,0,1]\n",
    "    idx=psources.argsort()[::-1]\n",
    "\n",
    "    rg = sum(((idx == s for s in msources)))\n",
    "    #print(rg)\n",
    "    return rg.cumsum()\n",
    "\n",
    "def get_sources_auc(m, msources):\n",
    "    psources = m[:,0,1]\n",
    "    idx=psources.argsort()[::-1]\n",
    "    truey = np.zeros(psources.shape, dtype=int)\n",
    "    #rg = sum(((idx == s for s in msources)))\n",
    "    truey[msources] = 1\n",
    "    #print(rg)\n",
    "    fpr,tpr,thr= roc_curve(truey, psources)#rg.cumsum()\n",
    "    return auc(fpr,tpr)"
   ]
  },
  {
   "cell_type": "code",
   "execution_count": null,
   "id": "f92cde42-2bc1-4589-b810-be544067991e",
   "metadata": {},
   "outputs": [],
   "source": []
  },
  {
   "cell_type": "code",
   "execution_count": null,
   "id": "3a5240d1-d35b-4b28-8075-dfc4f5281683",
   "metadata": {},
   "outputs": [],
   "source": [
    "pzero_accu = {name: \n",
    "            np.stack([\n",
    "                np.array([get_source_rank(m,source) \n",
    "                          for m, source in zip(marg[s], sources[s])])\n",
    "                for s in sources.keys()\n",
    "            ]).sum(0).sum(0)\n",
    "            for name, marg in margs_all.items()}"
   ]
  },
  {
   "cell_type": "code",
   "execution_count": null,
   "id": "22eda897-1bc6-4d0d-bb51-3035dccc27f6",
   "metadata": {},
   "outputs": [],
   "source": [
    "pzero_auc = {name: \n",
    "            np.stack([\n",
    "                np.array([get_sources_auc(m,source) for m, source in zip(marg[s], sources[s])])\n",
    "                for s in sources.keys()\n",
    "            ]).mean(-1)\n",
    "            for name, marg in margs_all.items()}"
   ]
  },
  {
   "cell_type": "code",
   "execution_count": null,
   "id": "315eb846-24a7-42ac-9e12-474116a62a8f",
   "metadata": {},
   "outputs": [],
   "source": []
  },
  {
   "cell_type": "code",
   "execution_count": null,
   "id": "fdc1bbf2-8af0-4fea-b2d3-7711837f9a58",
   "metadata": {},
   "outputs": [],
   "source": [
    "for k in sorted(pzero_auc.keys()):\n",
    "    aal = pzero_auc[k]\n",
    "    print(\"{}, {:4.3f} \\pm {:4.3f} \".format(\n",
    "        k, np.nanmean(aal), np.nanstd(aal)/np.sqrt(np.prod(aal.shape)-np.isnan(aal).sum()))\n",
    "    )\n",
    "    plt.plot(aal, label=k)\n",
    "    \n",
    "plt.legend()"
   ]
  },
  {
   "cell_type": "code",
   "execution_count": null,
   "id": "441aa9bd-4cbe-4682-9cad-aff865f14645",
   "metadata": {},
   "outputs": [],
   "source": [
    "plt.figure(figsize=(7,5))\n",
    "#for name,x in avg_count_probs.items():\n",
    "#    plt.plot(x, label=name)\n",
    "#    print()\n",
    "#for name,x in avg_count_risk.items():\n",
    "#    plt.plot(x, label=name)\n",
    "#plt.plot(ul.mean(0))\n",
    "x_data = np.arange(N)\n",
    "#plt.plot(x_data,pzero_accu[\"sib_psus60\"], \"--\",label=\"BP\")\n",
    "plt.plot(x_data,pzero_accu[\"sib_psus70_psrc2\"], \"--\",label=\"BP psus07 psrc2\")\n",
    "#, auc: {:4.3f}\".format(auc_risk2[\"sib_psus60\"]))\n",
    "l = \"ann_\"\n",
    "#plt.plot(x_data,pzero_accu[\"ann_psus06_4lpow\"], label=\"ANN\")#, auc: {:4.3f}\".format(auc_risk2[\"ann_psus06Fin\"]))\n",
    "\n",
    "plt.plot(x_data,pzero_accu[\"ann_psus07_4lpow_psrc2\"], label=\"ANN psus07 psrc2\")\n",
    "#plt.plot(x_data,pzero_accu[\"ann_10kpsus06\"],\"--\", label=\"ANN 10kst\")#, auc: {:4.3f}\".format(auc_risk2[\"ann_psus06Fin\"]))\n",
    "\n",
    "#plt.plot(x_data,pzero_accu[\"ann_10kst10ks\"],\"--\", label=\"ANN 10kst 10ks\")#, auc: {:4.3f}\".format(auc_risk2[\"ann_psus06Fin\"]))\n",
    "\n",
    "#plt.plot(x_data,pzero_accu[\"ann_6kLayExp2\"],\"--\", label=\"ANN 6kst exp 2\")#, auc: {:4.3f}\".format(auc_risk2[\"ann_psus06Fin\"]))\n",
    "\n",
    "#plt.plot(res_m[\"MF_cho\"], label=\"MF cho, auc: {:4.3f}\".format(auc_risk2[\"MF_cho\"]))\n",
    "#plt.plot(res_m[\"CT_cho\"], label=\"CT cho, auc: {:4.3f}\".format(auc_risk2[\"CT_cho\"]))\n",
    "\n",
    "\n",
    "plt.legend()\n",
    "plt.ylabel(\"Sources found (cumulative)\")\n",
    "plt.xlabel(\"N individuals\")\n",
    "plt.grid(linestyle=\"--\")"
   ]
  },
  {
   "cell_type": "code",
   "execution_count": null,
   "id": "86a81b52-063a-45cb-871b-c305e8376cb4",
   "metadata": {},
   "outputs": [],
   "source": [
    "pzero_counts_df = pd.DataFrame(pzero_accu)\n",
    "pzero_counts_df.to_csv(name_out+\"pzero_count.csv\", index=False)"
   ]
  },
  {
   "cell_type": "code",
   "execution_count": null,
   "id": "8bee99a0-95df-4be0-baab-debf378c9cf8",
   "metadata": {},
   "outputs": [],
   "source": [
    "pzero_counts_df = pd.DataFrame(pzero_auc)\n",
    "pzero_counts_df.to_csv(name_out+\"pzero_aucs.csv\", index=False)"
   ]
  },
  {
   "cell_type": "code",
   "execution_count": null,
   "id": "1dbb3f88-b702-45f8-a2d8-2a5a6018e8e2",
   "metadata": {},
   "outputs": [],
   "source": []
  },
  {
   "cell_type": "markdown",
   "id": "12526bce-b4a5-4429-b76f-6fdcf5857b02",
   "metadata": {},
   "source": [
    "## Graph analysis"
   ]
  },
  {
   "cell_type": "code",
   "execution_count": null,
   "id": "cognitive-flash",
   "metadata": {},
   "outputs": [],
   "source": [
    "Gtry = DATA_ALL[2][\"G\"]"
   ]
  },
  {
   "cell_type": "code",
   "execution_count": null,
   "id": "615ee2ff-52fb-4973-8b60-ef2200482109",
   "metadata": {},
   "outputs": [],
   "source": [
    "n_edges = len(nx.DiGraph(Gtry).edges)"
   ]
  },
  {
   "cell_type": "code",
   "execution_count": null,
   "id": "rolled-bibliography",
   "metadata": {},
   "outputs": [],
   "source": [
    "Gtry"
   ]
  },
  {
   "cell_type": "code",
   "execution_count": null,
   "id": "threaded-channel",
   "metadata": {},
   "outputs": [],
   "source": [
    "Gtry = nx.random_regular_graph(6, 50)\n",
    "len(Gtry.nodes)"
   ]
  },
  {
   "cell_type": "code",
   "execution_count": null,
   "id": "hungry-colony",
   "metadata": {},
   "outputs": [],
   "source": [
    "nx.average_clustering(Gtry)"
   ]
  },
  {
   "cell_type": "code",
   "execution_count": null,
   "id": "d43e94e4-0e73-4d7b-8007-e20b8c6f06d8",
   "metadata": {},
   "outputs": [],
   "source": [
    "idx = 44\n",
    "neighs = tuple(Gtry.neighbors(idx))\n",
    "\n",
    "neighs2 = {k:tuple(Gtry.neighbors(k)) for k in neighs}\n",
    "\n",
    "neighs_f = {k:tuple(filter(lambda x : x in neighs, Gtry.neighbors(k)) ) for k in neighs}"
   ]
  },
  {
   "cell_type": "code",
   "execution_count": null,
   "id": "supreme-masters",
   "metadata": {},
   "outputs": [],
   "source": [
    "other_neighs = set()\n",
    "for i in neighs:\n",
    "    for j in neighs:\n",
    "        if i==j: \n",
    "            continue\n",
    "        res = set(neighs2[i]).intersection(neighs2[j])\n",
    "        if len(res) > 0:\n",
    "            other_neighs = other_neighs.union(res)"
   ]
  },
  {
   "cell_type": "code",
   "execution_count": null,
   "id": "developmental-citizenship",
   "metadata": {},
   "outputs": [],
   "source": [
    "comm_union = set()\n",
    "for l in neighs2.values():\n",
    "    comm_union = comm_union.union(l)"
   ]
  },
  {
   "cell_type": "code",
   "execution_count": null,
   "id": "victorian-aaron",
   "metadata": {},
   "outputs": [],
   "source": [
    "len(comm_union)"
   ]
  },
  {
   "cell_type": "code",
   "execution_count": null,
   "id": "functioning-broadway",
   "metadata": {},
   "outputs": [],
   "source": [
    "len(other_neighs)"
   ]
  },
  {
   "cell_type": "code",
   "execution_count": null,
   "id": "introductory-stranger",
   "metadata": {},
   "outputs": [],
   "source": [
    "pos = nx.spring_layout(Gtry, iterations=1000,k=3, threshold=1e-5)"
   ]
  },
  {
   "cell_type": "code",
   "execution_count": null,
   "id": "extra-lambda",
   "metadata": {},
   "outputs": [],
   "source": [
    "nx.draw(Gtry,nodelist=list(filter(lambda x: x<idx,comm_union)), pos=pos)\n",
    "nx.draw_networkx_nodes(Gtry,pos=pos, nodelist=[idx],node_color=\"red\")\n",
    "nx.draw_networkx_nodes(Gtry,pos=pos, nodelist=list(filter(lambda x: x<idx,neighs)),node_color=\"green\")"
   ]
  },
  {
   "cell_type": "code",
   "execution_count": null,
   "id": "final-lesbian",
   "metadata": {},
   "outputs": [],
   "source": [
    "nx.draw(Gtry,nodelist=list(filter(lambda x: x<idx,other_neighs)), pos=pos)\n",
    "nx.draw_networkx_nodes(Gtry,pos=pos, nodelist=[idx],node_color=\"red\")\n",
    "nx.draw_networkx_nodes(Gtry,pos=pos, nodelist=list(filter(lambda x: x<idx,neighs)),node_color=\"green\")"
   ]
  },
  {
   "cell_type": "code",
   "execution_count": null,
   "id": "acquired-adapter",
   "metadata": {},
   "outputs": [],
   "source": []
  }
 ],
 "metadata": {
  "kernelspec": {
   "display_name": "Python 3.8 (torche)",
   "language": "python",
   "name": "python38torche"
  },
  "language_info": {
   "codemirror_mode": {
    "name": "ipython",
    "version": 3
   },
   "file_extension": ".py",
   "mimetype": "text/x-python",
   "name": "python",
   "nbconvert_exporter": "python",
   "pygments_lexer": "ipython3",
   "version": "3.8.8"
  }
 },
 "nbformat": 4,
 "nbformat_minor": 5
}
