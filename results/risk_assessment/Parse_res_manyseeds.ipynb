{
 "cells": [
  {
   "cell_type": "markdown",
   "id": "palestinian-elite",
   "metadata": {},
   "source": [
    "## Parse risk assessment results"
   ]
  },
  {
   "cell_type": "code",
   "execution_count": 2,
   "id": "rubber-brazilian",
   "metadata": {},
   "outputs": [],
   "source": [
    "import numpy as np\n",
    "import numba as nb\n",
    "import pandas as pd\n",
    "\n",
    "import matplotlib.pyplot as plt\n",
    "\n",
    "import sys\n",
    "sys.path.insert(0, '../../src/')\n",
    "import networkx as nx"
   ]
  },
  {
   "cell_type": "code",
   "execution_count": 3,
   "id": "6ec541da-32c4-480d-85ef-20e6355b3f4f",
   "metadata": {},
   "outputs": [],
   "source": [
    "import io_m.libsaving as libsaving\n",
    "import io_m.io_utils as io_utils\n",
    "\n",
    "from importlib import reload\n",
    "\n",
    "from epigen import epidemy_gen\n",
    "\n",
    "from epigen import EpInstance"
   ]
  },
  {
   "cell_type": "code",
   "execution_count": null,
   "id": "cordless-transport",
   "metadata": {},
   "outputs": [],
   "source": [
    "type_graph=\"RRG\"\n",
    "#seed=7\n",
    "seed=8\n",
    "N=100\n",
    "d=10\n",
    "height=3\n",
    "lam=0.035\n",
    "mu=0.\n",
    "t_limit=15\n",
    "p_edge=1\n",
    "#sparse observ\n",
    "pr_sympt=0.5\n",
    "n_test_rnd=1\n",
    "#n_test_rnd=0\n",
    "p_test_delay=[0, 0.6,0.4]\n",
    "p_test_delay = np.array(p_test_delay)/sum(p_test_delay)\n",
    "nsrc=1\n",
    "\n",
    "gamma=None\n",
    "small_lambda_limit=0\n",
    "path_contacts=\" \""
   ]
  },
  {
   "cell_type": "code",
   "execution_count": null,
   "id": "71d87bbf-fa4c-4b15-b962-741181e1627d",
   "metadata": {},
   "outputs": [],
   "source": [
    "### NEW RRG (changed the test probabilities)\n",
    "type_graph=\"RRG\"\n",
    "#seed=7\n",
    "seed=8\n",
    "N=100\n",
    "d=10\n",
    "height=3\n",
    "lam=0.035\n",
    "#lam=0.038\n",
    "mu=0.\n",
    "t_limit=15\n",
    "p_edge=1\n",
    "#sparse observ\n",
    "pr_sympt=0.5\n",
    "n_test_rnd=1\n",
    "#n_test_rnd=0\n",
    "p_test_delay=[0, 0.4, 0.5, 0.6]\n",
    "p_test_delay = np.array(p_test_delay)/sum(p_test_delay)\n",
    "nsrc=1\n",
    "last_time_obs=False\n",
    "\n",
    "gamma=None\n",
    "small_lambda_limit=0\n",
    "path_contacts=\" \"\n",
    "scale=None\n",
    "\n",
    "seeds=range(1,101)\n"
   ]
  },
  {
   "cell_type": "code",
   "execution_count": 20,
   "id": "49e010a8-9d4f-4940-8d4f-96609c455574",
   "metadata": {},
   "outputs": [],
   "source": [
    "### NEW RRG with 2 src last obs\n",
    "CASE=\"RRG with 2 src last obs\"\n",
    "type_graph=\"RRG\"\n",
    "#seed=7\n",
    "seed=5\n",
    "N=100\n",
    "d=10\n",
    "height=3\n",
    "lam=0.03\n",
    "#lam=0.038\n",
    "mu=0.\n",
    "t_limit=15\n",
    "p_edge=1\n",
    "#sparse observ\n",
    "pr_sympt=0.5\n",
    "n_test_rnd=1\n",
    "#n_test_rnd=0\n",
    "p_test_delay=[0, 0.4, 0.5, 0.6]\n",
    "p_test_delay = np.array(p_test_delay)/sum(p_test_delay)\n",
    "nsrc=2\n",
    "\n",
    "gamma=None\n",
    "small_lambda_limit=0\n",
    "path_contacts=\" \"\n",
    "scale=None\n",
    "\n",
    "last_time_obs=True\n",
    "\n",
    "seeds=range(0,101)"
   ]
  },
  {
   "cell_type": "code",
   "execution_count": 3,
   "id": "c27fa407-70d0-4c7c-8945-e01a4417b2d0",
   "metadata": {},
   "outputs": [],
   "source": [
    "### NEW RRG with 1 src last obs\n",
    "type_graph=\"RRG\"\n",
    "#seed=7\n",
    "seed=5\n",
    "N=100\n",
    "d=10\n",
    "height=3\n",
    "lam=0.035\n",
    "#lam=0.038\n",
    "mu=0.\n",
    "t_limit=15\n",
    "p_edge=1\n",
    "#sparse observ\n",
    "pr_sympt=0.5\n",
    "n_test_rnd=1\n",
    "#n_test_rnd=0\n",
    "p_test_delay=[0, 0.4, 0.5, 0.6]\n",
    "p_test_delay = np.array(p_test_delay)/sum(p_test_delay)\n",
    "nsrc=1\n",
    "\n",
    "gamma=None\n",
    "small_lambda_limit=0\n",
    "path_contacts=\" \"\n",
    "scale=None\n",
    "CASE=\"RRG with 1 src last obs\"\n",
    "\n",
    "last_time_obs=True\n",
    "\n",
    "seeds=range(0,100)\n",
    "## mettere dopo 101"
   ]
  },
  {
   "cell_type": "raw",
   "id": "0aa54562-ea8d-400c-a2b0-4a408454900d",
   "metadata": {},
   "source": [
    "type_graph=\"proximity\"\n",
    "CASE=f\"{type_graph} with 1 src last obs\"\n",
    "\n",
    "seed=9\n",
    "N=100\n",
    "d=10\n",
    "lam=0.026\n",
    "mu=0.\n",
    "t_limit=15\n",
    "p_edge=1\n",
    "\n",
    "height=3\n",
    "\n",
    "gamma=1e-3\n",
    "small_lambda_limit=0\n",
    "path_contacts=\"../../results/patient_zero/work/work_13_contacts.npz\"\n",
    "#sparse observ\n",
    "pr_sympt=0.5\n",
    "nsrc=1\n",
    "\n",
    "scale=2\n",
    "#n_test_rnd=3\n",
    "n_test_rnd=1\n",
    "p_test_delay=[0, 0.2, 0.5,0.6]\n",
    "p_test_delay = np.array(p_test_delay)/sum(p_test_delay)\n",
    "seeds=range(0,100)\n",
    "\n",
    "last_time_obs=True"
   ]
  },
  {
   "cell_type": "code",
   "execution_count": 3,
   "id": "215b44c3-8865-408f-b0a6-49cb17a8e2c4",
   "metadata": {},
   "outputs": [],
   "source": [
    "type_graph=\"proximity\"\n",
    "CASE=f\"{type_graph} with 1 src last obs 2nd try\"\n",
    "\n",
    "seed=9\n",
    "N=100\n",
    "d=10\n",
    "lam=0.03\n",
    "mu=0.\n",
    "t_limit=15\n",
    "p_edge=1\n",
    "\n",
    "height=3\n",
    "gamma=1e-3\n",
    "small_lambda_limit=0\n",
    "path_contacts=\"../../results/patient_zero/work/work_13_contacts.npz\"\n",
    "#sparse observ\n",
    "pr_sympt=0.5\n",
    "nsrc=1\n",
    "\n",
    "scale=2\n",
    "#n_test_rnd=3\n",
    "n_test_rnd=1\n",
    "p_test_delay=[0, 0.2, 0.5,0.6]\n",
    "p_test_delay = np.array(p_test_delay)/sum(p_test_delay)\n",
    "seeds=list(range(0,100))\n",
    "#for s in range(15,20):\n",
    "#    seeds.remove(s)\n",
    "\n",
    "last_time_obs=True"
   ]
  },
  {
   "cell_type": "code",
   "execution_count": null,
   "id": "76ad8be9-1bf8-494a-9b63-402303e95822",
   "metadata": {},
   "outputs": [],
   "source": [
    "## WORK CONTACTS ONE SOURCE\n",
    "type_graph=\"i_bird\"\n",
    "seed=4\n",
    "N=100\n",
    "d=10\n",
    "height=3\n",
    "lam=0.03\n",
    "mu=0.\n",
    "t_limit=12\n",
    "p_edge=1\n",
    "nsrc=1\n",
    "\n",
    "gamma=1e-3\n",
    "small_lambda_limit=0\n",
    "path_contacts=\"../../results/patient_zero/work/work_13_contacts.npz\"\n",
    "#sparse observ\n",
    "pr_sympt=0.5\n",
    "#n_test_rnd=3\n",
    "n_test_rnd=1\n",
    "p_test_delay=[0, 0.4,0.5,0.6]\n",
    "p_test_delay = np.array(p_test_delay)/sum(p_test_delay)\n",
    "\n",
    "last_time_obs = False"
   ]
  },
  {
   "cell_type": "code",
   "execution_count": 3,
   "id": "5c122a39-53d3-4f80-a4e4-faf56f0ea45e",
   "metadata": {},
   "outputs": [],
   "source": [
    "## WORK CONTACTS 1 src LAST OBS\n",
    "type_graph=\"i_bird\"\n",
    "seeds=[6]\n",
    "N=100\n",
    "d=10\n",
    "height=3\n",
    "lam=0.03\n",
    "mu=0.\n",
    "t_limit=12\n",
    "p_edge=1\n",
    "nsrc=1\n",
    "\n",
    "gamma=1e-3\n",
    "small_lambda_limit=0\n",
    "path_contacts=\"../../results/patient_zero/work/work_13_contacts.npz\"\n",
    "#sparse observ\n",
    "pr_sympt=0.5\n",
    "#n_test_rnd=3\n",
    "n_test_rnd=0\n",
    "p_test_delay=[0, 0.4,0.5,0.6]\n",
    "p_test_delay = np.array(p_test_delay)/sum(p_test_delay)\n",
    "\n",
    "last_time_obs = True\n",
    "scale=None"
   ]
  },
  {
   "cell_type": "code",
   "execution_count": null,
   "id": "varying-platform",
   "metadata": {},
   "outputs": [],
   "source": [
    "#seeds = range(1,101)\n",
    "#seeds =range(0,101)\n",
    "#seeds=range(1,51)\n",
    "# list(range(1,20))+list(range(30,51))\n",
    "\n",
    "#seeds=range(0,80)\n",
    "\n",
    "# for RRG 2 src last obs\n",
    "#seeds=list(seeds)\n",
    "#seeds.remove(29)"
   ]
  },
  {
   "cell_type": "code",
   "execution_count": 21,
   "id": "auburn-lemon",
   "metadata": {},
   "outputs": [],
   "source": [
    "INSTANCES = {s: EpInstance(type_graph, N, d, t_limit, \n",
    "                                    lam, mu, s, float(p_edge), \n",
    "                                    n_source=nsrc) for s in seeds}"
   ]
  },
  {
   "cell_type": "code",
   "execution_count": 22,
   "id": "f6fc7176-1ec1-4cd9-afe7-97f2b1f60094",
   "metadata": {},
   "outputs": [
    {
     "data": {
      "text/plain": [
       "'RRG_n_100_d_10_tlim_15_lam_0.03_mu_0_s_1_pe_1.0_nsrc_2'"
      ]
     },
     "execution_count": 22,
     "metadata": {},
     "output_type": "execute_result"
    }
   ],
   "source": [
    "str(INSTANCES[1])"
   ]
  },
  {
   "cell_type": "code",
   "execution_count": 23,
   "id": "286f60e1-7b60-43f7-8d5f-9f45bbf53808",
   "metadata": {},
   "outputs": [],
   "source": [
    "extra_gen = {\"h\":height,\n",
    "            \"scale\":scale}\n",
    "\n",
    "extra_gen.update({\"gamma\":gamma, \n",
    "                  \"small_lambda_limit\":small_lambda_limit, \n",
    "                  \"path_contacts\": path_contacts})"
   ]
  },
  {
   "cell_type": "code",
   "execution_count": 24,
   "id": "announced-decline",
   "metadata": {},
   "outputs": [],
   "source": [
    "num_conf=1\n",
    "#num_conf=1\n",
    "start_conf=0"
   ]
  },
  {
   "cell_type": "code",
   "execution_count": 25,
   "id": "waiting-immunology",
   "metadata": {
    "tags": []
   },
   "outputs": [],
   "source": [
    "%%capture\n",
    "reload(epidemy_gen)\n",
    "DATA_ALL = {s: \n",
    "            epidemy_gen.epidemy_gen_epinstance(inst, \n",
    "                                               lim_infected=1, num_conf=num_conf,\n",
    "                                               extra_gen=extra_gen, \n",
    "                                               verbose=False,\n",
    "                                              num_sources=nsrc) \n",
    "            for s, inst in INSTANCES.items()}"
   ]
  },
  {
   "cell_type": "code",
   "execution_count": 26,
   "id": "2a8babd3-b8ea-4de2-8465-bc5a2827d837",
   "metadata": {},
   "outputs": [
    {
     "name": "stderr",
     "output_type": "stream",
     "text": [
      "/home/fmazza/app/miniconda3/envs/torche/lib/python3.8/site-packages/IPython/core/interactiveshell.py:3437: FutureWarning: arrays to stack must be passed as a \"sequence\" type such as list or tuple. Support for non-sequence iterables such as generators is deprecated as of NumPy 1.16 and will raise an error in the future.\n",
      "  exec(code_obj, self.user_global_ns, self.user_ns)\n"
     ]
    }
   ],
   "source": [
    "confs={s: np.array(mdata[\"test\"]) for s, mdata in DATA_ALL.items()}\n",
    "\n",
    "final_confs = {\n",
    "    s: c[...,1,:] for s, c in confs.items()\n",
    "} #np.stack(tuple(confs.values()) )[...,1,:]\n",
    "\n",
    "\n",
    "idx_source = {k: np.stack((np.where(c[0]==1)[0] for c in x)) for k, x in confs.items()}"
   ]
  },
  {
   "cell_type": "code",
   "execution_count": 27,
   "id": "5ece1d5c-6fd2-4ce3-991e-20b06c388566",
   "metadata": {},
   "outputs": [
    {
     "data": {
      "image/png": "[encoded data removed]",
      "text/plain": [
       "<Figure size 432x288 with 1 Axes>"
      ]
     },
     "metadata": {
      "needs_background": "light"
     },
     "output_type": "display_data"
    },
    {
     "data": {
      "image/png": "[encoded data removed]",
      "text/plain": [
       "<Figure size 432x288 with 1 Axes>"
      ]
     },
     "metadata": {
      "needs_background": "light"
     },
     "output_type": "display_data"
    }
   ],
   "source": [
    "r = np.stack(tuple(final_confs.values())).sum(-1).flatten()\n",
    "plt.figure()\n",
    "plt.hist(r,bins=max(r)+1)\n",
    "\n",
    "plt.figure()\n",
    "x,vals = np.unique(r, return_counts=True)\n",
    "allvals = np.zeros(max(x)+1)\n",
    "allvals[x] = vals\n",
    "plt.plot(allvals.cumsum(),\".--\")\n",
    "plt.grid()"
   ]
  },
  {
   "cell_type": "code",
   "execution_count": 28,
   "id": "a68bbd17-dd27-4b52-adf1-d9807f29de2f",
   "metadata": {},
   "outputs": [],
   "source": [
    "Nfin_real = np.stack([ [(fin_conf==i).sum(-1) for i in range(3)] \n",
    "                      for s, fin_conf in final_confs.items()],1).reshape(3,-1).T"
   ]
  },
  {
   "cell_type": "code",
   "execution_count": 29,
   "id": "1e8b4f07-dc60-4f48-9d01-e649c16f2c36",
   "metadata": {},
   "outputs": [
    {
     "data": {
      "text/plain": [
       "(101, 3)"
      ]
     },
     "execution_count": 29,
     "metadata": {},
     "output_type": "execute_result"
    }
   ],
   "source": [
    "Nfin_real.shape"
   ]
  },
  {
   "cell_type": "code",
   "execution_count": 30,
   "id": "37e6d92e-a576-4477-b293-ac8de4c79999",
   "metadata": {},
   "outputs": [],
   "source": [
    "from io_m import read_results\n",
    "\n",
    "from epigen import generators\n",
    "\n",
    "from analysis import risk_pred\n",
    "\n",
    "from epigen import gen_observ"
   ]
  },
  {
   "cell_type": "code",
   "execution_count": 31,
   "id": "5c104105-0802-4ce3-8773-dc725c46a351",
   "metadata": {},
   "outputs": [
    {
     "data": {
      "text/plain": [
       "(<function __main__.<lambda>(dat, t, s)>, True)"
      ]
     },
     "execution_count": 31,
     "metadata": {},
     "output_type": "execute_result"
    }
   ],
   "source": [
    "if last_time_obs:\n",
    "    test_gen = lambda dat, t, s: gen_observ.make_sparse_obs_last_t(\n",
    "                                            dat,t, pr_sympt,seed=s,\n",
    "                                               verbose=False, numeric_obs=True)\n",
    "else:\n",
    "    test_gen = lambda dat, t, s: gen_observ.make_sparse_obs_default(\n",
    "                        dat, t, n_test_rnd,\n",
    "                        seed=s,\n",
    "                        pr_sympt=pr_sympt, \n",
    "                        p_test_delay=p_test_delay, \n",
    "                    verbose=False, numeric_obs=True)\n",
    "\n",
    "test_gen, last_time_obs"
   ]
  },
  {
   "cell_type": "code",
   "execution_count": 32,
   "id": "12b5fcf3-a006-4d1e-86f1-962499471acf",
   "metadata": {},
   "outputs": [
    {
     "data": {
      "text/plain": [
       "101"
      ]
     },
     "execution_count": 32,
     "metadata": {},
     "output_type": "execute_result"
    }
   ],
   "source": [
    "len(DATA_ALL)"
   ]
  },
  {
   "cell_type": "code",
   "execution_count": 33,
   "id": "classical-color",
   "metadata": {},
   "outputs": [],
   "source": [
    "EPIDEMIES = {s: generators.calc_epidemies(mdata[\"epidemy\"], mdata[\"test\"], t_limit) \n",
    "             for s, mdata in DATA_ALL.items()}\n",
    "\"\"\"\n",
    "rdf, rjson = gen_observ.make_sparse_obs_default(mdata, INSTANCE.t_limit, \n",
    "                                               n_test_rnd, pr_sympt, \n",
    "                                               p_test_delay,seed, False, numeric_obs=True)\n",
    "\"\"\"\n",
    "##LAST TIME\n",
    "\n",
    "OBSERV_ALL = {s:\n",
    "              test_gen(mdata, INSTANCES[s].t_limit, s=s,)[0] \n",
    "            for s, mdata in DATA_ALL.items()}"
   ]
  },
  {
   "cell_type": "code",
   "execution_count": 34,
   "id": "222373cc-7025-4223-92a1-34e5b55ca9c2",
   "metadata": {},
   "outputs": [],
   "source": [
    "OBS_STATS = pd.concat([epidemy_gen.make_stats_observ(np.array(DATA_ALL[s][\"test\"]),\n",
    "                                 OBSERV_ALL[s], obs_key=\"obs\") \n",
    " for s in sorted(DATA_ALL.keys())], ignore_index=True)"
   ]
  },
  {
   "cell_type": "code",
   "execution_count": 37,
   "id": "675f5e29-3e91-4608-b6cf-0e6bd965bd13",
   "metadata": {},
   "outputs": [],
   "source": [
    "OBS_STATS[\"seed\"] = sorted(DATA_ALL.keys())"
   ]
  },
  {
   "cell_type": "code",
   "execution_count": 38,
   "id": "aafbc9e7-10bc-4101-82c9-814f4b417877",
   "metadata": {},
   "outputs": [
    {
     "data": {
      "image/png": "[encoded data removed]",
      "text/plain": [
       "<Figure size 432x288 with 1 Axes>"
      ]
     },
     "metadata": {
      "needs_background": "light"
     },
     "output_type": "display_data"
    }
   ],
   "source": [
    "OBS_STATS.plot(x=\"seed\",y=[\"num_inf_guess\"], style=\".\")\n",
    "plt.grid()"
   ]
  },
  {
   "cell_type": "code",
   "execution_count": 39,
   "id": "5a3d7a27-c202-47f3-8fff-855245c78d34",
   "metadata": {},
   "outputs": [
    {
     "data": {
      "text/html": [
       "<div>\n",
       "<style scoped>\n",
       "    .dataframe tbody tr th:only-of-type {\n",
       "        vertical-align: middle;\n",
       "    }\n",
       "\n",
       "    .dataframe tbody tr th {\n",
       "        vertical-align: top;\n",
       "    }\n",
       "\n",
       "    .dataframe thead th {\n",
       "        text-align: right;\n",
       "    }\n",
       "</style>\n",
       "<table border=\"1\" class=\"dataframe\">\n",
       "  <thead>\n",
       "    <tr style=\"text-align: right;\">\n",
       "      <th></th>\n",
       "      <th>num_inf</th>\n",
       "      <th>num_inf_obs</th>\n",
       "      <th>num_inf_guess</th>\n",
       "      <th>sources</th>\n",
       "      <th>seed</th>\n",
       "    </tr>\n",
       "  </thead>\n",
       "  <tbody>\n",
       "    <tr>\n",
       "      <th>45</th>\n",
       "      <td>6</td>\n",
       "      <td>6</td>\n",
       "      <td>0</td>\n",
       "      <td>[34, 53]</td>\n",
       "      <td>45</td>\n",
       "    </tr>\n",
       "  </tbody>\n",
       "</table>\n",
       "</div>"
      ],
      "text/plain": [
       "    num_inf  num_inf_obs  num_inf_guess   sources  seed\n",
       "45        6            6              0  [34, 53]    45"
      ]
     },
     "execution_count": 39,
     "metadata": {},
     "output_type": "execute_result"
    }
   ],
   "source": [
    "OBS_STATS[OBS_STATS.num_inf_guess < 2]"
   ]
  },
  {
   "cell_type": "markdown",
   "id": "binding-charge",
   "metadata": {},
   "source": [
    "## Read marginals"
   ]
  },
  {
   "cell_type": "code",
   "execution_count": 40,
   "id": "identified-diesel",
   "metadata": {},
   "outputs": [],
   "source": [
    "from io_m import read_results"
   ]
  },
  {
   "cell_type": "code",
   "execution_count": 41,
   "id": "secure-organizer",
   "metadata": {},
   "outputs": [],
   "source": [
    "def load_many_inst(method, folder, instances, *args, **kwargs):\n",
    "    #if \"legacy\" in kwargs.keys():\n",
    "    #    for inst in \n",
    "    return {s: method(folder, inst, *args,**kwargs) for s, inst in instances.items()}"
   ]
  },
  {
   "cell_type": "code",
   "execution_count": 42,
   "id": "executed-friendship",
   "metadata": {},
   "outputs": [],
   "source": [
    "margs_all = {}"
   ]
  },
  {
   "cell_type": "code",
   "execution_count": 43,
   "id": "66c3ff2c-a0f8-44ec-956e-fcd329ef9e9b",
   "metadata": {},
   "outputs": [
    {
     "data": {
      "text/plain": [
       "<module 'io_m.read_results' from '../../src/io_m/read_results.py'>"
      ]
     },
     "execution_count": 43,
     "metadata": {},
     "output_type": "execute_result"
    }
   ],
   "source": [
    "reload(read_results)"
   ]
  },
  {
   "cell_type": "code",
   "execution_count": 44,
   "id": "czech-parade",
   "metadata": {},
   "outputs": [],
   "source": [
    "for inst in INSTANCES.values():\n",
    "    inst.p_edge=float(inst.p_edge)"
   ]
  },
  {
   "cell_type": "code",
   "execution_count": 45,
   "id": "30a47565-819b-4fa7-b28a-6abaed26debf",
   "metadata": {},
   "outputs": [],
   "source": [
    "confs_load=(start_conf,num_conf)"
   ]
  },
  {
   "cell_type": "code",
   "execution_count": 46,
   "id": "8ec88a4a-14f0-4bf5-ace1-77c4ff1bf258",
   "metadata": {},
   "outputs": [],
   "source": [
    "pars_run = {}"
   ]
  },
  {
   "cell_type": "code",
   "execution_count": 47,
   "id": "667c3f13-46b5-4cf7-9e82-aa131da9f51d",
   "metadata": {},
   "outputs": [
    {
     "name": "stdout",
     "output_type": "stream",
     "text": [
      "RRG_lastobs_\n"
     ]
    }
   ],
   "source": [
    "if not last_time_obs:\n",
    "    name = f\"{type_graph}_{n_test_rnd}rnd_\" #psus06_\"\n",
    "else:\n",
    "    name = f\"{type_graph}_lastobs_\"#psus06_\"\n",
    "print(name)\n",
    "    \n",
    "folder=f\"sib/{type_graph}_{nsrc}src/\"\n",
    "#folder=f\"sib/{INSTANCE.type_graph}_nsrc{nsrc}/\""
   ]
  },
  {
   "cell_type": "raw",
   "id": "02777afd-85e9-4ff9-8766-eaae28f0345e",
   "metadata": {},
   "source": [
    "name_psus06=name+\"psus06_\"\n",
    "margs_all[\"sib_psus60\"] =load_many_inst(read_results.read_sib_data_def,\n",
    "                                        #\"sib/{type_graph}_nsrc1/\",\n",
    "                                        f\"sib/{type_graph}_{nsrc}src/\",\n",
    "                                        #f\"sib/{type_graph}/\",\n",
    "                                        INSTANCES, height, name_psus06,\n",
    "                                        range_confs=confs_load, outprint=False)"
   ]
  },
  {
   "cell_type": "code",
   "execution_count": 28,
   "id": "99f31e61-667b-4187-9fb6-36c201433279",
   "metadata": {},
   "outputs": [],
   "source": [
    "## sib"
   ]
  },
  {
   "cell_type": "code",
   "execution_count": 48,
   "id": "d950299f-853c-47a5-8194-5df82c34a0e5",
   "metadata": {},
   "outputs": [],
   "source": [
    "margs_all[\"sib_psus70_psrc2\"] =load_many_inst(read_results.read_sib_data_def,\n",
    "                                        #\"sib/{type_graph}_nsrc1/\",\n",
    "                                        f\"sib/{type_graph}_{nsrc}src/\",\n",
    "                                        #f\"sib/{type_graph}/\",\n",
    "                                        INSTANCES, height, name+\"psus07_psrc2_\",\n",
    "                                        range_confs=confs_load, outprint=False)"
   ]
  },
  {
   "cell_type": "code",
   "execution_count": 29,
   "id": "55d0a752-5b79-49fe-8380-5473269ac588",
   "metadata": {},
   "outputs": [],
   "source": [
    "## sib work\n",
    "margs_all[\"sib_psus70_psrc2\"] =load_many_inst(read_results.read_sib_data_def,\n",
    "                                        #\"sib/{type_graph}_nsrc1/\",\n",
    "                                        f\"sib/{type_graph}_{nsrc}src/\",\n",
    "                                        #f\"sib/{type_graph}/\",\n",
    "                                        INSTANCES, height, name+\"psus07_src2_\",\n",
    "                                        range_confs=confs_load, outprint=False)"
   ]
  },
  {
   "cell_type": "markdown",
   "id": "2924adc8-1d5f-43c3-8d5c-a2ce30a3c0ca",
   "metadata": {},
   "source": [
    "### ANN RRG 1 src random obs in time"
   ]
  },
  {
   "cell_type": "code",
   "execution_count": null,
   "id": "13301a76-5f9b-487f-b639-11aafc720b94",
   "metadata": {},
   "outputs": [],
   "source": [
    "margs_all[\"ann_psus06_lexp\"] = load_many_inst(read_results.read_margs_inst,\n",
    "                                        f\"ann/good_new/{type_graph}_SI\",\n",
    "                                        INSTANCES,\n",
    "                                        prefix=f\"10kst10ks_{n_test_rnd}rnd_6lexp_\",\n",
    "                                        #prefix=f\"psrc4_{n_test_rnd}rnd_newfin06Bal_\",\n",
    "                                        n_end=num_conf)"
   ]
  },
  {
   "cell_type": "code",
   "execution_count": null,
   "id": "a2f0ddb1-42fe-40bc-ba25-f512c1f4e511",
   "metadata": {},
   "outputs": [],
   "source": [
    "instances_ann_1 = {k: INSTANCES[k] for k in filter(lambda x: x < 51, INSTANCES.keys())}\n",
    "instances_ann_2 = {k: INSTANCES[k] for k in filter(lambda x: x >= 51, INSTANCES.keys())}"
   ]
  },
  {
   "cell_type": "code",
   "execution_count": null,
   "id": "white-consideration",
   "metadata": {
    "tags": []
   },
   "outputs": [],
   "source": [
    "for inst in instances_ann_1.values():\n",
    "    inst.legacy(False)\n",
    "margs_all[\"ann_psus06_4lpow\"] = load_many_inst(read_results.read_margs_inst,\n",
    "                                        f\"ann/good_new/{type_graph}_SI\",\n",
    "                                        INSTANCES,\n",
    "                                        prefix=f\"10kst10ks_{n_test_rnd}rnd_4lpow2_\",\n",
    "                                        #prefix=f\"psrc4_{n_test_rnd}rnd_newfin06Bal_\",\n",
    "                                        range_confs=confs_load)\n",
    "for inst in instances_ann_1.values():\n",
    "    inst.legacy(True)"
   ]
  },
  {
   "cell_type": "markdown",
   "id": "0939f443-7819-40e0-bc91-3d0a7040fb9c",
   "metadata": {},
   "source": [
    "## ANN RRG 1 src last obs"
   ]
  },
  {
   "cell_type": "code",
   "execution_count": null,
   "id": "58ac0cd1-6688-49af-bf70-a099d2d03310",
   "metadata": {
    "tags": []
   },
   "outputs": [],
   "source": [
    "margs_all[\"ann_psus06_4lpow\"] = load_many_inst(read_results.read_margs_inst,\n",
    "                                        f\"ann/good_new/{type_graph}_{nsrc}src\",\n",
    "                                        INSTANCES,\n",
    "                                        prefix=f\"10kst10ks_lastobs_4lpow_\",\n",
    "                                        #prefix=f\"psrc4_{n_test_rnd}rnd_newfin06Bal_\",\n",
    "                                        range_confs=confs_load, outprint=False)"
   ]
  },
  {
   "cell_type": "code",
   "execution_count": 28,
   "id": "549c2251-6752-4b27-8c62-155be8180d6b",
   "metadata": {
    "tags": []
   },
   "outputs": [],
   "source": [
    "margs_all[\"ann_psus07_4lpow_psrc2\"] = load_many_inst(read_results.read_margs_inst,\n",
    "                                        f\"ann/good_new/{type_graph}_{nsrc}src\",\n",
    "                                        INSTANCES,\n",
    "                                        prefix=\"10kst10ks_lastobs_4lpow_psus07_psrc2_\",\n",
    "                                        #prefix=f\"psrc4_{n_test_rnd}rnd_newfin06Bal_\",\n",
    "                                        range_confs=confs_load, outprint=False)"
   ]
  },
  {
   "cell_type": "code",
   "execution_count": 43,
   "id": "63b9204e-bc36-4415-acad-22d8bf549774",
   "metadata": {
    "tags": []
   },
   "outputs": [],
   "source": [
    "margs_all[\"ann_psus07_3lpow_psrc2\"] = load_many_inst(read_results.read_margs_inst,\n",
    "                                        f\"ann/RRG_1src/3lpow1/\",\n",
    "                                        INSTANCES,\n",
    "                                        prefix=\"10kst10ks_lastobs_psus07_psrc2_\",\n",
    "                                        #prefix=f\"psrc4_{n_test_rnd}rnd_newfin06Bal_\",\n",
    "                                        range_confs=confs_load, outprint=False)"
   ]
  },
  {
   "cell_type": "markdown",
   "id": "232626de-94a1-4097-b338-35f3f1f6d0e0",
   "metadata": {},
   "source": [
    "## ANN RRG 2 src last obs"
   ]
  },
  {
   "cell_type": "raw",
   "id": "5b588204-9166-48f9-8608-035666ced09c",
   "metadata": {
    "tags": []
   },
   "source": [
    "margs_all[\"ann_psus06_4lpow\"] = load_many_inst(read_results.read_margs_inst,\n",
    "                                        f\"ann/good_new/{type_graph}_{nsrc}src\",\n",
    "                                        INSTANCES,\n",
    "                                        prefix=f\"10kst10ks_lastobs_4lpow_\",\n",
    "                                        #prefix=f\"psrc4_{n_test_rnd}rnd_newfin06Bal_\",\n",
    "                                        range_confs=confs_load, outprint=False)"
   ]
  },
  {
   "cell_type": "code",
   "execution_count": 49,
   "id": "6b486f5c-ecd1-48b5-a161-da7ca0e19113",
   "metadata": {
    "tags": []
   },
   "outputs": [],
   "source": [
    "margs_all[\"ann_psus07_4lpow_psrc2\"] = load_many_inst(read_results.read_margs_inst,\n",
    "                                        f\"ann/good_new/{type_graph}_{nsrc}src\",\n",
    "                                        INSTANCES,\n",
    "                                        prefix=f\"10kst10ks_lastobs_4lpow_psus07_psrc2_\",\n",
    "                                        #prefix=f\"psrc4_{n_test_rnd}rnd_newfin06Bal_\",\n",
    "                                        range_confs=confs_load, outprint=False)"
   ]
  },
  {
   "cell_type": "code",
   "execution_count": 50,
   "id": "48e0a11c-163b-468a-a8a8-0620450fec67",
   "metadata": {
    "tags": []
   },
   "outputs": [],
   "source": [
    "margs_all[\"ann_psus07_3lpow_psrc2\"] = load_many_inst(read_results.read_margs_inst,\n",
    "                                        f\"ann/{type_graph}_{nsrc}src/3lpow1/\",\n",
    "                                        INSTANCES,\n",
    "                                        prefix=f\"10kst10ks_lastobs_psus07_psrc2_\",\n",
    "                                        #prefix=f\"psrc4_{n_test_rnd}rnd_newfin06Bal_\",\n",
    "                                        range_confs=confs_load, outprint=False)"
   ]
  },
  {
   "cell_type": "code",
   "execution_count": null,
   "id": "d534b6c8-b862-4d8c-a6c6-25bc7696d09b",
   "metadata": {},
   "outputs": [],
   "source": []
  },
  {
   "cell_type": "code",
   "execution_count": null,
   "id": "44d527a3-dd0d-4438-85aa-dc347d11fc24",
   "metadata": {},
   "outputs": [],
   "source": [
    "margs_all.keys()"
   ]
  },
  {
   "cell_type": "markdown",
   "id": "6115f952-0dc1-43ff-ac48-745b138c014b",
   "metadata": {},
   "source": [
    "## ANN proximity 1 src last obs"
   ]
  },
  {
   "cell_type": "code",
   "execution_count": 31,
   "id": "d8b7127c-89aa-4296-a3ec-26803843da48",
   "metadata": {
    "tags": []
   },
   "outputs": [],
   "source": [
    "margs_all[\"ann_psus07_4lpow_psrc2\"] = load_many_inst(read_results.read_margs_inst,\n",
    "                                        f\"ann/good_new/{type_graph}_{nsrc}src\",\n",
    "                                        INSTANCES,\n",
    "                                        prefix=f\"10kst10ks_lastobs_4lpow_psus07_psrc2_\",\n",
    "                                        #prefix=f\"psrc4_{n_test_rnd}rnd_newfin06Bal_\",\n",
    "                                        range_confs=confs_load, outprint=False)"
   ]
  },
  {
   "cell_type": "code",
   "execution_count": 32,
   "id": "4125b319-1c03-4398-a6c5-7d134db9cd63",
   "metadata": {
    "tags": []
   },
   "outputs": [],
   "source": [
    "margs_all[\"ann_psus07_3lpow_psrc2\"] = load_many_inst(read_results.read_margs_inst,\n",
    "                                        f\"ann/proximity_1src/lastobs\",\n",
    "                                        INSTANCES,\n",
    "                                        prefix=f\"10kst10ks_3lpow1_psus07_psrc2_\",\n",
    "                                        #prefix=f\"psrc4_{n_test_rnd}rnd_newfin06Bal_\",\n",
    "                                        range_confs=confs_load, outprint=False)"
   ]
  },
  {
   "cell_type": "markdown",
   "id": "0e3baff0-3ae7-4294-ae37-78211de929d8",
   "metadata": {},
   "source": [
    "### ANN Work 1 src last obs"
   ]
  },
  {
   "cell_type": "code",
   "execution_count": 30,
   "id": "010fda4a-a0ea-4074-a627-01088c56f621",
   "metadata": {},
   "outputs": [
    {
     "name": "stdout",
     "output_type": "stream",
     "text": [
      "/home/fmazza/projects/epi_nn_new/nnepi_res/results/risk_assessment/ann/good_new/i_bird_1src\n",
      "range(0, 100)\n"
     ]
    }
   ],
   "source": [
    "margs_all[\"ann_psus07_4lpow_psrc2\"] = load_many_inst(read_results.read_margs_inst,\n",
    "                                        \"ann/good_new/i_bird_1src/\",\n",
    "                                        INSTANCES,\n",
    "                                        prefix=f\"10kst10ks_lastobs_4lpow_psus07_psrc2_\",\n",
    "                                        #prefix=f\"psrc4_{n_test_rnd}rnd_newfin06Bal_\",\n",
    "                                        range_confs=confs_load, outprint=True)\n"
   ]
  },
  {
   "cell_type": "code",
   "execution_count": 31,
   "id": "da8a6e61-2d5c-4e15-8f55-531862f4e525",
   "metadata": {},
   "outputs": [
    {
     "name": "stdout",
     "output_type": "stream",
     "text": [
      "/home/fmazza/projects/epi_nn_new/nnepi_res/results/risk_assessment/ann/i_bird_1src/3lpow1\n",
      "range(0, 100)\n"
     ]
    }
   ],
   "source": [
    "margs_all[\"ann_psus07_3lpow_psrc2\"] = load_many_inst(read_results.read_margs_inst,\n",
    "                                        \"ann/i_bird_1src/3lpow1/\",\n",
    "                                        INSTANCES,\n",
    "                                        prefix=f\"10kst10ks_lastobs_psus07_psrc2_\",\n",
    "                                        #prefix=f\"psrc4_{n_test_rnd}rnd_newfin06Bal_\",\n",
    "                                        range_confs=confs_load, outprint=True)\n"
   ]
  },
  {
   "cell_type": "code",
   "execution_count": 32,
   "id": "5efcdcee-476f-4a39-9c0d-51654d5e5007",
   "metadata": {},
   "outputs": [
    {
     "name": "stdout",
     "output_type": "stream",
     "text": [
      "/home/fmazza/projects/epi_nn_new/nnepi_res/results/risk_assessment/ann/i_bird_1src/3lpow1\n",
      "range(0, 100)\n"
     ]
    }
   ],
   "source": [
    "pars_run[\"ann_psus07_3lpow_psrc2\"] = load_many_inst(read_results.read_params_inst,\n",
    "                                        \"ann/i_bird_1src/3lpow1/\",\n",
    "                                        INSTANCES,\n",
    "                                        prefix=f\"10kst10ks_lastobs_psus07_psrc2_\",\n",
    "                                        #prefix=f\"psrc4_{n_test_rnd}rnd_newfin06Bal_\",\n",
    "                                        range_confs=confs_load, outprint=True)\n"
   ]
  },
  {
   "cell_type": "code",
   "execution_count": 33,
   "id": "567c2d60-ca00-4088-85c4-07349a0e3777",
   "metadata": {},
   "outputs": [
    {
     "name": "stdout",
     "output_type": "stream",
     "text": [
      "/home/fmazza/projects/epi_nn_new/nnepi_res/results/risk_assessment/ann/i_bird_1src/deep_eq\n",
      "range(0, 100)\n"
     ]
    }
   ],
   "source": [
    "margs_all[\"ann_psus07_deepeq_psrc2\"] = load_many_inst(read_results.read_margs_inst,\n",
    "                                        \"ann/i_bird_1src/deep_eq/\",\n",
    "                                        INSTANCES,\n",
    "                                        prefix=f\"10kst10ks_lastobs_psus07_psrc2_\",\n",
    "                                        #prefix=f\"psrc4_{n_test_rnd}rnd_newfin06Bal_\",\n",
    "                                        range_confs=confs_load, outprint=True)\n"
   ]
  },
  {
   "cell_type": "code",
   "execution_count": 34,
   "id": "bd09dc15-b812-4f3b-97b8-bc2780b0dfef",
   "metadata": {},
   "outputs": [
    {
     "name": "stdout",
     "output_type": "stream",
     "text": [
      "/home/fmazza/projects/epi_nn_new/nnepi_res/results/risk_assessment/ann/i_bird_1src/deep_eq\n",
      "range(0, 100)\n"
     ]
    }
   ],
   "source": [
    "pars_run[\"ann_psus07_deepeq_psrc2\"] = load_many_inst(read_results.read_params_inst,\n",
    "              \"ann/i_bird_1src/deep_eq/\",\n",
    "                                        INSTANCES,\n",
    "                                        prefix=f\"10kst10ks_lastobs_psus07_psrc2_\",\n",
    "                                        #prefix=f\"psrc4_{n_test_rnd}rnd_newfin06Bal_\",\n",
    "                                        range_confs=confs_load, outprint=True)"
   ]
  },
  {
   "cell_type": "markdown",
   "id": "increased-prior",
   "metadata": {},
   "source": [
    "## Read risks from estimators"
   ]
  },
  {
   "cell_type": "code",
   "execution_count": 51,
   "id": "modular-spokesman",
   "metadata": {},
   "outputs": [],
   "source": [
    "reload(read_results)\n",
    "risks_all = {}"
   ]
  },
  {
   "cell_type": "code",
   "execution_count": 52,
   "id": "f6d216f8-4c4f-4994-a8fe-7dcfec971ecb",
   "metadata": {},
   "outputs": [
    {
     "name": "stdout",
     "output_type": "stream",
     "text": [
      "lastobs_tau4_d10_\n"
     ]
    }
   ],
   "source": [
    "if last_time_obs:\n",
    "    name_rankers=f\"lastobs_tau4_d10_\"\n",
    "else:\n",
    "    name_rankers=f\"{n_test_rnd}rnd_tau4_d10_\"\n",
    "print(name_rankers)"
   ]
  },
  {
   "cell_type": "code",
   "execution_count": 53,
   "id": "dimensional-pleasure",
   "metadata": {
    "tags": []
   },
   "outputs": [],
   "source": [
    "risks_all[\"MF\"] = load_many_inst(read_results.read_risk_inst,\n",
    "                                 #f\"rankers/good_new/{type_graph}\",\n",
    "                                 f\"rankers/good/{type_graph}_{nsrc}src\",\n",
    "                                            INSTANCES, \"MF\",\n",
    "                                            prefix=name_rankers,\n",
    "                                            range_confs=confs_load, outprint=False)"
   ]
  },
  {
   "cell_type": "code",
   "execution_count": 54,
   "id": "38ab3c9a-553d-4bd9-bbd4-37333a3da599",
   "metadata": {
    "tags": []
   },
   "outputs": [],
   "source": [
    "risks_all[\"CT\"] = load_many_inst(read_results.read_risk_inst,\n",
    "                                 #f\"rankers/good_new/{type_graph}\",\n",
    "                                 f\"rankers/good/{type_graph}_{nsrc}src\",\n",
    "                                            INSTANCES, \"CT\",\n",
    "                                            prefix=name_rankers,\n",
    "                                            range_confs=confs_load, outprint=False)"
   ]
  },
  {
   "cell_type": "code",
   "execution_count": 55,
   "id": "developmental-township",
   "metadata": {},
   "outputs": [],
   "source": [
    "def calc_all_rocs(margs, fin_conf, obs_all_df, instance):\n",
    "    margs_diff =[]\n",
    "    for i, conf_fin in enumerate(fin_conf):\n",
    "        nidx = get_obs_idx(obs_all_df[i])\n",
    "        sel_idx = set(range(instance.n)).difference(nidx)\n",
    "        errs = get_err_rocs(margs[i], sel_idx, conf_fin)\n",
    "        margs_diff.append(np.array(errs))\n",
    "        \n",
    "    return margs_diff"
   ]
  },
  {
   "cell_type": "code",
   "execution_count": null,
   "id": "34b8d079-91ab-4224-b1fa-3d245b9da588",
   "metadata": {},
   "outputs": [],
   "source": []
  },
  {
   "cell_type": "markdown",
   "id": "c193b30f-d8ab-48de-913c-1ece04baec2e",
   "metadata": {},
   "source": [
    "## Parameters"
   ]
  },
  {
   "cell_type": "code",
   "execution_count": 56,
   "id": "04b70dc2-9e59-4d85-bf92-e9da690b6a3d",
   "metadata": {},
   "outputs": [],
   "source": [
    "num_pars_all = {nam:\n",
    "    np.array(tuple([g[\"extra\"][\"num_parameters\"] for g in v]\n",
    "     for k,v in paaa.items()))\n",
    "                for nam,paaa in pars_run.items()\n",
    "}"
   ]
  },
  {
   "cell_type": "code",
   "execution_count": 57,
   "id": "f695e520-2457-45b3-8bad-037de06db6af",
   "metadata": {},
   "outputs": [
    {
     "ename": "KeyError",
     "evalue": "'ann_psus07_deepeq_psrc2'",
     "output_type": "error",
     "traceback": [
      "\u001b[0;31m---------------------------------------------------------------------------\u001b[0m",
      "\u001b[0;31mKeyError\u001b[0m                                  Traceback (most recent call last)",
      "\u001b[0;32m<ipython-input-57-60e6e2f420a4>\u001b[0m in \u001b[0;36m<module>\u001b[0;34m\u001b[0m\n\u001b[0;32m----> 1\u001b[0;31m \u001b[0mr\u001b[0m\u001b[0;34m=\u001b[0m \u001b[0mnum_pars_all\u001b[0m\u001b[0;34m[\u001b[0m\u001b[0;34m\"ann_psus07_deepeq_psrc2\"\u001b[0m\u001b[0;34m]\u001b[0m \u001b[0;34m/\u001b[0m \u001b[0mnum_pars_all\u001b[0m\u001b[0;34m[\u001b[0m\u001b[0;34m\"ann_psus07_3lpow_psrc2\"\u001b[0m\u001b[0;34m]\u001b[0m\u001b[0;34m\u001b[0m\u001b[0;34m\u001b[0m\u001b[0m\n\u001b[0m\u001b[1;32m      2\u001b[0m \u001b[0mplt\u001b[0m\u001b[0;34m.\u001b[0m\u001b[0mhist\u001b[0m\u001b[0;34m(\u001b[0m\u001b[0mr\u001b[0m\u001b[0;34m.\u001b[0m\u001b[0mflatten\u001b[0m\u001b[0;34m(\u001b[0m\u001b[0;34m)\u001b[0m\u001b[0;34m,\u001b[0m\u001b[0mbins\u001b[0m\u001b[0;34m=\u001b[0m\u001b[0;36m20\u001b[0m\u001b[0;34m)\u001b[0m\u001b[0;34m\u001b[0m\u001b[0;34m\u001b[0m\u001b[0m\n",
      "\u001b[0;31mKeyError\u001b[0m: 'ann_psus07_deepeq_psrc2'"
     ]
    }
   ],
   "source": [
    "r= num_pars_all[\"ann_psus07_deepeq_psrc2\"] / num_pars_all[\"ann_psus07_3lpow_psrc2\"]\n",
    "plt.hist(r.flatten(),bins=20)"
   ]
  },
  {
   "cell_type": "markdown",
   "id": "elder-stewart",
   "metadata": {},
   "source": [
    "## Aggregated things"
   ]
  },
  {
   "cell_type": "code",
   "execution_count": 58,
   "id": "b5e631a8-55d6-46de-93a2-724326b978ea",
   "metadata": {},
   "outputs": [
    {
     "data": {
      "text/plain": [
       "dict_keys(['sib_psus70_psrc2', 'ann_psus07_4lpow_psrc2', 'ann_psus07_3lpow_psrc2'])"
      ]
     },
     "execution_count": 58,
     "metadata": {},
     "output_type": "execute_result"
    }
   ],
   "source": [
    "Nfin = {k: np.stack(tuple(mar.values()))[...,-1,:].sum(-2).reshape(-1,3) for k,mar in margs_all.items()}\n",
    "\n",
    "Ninit = {k: np.stack(tuple(mar.values()))[...,0,:].sum(-2).reshape(-1,3) for k,mar in margs_all.items()}\n",
    "\n",
    "margs_all.keys()"
   ]
  },
  {
   "cell_type": "code",
   "execution_count": 70,
   "id": "broadband-michigan",
   "metadata": {},
   "outputs": [
    {
     "data": {
      "text/plain": [
       "<matplotlib.legend.Legend at 0x7f2759a8af70>"
      ]
     },
     "execution_count": 70,
     "metadata": {},
     "output_type": "execute_result"
    },
    {
     "data": {
      "image/png": "[encoded data removed]",
      "text/plain": [
       "<Figure size 576x432 with 1 Axes>"
      ]
     },
     "metadata": {
      "needs_background": "light"
     },
     "output_type": "display_data"
    }
   ],
   "source": [
    "plt.figure(figsize=(8,6))\n",
    "\n",
    "#plt.plot(margs_run[:,-1,1:].sum(-1),\"--\",label=\"10k steps mc -7 no netobs\")\n",
    "#plt.plot(margs_run_mc10[:,-1,1],\"-\",label=\"10k steps mc -10 no netobs\")\n",
    "plt.plot(Nfin_real[:,1:].sum(-1),\"o-\", label=\"real\", color=\"darkcyan\")\n",
    "#plt.plot(Nfin[\"sib\"][:,1:].sum(-1),\".--\",color=\"black\",label=\"sib\")\n",
    "#plt.plot(Nfin[\"sib_psus60\"][:,1:].sum(-1),\".--\",color=\"firebrick\",label=\"sib psus 0.6\")\n",
    "plt.plot(Nfin[\"sib_psus70_psrc2\"][:,1:].sum(-1),\".--\",color=\"orange\",label=\"sib psus 0.7\")\n",
    "#plt.plot(Nfin[\"sib_psus65\"][:,1:].sum(-1),\".--\",color=\"mediumpurple\",label=\"sib psus 0.65\")\n",
    "\n",
    "#plt.plot(Nfin[\"ann_pfinLin\"][:,1:].sum(-1),\"o-\",color=\"darkcyan\",label=\"ann pfin Lin\")\n",
    "\n",
    "#plt.plot(Nfin[\"ann_psus06_lexp\"][:,1:].sum(-1),\"o\",label=\"ann psus06 exp new\")\n",
    "#plt.plot(Nfin[\"ann_psus06_4lpow\"][:,1:].sum(-1),\"o\",label=\"ann psus06 pow\")\n",
    "plt.plot(Nfin[\"ann_psus07_4lpow_psrc2\"][:,1:].sum(-1),\"o\",label=\"ann psus07 4lpow\")\n",
    "\n",
    "plt.plot(Nfin[\"ann_psus07_3lpow_psrc2\"][:,1:].sum(-1),\"+\",label=\"ann psus07 3lpow \")\n",
    "\n",
    "#plt.plot(Nfin[\"ann_psus06_pow_nn\"][:,1:].sum(-1),\"o\",label=\"ann psus06 pow new\")\n",
    "\n",
    "\n",
    "#plt.xlim((-0.2,))\n",
    "\n",
    "\n",
    "plt.ylabel(\"$N_I + N_R$\")\n",
    "plt.legend()\n"
   ]
  },
  {
   "cell_type": "code",
   "execution_count": null,
   "id": "functional-pennsylvania",
   "metadata": {},
   "outputs": [],
   "source": []
  },
  {
   "cell_type": "code",
   "execution_count": 60,
   "id": "irish-electric",
   "metadata": {},
   "outputs": [
    {
     "name": "stderr",
     "output_type": "stream",
     "text": [
      "/home/fmazza/app/miniconda3/envs/torche/lib/python3.8/site-packages/sklearn/metrics/_ranking.py:949: UndefinedMetricWarning: No positive samples in y_true, true positive value should be meaningless\n",
      "  warnings.warn(\"No positive samples in y_true, \"\n",
      "/home/fmazza/app/miniconda3/envs/torche/lib/python3.8/site-packages/sklearn/metrics/_ranking.py:949: UndefinedMetricWarning: No positive samples in y_true, true positive value should be meaningless\n",
      "  warnings.warn(\"No positive samples in y_true, \"\n",
      "/home/fmazza/app/miniconda3/envs/torche/lib/python3.8/site-packages/sklearn/metrics/_ranking.py:949: UndefinedMetricWarning: No positive samples in y_true, true positive value should be meaningless\n",
      "  warnings.warn(\"No positive samples in y_true, \"\n"
     ]
    }
   ],
   "source": [
    "aucs_all = {name: \n",
    "            np.array([\n",
    "                risk_pred.calc_aucs(margs[s],final_confs[s], OBSERV_ALL[s], INSTANCES[s]) \n",
    "                 for s in sorted(INSTANCES.keys())\n",
    "            ]).flatten()\n",
    "            for name, margs in margs_all.items()}"
   ]
  },
  {
   "cell_type": "code",
   "execution_count": 61,
   "id": "prostate-green",
   "metadata": {},
   "outputs": [
    {
     "name": "stderr",
     "output_type": "stream",
     "text": [
      "/home/fmazza/app/miniconda3/envs/torche/lib/python3.8/site-packages/sklearn/metrics/_ranking.py:949: UndefinedMetricWarning: No positive samples in y_true, true positive value should be meaningless\n",
      "  warnings.warn(\"No positive samples in y_true, \"\n",
      "/home/fmazza/app/miniconda3/envs/torche/lib/python3.8/site-packages/sklearn/metrics/_ranking.py:949: UndefinedMetricWarning: No positive samples in y_true, true positive value should be meaningless\n",
      "  warnings.warn(\"No positive samples in y_true, \"\n"
     ]
    }
   ],
   "source": [
    "aucs_all.update({name: \n",
    "            np.array([\n",
    "                risk_pred.calc_aucs_risks(margs[s],final_confs[s], OBSERV_ALL[s], INSTANCES[s]) \n",
    "                 for s in sorted(INSTANCES.keys())\n",
    "            ]).flatten()\n",
    "            for name, margs in risks_all.items()} )"
   ]
  },
  {
   "cell_type": "code",
   "execution_count": 62,
   "id": "visible-amplifier",
   "metadata": {},
   "outputs": [
    {
     "data": {
      "image/png": "[encoded data removed]",
      "text/plain": [
       "<Figure size 648x360 with 1 Axes>"
      ]
     },
     "metadata": {
      "needs_background": "light"
     },
     "output_type": "display_data"
    }
   ],
   "source": [
    "plt.figure(figsize=(9,5))\n",
    "#plt.plot(aucs_all[\"sib\"], \"*--\",label=\"sib\", color=\"black\")\n",
    "#plt.plot(aucs_all[\"sib_psus60\"], \"o--\",label=\"sib psus 0.6\")\n",
    "plt.plot(aucs_all[\"sib_psus70_psrc2\"], \"o--\",label=\"sib psus 0.7\")\n",
    "\n",
    "#plt.plot(aucs_all[\"ann_psus06_lexp\"],\"*-\",label=\"ann psus06 6lexp\")\n",
    "\n",
    "#plt.plot(aucs_all[\"ann_psus06_4lpow\"],\"o--\",label=\"ann psus06 4lpow\")\n",
    "plt.plot(aucs_all[\"ann_psus07_4lpow_psrc2\"],\"*--\",label=\"ann psus07 4lpow\")\n",
    "\n",
    "plt.plot(aucs_all[\"ann_psus07_3lpow_psrc2\"],\"*\",label=\"ann psus07 3lpow\")\n",
    "\n",
    "\n",
    "#plt.plot(aucs_all[\"MF\"], \"o--\", label=\"MF ranker\")\n",
    "\n",
    "#plt.plot(aucs_ranks[\"MF_cho\"], \"*--\", label=f\"MF ch_obs ranker\")\n",
    "\n",
    "#plt.plot(aucs_all[\"CT\"], \"o--\", label=\"CT ranker\")\n",
    "#plt.plot(aucs_ranks[\"CT_cho\"], \"*--\", label=\"CT ch_obs ranker\")\n",
    "#plt.plot(aucs_all[\"ann_psus06_pow\"],\"*--\",label=\"ann psus06 4lpow\")\n",
    "\n",
    "\n",
    "#plt.plot([1], [auc(rocs_1_m[0],rocs_1_m[1])], \"o\", label=\"big net\")\n",
    "\n",
    "plt.legend()\n",
    "\"\"\"plt.xlim((-0.5,4.5))\n",
    "plt.ylim((0.3\n",
    "          ,0.83))\"\"\"\n",
    "plt.ylabel(\"AUC in finding infected\")\n",
    "plt.xlabel(\"Instance\")\n",
    "plt.grid(linestyle=\"--\")\n",
    "#plt.savefig(f\"auc_{str(INSTANCE)}.svg\", bbox_inches=\"tight\")"
   ]
  },
  {
   "cell_type": "code",
   "execution_count": 63,
   "id": "a23b9d1f-9a80-4882-babd-f5825a9cccb5",
   "metadata": {},
   "outputs": [
    {
     "name": "stdout",
     "output_type": "stream",
     "text": [
      "CT: 0.659 \\pm 0.008\n",
      "MF: 0.671 \\pm 0.009\n",
      "ann_psus07_3lpow_psrc2: 0.670 \\pm 0.009\n",
      "ann_psus07_4lpow_psrc2: 0.669 \\pm 0.009\n",
      "sib_psus70_psrc2: 0.671 \\pm 0.009\n"
     ]
    }
   ],
   "source": [
    "avg = {name: np.nanmean(r)\n",
    "              for name, r in aucs_all.items()}\n",
    "err_avg = {name: np.nanstd(r)/np.sqrt(len(r) - np.isnan(r).sum())\n",
    "              for name, r in aucs_all.items()}\n",
    "\n",
    "for k in sorted(avg.keys()):\n",
    "    print(f\"{k}: {avg[k]:5.3f} \\pm {err_avg[k]:5.3f}\")"
   ]
  },
  {
   "cell_type": "code",
   "execution_count": 64,
   "id": "f178b20f-e592-4b4b-ad7e-6c83f6460a4d",
   "metadata": {},
   "outputs": [],
   "source": [
    "aucs_df =pd.DataFrame(aucs_all).dropna(how=\"all\", axis=0)"
   ]
  },
  {
   "cell_type": "code",
   "execution_count": 65,
   "id": "1b704ed3-54fb-42af-a9c5-243e6060a5e6",
   "metadata": {},
   "outputs": [
    {
     "data": {
      "text/plain": [
       "100"
      ]
     },
     "execution_count": 65,
     "metadata": {},
     "output_type": "execute_result"
    }
   ],
   "source": [
    "len(aucs_df)"
   ]
  },
  {
   "cell_type": "code",
   "execution_count": 66,
   "id": "97551de4-7906-4cb2-9326-b5728e4f605d",
   "metadata": {},
   "outputs": [],
   "source": [
    "N = tuple(INSTANCES.values())[0].n"
   ]
  },
  {
   "cell_type": "code",
   "execution_count": 67,
   "id": "925956d6-4511-4c4d-ad7b-25c5f5553293",
   "metadata": {},
   "outputs": [
    {
     "name": "stdout",
     "output_type": "stream",
     "text": [
      "RRG_n_100_2src_lastobs_\n"
     ]
    }
   ],
   "source": [
    "name_out=f\"{type_graph}_n_{N}_{nsrc}src_\"\n",
    "if last_time_obs:\n",
    "    name_out=name_out+f\"lastobs_\"\n",
    "else:\n",
    "    name_out=name_out+f\"{n_test_rnd}rnd_\"\n",
    "print(name_out)"
   ]
  },
  {
   "cell_type": "code",
   "execution_count": 68,
   "id": "4293bf15-2aa0-4110-a4db-288d17cb4eff",
   "metadata": {},
   "outputs": [],
   "source": [
    "aucs_df.to_csv(\"res_plot/\"+name_out+\"aucs.csv\", index=False)"
   ]
  },
  {
   "cell_type": "code",
   "execution_count": 48,
   "id": "7059795e-30e4-4086-8e7e-82817ae467ba",
   "metadata": {},
   "outputs": [
    {
     "data": {
      "text/plain": [
       "<matplotlib.legend.Legend at 0x7f6a24030160>"
      ]
     },
     "execution_count": 48,
     "metadata": {},
     "output_type": "execute_result"
    },
    {
     "data": {
      "image/png": "[encoded data removed]",
      "text/plain": [
       "<Figure size 576x432 with 1 Axes>"
      ]
     },
     "metadata": {
      "needs_background": "light"
     },
     "output_type": "display_data"
    }
   ],
   "source": [
    "from analysis.generic import filter_nans, histo_points\n",
    "\n",
    "pdfs_aucs = {name: histo_points(filter_nans(r), bins=200)\n",
    "              for name, r in aucs_all.items()}\n",
    "#del pdfs_aucs[\"ann_psus06_lexp\"]\n",
    "plt.figure(figsize=(8,6))\n",
    "for k, dr in pdfs_aucs.items():\n",
    "    plt.plot(dr[0],dr[1].cumsum()/dr[1].sum(), label=k)\n",
    "\n",
    "plt.legend()\n"
   ]
  },
  {
   "cell_type": "code",
   "execution_count": 50,
   "id": "487accd4-0e67-4130-901c-25ebd750bd24",
   "metadata": {},
   "outputs": [
    {
     "data": {
      "text/plain": [
       "<module 'analysis.risk_pred' from '../../src/analysis/risk_pred.py'>"
      ]
     },
     "execution_count": 50,
     "metadata": {},
     "output_type": "execute_result"
    }
   ],
   "source": [
    "reload(risk_pred)"
   ]
  },
  {
   "cell_type": "code",
   "execution_count": 51,
   "id": "strategic-butler",
   "metadata": {},
   "outputs": [],
   "source": [
    "probs_infect = {name: \n",
    "            [\n",
    "                risk_pred.get_probs_inf(margs[s],final_confs[s], OBSERV_ALL[s], INSTANCES[s],\n",
    "                                       risk_pred.ResType.margs) \n",
    "                 for s in sorted(INSTANCES.keys())\n",
    "            ]\n",
    "            for name, margs in margs_all.items()}\n",
    "probs_infect.update({name: \n",
    "            [\n",
    "                risk_pred.get_probs_inf(margs[s],final_confs[s], OBSERV_ALL[s], INSTANCES[s],\n",
    "                                       risk_pred.ResType.risks) \n",
    "                 for s in sorted(INSTANCES.keys())\n",
    "            ]\n",
    "            for name, margs in risks_all.items()}\n",
    "                   )"
   ]
  },
  {
   "cell_type": "code",
   "execution_count": 52,
   "id": "6a471f07-50d6-42dd-a7c8-640378076644",
   "metadata": {},
   "outputs": [],
   "source": [
    "from sklearn.metrics import roc_curve"
   ]
  },
  {
   "cell_type": "code",
   "execution_count": 53,
   "id": "c3191d7b-d95a-4b81-b2f8-0d2d1ab53df0",
   "metadata": {},
   "outputs": [],
   "source": [
    "from scipy import interp"
   ]
  },
  {
   "cell_type": "code",
   "execution_count": 54,
   "id": "f5fe0e43-50b2-401f-9fa5-f455ef5eb53a",
   "metadata": {},
   "outputs": [],
   "source": [
    "aucs_rocs_all = {k: risk_pred.calc_rocs_aucs(v,500) for k,v in probs_infect.items()}"
   ]
  },
  {
   "cell_type": "code",
   "execution_count": 55,
   "id": "746cdbad-9a40-4fd6-b8c9-f83458c139b1",
   "metadata": {},
   "outputs": [],
   "source": [
    "aucs_stats={k:(np.mean(v[0]),np.std(v[0])) for k,v in aucs_rocs_all.items()}"
   ]
  },
  {
   "cell_type": "code",
   "execution_count": 56,
   "id": "004fe410-be9f-4cd0-bc68-503830d9fbdb",
   "metadata": {},
   "outputs": [
    {
     "data": {
      "text/plain": [
       "{'sib_psus70_psrc2': (0.8858460801146706, 0.04954857221722558),\n",
       " 'ann_psus07_4lpow_psrc2': (0.8887717122430548, 0.0494097421199388),\n",
       " 'ann_psus07_3lpow_psrc2': (0.8892520995051959, 0.04905273615456187),\n",
       " 'ann_psus07_deepeq_psrc2': (0.8883940818576643, 0.04896057816635869),\n",
       " 'MF': (0.796314968268083, 0.07275191940009587),\n",
       " 'CT': (0.7895211209807413, 0.05732536920609314)}"
      ]
     },
     "execution_count": 56,
     "metadata": {},
     "output_type": "execute_result"
    }
   ],
   "source": [
    "for k in aucs_stats"
   ]
  },
  {
   "cell_type": "code",
   "execution_count": null,
   "id": "1dd954c9-b14d-4bc1-8175-d11d62f9970d",
   "metadata": {},
   "outputs": [],
   "source": [
    "xplt = np.linspace(0,1,501)\n",
    "plt.figure(figsize=(8,6))\n",
    "\n",
    "\n",
    "\n",
    "plt.plot(xplt, np.mean(aucs_rocs_all[\"sib_psus70_psrc2\"][1],0), \"-.\",\n",
    "         label=\"sib, AUC: ${:.2f}\\pm{:.2f}$\".format(*aucs_stats[\"sib_psus70_psrc2\"]))\n",
    "plt.plot(xplt, np.mean(aucs_rocs_all[\"ann_psus07_4lpow_psrc2\"][1],0), \n",
    "         label=\"ANN, AUC: ${:.2f}\\pm{:.2f}$\".format(*aucs_stats[\"ann_psus07_4lpow_psrc2\"]))\n",
    "plt.plot(xplt, np.mean(aucs_rocs_all[\"ann_psus07_3lpow_psrc2\"][1],0), \n",
    "         label=\"ANN, AUC: ${:.2f}\\pm{:.2f}$\".format(*aucs_stats[\"ann_psus07_3lpow_psrc2\"]))\n",
    "plt.plot(xplt, np.mean(aucs_rocs_all[\"MF\"][1],0), \n",
    "         label=\"MF, AUC: ${:.2f}\\pm{:.2f}$\".format(*aucs_stats[\"MF\"]))\n",
    "\n",
    "plt.plot(xplt, np.mean(aucs_rocs_all[\"CT\"][1],0), \n",
    "         label=\"CT, AUC: ${:.2f}\\pm{:.2f}$\".format(*aucs_stats[\"CT\"]))\n",
    "plt.ylim((-.02,None))\n",
    "plt.xlim((-.02,1.02))\n",
    "plt.grid(linestyle=\"--\")\n",
    "plt.xlabel(\"False positive rate (FPR)\")\n",
    "plt.ylabel(\"True positive rate\")\n",
    "plt.legend()\n",
    "\n",
    "plt.savefig(f\"img/{name_out}_rocs_avg.svg\",bbox_inches=\"tight\")"
   ]
  },
  {
   "cell_type": "code",
   "execution_count": null,
   "id": "e75319e9-f066-4a71-8121-f2f7d599a87d",
   "metadata": {},
   "outputs": [],
   "source": [
    "plt.figure(figsize=(10,6))\n",
    "plt.fill_between(xplt, *np.quantile(aucs_rocs_all[\"ann_psus07_4lpow_psrc2\"][1],[.1,.9],axis=0))"
   ]
  },
  {
   "cell_type": "code",
   "execution_count": null,
   "id": "289441b2-baf1-4972-bac4-1c271672efdf",
   "metadata": {},
   "outputs": [],
   "source": [
    "aucs_rocs_all[\"ann_psus07_4lpow_psrc2\"][1].shape"
   ]
  },
  {
   "cell_type": "code",
   "execution_count": null,
   "id": "253e67cc-4dd0-4b2c-b798-7b1863f2342d",
   "metadata": {},
   "outputs": [],
   "source": [
    "for i in range(10):\n",
    "    plt.plot(aucs_rocs_all[\"ann_psus07_4lpow_psrc2\"][1][i])"
   ]
  },
  {
   "cell_type": "code",
   "execution_count": null,
   "id": "2ed3492e-6c8c-4164-816a-26cb7918aa9f",
   "metadata": {},
   "outputs": [],
   "source": [
    "def maxarrel(r, el=0):\n",
    "    try:\n",
    "        return max((len(f[0]) for f in r))\n",
    "    except TypeError:\n",
    "        print([(f[0]) for f in r])\n",
    "        return (len(r[0]))\n",
    "        #raise InterruptedError\n",
    "\n",
    "num_max = max([maxarrel(g) for g in probs_infect[\"MF\"]])"
   ]
  },
  {
   "cell_type": "raw",
   "id": "b31bae5b-bf19-4f56-85de-8d868dca72c0",
   "metadata": {},
   "source": [
    "num_max = 0\n",
    "for g in sel_risk[\"MF\"]:\n",
    "    for f in g:\n",
    "        if num_max < len(f[0]):\n",
    "            num_max = len(f[0])\n",
    "            print(num_max)"
   ]
  },
  {
   "cell_type": "code",
   "execution_count": null,
   "id": "7013f4af-838c-4c4b-9a02-1865c96f60d2",
   "metadata": {
    "tags": []
   },
   "outputs": [],
   "source": [
    "TOT_POINTS = 200\n",
    "def count_found_all(risk_i, nmax=None):\n",
    "    #print(risk_i.shape)\n",
    "    #g = np.stack(risk_i,1).astype(np.float_)\n",
    "    res_out = []\n",
    "    vals = np.unique(risk_i[0])\n",
    "    #if len(vals) < len(risk_i[0]):\n",
    "    #    print(\"Have {} less values\".format(len(risk_i[0])-len(vals)))\n",
    "    #print(len(vals),len(risk_i), end=\"\\t\")\n",
    "    for i in range(20):\n",
    "        idx = np.argsort(risk_i[0])[::-1]\n",
    "\n",
    "        #g.view(\"f8,f8\").sort(axis=0, order=\"f0\")\n",
    "        count = risk_i[1][idx]\n",
    "\n",
    "        nfind = len(count)\n",
    "\n",
    "        points = np.linspace(1,TOT_POINTS, nfind)\n",
    "        #discr_points = (points * TOT_POINTS).astype(int)\n",
    "        resu = np.zeros(TOT_POINTS+1)\n",
    "\n",
    "        resu[points.astype(int)] = count\n",
    "    \n",
    "        res_out.append(resu.cumsum())\n",
    "    return np.stack(res_out).mean(0)\n",
    "    \n",
    "    "
   ]
  },
  {
   "cell_type": "code",
   "execution_count": null,
   "id": "d0636ed6-c7c4-48d9-a739-a44e19e0e4d1",
   "metadata": {},
   "outputs": [],
   "source": [
    "normalize = lambda x: x/np.max(x)*100"
   ]
  },
  {
   "cell_type": "code",
   "execution_count": null,
   "id": "83aca9e7-89f5-4545-b661-db9a67debf56",
   "metadata": {},
   "outputs": [],
   "source": [
    "risks_all.keys()"
   ]
  },
  {
   "cell_type": "code",
   "execution_count": null,
   "id": "f499a087-3cc5-4670-b95c-e71d7bf7d433",
   "metadata": {},
   "outputs": [],
   "source": [
    "ninst=num_conf\n",
    "\n",
    "mg = lambda x,y: [normalize(count_found_all(r,y)) for r in x[:ninst]]"
   ]
  },
  {
   "cell_type": "code",
   "execution_count": null,
   "id": "441f9b6a-27f5-4189-82ab-a74f982f1592",
   "metadata": {},
   "outputs": [],
   "source": [
    "counted_probs = {\n",
    "    name: [mg(r, num_max) for r in res] for name, res in probs_infect.items() \n",
    "}"
   ]
  },
  {
   "cell_type": "code",
   "execution_count": null,
   "id": "ccbdbd14-74d0-4212-925a-ef95a15322a8",
   "metadata": {},
   "outputs": [],
   "source": [
    "counted_all =counted_probs"
   ]
  },
  {
   "cell_type": "code",
   "execution_count": null,
   "id": "33c851f5-8419-46f9-a126-6ef4d590ce05",
   "metadata": {},
   "outputs": [],
   "source": [
    "from sklearn.metrics import auc\n",
    "\n",
    "aucs_find = {k: np.array([\n",
    "                    [auc(np.linspace(0,1,len(x)), x/100) for x in v] \n",
    "                          for v in mar ]).flatten() for k,mar in counted_all.items()}"
   ]
  },
  {
   "cell_type": "code",
   "execution_count": null,
   "id": "68f7901d-be5d-4792-b31a-b706381e20f2",
   "metadata": {},
   "outputs": [],
   "source": [
    "labels={k: \"${:4.3f} \\pm {:4.3f}$\".format(\n",
    "    np.nanmean(x),np.nanstd(x)/np.sqrt(np.prod(x.shape)-np.isnan(x).sum())) for k,x in aucs_find.items()}"
   ]
  },
  {
   "cell_type": "code",
   "execution_count": null,
   "id": "c4646fc2-63c4-4295-94ed-e750cd82c5cb",
   "metadata": {},
   "outputs": [],
   "source": [
    "res_m = {name: \n",
    "         np.nanmean(\n",
    "             np.stack(x).reshape(-1,TOT_POINTS+1),\n",
    "             axis=0)\n",
    "         for name,x in counted_all.items()}"
   ]
  },
  {
   "cell_type": "code",
   "execution_count": null,
   "id": "b3961f29-18c5-4244-a39f-232dffcc1e43",
   "metadata": {},
   "outputs": [],
   "source": [
    "from sklearn.metrics import auc\n",
    "\n",
    "auc_risk2 = {name: auc(np.linspace(0,1,len(x)),x/100) for name,x in res_m.items()}"
   ]
  },
  {
   "cell_type": "code",
   "execution_count": null,
   "id": "ae8f0a10-2739-4bd8-a095-c6b844ba30ef",
   "metadata": {},
   "outputs": [],
   "source": [
    "auc_risk2"
   ]
  },
  {
   "cell_type": "code",
   "execution_count": null,
   "id": "6d7b0630-388e-4d04-9308-46e384123b8d",
   "metadata": {},
   "outputs": [],
   "source": [
    "plt.figure(figsize=(8,6))\n",
    "#for name,x in avg_count_probs.items():\n",
    "#    plt.plot(x, label=name)\n",
    "#    print()\n",
    "#for name,x in avg_count_risk.items():\n",
    "#    plt.plot(x, label=name)\n",
    "#plt.plot(ul.mean(0))\n",
    "x_data = np.linspace(0,100,TOT_POINTS+1)\n",
    "\n",
    "#plt.plot(x_data, res_m[\"sib_psus60\"], label=\"BP, auc: {:4.3f}\".format(auc_risk2[\"sib_psus60\"]))\n",
    "v=\"sib_psus70_psrc2\"\n",
    "plt.plot(x_data, res_m[v],\"-.\", label=\"sib, auc: {}\".format(labels[v]))\n",
    "\n",
    "#plt.plot(x_data, res_m[\"ann_psus06_lexp\"], label=\"ANN, auc: {}\".format(labels[\"ann_psus06_lexp\"]))\n",
    "v=\"ann_psus07_4lpow_psrc2\"\n",
    "plt.plot(x_data, res_m[v], label=\"ANN pow, auc: {}\".format(labels[v]), linewidth=2)\n",
    "\n",
    "plt.plot(x_data, res_m[\"MF\"], label=\"MF, auc: {}\".format(labels[\"MF\"]))\n",
    "plt.plot(x_data, res_m[\"CT\"],\"--\", label=\"CT, auc: {}\".format(labels[\"CT\"]))\n",
    "\n",
    "\n",
    "plt.legend()\n",
    "plt.xlabel(\"Individuals tested (%)\")\n",
    "plt.ylabel(\"Infected found on average (%)\")\n",
    "plt.ylim((-2,102))\n",
    "plt.xlim((-2,102))\n",
    "\n",
    "plt.grid(linestyle=\"--\")\n",
    "plt.savefig(f\"img/{name_out}auc_infected.svg\",bbox_inches=\"tight\")"
   ]
  },
  {
   "cell_type": "code",
   "execution_count": null,
   "id": "99bc07a0-15d6-4f6b-adcf-f8d048bcd199",
   "metadata": {},
   "outputs": [],
   "source": [
    "plt.figure(figsize=(8,6))\n",
    "#for name,x in avg_count_probs.items():\n",
    "#    plt.plot(x, label=name)\n",
    "#    print()\n",
    "#for name,x in avg_count_risk.items():\n",
    "#    plt.plot(x, label=name)\n",
    "#plt.plot(ul.mean(0))\n",
    "x_data = np.linspace(0,100,TOT_POINTS+1)\n",
    "\n",
    "#plt.plot(x_data, res_m[\"sib_psus60\"], label=\"BP, auc: {:4.3f}\".format(auc_risk2[\"sib_psus60\"]))\n",
    "plt.plot(x_data, res_m[\"sib_psus60\"], label=\"BP, auc: {}\".format(labels[\"sib_psus60\"]))\n",
    "\n",
    "plt.plot(x_data, res_m[\"ann_psus06_lexp\"], label=\"ANN, auc: {}\".format(labels[\"ann_psus06_lexp\"]))\n",
    "plt.plot(x_data, res_m[\"ann_psus06_pow\"], label=\"ANN pow, auc: {}\".format(labels[\"ann_psus06_pow\"]))\n",
    "\n",
    "plt.plot(x_data, res_m[\"MF\"], label=\"MF, auc: {}\".format(labels[\"MF\"]))\n",
    "plt.plot(x_data, res_m[\"CT\"], label=\"CT, auc: {}\".format(labels[\"CT\"]))\n",
    "\"\"\"\n",
    "plt.plot(x_data,res_m[\"ann_psus06_lexp\"], label=\"ANN, auc: {:4.3f}\".format(auc_risk2[\"ann_psus06_lexp\"]))\n",
    "\n",
    "\n",
    "plt.plot(x_data,res_m[\"MF\"], label=\"MF, auc: {:4.3f}\".format(auc_risk2[\"MF\"]))\n",
    "plt.plot(x_data,res_m[\"CT\"], label=\"CT, auc: {:4.3f}\".format(auc_risk2[\"CT\"]))\n",
    "\n",
    "\"\"\"\n",
    "\n",
    "plt.legend()\n",
    "plt.xlabel(\"Percentage of individuals tested\")\n",
    "plt.ylabel(\"Perc infected found on average\")\n",
    "plt.grid(linestyle=\"--\")\n",
    "plt.savefig(f\"auc_infected_{type_graph}.svg\",bbox_inches=\"tight\")"
   ]
  },
  {
   "cell_type": "code",
   "execution_count": null,
   "id": "9eb3d90e-83ba-4500-b9a5-9e80f8adefb3",
   "metadata": {},
   "outputs": [],
   "source": [
    "alg = \"ann_psus06_lexp\"\n",
    "plt.plot(counted_all[alg][0][0])\n",
    "plt.plot(counted_all[alg][1][0])\n",
    "plt.plot(counted_all[alg][2][0])\n",
    "plt.plot(counted_all[alg][3][0])"
   ]
  },
  {
   "cell_type": "markdown",
   "id": "74d549d8-8ecf-4e84-ab08-3e1fb4be5039",
   "metadata": {},
   "source": [
    "## Patient zero"
   ]
  },
  {
   "cell_type": "code",
   "execution_count": null,
   "id": "e084539c-e5fb-41d4-ae95-3c7562f2e383",
   "metadata": {},
   "outputs": [],
   "source": [
    "sources = {s:\n",
    "    np.stack( [np.where(np.array(c[0])==1)[0] for c in mdata[\"test\"] ])\n",
    "           for s, mdata in DATA_ALL.items()}"
   ]
  },
  {
   "cell_type": "code",
   "execution_count": null,
   "id": "28ae1d00-c860-45d7-bea2-8a72e0a73d09",
   "metadata": {},
   "outputs": [],
   "source": [
    "from sklearn.metrics import auc, roc_curve"
   ]
  },
  {
   "cell_type": "code",
   "execution_count": null,
   "id": "08a26fa7-a7e8-481c-bc86-2f74da4159a2",
   "metadata": {},
   "outputs": [],
   "source": [
    "def get_source_rank(m, msources):\n",
    "    psources = m[:,0,1]\n",
    "    idx=psources.argsort()[::-1]\n",
    "\n",
    "    rg = sum(((idx == s for s in msources)))\n",
    "    #print(rg)\n",
    "    return rg.cumsum()\n",
    "\n",
    "def get_sources_auc(m, msources):\n",
    "    psources = m[:,0,1]\n",
    "    idx=psources.argsort()[::-1]\n",
    "    truey = np.zeros(psources.shape, dtype=int)\n",
    "    #rg = sum(((idx == s for s in msources)))\n",
    "    truey[msources] = 1\n",
    "    #print(rg)\n",
    "    fpr,tpr,thr= roc_curve(truey, psources)#rg.cumsum()\n",
    "    return auc(fpr,tpr)"
   ]
  },
  {
   "cell_type": "code",
   "execution_count": null,
   "id": "f92cde42-2bc1-4589-b810-be544067991e",
   "metadata": {},
   "outputs": [],
   "source": []
  },
  {
   "cell_type": "code",
   "execution_count": null,
   "id": "3a5240d1-d35b-4b28-8075-dfc4f5281683",
   "metadata": {},
   "outputs": [],
   "source": [
    "pzero_accu = {name: \n",
    "            np.stack([\n",
    "                np.array([get_source_rank(m,source) \n",
    "                          for m, source in zip(marg[s], sources[s])])\n",
    "                for s in sources.keys()\n",
    "            ]).sum(0).sum(0)\n",
    "            for name, marg in margs_all.items()}"
   ]
  },
  {
   "cell_type": "code",
   "execution_count": null,
   "id": "22eda897-1bc6-4d0d-bb51-3035dccc27f6",
   "metadata": {},
   "outputs": [],
   "source": [
    "pzero_auc = {name: \n",
    "            np.stack([\n",
    "                np.array([get_sources_auc(m,source) for m, source in zip(marg[s], sources[s])])\n",
    "                for s in sources.keys()\n",
    "            ]).flatten()\n",
    "            for name, marg in margs_all.items()}"
   ]
  },
  {
   "cell_type": "code",
   "execution_count": null,
   "id": "fdc1bbf2-8af0-4fea-b2d3-7711837f9a58",
   "metadata": {},
   "outputs": [],
   "source": [
    "for k in sorted(pzero_auc.keys()):\n",
    "    aal = pzero_auc[k]\n",
    "    print(\"{}, {:4.3f} \\pm {:4.3f} \".format(\n",
    "        k, np.nanmean(aal), np.nanstd(aal)/np.sqrt(np.prod(aal.shape)-np.isnan(aal).sum()))\n",
    "    )\n",
    "    plt.plot(aal, label=k)\n",
    "    \n",
    "plt.legend()"
   ]
  },
  {
   "cell_type": "code",
   "execution_count": null,
   "id": "5ee3bd9d-5fe5-4889-8a8a-3dc51735ec3a",
   "metadata": {},
   "outputs": [],
   "source": [
    "INSTANCES[6].n"
   ]
  },
  {
   "cell_type": "code",
   "execution_count": null,
   "id": "441aa9bd-4cbe-4682-9cad-aff865f14645",
   "metadata": {},
   "outputs": [],
   "source": [
    "plt.figure(figsize=(7,5))\n",
    "#for name,x in avg_count_probs.items():\n",
    "#    plt.plot(x, label=name)\n",
    "#    print()\n",
    "#for name,x in avg_count_risk.items():\n",
    "#    plt.plot(x, label=name)\n",
    "#plt.plot(ul.mean(0))\n",
    "x_data = np.arange(tuple(INSTANCES.values())[0].n)\n",
    "#plt.plot(x_data,pzero_accu[\"sib_psus60\"], \"--\",label=\"BP\")\n",
    "plt.plot(x_data,pzero_accu[\"sib_psus70_psrc2\"], \"--\",label=\"BP psus07 psrc2\")\n",
    "#, auc: {:4.3f}\".format(auc_risk2[\"sib_psus60\"]))\n",
    "l = \"ann_\"\n",
    "#plt.plot(x_data,pzero_accu[\"ann_psus06_4lpow\"], label=\"ANN\")#, auc: {:4.3f}\".format(auc_risk2[\"ann_psus06Fin\"]))\n",
    "\n",
    "plt.plot(x_data,pzero_accu[\"ann_psus07_4lpow_psrc2\"], label=\"ANN psus07 psrc2 4lpow\")\n",
    "\n",
    "plt.plot(x_data,pzero_accu[\"ann_psus07_3lpow_psrc2\"], label=\"ANN psus07 psrc2 3lpow\")\n",
    "\n",
    "\n",
    "plt.legend()\n",
    "plt.ylabel(\"Sources found (cumulative)\")\n",
    "plt.xlabel(\"N individuals\")\n",
    "plt.grid(linestyle=\"--\")"
   ]
  },
  {
   "cell_type": "code",
   "execution_count": null,
   "id": "7609bc27-f2dd-4817-b5af-30acd5e29c1a",
   "metadata": {},
   "outputs": [],
   "source": [
    "x"
   ]
  },
  {
   "cell_type": "code",
   "execution_count": null,
   "id": "86a81b52-063a-45cb-871b-c305e8376cb4",
   "metadata": {},
   "outputs": [],
   "source": [
    "pzero_counts_df = pd.DataFrame(pzero_accu)\n",
    "pzero_counts_df.to_csv(name_out+\"pzero_count.csv\", index=False)"
   ]
  },
  {
   "cell_type": "code",
   "execution_count": null,
   "id": "8bee99a0-95df-4be0-baab-debf378c9cf8",
   "metadata": {},
   "outputs": [],
   "source": [
    "pzero_counts_df = pd.DataFrame(pzero_auc)\n",
    "pzero_counts_df.to_csv(name_out+\"pzero_aucs.csv\", index=False)"
   ]
  },
  {
   "cell_type": "code",
   "execution_count": null,
   "id": "1dbb3f88-b702-45f8-a2d8-2a5a6018e8e2",
   "metadata": {},
   "outputs": [],
   "source": []
  },
  {
   "cell_type": "markdown",
   "id": "12526bce-b4a5-4429-b76f-6fdcf5857b02",
   "metadata": {},
   "source": [
    "## Graph analysis"
   ]
  },
  {
   "cell_type": "code",
   "execution_count": null,
   "id": "cognitive-flash",
   "metadata": {},
   "outputs": [],
   "source": [
    "Gtry = DATA_ALL[2][\"G\"]"
   ]
  },
  {
   "cell_type": "code",
   "execution_count": null,
   "id": "615ee2ff-52fb-4973-8b60-ef2200482109",
   "metadata": {},
   "outputs": [],
   "source": [
    "n_edges = len(nx.DiGraph(Gtry).edges)"
   ]
  },
  {
   "cell_type": "code",
   "execution_count": null,
   "id": "rolled-bibliography",
   "metadata": {},
   "outputs": [],
   "source": [
    "Gtry"
   ]
  },
  {
   "cell_type": "code",
   "execution_count": null,
   "id": "threaded-channel",
   "metadata": {},
   "outputs": [],
   "source": [
    "Gtry = nx.random_regular_graph(6, 50)\n",
    "len(Gtry.nodes)"
   ]
  },
  {
   "cell_type": "code",
   "execution_count": null,
   "id": "hungry-colony",
   "metadata": {},
   "outputs": [],
   "source": [
    "nx.average_clustering(Gtry)"
   ]
  },
  {
   "cell_type": "code",
   "execution_count": null,
   "id": "d43e94e4-0e73-4d7b-8007-e20b8c6f06d8",
   "metadata": {},
   "outputs": [],
   "source": [
    "idx = 44\n",
    "neighs = tuple(Gtry.neighbors(idx))\n",
    "\n",
    "neighs2 = {k:tuple(Gtry.neighbors(k)) for k in neighs}\n",
    "\n",
    "neighs_f = {k:tuple(filter(lambda x : x in neighs, Gtry.neighbors(k)) ) for k in neighs}"
   ]
  },
  {
   "cell_type": "code",
   "execution_count": null,
   "id": "supreme-masters",
   "metadata": {},
   "outputs": [],
   "source": [
    "other_neighs = set()\n",
    "for i in neighs:\n",
    "    for j in neighs:\n",
    "        if i==j: \n",
    "            continue\n",
    "        res = set(neighs2[i]).intersection(neighs2[j])\n",
    "        if len(res) > 0:\n",
    "            other_neighs = other_neighs.union(res)"
   ]
  },
  {
   "cell_type": "code",
   "execution_count": null,
   "id": "developmental-citizenship",
   "metadata": {},
   "outputs": [],
   "source": [
    "comm_union = set()\n",
    "for l in neighs2.values():\n",
    "    comm_union = comm_union.union(l)"
   ]
  },
  {
   "cell_type": "code",
   "execution_count": null,
   "id": "victorian-aaron",
   "metadata": {},
   "outputs": [],
   "source": [
    "len(comm_union)"
   ]
  },
  {
   "cell_type": "code",
   "execution_count": null,
   "id": "functioning-broadway",
   "metadata": {},
   "outputs": [],
   "source": [
    "len(other_neighs)"
   ]
  },
  {
   "cell_type": "code",
   "execution_count": null,
   "id": "introductory-stranger",
   "metadata": {},
   "outputs": [],
   "source": [
    "pos = nx.spring_layout(Gtry, iterations=1000,k=3, threshold=1e-5)"
   ]
  },
  {
   "cell_type": "code",
   "execution_count": null,
   "id": "extra-lambda",
   "metadata": {},
   "outputs": [],
   "source": [
    "nx.draw(Gtry,nodelist=list(filter(lambda x: x<idx,comm_union)), pos=pos)\n",
    "nx.draw_networkx_nodes(Gtry,pos=pos, nodelist=[idx],node_color=\"red\")\n",
    "nx.draw_networkx_nodes(Gtry,pos=pos, nodelist=list(filter(lambda x: x<idx,neighs)),node_color=\"green\")"
   ]
  },
  {
   "cell_type": "code",
   "execution_count": null,
   "id": "final-lesbian",
   "metadata": {},
   "outputs": [],
   "source": [
    "nx.draw(Gtry,nodelist=list(filter(lambda x: x<idx,other_neighs)), pos=pos)\n",
    "nx.draw_networkx_nodes(Gtry,pos=pos, nodelist=[idx],node_color=\"red\")\n",
    "nx.draw_networkx_nodes(Gtry,pos=pos, nodelist=list(filter(lambda x: x<idx,neighs)),node_color=\"green\")"
   ]
  },
  {
   "cell_type": "code",
   "execution_count": null,
   "id": "acquired-adapter",
   "metadata": {},
   "outputs": [],
   "source": []
  }
 ],
 "metadata": {
  "kernelspec": {
   "display_name": "Python 3.8 (torche)",
   "language": "python",
   "name": "python38torche"
  },
  "language_info": {
   "codemirror_mode": {
    "name": "ipython",
    "version": 3
   },
   "file_extension": ".py",
   "mimetype": "text/x-python",
   "name": "python",
   "nbconvert_exporter": "python",
   "pygments_lexer": "ipython3",
   "version": "3.8.8"
  }
 },
 "nbformat": 4,
 "nbformat_minor": 5
}
