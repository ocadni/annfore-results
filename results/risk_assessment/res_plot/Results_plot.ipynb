{
 "cells": [
  {
   "cell_type": "code",
   "execution_count": 1,
   "id": "8f79f2eb-eb16-469f-b6b1-c738d611fd31",
   "metadata": {},
   "outputs": [],
   "source": [
    "import numpy as np\n",
    "import pandas as pd\n",
    "import matplotlib.pyplot as plt"
   ]
  },
  {
   "cell_type": "code",
   "execution_count": 2,
   "id": "4f7388ad-4b50-40f1-9e76-5b4390f6928a",
   "metadata": {},
   "outputs": [],
   "source": [
    "from collections import defaultdict"
   ]
  },
  {
   "cell_type": "code",
   "execution_count": 3,
   "id": "00d01815-e52a-465b-97ae-e7c480e84489",
   "metadata": {},
   "outputs": [],
   "source": [
    "res=defaultdict(lambda : defaultdict(dict))"
   ]
  },
  {
   "cell_type": "code",
   "execution_count": 9,
   "id": "9704e8ff-39f0-4d14-b226-ed05b21b1317",
   "metadata": {},
   "outputs": [],
   "source": [
    "res[\"work95\"][\"1src\"][\"1rnd\"] = pd.read_csv(\"i_bird_n_95_1src_1rnd_aucs.csv\")"
   ]
  },
  {
   "cell_type": "code",
   "execution_count": 4,
   "id": "55874ec0-3ac9-4b4c-a868-6f084fc3be98",
   "metadata": {},
   "outputs": [],
   "source": [
    "res[\"work95\"][\"1src\"][\"lastobs\"] = pd.read_csv(\"i_bird_n_95_1src_lastobs_aucs.csv\")"
   ]
  },
  {
   "cell_type": "code",
   "execution_count": 11,
   "id": "873fcf6a-ef6c-4d62-8957-73430c0d6cda",
   "metadata": {},
   "outputs": [],
   "source": [
    "res[\"work95\"][\"2src\"][\"lastobs\"] = pd.read_csv(\"i_bird_n_95_2src_lastobs_aucs.csv\")"
   ]
  },
  {
   "cell_type": "code",
   "execution_count": 12,
   "id": "18327e88-e48a-4bda-81d1-a82312f0ff28",
   "metadata": {},
   "outputs": [],
   "source": [
    "res[\"RRG\"][\"1src\"][\"1rnd\"] = pd.read_csv(\"RRG_n_100_1src_1rnd_aucs.csv\")"
   ]
  },
  {
   "cell_type": "code",
   "execution_count": 5,
   "id": "b964360b-8f44-42c2-b9e7-d9de1fd20785",
   "metadata": {},
   "outputs": [],
   "source": [
    "res[\"RRG\"][\"1src\"][\"lastobs\"] = pd.read_csv(\"RRG_n_100_1src_lastobs_aucs.csv\")"
   ]
  },
  {
   "cell_type": "code",
   "execution_count": 26,
   "id": "8032f03c-de98-42d6-9722-eb20c1b7c1f4",
   "metadata": {},
   "outputs": [],
   "source": [
    "res[\"RRG\"][\"2src\"][\"lastobs\"] = pd.read_csv(\"RRG_n_100_2src_lastobs_aucs.csv\")"
   ]
  },
  {
   "cell_type": "code",
   "execution_count": 6,
   "id": "c879f4f0-7e52-41e4-ae7f-d3d05d0d08d7",
   "metadata": {},
   "outputs": [],
   "source": [
    "res[\"proximity\"][\"1src\"][\"lastobs\"] = pd.read_csv(\"proximity_n_100_1src_lastobs_aucs.csv\")"
   ]
  },
  {
   "cell_type": "code",
   "execution_count": 7,
   "id": "d103dbde-9943-467b-90cf-0e74ccad11b3",
   "metadata": {},
   "outputs": [],
   "source": [
    "def stats(x):\n",
    "    return np.nanmean(x), np.nanstd(x)/np.sqrt(np.prod(x.shape)-np.isnan(x).sum())"
   ]
  },
  {
   "cell_type": "code",
   "execution_count": 8,
   "id": "dac1c9ae-872f-42e0-a323-748a3a72c83f",
   "metadata": {},
   "outputs": [
    {
     "data": {
      "text/plain": [
       "(0.004006734794194579, 0.022047023975948356)"
      ]
     },
     "execution_count": 8,
     "metadata": {},
     "output_type": "execute_result"
    }
   ],
   "source": [
    "stats(np.random.randn(2000))"
   ]
  },
  {
   "cell_type": "code",
   "execution_count": 9,
   "id": "56900599-d906-4400-bf37-05afee85623e",
   "metadata": {},
   "outputs": [
    {
     "data": {
      "text/plain": [
       "{'sib_psus70_psrc2': 'BP',\n",
       " 'ann_psus07_4lpow_psrc2': 'ANN',\n",
       " 'ann_psus07_3lpow_psrc2': 'MF',\n",
       " 'MF': 'CT'}"
      ]
     },
     "execution_count": 9,
     "metadata": {},
     "output_type": "execute_result"
    }
   ],
   "source": [
    "name_conv = dict(zip(res[\"RRG\"][\"1src\"][\"lastobs\"].keys(),[\"BP\",\"ANN\",\"MF\",\"CT\"]))\n",
    "name_conv"
   ]
  },
  {
   "cell_type": "code",
   "execution_count": 24,
   "id": "d2628949-02ac-4e7f-954c-3aace467ada6",
   "metadata": {},
   "outputs": [],
   "source": [
    "names_all=dict(zip([\"sib_psus70_psrc2\",\"MF\",\"CT\"],[\"BP\",\"MF\",\"CT\"]))"
   ]
  },
  {
   "cell_type": "code",
   "execution_count": 10,
   "id": "c557fb17-eda8-484c-ae91-4db74d80605e",
   "metadata": {},
   "outputs": [
    {
     "data": {
      "text/plain": [
       "(0.008416422814559505, 0.009958195540193632)"
      ]
     },
     "execution_count": 10,
     "metadata": {},
     "output_type": "execute_result"
    }
   ],
   "source": [
    "stats(np.random.randn(10000))"
   ]
  },
  {
   "cell_type": "code",
   "execution_count": 23,
   "id": "d03bc900-6666-4f3a-96a5-35c8fb633c81",
   "metadata": {},
   "outputs": [],
   "source": [
    "isann = lambda n: \"ann\" in n and \"_4lpow_\" in n"
   ]
  },
  {
   "cell_type": "code",
   "execution_count": 41,
   "id": "c06be422-65db-4268-a71c-48b816a7a166",
   "metadata": {},
   "outputs": [
    {
     "name": "stdout",
     "output_type": "stream",
     "text": [
      "work95 1src lastobs\n",
      "ann_psus07_4lpow_psrc2\n",
      "ANN    0.889 \\pm 0.005\n",
      "BP     0.886 \\pm 0.005\n",
      "MF     0.796 \\pm 0.007\n",
      "CT     0.790 \\pm 0.006\n",
      "dtype: object\n",
      "\n",
      "\n",
      "RRG 1src lastobs\n",
      "ann_psus07_4lpow_psrc2\n",
      "ANN    0.707 \\pm 0.010\n",
      "BP     0.710 \\pm 0.010\n",
      "MF     0.704 \\pm 0.010\n",
      "CT     0.685 \\pm 0.009\n",
      "dtype: object\n",
      "\n",
      "\n",
      "RRG 2src lastobs\n",
      "ann_psus07_4lpow_psrc2\n",
      "ANN    0.669 \\pm 0.009\n",
      "BP     0.671 \\pm 0.009\n",
      "MF     0.671 \\pm 0.009\n",
      "CT     0.659 \\pm 0.008\n",
      "dtype: object\n",
      "\n",
      "\n",
      "proximity 1src lastobs\n",
      "ann_psus07_4lpow_psrc2\n",
      "ANN    0.733 \\pm 0.010\n",
      "BP     0.732 \\pm 0.010\n",
      "MF     0.724 \\pm 0.009\n",
      "CT     0.711 \\pm 0.008\n",
      "dtype: object\n",
      "\n",
      "\n"
     ]
    },
    {
     "data": {
      "image/png": "[encoded data removed]",
      "text/plain": [
       "<Figure size 1008x252 with 4 Axes>"
      ]
     },
     "metadata": {
      "needs_background": "light"
     },
     "output_type": "display_data"
    }
   ],
   "source": [
    "fig, axs = plt.subplots(1,4, figsize=(14,3.5))\n",
    "axis = axs.flatten()\n",
    "axs_idx = 0\n",
    "for net, d1 in res.items():\n",
    "    for src, d2 in d1.items():\n",
    "        for obs, vals in d2.items():\n",
    "            #print(len(vals))\n",
    "            \n",
    "            print(\"{} {} {}\".format(net, src, obs))\n",
    "            meanvar = vals.agg(stats)#.rename(columns=name_conv)\n",
    "            keys = meanvar.keys()\n",
    "            try:\n",
    "                ANN_key = next(filter(isann, keys))\n",
    "            except StopIteration as f:\n",
    "                raise ValueError(\"Cannot find key for ANN\") from f\n",
    "            print(ANN_key)\n",
    "            names_new = {ANN_key:\"ANN\"}\n",
    "            names_new.update(names_all)\n",
    "            meanvar = meanvar[names_new.keys()].rename(columns=names_new)\n",
    "            \n",
    "            v = meanvar.T\n",
    "            print(\n",
    "            meanvar.apply(lambda x: \"{:5.3f} \\pm {:5.3f}\".format(x[0], x[1]), axis=0)\n",
    "            )\n",
    "            maxis = axis[axs_idx]\n",
    "            x_pos=range(len(v))\n",
    "            maxis.errorbar(x_pos, v[0], yerr=v[1], fmt=\"o\")\n",
    "            maxis.set_xticks(x_pos)\n",
    "            maxis.set_xticklabels(v.index, rotation=0)\n",
    "            maxis.set_title(\"{} {} - {} cases\".format(net, src, #obs, \n",
    "                                                      len(vals)))\n",
    "            #print(v.apply())\n",
    "            axs_idx+=1\n",
    "            print(\"\\n\")\n",
    "axis[0].set_ylabel(\"ROC AUCs in finding infected\")\n",
    "plt.tight_layout()\n",
    "fig.savefig(\"Avg_auc.svg\", bbox_inches=\"tight\")"
   ]
  },
  {
   "cell_type": "code",
   "execution_count": null,
   "id": "ebaaf5dc-d0ca-45b3-b4c4-a29eec66419f",
   "metadata": {},
   "outputs": [],
   "source": [
    "fig.savefig()"
   ]
  },
  {
   "cell_type": "code",
   "execution_count": 20,
   "id": "fa47ed9f-a8bc-47a9-91aa-529aef574d9b",
   "metadata": {},
   "outputs": [
    {
     "data": {
      "text/html": [
       "<div>\n",
       "<style scoped>\n",
       "    .dataframe tbody tr th:only-of-type {\n",
       "        vertical-align: middle;\n",
       "    }\n",
       "\n",
       "    .dataframe tbody tr th {\n",
       "        vertical-align: top;\n",
       "    }\n",
       "\n",
       "    .dataframe thead th {\n",
       "        text-align: right;\n",
       "    }\n",
       "</style>\n",
       "<table border=\"1\" class=\"dataframe\">\n",
       "  <thead>\n",
       "    <tr style=\"text-align: right;\">\n",
       "      <th></th>\n",
       "      <th>0</th>\n",
       "      <th>1</th>\n",
       "    </tr>\n",
       "  </thead>\n",
       "  <tbody>\n",
       "    <tr>\n",
       "      <th>sib_psus60</th>\n",
       "      <td>0.668750</td>\n",
       "      <td>0.000874</td>\n",
       "    </tr>\n",
       "    <tr>\n",
       "      <th>ann_psus06_4lpow</th>\n",
       "      <td>0.662903</td>\n",
       "      <td>0.000890</td>\n",
       "    </tr>\n",
       "    <tr>\n",
       "      <th>MF</th>\n",
       "      <td>0.671186</td>\n",
       "      <td>0.000882</td>\n",
       "    </tr>\n",
       "    <tr>\n",
       "      <th>CT</th>\n",
       "      <td>0.659430</td>\n",
       "      <td>0.000832</td>\n",
       "    </tr>\n",
       "  </tbody>\n",
       "</table>\n",
       "</div>"
      ],
      "text/plain": [
       "                         0         1\n",
       "sib_psus60        0.668750  0.000874\n",
       "ann_psus06_4lpow  0.662903  0.000890\n",
       "MF                0.671186  0.000882\n",
       "CT                0.659430  0.000832"
      ]
     },
     "execution_count": 20,
     "metadata": {},
     "output_type": "execute_result"
    }
   ],
   "source": [
    "maxis.set_xticklabels"
   ]
  },
  {
   "cell_type": "code",
   "execution_count": 46,
   "id": "3994088e-d8cd-49b7-9d22-ecc4b6842052",
   "metadata": {},
   "outputs": [
    {
     "data": {
      "text/plain": [
       "sib_psus60          0.6688 \\pm 0.0009\n",
       "ann_psus06_4lpow    0.6629 \\pm 0.0009\n",
       "MF                  0.6712 \\pm 0.0009\n",
       "CT                  0.6594 \\pm 0.0008\n",
       "dtype: object"
      ]
     },
     "execution_count": 46,
     "metadata": {},
     "output_type": "execute_result"
    }
   ],
   "source": [
    "meanvar.apply(lambda x: \"{:5.4f} \\pm {:5.4f}\".format(x[0], x[1]), axis=0)"
   ]
  },
  {
   "cell_type": "code",
   "execution_count": 44,
   "id": "fd8a50c4-e709-4ccb-94b0-ef50d375d246",
   "metadata": {},
   "outputs": [
    {
     "data": {
      "text/plain": [
       "0.8776183260877327"
      ]
     },
     "execution_count": 44,
     "metadata": {},
     "output_type": "execute_result"
    }
   ],
   "source": [
    "np.mean(vals[\"sib_psus60\"])"
   ]
  },
  {
   "cell_type": "code",
   "execution_count": 45,
   "id": "77d5df53-057b-4b62-ade8-d486e9d2c8f3",
   "metadata": {},
   "outputs": [
    {
     "data": {
      "text/plain": [
       "0.0004951556291758689"
      ]
     },
     "execution_count": 45,
     "metadata": {},
     "output_type": "execute_result"
    }
   ],
   "source": [
    "np.std(vals[\"sib_psus60\"])/len(vals)"
   ]
  },
  {
   "cell_type": "code",
   "execution_count": 43,
   "id": "1271f89a-47a2-462c-a565-3836839393d3",
   "metadata": {},
   "outputs": [],
   "source": [
    "vals = res[\"work95\"][\"2src\"][\"lastobs\"]"
   ]
  },
  {
   "cell_type": "code",
   "execution_count": null,
   "id": "d47ad465-cac2-4b98-be60-f050f9565912",
   "metadata": {},
   "outputs": [],
   "source": []
  }
 ],
 "metadata": {
  "kernelspec": {
   "display_name": "Python 3.8 (torche)",
   "language": "python",
   "name": "python38torche"
  },
  "language_info": {
   "codemirror_mode": {
    "name": "ipython",
    "version": 3
   },
   "file_extension": ".py",
   "mimetype": "text/x-python",
   "name": "python",
   "nbconvert_exporter": "python",
   "pygments_lexer": "ipython3",
   "version": "3.8.8"
  }
 },
 "nbformat": 4,
 "nbformat_minor": 5
}
