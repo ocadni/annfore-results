{
 "cells": [
  {
   "cell_type": "markdown",
   "id": "2bce25bd",
   "metadata": {},
   "source": [
    "## Parse results from algos"
   ]
  },
  {
   "cell_type": "code",
   "execution_count": 1,
   "id": "90be110c-9368-4d0f-9d8d-e2c720adfa38",
   "metadata": {},
   "outputs": [],
   "source": [
    "import numpy as np\n",
    "import numba as nb\n",
    "import pandas as pd\n",
    "\n",
    "import matplotlib.pyplot as plt\n",
    "\n",
    "import sys\n",
    "sys.path.insert(0, '../../src/')\n",
    "import networkx as nx\n",
    "\n",
    "import io_m.libsaving as libsaving\n",
    "import io_m.io_utils as io_utils\n",
    "\n",
    "from importlib import reload\n",
    "\n",
    "from forward_sim import epidemy_gen"
   ]
  },
  {
   "cell_type": "code",
   "execution_count": null,
   "id": "7afa292a-1543-4856-881c-cc6fc2c11a65",
   "metadata": {},
   "outputs": [],
   "source": [
    "type_graph=\"RRG\"\n",
    "seed=7\n",
    "#seed=8\n",
    "N=100\n",
    "d=10\n",
    "height=3\n",
    "lam=0.04\n",
    "mu=0.02\n",
    "t_limit=15\n",
    "p_edge=1\n",
    "#sparse observ\n",
    "pr_sympt=0.5\n",
    "n_test_rnd=3\n",
    "#n_test_rnd=0\n",
    "p_test_delay=[0, 0.6,0.4]\n",
    "p_test_delay = np.array(p_test_delay)/sum(p_test_delay)\n",
    "nsrc = 1\n",
    "\n",
    "last_time_obs=False\n",
    "\n",
    "gamma=1e-3\n",
    "small_lambda_limit=0\n",
    "path_contacts=None"
   ]
  },
  {
   "cell_type": "code",
   "execution_count": 3,
   "id": "ba27c0c9-8979-46c0-a3b8-07a64079a6bc",
   "metadata": {},
   "outputs": [],
   "source": [
    "type_graph=\"TREE\"\n",
    "N=100\n",
    "d=5\n",
    "height=3\n",
    "lam=0.3\n",
    "mu=0.\n",
    "t_limit=12\n",
    "p_edge=1\n",
    "\n",
    "seed=9\n",
    "nsrc=1\n",
    "\n",
    "pr_sympt=0.5\n",
    "n_test_rnd=1\n",
    "#n_test_rnd=0\n",
    "p_test_delay=[0, 0.6,0.4]\n",
    "p_test_delay = np.array(p_test_delay)/sum(p_test_delay)\n",
    "\n",
    "last_time_obs=False\n",
    "\n",
    "gamma=1e-3\n",
    "small_lambda_limit=0\n",
    "path_contacts=None\n",
    "last_time_obs=True"
   ]
  },
  {
   "cell_type": "code",
   "execution_count": null,
   "id": "18dd75e9-45c1-48b9-942b-ffe8b2279ce6",
   "metadata": {},
   "outputs": [],
   "source": [
    "type_graph=\"i_bird\"\n",
    "seed=9\n",
    "N=100\n",
    "d=10\n",
    "height=3\n",
    "lam=0.04\n",
    "mu=0.02\n",
    "t_limit=12\n",
    "p_edge=1\n",
    "nsrc=2\n",
    "\n",
    "gamma=1e-3\n",
    "small_lambda_limit=0\n",
    "path_contacts=\"../../results/patient_zero/work/work_13_contacts.npz\"\n",
    "#sparse observ\n",
    "pr_sympt=0.5\n",
    "#n_test_rnd=3\n",
    "n_test_rnd=0\n",
    "p_test_delay=[0, 0.6,0.4]\n",
    "p_test_delay = np.array(p_test_delay)/sum(p_test_delay)\n",
    "\n",
    "last_time_obs = True"
   ]
  },
  {
   "cell_type": "code",
   "execution_count": null,
   "id": "c268a795-e723-44a2-8c80-a2cc8e5dfed3",
   "metadata": {},
   "outputs": [],
   "source": [
    "## WORK CONTACTS ONE SOURCE\n",
    "type_graph=\"i_bird\"\n",
    "seed=4\n",
    "N=100\n",
    "d=10\n",
    "height=3\n",
    "lam=0.03\n",
    "mu=0.\n",
    "t_limit=12\n",
    "p_edge=1\n",
    "nsrc=1\n",
    "\n",
    "gamma=1e-3\n",
    "small_lambda_limit=0\n",
    "path_contacts=\"../../results/patient_zero/work/work_13_contacts.npz\"\n",
    "#sparse observ\n",
    "pr_sympt=0.5\n",
    "#n_test_rnd=3\n",
    "n_test_rnd=1\n",
    "p_test_delay=[0, 0.4,0.5,0.6]\n",
    "p_test_delay = np.array(p_test_delay)/sum(p_test_delay)\n",
    "\n",
    "last_time_obs = False"
   ]
  },
  {
   "cell_type": "code",
   "execution_count": 2,
   "id": "25266d14-9a54-4ab3-99d8-7cdbabbde818",
   "metadata": {},
   "outputs": [],
   "source": [
    "## WORK CONTACTS 1 src LAST OBS\n",
    "type_graph=\"i_bird\"\n",
    "seed=6\n",
    "N=100\n",
    "d=10\n",
    "height=3\n",
    "lam=0.03\n",
    "mu=0.\n",
    "t_limit=12\n",
    "p_edge=1\n",
    "nsrc=1\n",
    "\n",
    "gamma=1e-3\n",
    "small_lambda_limit=0\n",
    "path_contacts=\"../../results/patient_zero/work/work_13_contacts.npz\"\n",
    "#sparse observ\n",
    "pr_sympt=0.5\n",
    "#n_test_rnd=3\n",
    "n_test_rnd=0\n",
    "p_test_delay=[0, 0.4,0.5,0.6]\n",
    "p_test_delay = np.array(p_test_delay)/sum(p_test_delay)\n",
    "\n",
    "last_time_obs = True"
   ]
  },
  {
   "cell_type": "code",
   "execution_count": null,
   "id": "883234c4-2ff9-44d5-8df8-405fea4bcdfc",
   "metadata": {},
   "outputs": [],
   "source": [
    "## WORK CONTACTS 2 src last obs\n",
    "type_graph=\"i_bird\"\n",
    "seed=4\n",
    "N=100\n",
    "d=10\n",
    "height=3\n",
    "lam=0.03\n",
    "mu=0.\n",
    "t_limit=12\n",
    "p_edge=1\n",
    "nsrc=2\n",
    "\n",
    "gamma=1e-3\n",
    "small_lambda_limit=0\n",
    "path_contacts=\"../../results/patient_zero/work/work_13_contacts.npz\"\n",
    "#sparse observ\n",
    "pr_sympt=0.5\n",
    "#n_test_rnd=3\n",
    "n_test_rnd=0\n",
    "p_test_delay=[0, 0.4,0.5,0.6]\n",
    "p_test_delay = np.array(p_test_delay)/sum(p_test_delay)\n",
    "\n",
    "last_time_obs = True"
   ]
  },
  {
   "cell_type": "code",
   "execution_count": null,
   "id": "e7ec514a-3771-4c48-965b-914227e0b025",
   "metadata": {},
   "outputs": [],
   "source": [
    "type_graph=\"i_bird\"\n",
    "N=100\n",
    "d=10\n",
    "height=3\n",
    "lam=0.04\n",
    "mu=0.02\n",
    "t_limit=14\n",
    "p_edge=1\n",
    "seed=5\n",
    "scale=1\n",
    "nsrc=2\n",
    "\n",
    "gamma=2e-4\n",
    "small_lambda_limit=300\n",
    "path_contacts=\"../../results/patient_zero/i_bird/i_bird_contacts.npz\"\n",
    "#sparse observ\n",
    "pr_sympt=0.5\n",
    "#n_test_rnd=3\n",
    "n_test_rnd=0\n",
    "p_test_delay=[0, 1., 1., 1., 1.]\n",
    "p_test_delay = np.array(p_test_delay)/sum(p_test_delay)\n",
    "\n",
    "last_time_obs = True"
   ]
  },
  {
   "cell_type": "code",
   "execution_count": 3,
   "id": "f41d433e",
   "metadata": {},
   "outputs": [],
   "source": [
    "INSTANCE = libsaving.EpInstance(type_graph, N, d, t_limit,\n",
    "                                lam, mu, seed, p_edge, n_source=nsrc)"
   ]
  },
  {
   "cell_type": "code",
   "execution_count": 4,
   "id": "3bbcde02",
   "metadata": {},
   "outputs": [],
   "source": [
    "extra_gen = {\"h\":height}"
   ]
  },
  {
   "cell_type": "code",
   "execution_count": 5,
   "id": "a3215486-9524-401c-a143-3c89601c710b",
   "metadata": {},
   "outputs": [],
   "source": [
    "extra_gen.update({\"gamma\":gamma, \"small_lambda_limit\":small_lambda_limit, \"path_contacts\": path_contacts})"
   ]
  },
  {
   "cell_type": "code",
   "execution_count": 7,
   "id": "88b8c135",
   "metadata": {},
   "outputs": [],
   "source": [
    "\n",
    "num_conf=100\n",
    "start_conf=0"
   ]
  },
  {
   "cell_type": "code",
   "execution_count": 8,
   "id": "a0a7bbab",
   "metadata": {},
   "outputs": [
    {
     "name": "stdout",
     "output_type": "stream",
     "text": [
      "number of contacts: 20856\n",
      "Lim infected: 1, Lim max infected: 96\n",
      "Num sources:  1\n",
      "\n",
      "3 (2.91%) epidemies refused\n",
      "\n",
      "S:35, I:60, R:0\n",
      "S:60, I:35, R:0\n",
      "S:37, I:58, R:0\n",
      "S:29, I:66, R:0\n",
      "S:30, I:65, R:0\n",
      "S:28, I:67, R:0\n",
      "S:66, I:29, R:0\n",
      "S:45, I:50, R:0\n",
      "S:35, I:60, R:0\n",
      "S:61, I:34, R:0\n",
      "S:38, I:57, R:0\n",
      "S:73, I:22, R:0\n",
      "S:32, I:63, R:0\n",
      "S:71, I:24, R:0\n",
      "S:45, I:50, R:0\n",
      "S:46, I:49, R:0\n",
      "S:35, I:60, R:0\n",
      "S:70, I:25, R:0\n",
      "S:46, I:49, R:0\n",
      "S:43, I:52, R:0\n",
      "S:73, I:22, R:0\n",
      "S:61, I:34, R:0\n",
      "S:37, I:58, R:0\n",
      "S:30, I:65, R:0\n",
      "S:31, I:64, R:0\n",
      "S:74, I:21, R:0\n",
      "S:50, I:45, R:0\n",
      "S:66, I:29, R:0\n",
      "S:23, I:72, R:0\n",
      "S:88, I:7, R:0\n",
      "S:32, I:63, R:0\n",
      "S:42, I:53, R:0\n",
      "S:55, I:40, R:0\n",
      "S:32, I:63, R:0\n",
      "S:75, I:20, R:0\n",
      "S:33, I:62, R:0\n",
      "S:24, I:71, R:0\n",
      "S:61, I:34, R:0\n",
      "S:50, I:45, R:0\n",
      "S:64, I:31, R:0\n",
      "S:42, I:53, R:0\n",
      "S:40, I:55, R:0\n",
      "S:25, I:70, R:0\n",
      "S:42, I:53, R:0\n",
      "S:29, I:66, R:0\n",
      "S:44, I:51, R:0\n",
      "S:51, I:44, R:0\n",
      "S:69, I:26, R:0\n",
      "S:40, I:55, R:0\n",
      "S:37, I:58, R:0\n",
      "S:59, I:36, R:0\n",
      "S:46, I:49, R:0\n",
      "S:32, I:63, R:0\n",
      "S:27, I:68, R:0\n",
      "S:49, I:46, R:0\n",
      "S:33, I:62, R:0\n",
      "S:52, I:43, R:0\n",
      "S:39, I:56, R:0\n",
      "S:57, I:38, R:0\n",
      "S:33, I:62, R:0\n",
      "S:63, I:32, R:0\n",
      "S:55, I:40, R:0\n",
      "S:56, I:39, R:0\n",
      "S:50, I:45, R:0\n",
      "S:28, I:67, R:0\n",
      "S:70, I:25, R:0\n",
      "S:43, I:52, R:0\n",
      "S:58, I:37, R:0\n",
      "S:63, I:32, R:0\n",
      "S:26, I:69, R:0\n",
      "S:53, I:42, R:0\n",
      "S:37, I:58, R:0\n",
      "S:75, I:20, R:0\n",
      "S:57, I:38, R:0\n",
      "S:82, I:13, R:0\n",
      "S:84, I:11, R:0\n",
      "S:37, I:58, R:0\n",
      "S:45, I:50, R:0\n",
      "S:58, I:37, R:0\n",
      "S:56, I:39, R:0\n",
      "S:38, I:57, R:0\n",
      "S:41, I:54, R:0\n",
      "S:81, I:14, R:0\n",
      "S:57, I:38, R:0\n",
      "S:34, I:61, R:0\n",
      "S:76, I:19, R:0\n",
      "S:26, I:69, R:0\n",
      "S:41, I:54, R:0\n",
      "S:34, I:61, R:0\n",
      "S:38, I:57, R:0\n",
      "S:55, I:40, R:0\n",
      "S:67, I:28, R:0\n",
      "S:34, I:61, R:0\n",
      "S:34, I:61, R:0\n",
      "S:71, I:24, R:0\n",
      "S:40, I:55, R:0\n",
      "S:43, I:52, R:0\n",
      "S:47, I:48, R:0\n",
      "S:54, I:41, R:0\n",
      "S:40, I:55, R:0\n",
      "No graph\n"
     ]
    }
   ],
   "source": [
    "reload(epidemy_gen)\n",
    "mdata = epidemy_gen.epidemy_gen_epinstance(INSTANCE, 1, \n",
    "                                           num_conf=num_conf, extra_gen=extra_gen, verbose=False,\n",
    "                                          num_sources=nsrc)"
   ]
  },
  {
   "cell_type": "code",
   "execution_count": 9,
   "id": "0cb38549-866b-4d94-b3f9-6cb380a32b09",
   "metadata": {},
   "outputs": [
    {
     "data": {
      "text/plain": [
       "100"
      ]
     },
     "execution_count": 9,
     "metadata": {},
     "output_type": "execute_result"
    }
   ],
   "source": [
    "len(mdata[\"test\"])"
   ]
  },
  {
   "cell_type": "code",
   "execution_count": 10,
   "id": "d681bcd1-d731-4459-8687-c59124da8131",
   "metadata": {},
   "outputs": [
    {
     "data": {
      "text/plain": [
       "'i_bird_n_95_d_10_tlim_12_lam_0.03_mu_0_s_6_pe_1.0'"
      ]
     },
     "execution_count": 10,
     "metadata": {},
     "output_type": "execute_result"
    }
   ],
   "source": [
    "INSTANCE.p_edge = float(INSTANCE.p_edge)\n",
    "str(INSTANCE)"
   ]
  },
  {
   "cell_type": "code",
   "execution_count": 11,
   "id": "f10e486b",
   "metadata": {},
   "outputs": [],
   "source": [
    "confs=np.array(mdata[\"test\"])\n",
    "sources = [np.where(c==1)[0] for c in confs[:,0]]\n"
   ]
  },
  {
   "cell_type": "code",
   "execution_count": 12,
   "id": "01c07dde",
   "metadata": {},
   "outputs": [],
   "source": [
    "fin_conf = confs[:,1]"
   ]
  },
  {
   "cell_type": "code",
   "execution_count": 13,
   "id": "7d002afe-9d82-48ae-9e65-fc287ff9e448",
   "metadata": {},
   "outputs": [
    {
     "data": {
      "text/plain": [
       "0"
      ]
     },
     "execution_count": 13,
     "metadata": {},
     "output_type": "execute_result"
    }
   ],
   "source": [
    "(confs[:,0].sum(-1)!=nsrc).sum()"
   ]
  },
  {
   "cell_type": "code",
   "execution_count": 14,
   "id": "3f5fe49f-356f-41ee-aca8-778d9209c569",
   "metadata": {},
   "outputs": [
    {
     "data": {
      "text/plain": [
       "58"
      ]
     },
     "execution_count": 14,
     "metadata": {},
     "output_type": "execute_result"
    }
   ],
   "source": [
    "np.array(mdata[\"test\"][22])[1].sum()"
   ]
  },
  {
   "cell_type": "code",
   "execution_count": 15,
   "id": "f439c534-0078-4b2a-9acb-477665ed25e4",
   "metadata": {},
   "outputs": [],
   "source": [
    "from io_m import read_results\n",
    "\n",
    "from forward_sim import generators\n",
    "reload(generators)\n",
    "\n",
    "from analysis import risk_pred\n",
    "\n",
    "from forward_sim import gen_observ"
   ]
  },
  {
   "cell_type": "code",
   "execution_count": 16,
   "id": "979f1d55",
   "metadata": {},
   "outputs": [],
   "source": [
    "epidemies = generators.calc_epidemies(mdata[\"epidemy\"], mdata[\"test\"], t_limit)\n",
    "##LAST TIME\n",
    "if last_time_obs:\n",
    "    rdf, rjson = gen_observ.make_sparse_obs_last_t(mdata, INSTANCE.t_limit, pr_sympt,seed=seed,\n",
    "                                               verbose=False, numeric_obs=True)\n",
    "else:\n",
    "    rdf, rjson = gen_observ.make_sparse_obs_default(mdata, INSTANCE.t_limit, \n",
    "                                               n_test_rnd, pr_sympt, \n",
    "                                               p_test_delay,seed, False, numeric_obs=True)\n"
   ]
  },
  {
   "cell_type": "code",
   "execution_count": 17,
   "id": "56c1a3ee-2950-43d7-ad0a-b99dabd63026",
   "metadata": {},
   "outputs": [
    {
     "data": {
      "text/html": [
       "<div>\n",
       "<style scoped>\n",
       "    .dataframe tbody tr th:only-of-type {\n",
       "        vertical-align: middle;\n",
       "    }\n",
       "\n",
       "    .dataframe tbody tr th {\n",
       "        vertical-align: top;\n",
       "    }\n",
       "\n",
       "    .dataframe thead th {\n",
       "        text-align: right;\n",
       "    }\n",
       "</style>\n",
       "<table border=\"1\" class=\"dataframe\">\n",
       "  <thead>\n",
       "    <tr style=\"text-align: right;\">\n",
       "      <th></th>\n",
       "      <th>time</th>\n",
       "      <th>node</th>\n",
       "      <th>obs</th>\n",
       "    </tr>\n",
       "  </thead>\n",
       "  <tbody>\n",
       "    <tr>\n",
       "      <th>0</th>\n",
       "      <td>12</td>\n",
       "      <td>3</td>\n",
       "      <td>1</td>\n",
       "    </tr>\n",
       "    <tr>\n",
       "      <th>1</th>\n",
       "      <td>12</td>\n",
       "      <td>6</td>\n",
       "      <td>1</td>\n",
       "    </tr>\n",
       "    <tr>\n",
       "      <th>2</th>\n",
       "      <td>12</td>\n",
       "      <td>7</td>\n",
       "      <td>1</td>\n",
       "    </tr>\n",
       "    <tr>\n",
       "      <th>3</th>\n",
       "      <td>12</td>\n",
       "      <td>8</td>\n",
       "      <td>1</td>\n",
       "    </tr>\n",
       "    <tr>\n",
       "      <th>4</th>\n",
       "      <td>12</td>\n",
       "      <td>9</td>\n",
       "      <td>1</td>\n",
       "    </tr>\n",
       "    <tr>\n",
       "      <th>5</th>\n",
       "      <td>12</td>\n",
       "      <td>11</td>\n",
       "      <td>1</td>\n",
       "    </tr>\n",
       "    <tr>\n",
       "      <th>6</th>\n",
       "      <td>12</td>\n",
       "      <td>19</td>\n",
       "      <td>1</td>\n",
       "    </tr>\n",
       "    <tr>\n",
       "      <th>7</th>\n",
       "      <td>12</td>\n",
       "      <td>26</td>\n",
       "      <td>1</td>\n",
       "    </tr>\n",
       "    <tr>\n",
       "      <th>8</th>\n",
       "      <td>12</td>\n",
       "      <td>29</td>\n",
       "      <td>1</td>\n",
       "    </tr>\n",
       "    <tr>\n",
       "      <th>9</th>\n",
       "      <td>12</td>\n",
       "      <td>30</td>\n",
       "      <td>1</td>\n",
       "    </tr>\n",
       "    <tr>\n",
       "      <th>10</th>\n",
       "      <td>12</td>\n",
       "      <td>32</td>\n",
       "      <td>1</td>\n",
       "    </tr>\n",
       "    <tr>\n",
       "      <th>11</th>\n",
       "      <td>12</td>\n",
       "      <td>33</td>\n",
       "      <td>1</td>\n",
       "    </tr>\n",
       "    <tr>\n",
       "      <th>12</th>\n",
       "      <td>12</td>\n",
       "      <td>34</td>\n",
       "      <td>1</td>\n",
       "    </tr>\n",
       "    <tr>\n",
       "      <th>13</th>\n",
       "      <td>12</td>\n",
       "      <td>39</td>\n",
       "      <td>1</td>\n",
       "    </tr>\n",
       "    <tr>\n",
       "      <th>14</th>\n",
       "      <td>12</td>\n",
       "      <td>41</td>\n",
       "      <td>1</td>\n",
       "    </tr>\n",
       "    <tr>\n",
       "      <th>15</th>\n",
       "      <td>12</td>\n",
       "      <td>44</td>\n",
       "      <td>1</td>\n",
       "    </tr>\n",
       "    <tr>\n",
       "      <th>16</th>\n",
       "      <td>12</td>\n",
       "      <td>52</td>\n",
       "      <td>1</td>\n",
       "    </tr>\n",
       "    <tr>\n",
       "      <th>17</th>\n",
       "      <td>12</td>\n",
       "      <td>53</td>\n",
       "      <td>1</td>\n",
       "    </tr>\n",
       "    <tr>\n",
       "      <th>18</th>\n",
       "      <td>12</td>\n",
       "      <td>54</td>\n",
       "      <td>1</td>\n",
       "    </tr>\n",
       "    <tr>\n",
       "      <th>19</th>\n",
       "      <td>12</td>\n",
       "      <td>65</td>\n",
       "      <td>1</td>\n",
       "    </tr>\n",
       "    <tr>\n",
       "      <th>20</th>\n",
       "      <td>12</td>\n",
       "      <td>67</td>\n",
       "      <td>1</td>\n",
       "    </tr>\n",
       "    <tr>\n",
       "      <th>21</th>\n",
       "      <td>12</td>\n",
       "      <td>73</td>\n",
       "      <td>1</td>\n",
       "    </tr>\n",
       "    <tr>\n",
       "      <th>22</th>\n",
       "      <td>12</td>\n",
       "      <td>74</td>\n",
       "      <td>1</td>\n",
       "    </tr>\n",
       "    <tr>\n",
       "      <th>23</th>\n",
       "      <td>12</td>\n",
       "      <td>75</td>\n",
       "      <td>1</td>\n",
       "    </tr>\n",
       "    <tr>\n",
       "      <th>24</th>\n",
       "      <td>12</td>\n",
       "      <td>76</td>\n",
       "      <td>1</td>\n",
       "    </tr>\n",
       "    <tr>\n",
       "      <th>25</th>\n",
       "      <td>12</td>\n",
       "      <td>85</td>\n",
       "      <td>1</td>\n",
       "    </tr>\n",
       "    <tr>\n",
       "      <th>26</th>\n",
       "      <td>12</td>\n",
       "      <td>86</td>\n",
       "      <td>1</td>\n",
       "    </tr>\n",
       "    <tr>\n",
       "      <th>27</th>\n",
       "      <td>12</td>\n",
       "      <td>91</td>\n",
       "      <td>1</td>\n",
       "    </tr>\n",
       "    <tr>\n",
       "      <th>28</th>\n",
       "      <td>12</td>\n",
       "      <td>94</td>\n",
       "      <td>1</td>\n",
       "    </tr>\n",
       "  </tbody>\n",
       "</table>\n",
       "</div>"
      ],
      "text/plain": [
       "    time  node  obs\n",
       "0     12     3    1\n",
       "1     12     6    1\n",
       "2     12     7    1\n",
       "3     12     8    1\n",
       "4     12     9    1\n",
       "5     12    11    1\n",
       "6     12    19    1\n",
       "7     12    26    1\n",
       "8     12    29    1\n",
       "9     12    30    1\n",
       "10    12    32    1\n",
       "11    12    33    1\n",
       "12    12    34    1\n",
       "13    12    39    1\n",
       "14    12    41    1\n",
       "15    12    44    1\n",
       "16    12    52    1\n",
       "17    12    53    1\n",
       "18    12    54    1\n",
       "19    12    65    1\n",
       "20    12    67    1\n",
       "21    12    73    1\n",
       "22    12    74    1\n",
       "23    12    75    1\n",
       "24    12    76    1\n",
       "25    12    85    1\n",
       "26    12    86    1\n",
       "27    12    91    1\n",
       "28    12    94    1"
      ]
     },
     "execution_count": 17,
     "metadata": {},
     "output_type": "execute_result"
    }
   ],
   "source": [
    "rdf[22]"
   ]
  },
  {
   "cell_type": "code",
   "execution_count": 31,
   "id": "60d396cf-32b9-4873-ba87-dd54273f0f2e",
   "metadata": {},
   "outputs": [],
   "source": [
    "sources =[np.where(x[0]) for x in mdata[\"test\"]]"
   ]
  },
  {
   "cell_type": "code",
   "execution_count": 34,
   "id": "c179eb19-f1c1-4f15-b75f-7c67ca52b27b",
   "metadata": {},
   "outputs": [
    {
     "data": {
      "text/plain": [
       "(array([39]),)"
      ]
     },
     "execution_count": 34,
     "metadata": {},
     "output_type": "execute_result"
    }
   ],
   "source": [
    "sources[75]"
   ]
  },
  {
   "cell_type": "markdown",
   "id": "12dc8e4a",
   "metadata": {},
   "source": [
    "## Read marginals"
   ]
  },
  {
   "cell_type": "code",
   "execution_count": 18,
   "id": "590daf99",
   "metadata": {},
   "outputs": [],
   "source": [
    "def load_margs(f):\n",
    "    fil = np.load(f)\n",
    "    m = fil[\"marginals\"]\n",
    "    fil.close()\n",
    "    return m"
   ]
  },
  {
   "cell_type": "code",
   "execution_count": 19,
   "id": "fa0234a2",
   "metadata": {},
   "outputs": [],
   "source": [
    "INSTANCE.p_edge = 1."
   ]
  },
  {
   "cell_type": "code",
   "execution_count": 20,
   "id": "e080ec81-dccb-43f4-a19e-2da618d7de2a",
   "metadata": {},
   "outputs": [],
   "source": [
    "folder_new = f\"{INSTANCE.type_graph}_{nsrc}src\"\n",
    "#folder_new = f\"{INSTANCE.type_graph}\""
   ]
  },
  {
   "cell_type": "code",
   "execution_count": 21,
   "id": "49e40a33-eed6-47be-870c-81f5e3ed5abc",
   "metadata": {},
   "outputs": [],
   "source": [
    "st_conf = start_conf\n",
    "confs_load=(st_conf,num_conf+st_conf)"
   ]
  },
  {
   "cell_type": "code",
   "execution_count": 22,
   "id": "a22de140-bae3-405f-9691-333b498f9b79",
   "metadata": {},
   "outputs": [
    {
     "name": "stdout",
     "output_type": "stream",
     "text": [
      "i_bird_lastobs_\n",
      "/home/fmazza/projects/nn_epidemics/test/sparse_obs_fix/sib/i_bird_1src\n"
     ]
    }
   ],
   "source": [
    "margs_all = {}\n",
    "if not last_time_obs:\n",
    "    name = f\"{INSTANCE.type_graph}_{n_test_rnd}rnd_\" #psus06_\"\n",
    "else:\n",
    "    name = f\"{type_graph}_lastobs_\"#psus06_\"\n",
    "print(name)\n",
    "    \n",
    "folder=f\"sib/{INSTANCE.type_graph}_{nsrc}src/\"\n",
    "#folder=f\"sib/{INSTANCE.type_graph}_nsrc{nsrc}/\"\n",
    "name_psus06=name+\"psus06_\"\n",
    "margs_all[\"sib_psus60\"] =read_results.read_sib_data_def(\n",
    "    folder, INSTANCE, height, name_psus06,\n",
    "    range_confs=confs_load)"
   ]
  },
  {
   "cell_type": "code",
   "execution_count": 23,
   "id": "7fc29992-c52a-4e4d-8196-5f40ee1706f5",
   "metadata": {},
   "outputs": [
    {
     "name": "stdout",
     "output_type": "stream",
     "text": [
      "/home/fmazza/projects/nn_epidemics/test/sparse_obs_fix/sib/i_bird_1src\n"
     ]
    }
   ],
   "source": [
    "margs_all[\"sib_psus70_psrc2\"] =read_results.read_sib_data_def(\n",
    "    folder, INSTANCE, height, name+\"psus07_src2_\",\n",
    "    range_confs=confs_load)"
   ]
  },
  {
   "cell_type": "code",
   "execution_count": 137,
   "id": "b38bc6bc-7ddd-4cff-93a6-33faf345054e",
   "metadata": {},
   "outputs": [
    {
     "name": "stdout",
     "output_type": "stream",
     "text": [
      "/home/fmazza/projects/nn_epidemics/test/sparse_obs_fix/sib/i_bird_1src\n"
     ]
    }
   ],
   "source": [
    "#extra=\"psrc2_\"\n",
    "extra=\"src2_\"\n",
    "margs_all[\"sib_psus60_psrc2\"] =read_results.read_sib_data_def(\n",
    "    folder, INSTANCE, height, name_psus06+extra,\n",
    "    range_confs=confs_load)"
   ]
  },
  {
   "cell_type": "code",
   "execution_count": 27,
   "id": "955ac83c-e71f-4ac3-96d8-1cb30f908d62",
   "metadata": {},
   "outputs": [],
   "source": [
    "folder_ann = f\"ann/good_new/{folder_new}\""
   ]
  },
  {
   "cell_type": "code",
   "execution_count": 32,
   "id": "dad86102-96b9-4dc4-9ba3-e59ea44b3e6c",
   "metadata": {},
   "outputs": [
    {
     "name": "stdout",
     "output_type": "stream",
     "text": [
      "/home/fmazza/projects/nn_epidemics/test/sparse_obs_fix/ann/good_new/TREE_1src\n"
     ]
    }
   ],
   "source": [
    "init_name=\"10kst10ks_lastobs_4lpow_psus06_\"\n",
    "margs_all[\"ann_psus06_4lpow\"] = read_results.read_margs_inst(folder_ann,\n",
    "                                        INSTANCE,\n",
    "                                        prefix=init_name,\n",
    "                                        #prefix=f\"psrc4_{n_test_rnd}rnd_newfin06Bal_\",\n",
    "                                        range_confs=confs_load)"
   ]
  },
  {
   "cell_type": "markdown",
   "id": "9fb247f0-4524-45c4-91c6-7d5111c0c0c8",
   "metadata": {},
   "source": [
    "### ANN RRG"
   ]
  },
  {
   "cell_type": "code",
   "execution_count": null,
   "id": "76dea9c8-6f28-408f-b222-563000ce31b3",
   "metadata": {},
   "outputs": [],
   "source": [
    "margs_all[\"ann_psus06\"] = read_results.read_margs_inst(folder_ann,\n",
    "                                        INSTANCE,\n",
    "                                        prefix=f\"psrc4_3rnd_newfin06Bal_\",\n",
    "                                        #prefix=f\"psrc4_{n_test_rnd}rnd_newfin06Bal_\",\n",
    "                                        n_end=num_conf)"
   ]
  },
  {
   "cell_type": "code",
   "execution_count": null,
   "id": "fee3e1f9-f2a4-44dc-8138-716ccd9b543c",
   "metadata": {},
   "outputs": [],
   "source": [
    "margs_all[\"ann_psus06_nn\"] = read_results.read_margs_inst(folder_ann,\n",
    "                                        INSTANCE,\n",
    "                                        prefix=f\"8ks8kst_3rnd_psus06_6exp_nn_\",\n",
    "                                        #prefix=f\"psrc4_{n_test_rnd}rnd_newfin06Bal_\",\n",
    "                                        n_end=num_conf)"
   ]
  },
  {
   "cell_type": "markdown",
   "id": "f9b50be6-a49e-46d5-9711-f7f0771c50d5",
   "metadata": {},
   "source": [
    "### ANN work 1 src"
   ]
  },
  {
   "cell_type": "code",
   "execution_count": null,
   "id": "957220f2-f35c-4e86-b9c0-08642c9e8acc",
   "metadata": {},
   "outputs": [],
   "source": []
  },
  {
   "cell_type": "code",
   "execution_count": null,
   "id": "8d5a4332-8627-4c1c-979a-2e681de10a8d",
   "metadata": {},
   "outputs": [],
   "source": [
    "margs_all[\"ann_psus06_6lexp\"] = read_results.read_margs_inst(\"ann/good_new/work_SI_1src/\",\n",
    "                                        INSTANCE,\n",
    "                                        prefix=f\"10kst10ks_1rnd_6lexp_\",\n",
    "                                        #prefix=f\"psrc4_{n_test_rnd}rnd_newfin06Bal_\",\n",
    "                                        n_end=num_conf)"
   ]
  },
  {
   "cell_type": "code",
   "execution_count": null,
   "id": "5359d549-0359-4a55-bdb9-5de10a6df5ae",
   "metadata": {},
   "outputs": [],
   "source": [
    "margs_all[\"ann_psus06_4lpow\"] = read_results.read_margs_inst(\"ann/good_new/i_bird_1src/\",\n",
    "                                        INSTANCE,\n",
    "                                        prefix=f\"10kst10ks_1rnd_4lpow_\",\n",
    "                                        #prefix=f\"psrc4_{n_test_rnd}rnd_newfin06Bal_\",\n",
    "                                        n_end=num_conf)"
   ]
  },
  {
   "cell_type": "markdown",
   "id": "02e597d9-3a94-4c4c-8581-7dd0c6b44b84",
   "metadata": {},
   "source": [
    "### ANN work 1 src last obs"
   ]
  },
  {
   "cell_type": "code",
   "execution_count": null,
   "id": "b4d33f50-1d76-4270-aa12-c229cf3de6be",
   "metadata": {},
   "outputs": [],
   "source": [
    "reload(read_results)"
   ]
  },
  {
   "cell_type": "code",
   "execution_count": 52,
   "id": "bc9474dd-1e30-4672-ae8d-c3d1c750b02a",
   "metadata": {},
   "outputs": [
    {
     "name": "stdout",
     "output_type": "stream",
     "text": [
      "/home/fmazza/projects/nn_epidemics/test/sparse_obs_fix/ann/good_new/work_SI_1src\n",
      "range(0, 100)\n"
     ]
    }
   ],
   "source": [
    "margs_all[\"ann_psus06_4lpow\"] = read_results.read_margs_inst(\"ann/good_new/work_SI_1src/\",\n",
    "                                        INSTANCE,\n",
    "                                        prefix=f\"10kst10ks_lastobs_4lpow_\",\n",
    "                                        #prefix=f\"psrc4_{n_test_rnd}rnd_newfin06Bal_\",\n",
    "                                        range_confs=confs_load, outprint=True)"
   ]
  },
  {
   "cell_type": "code",
   "execution_count": null,
   "id": "65ce9e02-6fa4-4841-af4d-c23af168e215",
   "metadata": {},
   "outputs": [],
   "source": [
    "margs_all[\"ann_psus06_4lpow_pri\"] = read_results.read_margs_inst(\"ann/good_new/i_bird_1src/\",\n",
    "                                        INSTANCE,\n",
    "                                        prefix=f\"10kst10ks_lastobs_4lpow_psusPr_\",\n",
    "                                        #prefix=f\"psrc4_{n_test_rnd}rnd_newfin06Bal_\",\n",
    "                                        range_confs=confs_load)"
   ]
  },
  {
   "cell_type": "code",
   "execution_count": 29,
   "id": "d927ba76-96b0-4c43-b7bc-52994830d89f",
   "metadata": {},
   "outputs": [
    {
     "name": "stdout",
     "output_type": "stream",
     "text": [
      "/home/fmazza/projects/nn_epidemics/test/sparse_obs_fix/ann/good_new/i_bird_1src\n"
     ]
    }
   ],
   "source": [
    "margs_all[\"ann_psus06_4lpow_nobal\"] = read_results.read_margs_inst(\"ann/good_new/i_bird_1src/\",\n",
    "                                        INSTANCE,\n",
    "                                        prefix=f\"10kst10ks_lastobs_4lpow_nobal_\",\n",
    "                                        #prefix=f\"psrc4_{n_test_rnd}rnd_newfin06Bal_\",\n",
    "                                        range_confs=confs_load)"
   ]
  },
  {
   "cell_type": "code",
   "execution_count": 143,
   "id": "6263077b-f380-4962-9a7b-da3ba4520370",
   "metadata": {},
   "outputs": [
    {
     "name": "stdout",
     "output_type": "stream",
     "text": [
      "/home/fmazza/projects/nn_epidemics/test/sparse_obs_fix/ann/good_new/i_bird_1src\n"
     ]
    }
   ],
   "source": [
    "margs_all[\"ann_psus07_4lpow\"] = read_results.read_margs_inst(\"ann/good_new/i_bird_1src/\",\n",
    "                                        INSTANCE,\n",
    "                                        prefix=f\"10kst10ks_lastobs_4lpow_psus07_\",\n",
    "                                        #prefix=f\"psrc4_{n_test_rnd}rnd_newfin06Bal_\",\n",
    "                                        range_confs=confs_load)"
   ]
  },
  {
   "cell_type": "code",
   "execution_count": null,
   "id": "62553e4b-b3d1-4e2e-b135-66639ec0b9f3",
   "metadata": {},
   "outputs": [],
   "source": [
    "margs_all[\"ann_psus07_4lpow_nobal\"] = read_results.read_margs_inst(\"ann/good_new/i_bird_1src/\",\n",
    "                                        INSTANCE,\n",
    "                                        prefix=f\"10kst10ks_lastobs_4lpow_psus07_nobal_\",\n",
    "                                        #prefix=f\"psrc4_{n_test_rnd}rnd_newfin06Bal_\",\n",
    "                                        range_confs=confs_load)"
   ]
  },
  {
   "cell_type": "code",
   "execution_count": null,
   "id": "79693770-a056-44d6-bbd4-1ebd77d7801c",
   "metadata": {},
   "outputs": [],
   "source": [
    "margs_all[\"ann_psus06_4lpow_laypow1\"] = read_results.read_margs_inst(\"ann/good_new/i_bird_1src/\",\n",
    "                                        INSTANCE,\n",
    "                                        prefix=f\"10kst10ks_lastobs_4lpow_psus06_lpow1_\",\n",
    "                                        #prefix=f\"psrc4_{n_test_rnd}rnd_newfin06Bal_\",\n",
    "                                        range_confs=confs_load)"
   ]
  },
  {
   "cell_type": "code",
   "execution_count": 144,
   "id": "1b19c74c-9fc2-4c2a-b308-6f354663610b",
   "metadata": {},
   "outputs": [
    {
     "name": "stdout",
     "output_type": "stream",
     "text": [
      "/home/fmazza/projects/nn_epidemics/test/sparse_obs_fix/ann/good_new/i_bird_1src\n"
     ]
    },
    {
     "ename": "FileNotFoundError",
     "evalue": "[Errno 2] No such file or directory: 'ann/good_new/i_bird_1src/10kst10ks_lastobs_4lpow_psus065_i_bird_n_95_d_10_tlim_12_lam_0.03_mu_0_s_6_pe_1.0_50_margs.npz'",
     "output_type": "error",
     "traceback": [
      "\u001b[0;31m---------------------------------------------------------------------------\u001b[0m",
      "\u001b[0;31mFileNotFoundError\u001b[0m                         Traceback (most recent call last)",
      "\u001b[0;32m<ipython-input-144-c75b1e3aeb63>\u001b[0m in \u001b[0;36m<module>\u001b[0;34m\u001b[0m\n\u001b[0;32m----> 1\u001b[0;31m margs_all[\"ann_psus065_4lpow\"] = read_results.read_margs_inst(\"ann/good_new/i_bird_1src/\",\n\u001b[0m\u001b[1;32m      2\u001b[0m                                         \u001b[0mINSTANCE\u001b[0m\u001b[0;34m,\u001b[0m\u001b[0;34m\u001b[0m\u001b[0;34m\u001b[0m\u001b[0m\n\u001b[1;32m      3\u001b[0m                                         \u001b[0mprefix\u001b[0m\u001b[0;34m=\u001b[0m\u001b[0;34mf\"10kst10ks_lastobs_4lpow_psus065_\"\u001b[0m\u001b[0;34m,\u001b[0m\u001b[0;34m\u001b[0m\u001b[0;34m\u001b[0m\u001b[0m\n\u001b[1;32m      4\u001b[0m                                         \u001b[0;31m#prefix=f\"psrc4_{n_test_rnd}rnd_newfin06Bal_\",\u001b[0m\u001b[0;34m\u001b[0m\u001b[0;34m\u001b[0m\u001b[0;34m\u001b[0m\u001b[0m\n\u001b[1;32m      5\u001b[0m                                         range_confs=confs_load)\n",
      "\u001b[0;32m~/projects/nn_epidemics/src/io_m/read_results.py\u001b[0m in \u001b[0;36mread_margs_inst\u001b[0;34m(fold, inst, prefix, name_margs, range_confs, algo, outprint)\u001b[0m\n\u001b[1;32m     98\u001b[0m \u001b[0;34m\u001b[0m\u001b[0m\n\u001b[1;32m     99\u001b[0m     \u001b[0;32mif\u001b[0m \u001b[0moutprint\u001b[0m\u001b[0;34m:\u001b[0m \u001b[0mprint\u001b[0m\u001b[0;34m(\u001b[0m\u001b[0mload_range\u001b[0m\u001b[0;34m)\u001b[0m\u001b[0;34m\u001b[0m\u001b[0;34m\u001b[0m\u001b[0m\n\u001b[0;32m--> 100\u001b[0;31m     \u001b[0;32mfor\u001b[0m \u001b[0mi\u001b[0m \u001b[0;32min\u001b[0m \u001b[0mload_range\u001b[0m\u001b[0;34m:\u001b[0m\u001b[0;34m\u001b[0m\u001b[0;34m\u001b[0m\u001b[0m\n\u001b[0m\u001b[1;32m    101\u001b[0m         \u001b[0mnam_f\u001b[0m \u001b[0;34m=\u001b[0m \u001b[0mname\u001b[0m \u001b[0;34m+\u001b[0m \u001b[0;34mf\"_{i}_{name_margs}.npz\"\u001b[0m\u001b[0;34m\u001b[0m\u001b[0;34m\u001b[0m\u001b[0m\n\u001b[1;32m    102\u001b[0m         \u001b[0md\u001b[0m \u001b[0;34m=\u001b[0m \u001b[0mnp\u001b[0m\u001b[0;34m.\u001b[0m\u001b[0mload\u001b[0m\u001b[0;34m(\u001b[0m\u001b[0mpath\u001b[0m \u001b[0;34m/\u001b[0m \u001b[0mnam_f\u001b[0m\u001b[0;34m)\u001b[0m\u001b[0;34m\u001b[0m\u001b[0;34m\u001b[0m\u001b[0m\n",
      "\u001b[0;32m~/app/miniconda3/envs/torche/lib/python3.8/site-packages/numpy/lib/npyio.py\u001b[0m in \u001b[0;36mload\u001b[0;34m(file, mmap_mode, allow_pickle, fix_imports, encoding)\u001b[0m\n\u001b[1;32m    415\u001b[0m             \u001b[0mown_fid\u001b[0m \u001b[0;34m=\u001b[0m \u001b[0;32mFalse\u001b[0m\u001b[0;34m\u001b[0m\u001b[0;34m\u001b[0m\u001b[0m\n\u001b[1;32m    416\u001b[0m         \u001b[0;32melse\u001b[0m\u001b[0;34m:\u001b[0m\u001b[0;34m\u001b[0m\u001b[0;34m\u001b[0m\u001b[0m\n\u001b[0;32m--> 417\u001b[0;31m             \u001b[0mfid\u001b[0m \u001b[0;34m=\u001b[0m \u001b[0mstack\u001b[0m\u001b[0;34m.\u001b[0m\u001b[0menter_context\u001b[0m\u001b[0;34m(\u001b[0m\u001b[0mopen\u001b[0m\u001b[0;34m(\u001b[0m\u001b[0mos_fspath\u001b[0m\u001b[0;34m(\u001b[0m\u001b[0mfile\u001b[0m\u001b[0;34m)\u001b[0m\u001b[0;34m,\u001b[0m \u001b[0;34m\"rb\"\u001b[0m\u001b[0;34m)\u001b[0m\u001b[0;34m)\u001b[0m\u001b[0;34m\u001b[0m\u001b[0;34m\u001b[0m\u001b[0m\n\u001b[0m\u001b[1;32m    418\u001b[0m             \u001b[0mown_fid\u001b[0m \u001b[0;34m=\u001b[0m \u001b[0;32mTrue\u001b[0m\u001b[0;34m\u001b[0m\u001b[0;34m\u001b[0m\u001b[0m\n\u001b[1;32m    419\u001b[0m \u001b[0;34m\u001b[0m\u001b[0m\n",
      "\u001b[0;31mFileNotFoundError\u001b[0m: [Errno 2] No such file or directory: 'ann/good_new/i_bird_1src/10kst10ks_lastobs_4lpow_psus065_i_bird_n_95_d_10_tlim_12_lam_0.03_mu_0_s_6_pe_1.0_50_margs.npz'"
     ]
    }
   ],
   "source": [
    "margs_all[\"ann_psus065_4lpow\"] = read_results.read_margs_inst(\"ann/good_new/i_bird_1src/\",\n",
    "                                        INSTANCE,\n",
    "                                        prefix=f\"10kst10ks_lastobs_4lpow_psus065_\",\n",
    "                                        #prefix=f\"psrc4_{n_test_rnd}rnd_newfin06Bal_\",\n",
    "                                        range_confs=confs_load)"
   ]
  },
  {
   "cell_type": "code",
   "execution_count": 85,
   "id": "d088e8c4-7677-44bf-ace7-b43eb18e3673",
   "metadata": {},
   "outputs": [
    {
     "data": {
      "text/plain": [
       "(0, 70)"
      ]
     },
     "execution_count": 85,
     "metadata": {},
     "output_type": "execute_result"
    }
   ],
   "source": [
    "confs_load"
   ]
  },
  {
   "cell_type": "code",
   "execution_count": 145,
   "id": "08ebc2cc-09df-4abc-bf6c-e4d3f67ee4c8",
   "metadata": {},
   "outputs": [
    {
     "name": "stdout",
     "output_type": "stream",
     "text": [
      "/home/fmazza/projects/nn_epidemics/test/sparse_obs_fix/ann/good_new/i_bird_1src\n"
     ]
    }
   ],
   "source": [
    "margs_all[\"ann_psus06_4lpow_psrc2\"] = read_results.read_margs_inst(\"ann/good_new/i_bird_1src/\",\n",
    "                                        INSTANCE,\n",
    "                                        prefix=f\"10kst10ks_lastobs_4lpow_psus06_psrc2_\",\n",
    "                                        #prefix=f\"psrc4_{n_test_rnd}rnd_newfin06Bal_\",\n",
    "                                        range_confs=confs_load)"
   ]
  },
  {
   "cell_type": "code",
   "execution_count": 35,
   "id": "b833effa-d633-4a51-9617-c2fcf19c0a67",
   "metadata": {},
   "outputs": [
    {
     "name": "stdout",
     "output_type": "stream",
     "text": [
      "/home/fmazza/projects/nn_epidemics/test/sparse_obs_fix/ann/good_new/i_bird_1src\n",
      "range(0, 100)\n"
     ]
    }
   ],
   "source": [
    "margs_all[\"ann_psus07_4lpow_psrc2\"] = read_results.read_margs_inst(\"ann/good_new/i_bird_1src/\",\n",
    "                                        INSTANCE,\n",
    "                                        prefix=f\"10kst10ks_lastobs_4lpow_psus07_psrc2_\",\n",
    "                                        #prefix=f\"psrc4_{n_test_rnd}rnd_newfin06Bal_\",\n",
    "                                        range_confs=confs_load)"
   ]
  },
  {
   "cell_type": "code",
   "execution_count": null,
   "id": "165e20fe-d9ca-46f4-b466-e8dc06b2c878",
   "metadata": {},
   "outputs": [],
   "source": [
    "r = range(2,10)"
   ]
  },
  {
   "cell_type": "code",
   "execution_count": null,
   "id": "03e172ab-3e71-4a73-a4e0-a8d12fbd208a",
   "metadata": {},
   "outputs": [],
   "source": [
    "len(r)"
   ]
  },
  {
   "cell_type": "code",
   "execution_count": null,
   "id": "0ac92d20-b77b-48c0-b2c3-760cdf4e4b59",
   "metadata": {},
   "outputs": [],
   "source": [
    "def _make_range_confs(in_range):\n",
    "    if isinstance(in_range, range):\n",
    "        return in_range\n",
    "    \n",
    "    if len(in_range) < 2:\n",
    "        raise ValueError(\"Input start and finish\")\n",
    "    elif len(in_range) == 2:\n",
    "        load_range = range(*in_range)\n",
    "    else:\n",
    "        load_range = in_range\n",
    "    return load_range"
   ]
  },
  {
   "cell_type": "code",
   "execution_count": null,
   "id": "d2218296-660d-40ec-8dd6-8dca7ba33f50",
   "metadata": {},
   "outputs": [],
   "source": [
    "_make_range_confs(range(0,2))"
   ]
  },
  {
   "cell_type": "code",
   "execution_count": null,
   "id": "7a4f4708-a8b0-4075-9fff-d9303504da47",
   "metadata": {},
   "outputs": [],
   "source": [
    "name_out"
   ]
  },
  {
   "cell_type": "markdown",
   "id": "bbda6eca-2ca2-4120-8882-261f483e0a4d",
   "metadata": {},
   "source": [
    "### ANN WORK 2 src"
   ]
  },
  {
   "cell_type": "code",
   "execution_count": null,
   "id": "c95b3b66-e08d-481c-ad1d-ba1730905a91",
   "metadata": {},
   "outputs": [],
   "source": [
    "margs_all[\"ann_psus06DSC\"] = read_results.read_margs_inst(folder_ann,\n",
    "                                        INSTANCE,\n",
    "                                        prefix=f\"5kst8ks_lastobs_newfin06DSC_\",\n",
    "                                        #prefix=f\"psrc4_{n_test_rnd}rnd_newfin06Bal_\",\n",
    "                                        n_end=num_conf)"
   ]
  },
  {
   "cell_type": "code",
   "execution_count": null,
   "id": "609131a2-1449-49e9-951b-57b3f8d0c0c4",
   "metadata": {},
   "outputs": [],
   "source": [
    "margs_all[\"ann_6DeepLayExp\"] = read_results.read_margs_inst(folder_ann,\n",
    "                                        INSTANCE,\n",
    "                                        prefix=f\"5kst8ks_lastobs_psus06DSC_xpr_\",\n",
    "                                        #prefix=f\"psrc4_{n_test_rnd}rnd_newfin06Bal_\",\n",
    "                                        n_end=num_conf)"
   ]
  },
  {
   "cell_type": "code",
   "execution_count": null,
   "id": "f98e0d5d-3b16-4bce-8b3e-dcf3d4d838f2",
   "metadata": {},
   "outputs": [],
   "source": [
    "margs_all[\"ann_4DeepLayPow\"] = read_results.read_margs_inst(folder_ann,\n",
    "                                        INSTANCE,\n",
    "                                        prefix=f\"5kst8ks_lastobs_psus06DSC_laypow23_\",\n",
    "                                        #prefix=f\"psrc4_{n_test_rnd}rnd_newfin06Bal_\",\n",
    "                                        n_end=num_conf)"
   ]
  },
  {
   "cell_type": "code",
   "execution_count": null,
   "id": "930b075a-1202-4f9d-864d-d42c897be5e8",
   "metadata": {},
   "outputs": [],
   "source": [
    "margs_all[\"ann_8kst6exp\"] = read_results.read_margs_inst(folder_ann,\n",
    "                                        INSTANCE,\n",
    "                                        prefix=f\"8kst8ks_lastobs_psus06DSC_6xpr_\",\n",
    "                                        #prefix=f\"psrc4_{n_test_rnd}rnd_newfin06Bal_\",\n",
    "                                        n_end=num_conf)"
   ]
  },
  {
   "cell_type": "code",
   "execution_count": null,
   "id": "327394be-e02f-4a93-a6b5-8cfd3ca9d755",
   "metadata": {},
   "outputs": [],
   "source": [
    "margs_all[\"ann_4laypow2\"] = read_results.read_margs_inst(folder_ann,\n",
    "                                        INSTANCE,\n",
    "                                        prefix=f\"5kst8ks_lastobs_psus06DSC_4lpow2_\",\n",
    "                                        #prefix=f\"psrc4_{n_test_rnd}rnd_newfin06Bal_\",\n",
    "                                        n_end=9)"
   ]
  },
  {
   "cell_type": "markdown",
   "id": "fd290721-12c4-4af8-aeba-4411f0c85373",
   "metadata": {},
   "source": [
    "## Work dataset, SI, 2 src, last obs"
   ]
  },
  {
   "cell_type": "code",
   "execution_count": null,
   "id": "082c2035-3727-4364-bf31-aa3129f92ea5",
   "metadata": {},
   "outputs": [],
   "source": [
    "d"
   ]
  },
  {
   "cell_type": "code",
   "execution_count": null,
   "id": "94eacd83-f756-4b7e-b356-33a8c10e8deb",
   "metadata": {},
   "outputs": [],
   "source": [
    "margs_all[\"ann_psus06_4lpow\"] = read_results.read_margs_inst(\"ann/good_new/work_SI_2src/\",\n",
    "                                        INSTANCE,\n",
    "                                        prefix=f\"10kst10ks_lastobs_4lpow_\",\n",
    "                                        #prefix=f\"psrc4_{n_test_rnd}rnd_newfin06Bal_\",\n",
    "                                        n_end=num_conf)"
   ]
  },
  {
   "cell_type": "code",
   "execution_count": null,
   "id": "1888a360-d237-42b9-a110-fcdef2106df3",
   "metadata": {},
   "outputs": [],
   "source": [
    "margs_all[\"ann_6kLayExp2\"] = read_results.read_margs_inst(folder_ann,\n",
    "                                            INSTANCE,\n",
    "                                            prefix=f\"6kst6ks_lastobs_newfin06DSCxa_expN_\",\n",
    "                                            n_end=5)"
   ]
  },
  {
   "cell_type": "code",
   "execution_count": null,
   "id": "9f0d4e6e-8ede-4736-a340-df4a6550f983",
   "metadata": {},
   "outputs": [],
   "source": [
    "margs_all[\"ann_6kLayEDeep\"] = read_results.read_margs_inst(folder_ann,\n",
    "                                            INSTANCE,\n",
    "                                            prefix=f\"6kst6ks_lastobs_newfin06DSCxa_expNd_\",\n",
    "                                            n_end=num_conf)"
   ]
  },
  {
   "cell_type": "markdown",
   "id": "26057c4a-d098-40a4-a424-e0786d049504",
   "metadata": {},
   "source": [
    "## I BIRD results"
   ]
  },
  {
   "cell_type": "code",
   "execution_count": null,
   "id": "2ee2409d-f980-4299-98c5-1caf1ca27989",
   "metadata": {},
   "outputs": [],
   "source": [
    "margs_all[\"ann_4lay2_nn_10k2\"] = read_results.read_margs_inst(folder_ann,\n",
    "                                            INSTANCE,\n",
    "                                            prefix=f\"10kst10ks_lstobs_psus06_4lpow2_nn_\",\n",
    "                                            n_end=num_conf)"
   ]
  },
  {
   "cell_type": "code",
   "execution_count": null,
   "id": "2d68c683-cdee-44fa-9cf2-3b2264a05648",
   "metadata": {},
   "outputs": [],
   "source": []
  },
  {
   "cell_type": "markdown",
   "id": "b8d85f69",
   "metadata": {},
   "source": [
    "## Read risks from estimators"
   ]
  },
  {
   "cell_type": "code",
   "execution_count": 36,
   "id": "3e390326-9637-4aa0-a0bc-3e64c0ffec8f",
   "metadata": {},
   "outputs": [],
   "source": [
    "reload(read_results)\n",
    "risks_all = {}"
   ]
  },
  {
   "cell_type": "code",
   "execution_count": 37,
   "id": "bd2def4e-3b36-4ce5-8c03-27d9def89dff",
   "metadata": {},
   "outputs": [
    {
     "name": "stdout",
     "output_type": "stream",
     "text": [
      "lastobs_tau4_d10_\n"
     ]
    }
   ],
   "source": [
    "if last_time_obs:\n",
    "    name_rankers=f\"lastobs_tau4_d10_\"\n",
    "else:\n",
    "    name_rankers=f\"{n_test_rnd}rnd_tau4_d10_\"\n",
    "    \n",
    "rank_folder=f\"rankers/good/{type_graph}_{nsrc}src\"\n",
    "\n",
    "print(name_rankers)"
   ]
  },
  {
   "cell_type": "code",
   "execution_count": 38,
   "id": "b4972adc-033e-4ec3-b46e-49e5b3c1ae96",
   "metadata": {
    "tags": []
   },
   "outputs": [
    {
     "name": "stdout",
     "output_type": "stream",
     "text": [
      "/home/fmazza/projects/nn_epidemics/test/sparse_obs_fix/rankers/good/i_bird_1src\n",
      "range(0, 100)\n"
     ]
    }
   ],
   "source": [
    "risks_all[\"MF\"] = read_results.read_risk_inst(\n",
    "                                        rank_folder,\n",
    "                                            INSTANCE, \"MF\",\n",
    "                                            prefix=name_rankers,\n",
    "                                            range_confs=confs_load)"
   ]
  },
  {
   "cell_type": "code",
   "execution_count": 39,
   "id": "55262608-a8fc-469f-9ac6-f2dc868321b8",
   "metadata": {
    "tags": []
   },
   "outputs": [
    {
     "name": "stdout",
     "output_type": "stream",
     "text": [
      "/home/fmazza/projects/nn_epidemics/test/sparse_obs_fix/rankers/good/i_bird_1src\n",
      "range(0, 100)\n"
     ]
    }
   ],
   "source": [
    "risks_all[\"CT\"] = read_results.read_risk_inst(\n",
    "                                        rank_folder,\n",
    "                                            INSTANCE, \"CT\",\n",
    "                                            prefix=name_rankers,\n",
    "                                            range_confs=confs_load)"
   ]
  },
  {
   "cell_type": "code",
   "execution_count": null,
   "id": "347e98d2",
   "metadata": {},
   "outputs": [],
   "source": [
    "def calc_all_rocs(margs, fin_conf, obs_all_df, instance):\n",
    "    margs_diff =[]\n",
    "    for i, conf_fin in enumerate(fin_conf):\n",
    "        nidx = get_obs_idx(obs_all_df[i])\n",
    "        sel_idx = set(range(instance.n)).difference(nidx)\n",
    "        errs = get_err_rocs(margs[i], sel_idx, conf_fin)\n",
    "        margs_diff.append(np.array(errs))\n",
    "        \n",
    "    return margs_diff"
   ]
  },
  {
   "cell_type": "code",
   "execution_count": null,
   "id": "ed043bde",
   "metadata": {},
   "outputs": [],
   "source": [
    "fin_conf = np.array(mdata[\"test\"])[:,1]"
   ]
  },
  {
   "cell_type": "code",
   "execution_count": null,
   "id": "8bcfdceb",
   "metadata": {},
   "outputs": [],
   "source": [
    "num_free =[]\n",
    "num_tested = []\n",
    "for i in range(num_conf):\n",
    "    nidx = risk_pred.get_obs_idx(rdf[i])\n",
    "    sel_idx = set(range(INSTANCE.n)).difference(nidx)\n",
    "    num_free.append(len(sel_idx))\n",
    "    num_tested.append(len(nidx))"
   ]
  },
  {
   "cell_type": "code",
   "execution_count": null,
   "id": "9d9bd135",
   "metadata": {},
   "outputs": [],
   "source": [
    "plt.plot(np.array(num_tested)*100/Nfin_real[:,1:].sum(-1))\n",
    "plt.ylabel(\"% of tested I or R\")"
   ]
  },
  {
   "cell_type": "markdown",
   "id": "ab4ba279",
   "metadata": {},
   "source": [
    "## Aggregated things"
   ]
  },
  {
   "cell_type": "code",
   "execution_count": 47,
   "id": "58896ca5-8507-45f9-8ec5-b99576852657",
   "metadata": {},
   "outputs": [
    {
     "name": "stdout",
     "output_type": "stream",
     "text": [
      "i_bird_n_95_1src_lastobs_\n"
     ]
    }
   ],
   "source": [
    "name_out=f\"{type_graph}_n_{INSTANCE.n}_{nsrc}src_\"\n",
    "if last_time_obs:\n",
    "    name_out=name_out+f\"lastobs_\"\n",
    "else:\n",
    "    name_out=name_out+f\"{n_test_rnd}rnd_\"\n",
    "    \n",
    "#name_out+=\"aucs.csv\"\n",
    "print(name_out)"
   ]
  },
  {
   "cell_type": "code",
   "execution_count": 53,
   "id": "1236d57f",
   "metadata": {},
   "outputs": [],
   "source": [
    "Nfin = {k: np.stack(g)[:,:,-1].sum(1) for k,g in margs_all.items()}"
   ]
  },
  {
   "cell_type": "code",
   "execution_count": 54,
   "id": "ddf9f7cd",
   "metadata": {},
   "outputs": [],
   "source": [
    "Ninit = {k: np.stack(g)[:,:,0].sum(1) for k,g in margs_all.items()}"
   ]
  },
  {
   "cell_type": "code",
   "execution_count": null,
   "id": "178be0ef-6260-46c4-9d07-e780ccf6e437",
   "metadata": {},
   "outputs": [],
   "source": []
  },
  {
   "cell_type": "code",
   "execution_count": 50,
   "id": "7a6851fb",
   "metadata": {},
   "outputs": [],
   "source": [
    "Nfin_real = np.stack([(fin_conf==i).sum(-1) for i in range(3)],-1)"
   ]
  },
  {
   "cell_type": "code",
   "execution_count": 58,
   "id": "b205e18e",
   "metadata": {},
   "outputs": [
    {
     "data": {
      "text/plain": [
       "<matplotlib.legend.Legend at 0x7f15386adc10>"
      ]
     },
     "execution_count": 58,
     "metadata": {},
     "output_type": "execute_result"
    },
    {
     "data": {
      "image/png": "[encoded data removed]",
      "text/plain": [
       "<Figure size 576x432 with 1 Axes>"
      ]
     },
     "metadata": {
      "needs_background": "light"
     },
     "output_type": "display_data"
    }
   ],
   "source": [
    "plt.figure(figsize=(8,6))\n",
    "\n",
    "inst_num = 1\n",
    "v=(rdf[inst_num][np.logical_not((rdf[inst_num].obs==0) &(rdf[inst_num].time < t_limit)) ])\n",
    "good =list(set(range(N)).difference(set(v.node)))\n",
    "good = range(N)\n",
    "\n",
    "\n",
    "plt.plot(Nfin_real[:,1:].sum(-1), label=\"real\", color=\"darkcyan\")\n",
    "#plt.plot(Nfin[\"sib\"][:,1:].sum(-1),\".--\",color=\"black\",label=\"sib\")\n",
    "plt.plot(Nfin[\"sib_psus60\"][:,1:].sum(-1),\".--\",color=\"firebrick\",label=\"sib psus 0.6\")\n",
    "#plt.plot(Nfin[\"ann_psus06\"][:,1:].sum(-1),\"o\",label=\"ann psus 0.6\")\n",
    "#plt.plot(Nfin[\"ann_psus06_nn\"][:,1:].sum(-1),\"o\",label=\"ann psus 0.6 near\")\n",
    "#plt.plot(Nfin[\"sib_psus60_psrc2\"][:,1:].sum(-1),\"*--\",color=\"firebrick\",label=\"sib psus 0.6 psrc 1e-2\")\n",
    "\n",
    "#plt.plot(Nfin[\"ann_psus06DSC\"][:,1:].sum(-1),\"o\",label=\"ann psus06\")\n",
    "\n",
    "#plt.plot(Nfin[\"ann_psus06_6lexp\"][:,1:].sum(-1),\"o\",label=\"ann psus06 6lexp\")\n",
    "plt.plot(Nfin[\"ann_psus06_4lpow\"][:,1:].sum(-1),\"o\",label=\"ann psus06 4lpow\")\n",
    "\n",
    "#plt.plot(Nfin[\"ann_psus06_4lpow_nobal\"][:,1:].sum(-1),\"+\",label=\"ann psus06 4lpow nobal\")\n",
    "\n",
    "#plt.plot(Nfin[\"ann_psus07_4lpow\"][:,1:].sum(-1),\"*\",label=\"ann psus07 4lpow\",color=\"blue\")\n",
    "\n",
    "#plt.plot(Nfin[\"ann_psus065_4lpow\"][:,1:].sum(-1),\"*\",label=\"ann psus065 4lpow\")\n",
    "\n",
    "\n",
    "#plt.plot(Nfin[\"ann_6kScal_xa\"][:,1:].sum(-1),\"o\",label=\"ann psus06 6k Scal xav\")\n",
    "#plt.plot(Nfin[\"ann_6DeepLayExp\"][:,1:].sum(-1),\"*\",label=\"ann psus06 6k Lay Expon\")\n",
    "#plt.plot(Nfin[\"ann_6kLayExp2\"][:,1:].sum(-1),\"*\",label=\"ann psus06 6k Lay Expon 2\")\n",
    "#plt.plot(Nfin[\"ann_psus06_4lpow_psrc2\"][:,1:].sum(-1),\"o\",label=\"ann psus06 4lpow psrc 1e-2\")\n",
    "\n",
    "plt.plot(Nfin[\"ann_psus07_4lpow_psrc2\"][:,1:].sum(-1),\"*\",label=\"ann psus07 4lpow psrc 1e-2\")\n",
    "\n",
    "#plt.plot(Nfin[\"ann_4laypow2\"][:,1:].sum(-1),\"*\",label=\"ann psus06 4lay pow2\")\n",
    "\n",
    "#plt.plot(Nfin[\"ann_8kst6exp\"][:,1:].sum(-1),\"*\",label=\"ann psus06 8kst 6exp\")\n",
    "\n",
    "#plt.xlim((-0.2,40))\n",
    "\n",
    "\n",
    "plt.ylabel(\"$N_I + N_R$\")\n",
    "plt.legend()\n"
   ]
  },
  {
   "cell_type": "code",
   "execution_count": 152,
   "id": "5d762f76-aa25-49e4-b547-332c9c19074a",
   "metadata": {},
   "outputs": [
    {
     "data": {
      "text/plain": [
       "Text(0, 0.5, 'Num source')"
      ]
     },
     "execution_count": 152,
     "metadata": {},
     "output_type": "execute_result"
    },
    {
     "data": {
      "image/png": "[encoded data removed]",
      "text/plain": [
       "<Figure size 432x288 with 1 Axes>"
      ]
     },
     "metadata": {
      "needs_background": "light"
     },
     "output_type": "display_data"
    }
   ],
   "source": [
    "for k in Ninit:\n",
    "    if \"sib\" in k:\n",
    "        plt.plot(Ninit[k][:,1],\"+\", label=k)\n",
    "plt.legend()\n",
    "plt.ylabel(\"Num source\")"
   ]
  },
  {
   "cell_type": "code",
   "execution_count": null,
   "id": "a6196040-4241-4f38-aebb-920854057ad2",
   "metadata": {},
   "outputs": [],
   "source": [
    "plt.plot(margs_all[\"ann_psus06_6lexp\"][2][:,-1,1])"
   ]
  },
  {
   "cell_type": "code",
   "execution_count": null,
   "id": "de97a5ac-0506-4b1c-a419-04aef8eea310",
   "metadata": {},
   "outputs": [],
   "source": [
    "Ninit[\"sib_psus60\"][:,1]"
   ]
  },
  {
   "cell_type": "code",
   "execution_count": null,
   "id": "ef69c22f",
   "metadata": {},
   "outputs": [],
   "source": [
    "{i:len(v) for i,v in enumerate(rdf[:5])}"
   ]
  },
  {
   "cell_type": "code",
   "execution_count": null,
   "id": "c6e8eb62",
   "metadata": {},
   "outputs": [],
   "source": [
    "n_IR = Nfin_real[:,1:].sum(-1)"
   ]
  },
  {
   "cell_type": "code",
   "execution_count": null,
   "id": "03a94a20",
   "metadata": {},
   "outputs": [],
   "source": [
    "num_free_notS_fr =[]\n",
    "for i in range(num_conf):\n",
    "    nidx = risk_pred.get_obs_idx(rdf[i])\n",
    "    sel_idx = set(range(INSTANCE.n)).difference(nidx)\n",
    "    S_idx = set(np.where(fin_conf[i]==0)[0])\n",
    "    if len(nidx) == 0:\n",
    "        print(i,sel_idx.difference(S_idx))\n",
    "        num_free_notS_fr.append(np.nan)\n",
    "    else:\n",
    "        num_free_notS_fr.append(len(sel_idx.difference(S_idx))/len(nidx))"
   ]
  },
  {
   "cell_type": "code",
   "execution_count": null,
   "id": "1ed923b4",
   "metadata": {},
   "outputs": [],
   "source": [
    "num_free_not_S =[]\n",
    "for i in range(num_conf):\n",
    "    nidx = get_obs_idx(rdf[i])\n",
    "    sel_idx = set(range(INSTANCE.n)).difference(nidx)\n",
    "    S_idx = set(np.where(fin_conf[i]==0)[0])\n",
    "    num_free_not_S.append(len(sel_idx.difference(S_idx)))"
   ]
  },
  {
   "cell_type": "code",
   "execution_count": null,
   "id": "8edbe53f-4f45-49f7-b6c6-b25f0dd20d00",
   "metadata": {},
   "outputs": [],
   "source": [
    "import gzip, json"
   ]
  },
  {
   "cell_type": "code",
   "execution_count": null,
   "id": "5850a04b-3b7c-4385-a8cc-4d6b0feeebb8",
   "metadata": {},
   "outputs": [],
   "source": [
    "with gzip.open(\n",
    "    \"sib/i_bird/i_bird_0rnd_psus60_N_95_d_10_h_3_T_12_lam_0.04_mu_0.02_p_edge_1.0_s_9_0_params.gz\", \"rt\") as f:\n",
    "    print(f.readlines())"
   ]
  },
  {
   "cell_type": "code",
   "execution_count": null,
   "id": "1dc2ca86-ec29-4043-b265-e7a7849c9b05",
   "metadata": {},
   "outputs": [],
   "source": [
    "fin_conf[20]"
   ]
  },
  {
   "cell_type": "code",
   "execution_count": 59,
   "id": "5a6e72ac",
   "metadata": {},
   "outputs": [],
   "source": [
    "aucs_all = {name: \n",
    "            \n",
    "            risk_pred.calc_aucs(marg,fin_conf, rdf, INSTANCE, st_exclude=(1,2) ) \n",
    "            for name, marg in margs_all.items()}"
   ]
  },
  {
   "cell_type": "code",
   "execution_count": 60,
   "id": "3eea406b",
   "metadata": {},
   "outputs": [],
   "source": [
    "aucs_all.update({name: \n",
    "            risk_pred.calc_aucs_risks(r,fin_conf, rdf, INSTANCE) \n",
    "              for name, r in risks_all.items()} )"
   ]
  },
  {
   "cell_type": "code",
   "execution_count": 61,
   "id": "f1d4529b-4077-4e85-b640-f155b4b21182",
   "metadata": {},
   "outputs": [
    {
     "data": {
      "text/plain": [
       "'i_bird_n_95_d_10_tlim_12_lam_0.03_mu_0_s_6_pe_1.0'"
      ]
     },
     "execution_count": 61,
     "metadata": {},
     "output_type": "execute_result"
    }
   ],
   "source": [
    "str(INSTANCE)"
   ]
  },
  {
   "cell_type": "code",
   "execution_count": 65,
   "id": "53e7b28e",
   "metadata": {},
   "outputs": [
    {
     "data": {
      "image/png": "[encoded data removed]",
      "text/plain": [
       "<Figure size 720x360 with 1 Axes>"
      ]
     },
     "metadata": {
      "needs_background": "light"
     },
     "output_type": "display_data"
    }
   ],
   "source": [
    "plt.figure(figsize=(10,5))\n",
    "#plt.plot(aucs_all[\"sib\"], \"*--\",label=\"sib\", color=\"black\")\n",
    "plt.plot(aucs_all[\"sib_psus60\"], \"o--\",label=\"sib psus 0.6\",)#color=\"yellowgreen\")\n",
    "\n",
    "plt.plot(aucs_all[\"sib_psus70_psrc2\"], \"*--\",label=\"sib psus 0.7 psrc2\", color=\"grey\")\n",
    "\n",
    "#plt.plot(aucs_all[\"ann_psus06\"],\"*-\",label=\"ann psus 06\", )#color=\"green\")\n",
    "#plt.plot(aucs_all[\"ann_psus06_nn\"],\"*-\",label=\"ann psus 06 near neigh\", )#color=\"green\")\n",
    "\n",
    "#plt.plot(aucs_all[\"ann_psus06DSC\"], \"*--\",label=\"ann psus 0.6\",)\n",
    "#plt.plot(aucs_all[\"ann_4laypow2\"], \"*--\",label=\"ann psus 0.6 4layp2\",)\n",
    "#plt.plot(aucs_all[\"ann_8kst6exp\"], \"*--\",label=\"ann psus06 8kst 6exp\",)\n",
    "\n",
    "#plt.plot(aucs_all[\"ann_psus06_6lexp\"], \"*--\", label=\"ann psus06 lay exp\")\n",
    "#plt.plot(aucs_all[\"ann_psus06_4lpow\"], \"*--\", label=\"ann psus06 lay pow\")\n",
    "plt.plot(aucs_all[\"ann_psus07_4lpow_psrc2\"], \"*--\", label=\"ann psus07 lay pow psrc2\")\n",
    "\n",
    "#plt.plot(aucs_all[\"ann_psus06_4lpow_pri\"], \"*--\", label=\"ann psus06 lay pow pri\")\n",
    "\n",
    "plt.plot(aucs_all[\"MF\"], \"o--\", label=\"MF ranker\")\n",
    "\n",
    "#plt.plot(aucs_ranks[\"MF_cho\"], \"*--\", label=f\"MF ch_obs ranker\")\n",
    "\n",
    "plt.plot(aucs_all[\"CT\"], \"o--\", label=\"CT ranker\")\n",
    "\n",
    "plt.legend()\n",
    "#plt.xlim((-0.5,10))\n",
    "\"\"\"plt.ylim((0.3\n",
    "          ,0.83))\"\"\"\n",
    "plt.ylabel(\"AUC in finding infected\")\n",
    "plt.xlabel(\"Instance\")\n",
    "plt.grid(linestyle=\"--\")\n",
    "plt.xlim((-1, num_conf+1))\n",
    "plt.savefig(f\"auc_{str(INSTANCE)}.svg\", bbox_inches=\"tight\")"
   ]
  },
  {
   "cell_type": "code",
   "execution_count": null,
   "id": "604a78e9-25df-491f-a1e0-520705e7298b",
   "metadata": {},
   "outputs": [],
   "source": []
  },
  {
   "cell_type": "code",
   "execution_count": 74,
   "id": "0b263bec-b026-455e-a90a-1290e631213e",
   "metadata": {},
   "outputs": [
    {
     "name": "stdout",
     "output_type": "stream",
     "text": [
      "CT: 0.790 \\pm 0.006\n",
      "MF: 0.796 \\pm 0.007\n",
      "ann_psus06_4lpow: 0.886 \\pm 0.005\n",
      "ann_psus07_4lpow_psrc2: 0.889 \\pm 0.005\n",
      "sib_psus60: 0.882 \\pm 0.005\n",
      "sib_psus70_psrc2: 0.886 \\pm 0.005\n"
     ]
    }
   ],
   "source": [
    "avg = {name: np.nanmean(r)\n",
    "              for name, r in aucs_all.items()}\n",
    "err_avg = {name: np.nanstd(r)/np.sqrt(len(r) - np.isnan(r).sum())\n",
    "              for name, r in aucs_all.items()}\n",
    "\n",
    "for k in sorted(avg.keys()):\n",
    "    #if \"ann\" in k:\n",
    "    print(f\"{k}: {avg[k]:5.3f} \\pm {err_avg[k]:5.3f}\")"
   ]
  },
  {
   "cell_type": "code",
   "execution_count": 66,
   "id": "9c855c72-1f67-4052-9755-3069c977b94a",
   "metadata": {},
   "outputs": [],
   "source": [
    "#auc_data = pd.DataFrame(avg)\n",
    "r =pd.concat((pd.Series(avg),pd.Series(err_avg)), axis=1, keys=[\"avg\",\"err_avg\"]\n",
    "         )\n",
    "\n",
    "#r = r.set_index(np.array([\"BP\",\"ANN_4lpow\",\"MF\",\"CT\"]))"
   ]
  },
  {
   "cell_type": "code",
   "execution_count": null,
   "id": "8e3fb073-87ff-41dc-bce5-8361f4e94944",
   "metadata": {},
   "outputs": [],
   "source": []
  },
  {
   "cell_type": "code",
   "execution_count": 93,
   "id": "54506f73-fd35-411d-98b3-7885d45f4a1a",
   "metadata": {},
   "outputs": [],
   "source": [
    "psrc_22 = {k: margs_all[k][22][:,-1,1] for k in margs_all}"
   ]
  },
  {
   "cell_type": "code",
   "execution_count": 97,
   "id": "7292bf62-8650-4674-9119-830373329028",
   "metadata": {},
   "outputs": [],
   "source": [
    "probs_fin = pd.DataFrame(psrc_22)"
   ]
  },
  {
   "cell_type": "code",
   "execution_count": 102,
   "id": "358636b5-3ace-478f-8f1c-2f28499dc43f",
   "metadata": {},
   "outputs": [
    {
     "data": {
      "text/plain": [
       "<matplotlib.legend.Legend at 0x7fd8e4979a60>"
      ]
     },
     "execution_count": 102,
     "metadata": {},
     "output_type": "execute_result"
    },
    {
     "data": {
      "image/png": "[encoded data removed]",
      "text/plain": [
       "<Figure size 432x288 with 1 Axes>"
      ]
     },
     "metadata": {
      "needs_background": "light"
     },
     "output_type": "display_data"
    }
   ],
   "source": [
    "for k in [\"sib_psus60\", \"ann_psus06_4lpow\"]:\n",
    "    if k == \"random\":\n",
    "        continue\n",
    "    plt.plot(psrc_22[k], label=k)\n",
    "plt.legend()"
   ]
  },
  {
   "cell_type": "code",
   "execution_count": 101,
   "id": "430a46ad-44c9-43ef-8d68-6e484747e8f4",
   "metadata": {},
   "outputs": [
    {
     "data": {
      "text/plain": [
       "dict_keys(['sib_psus60', 'ann_psus06_4lpow', 'sib_psus60_psrc2', 'random'])"
      ]
     },
     "execution_count": 101,
     "metadata": {},
     "output_type": "execute_result"
    }
   ],
   "source": [
    "psrc_22.keys()"
   ]
  },
  {
   "cell_type": "code",
   "execution_count": 62,
   "id": "3a4415fc-f45e-40bf-9c97-cd5564b17cca",
   "metadata": {},
   "outputs": [
    {
     "data": {
      "text/plain": [
       "{'sib_psus60': 0.001065477215456457, 'ann_psus06_4lpow': 0.00031799998}"
      ]
     },
     "execution_count": 62,
     "metadata": {},
     "output_type": "execute_result"
    }
   ],
   "source": [
    "{k:r.sum() for k,r in psrc_22.items()}"
   ]
  },
  {
   "cell_type": "code",
   "execution_count": 71,
   "id": "1dded552-52b5-4572-857c-d4105c721110",
   "metadata": {},
   "outputs": [],
   "source": [
    "aucs_df =pd.DataFrame(aucs_all).dropna(how=\"all\", axis=0)"
   ]
  },
  {
   "cell_type": "code",
   "execution_count": 72,
   "id": "d23ce29b-4c0e-4c3d-8a70-04a5d78f2597",
   "metadata": {},
   "outputs": [
    {
     "data": {
      "text/plain": [
       "100"
      ]
     },
     "execution_count": 72,
     "metadata": {},
     "output_type": "execute_result"
    }
   ],
   "source": [
    "len(aucs_df)"
   ]
  },
  {
   "cell_type": "code",
   "execution_count": 68,
   "id": "bb17e429-f2df-4a25-b1a0-9ccd8bcbd1d1",
   "metadata": {},
   "outputs": [],
   "source": [
    "avg = {name: np.nanmean(r)\n",
    "              for name, r in aucs_df.items()}\n",
    "err_avg = {name: np.nanstd(r)/np.sqrt(len(r) - np.isnan(r).sum())\n",
    "              for name, r in aucs_df.items()}"
   ]
  },
  {
   "cell_type": "code",
   "execution_count": 69,
   "id": "2f917650-1983-4c27-86a6-57b100621ec1",
   "metadata": {},
   "outputs": [
    {
     "data": {
      "text/plain": [
       "{'sib_psus60': 0.00497256566803569,\n",
       " 'sib_psus70_psrc2': 0.00496553318833365,\n",
       " 'ann_psus07_4lpow_psrc2': 0.00494097421199388,\n",
       " 'ann_psus06_4lpow': 0.00464687998488765,\n",
       " 'MF': 0.007275191940009587,\n",
       " 'CT': 0.0057325369206093135}"
      ]
     },
     "execution_count": 69,
     "metadata": {},
     "output_type": "execute_result"
    }
   ],
   "source": [
    "err_avg"
   ]
  },
  {
   "cell_type": "code",
   "execution_count": null,
   "id": "ffd090f8-4178-4e5f-b788-f555b2a05c61",
   "metadata": {},
   "outputs": [],
   "source": [
    "aucs_df.agg(lambda x: (np.nanmean(x),\n",
    "                       np.nanstd(x)/(np.prod(x.shape)- np.isnan(x).sum())))"
   ]
  },
  {
   "cell_type": "code",
   "execution_count": 73,
   "id": "a1002f36-d272-471a-8342-14c452cd2f77",
   "metadata": {},
   "outputs": [],
   "source": [
    "aucs_df.to_csv(\"res_plot/\"+name_out+\"aucs.csv\",index=False)"
   ]
  },
  {
   "cell_type": "code",
   "execution_count": null,
   "id": "8782669f-fc9f-4c7e-862f-b816cd4c0a1c",
   "metadata": {},
   "outputs": [],
   "source": [
    "Ninfected = Nfin_real[:,1:].sum(-1)\n",
    "Ninfected"
   ]
  },
  {
   "cell_type": "code",
   "execution_count": null,
   "id": "818750c4-47f4-4938-83c0-c32fe675ccf7",
   "metadata": {},
   "outputs": [],
   "source": [
    "Nobs = np.array([len(o) for o in rdf])"
   ]
  },
  {
   "cell_type": "code",
   "execution_count": null,
   "id": "4adb3da7-2136-4b49-ad22-a91a58c6fd2e",
   "metadata": {},
   "outputs": [],
   "source": [
    "f,ax = plt.subplots(figsize=(8,6))\n",
    "ax.plot(Ninfected, aucs_all[\"sib_psus60\"], \"o\", label=\"sib\")\n",
    "ax.plot(Ninfected, aucs_all[\"ann_psus06_4lpow\"],\"*\", label=\"ann\")\n",
    "ax.plot(Ninfected, aucs_all[\"MF\"],\"+\", label=\"MF\")\n",
    "\n",
    "ax.legend()"
   ]
  },
  {
   "cell_type": "code",
   "execution_count": null,
   "id": "ab7fdab9-a293-4703-870b-fb75fa7c6202",
   "metadata": {},
   "outputs": [],
   "source": [
    "f,ax = plt.subplots(figsize=(8,6))\n",
    "x = Ninfected-Nobs\n",
    "ax.plot(x, aucs_all[\"sib_psus60\"], \"o\", label=\"sib\")\n",
    "ax.plot(x, aucs_all[\"ann_psus06_4lpow\"],\"*\", label=\"ann\")\n",
    "ax.plot(x, aucs_all[\"MF\"],\"+\", label=\"MF\")\n",
    "\n",
    "ax.legend()"
   ]
  },
  {
   "cell_type": "code",
   "execution_count": null,
   "id": "c022f642-e478-4966-a548-c08af5f12338",
   "metadata": {},
   "outputs": [],
   "source": [
    "f,ax = plt.subplots(figsize=(7,5))\n",
    "a = np.array(aucs_all[\"sib_psus60\"])\n",
    "b = np.array(aucs_all[\"ann_psus06_4lpow\"])\n",
    "ax.plot(Ninfected-Nobs,  (a-b)\n",
    "        , \"o\", label=\"sib - ann\")\n",
    "a = np.array(aucs_all[\"MF\"])\n",
    "b = np.array(aucs_all[\"ann_psus06_4lpow\"])\n",
    "ax.plot(Ninfected-Nobs,  (a-b) , \"*\", label=\"MF - ann\")\n",
    "a = np.array(aucs_all[\"CT\"])\n",
    "\n",
    "#ax.plot(Ninfected,  (a-b) , \"o\", label=\"CT - ann\")\n",
    "\n",
    "#ax.plot(Ninfected, aucs_all[\"ann_psus06_4lpow\"],\"*\", label=\"ann\")\n",
    "#ax.plot(Ninfected, aucs_all[\"MF\"],\"+\", label=\"MF\")\n",
    "ax.set_ylabel(\"Difference in AUC\")\n",
    "ax.set_xlabel(\"Number of infected individuals to find\")\n",
    "ax.legend()\n",
    "ax.grid(linestyle=\"--\")"
   ]
  },
  {
   "cell_type": "code",
   "execution_count": null,
   "id": "b0a82301-ef1c-48d5-b2f7-ac76e4955d09",
   "metadata": {},
   "outputs": [],
   "source": [
    "def histo_points(data, bins=50, **kwargs):\n",
    "    y,x = np.histogram(data, bins=bins, **kwargs)\n",
    "    steps = (x-np.roll(x,1))[1:]\n",
    "    xpts = x[:-1]+steps/2\n",
    "\n",
    "    return xpts, y\n",
    "\n",
    "data ={k: histo_points(dr, bins=500, range=(0.58, 0.99)) for k,dr in aucs_all.items()}\n",
    "\n",
    "for k, dr in data.items():\n",
    "    plt.plot(dr[0],dr[1].cumsum()/dr[1].sum(), label=k)\n",
    "\n",
    "plt.legend()"
   ]
  },
  {
   "cell_type": "code",
   "execution_count": null,
   "id": "45e39703-73ff-490f-9aaf-785ca97ead5e",
   "metadata": {},
   "outputs": [],
   "source": [
    "all_aucs= np.array(tuple(aucs_all.values()))\n",
    "columns=[\"BP\",\"ANN\", \"MF\", \"CT\"]"
   ]
  },
  {
   "cell_type": "code",
   "execution_count": null,
   "id": "27171c52-c667-4e93-b353-8b6f9a9a1d7c",
   "metadata": {},
   "outputs": [],
   "source": [
    "plt.boxplot(all_aucs.T)"
   ]
  },
  {
   "cell_type": "code",
   "execution_count": null,
   "id": "1d123408",
   "metadata": {},
   "outputs": [],
   "source": [
    "reload(risk_pred)"
   ]
  },
  {
   "cell_type": "code",
   "execution_count": null,
   "id": "7ad827bd-111e-4ea2-b46d-94ec2d770e79",
   "metadata": {},
   "outputs": [],
   "source": [
    "sel_risk = {name: \n",
    "            risk_pred.get_probs_inf(r,fin_conf, rdf, INSTANCE, risk_pred.ResType.risks) \n",
    "              for name, r in risks_all.items()}\n",
    "\n",
    "probsi_margs = {name: \n",
    "            risk_pred.get_probs_inf(r,fin_conf, rdf, INSTANCE, risk_pred.ResType.margs) \n",
    "              for name, r in margs_all.items()}"
   ]
  },
  {
   "cell_type": "code",
   "execution_count": null,
   "id": "f03dce69",
   "metadata": {},
   "outputs": [],
   "source": [
    "num_max = max([len(g[1]) for g in sel_risk[\"MF\"]])"
   ]
  },
  {
   "cell_type": "code",
   "execution_count": null,
   "id": "9b7f3850",
   "metadata": {},
   "outputs": [],
   "source": [
    "def count_found2(risk_i, nmax=None):\n",
    "    #print(risk_i.shape)\n",
    "    #g = np.stack(risk_i,1).astype(np.float_)\n",
    "    idx = np.argsort(risk_i[0])[::-1]\n",
    "\n",
    "    #g.view(\"f8,f8\").sort(axis=0, order=\"f0\")\n",
    "    reu = risk_i[1][idx]\n",
    "    if nmax is not None:\n",
    "        res = np.zeros(nmax)\n",
    "        #print(g[::-1][:10])\n",
    "        res[:reu.shape[0]] = reu\n",
    "        return res.cumsum()\n",
    "    else:\n",
    "        return reu.cumsum()"
   ]
  },
  {
   "cell_type": "code",
   "execution_count": null,
   "id": "eb9596a6-ba26-43e6-a9c4-79516be5d698",
   "metadata": {},
   "outputs": [],
   "source": [
    "TOT_POINTS = 1000\n",
    "def count_found_all(risk_i, nmax=None):\n",
    "    #print(risk_i.shape)\n",
    "    #g = np.stack(risk_i,1).astype(np.float_)\n",
    "    idx = np.argsort(risk_i[0])[::-1]\n",
    "\n",
    "    #g.view(\"f8,f8\").sort(axis=0, order=\"f0\")\n",
    "    count = risk_i[1][idx]\n",
    "    \n",
    "    nfind = len(count)\n",
    "    \n",
    "    points = np.linspace(1,TOT_POINTS, nfind)\n",
    "    #discr_points = (points * TOT_POINTS).astype(int)\n",
    "    resu = np.zeros(TOT_POINTS+1)\n",
    "    \n",
    "    resu[points.astype(int)] = count\n",
    "    \n",
    "    return resu.cumsum()\n",
    "    "
   ]
  },
  {
   "cell_type": "code",
   "execution_count": null,
   "id": "c86aa072",
   "metadata": {},
   "outputs": [],
   "source": [
    "normalize = lambda x: x/np.max(x)*100"
   ]
  },
  {
   "cell_type": "code",
   "execution_count": null,
   "id": "c442dbde",
   "metadata": {},
   "outputs": [],
   "source": [
    "risks_all.keys()\n",
    "num_max=None"
   ]
  },
  {
   "cell_type": "code",
   "execution_count": null,
   "id": "65dbc8db",
   "metadata": {},
   "outputs": [],
   "source": [
    "ninst=num_conf\n",
    "\n",
    "mg = lambda x,y: [normalize(count_found_all(r,y)) for r in x[:ninst]]"
   ]
  },
  {
   "cell_type": "code",
   "execution_count": null,
   "id": "8592cbf1-c371-4ff9-a1aa-c52febd4ae81",
   "metadata": {
    "tags": []
   },
   "outputs": [],
   "source": [
    "counted_risk = {\n",
    "    name: mg(r, num_max) for name, r in sel_risk.items()\n",
    "}\n",
    "\n",
    "counted_probs = {\n",
    "    name: mg(r, num_max) for name, r in probsi_margs.items()\n",
    "}"
   ]
  },
  {
   "cell_type": "code",
   "execution_count": null,
   "id": "2602ace1-569e-4f5d-a86b-76ca5a14799d",
   "metadata": {},
   "outputs": [],
   "source": [
    "counted_all = {}\n",
    "counted_all.update(counted_probs)\n",
    "counted_all.update(counted_risk)"
   ]
  },
  {
   "cell_type": "code",
   "execution_count": null,
   "id": "1f23b991-8663-46b6-ba30-50764cbd57c6",
   "metadata": {},
   "outputs": [],
   "source": [
    "counted_all[\"sib_psus60\"][0]"
   ]
  },
  {
   "cell_type": "code",
   "execution_count": null,
   "id": "47dda2c9-e30f-4ccb-9364-3eb18148e1a5",
   "metadata": {},
   "outputs": [],
   "source": [
    "from sklearn.metrics import auc\n",
    "\n",
    "aucs_find = {k: np.array([\n",
    "                    auc(np.linspace(0,1,len(v)), v/100)\n",
    "                          for v in mar ]).flatten() for k,mar in counted_all.items()}"
   ]
  },
  {
   "cell_type": "code",
   "execution_count": null,
   "id": "86dd6f1e-c4c1-4520-927e-741d8890ef6a",
   "metadata": {},
   "outputs": [],
   "source": [
    "labels={k: \"${:4.3f} \\pm {:4.3f}$\".format(np.nanmean(x),np.nanstd(x)/np.sqrt(np.prod(x.shape)-np.isnan(x).sum())) for k,x in aucs_find.items()}"
   ]
  },
  {
   "cell_type": "code",
   "execution_count": null,
   "id": "a1ed3b86",
   "metadata": {},
   "outputs": [],
   "source": [
    "labels"
   ]
  },
  {
   "cell_type": "code",
   "execution_count": null,
   "id": "d6425b5f",
   "metadata": {},
   "outputs": [],
   "source": [
    "ntests=20"
   ]
  },
  {
   "cell_type": "code",
   "execution_count": null,
   "id": "fb4db373-d527-4ccc-bb20-6491a079856f",
   "metadata": {},
   "outputs": [],
   "source": [
    "res_m = {name: np.nanmean(np.stack(x),0) for name,x in counted_all.items()}\n",
    "\n"
   ]
  },
  {
   "cell_type": "code",
   "execution_count": null,
   "id": "49e49339-a1de-46c7-ae9a-61310510dfd9",
   "metadata": {},
   "outputs": [],
   "source": [
    "from sklearn.metrics import auc\n",
    "\n",
    "auc_risk2 = {name: auc(np.linspace(0,1,len(x)),x/100) for name,x in res_m.items()}"
   ]
  },
  {
   "cell_type": "code",
   "execution_count": null,
   "id": "b9eb75c7",
   "metadata": {
    "tags": []
   },
   "outputs": [],
   "source": [
    "plt.figure(figsize=(8,6))\n",
    "#for name,x in avg_count_probs.items():\n",
    "#    plt.plot(x, label=name)\n",
    "#    print()\n",
    "#for name,x in avg_count_risk.items():\n",
    "#    plt.plot(x, label=name)\n",
    "#plt.plot(ul.mean(0))\n",
    "x_data = np.linspace(0,100,TOT_POINTS+1)\n",
    "plt.plot(x_data,res_m[\"sib_psus60\"], label=\"BP, auc: {}\".format(labels[\"sib_psus60\"]))\n",
    "l = \"ann_\"\n",
    "\n",
    "\n",
    "#plt.plot(x_data,res_m[\"ann_psus06_6lexp\"], label=\"ANN exp, auc: {}\".format(labels[\"ann_psus06_6lexp\"]))\n",
    "\n",
    "plt.plot(x_data,res_m[\"ann_psus06_4lpow\"], label=\"ANN pow, auc: {}\".format(labels[\"ann_psus06_4lpow\"]))\n",
    "\n",
    "plt.plot(x_data,res_m[\"MF\"], label=\"MF, auc: {}\".format(labels[\"MF\"]))\n",
    "plt.plot(x_data,res_m[\"CT\"], label=\"CT, auc: {}\".format(labels[\"CT\"]))\n",
    "\n",
    "#plt.plot(res_m[\"MF_cho\"], label=\"MF cho, auc: {:4.3f}\".format(auc_risk2[\"MF_cho\"]))\n",
    "#plt.plot(res_m[\"CT_cho\"], label=\"CT cho, auc: {:4.3f}\".format(auc_risk2[\"CT_cho\"]))\n",
    "\n",
    "\n",
    "plt.legend()\n",
    "plt.ylabel(\"Infected found on average (%)\")\n",
    "plt.xlabel(\"Individuals tested (%)\")\n",
    "plt.grid(linestyle=\"--\")"
   ]
  },
  {
   "cell_type": "code",
   "execution_count": null,
   "id": "e11093b3-1be3-4eeb-9c0e-97cc2ab75196",
   "metadata": {},
   "outputs": [],
   "source": [
    "auc_risk2"
   ]
  },
  {
   "cell_type": "code",
   "execution_count": null,
   "id": "3af52481-f17a-4fec-89f4-fcc0a4bdf9ec",
   "metadata": {},
   "outputs": [],
   "source": [
    "{name: round(r, 4)\n",
    "              for name, r in auc_risk2.items()}"
   ]
  },
  {
   "cell_type": "code",
   "execution_count": null,
   "id": "4271894f-54df-4274-a61c-c79f63c4436a",
   "metadata": {},
   "outputs": [],
   "source": [
    "{name: round(r, 4)\n",
    "              for name, r in auc_risk2.items()}"
   ]
  },
  {
   "cell_type": "code",
   "execution_count": null,
   "id": "d08986fe-643b-4af8-bfce-9de0abe57ed3",
   "metadata": {},
   "outputs": [],
   "source": [
    "for inst in [1,2,3,4]:\n",
    "    plt.figure(figsize=(7,5))\n",
    "    for name,x in counted_probs.items():\n",
    "        plt.plot(x[inst],\"-\", label=name)\n",
    "    for name,x in counted_risk.items():\n",
    "        plt.plot(x[inst],\"-\", label=name)\n",
    "    plt.legend()\n",
    "    plt.grid(linestyle=\"--\")\n",
    "    plt.title(f\"Instance {inst}\")"
   ]
  },
  {
   "cell_type": "code",
   "execution_count": null,
   "id": "c665701e-9743-4e54-8369-ac51f84dc6a6",
   "metadata": {},
   "outputs": [],
   "source": [
    "def plot_roc(roc, *rargs, **kwargs):\n",
    "    plt.plot(roc[0], roc[1], *rargs, **kwargs)"
   ]
  },
  {
   "cell_type": "code",
   "execution_count": null,
   "id": "7587bad9-e257-4fc4-a091-533145db0402",
   "metadata": {},
   "outputs": [],
   "source": [
    "for inst in [1,4]:\n",
    "    plt.figure(figsize=(7,5))\n",
    "    for name,x in rocs_all.items():\n",
    "        plot_roc(x[inst],\"-\", label=name)\n",
    "    for name,x in rocs_risks.items():\n",
    "        plot_roc(x[inst],\".-\", label=name)\n",
    "    plt.legend()\n",
    "    plt.grid(linestyle=\"--\")\n",
    "    plt.title(f\"Instance {inst} ROC\")"
   ]
  },
  {
   "cell_type": "code",
   "execution_count": null,
   "id": "9c09b1f7-71dc-4d6e-b16d-502b39bb8d84",
   "metadata": {},
   "outputs": [],
   "source": [
    "risk_pred.calc_ro"
   ]
  },
  {
   "cell_type": "code",
   "execution_count": null,
   "id": "9129d1d7-7991-42d3-bf80-3e0130849d68",
   "metadata": {},
   "outputs": [],
   "source": [
    "contacts =  mdata[\"contacts\"]"
   ]
  },
  {
   "cell_type": "code",
   "execution_count": null,
   "id": "e7a36605",
   "metadata": {},
   "outputs": [],
   "source": [
    "contacts[0]"
   ]
  },
  {
   "cell_type": "code",
   "execution_count": null,
   "id": "6fcef9a9-5cc8-4aac-bd31-8e5b3e00aff5",
   "metadata": {},
   "outputs": [],
   "source": [
    "r=pd.DataFrame(contacts, columns=[\"t\",\"i\",\"j\", \"lam\"])"
   ]
  },
  {
   "cell_type": "code",
   "execution_count": null,
   "id": "8ab58358-a848-4ca4-af27-7280fb60afd7",
   "metadata": {},
   "outputs": [],
   "source": []
  },
  {
   "cell_type": "code",
   "execution_count": null,
   "id": "5d2f7de5-2921-4f47-bfdb-d417d9c2f692",
   "metadata": {},
   "outputs": [],
   "source": [
    "contactsdf= r.convert_dtypes(convert_integer=True)"
   ]
  },
  {
   "cell_type": "code",
   "execution_count": null,
   "id": "3ee36264-f04c-4eb0-9ee0-d435a1e118cb",
   "metadata": {},
   "outputs": [],
   "source": [
    "for t, cons in contactsdf.groupby(\"t\"):\n",
    "    numc = len(cons)\n",
    "    print(t,numc)"
   ]
  },
  {
   "cell_type": "code",
   "execution_count": null,
   "id": "39aa072f-e822-4041-9271-976dded6826c",
   "metadata": {},
   "outputs": [],
   "source": []
  },
  {
   "cell_type": "markdown",
   "id": "10013666-8d4a-4fc2-b2eb-d136cc8e3617",
   "metadata": {},
   "source": [
    "## Patient zero"
   ]
  },
  {
   "cell_type": "code",
   "execution_count": 158,
   "id": "48e9c33d-43d1-4e37-a64a-c27b07a233ec",
   "metadata": {},
   "outputs": [],
   "source": [
    "sources = np.stack( [np.where(np.array(c[0])==1)[0] for c in mdata[\"test\"] ])"
   ]
  },
  {
   "cell_type": "code",
   "execution_count": 159,
   "id": "5bce03e9-821c-419f-acb3-afbd81e78ba4",
   "metadata": {},
   "outputs": [
    {
     "data": {
      "text/plain": [
       "array([75])"
      ]
     },
     "execution_count": 159,
     "metadata": {},
     "output_type": "execute_result"
    }
   ],
   "source": [
    "sources[6]"
   ]
  },
  {
   "cell_type": "code",
   "execution_count": 160,
   "id": "97896826-3f2f-4454-ad91-09e5f2f6066b",
   "metadata": {},
   "outputs": [
    {
     "data": {
      "text/plain": [
       "(array([29]),)"
      ]
     },
     "execution_count": 160,
     "metadata": {},
     "output_type": "execute_result"
    }
   ],
   "source": [
    "np.where(Nfin_real[:,1]< 10)"
   ]
  },
  {
   "cell_type": "code",
   "execution_count": 161,
   "id": "ed657f56-fc1e-47e6-8a0e-6e61aca683a0",
   "metadata": {},
   "outputs": [],
   "source": [
    "def get_source_rank(m, msources):\n",
    "    psources = m[:,0,1]\n",
    "    idx=psources.argsort()[::-1]\n",
    "    \n",
    "    rg = sum(((idx == s for s in msources)))\n",
    "    #print(rg)\n",
    "    return rg.cumsum()"
   ]
  },
  {
   "cell_type": "code",
   "execution_count": 162,
   "id": "02bc9b07-e8d1-4ac5-a84d-24cf78d66e4b",
   "metadata": {},
   "outputs": [],
   "source": [
    "def get_src_rank_probs(psources, msources):\n",
    "    idx=psources.argsort()[::-1]\n",
    "    \n",
    "    rg = sum(((idx == s for s in msources)))\n",
    "    #print(rg)\n",
    "    return rg.cumsum()"
   ]
  },
  {
   "cell_type": "code",
   "execution_count": 163,
   "id": "a3622e56-4ea4-4150-9b4a-acef4b495f9c",
   "metadata": {},
   "outputs": [],
   "source": [
    "def get_source_pos(m, msources):\n",
    "    psources = m[:,0,1]\n",
    "    idx=psources.argsort()[::-1]\n",
    "    \n",
    "    rg = sum(((idx == s for s in msources)))\n",
    "    #print(rg)\n",
    "    return rg"
   ]
  },
  {
   "cell_type": "code",
   "execution_count": 164,
   "id": "1cddc067-aa6a-4be2-9f17-d9be5d6e6b1d",
   "metadata": {},
   "outputs": [],
   "source": [
    "from sklearn.metrics import auc, roc_curve"
   ]
  },
  {
   "cell_type": "code",
   "execution_count": 165,
   "id": "f6c51b88-1056-488a-99cd-95c8040e35df",
   "metadata": {},
   "outputs": [],
   "source": [
    "def get_sources_auc(m, msources):\n",
    "    psources = m[:,0,1]\n",
    "    idx=psources.argsort()[::-1]\n",
    "    truey = np.zeros(psources.shape, dtype=int)\n",
    "    #rg = sum(((idx == s for s in msources)))\n",
    "    truey[msources] = 1\n",
    "    #print(rg)\n",
    "    fpr,tpr,thr= roc_curve(truey, psources)#rg.cumsum()\n",
    "    return auc(fpr,tpr)"
   ]
  },
  {
   "cell_type": "code",
   "execution_count": 166,
   "id": "c53f82c2-88d7-41bb-bad0-fff61eb00848",
   "metadata": {},
   "outputs": [],
   "source": [
    "def get_sources_auc_probs(psources, msources):\n",
    "    psources = m[:,0,1]\n",
    "    idx=psources.argsort()[::-1]\n",
    "    truey = np.zeros(psources.shape, dtype=int)\n",
    "    #rg = sum(((idx == s for s in msources)))\n",
    "    truey[msources] = 1\n",
    "    #print(rg)\n",
    "    fpr,tpr,thr= roc_curve(truey, psources)#rg.cumsum()\n",
    "    return auc(fpr,tpr)"
   ]
  },
  {
   "cell_type": "code",
   "execution_count": 167,
   "id": "3cc3c1a4-3d7b-4641-8b89-a2431da94ac7",
   "metadata": {},
   "outputs": [
    {
     "data": {
      "text/plain": [
       "(95, 13, 3)"
      ]
     },
     "execution_count": 167,
     "metadata": {},
     "output_type": "execute_result"
    }
   ],
   "source": [
    "margs_all[\"sib_psus60\"][0].shape"
   ]
  },
  {
   "cell_type": "code",
   "execution_count": 168,
   "id": "d6141390-5792-44a0-bf00-bbc6358f5ef6",
   "metadata": {},
   "outputs": [],
   "source": [
    "margs_all[\"random\"] = [np.random.rand(INSTANCE.n, 2, 3) for _ in range(num_conf)]"
   ]
  },
  {
   "cell_type": "code",
   "execution_count": 169,
   "id": "719e9fb1-8e15-4837-8d06-75b4fcc4519d",
   "metadata": {},
   "outputs": [],
   "source": [
    "pzero_accu = {name: \n",
    "            \n",
    "        sum([get_source_rank(m,source) for m, source in zip(marg, sources)]) \n",
    "            for name, marg in margs_all.items()}"
   ]
  },
  {
   "cell_type": "code",
   "execution_count": 170,
   "id": "f529c9a8-d586-4c1c-a2df-634b6730e9b5",
   "metadata": {},
   "outputs": [],
   "source": [
    "pzero_accu_all = {name: \n",
    "            \n",
    "        np.stack([get_source_rank(m,source) for m, source in zip(marg, sources)]) \n",
    "            for name, marg in margs_all.items()}"
   ]
  },
  {
   "cell_type": "code",
   "execution_count": 171,
   "id": "4215b2c3-b0af-438d-829f-77ba72375403",
   "metadata": {},
   "outputs": [],
   "source": [
    "pzero_pos = {name: \n",
    "            \n",
    "        np.stack([get_source_pos(m,source) for m, source in zip(marg, sources)]) \n",
    "            for name, marg in margs_all.items()}"
   ]
  },
  {
   "cell_type": "code",
   "execution_count": 172,
   "id": "0b174075-bf3c-467f-b3d3-b19674e8c360",
   "metadata": {},
   "outputs": [
    {
     "data": {
      "text/plain": [
       "58"
      ]
     },
     "execution_count": 172,
     "metadata": {},
     "output_type": "execute_result"
    }
   ],
   "source": [
    "pzero_accu_all[\"ann_psus06_4lpow\"][6].argmax()"
   ]
  },
  {
   "cell_type": "code",
   "execution_count": 68,
   "id": "fb7d1d5c-a614-469c-a978-3714f9d5b8ae",
   "metadata": {},
   "outputs": [
    {
     "data": {
      "text/plain": [
       "array([ 6,  8, 22, 24, 25, 27, 29, 32, 38, 55, 61, 65])"
      ]
     },
     "execution_count": 68,
     "metadata": {},
     "output_type": "execute_result"
    }
   ],
   "source": [
    "res = np.where((pzero_accu_all[\"ann_psus06_4lpow\"].sum(-1) - pzero_accu_all[\"sib_psus60\"].sum(-1)) < -15)\n",
    "res[0]"
   ]
  },
  {
   "cell_type": "code",
   "execution_count": 173,
   "id": "d97f902e-f642-417c-aefd-c0b6cf43a5c7",
   "metadata": {},
   "outputs": [
    {
     "name": "stdout",
     "output_type": "stream",
     "text": [
      "sib_psus60 \n",
      "\t [59 90 82 63 71 44 71 93 36 77 37 60] 65.25\n",
      "sib_psus70_psrc2 \n",
      "\t [94 92 82 48 58 78 82 95 19 60 93 83] 73.66666666666667\n",
      "sib_psus60_psrc2 \n",
      "\t [94 93 82 50 83 73 70 95 20 75 92 85] 76.0\n",
      "ann_psus06_4lpow \n",
      "\t [37 20 20 18 17 20 35  1 10 54 18 29] 23.25\n",
      "ann_psus07_4lpow \n",
      "\t [46 22 76 27 27 34 42 88 11 26 26 27] 37.666666666666664\n",
      "ann_psus06_4lpow_psrc2 \n",
      "\t [93 95 78 48 39 61 71 95 31 66 89 84] 70.83333333333333\n",
      "ann_psus07_4lpow_psrc2 \n",
      "\t [93 83 75 40 85 64 91 95 19 67 93 92] 74.75\n",
      "random \n",
      "\t [12 81 79 33 88 69 68 31 39 34 11 82] 52.25\n"
     ]
    }
   ],
   "source": [
    "for k, elms in pzero_accu_all.items():\n",
    "    print(k, \"\\n\\t\",elms[res[0]].sum(-1), elms[res[0]].sum(-1).mean())"
   ]
  },
  {
   "cell_type": "code",
   "execution_count": null,
   "id": "79bac54c-9bcf-4aa4-91e8-148d48f6a338",
   "metadata": {},
   "outputs": [],
   "source": [
    "(pzero_accu_all[\"ann_psus06_4lpow\"].sum(-1) - pzero_accu_all[\"sib_psus60\"].sum(-1))"
   ]
  },
  {
   "cell_type": "code",
   "execution_count": null,
   "id": "855b39fc-38fb-40f3-9b38-385d5b595739",
   "metadata": {},
   "outputs": [],
   "source": [
    "pzero_accu_all[\"ann_psus06_4lpow\"][res[0]].sum(-1), pzero_accu_all[\"sib_psus60\"][res[0]].sum(-1)"
   ]
  },
  {
   "cell_type": "code",
   "execution_count": null,
   "id": "1f4b4d34-872a-47d3-bdc1-576e7c6f50c5",
   "metadata": {},
   "outputs": [],
   "source": [
    "obs_worst = [set(rdf[r].node) for r in res[0]]"
   ]
  },
  {
   "cell_type": "code",
   "execution_count": 103,
   "id": "56718e73-1ad7-4830-9945-07eef0ddd675",
   "metadata": {},
   "outputs": [],
   "source": [
    "num_inf_obs = [len(odf[odf.obs==1]) for odf in rdf]"
   ]
  },
  {
   "cell_type": "code",
   "execution_count": 104,
   "id": "9f31a943-d08d-4dff-99ab-9c9010e948d1",
   "metadata": {},
   "outputs": [
    {
     "data": {
      "text/plain": [
       "[27,\n",
       " 3,\n",
       " 30,\n",
       " 8,\n",
       " 25,\n",
       " 6,\n",
       " 23,\n",
       " 1,\n",
       " 16,\n",
       " 24,\n",
       " 4,\n",
       " 9,\n",
       " 7,\n",
       " 19,\n",
       " 21,\n",
       " 22,\n",
       " 24,\n",
       " 10,\n",
       " 19,\n",
       " 11,\n",
       " 26,\n",
       " 23,\n",
       " 0,\n",
       " 9,\n",
       " 15,\n",
       " 14,\n",
       " 12,\n",
       " 17,\n",
       " 28,\n",
       " 13,\n",
       " 16,\n",
       " 19,\n",
       " 1,\n",
       " 10,\n",
       " 9,\n",
       " 20,\n",
       " 28,\n",
       " 19,\n",
       " 24,\n",
       " 10,\n",
       " 35,\n",
       " 20,\n",
       " 1,\n",
       " 37,\n",
       " 13,\n",
       " 36,\n",
       " 23,\n",
       " 2,\n",
       " 21,\n",
       " 37]"
      ]
     },
     "execution_count": 104,
     "metadata": {},
     "output_type": "execute_result"
    }
   ],
   "source": [
    "num_inf_obs"
   ]
  },
  {
   "cell_type": "code",
   "execution_count": null,
   "id": "a301ae29-b6ed-49c8-a27e-fcc819b96f14",
   "metadata": {},
   "outputs": [],
   "source": [
    "sources_worst=sources[res[0]]"
   ]
  },
  {
   "cell_type": "code",
   "execution_count": null,
   "id": "500f6bf5-17cc-489b-aab4-89cab2faa3b5",
   "metadata": {},
   "outputs": [],
   "source": [
    "for s, o in zip(sources_worst, obs_worst):\n",
    "    if s[0] not in o:\n",
    "        print(\"Not in obs\")"
   ]
  },
  {
   "cell_type": "code",
   "execution_count": null,
   "id": "6104f63d-175d-4e15-80fd-33c0f742fa50",
   "metadata": {},
   "outputs": [],
   "source": [
    "perf = {s: pzero_accu_all[s].sum(-1) for s in pzero_accu_all}"
   ]
  },
  {
   "cell_type": "code",
   "execution_count": 105,
   "id": "5b8a960c-f8ba-4128-b4b4-1adda2b60930",
   "metadata": {},
   "outputs": [],
   "source": [
    "ninf = (np.array(mdata[\"test\"])[:,1] != 0).sum(-1)"
   ]
  },
  {
   "cell_type": "code",
   "execution_count": 106,
   "id": "02b91012-7206-4619-8578-0f13bd97c940",
   "metadata": {},
   "outputs": [
    {
     "data": {
      "text/plain": [
       "array([48,  7, 55, 13, 51, 19, 45,  4, 32, 46,  7, 15, 18, 37, 39, 49, 42,\n",
       "       24, 34, 17, 47, 37,  3, 30, 35, 30, 18, 40, 56, 33, 42, 31,  6, 18,\n",
       "       12, 33, 64, 43, 50, 24, 55, 34,  3, 76, 22, 55, 46, 12, 43, 69])"
      ]
     },
     "execution_count": 106,
     "metadata": {},
     "output_type": "execute_result"
    }
   ],
   "source": [
    "ninf"
   ]
  },
  {
   "cell_type": "code",
   "execution_count": null,
   "id": "c11b3097-fecc-4936-8cf3-dc0f13cc8520",
   "metadata": {},
   "outputs": [],
   "source": [
    "plt.figure(figsize=(9,6))\n",
    "plt.plot(ninf, perf[\"sib_psus60\"], \"o\", label=\"sib\")\n",
    "plt.plot(ninf, perf[\"ann_psus06_4lpow\"], \"*\", label=\"ann\")\n",
    "plt.plot(ninf, perf[\"ann_psus06_4lpow_pri\"], \".\", label=\"ann prior psus\")\n",
    "\n",
    "plt.plot(ninf, perf[\"ann_psus06_4lpow_nobal\"], \"+\", label=\"ann nobal\")\n",
    "\n",
    "plt.ylabel(\"Score\")\n",
    "plt.xlabel(\"N inf\")\n",
    "plt.grid(linestyle=\"--\")\n",
    "plt.legend(loc=\"best\")"
   ]
  },
  {
   "cell_type": "code",
   "execution_count": null,
   "id": "549349a6-7b79-42c8-ac25-db6cf82c07a0",
   "metadata": {},
   "outputs": [],
   "source": [
    "perf"
   ]
  },
  {
   "cell_type": "code",
   "execution_count": null,
   "id": "b1d0a57b-9ba2-4a71-852b-29755d514bf9",
   "metadata": {},
   "outputs": [],
   "source": [
    "import scipy.stats as stats"
   ]
  },
  {
   "cell_type": "code",
   "execution_count": null,
   "id": "dc5602fa-4930-49cb-a61d-2583ed113175",
   "metadata": {},
   "outputs": [],
   "source": [
    "plt.figure(figsize=(8,6))\n",
    "for k, dat in perf.items():\n",
    "    y,x,binnum = stats.binned_statistic(ninf,dat,bins=15,statistic=\"mean\")\n",
    "\n",
    "    xc = (x[1:]+x[:-1])/2\n",
    "    plt.plot(xc,y,\"*-\", label=k)\n",
    "plt.legend(loc=\"lower right\")"
   ]
  },
  {
   "cell_type": "code",
   "execution_count": null,
   "id": "2c020e45-727f-4994-8564-680e6639451d",
   "metadata": {},
   "outputs": [],
   "source": [
    "plt.figure(figsize=(8,6))\n",
    "for k, dat in Nfin.items():\n",
    "    y,x,binnum = stats.binned_statistic(ninf,dat[:,1:].sum(-1),bins=20,statistic=\"mean\")\n",
    "\n",
    "    xc = (x[1:]+x[:-1])/2\n",
    "    plt.plot(xc,y,\"*--\", label=k)\n",
    "plt.legend(loc=\"lower right\")\n",
    "x = np.linspace(*plt.gca().get_xlim())\n",
    "plt.plot(x,x,\"--\",color=\"grey\")"
   ]
  },
  {
   "cell_type": "code",
   "execution_count": null,
   "id": "5005aade-dbe6-42bf-a1ed-7d2736d3e053",
   "metadata": {},
   "outputs": [],
   "source": [
    "np.unique(binnum, return_counts=True)"
   ]
  },
  {
   "cell_type": "code",
   "execution_count": null,
   "id": "32384f28-948a-4a89-9c06-fc9f904c6963",
   "metadata": {},
   "outputs": [],
   "source": [
    "x"
   ]
  },
  {
   "cell_type": "code",
   "execution_count": null,
   "id": "8ae3ed68-fb7f-4bca-91bc-f532ff4471a3",
   "metadata": {},
   "outputs": [],
   "source": [
    "ninf[(ninf<42.75)&(ninf > 39.5)]"
   ]
  },
  {
   "cell_type": "code",
   "execution_count": null,
   "id": "5abfd18b-fb6f-4d6d-92ac-609015e8e8be",
   "metadata": {},
   "outputs": [],
   "source": [
    "y,x = np.histogram(ninf,bins=10, weights=perf[\"ann_psus06_4lpow\"], density=True)\n",
    "\n",
    "y,x = np.histogram(ninf,bins=10, weights=perf[\"ann_psus06_4lpow_pri\"], density=True)\n",
    "y,x = np.histogram(ninf,bins=10, weights=perf[\"ann_psus06_4lpow_nobal\"], density=True)\n",
    "\n",
    "\n",
    "plt.plot(xc,y)"
   ]
  },
  {
   "cell_type": "code",
   "execution_count": null,
   "id": "c6788bd3-d762-43a4-802d-b05bd4f8c066",
   "metadata": {},
   "outputs": [],
   "source": [
    "plt.figure(figsize=(8,6))\n",
    "#plt.plot(Nfin, perf[\"sib_psus60\"], \"o\", label=\"sib\")\n",
    "plt.plot(Nfin[\"ann_psus06_4lpow\"][:,1], perf[\"ann_psus06_4lpow\"], \"*\", label=\"ann\")\n",
    "\n",
    "plt.ylabel(\"Score\")\n",
    "plt.xlabel(\"N inf\")\n",
    "plt.legend()"
   ]
  },
  {
   "cell_type": "code",
   "execution_count": null,
   "id": "d1ff2334-7a2c-435f-b000-4bf5c2da9b8b",
   "metadata": {},
   "outputs": [],
   "source": [
    "plt.figure(figsize=(8,6))\n",
    "x = ninf/np.array(num_inf_obs)\n",
    "\n",
    "plt.plot(x, perf[\"sib_psus60\"], \"o\", label=\"sib\")\n",
    "plt.plot(x, perf[\"ann_psus06_4lpow\"], \"*\", label=\"ann\")\n",
    "\n",
    "plt.ylabel(\"Score\")\n",
    "plt.xlabel(\"N inf observed\")\n",
    "plt.legend()"
   ]
  },
  {
   "cell_type": "code",
   "execution_count": null,
   "id": "a7ad74fd-a901-4a7c-8841-1e25dfd71347",
   "metadata": {},
   "outputs": [],
   "source": [
    "plt.figure(figsize=(8,6))\n",
    "x = ninf - np.array(num_inf_obs)\n",
    "plt.plot(x, perf[\"sib_psus60\"], \"o\", label=\"sib\")\n",
    "plt.plot(x, perf[\"ann_psus06_4lpow\"], \"*\", label=\"ann\")\n",
    "\n",
    "plt.ylabel(\"Score\")\n",
    "plt.xlabel(\"Number of unobserved infected\")\n",
    "plt.legend()"
   ]
  },
  {
   "cell_type": "code",
   "execution_count": null,
   "id": "957e289c-d9eb-463e-8eb1-ab58066bce62",
   "metadata": {},
   "outputs": [],
   "source": []
  },
  {
   "cell_type": "code",
   "execution_count": 174,
   "id": "4e624236-95d8-40e5-a485-e00a515a2834",
   "metadata": {},
   "outputs": [],
   "source": [
    "pzero_auc = {name: \n",
    "            \n",
    "            np.array(\n",
    "                tuple(get_sources_auc(m,source) for m, source in zip(marg, sources))\n",
    "            )\n",
    "            for name, marg in margs_all.items()}"
   ]
  },
  {
   "cell_type": "code",
   "execution_count": 175,
   "id": "381d65c2-95f7-4ef7-8840-1f03fd1c8d24",
   "metadata": {},
   "outputs": [
    {
     "name": "stdout",
     "output_type": "stream",
     "text": [
      "ann_psus06_4lpow, 0.703 \\pm 0.037 \n",
      "ann_psus06_4lpow_psrc2, 0.781 \\pm 0.027 \n",
      "ann_psus07_4lpow, 0.705 \\pm 0.034 \n",
      "ann_psus07_4lpow_psrc2, 0.755 \\pm 0.028 \n",
      "random, 0.481 \\pm 0.037 \n",
      "sib_psus60, 0.733 \\pm 0.028 \n",
      "sib_psus60_psrc2, 0.790 \\pm 0.026 \n",
      "sib_psus70_psrc2, 0.749 \\pm 0.029 \n"
     ]
    }
   ],
   "source": [
    "for k in sorted(pzero_auc.keys()):\n",
    "    aal = pzero_auc[k]\n",
    "    print(\"{}, {:4.3f} \\pm {:4.3f} \".format(\n",
    "        k, np.nanmean(aal), np.nanstd(aal)/np.sqrt(np.prod(aal.shape)-np.isnan(aal).sum()))\n",
    "    )"
   ]
  },
  {
   "cell_type": "code",
   "execution_count": 176,
   "id": "1b5799c4-6a50-40e4-b6a4-df2d129bbb68",
   "metadata": {},
   "outputs": [
    {
     "name": "stdout",
     "output_type": "stream",
     "text": [
      "sib_psus60, 0.733 \\pm 0.028 \n",
      "sib_psus70_psrc2, 0.749 \\pm 0.029 \n",
      "sib_psus60_psrc2, 0.790 \\pm 0.026 \n",
      "ann_psus06_4lpow, 0.703 \\pm 0.037 \n",
      "ann_psus07_4lpow, 0.705 \\pm 0.034 \n",
      "ann_psus06_4lpow_psrc2, 0.781 \\pm 0.027 \n",
      "ann_psus07_4lpow_psrc2, 0.755 \\pm 0.028 \n"
     ]
    },
    {
     "data": {
      "text/plain": [
       "<matplotlib.legend.Legend at 0x7f8cb02e6cd0>"
      ]
     },
     "execution_count": 176,
     "metadata": {},
     "output_type": "execute_result"
    },
    {
     "data": {
      "image/png": "[encoded data removed]",
      "text/plain": [
       "<Figure size 432x288 with 1 Axes>"
      ]
     },
     "metadata": {
      "needs_background": "light"
     },
     "output_type": "display_data"
    }
   ],
   "source": [
    "for k, aal in pzero_auc.items():\n",
    "    if k == \"random\": continue\n",
    "    print(\"{}, {:4.3f} \\pm {:4.3f} \".format(\n",
    "        k, np.nanmean(aal), np.nanstd(aal)/np.sqrt(np.prod(aal.shape)-np.isnan(aal).sum()))\n",
    "    )\n",
    "    plt.plot(aal, label=k)\n",
    "    \n",
    "plt.legend()"
   ]
  },
  {
   "cell_type": "code",
   "execution_count": 185,
   "id": "29e70944-bc1b-40c3-95a1-5e95c7d321af",
   "metadata": {},
   "outputs": [
    {
     "data": {
      "image/png": "[encoded data removed]",
      "text/plain": [
       "<Figure size 504x360 with 1 Axes>"
      ]
     },
     "metadata": {
      "needs_background": "light"
     },
     "output_type": "display_data"
    }
   ],
   "source": [
    "plt.figure(figsize=(7,5))\n",
    "#for name,x in avg_count_probs.items():\n",
    "#    plt.plot(x, label=name)\n",
    "#    print()\n",
    "#for name,x in avg_count_risk.items():\n",
    "#    plt.plot(x, label=name)\n",
    "#plt.plot(ul.mean(0))\n",
    "x_data = np.arange(INSTANCE.n)+1\n",
    "#plt.plot(x_data,pzero_accu[\"sib_psus70_psrc2\"],\"-\", label=\"BP psus 07 psrc 1e-2\")#, auc: {:4.3f}\".format(auc_risk2[\"sib_psus60\"]))\n",
    "plt.plot(x_data,pzero_accu[\"sib_psus60_psrc2\"],\"-\", label=\"BP psrc 1e-2\")\n",
    "\n",
    "l = \"ann_\"\n",
    "#plt.plot(x_data,pzero_accu[\"ann_psus06_4lpow\"], label=\"ANN\")#, auc: {:4.3f}\".format(auc_risk2[\"ann_psus06Fin\"]))\n",
    "\n",
    "plt.plot(x_data,pzero_accu[\"ann_psus06_4lpow_psrc2\"], label=\"ANN psus 06 psrc 1e-2\")\n",
    "\n",
    "\n",
    "#plt.plot(x_data,pzero_accu[\"ann_psus07_4lpow_psrc2\"],\"--\", label=\"ANN psus 07 psrc 1e-2\")\n",
    "\n",
    "#plt.plot(x_data,pzero_accu[\"ann_psus06_4lpow_laypow1\"], label=\"ANN psus06 pow1\",)#, auc: {:4.3f}\".format(auc_risk2[\"ann_psus06Fin\"]))\n",
    "\n",
    "#plt.plot(x_data,pzero_accu[\"ann_psus065_4lpow\"], label=\"ANN psus065\",)\n",
    "#plt.plot(x_data,pzero_accu[\"ann_10kpsus06\"],\"--\", label=\"ANN 10kst\")#, auc: {:4.3f}\".format(auc_risk2[\"ann_psus06Fin\"]))\n",
    "\n",
    "#plt.plot(x_data,pzero_accu[\"ann_10kst10ks\"],\"--\", label=\"ANN 10kst 10ks\")#, auc: {:4.3f}\".format(auc_risk2[\"ann_psus06Fin\"]))\n",
    "\n",
    "#plt.plot(x_data,pzero_accu[\"ann_6kLayExp2\"],\"--\", label=\"ANN 6kst exp 2\")#, auc: {:4.3f}\".format(auc_risk2[\"ann_psus06Fin\"]))\n",
    "\n",
    "#plt.plot(res_m[\"MF_cho\"], label=\"MF cho, auc: {:4.3f}\".format(auc_risk2[\"MF_cho\"]))\n",
    "#plt.plot(res_m[\"CT_cho\"], label=\"CT cho, auc: {:4.3f}\".format(auc_risk2[\"CT_cho\"]))\n",
    "\n",
    "plt.plot(x_data, pzero_accu[\"random\"], \"--\", color=\"grey\")\n",
    "\n",
    "plt.legend()\n",
    "plt.ylabel(\"Sources found (cumulative)\")\n",
    "plt.xlabel(\"N individuals\")\n",
    "plt.grid(linestyle=\"--\")"
   ]
  },
  {
   "cell_type": "code",
   "execution_count": null,
   "id": "154dbbc7-d760-4926-b299-9c8e912e8787",
   "metadata": {},
   "outputs": [],
   "source": [
    "plt.figure(figsize=(7,5))\n",
    "#for name,x in avg_count_probs.items():\n",
    "#    plt.plot(x, label=name)\n",
    "#    print()\n",
    "#for name,x in avg_count_risk.items():\n",
    "#    plt.plot(x, label=name)\n",
    "#plt.plot(ul.mean(0))\n",
    "x_data = np.arange(INSTANCE.n)+1\n",
    "plt.plot(x_data,pzero_accu[\"sib_psus60\"], label=\"BP\")#, auc: {:4.3f}\".format(auc_risk2[\"sib_psus60\"]))\n",
    "l = \"ann_\"\n",
    "plt.plot(x_data,pzero_accu[\"ann_psus06_4lpow\"], label=\"ANN\")#, auc: {:4.3f}\".format(auc_risk2[\"ann_psus06Fin\"]))\n",
    "\n",
    "plt.plot(x_data,pzero_accu[\"ann_psus06_4lpow_nobal\"], label=\"ANN no prior\")#, auc: {:4.3f}\".format(auc_risk2[\"ann_psus06Fin\"]))\n",
    "\n",
    "plt.plot(x_data,pzero_accu[\"ann_psus07_4lpow\"],\"--\", label=\"ANN psus07\", color=\"black\")#, auc: {:4.3f}\".format(auc_risk2[\"ann_psus06Fin\"]))\n",
    "\n",
    "#plt.plot(x_data,pzero_accu[\"ann_10kpsus06\"],\"--\", label=\"ANN 10kst\")#, auc: {:4.3f}\".format(auc_risk2[\"ann_psus06Fin\"]))\n",
    "\n",
    "#plt.plot(x_data,pzero_accu[\"ann_10kst10ks\"],\"--\", label=\"ANN 10kst 10ks\")#, auc: {:4.3f}\".format(auc_risk2[\"ann_psus06Fin\"]))\n",
    "\n",
    "#plt.plot(x_data,pzero_accu[\"ann_6kLayExp2\"],\"--\", label=\"ANN 6kst exp 2\")#, auc: {:4.3f}\".format(auc_risk2[\"ann_psus06Fin\"]))\n",
    "\n",
    "#plt.plot(res_m[\"MF_cho\"], label=\"MF cho, auc: {:4.3f}\".format(auc_risk2[\"MF_cho\"]))\n",
    "#plt.plot(res_m[\"CT_cho\"], label=\"CT cho, auc: {:4.3f}\".format(auc_risk2[\"CT_cho\"]))\n",
    "\n",
    "\n",
    "plt.legend()\n",
    "plt.ylabel(\"Sources found (cumulative)\")\n",
    "plt.xlabel(\"N individuals\")\n",
    "plt.grid(linestyle=\"--\")"
   ]
  },
  {
   "cell_type": "code",
   "execution_count": null,
   "id": "83be50c9-22d0-44a1-8c09-744fde7c2cc8",
   "metadata": {},
   "outputs": [],
   "source": [
    "len(mdata[\"test\"])"
   ]
  },
  {
   "cell_type": "code",
   "execution_count": null,
   "id": "ad2939cf-4a54-40e6-bba4-1c1eae59a6c1",
   "metadata": {},
   "outputs": [],
   "source": []
  },
  {
   "cell_type": "code",
   "execution_count": null,
   "id": "af1e6dd0-9908-4423-9237-061d5d21c1f1",
   "metadata": {},
   "outputs": [],
   "source": [
    "pzero_counts_df = pd.DataFrame(pzero_accu)\n",
    "pzero_counts_df.to_csv(name_out+\"pzero_count.csv\", index=False)"
   ]
  },
  {
   "cell_type": "code",
   "execution_count": null,
   "id": "f8607484-8baa-4105-a6ff-6518155c99e3",
   "metadata": {},
   "outputs": [],
   "source": [
    "pzero_counts_df = pd.DataFrame(pzero_auc)\n",
    "pzero_counts_df.to_csv(name_out+\"pzero_aucs.csv\", index=False)"
   ]
  },
  {
   "cell_type": "code",
   "execution_count": null,
   "id": "2c81ab5e-4fe1-44da-b341-3ea9891ab72b",
   "metadata": {},
   "outputs": [],
   "source": [
    "from sklearn.metrics import auc"
   ]
  },
  {
   "cell_type": "code",
   "execution_count": null,
   "id": "0bff1867-de66-48b3-8cde-54cf4278b001",
   "metadata": {},
   "outputs": [],
   "source": [
    "auc_patzero = {name: auc(np.linspace(0,1,len(x)),x/x.max()) for name,x in pzero_accu.items()}"
   ]
  },
  {
   "cell_type": "code",
   "execution_count": null,
   "id": "0d462a0a-e690-4fed-84ba-cb1dbf46ae2a",
   "metadata": {},
   "outputs": [],
   "source": [
    "auc_patzero"
   ]
  },
  {
   "cell_type": "code",
   "execution_count": null,
   "id": "d6d0a985-1ac9-46b1-9420-df2f53b79c75",
   "metadata": {},
   "outputs": [],
   "source": [
    "{name: \"{:5.4f}\".format(r)\n",
    "              for name, r in auc_patzero.items()}"
   ]
  },
  {
   "cell_type": "code",
   "execution_count": null,
   "id": "20daf8f5-7388-40ea-a49d-7e489bf9a9f2",
   "metadata": {},
   "outputs": [],
   "source": []
  },
  {
   "cell_type": "code",
   "execution_count": null,
   "id": "b39a7342-1a89-4d6e-8ccc-a86484296328",
   "metadata": {},
   "outputs": [],
   "source": [
    "l = margs_all[\"ann_psus07_4lpow\"][29][:,0,1]"
   ]
  },
  {
   "cell_type": "code",
   "execution_count": null,
   "id": "e180f856-62f3-4339-b169-e52dbc314fac",
   "metadata": {},
   "outputs": [],
   "source": [
    "idx = np.argsort(l)[::-1]"
   ]
  },
  {
   "cell_type": "code",
   "execution_count": null,
   "id": "071c1c3e-5aa6-46e7-b1a0-4383baa73178",
   "metadata": {},
   "outputs": [],
   "source": [
    "l.sum()"
   ]
  },
  {
   "cell_type": "code",
   "execution_count": null,
   "id": "0461e036-efe5-4d73-80ec-41c4644e6575",
   "metadata": {},
   "outputs": [],
   "source": [
    "sources[29]"
   ]
  },
  {
   "cell_type": "code",
   "execution_count": null,
   "id": "252a004d-948a-4796-a666-09a4fd811c31",
   "metadata": {},
   "outputs": [],
   "source": [
    "probs_sources = {k: pd.Series(m[29][:,0,1]) for k, m in margs_all.items()}\n",
    "\n",
    "    "
   ]
  },
  {
   "cell_type": "code",
   "execution_count": null,
   "id": "4925e757-f04a-40d0-b9a3-bd851f1a47db",
   "metadata": {},
   "outputs": [],
   "source": [
    "for k, v in probs_sources.items():\n",
    "    print(k,\"\\n\",f\"nsrc: {sum(v)}\", f\"p(87)={v[87]:4.3e}\", \"score\",(np.argsort(v)[::-1]==87).cumsum().sum())"
   ]
  },
  {
   "cell_type": "code",
   "execution_count": null,
   "id": "aa79804b-45ee-42ae-b84f-dab8c4e124f3",
   "metadata": {},
   "outputs": [],
   "source": [
    "Nfin_real[29][1], Nfin[\"ann_psus07_4lpow\"][29][1], Nfin[\"ann_psus06_4lpow\"][29][1]"
   ]
  },
  {
   "cell_type": "code",
   "execution_count": null,
   "id": "5a550eec-cfe8-4a39-bb17-7afa1e120072",
   "metadata": {},
   "outputs": [],
   "source": [
    "for k  in Nfin:\n",
    "    print(k,  Nfin[k][29][1])"
   ]
  },
  {
   "cell_type": "code",
   "execution_count": null,
   "id": "380f79ac-c3c5-4f64-81ba-6f697f3f5602",
   "metadata": {},
   "outputs": [],
   "source": [
    "np.cumsum(np.argsort(l)[::-1] == 87).sum()"
   ]
  },
  {
   "cell_type": "code",
   "execution_count": null,
   "id": "ead658b3-b3f8-40fe-a027-2e3ecb15103c",
   "metadata": {},
   "outputs": [],
   "source": [
    "margs_5lay = load_margs(\"ann/good_new/i_bird_1src/10kst10ks_lastobs_5lpow_psus07_i_bird_n_95_d_10_tlim_12_lam_0.03_mu_0_s_6_pe_1.0_29_margs.npz\")"
   ]
  },
  {
   "cell_type": "code",
   "execution_count": null,
   "id": "f009c0e0-a242-455c-8383-2b9e9331d6eb",
   "metadata": {},
   "outputs": [],
   "source": [
    " (np.argsort(margs_5lay[:,0,1])[::-1] == 87).cumsum().sum()"
   ]
  },
  {
   "cell_type": "code",
   "execution_count": null,
   "id": "b4cb9a4d-0752-4d16-b813-c193024af66d",
   "metadata": {},
   "outputs": [],
   "source": []
  }
 ],
 "metadata": {
  "kernelspec": {
   "display_name": "Python 3.8 (torche)",
   "language": "python",
   "name": "python38torche"
  },
  "language_info": {
   "codemirror_mode": {
    "name": "ipython",
    "version": 3
   },
   "file_extension": ".py",
   "mimetype": "text/x-python",
   "name": "python",
   "nbconvert_exporter": "python",
   "pygments_lexer": "ipython3",
   "version": "3.8.8"
  }
 },
 "nbformat": 4,
 "nbformat_minor": 5
}
