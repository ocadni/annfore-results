{
 "cells": [
  {
   "cell_type": "code",
   "execution_count": 100,
   "metadata": {},
   "outputs": [],
   "source": [
    "import pandas as pd\n",
    "import numpy as np\n",
    "import torch\n",
    "import sys\n",
    "\n",
    "sys.path.insert(0, '../../../src/')\n",
    "from utils.script_utils import create_parser, create_data_\n",
    "sys.path.insert(0, '../../../scripts/')\n",
    "from softmargin_run_new import add_arg_parser"
   ]
  },
  {
   "cell_type": "code",
   "execution_count": 101,
   "metadata": {},
   "outputs": [],
   "source": [
    "seeds = np.arange(1,11).tolist()\n",
    "num_conf = 1\n",
    "\n",
    "parser = create_parser()\n",
    "add_arg_parser(parser)\n",
    "args = parser.parse_args(\"\")\n",
    "args.type_graph=\"TREE\"\n",
    "\n",
    "args.N = 85\n",
    "args.d=5\n",
    "args.h = 3\n",
    "args.t_limit = 15 # Numbers of epoch of our epidemics spreading [0,1,...,T_limit-1]\n",
    "args.lambda_ = 0.35 # probability of infection\n",
    "args.mu = 0 # probability of recovery\n",
    "args.p_edge = 1\n",
    "args.scale=2\n",
    "args.ninf_min=5\n",
    "path_dir = \"./data\"\n",
    "if path_dir == \"not_setted\":\n",
    "    path_dir = type_graph"
   ]
  },
  {
   "cell_type": "code",
   "execution_count": 102,
   "metadata": {},
   "outputs": [
    {
     "name": "stdout",
     "output_type": "stream",
     "text": [
      "\n",
      "SEED: 1\n",
      "nodes:85, edges:84\n",
      "number of contacts: 2520\n",
      "Lim infected: 5, Lim max infected: 86\n",
      "Num sources:  1\n",
      " # conf 1,mean infected: 79.0, mean recover: 0.0, max num infected: 79\n",
      "0 (0.00%) epidemies refused\n",
      "\n",
      "S:6, I:79, R:0\n",
      "TREE_n_85_d_5_tlim_15_lam_0.35_mu_0_s_1_pe_1\n",
      "\n",
      "SEED: 2\n",
      "nodes:85, edges:84\n",
      "number of contacts: 2520\n",
      "Lim infected: 5, Lim max infected: 86\n",
      "Num sources:  1\n",
      " # conf 1,mean infected: 74.0, mean recover: 0.0, max num infected: 74\n",
      "0 (0.00%) epidemies refused\n",
      "\n",
      "S:11, I:74, R:0\n",
      "TREE_n_85_d_5_tlim_15_lam_0.35_mu_0_s_2_pe_1\n",
      "\n",
      "SEED: 3\n",
      "nodes:85, edges:84\n",
      "number of contacts: 2520\n",
      "Lim infected: 5, Lim max infected: 86\n",
      "Num sources:  1\n",
      " # conf 1,mean infected: 73.0, mean recover: 0.0, max num infected: 73\n",
      "0 (0.00%) epidemies refused\n",
      "\n",
      "S:12, I:73, R:0\n",
      "TREE_n_85_d_5_tlim_15_lam_0.35_mu_0_s_3_pe_1\n",
      "\n",
      "SEED: 4\n",
      "nodes:85, edges:84\n",
      "number of contacts: 2520\n",
      "Lim infected: 5, Lim max infected: 86\n",
      "Num sources:  1\n",
      " # conf 1,mean infected: 13.0, mean recover: 0.0, max num infected: 13\n",
      "0 (0.00%) epidemies refused\n",
      "\n",
      "S:72, I:13, R:0\n",
      "TREE_n_85_d_5_tlim_15_lam_0.35_mu_0_s_4_pe_1\n",
      "\n",
      "SEED: 5\n",
      "nodes:85, edges:84\n",
      "number of contacts: 2520\n",
      "Lim infected: 5, Lim max infected: 86\n",
      "Num sources:  1\n",
      " # conf 1,mean infected: 79.0, mean recover: 0.0, max num infected: 79\n",
      "0 (0.00%) epidemies refused\n",
      "\n",
      "S:6, I:79, R:0\n",
      "TREE_n_85_d_5_tlim_15_lam_0.35_mu_0_s_5_pe_1\n",
      "\n",
      "SEED: 6\n",
      "nodes:85, edges:84\n",
      "number of contacts: 2520\n",
      "Lim infected: 5, Lim max infected: 86\n",
      "Num sources:  1\n",
      " # conf 1,mean infected: 50.0, mean recover: 0.0, max num infected: 50\n",
      "0 (0.00%) epidemies refused\n",
      "\n",
      "S:35, I:50, R:0\n",
      "TREE_n_85_d_5_tlim_15_lam_0.35_mu_0_s_6_pe_1\n",
      "\n",
      "SEED: 7\n",
      "nodes:85, edges:84\n",
      "number of contacts: 2520\n",
      "Lim infected: 5, Lim max infected: 86\n",
      "Num sources:  1\n",
      " # conf 1,mean infected: 22.0, mean recover: 0.0, max num infected: 22\n",
      "0 (0.00%) epidemies refused\n",
      "\n",
      "S:63, I:22, R:0\n",
      "TREE_n_85_d_5_tlim_15_lam_0.35_mu_0_s_7_pe_1\n",
      "\n",
      "SEED: 8\n",
      "nodes:85, edges:84\n",
      "number of contacts: 2520\n",
      "Lim infected: 5, Lim max infected: 86\n",
      "Num sources:  1\n",
      " # conf 1,mean infected: 58.0, mean recover: 0.0, max num infected: 58\n",
      "0 (0.00%) epidemies refused\n",
      "\n",
      "S:27, I:58, R:0\n",
      "TREE_n_85_d_5_tlim_15_lam_0.35_mu_0_s_8_pe_1\n",
      "\n",
      "SEED: 9\n",
      "nodes:85, edges:84\n",
      "number of contacts: 2520\n",
      "Lim infected: 5, Lim max infected: 86\n",
      "Num sources:  1\n",
      " # conf 1,mean infected: 56.0, mean recover: 0.0, max num infected: 56\n",
      "0 (0.00%) epidemies refused\n",
      "\n",
      "S:29, I:56, R:0\n",
      "TREE_n_85_d_5_tlim_15_lam_0.35_mu_0_s_9_pe_1\n",
      "\n",
      "SEED: 10\n",
      "nodes:85, edges:84\n",
      "number of contacts: 2520\n",
      "Lim infected: 5, Lim max infected: 86\n",
      "Num sources:  1\n",
      " # conf 1,mean infected: 66.0, mean recover: 0.0, max num infected: 66\n",
      "0 (0.00%) epidemies refused\n",
      "\n",
      "S:19, I:66, R:0\n",
      "TREE_n_85_d_5_tlim_15_lam_0.35_mu_0_s_10_pe_1\n"
     ]
    },
    {
     "name": "stderr",
     "output_type": "stream",
     "text": [
      "../../../src/utils/script_utils.py:145: UserWarning: SAVING FOLDER DOES NOT EXIST\n",
      "  warnings.warn(\"SAVING FOLDER DOES NOT EXIST\")\n"
     ]
    },
    {
     "data": {
      "text/plain": [
       "dict_keys([1, 2, 3, 4, 5, 6, 7, 8, 9, 10])"
      ]
     },
     "execution_count": 102,
     "metadata": {},
     "output_type": "execute_result"
    }
   ],
   "source": [
    "from epigen import epidemy_gen_new\n",
    "\n",
    "list_contacts = {}\n",
    "data_={}\n",
    "INSTANCES = []\n",
    "for i_seed, seed in enumerate(seeds):\n",
    "    print(f\"\\nSEED: {seed}\")\n",
    "\n",
    "    args.seed=seed\n",
    "    args.num_conf=num_conf\n",
    "    #print(args)\n",
    "    temp, name_file, INSTANCE = create_data_(args, give_instance=True)\n",
    "    print(str(INSTANCE))\n",
    "    INSTANCES.append(INSTANCE)\n",
    "    #Ns[cl] = int(max(temp[\"contacts\"][:, 1]) + 1)\n",
    "    list_contacts[seed] = temp[\"contacts\"]\n",
    "    data_[seed] = temp\n",
    "\n",
    "data_.keys()"
   ]
  },
  {
   "cell_type": "markdown",
   "metadata": {},
   "source": [
    "# READ DATA\n",
    "\n",
    "create name_files"
   ]
  },
  {
   "cell_type": "code",
   "execution_count": 107,
   "metadata": {},
   "outputs": [],
   "source": [
    "name_files_nn = {}\n",
    "Ns = [args.N]\n",
    "for i_seed, seed in enumerate(seeds):\n",
    "    #print(f\"\\nSEED: {seed}\")\n",
    "    name_files_nn[seed] = {}\n",
    "    for cl in range(len(Ns)):\n",
    "        name_files_nn[seed][Ns[cl]] = {}\n",
    "        name_file_init = path_dir + \"/\"\n",
    "        #print(step, name_file_init)\n",
    "        name_file_temp = name_file_init + f\"eq_05_TREE_n_{Ns[cl]}_d_{args.d}_tlim_{args.t_limit}_lam_{args.lambda_}_mu_{args.mu}_s_{seed}_pe_{args.p_edge}\"\n",
    "        #name_file_temp += f\"_{seed}\"\n",
    "        name_files_nn[seed][Ns[cl]] = name_file_temp\n",
    "\n",
    "name_files_sib = {}\n",
    "for i_seed, seed in enumerate(seeds):\n",
    "    #print(f\"\\nSEED: {seed}\")\n",
    "    name_files_sib[seed] = {}\n",
    "    for cl in range(len(Ns)):\n",
    "        name_files_sib[seed][Ns[cl]] = {}\n",
    "        name_file_init = path_dir + \"/\"\n",
    "        #print(step, name_file_init)\n",
    "        name_file_temp = name_file_init + f\"N_{Ns[cl]}_d_{args.d}_h_{args.h}_T_{args.t_limit}_lam_{args.lambda_}_mu_{args.mu}_p_edge_{args.p_edge}\"\n",
    "        name_file_temp += f\"_s_{seed}\"\n",
    "        name_files_sib[seed][Ns[cl]] = name_file_temp\n",
    "            #print(name_file_temp)"
   ]
  },
  {
   "cell_type": "code",
   "execution_count": 108,
   "metadata": {},
   "outputs": [
    {
     "data": {
      "text/plain": [
       "{1: {85: './data/eq_05_TREE_n_85_d_5_tlim_15_lam_0.35_mu_0_s_1_pe_1'},\n",
       " 2: {85: './data/eq_05_TREE_n_85_d_5_tlim_15_lam_0.35_mu_0_s_2_pe_1'},\n",
       " 3: {85: './data/eq_05_TREE_n_85_d_5_tlim_15_lam_0.35_mu_0_s_3_pe_1'},\n",
       " 4: {85: './data/eq_05_TREE_n_85_d_5_tlim_15_lam_0.35_mu_0_s_4_pe_1'},\n",
       " 5: {85: './data/eq_05_TREE_n_85_d_5_tlim_15_lam_0.35_mu_0_s_5_pe_1'},\n",
       " 6: {85: './data/eq_05_TREE_n_85_d_5_tlim_15_lam_0.35_mu_0_s_6_pe_1'},\n",
       " 7: {85: './data/eq_05_TREE_n_85_d_5_tlim_15_lam_0.35_mu_0_s_7_pe_1'},\n",
       " 8: {85: './data/eq_05_TREE_n_85_d_5_tlim_15_lam_0.35_mu_0_s_8_pe_1'},\n",
       " 9: {85: './data/eq_05_TREE_n_85_d_5_tlim_15_lam_0.35_mu_0_s_9_pe_1'},\n",
       " 10: {85: './data/eq_05_TREE_n_85_d_5_tlim_15_lam_0.35_mu_0_s_10_pe_1'}}"
      ]
     },
     "execution_count": 108,
     "metadata": {},
     "output_type": "execute_result"
    }
   ],
   "source": [
    "name_files_nn"
   ]
  },
  {
   "cell_type": "markdown",
   "metadata": {},
   "source": [
    "### READ FILES"
   ]
  },
  {
   "cell_type": "code",
   "execution_count": 109,
   "metadata": {},
   "outputs": [
    {
     "name": "stdout",
     "output_type": "stream",
     "text": [
      "SEED: 1\n",
      "SEED: 2\n",
      "SEED: 3\n",
      "SEED: 4\n",
      "SEED: 5\n",
      "SEED: 6\n",
      "SEED: 7\n",
      "SEED: 8\n",
      "SEED: 9\n",
      "SEED: 10\n"
     ]
    }
   ],
   "source": [
    "#create dictorary containing data\n",
    "ress = {}\n",
    "for i_seed, seed in enumerate(seeds):\n",
    "    print(f\"SEED: {seed}\")\n",
    "    ress[seed] = {}\n",
    "    for cl in range(len(Ns)):\n",
    "        N_cl = Ns[cl]\n",
    "        ress[seed][Ns[cl]] = []\n",
    "        for instance_num in range(num_conf):\n",
    "            #print(f\" N: {N_cl} instance {instance_num}\")\n",
    "            ress[seed][Ns[cl]].append({})\n"
   ]
  },
  {
   "cell_type": "code",
   "execution_count": 110,
   "metadata": {},
   "outputs": [
    {
     "name": "stdout",
     "output_type": "stream",
     "text": [
      "SEED: 1\n",
      "Read N: 85 instance 0 - ./data/eq_05_TREE_n_85_d_5_tlim_15_lam_0.35_mu_0_s_1_pe_1_0\n",
      "SEED: 2\n",
      "Read N: 85 instance 0 - ./data/eq_05_TREE_n_85_d_5_tlim_15_lam_0.35_mu_0_s_2_pe_1_0\n",
      "SEED: 3\n",
      "Read N: 85 instance 0 - ./data/eq_05_TREE_n_85_d_5_tlim_15_lam_0.35_mu_0_s_3_pe_1_0\n",
      "SEED: 4\n",
      "Read N: 85 instance 0 - ./data/eq_05_TREE_n_85_d_5_tlim_15_lam_0.35_mu_0_s_4_pe_1_0\n",
      "SEED: 5\n",
      "Read N: 85 instance 0 - ./data/eq_05_TREE_n_85_d_5_tlim_15_lam_0.35_mu_0_s_5_pe_1_0\n",
      "SEED: 6\n",
      "Read N: 85 instance 0 - ./data/eq_05_TREE_n_85_d_5_tlim_15_lam_0.35_mu_0_s_6_pe_1_0\n",
      "SEED: 7\n",
      "Read N: 85 instance 0 - ./data/eq_05_TREE_n_85_d_5_tlim_15_lam_0.35_mu_0_s_7_pe_1_0\n",
      "SEED: 8\n",
      "Read N: 85 instance 0 - ./data/eq_05_TREE_n_85_d_5_tlim_15_lam_0.35_mu_0_s_8_pe_1_0\n",
      "SEED: 9\n",
      "Read N: 85 instance 0 - ./data/eq_05_TREE_n_85_d_5_tlim_15_lam_0.35_mu_0_s_9_pe_1_0\n",
      "SEED: 10\n",
      "Read N: 85 instance 0 - ./data/eq_05_TREE_n_85_d_5_tlim_15_lam_0.35_mu_0_s_10_pe_1_0\n"
     ]
    }
   ],
   "source": [
    "for i_seed, seed in enumerate(seeds):\n",
    "    print(f\"SEED: {seed}\")\n",
    "    for cl in range(len(Ns)):\n",
    "        N_cl = Ns[cl]\n",
    "        for instance_num in range(num_conf):\n",
    "            ress[seed][N_cl][instance_num][\"regressive\"] = {}\n",
    "            name_temp = name_files_nn[seed][N_cl] +\"_\" + str(instance_num)\n",
    "            print(f\"Read N: {N_cl} instance {instance_num} - {name_temp}\")\n",
    "            try:\n",
    "                ress[seed][N_cl][instance_num][\"regressive\"] = {}\n",
    "                ress[seed][N_cl][instance_num][\"regressive\"][\"marginals\"] = np.load(name_temp + \"_margs.npz\",\n",
    "                                                                        \"r+\",\n",
    "                                                                       allow_pickle=True,\n",
    "                                                                       fix_imports=True)[\"marginals\"]\n",
    "            except:\n",
    "                print(f\"  instance_num: {instance_num} NOT FOUND\")\n",
    "            try:\n",
    "                ress[seed][N_cl][instance_num][\"regressive\"][\"run\"] = pd.read_csv(name_temp + \"_trace.gz\")\n",
    "                #print(f\"  instance_num: {instance_num}\")\n",
    "            except:\n",
    "                print(f\"gz no found {name_temp + '.gz'}\")\n",
    "                pass\n",
    "            try:\n",
    "                '''ress[seed][N_cl][instance_num][\"regressive\"][\"net\"] = torch.load(name_temp + \".pt\",\n",
    "                                                                      map_location=device)\n",
    "                #ress[N_cl][instance_num][\"regressive\"][\"net\"].to(device)\n",
    "                ress[seed][N_cl][instance_num][\"regressive\"][\"net\"].device = device\n",
    "                for ll in ress[seed][N_cl][instance_num][\"regressive\"][\"net\"].sublayers:\n",
    "                    for l in ll:\n",
    "                        l.device=device\n",
    "                print(f\"  NN net: {instance_num}\")'''\n",
    "                pass\n",
    "            except:\n",
    "                print(f\"  NN net: {instance_num} NON FOUND\")"
   ]
  },
  {
   "cell_type": "code",
   "execution_count": 111,
   "metadata": {},
   "outputs": [
    {
     "name": "stdout",
     "output_type": "stream",
     "text": [
      "SEED: 1\n",
      "Read N: 85 instance 0\n",
      "SEED: 2\n",
      "Read N: 85 instance 0\n",
      "SEED: 3\n",
      "Read N: 85 instance 0\n",
      "SEED: 4\n",
      "Read N: 85 instance 0\n",
      "SEED: 5\n",
      "Read N: 85 instance 0\n",
      "SEED: 6\n",
      "Read N: 85 instance 0\n",
      "SEED: 7\n",
      "Read N: 85 instance 0\n",
      "SEED: 8\n",
      "Read N: 85 instance 0\n",
      "SEED: 9\n",
      "Read N: 85 instance 0\n",
      "SEED: 10\n",
      "Read N: 85 instance 0\n"
     ]
    }
   ],
   "source": [
    "for i_seed, seed in enumerate(seeds):\n",
    "    print(f\"SEED: {seed}\")\n",
    "    for cl in range(len(Ns)):\n",
    "        N_cl = Ns[cl]\n",
    "        for instance_num in range(num_conf):\n",
    "            print(f\"Read N: {N_cl} instance {instance_num}\")\n",
    "            name_temp = name_files_sib[seed][N_cl] +\"_\" + str(instance_num)\n",
    "            name_temp = name_temp.replace(\"mu_0\", \"mu_0.0\")\n",
    "            ress[seed][N_cl][instance_num][\"sib\"] = {}\n",
    "            try:\n",
    "                ress[seed][N_cl][instance_num][\"sib\"][\"marginals\"] = np.load(name_temp + \"_sib_margs.npz\",\n",
    "                                                                        \"r+\",\n",
    "                                                                       allow_pickle=True,\n",
    "                                                                       fix_imports=True)[\"marginals\"]\n",
    "                ress[seed][N_cl][instance_num][\"sib\"][\"params\"] = pd.read_csv(name_temp + \"_params.gz\")\n",
    "                #print(\"load SIB\")\n",
    "            except:\n",
    "                print(f\"SIB not found {name_temp}\")\n"
   ]
  },
  {
   "cell_type": "code",
   "execution_count": 112,
   "metadata": {},
   "outputs": [
    {
     "data": {
      "text/html": [
       "<div>\n",
       "<style scoped>\n",
       "    .dataframe tbody tr th:only-of-type {\n",
       "        vertical-align: middle;\n",
       "    }\n",
       "\n",
       "    .dataframe tbody tr th {\n",
       "        vertical-align: top;\n",
       "    }\n",
       "\n",
       "    .dataframe thead th {\n",
       "        text-align: right;\n",
       "    }\n",
       "</style>\n",
       "<table border=\"1\" class=\"dataframe\">\n",
       "  <thead>\n",
       "    <tr style=\"text-align: right;\">\n",
       "      <th></th>\n",
       "      <th>Unnamed: 0</th>\n",
       "      <th>step</th>\n",
       "      <th>beta</th>\n",
       "      <th>energy</th>\n",
       "      <th>std_energy</th>\n",
       "      <th>loss</th>\n",
       "      <th>loss_std</th>\n",
       "      <th>S</th>\n",
       "      <th>I</th>\n",
       "      <th>R</th>\n",
       "      <th>...</th>\n",
       "      <th>num_zero_pw</th>\n",
       "      <th>N</th>\n",
       "      <th>T</th>\n",
       "      <th>p_source</th>\n",
       "      <th>p_sus</th>\n",
       "      <th>p_obs</th>\n",
       "      <th>p_w</th>\n",
       "      <th>mu</th>\n",
       "      <th>lamb</th>\n",
       "      <th>max_Z</th>\n",
       "    </tr>\n",
       "  </thead>\n",
       "  <tbody>\n",
       "    <tr>\n",
       "      <th>0</th>\n",
       "      <td>0</td>\n",
       "      <td>0.0</td>\n",
       "      <td>0.0000</td>\n",
       "      <td>4908.000488</td>\n",
       "      <td>397.298218</td>\n",
       "      <td>4696.254883</td>\n",
       "      <td>397.345154</td>\n",
       "      <td>80.184601</td>\n",
       "      <td>4.815400</td>\n",
       "      <td>0.0</td>\n",
       "      <td>...</td>\n",
       "      <td>309464.0</td>\n",
       "      <td>85.0</td>\n",
       "      <td>16.0</td>\n",
       "      <td>0.0001</td>\n",
       "      <td>-1.0</td>\n",
       "      <td>3.059023e-11</td>\n",
       "      <td>3.059023e-11</td>\n",
       "      <td>1.000000e-06</td>\n",
       "      <td>0.500000</td>\n",
       "      <td>-100000000.0</td>\n",
       "    </tr>\n",
       "    <tr>\n",
       "      <th>1</th>\n",
       "      <td>1</td>\n",
       "      <td>1.0</td>\n",
       "      <td>0.0001</td>\n",
       "      <td>1218.305542</td>\n",
       "      <td>114.965477</td>\n",
       "      <td>1006.007080</td>\n",
       "      <td>115.120926</td>\n",
       "      <td>80.160004</td>\n",
       "      <td>4.840000</td>\n",
       "      <td>0.0</td>\n",
       "      <td>...</td>\n",
       "      <td>309365.0</td>\n",
       "      <td>85.0</td>\n",
       "      <td>16.0</td>\n",
       "      <td>0.0001</td>\n",
       "      <td>-1.0</td>\n",
       "      <td>3.059023e-11</td>\n",
       "      <td>3.059023e-11</td>\n",
       "      <td>1.000000e-06</td>\n",
       "      <td>0.500000</td>\n",
       "      <td>-100000000.0</td>\n",
       "    </tr>\n",
       "    <tr>\n",
       "      <th>2</th>\n",
       "      <td>2</td>\n",
       "      <td>2.0</td>\n",
       "      <td>0.0002</td>\n",
       "      <td>1215.793945</td>\n",
       "      <td>115.436134</td>\n",
       "      <td>1003.040100</td>\n",
       "      <td>115.555229</td>\n",
       "      <td>80.171898</td>\n",
       "      <td>4.828100</td>\n",
       "      <td>0.0</td>\n",
       "      <td>...</td>\n",
       "      <td>308393.0</td>\n",
       "      <td>85.0</td>\n",
       "      <td>16.0</td>\n",
       "      <td>0.0001</td>\n",
       "      <td>-1.0</td>\n",
       "      <td>3.059023e-11</td>\n",
       "      <td>3.059023e-11</td>\n",
       "      <td>1.000000e-06</td>\n",
       "      <td>0.500000</td>\n",
       "      <td>-100000000.0</td>\n",
       "    </tr>\n",
       "    <tr>\n",
       "      <th>3</th>\n",
       "      <td>3</td>\n",
       "      <td>3.0</td>\n",
       "      <td>0.0003</td>\n",
       "      <td>1215.532715</td>\n",
       "      <td>115.776443</td>\n",
       "      <td>1002.259155</td>\n",
       "      <td>115.876900</td>\n",
       "      <td>80.159698</td>\n",
       "      <td>4.840300</td>\n",
       "      <td>0.0</td>\n",
       "      <td>...</td>\n",
       "      <td>308090.0</td>\n",
       "      <td>85.0</td>\n",
       "      <td>16.0</td>\n",
       "      <td>0.0001</td>\n",
       "      <td>-1.0</td>\n",
       "      <td>3.059023e-11</td>\n",
       "      <td>3.059023e-11</td>\n",
       "      <td>1.000000e-06</td>\n",
       "      <td>0.500000</td>\n",
       "      <td>-100000000.0</td>\n",
       "    </tr>\n",
       "    <tr>\n",
       "      <th>4</th>\n",
       "      <td>4</td>\n",
       "      <td>4.0</td>\n",
       "      <td>0.0004</td>\n",
       "      <td>1215.185791</td>\n",
       "      <td>115.685913</td>\n",
       "      <td>1001.481384</td>\n",
       "      <td>115.808739</td>\n",
       "      <td>80.164993</td>\n",
       "      <td>4.835000</td>\n",
       "      <td>0.0</td>\n",
       "      <td>...</td>\n",
       "      <td>307955.0</td>\n",
       "      <td>85.0</td>\n",
       "      <td>16.0</td>\n",
       "      <td>0.0001</td>\n",
       "      <td>-1.0</td>\n",
       "      <td>3.059023e-11</td>\n",
       "      <td>3.059023e-11</td>\n",
       "      <td>1.000000e-06</td>\n",
       "      <td>0.500000</td>\n",
       "      <td>-100000000.0</td>\n",
       "    </tr>\n",
       "    <tr>\n",
       "      <th>...</th>\n",
       "      <td>...</td>\n",
       "      <td>...</td>\n",
       "      <td>...</td>\n",
       "      <td>...</td>\n",
       "      <td>...</td>\n",
       "      <td>...</td>\n",
       "      <td>...</td>\n",
       "      <td>...</td>\n",
       "      <td>...</td>\n",
       "      <td>...</td>\n",
       "      <td>...</td>\n",
       "      <td>...</td>\n",
       "      <td>...</td>\n",
       "      <td>...</td>\n",
       "      <td>...</td>\n",
       "      <td>...</td>\n",
       "      <td>...</td>\n",
       "      <td>...</td>\n",
       "      <td>...</td>\n",
       "      <td>...</td>\n",
       "      <td>...</td>\n",
       "    </tr>\n",
       "    <tr>\n",
       "      <th>10194</th>\n",
       "      <td>10194</td>\n",
       "      <td>10194.0</td>\n",
       "      <td>1.0000</td>\n",
       "      <td>285.245453</td>\n",
       "      <td>7.433012</td>\n",
       "      <td>169.427994</td>\n",
       "      <td>0.176710</td>\n",
       "      <td>83.996323</td>\n",
       "      <td>1.003684</td>\n",
       "      <td>0.0</td>\n",
       "      <td>...</td>\n",
       "      <td>1.0</td>\n",
       "      <td>85.0</td>\n",
       "      <td>16.0</td>\n",
       "      <td>0.0001</td>\n",
       "      <td>-1.0</td>\n",
       "      <td>3.059023e-11</td>\n",
       "      <td>3.059023e-11</td>\n",
       "      <td>1.000000e-06</td>\n",
       "      <td>0.434606</td>\n",
       "      <td>-100000000.0</td>\n",
       "    </tr>\n",
       "    <tr>\n",
       "      <th>10195</th>\n",
       "      <td>10195</td>\n",
       "      <td>10195.0</td>\n",
       "      <td>1.0000</td>\n",
       "      <td>285.250336</td>\n",
       "      <td>7.326515</td>\n",
       "      <td>169.428131</td>\n",
       "      <td>0.223249</td>\n",
       "      <td>83.996323</td>\n",
       "      <td>1.003677</td>\n",
       "      <td>0.0</td>\n",
       "      <td>...</td>\n",
       "      <td>3.0</td>\n",
       "      <td>85.0</td>\n",
       "      <td>16.0</td>\n",
       "      <td>0.0001</td>\n",
       "      <td>-1.0</td>\n",
       "      <td>3.059023e-11</td>\n",
       "      <td>3.059023e-11</td>\n",
       "      <td>1.000000e-06</td>\n",
       "      <td>0.434606</td>\n",
       "      <td>-100000000.0</td>\n",
       "    </tr>\n",
       "    <tr>\n",
       "      <th>10196</th>\n",
       "      <td>10196</td>\n",
       "      <td>10196.0</td>\n",
       "      <td>1.0000</td>\n",
       "      <td>285.311279</td>\n",
       "      <td>7.391152</td>\n",
       "      <td>169.429901</td>\n",
       "      <td>0.202165</td>\n",
       "      <td>83.996330</td>\n",
       "      <td>1.003669</td>\n",
       "      <td>0.0</td>\n",
       "      <td>...</td>\n",
       "      <td>2.0</td>\n",
       "      <td>85.0</td>\n",
       "      <td>16.0</td>\n",
       "      <td>0.0001</td>\n",
       "      <td>-1.0</td>\n",
       "      <td>3.059023e-11</td>\n",
       "      <td>3.059023e-11</td>\n",
       "      <td>1.000000e-06</td>\n",
       "      <td>0.434606</td>\n",
       "      <td>-100000000.0</td>\n",
       "    </tr>\n",
       "    <tr>\n",
       "      <th>10197</th>\n",
       "      <td>10197</td>\n",
       "      <td>10197.0</td>\n",
       "      <td>1.0000</td>\n",
       "      <td>285.287628</td>\n",
       "      <td>7.429354</td>\n",
       "      <td>169.424149</td>\n",
       "      <td>0.135548</td>\n",
       "      <td>83.996323</td>\n",
       "      <td>1.003675</td>\n",
       "      <td>0.0</td>\n",
       "      <td>...</td>\n",
       "      <td>0.0</td>\n",
       "      <td>85.0</td>\n",
       "      <td>16.0</td>\n",
       "      <td>0.0001</td>\n",
       "      <td>-1.0</td>\n",
       "      <td>3.059023e-11</td>\n",
       "      <td>3.059023e-11</td>\n",
       "      <td>1.000000e-06</td>\n",
       "      <td>0.434606</td>\n",
       "      <td>-100000000.0</td>\n",
       "    </tr>\n",
       "    <tr>\n",
       "      <th>10198</th>\n",
       "      <td>10198</td>\n",
       "      <td>10198.0</td>\n",
       "      <td>1.0000</td>\n",
       "      <td>285.288208</td>\n",
       "      <td>7.407376</td>\n",
       "      <td>169.427475</td>\n",
       "      <td>0.210350</td>\n",
       "      <td>83.996330</td>\n",
       "      <td>1.003672</td>\n",
       "      <td>0.0</td>\n",
       "      <td>...</td>\n",
       "      <td>2.0</td>\n",
       "      <td>85.0</td>\n",
       "      <td>16.0</td>\n",
       "      <td>0.0001</td>\n",
       "      <td>-1.0</td>\n",
       "      <td>3.059023e-11</td>\n",
       "      <td>3.059023e-11</td>\n",
       "      <td>1.000000e-06</td>\n",
       "      <td>0.434606</td>\n",
       "      <td>-100000000.0</td>\n",
       "    </tr>\n",
       "  </tbody>\n",
       "</table>\n",
       "<p>10199 rows × 23 columns</p>\n",
       "</div>"
      ],
      "text/plain": [
       "       Unnamed: 0     step    beta       energy  std_energy         loss  \\\n",
       "0               0      0.0  0.0000  4908.000488  397.298218  4696.254883   \n",
       "1               1      1.0  0.0001  1218.305542  114.965477  1006.007080   \n",
       "2               2      2.0  0.0002  1215.793945  115.436134  1003.040100   \n",
       "3               3      3.0  0.0003  1215.532715  115.776443  1002.259155   \n",
       "4               4      4.0  0.0004  1215.185791  115.685913  1001.481384   \n",
       "...           ...      ...     ...          ...         ...          ...   \n",
       "10194       10194  10194.0  1.0000   285.245453    7.433012   169.427994   \n",
       "10195       10195  10195.0  1.0000   285.250336    7.326515   169.428131   \n",
       "10196       10196  10196.0  1.0000   285.311279    7.391152   169.429901   \n",
       "10197       10197  10197.0  1.0000   285.287628    7.429354   169.424149   \n",
       "10198       10198  10198.0  1.0000   285.288208    7.407376   169.427475   \n",
       "\n",
       "         loss_std          S         I    R  ...  num_zero_pw     N     T  \\\n",
       "0      397.345154  80.184601  4.815400  0.0  ...     309464.0  85.0  16.0   \n",
       "1      115.120926  80.160004  4.840000  0.0  ...     309365.0  85.0  16.0   \n",
       "2      115.555229  80.171898  4.828100  0.0  ...     308393.0  85.0  16.0   \n",
       "3      115.876900  80.159698  4.840300  0.0  ...     308090.0  85.0  16.0   \n",
       "4      115.808739  80.164993  4.835000  0.0  ...     307955.0  85.0  16.0   \n",
       "...           ...        ...       ...  ...  ...          ...   ...   ...   \n",
       "10194    0.176710  83.996323  1.003684  0.0  ...          1.0  85.0  16.0   \n",
       "10195    0.223249  83.996323  1.003677  0.0  ...          3.0  85.0  16.0   \n",
       "10196    0.202165  83.996330  1.003669  0.0  ...          2.0  85.0  16.0   \n",
       "10197    0.135548  83.996323  1.003675  0.0  ...          0.0  85.0  16.0   \n",
       "10198    0.210350  83.996330  1.003672  0.0  ...          2.0  85.0  16.0   \n",
       "\n",
       "       p_source  p_sus         p_obs           p_w            mu      lamb  \\\n",
       "0        0.0001   -1.0  3.059023e-11  3.059023e-11  1.000000e-06  0.500000   \n",
       "1        0.0001   -1.0  3.059023e-11  3.059023e-11  1.000000e-06  0.500000   \n",
       "2        0.0001   -1.0  3.059023e-11  3.059023e-11  1.000000e-06  0.500000   \n",
       "3        0.0001   -1.0  3.059023e-11  3.059023e-11  1.000000e-06  0.500000   \n",
       "4        0.0001   -1.0  3.059023e-11  3.059023e-11  1.000000e-06  0.500000   \n",
       "...         ...    ...           ...           ...           ...       ...   \n",
       "10194    0.0001   -1.0  3.059023e-11  3.059023e-11  1.000000e-06  0.434606   \n",
       "10195    0.0001   -1.0  3.059023e-11  3.059023e-11  1.000000e-06  0.434606   \n",
       "10196    0.0001   -1.0  3.059023e-11  3.059023e-11  1.000000e-06  0.434606   \n",
       "10197    0.0001   -1.0  3.059023e-11  3.059023e-11  1.000000e-06  0.434606   \n",
       "10198    0.0001   -1.0  3.059023e-11  3.059023e-11  1.000000e-06  0.434606   \n",
       "\n",
       "             max_Z  \n",
       "0     -100000000.0  \n",
       "1     -100000000.0  \n",
       "2     -100000000.0  \n",
       "3     -100000000.0  \n",
       "4     -100000000.0  \n",
       "...            ...  \n",
       "10194 -100000000.0  \n",
       "10195 -100000000.0  \n",
       "10196 -100000000.0  \n",
       "10197 -100000000.0  \n",
       "10198 -100000000.0  \n",
       "\n",
       "[10199 rows x 23 columns]"
      ]
     },
     "execution_count": 112,
     "metadata": {},
     "output_type": "execute_result"
    }
   ],
   "source": [
    "ress[1][85][0][\"regressive\"][\"run\"]"
   ]
  },
  {
   "cell_type": "code",
   "execution_count": 113,
   "metadata": {},
   "outputs": [
    {
     "data": {
      "text/plain": [
       "(9300.0, 9400.0)"
      ]
     },
     "execution_count": 113,
     "metadata": {},
     "output_type": "execute_result"
    },
    {
     "data": {
      "image/png": "[encoded data removed]",
      "text/plain": [
       "<Figure size 432x288 with 1 Axes>"
      ]
     },
     "metadata": {
      "needs_background": "light"
     },
     "output_type": "display_data"
    }
   ],
   "source": [
    "ax = ress[1][85][0][\"regressive\"][\"run\"][\"lamb\"].plot()\n",
    "ax.set_ylim(0.35, 0.37)\n",
    "ax.set_xlim(9300, 9400)"
   ]
  },
  {
   "cell_type": "markdown",
   "metadata": {},
   "source": [
    "# results"
   ]
  },
  {
   "cell_type": "code",
   "execution_count": 114,
   "metadata": {},
   "outputs": [
    {
     "data": {
      "text/plain": [
       "dict_keys([1, 2, 3, 4, 5, 6, 7, 8, 9, 10])"
      ]
     },
     "execution_count": 114,
     "metadata": {},
     "output_type": "execute_result"
    }
   ],
   "source": [
    "from imp import reload\n",
    "data_.keys()"
   ]
  },
  {
   "cell_type": "code",
   "execution_count": 115,
   "metadata": {},
   "outputs": [],
   "source": [
    "temp_params = {\"lambda_sib\":[], \"lambda_nn\":[], \"mu_sib\":[], \"mu_nn\":[]}\n",
    "mu=[]\n",
    "for cl in range(len(Ns)):\n",
    "    for i_seed, seed in enumerate(seeds):\n",
    "        for instance_num in range(num_conf):\n",
    "            temp_params[\"lambda_sib\"].append(ress[seed][Ns[cl]][instance_num][\"sib\"][\"params\"][\"lambda\"].iloc[-1])\n",
    "            temp_params[\"lambda_nn\"].append(ress[seed][N_cl][instance_num][\"regressive\"][\"run\"][\"lamb\"].iloc[-1])\n",
    "            mu_sib = 1. - np.exp(-np.array(ress[seed][Ns[cl]][instance_num][\"sib\"][\"params\"][\"mu\"].iloc[-1]))\n",
    "            temp_params[\"mu_sib\"].append(mu_sib)\n",
    "            temp_params[\"mu_nn\"].append(ress[seed][N_cl][instance_num][\"regressive\"][\"run\"][\"mu\"].iloc[-1])\n",
    "        #lambdas=pd.DataFrame(temp_params)"
   ]
  },
  {
   "cell_type": "code",
   "execution_count": 116,
   "metadata": {},
   "outputs": [
    {
     "data": {
      "text/plain": [
       "{'lambda_sib': [0.4725652796087127,\n",
       "  0.4797280540180339,\n",
       "  0.3795833328495123,\n",
       "  0.1467194874745123,\n",
       "  0.4152490529702429,\n",
       "  0.3308904879947127,\n",
       "  0.252392352310865,\n",
       "  0.3161767774795502,\n",
       "  0.3590596962993982,\n",
       "  0.2935047656095359],\n",
       " 'lambda_nn': [0.4346058666706085,\n",
       "  0.4448255896568298,\n",
       "  0.3299255669116974,\n",
       "  0.1601963639259338,\n",
       "  0.3798994123935699,\n",
       "  0.3265756070613861,\n",
       "  0.2566972970962524,\n",
       "  0.3151518404483795,\n",
       "  0.333800733089447,\n",
       "  0.2858288586139679],\n",
       " 'mu_sib': [9.999994999843054e-07,\n",
       "  9.999994999843054e-07,\n",
       "  9.999994999843054e-07,\n",
       "  9.999994999843054e-07,\n",
       "  9.999994999843054e-07,\n",
       "  9.999994999843054e-07,\n",
       "  9.999994999843054e-07,\n",
       "  9.999994999843054e-07,\n",
       "  9.999994999843054e-07,\n",
       "  9.999994999843054e-07],\n",
       " 'mu_nn': [9.999999974752427e-07,\n",
       "  9.999999974752427e-07,\n",
       "  9.999999974752427e-07,\n",
       "  9.999999974752427e-07,\n",
       "  9.999999974752427e-07,\n",
       "  9.999999974752427e-07,\n",
       "  9.999999974752427e-07,\n",
       "  9.999999974752427e-07,\n",
       "  9.999999974752427e-07,\n",
       "  9.999999974752427e-07]}"
      ]
     },
     "execution_count": 116,
     "metadata": {},
     "output_type": "execute_result"
    }
   ],
   "source": [
    "temp_params"
   ]
  },
  {
   "cell_type": "code",
   "execution_count": 117,
   "metadata": {},
   "outputs": [
    {
     "data": {
      "text/plain": [
       "{'lambda_sib': [0.4725652796087127,\n",
       "  0.4797280540180339,\n",
       "  0.3795833328495123,\n",
       "  0.1467194874745123,\n",
       "  0.4152490529702429,\n",
       "  0.3308904879947127,\n",
       "  0.252392352310865,\n",
       "  0.3161767774795502,\n",
       "  0.3590596962993982,\n",
       "  0.2935047656095359],\n",
       " 'lambda_nn': [0.4346058666706085,\n",
       "  0.4448255896568298,\n",
       "  0.3299255669116974,\n",
       "  0.1601963639259338,\n",
       "  0.3798994123935699,\n",
       "  0.3265756070613861,\n",
       "  0.2566972970962524,\n",
       "  0.3151518404483795,\n",
       "  0.333800733089447,\n",
       "  0.2858288586139679],\n",
       " 'mu_sib': [9.999994999843054e-07,\n",
       "  9.999994999843054e-07,\n",
       "  9.999994999843054e-07,\n",
       "  9.999994999843054e-07,\n",
       "  9.999994999843054e-07,\n",
       "  9.999994999843054e-07,\n",
       "  9.999994999843054e-07,\n",
       "  9.999994999843054e-07,\n",
       "  9.999994999843054e-07,\n",
       "  9.999994999843054e-07],\n",
       " 'mu_nn': [9.999999974752427e-07,\n",
       "  9.999999974752427e-07,\n",
       "  9.999999974752427e-07,\n",
       "  9.999999974752427e-07,\n",
       "  9.999999974752427e-07,\n",
       "  9.999999974752427e-07,\n",
       "  9.999999974752427e-07,\n",
       "  9.999999974752427e-07,\n",
       "  9.999999974752427e-07,\n",
       "  9.999999974752427e-07]}"
      ]
     },
     "execution_count": 117,
     "metadata": {},
     "output_type": "execute_result"
    }
   ],
   "source": [
    "temp_params"
   ]
  },
  {
   "cell_type": "code",
   "execution_count": 118,
   "metadata": {},
   "outputs": [
    {
     "data": {
      "text/plain": [
       "<matplotlib.legend.Legend at 0x7f6f22c2d460>"
      ]
     },
     "execution_count": 118,
     "metadata": {},
     "output_type": "execute_result"
    },
    {
     "data": {
      "image/png": "[encoded data removed]",
      "text/plain": [
       "<Figure size 432x288 with 1 Axes>"
      ]
     },
     "metadata": {
      "needs_background": "light"
     },
     "output_type": "display_data"
    }
   ],
   "source": [
    "mean_sib = []\n",
    "mean_nn = []\n",
    "for i in range(1,21):\n",
    "    mean_sib.append(np.array(temp_params[\"lambda_sib\"][0:i]).mean())\n",
    "    mean_nn.append(np.array(temp_params[\"lambda_nn\"][0:i]).mean())\n",
    "import matplotlib.pyplot as plt\n",
    "plt.plot(100*abs(np.array(mean_sib)-args.lambda_)/args.lambda_, label=\"sib\")\n",
    "plt.plot(100*abs(np.array(mean_nn)-args.lambda_)/args.lambda_, label=\"nn\")\n",
    "plt.legend()"
   ]
  },
  {
   "cell_type": "code",
   "execution_count": 119,
   "metadata": {},
   "outputs": [
    {
     "data": {
      "text/plain": [
       "<matplotlib.legend.Legend at 0x7f6f22bef940>"
      ]
     },
     "execution_count": 119,
     "metadata": {},
     "output_type": "execute_result"
    },
    {
     "data": {
      "image/png": "[encoded data removed]",
      "text/plain": [
       "<Figure size 432x288 with 1 Axes>"
      ]
     },
     "metadata": {
      "needs_background": "light"
     },
     "output_type": "display_data"
    }
   ],
   "source": [
    "mean_sib = []\n",
    "mean_nn = []\n",
    "for i in range(1,21):\n",
    "    mean_sib.append(np.array(temp_params[\"lambda_sib\"][0:i]).std()/np.sqrt(i))\n",
    "    mean_nn.append(np.array(temp_params[\"lambda_nn\"][0:i]).std()/np.sqrt(i))\n",
    "import matplotlib.pyplot as plt\n",
    "plt.plot(abs(np.array(mean_sib)), label=\"sib\")\n",
    "plt.plot(abs(np.array(mean_nn)), label=\"nn\")\n",
    "plt.legend()"
   ]
  },
  {
   "cell_type": "code",
   "execution_count": 120,
   "metadata": {},
   "outputs": [
    {
     "data": {
      "text/plain": [
       "0.32675071358680724"
      ]
     },
     "execution_count": 120,
     "metadata": {},
     "output_type": "execute_result"
    }
   ],
   "source": [
    "np.array(temp_params[\"lambda_nn\"][0:21]).mean()"
   ]
  },
  {
   "cell_type": "code",
   "execution_count": 121,
   "metadata": {},
   "outputs": [
    {
     "data": {
      "text/plain": [
       "<BarContainer object of 2 artists>"
      ]
     },
     "execution_count": 121,
     "metadata": {},
     "output_type": "execute_result"
    },
    {
     "data": {
      "image/png": "[encoded data removed]",
      "text/plain": [
       "<Figure size 720x360 with 4 Axes>"
      ]
     },
     "metadata": {
      "needs_background": "light"
     },
     "output_type": "display_data"
    }
   ],
   "source": [
    "def err_param_rel(temp_params, key='lambda_sib', val_=args.lambda_):\n",
    "    a = (100.*(np.abs(np.array(temp_params[key]) - val_))/args.lambda_).mean()\n",
    "    return a\n",
    "def err_param(temp_params, key='lambda_sib', val_=args.lambda_):\n",
    "    a = (np.abs(np.array(temp_params[key]) - val_)).mean()\n",
    "    return a\n",
    "\n",
    "import matplotlib.pyplot as plt\n",
    "fig, axs = plt.subplots(2,2, figsize=(10,5))\n",
    "x=np.arange(len(temp_params['lambda_sib']))\n",
    "axs[0][0].bar(x, np.array(temp_params['lambda_sib']) - args.lambda_, width=0.4)\n",
    "axs[0][0].bar(x+0.5, np.array(temp_params['lambda_nn']) - args.lambda_, width=0.4)\n",
    "axs[1][0].bar(x, np.array(temp_params['mu_sib']) - args.mu, width=0.4)\n",
    "axs[1][0].bar(x+0.5, np.array(temp_params['mu_nn']) - args.mu, width=0.4)\n",
    "err_sib_lam = err_param(temp_params, key='lambda_sib')\n",
    "err_nn_lam = err_param(temp_params, key='lambda_nn')\n",
    "err_sib_mu = err_param(temp_params, key='mu_sib', val_=args.mu)\n",
    "err_nn_mu = err_param(temp_params, key='mu_nn', val_=args.mu)\n",
    "\n",
    "axs[0][1].bar([0,1], [err_sib_lam, err_nn_lam], width=0.8)\n",
    "axs[1][1].bar([0,1], [err_sib_mu, err_nn_mu], width=0.8)"
   ]
  },
  {
   "cell_type": "code",
   "execution_count": 122,
   "metadata": {},
   "outputs": [
    {
     "name": "stderr",
     "output_type": "stream",
     "text": [
      "No handles with labels found to put in legend.\n"
     ]
    },
    {
     "name": "stdout",
     "output_type": "stream",
     "text": [
      "[58.08014644]\n",
      "[54.22961031]\n",
      "[0.00028571]\n",
      "[0.00028571]\n"
     ]
    },
    {
     "data": {
      "text/plain": [
       "<BarContainer object of 2 artists>"
      ]
     },
     "execution_count": 122,
     "metadata": {},
     "output_type": "execute_result"
    },
    {
     "data": {
      "image/png": "[encoded data removed]",
      "text/plain": [
       "<Figure size 720x360 with 4 Axes>"
      ]
     },
     "metadata": {
      "needs_background": "light"
     },
     "output_type": "display_data"
    }
   ],
   "source": [
    "def err_param_rel(temp_params, key='lambda_sib', val_=args.lambda_, outliers=0.1):\n",
    "    err = 100.*(np.abs(np.array(temp_params[key]) - val_))/args.lambda_\n",
    "    num_outliers=int(len(err)*outliers)\n",
    "    err[::-1].sort()\n",
    "    a = err[num_outliers:].mean()\n",
    "    a_err = err[num_outliers:].std()\n",
    "    print(err[:num_outliers])\n",
    "    return a, a_err\n",
    "def err_param(temp_params, key='lambda_sib', val_=args.lambda_, outliers=0.1):\n",
    "    err = np.abs(np.array(temp_params[key]) - val_)\n",
    "    num_outliers=int(len(err)*outliers)\n",
    "    err[::-1].sort()\n",
    "    a = err[num_outliers:].mean()\n",
    "    a_err = err[num_outliers:].std()\n",
    "    print(err[:num_outliers])\n",
    "    return a, a_err\n",
    "N=args.N\n",
    "import matplotlib.pyplot as plt\n",
    "fig, axs = plt.subplots(2,2, figsize=(10,5))\n",
    "x=np.arange(len(temp_params['lambda_sib']))\n",
    "axs[0][0].bar(x, np.array(temp_params['lambda_sib']) - args.lambda_, width=0.4)\n",
    "axs[0][0].bar(x+0.5, np.array(temp_params['lambda_nn']) - args.lambda_, width=0.4)\n",
    "axs[1][0].bar(x, np.array(temp_params['mu_sib']) - args.mu, width=0.4)\n",
    "axs[1][0].bar(x+0.5, np.array(temp_params['mu_nn']) - args.mu, width=0.4)\n",
    "err_sib_lam, std_sib_lam = err_param_rel(temp_params, key='lambda_sib')\n",
    "err_nn_lam, std_nn_lam = err_param_rel(temp_params, key='lambda_nn')\n",
    "err_sib_mu, std_sib_mu = err_param_rel(temp_params, key='mu_sib', val_=args.mu)\n",
    "err_nn_mu, std_nn_mu = err_param_rel(temp_params, key='mu_nn', val_=args.mu)\n",
    "axs[0][0].set_ylim(-0.05,0.1)\n",
    "plt.legend()\n",
    "axs[0][1].bar([0,1], [err_sib_lam, err_nn_lam], width=0.8, yerr=[std_sib_lam/np.sqrt(N), std_nn_lam/np.sqrt(N)])\n",
    "axs[1][1].bar([0,1], [err_sib_mu, err_nn_mu],yerr=[std_sib_mu/np.sqrt(N), std_nn_mu/np.sqrt(N)], width=0.8)"
   ]
  },
  {
   "cell_type": "code",
   "execution_count": 123,
   "metadata": {},
   "outputs": [
    {
     "data": {
      "text/plain": [
       "0.32675071358680724"
      ]
     },
     "execution_count": 123,
     "metadata": {},
     "output_type": "execute_result"
    }
   ],
   "source": [
    "np.array(temp_params[\"lambda_nn\"]).mean()"
   ]
  },
  {
   "cell_type": "code",
   "execution_count": 131,
   "metadata": {},
   "outputs": [
    {
     "data": {
      "text/html": [
       "<div>\n",
       "<style scoped>\n",
       "    .dataframe tbody tr th:only-of-type {\n",
       "        vertical-align: middle;\n",
       "    }\n",
       "\n",
       "    .dataframe tbody tr th {\n",
       "        vertical-align: top;\n",
       "    }\n",
       "\n",
       "    .dataframe thead th {\n",
       "        text-align: right;\n",
       "    }\n",
       "</style>\n",
       "<table border=\"1\" class=\"dataframe\">\n",
       "  <thead>\n",
       "    <tr style=\"text-align: right;\">\n",
       "      <th></th>\n",
       "      <th>lambda_sib</th>\n",
       "      <th>lambda_nn</th>\n",
       "      <th>mu_sib</th>\n",
       "      <th>mu_nn</th>\n",
       "      <th>mu</th>\n",
       "      <th>lambda</th>\n",
       "    </tr>\n",
       "  </thead>\n",
       "  <tbody>\n",
       "    <tr>\n",
       "      <th>0</th>\n",
       "      <td>0.472565</td>\n",
       "      <td>0.434606</td>\n",
       "      <td>9.999995e-07</td>\n",
       "      <td>1.000000e-06</td>\n",
       "      <td>0</td>\n",
       "      <td>0.35</td>\n",
       "    </tr>\n",
       "    <tr>\n",
       "      <th>1</th>\n",
       "      <td>0.479728</td>\n",
       "      <td>0.444826</td>\n",
       "      <td>9.999995e-07</td>\n",
       "      <td>1.000000e-06</td>\n",
       "      <td>0</td>\n",
       "      <td>0.35</td>\n",
       "    </tr>\n",
       "    <tr>\n",
       "      <th>2</th>\n",
       "      <td>0.379583</td>\n",
       "      <td>0.329926</td>\n",
       "      <td>9.999995e-07</td>\n",
       "      <td>1.000000e-06</td>\n",
       "      <td>0</td>\n",
       "      <td>0.35</td>\n",
       "    </tr>\n",
       "    <tr>\n",
       "      <th>3</th>\n",
       "      <td>0.146719</td>\n",
       "      <td>0.160196</td>\n",
       "      <td>9.999995e-07</td>\n",
       "      <td>1.000000e-06</td>\n",
       "      <td>0</td>\n",
       "      <td>0.35</td>\n",
       "    </tr>\n",
       "    <tr>\n",
       "      <th>4</th>\n",
       "      <td>0.415249</td>\n",
       "      <td>0.379899</td>\n",
       "      <td>9.999995e-07</td>\n",
       "      <td>1.000000e-06</td>\n",
       "      <td>0</td>\n",
       "      <td>0.35</td>\n",
       "    </tr>\n",
       "    <tr>\n",
       "      <th>5</th>\n",
       "      <td>0.330890</td>\n",
       "      <td>0.326576</td>\n",
       "      <td>9.999995e-07</td>\n",
       "      <td>1.000000e-06</td>\n",
       "      <td>0</td>\n",
       "      <td>0.35</td>\n",
       "    </tr>\n",
       "    <tr>\n",
       "      <th>6</th>\n",
       "      <td>0.252392</td>\n",
       "      <td>0.256697</td>\n",
       "      <td>9.999995e-07</td>\n",
       "      <td>1.000000e-06</td>\n",
       "      <td>0</td>\n",
       "      <td>0.35</td>\n",
       "    </tr>\n",
       "    <tr>\n",
       "      <th>7</th>\n",
       "      <td>0.316177</td>\n",
       "      <td>0.315152</td>\n",
       "      <td>9.999995e-07</td>\n",
       "      <td>1.000000e-06</td>\n",
       "      <td>0</td>\n",
       "      <td>0.35</td>\n",
       "    </tr>\n",
       "    <tr>\n",
       "      <th>8</th>\n",
       "      <td>0.359060</td>\n",
       "      <td>0.333801</td>\n",
       "      <td>9.999995e-07</td>\n",
       "      <td>1.000000e-06</td>\n",
       "      <td>0</td>\n",
       "      <td>0.35</td>\n",
       "    </tr>\n",
       "    <tr>\n",
       "      <th>9</th>\n",
       "      <td>0.293505</td>\n",
       "      <td>0.285829</td>\n",
       "      <td>9.999995e-07</td>\n",
       "      <td>1.000000e-06</td>\n",
       "      <td>0</td>\n",
       "      <td>0.35</td>\n",
       "    </tr>\n",
       "  </tbody>\n",
       "</table>\n",
       "</div>"
      ],
      "text/plain": [
       "   lambda_sib  lambda_nn        mu_sib         mu_nn  mu  lambda\n",
       "0    0.472565   0.434606  9.999995e-07  1.000000e-06   0    0.35\n",
       "1    0.479728   0.444826  9.999995e-07  1.000000e-06   0    0.35\n",
       "2    0.379583   0.329926  9.999995e-07  1.000000e-06   0    0.35\n",
       "3    0.146719   0.160196  9.999995e-07  1.000000e-06   0    0.35\n",
       "4    0.415249   0.379899  9.999995e-07  1.000000e-06   0    0.35\n",
       "5    0.330890   0.326576  9.999995e-07  1.000000e-06   0    0.35\n",
       "6    0.252392   0.256697  9.999995e-07  1.000000e-06   0    0.35\n",
       "7    0.316177   0.315152  9.999995e-07  1.000000e-06   0    0.35\n",
       "8    0.359060   0.333801  9.999995e-07  1.000000e-06   0    0.35\n",
       "9    0.293505   0.285829  9.999995e-07  1.000000e-06   0    0.35"
      ]
     },
     "execution_count": 131,
     "metadata": {},
     "output_type": "execute_result"
    }
   ],
   "source": [
    "import pandas as pd\n",
    "params_df = pd.DataFrame(temp_params)\n",
    "params_df[\"mu\"] = [args.mu]*len(params_df)\n",
    "params_df[\"lambda\"] = [args.lambda_]*len(params_df)\n",
    "params_df.to_csv(\"res_params.gz\")\n",
    "params_df"
   ]
  },
  {
   "cell_type": "code",
   "execution_count": 125,
   "metadata": {},
   "outputs": [
    {
     "data": {
      "text/plain": [
       "<BarContainer object of 2 artists>"
      ]
     },
     "execution_count": 125,
     "metadata": {},
     "output_type": "execute_result"
    },
    {
     "data": {
      "image/png": "[encoded data removed]",
      "text/plain": [
       "<Figure size 720x360 with 4 Axes>"
      ]
     },
     "metadata": {
      "needs_background": "light"
     },
     "output_type": "display_data"
    }
   ],
   "source": [
    "def err_param_rel(temp_params, key='lambda_sib', val_=args.lambda_):\n",
    "    a = (100.*(np.abs(np.array(temp_params[key]) - val_))/args.lambda_).mean()\n",
    "    return a\n",
    "def err_param(temp_params, key='lambda_sib', val_=args.lambda_):\n",
    "    a = (np.abs(np.array(temp_params[key]) - val_)).mean()\n",
    "    return a\n",
    "\n",
    "import matplotlib.pyplot as plt\n",
    "fig, axs = plt.subplots(2,2, figsize=(10,5))\n",
    "x=np.arange(len(temp_params['lambda_sib']))\n",
    "axs[0][0].bar(x, np.array(temp_params['lambda_sib']) - args.lambda_, width=0.4)\n",
    "axs[0][0].bar(x+0.5, np.array(temp_params['lambda_nn']) - args.lambda_, width=0.4)\n",
    "axs[1][0].bar(x, np.array(temp_params['mu_sib']) - args.mu, width=0.4)\n",
    "axs[1][0].bar(x+0.5, np.array(temp_params['mu_nn']) - args.mu, width=0.4)\n",
    "err_sib_lam = err_param(temp_params, key='lambda_sib')\n",
    "err_nn_lam = err_param(temp_params, key='lambda_nn')\n",
    "err_sib_mu = err_param(temp_params, key='mu_sib', val_=args.mu)\n",
    "err_nn_mu = err_param(temp_params, key='mu_nn', val_=args.mu)\n",
    "\n",
    "axs[0][1].bar([0,1], [err_sib_lam, err_nn_lam], width=0.8)\n",
    "axs[1][1].bar([0,1], [err_sib_mu, err_nn_mu], width=0.8)"
   ]
  },
  {
   "cell_type": "code",
   "execution_count": 126,
   "metadata": {},
   "outputs": [
    {
     "ename": "ModuleNotFoundError",
     "evalue": "No module named 'utils.analysis'",
     "output_type": "error",
     "traceback": [
      "\u001b[0;31m---------------------------------------------------------------------------\u001b[0m",
      "\u001b[0;31mModuleNotFoundError\u001b[0m                       Traceback (most recent call last)",
      "\u001b[0;32m<ipython-input-126-e88d297caa70>\u001b[0m in \u001b[0;36m<module>\u001b[0;34m\u001b[0m\n\u001b[0;32m----> 1\u001b[0;31m \u001b[0;32mfrom\u001b[0m \u001b[0mutils\u001b[0m\u001b[0;34m.\u001b[0m\u001b[0manalysis\u001b[0m \u001b[0;32mimport\u001b[0m \u001b[0msort_I\u001b[0m\u001b[0;34m\u001b[0m\u001b[0;34m\u001b[0m\u001b[0m\n\u001b[0m\u001b[1;32m      2\u001b[0m \u001b[0;34m\u001b[0m\u001b[0m\n\u001b[1;32m      3\u001b[0m \u001b[0mtrue_sources\u001b[0m \u001b[0;34m=\u001b[0m \u001b[0;34m{\u001b[0m\u001b[0;34m}\u001b[0m\u001b[0;34m\u001b[0m\u001b[0;34m\u001b[0m\u001b[0m\n\u001b[1;32m      4\u001b[0m \u001b[0mnn_sources\u001b[0m \u001b[0;34m=\u001b[0m \u001b[0;34m{\u001b[0m\u001b[0;34m}\u001b[0m\u001b[0;34m\u001b[0m\u001b[0;34m\u001b[0m\u001b[0m\n\u001b[1;32m      5\u001b[0m \u001b[0msib_sources\u001b[0m \u001b[0;34m=\u001b[0m \u001b[0;34m{\u001b[0m\u001b[0;34m}\u001b[0m\u001b[0;34m\u001b[0m\u001b[0;34m\u001b[0m\u001b[0m\n",
      "\u001b[0;31mModuleNotFoundError\u001b[0m: No module named 'utils.analysis'"
     ]
    }
   ],
   "source": [
    "from utils.analysis import sort_I \n",
    "\n",
    "true_sources = {}\n",
    "nn_sources = {}\n",
    "sib_sources = {}\n",
    "sm_sources = {}\n",
    "rnd_sources_I = {}\n",
    "rnd_sources = {}\n",
    "Is={}\n",
    "for cl in range(len(Ns)):\n",
    "    true_sources[cl] = []\n",
    "    nn_sources[cl] = []\n",
    "    sib_sources[cl] = []\n",
    "    rnd_sources[cl] = []\n",
    "    rnd_sources_I[cl] = []\n",
    "    sm_sources[cl] = []\n",
    "    Is[cl] = []\n",
    "    for i_seed, seed in enumerate(seeds):\n",
    "        print(f\"\\nSEED: {seed}\")\n",
    "\n",
    "        for i in range(num_conf):\n",
    "            true_sources[cl].append(np.argmin(data_[seed][\"epidemy\"][i][0][0]))\n",
    "            nn_sources[cl].append(sort_I(ress[seed][Ns[cl]][i][\"regressive\"][\"marginals\"], 0))\n",
    "            sib_sources[cl].append(sort_I(ress[seed][Ns[cl]][i][\"sib\"][\"marginals\"], 0))\n",
    "            Is[cl].append((data_[seed][\"epidemy\"][i][0][0] != np.inf).sum())\n",
    "            rnd_sources[cl].append(np.random.randint(0,Ns[cl]))\n",
    "            rnd_sources_I[cl].append(np.random.randint(0,Is[cl][-1]))\n",
    "            sm_sources[cl].append({})"
   ]
  },
  {
   "cell_type": "code",
   "execution_count": 127,
   "metadata": {},
   "outputs": [
    {
     "ename": "NameError",
     "evalue": "name 'true_sources' is not defined",
     "output_type": "error",
     "traceback": [
      "\u001b[0;31m---------------------------------------------------------------------------\u001b[0m",
      "\u001b[0;31mNameError\u001b[0m                                 Traceback (most recent call last)",
      "\u001b[0;32m<ipython-input-127-4392ca83216b>\u001b[0m in \u001b[0;36m<module>\u001b[0;34m\u001b[0m\n\u001b[1;32m     20\u001b[0m     \u001b[0mavg_source_sm\u001b[0m\u001b[0;34m[\u001b[0m\u001b[0mcl\u001b[0m\u001b[0;34m]\u001b[0m \u001b[0;34m=\u001b[0m \u001b[0;34m{\u001b[0m\u001b[0;34m}\u001b[0m\u001b[0;34m\u001b[0m\u001b[0;34m\u001b[0m\u001b[0m\n\u001b[1;32m     21\u001b[0m     \u001b[0;32mfor\u001b[0m \u001b[0mn\u001b[0m \u001b[0;32min\u001b[0m \u001b[0mrange\u001b[0m\u001b[0;34m(\u001b[0m\u001b[0mNs\u001b[0m\u001b[0;34m[\u001b[0m\u001b[0mcl\u001b[0m\u001b[0;34m]\u001b[0m\u001b[0;34m)\u001b[0m\u001b[0;34m:\u001b[0m\u001b[0;34m\u001b[0m\u001b[0;34m\u001b[0m\u001b[0m\n\u001b[0;32m---> 22\u001b[0;31m         \u001b[0;32mfor\u001b[0m \u001b[0mi\u001b[0m \u001b[0;32min\u001b[0m \u001b[0mrange\u001b[0m\u001b[0;34m(\u001b[0m\u001b[0mlen\u001b[0m\u001b[0;34m(\u001b[0m\u001b[0mtrue_sources\u001b[0m\u001b[0;34m[\u001b[0m\u001b[0mcl\u001b[0m\u001b[0;34m]\u001b[0m\u001b[0;34m)\u001b[0m\u001b[0;34m)\u001b[0m\u001b[0;34m:\u001b[0m\u001b[0;34m\u001b[0m\u001b[0;34m\u001b[0m\u001b[0m\n\u001b[0m\u001b[1;32m     23\u001b[0m             \u001b[0mavg_source_nn\u001b[0m\u001b[0;34m[\u001b[0m\u001b[0mcl\u001b[0m\u001b[0;34m]\u001b[0m\u001b[0;34m[\u001b[0m\u001b[0mn\u001b[0m\u001b[0;34m]\u001b[0m \u001b[0;34m+=\u001b[0m \u001b[0mtrue_sources\u001b[0m\u001b[0;34m[\u001b[0m\u001b[0mcl\u001b[0m\u001b[0;34m]\u001b[0m\u001b[0;34m[\u001b[0m\u001b[0mi\u001b[0m\u001b[0;34m]\u001b[0m \u001b[0;32min\u001b[0m \u001b[0mnn_sources\u001b[0m\u001b[0;34m[\u001b[0m\u001b[0mcl\u001b[0m\u001b[0;34m]\u001b[0m\u001b[0;34m[\u001b[0m\u001b[0mi\u001b[0m\u001b[0;34m]\u001b[0m\u001b[0;34m[\u001b[0m\u001b[0;34m:\u001b[0m\u001b[0mn\u001b[0m\u001b[0;34m+\u001b[0m\u001b[0;36m1\u001b[0m\u001b[0;34m,\u001b[0m\u001b[0;36m1\u001b[0m\u001b[0;34m]\u001b[0m\u001b[0;34m\u001b[0m\u001b[0;34m\u001b[0m\u001b[0m\n\u001b[1;32m     24\u001b[0m             \u001b[0mavg_source_sib\u001b[0m\u001b[0;34m[\u001b[0m\u001b[0mcl\u001b[0m\u001b[0;34m]\u001b[0m\u001b[0;34m[\u001b[0m\u001b[0mn\u001b[0m\u001b[0;34m]\u001b[0m \u001b[0;34m+=\u001b[0m \u001b[0mtrue_sources\u001b[0m\u001b[0;34m[\u001b[0m\u001b[0mcl\u001b[0m\u001b[0;34m]\u001b[0m\u001b[0;34m[\u001b[0m\u001b[0mi\u001b[0m\u001b[0;34m]\u001b[0m \u001b[0;32min\u001b[0m \u001b[0msib_sources\u001b[0m\u001b[0;34m[\u001b[0m\u001b[0mcl\u001b[0m\u001b[0;34m]\u001b[0m\u001b[0;34m[\u001b[0m\u001b[0mi\u001b[0m\u001b[0;34m]\u001b[0m\u001b[0;34m[\u001b[0m\u001b[0;34m:\u001b[0m\u001b[0mn\u001b[0m\u001b[0;34m+\u001b[0m\u001b[0;36m1\u001b[0m\u001b[0;34m,\u001b[0m\u001b[0;36m1\u001b[0m\u001b[0;34m]\u001b[0m\u001b[0;34m\u001b[0m\u001b[0;34m\u001b[0m\u001b[0m\n",
      "\u001b[0;31mNameError\u001b[0m: name 'true_sources' is not defined"
     ]
    }
   ],
   "source": [
    "avg_source_nn = {}\n",
    "avg_source_sib = {}\n",
    "avg_source_sm = {}\n",
    "avg_source_rnd = {}\n",
    "avg_source_rnd_I = {}\n",
    "avg_source_nn_norm = {}\n",
    "avg_source_sib_norm = {}\n",
    "avg_source_sm_norm = {}\n",
    "avg_source_rnd_norm = {}\n",
    "enum=0\n",
    "bins=20\n",
    "\n",
    "for cl in range(len(Ns)):\n",
    "    avg_source_nn[cl] = np.zeros(Ns[cl], dtype=float)\n",
    "    avg_source_sib[cl] = np.zeros(Ns[cl], dtype=float)\n",
    "    avg_source_rnd[cl] = np.zeros(Ns[cl], dtype=float)\n",
    "    avg_source_rnd_I[cl] = np.zeros(Ns[cl], dtype=float)\n",
    "\n",
    "    #print(nalpha)\n",
    "    avg_source_sm[cl] = {}\n",
    "    for n in range(Ns[cl]):\n",
    "        for i in range(len(true_sources[cl])):\n",
    "            avg_source_nn[cl][n] += true_sources[cl][i] in nn_sources[cl][i][:n+1,1]\n",
    "            avg_source_sib[cl][n] += true_sources[cl][i] in sib_sources[cl][i][:n+1,1]\n",
    "            avg_source_rnd[cl][n] += n+1 > rnd_sources[cl][i]\n",
    "            avg_source_rnd_I[cl][n] += n+1 > rnd_sources_I[cl][i]\n",
    "for cl in range(len(Ns)):\n",
    "    avg_source_nn_norm[cl] = np.zeros(bins, dtype=float)\n",
    "    avg_source_sib_norm[cl] = np.zeros(bins, dtype=float)\n",
    "    avg_source_rnd_norm[cl] = np.zeros(bins, dtype=float)\n",
    "\n",
    "    #print(nalpha)\n",
    "    avg_source_sm_norm[cl] = {}\n",
    "    for n in range(0, bins):\n",
    "        for i in range(len(true_sources[cl])):\n",
    "            I = Is[cl][i]\n",
    "            step_I = I / bins\n",
    "            pos_bins = int(step_I * n)\n",
    "            pos_bins_1 = int(step_I * (n+1))\n",
    "            if n == bins-1:\n",
    "                pos_bins_1 = I\n",
    "\n",
    "            avg_source_nn_norm[cl][n] += true_sources[cl][i] in nn_sources[cl][i][:pos_bins_1,1]\n",
    "            avg_source_sib_norm[cl][n] += true_sources[cl][i] in sib_sources[cl][i][:pos_bins_1,1]\n",
    "            avg_source_rnd_norm[cl][n] += pos_bins_1 > rnd_sources_I[cl][i]\n"
   ]
  },
  {
   "cell_type": "code",
   "execution_count": 128,
   "metadata": {},
   "outputs": [
    {
     "ename": "NameError",
     "evalue": "name 'nsims' is not defined",
     "output_type": "error",
     "traceback": [
      "\u001b[0;31m---------------------------------------------------------------------------\u001b[0m",
      "\u001b[0;31mNameError\u001b[0m                                 Traceback (most recent call last)",
      "\u001b[0;32m<ipython-input-128-878e6daf593c>\u001b[0m in \u001b[0;36m<module>\u001b[0;34m\u001b[0m\n\u001b[1;32m      2\u001b[0m avg_source_pd = pd.DataFrame(data={\"nn\":avg_source_nn[cl], \"sib\":avg_source_sib[cl], \n\u001b[1;32m      3\u001b[0m                                    \"rnd\":avg_source_rnd[cl], \"rnd_I\":avg_source_rnd_I[cl]})\n\u001b[0;32m----> 4\u001b[0;31m \u001b[0;32mfor\u001b[0m \u001b[0mnsim\u001b[0m \u001b[0;32min\u001b[0m \u001b[0mnsims\u001b[0m\u001b[0;34m:\u001b[0m\u001b[0;34m\u001b[0m\u001b[0;34m\u001b[0m\u001b[0m\n\u001b[0m\u001b[1;32m      5\u001b[0m     \u001b[0;32mfor\u001b[0m \u001b[0malpha\u001b[0m \u001b[0;32min\u001b[0m \u001b[0mrange\u001b[0m\u001b[0;34m(\u001b[0m\u001b[0mnalpha\u001b[0m\u001b[0;34m)\u001b[0m\u001b[0;34m:\u001b[0m\u001b[0;34m\u001b[0m\u001b[0;34m\u001b[0m\u001b[0m\n\u001b[1;32m      6\u001b[0m         \u001b[0mavg_source_pd\u001b[0m\u001b[0;34m[\u001b[0m\u001b[0;34mf\"sm_{nsim}_{args.a_min+alpha*args.a_step:.2f}\"\u001b[0m\u001b[0;34m]\u001b[0m \u001b[0;34m=\u001b[0m \u001b[0mavg_source_sm\u001b[0m\u001b[0;34m[\u001b[0m\u001b[0mcl\u001b[0m\u001b[0;34m]\u001b[0m\u001b[0;34m[\u001b[0m\u001b[0mnsim\u001b[0m\u001b[0;34m]\u001b[0m\u001b[0;34m[\u001b[0m\u001b[0malpha\u001b[0m\u001b[0;34m]\u001b[0m\u001b[0;34m\u001b[0m\u001b[0;34m\u001b[0m\u001b[0m\n",
      "\u001b[0;31mNameError\u001b[0m: name 'nsims' is not defined"
     ]
    }
   ],
   "source": [
    "cl = 0\n",
    "avg_source_pd = pd.DataFrame(data={\"nn\":avg_source_nn[cl], \"sib\":avg_source_sib[cl], \n",
    "                                   \"rnd\":avg_source_rnd[cl], \"rnd_I\":avg_source_rnd_I[cl]})\n",
    "for nsim in nsims:\n",
    "    for alpha in range(nalpha): \n",
    "        avg_source_pd[f\"sm_{nsim}_{args.a_min+alpha*args.a_step:.2f}\"] = avg_source_sm[cl][nsim][alpha]\n",
    "\n",
    "avg_source_pd_norm = pd.DataFrame(data={\"nn\":avg_source_nn_norm[cl], \n",
    "                                        \"sib\":avg_source_sib_norm[cl],\n",
    "                                       \"rnd\":avg_source_rnd_norm[cl]})\n",
    "for nsim in nsims:\n",
    "    for alpha in range(nalpha): \n",
    "        avg_source_pd_norm[f\"sm_{nsim}_{args.a_min+alpha*args.a_step:.2f}\"] = avg_source_sm_norm[cl][nsim][alpha]\n",
    "\n",
    "avg_source_pd"
   ]
  },
  {
   "cell_type": "code",
   "execution_count": 129,
   "metadata": {},
   "outputs": [
    {
     "ename": "NameError",
     "evalue": "name 'avg_source_pd_norm' is not defined",
     "output_type": "error",
     "traceback": [
      "\u001b[0;31m---------------------------------------------------------------------------\u001b[0m",
      "\u001b[0;31mNameError\u001b[0m                                 Traceback (most recent call last)",
      "\u001b[0;32m<ipython-input-129-07789555a4cf>\u001b[0m in \u001b[0;36m<module>\u001b[0;34m\u001b[0m\n\u001b[1;32m      1\u001b[0m \u001b[0mavg_source_pd\u001b[0m\u001b[0;34m.\u001b[0m\u001b[0mto_csv\u001b[0m\u001b[0;34m(\u001b[0m\u001b[0;34m\"results.gz\"\u001b[0m\u001b[0;34m)\u001b[0m\u001b[0;34m\u001b[0m\u001b[0;34m\u001b[0m\u001b[0m\n\u001b[0;32m----> 2\u001b[0;31m \u001b[0mavg_source_pd_norm\u001b[0m\u001b[0;34m.\u001b[0m\u001b[0mto_csv\u001b[0m\u001b[0;34m(\u001b[0m\u001b[0;34m\"results_norm.gz\"\u001b[0m\u001b[0;34m)\u001b[0m\u001b[0;34m\u001b[0m\u001b[0;34m\u001b[0m\u001b[0m\n\u001b[0m",
      "\u001b[0;31mNameError\u001b[0m: name 'avg_source_pd_norm' is not defined"
     ]
    }
   ],
   "source": [
    "avg_source_pd.to_csv(\"results.gz\")\n",
    "avg_source_pd_norm.to_csv(\"results_norm.gz\")"
   ]
  },
  {
   "cell_type": "code",
   "execution_count": null,
   "metadata": {},
   "outputs": [],
   "source": [
    "import matplotlib.pyplot as plt\n",
    "import numpy as np\n",
    "from sklearn.metrics import auc\n",
    "plt.figure(figsize=(10,5))\n",
    "name=\"Greens\"\n",
    "colors = plt.get_cmap(name)\n",
    "\n",
    "y_nn = np.insert(avg_source_nn[cl]/avg_source_nn[cl][-1],0,0)\n",
    "y_sib = np.insert(avg_source_sib[cl]/avg_source_sib[cl][-1],0,0)\n",
    "y_rnd = np.insert(avg_source_rnd[cl]/avg_source_rnd[cl][-1],0,0)\n",
    "y_rnd_I = np.insert(avg_source_rnd_I[cl]/avg_source_rnd_I[cl][-1],0,0)\n",
    "N = len(avg_source_nn[cl])\n",
    "x = np.arange(N+1)/N\n",
    "cl=0\n",
    "plt.plot(x, y_rnd, \"--\", label=f\"random -- auc: {auc(x, y_rnd):.3f}\", color=\"black\")\n",
    "plt.plot(x, y_rnd_I, \"--\", label=f\"random (only I) -- auc: {auc(x, y_rnd_I):.3f}\", color=\"black\")\n",
    "\n",
    "for i, nsim in enumerate(nsims[1:]):\n",
    "    alpha=21\n",
    "    #for alpha in range(len(avg_source_sm[cl][nsim])):\n",
    "    y_sm = np.insert(avg_source_sm[cl][nsim][alpha]/avg_source_sm[cl][nsim][alpha][-1],0,0)\n",
    "    #print(alpha, avg_source_sm[cl][alpha])\n",
    "    plt.plot(x, y_sm, \":\",\n",
    "             label=f\"sm - {args.a_min+alpha*args.a_step:.2f} -- auc {auc(x, y_sm):.3f} -- sims:{nsim:.0e}\", \n",
    "             color=colors(np.clip(i/len(nsims[1:]), 0.3, 0.9)), lw=2)\n",
    "plt.plot(x, y_sib, \"-.\", label=f\"sib -- auc: {auc(x, y_sib):.3f}\", linewidth=\"2\")\n",
    "plt.plot(x, y_nn, label=f\"nn -- auc: {auc(x, y_nn):.3f}\", linewidth=\"2\")\n",
    "\n",
    "plt.legend()\n",
    "plt.xlim(0,1)\n",
    "plt.ylim(0,1.01)\n",
    "plt.title(f\"{args.type_graph} N:{Ns[0]}, days:{args.t_limit}, lambda_:{args.lambda_}, mu:{args.mu} inst:{len(true_sources[0])}\")\n",
    "plt.xlabel(\"fraction of infected or recovery nodes\")\n",
    "plt.ylabel(\"fraction of true sources found\")\n",
    "#plt.ylim(0,17)"
   ]
  },
  {
   "cell_type": "code",
   "execution_count": null,
   "metadata": {},
   "outputs": [],
   "source": [
    "import matplotlib.pyplot as plt\n",
    "import numpy as np\n",
    "from sklearn.metrics import auc\n",
    "plt.figure(figsize=(10,5))\n",
    "y_nn = np.insert(avg_source_nn[cl]/avg_source_nn[cl][-1],0,0)\n",
    "y_sib = np.insert(avg_source_sib[cl]/avg_source_sib[cl][-1],0,0)\n",
    "N = len(avg_source_nn[cl])\n",
    "x = np.insert(np.arange(N)/N,0,0)\n",
    "cl=0\n",
    "#plt.plot(x, y_nn, label=f\"nn -- auc: {auc(x, y_nn):.3f}\")\n",
    "#plt.plot(x, y_sib, label=f\"sib -- auc: {auc(x, y_sib):.3f}\")\n",
    "\n",
    "for nsim in nsims:\n",
    "    alphas = []\n",
    "    y = []\n",
    "    for alpha in range(len(avg_source_sm[cl][nsim])):\n",
    "        y_sm = np.insert(avg_source_sm[cl][nsim][alpha]/avg_source_sm[cl][nsim][alpha][-1],0,0)\n",
    "        #print(alpha, avg_source_sm[cl][alpha])\n",
    "        #plt.plot(x, y_sm, label=f\"sm - {a_min+alpha*a_step:.2f} -- auc {auc(x, y_sm):.3f} -- sims:{nsim}\")\n",
    "        y.append(auc(x, y_sm))\n",
    "        alphas.append(args.a_min+alpha*args.a_step)\n",
    "    plt.plot(alphas, y, label=f\"nsim: {nsim:.0e}\")\n",
    "plt.legend()\n",
    "#plt.xlim(0,1)\n",
    "#plt.title(f\"work95 N:{Ns[0]}, days:{t_limit}, gamma:{gamma[0]}, mu:{mu} inst:{len(true_sources[0])}\")\n",
    "#plt.ylim(0,17)"
   ]
  },
  {
   "cell_type": "code",
   "execution_count": null,
   "metadata": {},
   "outputs": [],
   "source": [
    "import matplotlib.pyplot as plt\n",
    "import numpy as np\n",
    "from sklearn.metrics import auc\n",
    "plt.figure(figsize=(10,5))\n",
    "name=\"Greens\"\n",
    "colors = plt.get_cmap(name)\n",
    "\n",
    "y_nn = np.insert(avg_source_nn_norm[cl]/avg_source_nn_norm[cl][-1],0,0)\n",
    "y_sib = np.insert(avg_source_sib_norm[cl]/avg_source_sib_norm[cl][-1],0,0)\n",
    "y_rnd = np.insert(avg_source_rnd_norm[cl]/avg_source_rnd_norm[cl][-1],0,0)\n",
    "N = len(avg_source_nn_norm[cl])\n",
    "x = np.arange(N+1)/N\n",
    "cl=0\n",
    "plt.plot(x, y_rnd, \"--\", label=f\"random -- auc: {auc(x, y_rnd):.3f}\", color=\"black\")\n",
    "\n",
    "for i, nsim in enumerate(nsims[1:]):\n",
    "    alpha=21\n",
    "    #for alpha in range(len(avg_source_sm[cl][nsim])):\n",
    "    y_sm = np.insert(avg_source_sm_norm[cl][nsim][alpha]/avg_source_sm_norm[cl][nsim][alpha][-1],0,0)\n",
    "    #print(alpha, avg_source_sm[cl][alpha])\n",
    "    plt.plot(x, y_sm, \":\",\n",
    "             label=f\"sm - {args.a_min+alpha*args.a_step:.2f} -- auc {auc(x, y_sm):.3f} -- sims:{nsim:.0e}\", \n",
    "             color=colors(np.clip(i/len(nsims[1:]), 0.3, 0.9)), lw=2)\n",
    "plt.plot(x, y_sib, \"-.\", label=f\"sib -- auc: {auc(x, y_sib):.3f}\", linewidth=\"2\")\n",
    "plt.plot(x, y_nn, label=f\"nn -- auc: {auc(x, y_nn):.3f}\", linewidth=\"2\")\n",
    "\n",
    "plt.legend()\n",
    "plt.xlim(0,1)\n",
    "plt.ylim(0,1)\n",
    "plt.title(f\"{args.type_graph} N:{Ns[0]}, days:{args.t_limit}, lambda_:{args.lambda_}, mu:{args.mu} inst:{len(true_sources[0])}\")\n",
    "plt.xlabel(\"fraction of infected or recovery nodes\")\n",
    "plt.ylabel(\"fraction of true sources found\")\n",
    "#plt.ylim(0,17)"
   ]
  },
  {
   "cell_type": "code",
   "execution_count": null,
   "metadata": {},
   "outputs": [],
   "source": [
    "import matplotlib.pyplot as plt\n",
    "import numpy as np\n",
    "from sklearn.metrics import auc\n",
    "plt.figure(figsize=(10,5))\n",
    "y_nn = np.insert(avg_source_nn_norm[cl]/avg_source_nn_norm[cl][-1],0,0)\n",
    "y_sib = np.insert(avg_source_sib[cl]/avg_source_sib[cl][-1],0,0)\n",
    "N = len(avg_source_nn_norm[cl])\n",
    "x = np.arange(N+1)/N\n",
    "cl=0\n",
    "#plt.plot(x, y_nn, label=f\"nn -- auc: {auc(x, y_nn):.3f}\")\n",
    "#plt.plot(x, y_sib, label=f\"sib -- auc: {auc(x, y_sib):.3f}\")\n",
    "\n",
    "for nsim in nsims:\n",
    "    alphas = []\n",
    "    y = []\n",
    "    for alpha in range(len(avg_source_sm_norm[cl][nsim])):\n",
    "        y_sm = np.insert(avg_source_sm_norm[cl][nsim][alpha]/avg_source_sm_norm[cl][nsim][alpha][-1],0,0)\n",
    "        #print(alpha, avg_source_sm[cl][alpha])\n",
    "        #plt.plot(x, y_sm, label=f\"sm - {a_min+alpha*a_step:.2f} -- auc {auc(x, y_sm):.3f} -- sims:{nsim}\")\n",
    "        y.append(auc(x, y_sm))\n",
    "        alphas.append(args.a_min+alpha*args.a_step)\n",
    "    plt.plot(alphas, y, label=f\"nsim: {nsim:.0e}\")\n",
    "plt.legend()\n",
    "#plt.xlim(0,1)\n",
    "#plt.title(f\"work95 N:{Ns[0]}, days:{t_limit}, gamma:{gamma[0]}, mu:{mu} inst:{len(true_sources[0])}\")\n",
    "#plt.ylim(0,17)"
   ]
  },
  {
   "cell_type": "code",
   "execution_count": null,
   "metadata": {},
   "outputs": [],
   "source": []
  },
  {
   "cell_type": "code",
   "execution_count": null,
   "metadata": {},
   "outputs": [],
   "source": []
  },
  {
   "cell_type": "code",
   "execution_count": null,
   "metadata": {},
   "outputs": [],
   "source": []
  },
  {
   "cell_type": "code",
   "execution_count": null,
   "metadata": {},
   "outputs": [],
   "source": []
  }
 ],
 "metadata": {
  "kernelspec": {
   "display_name": "Python 3",
   "language": "python",
   "name": "python3"
  },
  "language_info": {
   "codemirror_mode": {
    "name": "ipython",
    "version": 3
   },
   "file_extension": ".py",
   "mimetype": "text/x-python",
   "name": "python",
   "nbconvert_exporter": "python",
   "pygments_lexer": "ipython3",
   "version": "3.8.5"
  }
 },
 "nbformat": 4,
 "nbformat_minor": 4
}
