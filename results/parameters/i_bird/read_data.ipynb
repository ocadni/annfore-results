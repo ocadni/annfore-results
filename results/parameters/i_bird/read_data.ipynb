{
 "cells": [
  {
   "cell_type": "code",
   "execution_count": 1,
   "id": "0a8cd26a",
   "metadata": {},
   "outputs": [],
   "source": [
    "import pandas as pd"
   ]
  },
  {
   "cell_type": "code",
   "execution_count": 2,
   "id": "88fd6161",
   "metadata": {},
   "outputs": [],
   "source": [
    "ress={}\n",
    "ress_rand={}\n",
    "nun_seed=10\n",
    "for seed in range(1,nun_seed):\n",
    "    ress[seed] = pd.read_csv(f\"./data/eq_05_data_deltas_2_gamma_n_326_d_10_tlim_12_lam_0.5_mu_1e-10_s_{seed}_pe_1_0_trace.gz\")    \n",
    "    ress_rand[seed] = pd.read_csv(f\"./data/eq_05_rand_data_deltas_2_gamma_n_326_d_10_tlim_12_lam_0.5_mu_1e-10_s_{seed}_pe_1_0_trace.gz\")"
   ]
  },
  {
   "cell_type": "code",
   "execution_count": 3,
   "id": "faafa201",
   "metadata": {},
   "outputs": [],
   "source": [
    "import numpy as np\n",
    "gammas1=[]\n",
    "gammas2=[]\n",
    "gammas1_rand=[]\n",
    "gammas2_rand=[]\n",
    "betas = []\n",
    "betas_rand = []\n",
    "for seed in range(1,nun_seed):\n",
    "    gammas1.append(ress[seed][\"gamma1\"][-100:].mean())\n",
    "    gammas2.append(ress[seed][\"gamma2\"][-100:].mean())\n",
    "    gammas1_rand.append(ress_rand[seed][\"gamma1\"][-100:].mean())\n",
    "    gammas2_rand.append(ress_rand[seed][\"gamma2\"][-100:].mean())\n",
    "    betas.append(ress[seed][\"beta\"].iloc[-1])\n",
    "    betas_rand.append(ress_rand[seed][\"beta\"].iloc[-1])\n",
    "gammas1 = np.array(gammas1)\n",
    "gammas2 = np.array(gammas2)\n",
    "gammas1_rand = np.array(gammas1_rand)\n",
    "gammas2_rand = np.array(gammas2_rand)"
   ]
  },
  {
   "cell_type": "code",
   "execution_count": 4,
   "id": "476f0918",
   "metadata": {},
   "outputs": [],
   "source": [
    "import numpy as np\n",
    "loss=[]\n",
    "loss_rand=[]\n",
    "for seed in range(1,nun_seed):\n",
    "    loss.append(ress[seed][\"loss\"][-10:].mean())\n",
    "    loss_rand.append(ress_rand[seed][\"loss\"][-10:].mean())\n",
    "loss = np.array(loss)\n",
    "loss_rand = np.array(loss_rand)"
   ]
  },
  {
   "cell_type": "code",
   "execution_count": 5,
   "id": "dd3a1fdb",
   "metadata": {},
   "outputs": [
    {
     "data": {
      "text/html": [
       "<div>\n",
       "<style scoped>\n",
       "    .dataframe tbody tr th:only-of-type {\n",
       "        vertical-align: middle;\n",
       "    }\n",
       "\n",
       "    .dataframe tbody tr th {\n",
       "        vertical-align: top;\n",
       "    }\n",
       "\n",
       "    .dataframe thead th {\n",
       "        text-align: right;\n",
       "    }\n",
       "</style>\n",
       "<table border=\"1\" class=\"dataframe\">\n",
       "  <thead>\n",
       "    <tr style=\"text-align: right;\">\n",
       "      <th></th>\n",
       "      <th>loss</th>\n",
       "      <th>loss_rand</th>\n",
       "      <th>beta</th>\n",
       "      <th>beta_rand</th>\n",
       "      <th>diff_loss</th>\n",
       "    </tr>\n",
       "  </thead>\n",
       "  <tbody>\n",
       "    <tr>\n",
       "      <th>0</th>\n",
       "      <td>6120.571973</td>\n",
       "      <td>6043.725391</td>\n",
       "      <td>1.0</td>\n",
       "      <td>1.0</td>\n",
       "      <td>76.846582</td>\n",
       "    </tr>\n",
       "    <tr>\n",
       "      <th>1</th>\n",
       "      <td>6416.991650</td>\n",
       "      <td>6507.025293</td>\n",
       "      <td>1.0</td>\n",
       "      <td>1.0</td>\n",
       "      <td>-90.033643</td>\n",
       "    </tr>\n",
       "    <tr>\n",
       "      <th>2</th>\n",
       "      <td>7629.834082</td>\n",
       "      <td>7642.962598</td>\n",
       "      <td>1.0</td>\n",
       "      <td>1.0</td>\n",
       "      <td>-13.128516</td>\n",
       "    </tr>\n",
       "    <tr>\n",
       "      <th>3</th>\n",
       "      <td>9844.549707</td>\n",
       "      <td>9850.500293</td>\n",
       "      <td>1.0</td>\n",
       "      <td>1.0</td>\n",
       "      <td>-5.950586</td>\n",
       "    </tr>\n",
       "    <tr>\n",
       "      <th>4</th>\n",
       "      <td>9180.923535</td>\n",
       "      <td>9172.978809</td>\n",
       "      <td>1.0</td>\n",
       "      <td>1.0</td>\n",
       "      <td>7.944727</td>\n",
       "    </tr>\n",
       "    <tr>\n",
       "      <th>5</th>\n",
       "      <td>6649.740869</td>\n",
       "      <td>6668.946631</td>\n",
       "      <td>1.0</td>\n",
       "      <td>1.0</td>\n",
       "      <td>-19.205762</td>\n",
       "    </tr>\n",
       "    <tr>\n",
       "      <th>6</th>\n",
       "      <td>8682.861816</td>\n",
       "      <td>8695.245801</td>\n",
       "      <td>1.0</td>\n",
       "      <td>1.0</td>\n",
       "      <td>-12.383984</td>\n",
       "    </tr>\n",
       "    <tr>\n",
       "      <th>7</th>\n",
       "      <td>9232.149316</td>\n",
       "      <td>9234.696875</td>\n",
       "      <td>1.0</td>\n",
       "      <td>1.0</td>\n",
       "      <td>-2.547559</td>\n",
       "    </tr>\n",
       "    <tr>\n",
       "      <th>8</th>\n",
       "      <td>9569.857031</td>\n",
       "      <td>9573.175098</td>\n",
       "      <td>1.0</td>\n",
       "      <td>1.0</td>\n",
       "      <td>-3.318066</td>\n",
       "    </tr>\n",
       "  </tbody>\n",
       "</table>\n",
       "</div>"
      ],
      "text/plain": [
       "          loss    loss_rand  beta  beta_rand  diff_loss\n",
       "0  6120.571973  6043.725391   1.0        1.0  76.846582\n",
       "1  6416.991650  6507.025293   1.0        1.0 -90.033643\n",
       "2  7629.834082  7642.962598   1.0        1.0 -13.128516\n",
       "3  9844.549707  9850.500293   1.0        1.0  -5.950586\n",
       "4  9180.923535  9172.978809   1.0        1.0   7.944727\n",
       "5  6649.740869  6668.946631   1.0        1.0 -19.205762\n",
       "6  8682.861816  8695.245801   1.0        1.0 -12.383984\n",
       "7  9232.149316  9234.696875   1.0        1.0  -2.547559\n",
       "8  9569.857031  9573.175098   1.0        1.0  -3.318066"
      ]
     },
     "execution_count": 5,
     "metadata": {},
     "output_type": "execute_result"
    }
   ],
   "source": [
    "resss = pd.DataFrame({\"loss\":loss, \"loss_rand\":loss_rand, \"beta\": betas, \"beta_rand\":betas_rand})\n",
    "resss[\"diff_loss\"] = loss - loss_rand\n",
    "resss"
   ]
  },
  {
   "cell_type": "code",
   "execution_count": 6,
   "id": "fde7facd",
   "metadata": {},
   "outputs": [
    {
     "data": {
      "text/plain": [
       "(-6.864089626736233, 13.41548660851857)"
      ]
     },
     "execution_count": 6,
     "metadata": {},
     "output_type": "execute_result"
    }
   ],
   "source": [
    "resss[\"diff_loss\"].mean(), resss[\"diff_loss\"].std()/np.sqrt(10)"
   ]
  },
  {
   "cell_type": "code",
   "execution_count": 7,
   "id": "9cf828cf",
   "metadata": {},
   "outputs": [
    {
     "data": {
      "text/plain": [
       "13.41548660851857"
      ]
     },
     "execution_count": 7,
     "metadata": {},
     "output_type": "execute_result"
    }
   ],
   "source": [
    "resss[\"diff_loss\"].std()/np.sqrt(10)"
   ]
  },
  {
   "cell_type": "code",
   "execution_count": 8,
   "id": "79b67ce0",
   "metadata": {},
   "outputs": [
    {
     "data": {
      "text/plain": [
       "(9.71600125138721e-05, 7.954033935674908e-05)"
      ]
     },
     "execution_count": 8,
     "metadata": {},
     "output_type": "execute_result"
    }
   ],
   "source": [
    "gammas1_rand.mean(), gammas2_rand.mean()"
   ]
  },
  {
   "cell_type": "code",
   "execution_count": 9,
   "id": "a7150a2a",
   "metadata": {},
   "outputs": [
    {
     "data": {
      "text/plain": [
       "(0.0001745974198759222, 4.7118497807079824e-05)"
      ]
     },
     "execution_count": 9,
     "metadata": {},
     "output_type": "execute_result"
    }
   ],
   "source": [
    "gammas1.mean(), gammas2.mean()"
   ]
  },
  {
   "cell_type": "code",
   "execution_count": 21,
   "id": "7121f390",
   "metadata": {},
   "outputs": [
    {
     "data": {
      "text/plain": [
       "array([0.00013464, 0.00014642, 0.00021675, 0.00013684, 0.00015093,\n",
       "       0.00026247, 0.00016712, 0.00020144, 0.00015476])"
      ]
     },
     "execution_count": 21,
     "metadata": {},
     "output_type": "execute_result"
    }
   ],
   "source": [
    "gammas1"
   ]
  },
  {
   "cell_type": "code",
   "execution_count": 22,
   "id": "e98f8faf",
   "metadata": {},
   "outputs": [
    {
     "data": {
      "text/plain": [
       "(4.8131386600095006e-05, 2.5925434575284002e-05)"
      ]
     },
     "execution_count": 22,
     "metadata": {},
     "output_type": "execute_result"
    }
   ],
   "source": [
    "gammas1_rand.std(), gammas2_rand.std()"
   ]
  },
  {
   "cell_type": "code",
   "execution_count": 23,
   "id": "c6102c60",
   "metadata": {},
   "outputs": [
    {
     "data": {
      "text/plain": [
       "(array([6120.57197266, 6416.99165039, 7629.83408203, 9844.54970703,\n",
       "        9180.92353516, 6649.74086914, 8682.86181641, 9232.14931641,\n",
       "        9569.85703125]),\n",
       " array([6043.72539062, 6507.02529297, 7642.96259766, 9850.50029297,\n",
       "        9172.97880859, 6668.94663086, 8695.24580078, 9234.696875  ,\n",
       "        9573.17509766]))"
      ]
     },
     "execution_count": 23,
     "metadata": {},
     "output_type": "execute_result"
    }
   ],
   "source": [
    "loss, loss_rand"
   ]
  },
  {
   "cell_type": "code",
   "execution_count": 24,
   "id": "8becbf7c",
   "metadata": {},
   "outputs": [
    {
     "data": {
      "text/plain": [
       "(8147.497775607639, 8154.361865234374)"
      ]
     },
     "execution_count": 24,
     "metadata": {},
     "output_type": "execute_result"
    }
   ],
   "source": [
    "loss.mean(), loss_rand.mean()"
   ]
  },
  {
   "cell_type": "code",
   "execution_count": 12,
   "id": "ae8c69e2",
   "metadata": {},
   "outputs": [
    {
     "data": {
      "text/plain": [
       "0.999166271014589"
      ]
     },
     "execution_count": 12,
     "metadata": {},
     "output_type": "execute_result"
    }
   ],
   "source": [
    "(loss/loss_rand).mean()"
   ]
  },
  {
   "cell_type": "code",
   "execution_count": 25,
   "id": "3203cd47",
   "metadata": {},
   "outputs": [
    {
     "data": {
      "text/html": [
       "<div>\n",
       "<style scoped>\n",
       "    .dataframe tbody tr th:only-of-type {\n",
       "        vertical-align: middle;\n",
       "    }\n",
       "\n",
       "    .dataframe tbody tr th {\n",
       "        vertical-align: top;\n",
       "    }\n",
       "\n",
       "    .dataframe thead th {\n",
       "        text-align: right;\n",
       "    }\n",
       "</style>\n",
       "<table border=\"1\" class=\"dataframe\">\n",
       "  <thead>\n",
       "    <tr style=\"text-align: right;\">\n",
       "      <th></th>\n",
       "      <th>loss</th>\n",
       "      <th>loss_rand</th>\n",
       "      <th>beta</th>\n",
       "      <th>beta_rand</th>\n",
       "    </tr>\n",
       "  </thead>\n",
       "  <tbody>\n",
       "    <tr>\n",
       "      <th>0</th>\n",
       "      <td>6120.571973</td>\n",
       "      <td>6043.725391</td>\n",
       "      <td>1.0</td>\n",
       "      <td>1.0</td>\n",
       "    </tr>\n",
       "    <tr>\n",
       "      <th>1</th>\n",
       "      <td>6416.991650</td>\n",
       "      <td>6507.025293</td>\n",
       "      <td>1.0</td>\n",
       "      <td>1.0</td>\n",
       "    </tr>\n",
       "    <tr>\n",
       "      <th>2</th>\n",
       "      <td>7629.834082</td>\n",
       "      <td>7642.962598</td>\n",
       "      <td>1.0</td>\n",
       "      <td>1.0</td>\n",
       "    </tr>\n",
       "    <tr>\n",
       "      <th>3</th>\n",
       "      <td>9844.549707</td>\n",
       "      <td>9850.500293</td>\n",
       "      <td>1.0</td>\n",
       "      <td>1.0</td>\n",
       "    </tr>\n",
       "    <tr>\n",
       "      <th>4</th>\n",
       "      <td>9180.923535</td>\n",
       "      <td>9172.978809</td>\n",
       "      <td>1.0</td>\n",
       "      <td>1.0</td>\n",
       "    </tr>\n",
       "    <tr>\n",
       "      <th>5</th>\n",
       "      <td>6649.740869</td>\n",
       "      <td>6668.946631</td>\n",
       "      <td>1.0</td>\n",
       "      <td>1.0</td>\n",
       "    </tr>\n",
       "    <tr>\n",
       "      <th>6</th>\n",
       "      <td>8682.861816</td>\n",
       "      <td>8695.245801</td>\n",
       "      <td>1.0</td>\n",
       "      <td>1.0</td>\n",
       "    </tr>\n",
       "    <tr>\n",
       "      <th>7</th>\n",
       "      <td>9232.149316</td>\n",
       "      <td>9234.696875</td>\n",
       "      <td>1.0</td>\n",
       "      <td>1.0</td>\n",
       "    </tr>\n",
       "    <tr>\n",
       "      <th>8</th>\n",
       "      <td>9569.857031</td>\n",
       "      <td>9573.175098</td>\n",
       "      <td>1.0</td>\n",
       "      <td>1.0</td>\n",
       "    </tr>\n",
       "  </tbody>\n",
       "</table>\n",
       "</div>"
      ],
      "text/plain": [
       "          loss    loss_rand  beta  beta_rand\n",
       "0  6120.571973  6043.725391   1.0        1.0\n",
       "1  6416.991650  6507.025293   1.0        1.0\n",
       "2  7629.834082  7642.962598   1.0        1.0\n",
       "3  9844.549707  9850.500293   1.0        1.0\n",
       "4  9180.923535  9172.978809   1.0        1.0\n",
       "5  6649.740869  6668.946631   1.0        1.0\n",
       "6  8682.861816  8695.245801   1.0        1.0\n",
       "7  9232.149316  9234.696875   1.0        1.0\n",
       "8  9569.857031  9573.175098   1.0        1.0"
      ]
     },
     "execution_count": 25,
     "metadata": {},
     "output_type": "execute_result"
    }
   ],
   "source": [
    "resss = pd.DataFrame({\"loss\":loss, \"loss_rand\":loss_rand, \"beta\": betas, \"beta_rand\":betas_rand})\n",
    "resss"
   ]
  },
  {
   "cell_type": "code",
   "execution_count": 96,
   "id": "f2ba69d9",
   "metadata": {},
   "outputs": [
    {
     "data": {
      "text/plain": [
       "<AxesSubplot:>"
      ]
     },
     "execution_count": 96,
     "metadata": {},
     "output_type": "execute_result"
    }
   ],
   "source": [
    "res[\"gamma1\"][0:].rolling(100).mean().plot()"
   ]
  },
  {
   "cell_type": "code",
   "execution_count": null,
   "id": "0e7ea62f",
   "metadata": {},
   "outputs": [],
   "source": []
  },
  {
   "cell_type": "code",
   "execution_count": null,
   "id": "847b060a",
   "metadata": {},
   "outputs": [],
   "source": []
  }
 ],
 "metadata": {
  "kernelspec": {
   "display_name": "Python 3 (ipykernel)",
   "language": "python",
   "name": "python3"
  },
  "language_info": {
   "codemirror_mode": {
    "name": "ipython",
    "version": 3
   },
   "file_extension": ".py",
   "mimetype": "text/x-python",
   "name": "python",
   "nbconvert_exporter": "python",
   "pygments_lexer": "ipython3",
   "version": "3.8.5"
  }
 },
 "nbformat": 4,
 "nbformat_minor": 5
}
