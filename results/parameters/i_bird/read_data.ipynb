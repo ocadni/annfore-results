{
 "cells": [
  {
   "cell_type": "code",
   "execution_count": 1,
   "id": "0a8cd26a",
   "metadata": {},
   "outputs": [],
   "source": [
    "import pandas as pd"
   ]
  },
  {
   "cell_type": "code",
   "execution_count": 2,
   "id": "88fd6161",
   "metadata": {},
   "outputs": [],
   "source": [
    "ress={}\n",
    "ress_rand={}\n",
    "nun_seed=11\n",
    "gamma1=1.5e-4\n",
    "gamma2=3e-5\n",
    "for seed in range(1,nun_seed):\n",
    "    ress[seed] = pd.read_csv(f\"./data/eq_05_lrdata_deltas_2_gamma_n_326_d_10_tlim_12_lam_0.5_mu_1e-10_s_{seed}_pe_1_0_trace.gz\")    \n",
    "    ress_rand[seed] = pd.read_csv(f\"./data/eq_05_rand_lr_data_deltas_2_gamma_n_326_d_10_tlim_12_lam_0.5_mu_1e-10_s_{seed}_pe_1_0_trace.gz\")"
   ]
  },
  {
   "cell_type": "code",
   "execution_count": 3,
   "metadata": {},
   "outputs": [
    {
     "data": {
      "text/plain": [
       "<AxesSubplot:>"
      ]
     },
     "execution_count": 3,
     "metadata": {},
     "output_type": "execute_result"
    },
    {
     "data": {
      "image/png": "[encoded data removed]",
      "text/plain": [
       "<Figure size 432x288 with 1 Axes>"
      ]
     },
     "metadata": {
      "needs_background": "light"
     },
     "output_type": "display_data"
    }
   ],
   "source": [
    "seed=8\n",
    "ress_rand[seed][\"gamma2\"].plot()\n",
    "ress_rand[seed][\"gamma1\"].plot()"
   ]
  },
  {
   "cell_type": "code",
   "execution_count": 4,
   "id": "faafa201",
   "metadata": {},
   "outputs": [],
   "source": [
    "import numpy as np\n",
    "gammas1=[]\n",
    "gammas2=[]\n",
    "gammas1_rand=[]\n",
    "gammas2_rand=[]\n",
    "betas = []\n",
    "betas_rand = []\n",
    "for seed in range(1,nun_seed):\n",
    "    gammas1.append(ress[seed][\"gamma1\"][-100:].mean())\n",
    "    gammas2.append(ress[seed][\"gamma2\"][-100:].mean())\n",
    "    gammas1_rand.append(ress_rand[seed][\"gamma1\"][-100:].mean())\n",
    "    gammas2_rand.append(ress_rand[seed][\"gamma2\"][-100:].mean())\n",
    "    betas.append(ress[seed][\"beta\"].iloc[-1])\n",
    "    betas_rand.append(ress_rand[seed][\"beta\"].iloc[-1])\n",
    "gammas1 = np.array(gammas1)\n",
    "gammas2 = np.array(gammas2)\n",
    "gammas1_rand = np.array(gammas1_rand)\n",
    "gammas2_rand = np.array(gammas2_rand)"
   ]
  },
  {
   "cell_type": "code",
   "execution_count": 109,
   "id": "476f0918",
   "metadata": {},
   "outputs": [
    {
     "data": {
      "text/html": [
       "<div>\n",
       "<style scoped>\n",
       "    .dataframe tbody tr th:only-of-type {\n",
       "        vertical-align: middle;\n",
       "    }\n",
       "\n",
       "    .dataframe tbody tr th {\n",
       "        vertical-align: top;\n",
       "    }\n",
       "\n",
       "    .dataframe thead th {\n",
       "        text-align: right;\n",
       "    }\n",
       "</style>\n",
       "<table border=\"1\" class=\"dataframe\">\n",
       "  <thead>\n",
       "    <tr style=\"text-align: right;\">\n",
       "      <th></th>\n",
       "      <th>loss</th>\n",
       "      <th>loss_rand</th>\n",
       "      <th>beta</th>\n",
       "      <th>beta_rand</th>\n",
       "      <th>diff_loss</th>\n",
       "    </tr>\n",
       "  </thead>\n",
       "  <tbody>\n",
       "    <tr>\n",
       "      <th>0</th>\n",
       "      <td>-5983.166655</td>\n",
       "      <td>-5995.789780</td>\n",
       "      <td>1.0</td>\n",
       "      <td>1.0</td>\n",
       "      <td>12.623125</td>\n",
       "    </tr>\n",
       "    <tr>\n",
       "      <th>1</th>\n",
       "      <td>-6386.661406</td>\n",
       "      <td>-6399.398618</td>\n",
       "      <td>1.0</td>\n",
       "      <td>1.0</td>\n",
       "      <td>12.737212</td>\n",
       "    </tr>\n",
       "    <tr>\n",
       "      <th>2</th>\n",
       "      <td>-7604.285400</td>\n",
       "      <td>-7614.247612</td>\n",
       "      <td>1.0</td>\n",
       "      <td>1.0</td>\n",
       "      <td>9.962212</td>\n",
       "    </tr>\n",
       "    <tr>\n",
       "      <th>3</th>\n",
       "      <td>-9845.908232</td>\n",
       "      <td>-9848.598203</td>\n",
       "      <td>1.0</td>\n",
       "      <td>1.0</td>\n",
       "      <td>2.689971</td>\n",
       "    </tr>\n",
       "    <tr>\n",
       "      <th>4</th>\n",
       "      <td>-9167.227061</td>\n",
       "      <td>-9153.891816</td>\n",
       "      <td>1.0</td>\n",
       "      <td>1.0</td>\n",
       "      <td>-13.335244</td>\n",
       "    </tr>\n",
       "    <tr>\n",
       "      <th>5</th>\n",
       "      <td>-6609.402920</td>\n",
       "      <td>-6629.016465</td>\n",
       "      <td>1.0</td>\n",
       "      <td>1.0</td>\n",
       "      <td>19.613545</td>\n",
       "    </tr>\n",
       "    <tr>\n",
       "      <th>6</th>\n",
       "      <td>-8684.812168</td>\n",
       "      <td>-8688.818809</td>\n",
       "      <td>1.0</td>\n",
       "      <td>1.0</td>\n",
       "      <td>4.006641</td>\n",
       "    </tr>\n",
       "    <tr>\n",
       "      <th>7</th>\n",
       "      <td>-9227.198906</td>\n",
       "      <td>-9229.507461</td>\n",
       "      <td>1.0</td>\n",
       "      <td>1.0</td>\n",
       "      <td>2.308555</td>\n",
       "    </tr>\n",
       "    <tr>\n",
       "      <th>8</th>\n",
       "      <td>-9556.747295</td>\n",
       "      <td>-9563.075723</td>\n",
       "      <td>1.0</td>\n",
       "      <td>1.0</td>\n",
       "      <td>6.328428</td>\n",
       "    </tr>\n",
       "    <tr>\n",
       "      <th>9</th>\n",
       "      <td>-6977.737803</td>\n",
       "      <td>-6980.387471</td>\n",
       "      <td>1.0</td>\n",
       "      <td>1.0</td>\n",
       "      <td>2.649668</td>\n",
       "    </tr>\n",
       "  </tbody>\n",
       "</table>\n",
       "</div>"
      ],
      "text/plain": [
       "          loss    loss_rand  beta  beta_rand  diff_loss\n",
       "0 -5983.166655 -5995.789780   1.0        1.0  12.623125\n",
       "1 -6386.661406 -6399.398618   1.0        1.0  12.737212\n",
       "2 -7604.285400 -7614.247612   1.0        1.0   9.962212\n",
       "3 -9845.908232 -9848.598203   1.0        1.0   2.689971\n",
       "4 -9167.227061 -9153.891816   1.0        1.0 -13.335244\n",
       "5 -6609.402920 -6629.016465   1.0        1.0  19.613545\n",
       "6 -8684.812168 -8688.818809   1.0        1.0   4.006641\n",
       "7 -9227.198906 -9229.507461   1.0        1.0   2.308555\n",
       "8 -9556.747295 -9563.075723   1.0        1.0   6.328428\n",
       "9 -6977.737803 -6980.387471   1.0        1.0   2.649668"
      ]
     },
     "execution_count": 109,
     "metadata": {},
     "output_type": "execute_result"
    }
   ],
   "source": [
    "import numpy as np\n",
    "loss=[]\n",
    "loss_rand=[]\n",
    "for seed in range(1,nun_seed):\n",
    "    loss.append(ress[seed][\"loss\"][-100:].mean())\n",
    "    loss_rand.append(ress_rand[seed][\"loss\"][-100:].mean())\n",
    "loss = np.array(loss)\n",
    "loss_rand = np.array(loss_rand)\n",
    "resss = pd.DataFrame({\"loss\":-loss, \"loss_rand\":-loss_rand, \"beta\": betas, \"beta_rand\":betas_rand})\n",
    "resss[\"diff_loss\"] = -(loss - loss_rand)\n",
    "resss"
   ]
  },
  {
   "cell_type": "code",
   "execution_count": 112,
   "metadata": {},
   "outputs": [
    {
     "data": {
      "text/plain": [
       "Text(0, 0.5, '$\\\\gamma$')"
      ]
     },
     "execution_count": 112,
     "metadata": {},
     "output_type": "execute_result"
    },
    {
     "data": {
      "image/png": "[encoded data removed]",
      "text/plain": [
       "<Figure size 504x432 with 1 Axes>"
      ]
     },
     "metadata": {},
     "output_type": "display_data"
    }
   ],
   "source": [
    "import seaborn as sns\n",
    "import matplotlib.pyplot as plt\n",
    "\n",
    "f, ax = plt.subplots(figsize=(7, 6))\n",
    "\n",
    "# Plot the orbital period with horizontal boxes\n",
    "sns.boxplot(x=\"beta\", y=\"diff_loss\", data=resss,\n",
    "             width=0.4,fliersize=0)\n",
    "\n",
    "# Add in points to show each observation\n",
    "sns.stripplot(x=\"beta\", y=\"diff_loss\", data=resss,\n",
    "              size=5, linewidth=1, dodge=1, jitter=.02)\n",
    "\n",
    "# Tweak the visual presentation\n",
    "#ax.xaxis.grid(True)\n",
    "ax.set(ylabel=\"\")\n",
    "# Get the handles and labels. For this example it'll be 2 tuples\n",
    "# of length 4 each.\n",
    "handles, labels = ax.get_legend_handles_labels()\n",
    "\n",
    "# When creating the legend, only use the first two elements\n",
    "# to effectively remove the last two.\n",
    "l = plt.legend(handles[0:2], [\"$\\gamma_1$\", \"$\\gamma_2$\"], bbox_to_anchor=(0.75, 0.95), loc=2, borderaxespad=0.)\n",
    "\n",
    "#plt.hlines(1.5e-4, -0.7,1.7)\n",
    "#plt.hlines(3e-5, -0.7,1.7)\n",
    "ax.set_ylabel(\"$\\gamma$\")\n",
    "#sns.despine(trim=True, left=True)"
   ]
  },
  {
   "cell_type": "code",
   "execution_count": 25,
   "metadata": {},
   "outputs": [
    {
     "data": {
      "text/plain": [
       "(4.179690331675828e-05, 1.4406483303276168e-05)"
      ]
     },
     "execution_count": 25,
     "metadata": {},
     "output_type": "execute_result"
    }
   ],
   "source": [
    "gammas1_rand.std(), gammas2_rand.std()"
   ]
  },
  {
   "cell_type": "code",
   "execution_count": 31,
   "id": "dd3a1fdb",
   "metadata": {},
   "outputs": [
    {
     "data": {
      "text/html": [
       "<div>\n",
       "<style scoped>\n",
       "    .dataframe tbody tr th:only-of-type {\n",
       "        vertical-align: middle;\n",
       "    }\n",
       "\n",
       "    .dataframe tbody tr th {\n",
       "        vertical-align: top;\n",
       "    }\n",
       "\n",
       "    .dataframe thead th {\n",
       "        text-align: right;\n",
       "    }\n",
       "</style>\n",
       "<table border=\"1\" class=\"dataframe\">\n",
       "  <thead>\n",
       "    <tr style=\"text-align: right;\">\n",
       "      <th></th>\n",
       "      <th>val</th>\n",
       "      <th>type</th>\n",
       "      <th>model</th>\n",
       "      <th>inst</th>\n",
       "    </tr>\n",
       "  </thead>\n",
       "  <tbody>\n",
       "    <tr>\n",
       "      <th>0</th>\n",
       "      <td>0.000203</td>\n",
       "      <td>gamma1</td>\n",
       "      <td>true_model</td>\n",
       "      <td>0</td>\n",
       "    </tr>\n",
       "    <tr>\n",
       "      <th>1</th>\n",
       "      <td>0.000036</td>\n",
       "      <td>gamma2</td>\n",
       "      <td>true_model</td>\n",
       "      <td>0</td>\n",
       "    </tr>\n",
       "    <tr>\n",
       "      <th>2</th>\n",
       "      <td>0.000131</td>\n",
       "      <td>gamma1</td>\n",
       "      <td>null_model</td>\n",
       "      <td>0</td>\n",
       "    </tr>\n",
       "    <tr>\n",
       "      <th>3</th>\n",
       "      <td>0.000064</td>\n",
       "      <td>gamma2</td>\n",
       "      <td>null_model</td>\n",
       "      <td>0</td>\n",
       "    </tr>\n",
       "    <tr>\n",
       "      <th>4</th>\n",
       "      <td>0.000120</td>\n",
       "      <td>gamma1</td>\n",
       "      <td>true_model</td>\n",
       "      <td>1</td>\n",
       "    </tr>\n",
       "    <tr>\n",
       "      <th>5</th>\n",
       "      <td>0.000031</td>\n",
       "      <td>gamma2</td>\n",
       "      <td>true_model</td>\n",
       "      <td>1</td>\n",
       "    </tr>\n",
       "    <tr>\n",
       "      <th>6</th>\n",
       "      <td>0.000044</td>\n",
       "      <td>gamma1</td>\n",
       "      <td>null_model</td>\n",
       "      <td>1</td>\n",
       "    </tr>\n",
       "    <tr>\n",
       "      <th>7</th>\n",
       "      <td>0.000076</td>\n",
       "      <td>gamma2</td>\n",
       "      <td>null_model</td>\n",
       "      <td>1</td>\n",
       "    </tr>\n",
       "    <tr>\n",
       "      <th>8</th>\n",
       "      <td>0.000179</td>\n",
       "      <td>gamma1</td>\n",
       "      <td>true_model</td>\n",
       "      <td>2</td>\n",
       "    </tr>\n",
       "    <tr>\n",
       "      <th>9</th>\n",
       "      <td>0.000031</td>\n",
       "      <td>gamma2</td>\n",
       "      <td>true_model</td>\n",
       "      <td>2</td>\n",
       "    </tr>\n",
       "    <tr>\n",
       "      <th>10</th>\n",
       "      <td>0.000101</td>\n",
       "      <td>gamma1</td>\n",
       "      <td>null_model</td>\n",
       "      <td>2</td>\n",
       "    </tr>\n",
       "    <tr>\n",
       "      <th>11</th>\n",
       "      <td>0.000075</td>\n",
       "      <td>gamma2</td>\n",
       "      <td>null_model</td>\n",
       "      <td>2</td>\n",
       "    </tr>\n",
       "    <tr>\n",
       "      <th>12</th>\n",
       "      <td>0.000111</td>\n",
       "      <td>gamma1</td>\n",
       "      <td>true_model</td>\n",
       "      <td>3</td>\n",
       "    </tr>\n",
       "    <tr>\n",
       "      <th>13</th>\n",
       "      <td>0.000027</td>\n",
       "      <td>gamma2</td>\n",
       "      <td>true_model</td>\n",
       "      <td>3</td>\n",
       "    </tr>\n",
       "    <tr>\n",
       "      <th>14</th>\n",
       "      <td>0.000084</td>\n",
       "      <td>gamma1</td>\n",
       "      <td>null_model</td>\n",
       "      <td>3</td>\n",
       "    </tr>\n",
       "    <tr>\n",
       "      <th>15</th>\n",
       "      <td>0.000064</td>\n",
       "      <td>gamma2</td>\n",
       "      <td>null_model</td>\n",
       "      <td>3</td>\n",
       "    </tr>\n",
       "    <tr>\n",
       "      <th>16</th>\n",
       "      <td>0.000089</td>\n",
       "      <td>gamma1</td>\n",
       "      <td>true_model</td>\n",
       "      <td>4</td>\n",
       "    </tr>\n",
       "    <tr>\n",
       "      <th>17</th>\n",
       "      <td>0.000047</td>\n",
       "      <td>gamma2</td>\n",
       "      <td>true_model</td>\n",
       "      <td>4</td>\n",
       "    </tr>\n",
       "    <tr>\n",
       "      <th>18</th>\n",
       "      <td>0.000011</td>\n",
       "      <td>gamma1</td>\n",
       "      <td>null_model</td>\n",
       "      <td>4</td>\n",
       "    </tr>\n",
       "    <tr>\n",
       "      <th>19</th>\n",
       "      <td>0.000083</td>\n",
       "      <td>gamma2</td>\n",
       "      <td>null_model</td>\n",
       "      <td>4</td>\n",
       "    </tr>\n",
       "    <tr>\n",
       "      <th>20</th>\n",
       "      <td>0.000200</td>\n",
       "      <td>gamma1</td>\n",
       "      <td>true_model</td>\n",
       "      <td>5</td>\n",
       "    </tr>\n",
       "    <tr>\n",
       "      <th>21</th>\n",
       "      <td>0.000031</td>\n",
       "      <td>gamma2</td>\n",
       "      <td>true_model</td>\n",
       "      <td>5</td>\n",
       "    </tr>\n",
       "    <tr>\n",
       "      <th>22</th>\n",
       "      <td>0.000082</td>\n",
       "      <td>gamma1</td>\n",
       "      <td>null_model</td>\n",
       "      <td>5</td>\n",
       "    </tr>\n",
       "    <tr>\n",
       "      <th>23</th>\n",
       "      <td>0.000063</td>\n",
       "      <td>gamma2</td>\n",
       "      <td>null_model</td>\n",
       "      <td>5</td>\n",
       "    </tr>\n",
       "    <tr>\n",
       "      <th>24</th>\n",
       "      <td>0.000175</td>\n",
       "      <td>gamma1</td>\n",
       "      <td>true_model</td>\n",
       "      <td>6</td>\n",
       "    </tr>\n",
       "    <tr>\n",
       "      <th>25</th>\n",
       "      <td>0.000043</td>\n",
       "      <td>gamma2</td>\n",
       "      <td>true_model</td>\n",
       "      <td>6</td>\n",
       "    </tr>\n",
       "    <tr>\n",
       "      <th>26</th>\n",
       "      <td>0.000074</td>\n",
       "      <td>gamma1</td>\n",
       "      <td>null_model</td>\n",
       "      <td>6</td>\n",
       "    </tr>\n",
       "    <tr>\n",
       "      <th>27</th>\n",
       "      <td>0.000081</td>\n",
       "      <td>gamma2</td>\n",
       "      <td>null_model</td>\n",
       "      <td>6</td>\n",
       "    </tr>\n",
       "    <tr>\n",
       "      <th>28</th>\n",
       "      <td>0.000185</td>\n",
       "      <td>gamma1</td>\n",
       "      <td>true_model</td>\n",
       "      <td>7</td>\n",
       "    </tr>\n",
       "    <tr>\n",
       "      <th>29</th>\n",
       "      <td>0.000054</td>\n",
       "      <td>gamma2</td>\n",
       "      <td>true_model</td>\n",
       "      <td>7</td>\n",
       "    </tr>\n",
       "    <tr>\n",
       "      <th>30</th>\n",
       "      <td>0.000031</td>\n",
       "      <td>gamma1</td>\n",
       "      <td>null_model</td>\n",
       "      <td>7</td>\n",
       "    </tr>\n",
       "    <tr>\n",
       "      <th>31</th>\n",
       "      <td>0.000113</td>\n",
       "      <td>gamma2</td>\n",
       "      <td>null_model</td>\n",
       "      <td>7</td>\n",
       "    </tr>\n",
       "    <tr>\n",
       "      <th>32</th>\n",
       "      <td>0.000150</td>\n",
       "      <td>gamma1</td>\n",
       "      <td>true_model</td>\n",
       "      <td>8</td>\n",
       "    </tr>\n",
       "    <tr>\n",
       "      <th>33</th>\n",
       "      <td>0.000044</td>\n",
       "      <td>gamma2</td>\n",
       "      <td>true_model</td>\n",
       "      <td>8</td>\n",
       "    </tr>\n",
       "    <tr>\n",
       "      <th>34</th>\n",
       "      <td>0.000079</td>\n",
       "      <td>gamma1</td>\n",
       "      <td>null_model</td>\n",
       "      <td>8</td>\n",
       "    </tr>\n",
       "    <tr>\n",
       "      <th>35</th>\n",
       "      <td>0.000067</td>\n",
       "      <td>gamma2</td>\n",
       "      <td>null_model</td>\n",
       "      <td>8</td>\n",
       "    </tr>\n",
       "    <tr>\n",
       "      <th>36</th>\n",
       "      <td>0.000209</td>\n",
       "      <td>gamma1</td>\n",
       "      <td>true_model</td>\n",
       "      <td>9</td>\n",
       "    </tr>\n",
       "    <tr>\n",
       "      <th>37</th>\n",
       "      <td>0.000028</td>\n",
       "      <td>gamma2</td>\n",
       "      <td>true_model</td>\n",
       "      <td>9</td>\n",
       "    </tr>\n",
       "    <tr>\n",
       "      <th>38</th>\n",
       "      <td>0.000156</td>\n",
       "      <td>gamma1</td>\n",
       "      <td>null_model</td>\n",
       "      <td>9</td>\n",
       "    </tr>\n",
       "    <tr>\n",
       "      <th>39</th>\n",
       "      <td>0.000066</td>\n",
       "      <td>gamma2</td>\n",
       "      <td>null_model</td>\n",
       "      <td>9</td>\n",
       "    </tr>\n",
       "  </tbody>\n",
       "</table>\n",
       "</div>"
      ],
      "text/plain": [
       "         val    type       model  inst\n",
       "0   0.000203  gamma1  true_model     0\n",
       "1   0.000036  gamma2  true_model     0\n",
       "2   0.000131  gamma1  null_model     0\n",
       "3   0.000064  gamma2  null_model     0\n",
       "4   0.000120  gamma1  true_model     1\n",
       "5   0.000031  gamma2  true_model     1\n",
       "6   0.000044  gamma1  null_model     1\n",
       "7   0.000076  gamma2  null_model     1\n",
       "8   0.000179  gamma1  true_model     2\n",
       "9   0.000031  gamma2  true_model     2\n",
       "10  0.000101  gamma1  null_model     2\n",
       "11  0.000075  gamma2  null_model     2\n",
       "12  0.000111  gamma1  true_model     3\n",
       "13  0.000027  gamma2  true_model     3\n",
       "14  0.000084  gamma1  null_model     3\n",
       "15  0.000064  gamma2  null_model     3\n",
       "16  0.000089  gamma1  true_model     4\n",
       "17  0.000047  gamma2  true_model     4\n",
       "18  0.000011  gamma1  null_model     4\n",
       "19  0.000083  gamma2  null_model     4\n",
       "20  0.000200  gamma1  true_model     5\n",
       "21  0.000031  gamma2  true_model     5\n",
       "22  0.000082  gamma1  null_model     5\n",
       "23  0.000063  gamma2  null_model     5\n",
       "24  0.000175  gamma1  true_model     6\n",
       "25  0.000043  gamma2  true_model     6\n",
       "26  0.000074  gamma1  null_model     6\n",
       "27  0.000081  gamma2  null_model     6\n",
       "28  0.000185  gamma1  true_model     7\n",
       "29  0.000054  gamma2  true_model     7\n",
       "30  0.000031  gamma1  null_model     7\n",
       "31  0.000113  gamma2  null_model     7\n",
       "32  0.000150  gamma1  true_model     8\n",
       "33  0.000044  gamma2  true_model     8\n",
       "34  0.000079  gamma1  null_model     8\n",
       "35  0.000067  gamma2  null_model     8\n",
       "36  0.000209  gamma1  true_model     9\n",
       "37  0.000028  gamma2  true_model     9\n",
       "38  0.000156  gamma1  null_model     9\n",
       "39  0.000066  gamma2  null_model     9"
      ]
     },
     "execution_count": 31,
     "metadata": {},
     "output_type": "execute_result"
    }
   ],
   "source": [
    "res_gamma_temp = []\n",
    "for ii,i in enumerate(gammas1):\n",
    "    res_gamma_temp.append({\"val\":gammas1[ii],\"type\": \"gamma1\", \"model\":\"true_model\", \"inst\":ii})\n",
    "    res_gamma_temp.append({\"val\":gammas2[ii],\"type\": \"gamma2\", \"model\":\"true_model\", \"inst\":ii})\n",
    "    res_gamma_temp.append({\"val\":gammas1_rand[ii],\"type\": \"gamma1\", \"model\":\"null_model\", \"inst\":ii})\n",
    "    res_gamma_temp.append({\"val\":gammas2_rand[ii],\"type\": \"gamma2\", \"model\":\"null_model\" , \"inst\":ii})\n",
    "res_gamma = pd.DataFrame(res_gamma_temp)\n",
    "res_gamma"
   ]
  },
  {
   "cell_type": "code",
   "execution_count": 32,
   "metadata": {},
   "outputs": [
    {
     "data": {
      "image/png": "[encoded data removed]",
      "text/plain": [
       "<Figure size 432x288 with 1 Axes>"
      ]
     },
     "metadata": {
      "needs_background": "light"
     },
     "output_type": "display_data"
    }
   ],
   "source": [
    "%matplotlib inline\n",
    "import matplotlib.pyplot as plt\n",
    "fig,ax = plt.subplots(1)\n",
    "seed=5\n",
    "ress[seed][\"loss\"].plot(label=\"true\")\n",
    "ress_rand[seed][\"loss\"].plot(label=\"rand\")\n",
    "ax.legend()\n",
    "ax.set_ylim(ress_rand[seed][\"loss\"].iloc[-1]-10, ress_rand[seed][\"loss\"].iloc[-1]+25)\n",
    "plt.show()\n"
   ]
  },
  {
   "cell_type": "code",
   "execution_count": 106,
   "metadata": {},
   "outputs": [
    {
     "data": {
      "text/plain": [
       "Text(0, 0.5, '$\\\\gamma$')"
      ]
     },
     "execution_count": 106,
     "metadata": {},
     "output_type": "execute_result"
    },
    {
     "data": {
      "image/png": "[encoded data removed]",
      "text/plain": [
       "<Figure size 504x432 with 1 Axes>"
      ]
     },
     "metadata": {},
     "output_type": "display_data"
    }
   ],
   "source": [
    "import seaborn as sns\n",
    "import matplotlib.pyplot as plt\n",
    "\n",
    "sns.set_theme(style=\"ticks\")\n",
    "\n",
    "# Initialize the figure with a logarithmic x axis\n",
    "f, ax = plt.subplots(figsize=(7, 6))\n",
    "\n",
    "# Plot the orbital period with horizontal boxes\n",
    "sns.boxplot(x=\"model\", y=\"val\",hue=\"type\", data=res_gamma,\n",
    "            whis=[0, 100], width=0.8,fliersize=0)\n",
    "\n",
    "# Add in points to show each observation\n",
    "sns.stripplot(x=\"model\", y=\"val\", hue=\"type\", data=res_gamma,\n",
    "              size=5, linewidth=1, dodge=1, jitter=.05)\n",
    "\n",
    "# Tweak the visual presentation\n",
    "#ax.xaxis.grid(True)\n",
    "ax.set(ylabel=\"\")\n",
    "# Get the handles and labels. For this example it'll be 2 tuples\n",
    "# of length 4 each.\n",
    "handles, labels = ax.get_legend_handles_labels()\n",
    "\n",
    "# When creating the legend, only use the first two elements\n",
    "# to effectively remove the last two.\n",
    "l = plt.legend(handles[0:2], [\"$\\gamma_1$\", \"$\\gamma_2$\"], bbox_to_anchor=(0.75, 0.95), loc=2, borderaxespad=0.)\n",
    "\n",
    "plt.hlines(1.5e-4, -0.7,1.7)\n",
    "plt.hlines(3e-5, -0.7,1.7)\n",
    "ax.set_ylabel(\"$\\gamma$\")\n",
    "#sns.despine(trim=True, left=True)"
   ]
  },
  {
   "cell_type": "code",
   "execution_count": 99,
   "metadata": {},
   "outputs": [
    {
     "data": {
      "text/plain": [
       "(-0.7, 1.7)"
      ]
     },
     "execution_count": 99,
     "metadata": {},
     "output_type": "execute_result"
    }
   ],
   "source": []
  },
  {
   "cell_type": "code",
   "execution_count": 9,
   "metadata": {},
   "outputs": [
    {
     "data": {
      "text/html": [
       "<div>\n",
       "<style scoped>\n",
       "    .dataframe tbody tr th:only-of-type {\n",
       "        vertical-align: middle;\n",
       "    }\n",
       "\n",
       "    .dataframe tbody tr th {\n",
       "        vertical-align: top;\n",
       "    }\n",
       "\n",
       "    .dataframe thead th {\n",
       "        text-align: right;\n",
       "    }\n",
       "</style>\n",
       "<table border=\"1\" class=\"dataframe\">\n",
       "  <thead>\n",
       "    <tr style=\"text-align: right;\">\n",
       "      <th></th>\n",
       "      <th>loss</th>\n",
       "      <th>type</th>\n",
       "      <th>inst</th>\n",
       "    </tr>\n",
       "  </thead>\n",
       "  <tbody>\n",
       "    <tr>\n",
       "      <th>0</th>\n",
       "      <td>5983.150244</td>\n",
       "      <td>true_model</td>\n",
       "      <td>0</td>\n",
       "    </tr>\n",
       "    <tr>\n",
       "      <th>1</th>\n",
       "      <td>5995.786377</td>\n",
       "      <td>null_model</td>\n",
       "      <td>0</td>\n",
       "    </tr>\n",
       "    <tr>\n",
       "      <th>2</th>\n",
       "      <td>6386.599609</td>\n",
       "      <td>true_model</td>\n",
       "      <td>1</td>\n",
       "    </tr>\n",
       "    <tr>\n",
       "      <th>3</th>\n",
       "      <td>6399.395508</td>\n",
       "      <td>null_model</td>\n",
       "      <td>1</td>\n",
       "    </tr>\n",
       "    <tr>\n",
       "      <th>4</th>\n",
       "      <td>7604.255566</td>\n",
       "      <td>true_model</td>\n",
       "      <td>2</td>\n",
       "    </tr>\n",
       "    <tr>\n",
       "      <th>5</th>\n",
       "      <td>7614.246240</td>\n",
       "      <td>null_model</td>\n",
       "      <td>2</td>\n",
       "    </tr>\n",
       "    <tr>\n",
       "      <th>6</th>\n",
       "      <td>9845.893164</td>\n",
       "      <td>true_model</td>\n",
       "      <td>3</td>\n",
       "    </tr>\n",
       "    <tr>\n",
       "      <th>7</th>\n",
       "      <td>9848.597754</td>\n",
       "      <td>null_model</td>\n",
       "      <td>3</td>\n",
       "    </tr>\n",
       "    <tr>\n",
       "      <th>8</th>\n",
       "      <td>9167.214941</td>\n",
       "      <td>true_model</td>\n",
       "      <td>4</td>\n",
       "    </tr>\n",
       "    <tr>\n",
       "      <th>9</th>\n",
       "      <td>9153.891504</td>\n",
       "      <td>null_model</td>\n",
       "      <td>4</td>\n",
       "    </tr>\n",
       "    <tr>\n",
       "      <th>10</th>\n",
       "      <td>6609.381641</td>\n",
       "      <td>true_model</td>\n",
       "      <td>5</td>\n",
       "    </tr>\n",
       "    <tr>\n",
       "      <th>11</th>\n",
       "      <td>6629.008887</td>\n",
       "      <td>null_model</td>\n",
       "      <td>5</td>\n",
       "    </tr>\n",
       "    <tr>\n",
       "      <th>12</th>\n",
       "      <td>8684.796777</td>\n",
       "      <td>true_model</td>\n",
       "      <td>6</td>\n",
       "    </tr>\n",
       "    <tr>\n",
       "      <th>13</th>\n",
       "      <td>8688.816699</td>\n",
       "      <td>null_model</td>\n",
       "      <td>6</td>\n",
       "    </tr>\n",
       "    <tr>\n",
       "      <th>14</th>\n",
       "      <td>9227.190430</td>\n",
       "      <td>true_model</td>\n",
       "      <td>7</td>\n",
       "    </tr>\n",
       "    <tr>\n",
       "      <th>15</th>\n",
       "      <td>9229.506934</td>\n",
       "      <td>null_model</td>\n",
       "      <td>7</td>\n",
       "    </tr>\n",
       "    <tr>\n",
       "      <th>16</th>\n",
       "      <td>9556.712891</td>\n",
       "      <td>true_model</td>\n",
       "      <td>8</td>\n",
       "    </tr>\n",
       "    <tr>\n",
       "      <th>17</th>\n",
       "      <td>9563.075586</td>\n",
       "      <td>null_model</td>\n",
       "      <td>8</td>\n",
       "    </tr>\n",
       "    <tr>\n",
       "      <th>18</th>\n",
       "      <td>6977.724805</td>\n",
       "      <td>true_model</td>\n",
       "      <td>9</td>\n",
       "    </tr>\n",
       "    <tr>\n",
       "      <th>19</th>\n",
       "      <td>6980.387939</td>\n",
       "      <td>null_model</td>\n",
       "      <td>9</td>\n",
       "    </tr>\n",
       "  </tbody>\n",
       "</table>\n",
       "</div>"
      ],
      "text/plain": [
       "           loss        type  inst\n",
       "0   5983.150244  true_model     0\n",
       "1   5995.786377  null_model     0\n",
       "2   6386.599609  true_model     1\n",
       "3   6399.395508  null_model     1\n",
       "4   7604.255566  true_model     2\n",
       "5   7614.246240  null_model     2\n",
       "6   9845.893164  true_model     3\n",
       "7   9848.597754  null_model     3\n",
       "8   9167.214941  true_model     4\n",
       "9   9153.891504  null_model     4\n",
       "10  6609.381641  true_model     5\n",
       "11  6629.008887  null_model     5\n",
       "12  8684.796777  true_model     6\n",
       "13  8688.816699  null_model     6\n",
       "14  9227.190430  true_model     7\n",
       "15  9229.506934  null_model     7\n",
       "16  9556.712891  true_model     8\n",
       "17  9563.075586  null_model     8\n",
       "18  6977.724805  true_model     9\n",
       "19  6980.387939  null_model     9"
      ]
     },
     "execution_count": 9,
     "metadata": {},
     "output_type": "execute_result"
    }
   ],
   "source": [
    "resss = pd.DataFrame({\"loss\":loss, \"loss_rand\":loss_rand, \"beta\": betas, \"beta_rand\":betas_rand})\n",
    "temp_df = []\n",
    "for ii,i in enumerate(resss.iloc):\n",
    "    temp_df.append({\"loss\":i[\"loss\"],\"type\": \"true_model\", \"inst\":ii})\n",
    "    temp_df.append({\"loss\":i[\"loss_rand\"], \"type\": \"null_model\", \"inst\":ii})\n",
    "res_plot = pd.DataFrame(temp_df)\n",
    "resss[\"diff_loss\"] = loss - loss_rand\n",
    "res_plot"
   ]
  },
  {
   "cell_type": "code",
   "execution_count": 10,
   "metadata": {},
   "outputs": [
    {
     "data": {
      "text/plain": [
       "array([2.03299162e-04, 1.19987337e-04, 1.79389346e-04, 1.11141475e-04,\n",
       "       8.92857570e-05, 2.00304465e-04, 1.74928035e-04, 1.85228884e-04,\n",
       "       1.50021791e-04, 2.08985308e-04])"
      ]
     },
     "execution_count": 10,
     "metadata": {},
     "output_type": "execute_result"
    }
   ],
   "source": [
    "gammas1"
   ]
  },
  {
   "cell_type": "code",
   "execution_count": 17,
   "id": "fde7facd",
   "metadata": {},
   "outputs": [
    {
     "data": {
      "text/plain": [
       "([0.00020329916151240013,\n",
       "  0.00016164324915729993,\n",
       "  0.00016755861482423343,\n",
       "  0.00015345432984755001,\n",
       "  0.00014062061527507827,\n",
       "  0.00015056792350753186,\n",
       "  0.00015404793936921301,\n",
       "  0.0001579455574755739,\n",
       "  0.0001570651390162546,\n",
       "  0.00016225715589821915],\n",
       " [0.0,\n",
       "  2.945517810280383e-05,\n",
       "  2.022204345678467e-05,\n",
       "  1.9473619383917102e-05,\n",
       "  1.935110769450496e-05,\n",
       "  1.8506832414942367e-05,\n",
       "  1.6186883007829372e-05,\n",
       "  1.4625247754588644e-05,\n",
       "  1.3026693221991937e-05,\n",
       "  1.2716684779267578e-05])"
      ]
     },
     "execution_count": 17,
     "metadata": {},
     "output_type": "execute_result"
    }
   ],
   "source": [
    "gammas1_mean = [gammas1[:i].mean() for i in range(1,len(gammas1)+1)]\n",
    "gammas1_std = [gammas1[:i].std()/np.sqrt(i) for i in range(1,len(gammas1)+1)]\n",
    "gammas1_mean, gammas1_std"
   ]
  },
  {
   "cell_type": "code",
   "execution_count": 12,
   "id": "9cf828cf",
   "metadata": {},
   "outputs": [
    {
     "data": {
      "text/plain": [
       "2.7985225729052767"
      ]
     },
     "execution_count": 12,
     "metadata": {},
     "output_type": "execute_result"
    }
   ],
   "source": [
    "resss[\"diff_loss\"].std()/np.sqrt(10)"
   ]
  },
  {
   "cell_type": "code",
   "execution_count": 13,
   "id": "79b67ce0",
   "metadata": {},
   "outputs": [
    {
     "ename": "AttributeError",
     "evalue": "'Figure' object has no attribute 'err'",
     "output_type": "error",
     "traceback": [
      "\u001b[0;31m---------------------------------------------------------------------------\u001b[0m",
      "\u001b[0;31mAttributeError\u001b[0m                            Traceback (most recent call last)",
      "\u001b[0;32m/var/folders/jy/gjfds_4d4xsfqkq02klzlj240000gn/T/ipykernel_41932/1809960886.py\u001b[0m in \u001b[0;36m<module>\u001b[0;34m\u001b[0m\n\u001b[1;32m      1\u001b[0m \u001b[0;32mimport\u001b[0m \u001b[0mmatplotlib\u001b[0m\u001b[0;34m.\u001b[0m\u001b[0mpyplot\u001b[0m \u001b[0;32mas\u001b[0m \u001b[0mplt\u001b[0m\u001b[0;34m\u001b[0m\u001b[0;34m\u001b[0m\u001b[0m\n\u001b[1;32m      2\u001b[0m \u001b[0max\u001b[0m\u001b[0;34m,\u001b[0m \u001b[0mfig\u001b[0m \u001b[0;34m=\u001b[0m \u001b[0mplt\u001b[0m\u001b[0;34m.\u001b[0m\u001b[0msubplots\u001b[0m\u001b[0;34m(\u001b[0m\u001b[0;36m1\u001b[0m\u001b[0;34m)\u001b[0m\u001b[0;34m\u001b[0m\u001b[0;34m\u001b[0m\u001b[0m\n\u001b[0;32m----> 3\u001b[0;31m \u001b[0max\u001b[0m\u001b[0;34m.\u001b[0m\u001b[0merr\u001b[0m\u001b[0;34m\u001b[0m\u001b[0;34m\u001b[0m\u001b[0m\n\u001b[0m",
      "\u001b[0;31mAttributeError\u001b[0m: 'Figure' object has no attribute 'err'"
     ]
    },
    {
     "data": {
      "image/png": "[encoded data removed]",
      "text/plain": [
       "<Figure size 432x288 with 1 Axes>"
      ]
     },
     "metadata": {},
     "output_type": "display_data"
    }
   ],
   "source": [
    "import matplotlib.pyplot as plt\n",
    "ax, fig = plt.subplots(1)\n",
    "ax.err"
   ]
  },
  {
   "cell_type": "code",
   "execution_count": 18,
   "id": "a7150a2a",
   "metadata": {},
   "outputs": [
    {
     "data": {
      "text/plain": [
       "(0.00016225715589821915, 3.711076406034408e-05)"
      ]
     },
     "execution_count": 18,
     "metadata": {},
     "output_type": "execute_result"
    }
   ],
   "source": [
    "gammas1.mean(), gammas2.mean()"
   ]
  },
  {
   "cell_type": "code",
   "execution_count": 19,
   "id": "7121f390",
   "metadata": {},
   "outputs": [
    {
     "data": {
      "text/plain": [
       "array([2.03299162e-04, 1.19987337e-04, 1.79389346e-04, 1.11141475e-04,\n",
       "       8.92857570e-05, 2.00304465e-04, 1.74928035e-04, 1.85228884e-04,\n",
       "       1.50021791e-04, 2.08985308e-04])"
      ]
     },
     "execution_count": 19,
     "metadata": {},
     "output_type": "execute_result"
    }
   ],
   "source": [
    "gammas1"
   ]
  },
  {
   "cell_type": "code",
   "execution_count": 20,
   "id": "e98f8faf",
   "metadata": {},
   "outputs": [
    {
     "data": {
      "text/plain": [
       "(7.925755926405926e-05, 7.534584947279613e-05)"
      ]
     },
     "execution_count": 20,
     "metadata": {},
     "output_type": "execute_result"
    }
   ],
   "source": [
    "gammas1_rand.mean(), gammas2_rand.mean()"
   ]
  },
  {
   "cell_type": "code",
   "execution_count": 106,
   "metadata": {},
   "outputs": [
    {
     "data": {
      "text/plain": [
       "(4.521998178012648e-05, 9.092196655842168e-06)"
      ]
     },
     "execution_count": 106,
     "metadata": {},
     "output_type": "execute_result"
    }
   ],
   "source": [
    "gammas1_rand.std(), gammas2_rand.std()"
   ]
  },
  {
   "cell_type": "code",
   "execution_count": 107,
   "id": "c6102c60",
   "metadata": {},
   "outputs": [
    {
     "data": {
      "text/plain": [
       "(array([5983.15024414, 6386.59960938, 7604.25556641, 9845.89316406,\n",
       "        9167.21494141, 6609.38164062, 8684.79677734, 9227.19042969,\n",
       "        9556.71289062, 6977.72480469]),\n",
       " array([5999.97211914, 6392.50141602, 7617.45683594, 9848.64853516,\n",
       "        9159.37451172, 6636.19462891, 8687.70625   , 9231.10664062,\n",
       "        9563.28398438, 6979.9019043 ]))"
      ]
     },
     "execution_count": 107,
     "metadata": {},
     "output_type": "execute_result"
    }
   ],
   "source": [
    "loss, loss_rand"
   ]
  },
  {
   "cell_type": "code",
   "execution_count": 108,
   "id": "8becbf7c",
   "metadata": {},
   "outputs": [
    {
     "data": {
      "text/plain": [
       "(8004.292006835936, 8011.614682617187)"
      ]
     },
     "execution_count": 108,
     "metadata": {},
     "output_type": "execute_result"
    }
   ],
   "source": [
    "loss.mean(), loss_rand.mean()"
   ]
  },
  {
   "cell_type": "code",
   "execution_count": 109,
   "id": "ae8c69e2",
   "metadata": {},
   "outputs": [
    {
     "data": {
      "text/plain": [
       "0.998931772384001"
      ]
     },
     "execution_count": 109,
     "metadata": {},
     "output_type": "execute_result"
    }
   ],
   "source": [
    "(loss/loss_rand).mean()"
   ]
  },
  {
   "cell_type": "code",
   "execution_count": 110,
   "id": "3203cd47",
   "metadata": {},
   "outputs": [
    {
     "data": {
      "text/html": [
       "<div>\n",
       "<style scoped>\n",
       "    .dataframe tbody tr th:only-of-type {\n",
       "        vertical-align: middle;\n",
       "    }\n",
       "\n",
       "    .dataframe tbody tr th {\n",
       "        vertical-align: top;\n",
       "    }\n",
       "\n",
       "    .dataframe thead th {\n",
       "        text-align: right;\n",
       "    }\n",
       "</style>\n",
       "<table border=\"1\" class=\"dataframe\">\n",
       "  <thead>\n",
       "    <tr style=\"text-align: right;\">\n",
       "      <th></th>\n",
       "      <th>loss</th>\n",
       "      <th>loss_rand</th>\n",
       "      <th>beta</th>\n",
       "      <th>beta_rand</th>\n",
       "    </tr>\n",
       "  </thead>\n",
       "  <tbody>\n",
       "    <tr>\n",
       "      <th>0</th>\n",
       "      <td>5983.150244</td>\n",
       "      <td>5999.972119</td>\n",
       "      <td>1.0</td>\n",
       "      <td>1.0</td>\n",
       "    </tr>\n",
       "    <tr>\n",
       "      <th>1</th>\n",
       "      <td>6386.599609</td>\n",
       "      <td>6392.501416</td>\n",
       "      <td>1.0</td>\n",
       "      <td>1.0</td>\n",
       "    </tr>\n",
       "    <tr>\n",
       "      <th>2</th>\n",
       "      <td>7604.255566</td>\n",
       "      <td>7617.456836</td>\n",
       "      <td>1.0</td>\n",
       "      <td>1.0</td>\n",
       "    </tr>\n",
       "    <tr>\n",
       "      <th>3</th>\n",
       "      <td>9845.893164</td>\n",
       "      <td>9848.648535</td>\n",
       "      <td>1.0</td>\n",
       "      <td>1.0</td>\n",
       "    </tr>\n",
       "    <tr>\n",
       "      <th>4</th>\n",
       "      <td>9167.214941</td>\n",
       "      <td>9159.374512</td>\n",
       "      <td>1.0</td>\n",
       "      <td>1.0</td>\n",
       "    </tr>\n",
       "    <tr>\n",
       "      <th>5</th>\n",
       "      <td>6609.381641</td>\n",
       "      <td>6636.194629</td>\n",
       "      <td>1.0</td>\n",
       "      <td>1.0</td>\n",
       "    </tr>\n",
       "    <tr>\n",
       "      <th>6</th>\n",
       "      <td>8684.796777</td>\n",
       "      <td>8687.706250</td>\n",
       "      <td>1.0</td>\n",
       "      <td>1.0</td>\n",
       "    </tr>\n",
       "    <tr>\n",
       "      <th>7</th>\n",
       "      <td>9227.190430</td>\n",
       "      <td>9231.106641</td>\n",
       "      <td>1.0</td>\n",
       "      <td>1.0</td>\n",
       "    </tr>\n",
       "    <tr>\n",
       "      <th>8</th>\n",
       "      <td>9556.712891</td>\n",
       "      <td>9563.283984</td>\n",
       "      <td>1.0</td>\n",
       "      <td>1.0</td>\n",
       "    </tr>\n",
       "    <tr>\n",
       "      <th>9</th>\n",
       "      <td>6977.724805</td>\n",
       "      <td>6979.901904</td>\n",
       "      <td>1.0</td>\n",
       "      <td>1.0</td>\n",
       "    </tr>\n",
       "  </tbody>\n",
       "</table>\n",
       "</div>"
      ],
      "text/plain": [
       "          loss    loss_rand  beta  beta_rand\n",
       "0  5983.150244  5999.972119   1.0        1.0\n",
       "1  6386.599609  6392.501416   1.0        1.0\n",
       "2  7604.255566  7617.456836   1.0        1.0\n",
       "3  9845.893164  9848.648535   1.0        1.0\n",
       "4  9167.214941  9159.374512   1.0        1.0\n",
       "5  6609.381641  6636.194629   1.0        1.0\n",
       "6  8684.796777  8687.706250   1.0        1.0\n",
       "7  9227.190430  9231.106641   1.0        1.0\n",
       "8  9556.712891  9563.283984   1.0        1.0\n",
       "9  6977.724805  6979.901904   1.0        1.0"
      ]
     },
     "execution_count": 110,
     "metadata": {},
     "output_type": "execute_result"
    }
   ],
   "source": [
    "resss = pd.DataFrame({\"loss\":loss, \"loss_rand\":loss_rand, \"beta\": betas, \"beta_rand\":betas_rand})\n",
    "resss"
   ]
  },
  {
   "cell_type": "code",
   "execution_count": 111,
   "id": "f2ba69d9",
   "metadata": {},
   "outputs": [
    {
     "ename": "NameError",
     "evalue": "name 'res' is not defined",
     "output_type": "error",
     "traceback": [
      "\u001b[0;31m---------------------------------------------------------------------------\u001b[0m",
      "\u001b[0;31mNameError\u001b[0m                                 Traceback (most recent call last)",
      "\u001b[0;32m/var/folders/jy/gjfds_4d4xsfqkq02klzlj240000gn/T/ipykernel_30883/2670747215.py\u001b[0m in \u001b[0;36m<module>\u001b[0;34m\u001b[0m\n\u001b[0;32m----> 1\u001b[0;31m \u001b[0mres\u001b[0m\u001b[0;34m[\u001b[0m\u001b[0;34m\"gamma1\"\u001b[0m\u001b[0;34m]\u001b[0m\u001b[0;34m[\u001b[0m\u001b[0;36m0\u001b[0m\u001b[0;34m:\u001b[0m\u001b[0;34m]\u001b[0m\u001b[0;34m.\u001b[0m\u001b[0mrolling\u001b[0m\u001b[0;34m(\u001b[0m\u001b[0;36m100\u001b[0m\u001b[0;34m)\u001b[0m\u001b[0;34m.\u001b[0m\u001b[0mmean\u001b[0m\u001b[0;34m(\u001b[0m\u001b[0;34m)\u001b[0m\u001b[0;34m.\u001b[0m\u001b[0mplot\u001b[0m\u001b[0;34m(\u001b[0m\u001b[0;34m)\u001b[0m\u001b[0;34m\u001b[0m\u001b[0;34m\u001b[0m\u001b[0m\n\u001b[0m",
      "\u001b[0;31mNameError\u001b[0m: name 'res' is not defined"
     ]
    }
   ],
   "source": [
    "res[\"gamma1\"][0:].rolling(100).mean().plot()"
   ]
  },
  {
   "cell_type": "code",
   "execution_count": null,
   "id": "0e7ea62f",
   "metadata": {},
   "outputs": [],
   "source": []
  },
  {
   "cell_type": "code",
   "execution_count": null,
   "id": "847b060a",
   "metadata": {},
   "outputs": [],
   "source": []
  }
 ],
 "metadata": {
  "interpreter": {
   "hash": "2e62f657b8d8ca5305e9e864a899c987e9ce197630d8440f981c5ae49f158ad2"
  },
  "kernelspec": {
   "display_name": "Python 3.8.12 64-bit ('base': conda)",
   "name": "python3"
  },
  "language_info": {
   "codemirror_mode": {
    "name": "ipython",
    "version": 3
   },
   "file_extension": ".py",
   "mimetype": "text/x-python",
   "name": "python",
   "nbconvert_exporter": "python",
   "pygments_lexer": "ipython3",
   "version": "3.8.12"
  }
 },
 "nbformat": 4,
 "nbformat_minor": 5
}
