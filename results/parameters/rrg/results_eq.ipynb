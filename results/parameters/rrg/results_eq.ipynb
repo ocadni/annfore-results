{
 "cells": [
  {
   "cell_type": "code",
   "execution_count": 59,
   "metadata": {},
   "outputs": [],
   "source": [
    "import pandas as pd\n",
    "import numpy as np\n",
    "import torch\n",
    "import sys\n",
    "\n",
    "sys.path.insert(0, '../../../src/')\n",
    "from utils.script_utils import create_parser, create_data_\n",
    "sys.path.insert(0, '../../../scripts/')\n",
    "from softmargin_run_new import add_arg_parser"
   ]
  },
  {
   "cell_type": "code",
   "execution_count": 62,
   "metadata": {},
   "outputs": [],
   "source": [
    "seeds = np.arange(1,11).tolist()\n",
    "num_conf = 1\n",
    "\n",
    "parser = create_parser()\n",
    "add_arg_parser(parser)\n",
    "args = parser.parse_args(\"\")\n",
    "args.type_graph=\"RRG\"\n",
    "\n",
    "args.N = 100\n",
    "args.d=10\n",
    "args.h = 3\n",
    "args.t_limit = 15 # Numbers of epoch of our epidemics spreading [0,1,...,T_limit-1]\n",
    "args.lambda_ = 0.04 # probability of infection\n",
    "args.mu = 0.02 # probability of recovery\n",
    "args.p_edge = 1\n",
    "args.scale=2\n",
    "args.ninf_min=5\n",
    "path_dir = \"./data\"\n",
    "if path_dir == \"not_setted\":\n",
    "    path_dir = type_graph"
   ]
  },
  {
   "cell_type": "code",
   "execution_count": 63,
   "metadata": {},
   "outputs": [
    {
     "name": "stdout",
     "output_type": "stream",
     "text": [
      "\n",
      "SEED: 1\n",
      "nodes:100, edges:500\n",
      "number of contacts: 15000\n",
      "Lim infected: 5, Lim max infected: 101\n",
      "Num sources:  1\n",
      " # conf 1,mean infected: 81.0, mean recover: 10.0, max num infected: 81\n",
      "0 (0.00%) epidemies refused\n",
      "\n",
      "S:19, I:71, R:10\n",
      "RRG_n_100_d_10_tlim_15_lam_0.04_mu_0.02_s_1_pe_1\n",
      "\n",
      "SEED: 2\n",
      "nodes:100, edges:500\n",
      "number of contacts: 15000\n",
      "Lim infected: 5, Lim max infected: 101\n",
      "Num sources:  1\n",
      " # conf 1,mean infected: 42.0, mean recover: 2.0, max num infected: 42\n",
      "0 (0.00%) epidemies refused\n",
      "\n",
      "S:58, I:40, R:2\n",
      "RRG_n_100_d_10_tlim_15_lam_0.04_mu_0.02_s_2_pe_1\n",
      "\n",
      "SEED: 3\n",
      "nodes:100, edges:500\n",
      "number of contacts: 15000\n",
      "Lim infected: 5, Lim max infected: 101\n",
      "Num sources:  1\n",
      " # conf 1,mean infected: 6.0, mean recover: 1.0, max num infected: 6\n",
      "0 (0.00%) epidemies refused\n",
      "\n",
      "S:94, I:5, R:1\n",
      "RRG_n_100_d_10_tlim_15_lam_0.04_mu_0.02_s_3_pe_1\n",
      "\n",
      "SEED: 4\n",
      "nodes:100, edges:500\n",
      "number of contacts: 15000\n",
      "Lim infected: 5, Lim max infected: 101\n",
      "Num sources:  1\n",
      " # conf 1,mean infected: 29.0, mean recover: 1.0, max num infected: 29\n",
      "0 (0.00%) epidemies refused\n",
      "\n",
      "S:71, I:28, R:1\n",
      "RRG_n_100_d_10_tlim_15_lam_0.04_mu_0.02_s_4_pe_1\n",
      "\n",
      "SEED: 5\n",
      "nodes:100, edges:500\n",
      "number of contacts: 15000\n",
      "Lim infected: 5, Lim max infected: 101\n",
      "Num sources:  1\n",
      " # conf 1,mean infected: 44.0, mean recover: 6.0, max num infected: 44\n",
      "0 (0.00%) epidemies refused\n",
      "\n",
      "S:56, I:38, R:6\n",
      "RRG_n_100_d_10_tlim_15_lam_0.04_mu_0.02_s_5_pe_1\n",
      "\n",
      "SEED: 6\n",
      "nodes:100, edges:500\n",
      "number of contacts: 15000\n",
      "Lim infected: 5, Lim max infected: 101\n",
      "Num sources:  1\n",
      " # conf 1,mean infected: 12.0, mean recover: 2.0, max num infected: 12\n",
      "0 (0.00%) epidemies refused\n",
      "\n",
      "S:88, I:10, R:2\n",
      "RRG_n_100_d_10_tlim_15_lam_0.04_mu_0.02_s_6_pe_1\n",
      "\n",
      "SEED: 7\n",
      "nodes:100, edges:500\n",
      "number of contacts: 15000\n",
      "Lim infected: 5, Lim max infected: 101\n",
      "Num sources:  1\n",
      " # conf 1,mean infected: 42.0, mean recover: 1.0, max num infected: 42\n",
      "0 (0.00%) epidemies refused\n",
      "\n",
      "S:58, I:41, R:1\n",
      "RRG_n_100_d_10_tlim_15_lam_0.04_mu_0.02_s_7_pe_1\n",
      "\n",
      "SEED: 8\n",
      "nodes:100, edges:500\n",
      "number of contacts: 15000\n",
      "Lim infected: 5, Lim max infected: 101\n",
      "Num sources:  1\n",
      " # conf 1,mean infected: 69.0, mean recover: 6.0, max num infected: 69\n",
      "0 (0.00%) epidemies refused\n",
      "\n",
      "S:31, I:63, R:6\n",
      "RRG_n_100_d_10_tlim_15_lam_0.04_mu_0.02_s_8_pe_1\n",
      "\n",
      "SEED: 9\n",
      "nodes:100, edges:500\n",
      "number of contacts: 15000\n",
      "Lim infected: 5, Lim max infected: 101\n",
      "Num sources:  1\n",
      " # conf 1,mean infected: 63.0, mean recover: 5.0, max num infected: 63\n",
      "0 (0.00%) epidemies refused\n",
      "\n",
      "S:37, I:58, R:5\n",
      "RRG_n_100_d_10_tlim_15_lam_0.04_mu_0.02_s_9_pe_1\n",
      "\n",
      "SEED: 10\n",
      "nodes:100, edges:500\n",
      "number of contacts: 15000\n",
      "Lim infected: 5, Lim max infected: 101\n",
      "Num sources:  1\n",
      " # conf 1,mean infected: 70.0, mean recover: 6.0, max num infected: 70\n",
      "0 (0.00%) epidemies refused\n",
      "\n",
      "S:30, I:64, R:6\n",
      "RRG_n_100_d_10_tlim_15_lam_0.04_mu_0.02_s_10_pe_1\n"
     ]
    },
    {
     "data": {
      "text/plain": [
       "dict_keys([1, 2, 3, 4, 5, 6, 7, 8, 9, 10])"
      ]
     },
     "execution_count": 63,
     "metadata": {},
     "output_type": "execute_result"
    }
   ],
   "source": [
    "from epigen import epidemy_gen_new\n",
    "\n",
    "list_contacts = {}\n",
    "data_={}\n",
    "INSTANCES = []\n",
    "for i_seed, seed in enumerate(seeds):\n",
    "    print(f\"\\nSEED: {seed}\")\n",
    "\n",
    "    args.seed=seed\n",
    "    args.num_conf=num_conf\n",
    "    #print(args)\n",
    "    temp, name_file, INSTANCE = create_data_(args, give_instance=True)\n",
    "    print(str(INSTANCE))\n",
    "    INSTANCES.append(INSTANCE)\n",
    "    #Ns[cl] = int(max(temp[\"contacts\"][:, 1]) + 1)\n",
    "    list_contacts[seed] = temp[\"contacts\"]\n",
    "    data_[seed] = temp\n",
    "\n",
    "data_.keys()"
   ]
  },
  {
   "cell_type": "markdown",
   "metadata": {},
   "source": [
    "# READ DATA\n",
    "\n",
    "create name_files"
   ]
  },
  {
   "cell_type": "code",
   "execution_count": 69,
   "metadata": {},
   "outputs": [],
   "source": [
    "name_files_nn = {}\n",
    "Ns = [args.N]\n",
    "for i_seed, seed in enumerate(seeds):\n",
    "    #print(f\"\\nSEED: {seed}\")\n",
    "    name_files_nn[seed] = {}\n",
    "    for cl in range(len(Ns)):\n",
    "        name_files_nn[seed][Ns[cl]] = {}\n",
    "        name_file_init = path_dir + \"/\"\n",
    "        #print(step, name_file_init)\n",
    "        name_file_temp = name_file_init + f\"eq_05_RRG_n_{Ns[cl]}_d_{args.d}_tlim_{args.t_limit}_lam_{args.lambda_}_mu_{args.mu}_s_{seed}_pe_{args.p_edge}\"\n",
    "        #name_file_temp += f\"_{seed}\"\n",
    "        name_files_nn[seed][Ns[cl]] = name_file_temp\n",
    "\n",
    "name_files_sib = {}\n",
    "for i_seed, seed in enumerate(seeds):\n",
    "    #print(f\"\\nSEED: {seed}\")\n",
    "    name_files_sib[seed] = {}\n",
    "    for cl in range(len(Ns)):\n",
    "        name_files_sib[seed][Ns[cl]] = {}\n",
    "        name_file_init = path_dir + \"/\"\n",
    "        #print(step, name_file_init)\n",
    "        name_file_temp = name_file_init + f\"N_{Ns[cl]}_d_{args.d}_h_{args.h}_T_{args.t_limit}_lam_{args.lambda_}_mu_{args.mu}_p_edge_{args.p_edge}\"\n",
    "        name_file_temp += f\"_s_{seed}\"\n",
    "        name_files_sib[seed][Ns[cl]] = name_file_temp\n",
    "            #print(name_file_temp)"
   ]
  },
  {
   "cell_type": "code",
   "execution_count": 70,
   "metadata": {},
   "outputs": [
    {
     "data": {
      "text/plain": [
       "{1: {100: './data/eq_05_RRG_n_100_d_10_tlim_15_lam_0.04_mu_0.02_s_1_pe_1'},\n",
       " 2: {100: './data/eq_05_RRG_n_100_d_10_tlim_15_lam_0.04_mu_0.02_s_2_pe_1'},\n",
       " 3: {100: './data/eq_05_RRG_n_100_d_10_tlim_15_lam_0.04_mu_0.02_s_3_pe_1'},\n",
       " 4: {100: './data/eq_05_RRG_n_100_d_10_tlim_15_lam_0.04_mu_0.02_s_4_pe_1'},\n",
       " 5: {100: './data/eq_05_RRG_n_100_d_10_tlim_15_lam_0.04_mu_0.02_s_5_pe_1'},\n",
       " 6: {100: './data/eq_05_RRG_n_100_d_10_tlim_15_lam_0.04_mu_0.02_s_6_pe_1'},\n",
       " 7: {100: './data/eq_05_RRG_n_100_d_10_tlim_15_lam_0.04_mu_0.02_s_7_pe_1'},\n",
       " 8: {100: './data/eq_05_RRG_n_100_d_10_tlim_15_lam_0.04_mu_0.02_s_8_pe_1'},\n",
       " 9: {100: './data/eq_05_RRG_n_100_d_10_tlim_15_lam_0.04_mu_0.02_s_9_pe_1'},\n",
       " 10: {100: './data/eq_05_RRG_n_100_d_10_tlim_15_lam_0.04_mu_0.02_s_10_pe_1'}}"
      ]
     },
     "execution_count": 70,
     "metadata": {},
     "output_type": "execute_result"
    }
   ],
   "source": [
    "name_files_nn"
   ]
  },
  {
   "cell_type": "markdown",
   "metadata": {},
   "source": [
    "### READ FILES"
   ]
  },
  {
   "cell_type": "code",
   "execution_count": 71,
   "metadata": {},
   "outputs": [
    {
     "name": "stdout",
     "output_type": "stream",
     "text": [
      "SEED: 1\n",
      "SEED: 2\n",
      "SEED: 3\n",
      "SEED: 4\n",
      "SEED: 5\n",
      "SEED: 6\n",
      "SEED: 7\n",
      "SEED: 8\n",
      "SEED: 9\n",
      "SEED: 10\n"
     ]
    }
   ],
   "source": [
    "#create dictorary containing data\n",
    "ress = {}\n",
    "for i_seed, seed in enumerate(seeds):\n",
    "    print(f\"SEED: {seed}\")\n",
    "    ress[seed] = {}\n",
    "    for cl in range(len(Ns)):\n",
    "        N_cl = Ns[cl]\n",
    "        ress[seed][Ns[cl]] = []\n",
    "        for instance_num in range(num_conf):\n",
    "            #print(f\" N: {N_cl} instance {instance_num}\")\n",
    "            ress[seed][Ns[cl]].append({})\n"
   ]
  },
  {
   "cell_type": "code",
   "execution_count": 72,
   "metadata": {},
   "outputs": [
    {
     "name": "stdout",
     "output_type": "stream",
     "text": [
      "SEED: 1\n",
      "Read N: 100 instance 0 - ./data/eq_05_RRG_n_100_d_10_tlim_15_lam_0.04_mu_0.02_s_1_pe_1_0\n",
      "SEED: 2\n",
      "Read N: 100 instance 0 - ./data/eq_05_RRG_n_100_d_10_tlim_15_lam_0.04_mu_0.02_s_2_pe_1_0\n",
      "SEED: 3\n",
      "Read N: 100 instance 0 - ./data/eq_05_RRG_n_100_d_10_tlim_15_lam_0.04_mu_0.02_s_3_pe_1_0\n",
      "SEED: 4\n",
      "Read N: 100 instance 0 - ./data/eq_05_RRG_n_100_d_10_tlim_15_lam_0.04_mu_0.02_s_4_pe_1_0\n",
      "SEED: 5\n",
      "Read N: 100 instance 0 - ./data/eq_05_RRG_n_100_d_10_tlim_15_lam_0.04_mu_0.02_s_5_pe_1_0\n",
      "SEED: 6\n",
      "Read N: 100 instance 0 - ./data/eq_05_RRG_n_100_d_10_tlim_15_lam_0.04_mu_0.02_s_6_pe_1_0\n",
      "SEED: 7\n",
      "Read N: 100 instance 0 - ./data/eq_05_RRG_n_100_d_10_tlim_15_lam_0.04_mu_0.02_s_7_pe_1_0\n",
      "SEED: 8\n",
      "Read N: 100 instance 0 - ./data/eq_05_RRG_n_100_d_10_tlim_15_lam_0.04_mu_0.02_s_8_pe_1_0\n",
      "SEED: 9\n",
      "Read N: 100 instance 0 - ./data/eq_05_RRG_n_100_d_10_tlim_15_lam_0.04_mu_0.02_s_9_pe_1_0\n",
      "SEED: 10\n",
      "Read N: 100 instance 0 - ./data/eq_05_RRG_n_100_d_10_tlim_15_lam_0.04_mu_0.02_s_10_pe_1_0\n"
     ]
    }
   ],
   "source": [
    "for i_seed, seed in enumerate(seeds):\n",
    "    print(f\"SEED: {seed}\")\n",
    "    for cl in range(len(Ns)):\n",
    "        N_cl = Ns[cl]\n",
    "        for instance_num in range(num_conf):\n",
    "            ress[seed][N_cl][instance_num][\"regressive\"] = {}\n",
    "            name_temp = name_files_nn[seed][N_cl] +\"_\" + str(instance_num)\n",
    "            print(f\"Read N: {N_cl} instance {instance_num} - {name_temp}\")\n",
    "            try:\n",
    "                ress[seed][N_cl][instance_num][\"regressive\"] = {}\n",
    "                ress[seed][N_cl][instance_num][\"regressive\"][\"marginals\"] = np.load(name_temp + \"_margs.npz\",\n",
    "                                                                        \"r+\",\n",
    "                                                                       allow_pickle=True,\n",
    "                                                                       fix_imports=True)[\"marginals\"]\n",
    "            except:\n",
    "                print(f\"  instance_num: {instance_num} NOT FOUND\")\n",
    "            try:\n",
    "                ress[seed][N_cl][instance_num][\"regressive\"][\"run\"] = pd.read_csv(name_temp + \"_trace.gz\")\n",
    "                #print(f\"  instance_num: {instance_num}\")\n",
    "            except:\n",
    "                print(f\"gz no found {name_temp + '.gz'}\")\n",
    "                pass\n",
    "            try:\n",
    "                '''ress[seed][N_cl][instance_num][\"regressive\"][\"net\"] = torch.load(name_temp + \".pt\",\n",
    "                                                                      map_location=device)\n",
    "                #ress[N_cl][instance_num][\"regressive\"][\"net\"].to(device)\n",
    "                ress[seed][N_cl][instance_num][\"regressive\"][\"net\"].device = device\n",
    "                for ll in ress[seed][N_cl][instance_num][\"regressive\"][\"net\"].sublayers:\n",
    "                    for l in ll:\n",
    "                        l.device=device\n",
    "                print(f\"  NN net: {instance_num}\")'''\n",
    "                pass\n",
    "            except:\n",
    "                print(f\"  NN net: {instance_num} NON FOUND\")"
   ]
  },
  {
   "cell_type": "code",
   "execution_count": 73,
   "metadata": {},
   "outputs": [
    {
     "name": "stdout",
     "output_type": "stream",
     "text": [
      "SEED: 1\n",
      "Read N: 100 instance 0\n",
      "SEED: 2\n",
      "Read N: 100 instance 0\n",
      "SEED: 3\n",
      "Read N: 100 instance 0\n",
      "SEED: 4\n",
      "Read N: 100 instance 0\n",
      "SEED: 5\n",
      "Read N: 100 instance 0\n",
      "SEED: 6\n",
      "Read N: 100 instance 0\n",
      "SEED: 7\n",
      "Read N: 100 instance 0\n",
      "SEED: 8\n",
      "Read N: 100 instance 0\n",
      "SEED: 9\n",
      "Read N: 100 instance 0\n",
      "SEED: 10\n",
      "Read N: 100 instance 0\n"
     ]
    }
   ],
   "source": [
    "for i_seed, seed in enumerate(seeds):\n",
    "    print(f\"SEED: {seed}\")\n",
    "    for cl in range(len(Ns)):\n",
    "        N_cl = Ns[cl]\n",
    "        for instance_num in range(num_conf):\n",
    "            print(f\"Read N: {N_cl} instance {instance_num}\")\n",
    "            name_temp = name_files_sib[seed][N_cl] +\"_\" + str(instance_num)\n",
    "            #name_temp = name_temp.replace(\"mu_0\", \"mu_0.0\")\n",
    "            ress[seed][N_cl][instance_num][\"sib\"] = {}\n",
    "            try:\n",
    "                ress[seed][N_cl][instance_num][\"sib\"][\"marginals\"] = np.load(name_temp + \"_sib_margs.npz\",\n",
    "                                                                        \"r+\",\n",
    "                                                                       allow_pickle=True,\n",
    "                                                                       fix_imports=True)[\"marginals\"]\n",
    "                ress[seed][N_cl][instance_num][\"sib\"][\"params\"] = pd.read_csv(name_temp + \"_params.gz\")\n",
    "                #print(\"load SIB\")\n",
    "            except:\n",
    "                print(f\"SIB not found {name_temp}\")\n"
   ]
  },
  {
   "cell_type": "code",
   "execution_count": 74,
   "metadata": {},
   "outputs": [
    {
     "data": {
      "text/html": [
       "<div>\n",
       "<style scoped>\n",
       "    .dataframe tbody tr th:only-of-type {\n",
       "        vertical-align: middle;\n",
       "    }\n",
       "\n",
       "    .dataframe tbody tr th {\n",
       "        vertical-align: top;\n",
       "    }\n",
       "\n",
       "    .dataframe thead th {\n",
       "        text-align: right;\n",
       "    }\n",
       "</style>\n",
       "<table border=\"1\" class=\"dataframe\">\n",
       "  <thead>\n",
       "    <tr style=\"text-align: right;\">\n",
       "      <th></th>\n",
       "      <th>Unnamed: 0</th>\n",
       "      <th>step</th>\n",
       "      <th>beta</th>\n",
       "      <th>energy</th>\n",
       "      <th>std_energy</th>\n",
       "      <th>loss</th>\n",
       "      <th>loss_std</th>\n",
       "      <th>S</th>\n",
       "      <th>I</th>\n",
       "      <th>R</th>\n",
       "      <th>...</th>\n",
       "      <th>num_zero_pw</th>\n",
       "      <th>N</th>\n",
       "      <th>T</th>\n",
       "      <th>p_source</th>\n",
       "      <th>p_sus</th>\n",
       "      <th>p_obs</th>\n",
       "      <th>p_w</th>\n",
       "      <th>mu</th>\n",
       "      <th>lamb</th>\n",
       "      <th>max_Z</th>\n",
       "    </tr>\n",
       "  </thead>\n",
       "  <tbody>\n",
       "    <tr>\n",
       "      <th>0</th>\n",
       "      <td>0</td>\n",
       "      <td>0.0</td>\n",
       "      <td>0.0000</td>\n",
       "      <td>16175.461914</td>\n",
       "      <td>717.868347</td>\n",
       "      <td>15933.172852</td>\n",
       "      <td>717.898254</td>\n",
       "      <td>94.266197</td>\n",
       "      <td>5.194800</td>\n",
       "      <td>0.539000</td>\n",
       "      <td>...</td>\n",
       "      <td>155887.0</td>\n",
       "      <td>100.0</td>\n",
       "      <td>16.0</td>\n",
       "      <td>0.0001</td>\n",
       "      <td>-1.0</td>\n",
       "      <td>3.059023e-11</td>\n",
       "      <td>3.059023e-11</td>\n",
       "      <td>0.1000</td>\n",
       "      <td>0.100000</td>\n",
       "      <td>-100000000.0</td>\n",
       "    </tr>\n",
       "    <tr>\n",
       "      <th>1</th>\n",
       "      <td>1</td>\n",
       "      <td>1.0</td>\n",
       "      <td>0.0001</td>\n",
       "      <td>1544.166748</td>\n",
       "      <td>114.439293</td>\n",
       "      <td>1300.258423</td>\n",
       "      <td>114.394600</td>\n",
       "      <td>94.347794</td>\n",
       "      <td>5.066700</td>\n",
       "      <td>0.585500</td>\n",
       "      <td>...</td>\n",
       "      <td>157098.0</td>\n",
       "      <td>100.0</td>\n",
       "      <td>16.0</td>\n",
       "      <td>0.0001</td>\n",
       "      <td>-1.0</td>\n",
       "      <td>3.059023e-11</td>\n",
       "      <td>3.059023e-11</td>\n",
       "      <td>0.1000</td>\n",
       "      <td>0.100000</td>\n",
       "      <td>-100000000.0</td>\n",
       "    </tr>\n",
       "    <tr>\n",
       "      <th>2</th>\n",
       "      <td>2</td>\n",
       "      <td>2.0</td>\n",
       "      <td>0.0002</td>\n",
       "      <td>1548.774414</td>\n",
       "      <td>113.483788</td>\n",
       "      <td>1304.786865</td>\n",
       "      <td>113.507729</td>\n",
       "      <td>94.412102</td>\n",
       "      <td>4.972100</td>\n",
       "      <td>0.615800</td>\n",
       "      <td>...</td>\n",
       "      <td>159308.0</td>\n",
       "      <td>100.0</td>\n",
       "      <td>16.0</td>\n",
       "      <td>0.0001</td>\n",
       "      <td>-1.0</td>\n",
       "      <td>3.059023e-11</td>\n",
       "      <td>3.059023e-11</td>\n",
       "      <td>0.1000</td>\n",
       "      <td>0.100000</td>\n",
       "      <td>-100000000.0</td>\n",
       "    </tr>\n",
       "    <tr>\n",
       "      <th>3</th>\n",
       "      <td>3</td>\n",
       "      <td>3.0</td>\n",
       "      <td>0.0003</td>\n",
       "      <td>1551.252563</td>\n",
       "      <td>112.869751</td>\n",
       "      <td>1306.385376</td>\n",
       "      <td>112.863548</td>\n",
       "      <td>94.435097</td>\n",
       "      <td>4.897799</td>\n",
       "      <td>0.667100</td>\n",
       "      <td>...</td>\n",
       "      <td>159891.0</td>\n",
       "      <td>100.0</td>\n",
       "      <td>16.0</td>\n",
       "      <td>0.0001</td>\n",
       "      <td>-1.0</td>\n",
       "      <td>3.059023e-11</td>\n",
       "      <td>3.059023e-11</td>\n",
       "      <td>0.1000</td>\n",
       "      <td>0.100000</td>\n",
       "      <td>-100000000.0</td>\n",
       "    </tr>\n",
       "    <tr>\n",
       "      <th>4</th>\n",
       "      <td>4</td>\n",
       "      <td>4.0</td>\n",
       "      <td>0.0004</td>\n",
       "      <td>1550.286621</td>\n",
       "      <td>112.779060</td>\n",
       "      <td>1304.822876</td>\n",
       "      <td>112.849640</td>\n",
       "      <td>94.351601</td>\n",
       "      <td>4.925800</td>\n",
       "      <td>0.722600</td>\n",
       "      <td>...</td>\n",
       "      <td>158862.0</td>\n",
       "      <td>100.0</td>\n",
       "      <td>16.0</td>\n",
       "      <td>0.0001</td>\n",
       "      <td>-1.0</td>\n",
       "      <td>3.059023e-11</td>\n",
       "      <td>3.059023e-11</td>\n",
       "      <td>0.1000</td>\n",
       "      <td>0.100000</td>\n",
       "      <td>-100000000.0</td>\n",
       "    </tr>\n",
       "    <tr>\n",
       "      <th>...</th>\n",
       "      <td>...</td>\n",
       "      <td>...</td>\n",
       "      <td>...</td>\n",
       "      <td>...</td>\n",
       "      <td>...</td>\n",
       "      <td>...</td>\n",
       "      <td>...</td>\n",
       "      <td>...</td>\n",
       "      <td>...</td>\n",
       "      <td>...</td>\n",
       "      <td>...</td>\n",
       "      <td>...</td>\n",
       "      <td>...</td>\n",
       "      <td>...</td>\n",
       "      <td>...</td>\n",
       "      <td>...</td>\n",
       "      <td>...</td>\n",
       "      <td>...</td>\n",
       "      <td>...</td>\n",
       "      <td>...</td>\n",
       "      <td>...</td>\n",
       "    </tr>\n",
       "    <tr>\n",
       "      <th>10194</th>\n",
       "      <td>10194</td>\n",
       "      <td>10194.0</td>\n",
       "      <td>1.0000</td>\n",
       "      <td>884.806702</td>\n",
       "      <td>7.008730</td>\n",
       "      <td>688.997009</td>\n",
       "      <td>3.501580</td>\n",
       "      <td>98.972557</td>\n",
       "      <td>1.025343</td>\n",
       "      <td>0.002118</td>\n",
       "      <td>...</td>\n",
       "      <td>224.0</td>\n",
       "      <td>100.0</td>\n",
       "      <td>16.0</td>\n",
       "      <td>0.0001</td>\n",
       "      <td>-1.0</td>\n",
       "      <td>3.059023e-11</td>\n",
       "      <td>3.059023e-11</td>\n",
       "      <td>0.0274</td>\n",
       "      <td>0.050602</td>\n",
       "      <td>-100000000.0</td>\n",
       "    </tr>\n",
       "    <tr>\n",
       "      <th>10195</th>\n",
       "      <td>10195</td>\n",
       "      <td>10195.0</td>\n",
       "      <td>1.0000</td>\n",
       "      <td>884.838989</td>\n",
       "      <td>7.101552</td>\n",
       "      <td>688.996155</td>\n",
       "      <td>3.506036</td>\n",
       "      <td>98.972565</td>\n",
       "      <td>1.025326</td>\n",
       "      <td>0.002122</td>\n",
       "      <td>...</td>\n",
       "      <td>230.0</td>\n",
       "      <td>100.0</td>\n",
       "      <td>16.0</td>\n",
       "      <td>0.0001</td>\n",
       "      <td>-1.0</td>\n",
       "      <td>3.059023e-11</td>\n",
       "      <td>3.059023e-11</td>\n",
       "      <td>0.0274</td>\n",
       "      <td>0.050602</td>\n",
       "      <td>-100000000.0</td>\n",
       "    </tr>\n",
       "    <tr>\n",
       "      <th>10196</th>\n",
       "      <td>10196</td>\n",
       "      <td>10196.0</td>\n",
       "      <td>1.0000</td>\n",
       "      <td>884.770203</td>\n",
       "      <td>7.094730</td>\n",
       "      <td>689.015686</td>\n",
       "      <td>3.532349</td>\n",
       "      <td>98.972565</td>\n",
       "      <td>1.025317</td>\n",
       "      <td>0.002122</td>\n",
       "      <td>...</td>\n",
       "      <td>222.0</td>\n",
       "      <td>100.0</td>\n",
       "      <td>16.0</td>\n",
       "      <td>0.0001</td>\n",
       "      <td>-1.0</td>\n",
       "      <td>3.059023e-11</td>\n",
       "      <td>3.059023e-11</td>\n",
       "      <td>0.0274</td>\n",
       "      <td>0.050602</td>\n",
       "      <td>-100000000.0</td>\n",
       "    </tr>\n",
       "    <tr>\n",
       "      <th>10197</th>\n",
       "      <td>10197</td>\n",
       "      <td>10197.0</td>\n",
       "      <td>1.0000</td>\n",
       "      <td>884.706604</td>\n",
       "      <td>7.106011</td>\n",
       "      <td>689.077393</td>\n",
       "      <td>3.560755</td>\n",
       "      <td>98.972580</td>\n",
       "      <td>1.025310</td>\n",
       "      <td>0.002121</td>\n",
       "      <td>...</td>\n",
       "      <td>235.0</td>\n",
       "      <td>100.0</td>\n",
       "      <td>16.0</td>\n",
       "      <td>0.0001</td>\n",
       "      <td>-1.0</td>\n",
       "      <td>3.059023e-11</td>\n",
       "      <td>3.059023e-11</td>\n",
       "      <td>0.0274</td>\n",
       "      <td>0.050602</td>\n",
       "      <td>-100000000.0</td>\n",
       "    </tr>\n",
       "    <tr>\n",
       "      <th>10198</th>\n",
       "      <td>10198</td>\n",
       "      <td>10198.0</td>\n",
       "      <td>1.0000</td>\n",
       "      <td>884.750000</td>\n",
       "      <td>7.122531</td>\n",
       "      <td>689.039978</td>\n",
       "      <td>3.559755</td>\n",
       "      <td>98.972565</td>\n",
       "      <td>1.025324</td>\n",
       "      <td>0.002122</td>\n",
       "      <td>...</td>\n",
       "      <td>230.0</td>\n",
       "      <td>100.0</td>\n",
       "      <td>16.0</td>\n",
       "      <td>0.0001</td>\n",
       "      <td>-1.0</td>\n",
       "      <td>3.059023e-11</td>\n",
       "      <td>3.059023e-11</td>\n",
       "      <td>0.0274</td>\n",
       "      <td>0.050602</td>\n",
       "      <td>-100000000.0</td>\n",
       "    </tr>\n",
       "  </tbody>\n",
       "</table>\n",
       "<p>10199 rows × 23 columns</p>\n",
       "</div>"
      ],
      "text/plain": [
       "       Unnamed: 0     step    beta        energy  std_energy          loss  \\\n",
       "0               0      0.0  0.0000  16175.461914  717.868347  15933.172852   \n",
       "1               1      1.0  0.0001   1544.166748  114.439293   1300.258423   \n",
       "2               2      2.0  0.0002   1548.774414  113.483788   1304.786865   \n",
       "3               3      3.0  0.0003   1551.252563  112.869751   1306.385376   \n",
       "4               4      4.0  0.0004   1550.286621  112.779060   1304.822876   \n",
       "...           ...      ...     ...           ...         ...           ...   \n",
       "10194       10194  10194.0  1.0000    884.806702    7.008730    688.997009   \n",
       "10195       10195  10195.0  1.0000    884.838989    7.101552    688.996155   \n",
       "10196       10196  10196.0  1.0000    884.770203    7.094730    689.015686   \n",
       "10197       10197  10197.0  1.0000    884.706604    7.106011    689.077393   \n",
       "10198       10198  10198.0  1.0000    884.750000    7.122531    689.039978   \n",
       "\n",
       "         loss_std          S         I         R  ...  num_zero_pw      N  \\\n",
       "0      717.898254  94.266197  5.194800  0.539000  ...     155887.0  100.0   \n",
       "1      114.394600  94.347794  5.066700  0.585500  ...     157098.0  100.0   \n",
       "2      113.507729  94.412102  4.972100  0.615800  ...     159308.0  100.0   \n",
       "3      112.863548  94.435097  4.897799  0.667100  ...     159891.0  100.0   \n",
       "4      112.849640  94.351601  4.925800  0.722600  ...     158862.0  100.0   \n",
       "...           ...        ...       ...       ...  ...          ...    ...   \n",
       "10194    3.501580  98.972557  1.025343  0.002118  ...        224.0  100.0   \n",
       "10195    3.506036  98.972565  1.025326  0.002122  ...        230.0  100.0   \n",
       "10196    3.532349  98.972565  1.025317  0.002122  ...        222.0  100.0   \n",
       "10197    3.560755  98.972580  1.025310  0.002121  ...        235.0  100.0   \n",
       "10198    3.559755  98.972565  1.025324  0.002122  ...        230.0  100.0   \n",
       "\n",
       "          T  p_source  p_sus         p_obs           p_w      mu      lamb  \\\n",
       "0      16.0    0.0001   -1.0  3.059023e-11  3.059023e-11  0.1000  0.100000   \n",
       "1      16.0    0.0001   -1.0  3.059023e-11  3.059023e-11  0.1000  0.100000   \n",
       "2      16.0    0.0001   -1.0  3.059023e-11  3.059023e-11  0.1000  0.100000   \n",
       "3      16.0    0.0001   -1.0  3.059023e-11  3.059023e-11  0.1000  0.100000   \n",
       "4      16.0    0.0001   -1.0  3.059023e-11  3.059023e-11  0.1000  0.100000   \n",
       "...     ...       ...    ...           ...           ...     ...       ...   \n",
       "10194  16.0    0.0001   -1.0  3.059023e-11  3.059023e-11  0.0274  0.050602   \n",
       "10195  16.0    0.0001   -1.0  3.059023e-11  3.059023e-11  0.0274  0.050602   \n",
       "10196  16.0    0.0001   -1.0  3.059023e-11  3.059023e-11  0.0274  0.050602   \n",
       "10197  16.0    0.0001   -1.0  3.059023e-11  3.059023e-11  0.0274  0.050602   \n",
       "10198  16.0    0.0001   -1.0  3.059023e-11  3.059023e-11  0.0274  0.050602   \n",
       "\n",
       "             max_Z  \n",
       "0     -100000000.0  \n",
       "1     -100000000.0  \n",
       "2     -100000000.0  \n",
       "3     -100000000.0  \n",
       "4     -100000000.0  \n",
       "...            ...  \n",
       "10194 -100000000.0  \n",
       "10195 -100000000.0  \n",
       "10196 -100000000.0  \n",
       "10197 -100000000.0  \n",
       "10198 -100000000.0  \n",
       "\n",
       "[10199 rows x 23 columns]"
      ]
     },
     "execution_count": 74,
     "metadata": {},
     "output_type": "execute_result"
    }
   ],
   "source": [
    "ress[1][100][0][\"regressive\"][\"run\"]"
   ]
  },
  {
   "cell_type": "code",
   "execution_count": 75,
   "metadata": {},
   "outputs": [
    {
     "data": {
      "image/png": "[encoded data removed]",
      "text/plain": [
       "<Figure size 432x288 with 1 Axes>"
      ]
     },
     "metadata": {
      "needs_background": "light"
     },
     "output_type": "display_data"
    }
   ],
   "source": [
    "ax = ress[1][100][0][\"regressive\"][\"run\"][\"lamb\"].plot()\n",
    "#ax.set_ylim(0.35, 0.37)\n",
    "#ax.set_xlim(9300, 9400)"
   ]
  },
  {
   "cell_type": "markdown",
   "metadata": {},
   "source": [
    "# results"
   ]
  },
  {
   "cell_type": "code",
   "execution_count": 76,
   "metadata": {},
   "outputs": [
    {
     "ename": "ModuleNotFoundError",
     "evalue": "No module named 'utils.analysis'",
     "output_type": "error",
     "traceback": [
      "\u001b[0;31m---------------------------------------------------------------------------\u001b[0m",
      "\u001b[0;31mModuleNotFoundError\u001b[0m                       Traceback (most recent call last)",
      "\u001b[0;32m<ipython-input-76-fec5a409ea89>\u001b[0m in \u001b[0;36m<module>\u001b[0;34m\u001b[0m\n\u001b[0;32m----> 1\u001b[0;31m \u001b[0;32mimport\u001b[0m \u001b[0mutils\u001b[0m\u001b[0;34m.\u001b[0m\u001b[0manalysis\u001b[0m\u001b[0;34m\u001b[0m\u001b[0;34m\u001b[0m\u001b[0m\n\u001b[0m\u001b[1;32m      2\u001b[0m \u001b[0;32mfrom\u001b[0m \u001b[0mutils\u001b[0m\u001b[0;34m.\u001b[0m\u001b[0manalysis\u001b[0m \u001b[0;32mimport\u001b[0m \u001b[0msort_I\u001b[0m\u001b[0;34m\u001b[0m\u001b[0;34m\u001b[0m\u001b[0m\n\u001b[1;32m      3\u001b[0m \u001b[0;32mfrom\u001b[0m \u001b[0mimp\u001b[0m \u001b[0;32mimport\u001b[0m \u001b[0mreload\u001b[0m\u001b[0;34m\u001b[0m\u001b[0;34m\u001b[0m\u001b[0m\n\u001b[1;32m      4\u001b[0m \u001b[0mreload\u001b[0m\u001b[0;34m(\u001b[0m\u001b[0mutils\u001b[0m\u001b[0;34m.\u001b[0m\u001b[0manalysis\u001b[0m\u001b[0;34m)\u001b[0m\u001b[0;34m\u001b[0m\u001b[0;34m\u001b[0m\u001b[0m\n\u001b[1;32m      5\u001b[0m \u001b[0mdata_\u001b[0m\u001b[0;34m.\u001b[0m\u001b[0mkeys\u001b[0m\u001b[0;34m(\u001b[0m\u001b[0;34m)\u001b[0m\u001b[0;34m\u001b[0m\u001b[0;34m\u001b[0m\u001b[0m\n",
      "\u001b[0;31mModuleNotFoundError\u001b[0m: No module named 'utils.analysis'"
     ]
    }
   ],
   "source": [
    "import utils.analysis\n",
    "from utils.analysis import sort_I\n",
    "from imp import reload\n",
    "reload(utils.analysis)\n",
    "data_.keys()"
   ]
  },
  {
   "cell_type": "code",
   "execution_count": 77,
   "metadata": {},
   "outputs": [],
   "source": [
    "temp_params = {\"lambda_sib\":[], \"lambda_nn\":[], \"mu_sib\":[], \"mu_nn\":[]}\n",
    "mu=[]\n",
    "for cl in range(len(Ns)):\n",
    "    for i_seed, seed in enumerate(seeds):\n",
    "        for instance_num in range(num_conf):\n",
    "            temp_params[\"lambda_sib\"].append(ress[seed][Ns[cl]][instance_num][\"sib\"][\"params\"][\"lambda\"].iloc[-1])\n",
    "            temp_params[\"lambda_nn\"].append(ress[seed][N_cl][instance_num][\"regressive\"][\"run\"][\"lamb\"].iloc[-1])\n",
    "            mu_sib = 1. - np.exp(-np.array(ress[seed][Ns[cl]][instance_num][\"sib\"][\"params\"][\"mu\"].iloc[-1]))\n",
    "            temp_params[\"mu_sib\"].append(mu_sib)\n",
    "            temp_params[\"mu_nn\"].append(ress[seed][N_cl][instance_num][\"regressive\"][\"run\"][\"mu\"].iloc[-1])\n",
    "        #lambdas=pd.DataFrame(temp_params)"
   ]
  },
  {
   "cell_type": "code",
   "execution_count": 78,
   "metadata": {},
   "outputs": [
    {
     "data": {
      "text/plain": [
       "{'lambda_sib': [0.0939016883229345,\n",
       "  0.0665578343646156,\n",
       "  0.0082258024715939,\n",
       "  0.0535261742036766,\n",
       "  0.0735306305711267,\n",
       "  0.0282390472892805,\n",
       "  0.0691119604479127,\n",
       "  0.0627527472855035,\n",
       "  0.0625617155160719,\n",
       "  0.0556058795747997],\n",
       " 'lambda_nn': [0.0506018213927745,\n",
       "  0.0374010168015956,\n",
       "  0.0163336377590894,\n",
       "  0.0305999759584665,\n",
       "  0.0394013673067092,\n",
       "  0.0222083181142807,\n",
       "  0.0358008928596973,\n",
       "  0.0485891364514827,\n",
       "  0.0456018969416618,\n",
       "  0.0458012893795967],\n",
       " 'mu_sib': [0.04335798031396887,\n",
       "  0.017037496340788993,\n",
       "  0.025535192770283044,\n",
       "  0.011532125338285848,\n",
       "  0.05051210256606253,\n",
       "  0.034172745218728484,\n",
       "  0.008824819156213137,\n",
       "  0.02453697945274369,\n",
       "  0.024454302915574933,\n",
       "  0.023885719802781646],\n",
       " 'mu_nn': [0.0273999869823455,\n",
       "  0.0116980038583278,\n",
       "  0.0283332969993352,\n",
       "  0.0082000577822327,\n",
       "  0.0343333110213279,\n",
       "  0.0342002734541893,\n",
       "  0.0061745564453303,\n",
       "  0.0216043591499328,\n",
       "  0.0196667816489934,\n",
       "  0.0198001693934202]}"
      ]
     },
     "execution_count": 78,
     "metadata": {},
     "output_type": "execute_result"
    }
   ],
   "source": [
    "temp_params"
   ]
  },
  {
   "cell_type": "code",
   "execution_count": 79,
   "metadata": {},
   "outputs": [
    {
     "data": {
      "text/plain": [
       "{'lambda_sib': [0.0939016883229345,\n",
       "  0.0665578343646156,\n",
       "  0.0082258024715939,\n",
       "  0.0535261742036766,\n",
       "  0.0735306305711267,\n",
       "  0.0282390472892805,\n",
       "  0.0691119604479127,\n",
       "  0.0627527472855035,\n",
       "  0.0625617155160719,\n",
       "  0.0556058795747997],\n",
       " 'lambda_nn': [0.0506018213927745,\n",
       "  0.0374010168015956,\n",
       "  0.0163336377590894,\n",
       "  0.0305999759584665,\n",
       "  0.0394013673067092,\n",
       "  0.0222083181142807,\n",
       "  0.0358008928596973,\n",
       "  0.0485891364514827,\n",
       "  0.0456018969416618,\n",
       "  0.0458012893795967],\n",
       " 'mu_sib': [0.04335798031396887,\n",
       "  0.017037496340788993,\n",
       "  0.025535192770283044,\n",
       "  0.011532125338285848,\n",
       "  0.05051210256606253,\n",
       "  0.034172745218728484,\n",
       "  0.008824819156213137,\n",
       "  0.02453697945274369,\n",
       "  0.024454302915574933,\n",
       "  0.023885719802781646],\n",
       " 'mu_nn': [0.0273999869823455,\n",
       "  0.0116980038583278,\n",
       "  0.0283332969993352,\n",
       "  0.0082000577822327,\n",
       "  0.0343333110213279,\n",
       "  0.0342002734541893,\n",
       "  0.0061745564453303,\n",
       "  0.0216043591499328,\n",
       "  0.0196667816489934,\n",
       "  0.0198001693934202]}"
      ]
     },
     "execution_count": 79,
     "metadata": {},
     "output_type": "execute_result"
    }
   ],
   "source": [
    "temp_params"
   ]
  },
  {
   "cell_type": "code",
   "execution_count": 91,
   "metadata": {},
   "outputs": [
    {
     "data": {
      "text/plain": [
       "<ErrorbarContainer object of 3 artists>"
      ]
     },
     "execution_count": 91,
     "metadata": {},
     "output_type": "execute_result"
    },
    {
     "data": {
      "image/png": "[encoded data removed]",
      "text/plain": [
       "<Figure size 720x360 with 1 Axes>"
      ]
     },
     "metadata": {
      "needs_background": "light"
     },
     "output_type": "display_data"
    }
   ],
   "source": [
    "import matplotlib.pyplot as plt\n",
    "fig, ax = plt.subplots(1, figsize=(10,5))\n",
    "sib_m = np.array(temp_params[\"lambda_sib\"]).mean()\n",
    "nn_m = np.array(temp_params[\"lambda_nn\"]).mean()\n",
    "sib_std = np.array(temp_params[\"lambda_sib\"]).std()/np.sqrt(10)\n",
    "nn_std = np.array(temp_params[\"lambda_nn\"]).std()/np.sqrt(10)\n",
    "ax.errorbar([0,1], [sib_m, nn_m], [sib_std, nn_std])"
   ]
  },
  {
   "cell_type": "code",
   "execution_count": 80,
   "metadata": {},
   "outputs": [
    {
     "data": {
      "text/plain": [
       "<matplotlib.legend.Legend at 0x7f4142d141c0>"
      ]
     },
     "execution_count": 80,
     "metadata": {},
     "output_type": "execute_result"
    },
    {
     "data": {
      "image/png": "[encoded data removed]",
      "text/plain": [
       "<Figure size 432x288 with 1 Axes>"
      ]
     },
     "metadata": {
      "needs_background": "light"
     },
     "output_type": "display_data"
    }
   ],
   "source": [
    "mean_sib = []\n",
    "mean_nn = []\n",
    "for i in range(1,len(temp_params[\"lambda_sib\"])):\n",
    "    mean_sib.append(np.array(temp_params[\"lambda_sib\"][0:i]).mean())\n",
    "    mean_nn.append(np.array(temp_params[\"lambda_nn\"][0:i]).mean())\n",
    "import matplotlib.pyplot as plt\n",
    "plt.plot(np.array(mean_sib), label=\"sib\")\n",
    "plt.plot(np.array(mean_nn), label=\"nn\")\n",
    "plt.plot(range(0,len(temp_params[\"lambda_sib\"])-1),[args.lambda_]*(len(temp_params[\"lambda_sib\"])-1))\n",
    "plt.legend()"
   ]
  },
  {
   "cell_type": "code",
   "execution_count": 82,
   "metadata": {},
   "outputs": [
    {
     "data": {
      "text/plain": [
       "(0.0, 150.0)"
      ]
     },
     "execution_count": 82,
     "metadata": {},
     "output_type": "execute_result"
    },
    {
     "data": {
      "image/png": "[encoded data removed]",
      "text/plain": [
       "<Figure size 432x288 with 1 Axes>"
      ]
     },
     "metadata": {
      "needs_background": "light"
     },
     "output_type": "display_data"
    }
   ],
   "source": [
    "mean_sib = []\n",
    "mean_nn = []\n",
    "for i in range(1,21):\n",
    "    mean_sib.append(np.array(temp_params[\"lambda_sib\"][0:i]).mean())\n",
    "    mean_nn.append(np.array(temp_params[\"lambda_nn\"][0:i]).mean())\n",
    "import matplotlib.pyplot as plt\n",
    "plt.plot(100*abs(np.array(mean_sib)-args.lambda_)/args.lambda_, label=\"sib\")\n",
    "plt.plot(100*abs(np.array(mean_nn)-args.lambda_)/args.lambda_, label=\"nn\")\n",
    "plt.legend()\n",
    "ax.set_ylim(0,150)"
   ]
  },
  {
   "cell_type": "code",
   "execution_count": 83,
   "metadata": {},
   "outputs": [
    {
     "data": {
      "text/plain": [
       "<matplotlib.legend.Legend at 0x7f4141bb73a0>"
      ]
     },
     "execution_count": 83,
     "metadata": {},
     "output_type": "execute_result"
    },
    {
     "data": {
      "image/png": "[encoded data removed]",
      "text/plain": [
       "<Figure size 432x288 with 1 Axes>"
      ]
     },
     "metadata": {
      "needs_background": "light"
     },
     "output_type": "display_data"
    }
   ],
   "source": [
    "mean_sib = []\n",
    "mean_nn = []\n",
    "for i in range(1,21):\n",
    "    mean_sib.append(np.array(temp_params[\"lambda_sib\"][0:i]).std()/np.sqrt(i))\n",
    "    mean_nn.append(np.array(temp_params[\"lambda_nn\"][0:i]).std()/np.sqrt(i))\n",
    "import matplotlib.pyplot as plt\n",
    "plt.plot(abs(np.array(mean_sib)), label=\"sib\")\n",
    "plt.plot(abs(np.array(mean_nn)), label=\"nn\")\n",
    "plt.legend()"
   ]
  },
  {
   "cell_type": "code",
   "execution_count": 43,
   "metadata": {},
   "outputs": [
    {
     "data": {
      "text/plain": [
       "0.04029247459645067"
      ]
     },
     "execution_count": 43,
     "metadata": {},
     "output_type": "execute_result"
    }
   ],
   "source": [
    "np.array(temp_params[\"lambda_nn\"][0:21]).mean()"
   ]
  },
  {
   "cell_type": "code",
   "execution_count": 84,
   "metadata": {},
   "outputs": [
    {
     "data": {
      "text/plain": [
       "<BarContainer object of 2 artists>"
      ]
     },
     "execution_count": 84,
     "metadata": {},
     "output_type": "execute_result"
    },
    {
     "data": {
      "image/png": "[encoded data removed]",
      "text/plain": [
       "<Figure size 720x360 with 4 Axes>"
      ]
     },
     "metadata": {
      "needs_background": "light"
     },
     "output_type": "display_data"
    }
   ],
   "source": [
    "def err_param_rel(temp_params, key='lambda_sib', val_=args.lambda_):\n",
    "    a = (100.*(np.abs(np.array(temp_params[key]) - val_))/args.lambda_).mean()\n",
    "    return a\n",
    "def err_param(temp_params, key='lambda_sib', val_=args.lambda_):\n",
    "    a = (np.abs(np.array(temp_params[key]) - val_)).mean()\n",
    "    return a\n",
    "\n",
    "import matplotlib.pyplot as plt\n",
    "fig, axs = plt.subplots(2,2, figsize=(10,5))\n",
    "x=np.arange(len(temp_params['lambda_sib']))\n",
    "axs[0][0].bar(x, np.array(temp_params['lambda_sib']) - args.lambda_, width=0.4)\n",
    "axs[0][0].bar(x+0.5, np.array(temp_params['lambda_nn']) - args.lambda_, width=0.4)\n",
    "axs[1][0].bar(x, np.array(temp_params['mu_sib']) - args.mu, width=0.4)\n",
    "axs[1][0].bar(x+0.5, np.array(temp_params['mu_nn']) - args.mu, width=0.4)\n",
    "err_sib_lam = err_param(temp_params, key='lambda_sib')\n",
    "err_nn_lam = err_param(temp_params, key='lambda_nn')\n",
    "err_sib_mu = err_param(temp_params, key='mu_sib', val_=args.mu)\n",
    "err_nn_mu = err_param(temp_params, key='mu_nn', val_=args.mu)\n",
    "\n",
    "axs[0][1].bar([0,1], [err_sib_lam, err_nn_lam], width=0.8)\n",
    "axs[1][1].bar([0,1], [err_sib_mu, err_nn_mu], width=0.8)"
   ]
  },
  {
   "cell_type": "code",
   "execution_count": 85,
   "metadata": {},
   "outputs": [
    {
     "name": "stderr",
     "output_type": "stream",
     "text": [
      "No handles with labels found to put in legend.\n"
     ]
    },
    {
     "name": "stdout",
     "output_type": "stream",
     "text": [
      "[134.75422081]\n",
      "[59.1659056]\n",
      "[76.28025642]\n",
      "[35.83327755]\n"
     ]
    },
    {
     "data": {
      "text/plain": [
       "<BarContainer object of 2 artists>"
      ]
     },
     "execution_count": 85,
     "metadata": {},
     "output_type": "execute_result"
    },
    {
     "data": {
      "image/png": "[encoded data removed]",
      "text/plain": [
       "<Figure size 720x360 with 4 Axes>"
      ]
     },
     "metadata": {
      "needs_background": "light"
     },
     "output_type": "display_data"
    }
   ],
   "source": [
    "def err_param_rel(temp_params, key='lambda_sib', val_=args.lambda_, outliers=0.1):\n",
    "    err = 100.*(np.abs(np.array(temp_params[key]) - val_))/args.lambda_\n",
    "    num_outliers=int(len(err)*outliers)\n",
    "    err[::-1].sort()\n",
    "    a = err[num_outliers:].mean()\n",
    "    a_err = err[num_outliers:].std()\n",
    "    print(err[:num_outliers])\n",
    "    return a, a_err\n",
    "def err_param(temp_params, key='lambda_sib', val_=args.lambda_, outliers=0.1):\n",
    "    err = np.abs(np.array(temp_params[key]) - val_)\n",
    "    num_outliers=int(len(err)*outliers)\n",
    "    err[::-1].sort()\n",
    "    a = err[num_outliers:].mean()\n",
    "    a_err = err[num_outliers:].std()\n",
    "    print(err[:num_outliers])\n",
    "    return a, a_err\n",
    "N=args.N\n",
    "import matplotlib.pyplot as plt\n",
    "fig, axs = plt.subplots(2,2, figsize=(10,5))\n",
    "x=np.arange(len(temp_params['lambda_sib']))\n",
    "axs[0][0].bar(x, np.array(temp_params['lambda_sib']) - args.lambda_, width=0.4)\n",
    "axs[0][0].bar(x+0.5, np.array(temp_params['lambda_nn']) - args.lambda_, width=0.4)\n",
    "axs[1][0].bar(x, np.array(temp_params['mu_sib']) - args.mu, width=0.4)\n",
    "axs[1][0].bar(x+0.5, np.array(temp_params['mu_nn']) - args.mu, width=0.4)\n",
    "err_sib_lam, std_sib_lam = err_param_rel(temp_params, key='lambda_sib')\n",
    "err_nn_lam, std_nn_lam = err_param_rel(temp_params, key='lambda_nn')\n",
    "err_sib_mu, std_sib_mu = err_param_rel(temp_params, key='mu_sib', val_=args.mu)\n",
    "err_nn_mu, std_nn_mu = err_param_rel(temp_params, key='mu_nn', val_=args.mu)\n",
    "axs[0][0].set_ylim(-0.05,0.1)\n",
    "plt.legend()\n",
    "axs[0][1].bar([0,1], [err_sib_lam, err_nn_lam], width=0.8, yerr=[std_sib_lam/np.sqrt(N), std_nn_lam/np.sqrt(N)])\n",
    "axs[1][1].bar([0,1], [err_sib_mu, err_nn_mu],yerr=[std_sib_mu/np.sqrt(N), std_nn_mu/np.sqrt(N)], width=0.8)"
   ]
  },
  {
   "cell_type": "code",
   "execution_count": 86,
   "metadata": {},
   "outputs": [
    {
     "data": {
      "text/plain": [
       "0.037233935296535445"
      ]
     },
     "execution_count": 86,
     "metadata": {},
     "output_type": "execute_result"
    }
   ],
   "source": [
    "np.array(temp_params[\"lambda_nn\"]).mean()"
   ]
  },
  {
   "cell_type": "code",
   "execution_count": 92,
   "metadata": {},
   "outputs": [
    {
     "data": {
      "text/html": [
       "<div>\n",
       "<style scoped>\n",
       "    .dataframe tbody tr th:only-of-type {\n",
       "        vertical-align: middle;\n",
       "    }\n",
       "\n",
       "    .dataframe tbody tr th {\n",
       "        vertical-align: top;\n",
       "    }\n",
       "\n",
       "    .dataframe thead th {\n",
       "        text-align: right;\n",
       "    }\n",
       "</style>\n",
       "<table border=\"1\" class=\"dataframe\">\n",
       "  <thead>\n",
       "    <tr style=\"text-align: right;\">\n",
       "      <th></th>\n",
       "      <th>lambda_sib</th>\n",
       "      <th>lambda_nn</th>\n",
       "      <th>mu_sib</th>\n",
       "      <th>mu_nn</th>\n",
       "      <th>mu</th>\n",
       "      <th>lambda</th>\n",
       "    </tr>\n",
       "  </thead>\n",
       "  <tbody>\n",
       "    <tr>\n",
       "      <th>0</th>\n",
       "      <td>0.093902</td>\n",
       "      <td>0.050602</td>\n",
       "      <td>0.043358</td>\n",
       "      <td>0.027400</td>\n",
       "      <td>0.02</td>\n",
       "      <td>0.04</td>\n",
       "    </tr>\n",
       "    <tr>\n",
       "      <th>1</th>\n",
       "      <td>0.066558</td>\n",
       "      <td>0.037401</td>\n",
       "      <td>0.017037</td>\n",
       "      <td>0.011698</td>\n",
       "      <td>0.02</td>\n",
       "      <td>0.04</td>\n",
       "    </tr>\n",
       "    <tr>\n",
       "      <th>2</th>\n",
       "      <td>0.008226</td>\n",
       "      <td>0.016334</td>\n",
       "      <td>0.025535</td>\n",
       "      <td>0.028333</td>\n",
       "      <td>0.02</td>\n",
       "      <td>0.04</td>\n",
       "    </tr>\n",
       "    <tr>\n",
       "      <th>3</th>\n",
       "      <td>0.053526</td>\n",
       "      <td>0.030600</td>\n",
       "      <td>0.011532</td>\n",
       "      <td>0.008200</td>\n",
       "      <td>0.02</td>\n",
       "      <td>0.04</td>\n",
       "    </tr>\n",
       "    <tr>\n",
       "      <th>4</th>\n",
       "      <td>0.073531</td>\n",
       "      <td>0.039401</td>\n",
       "      <td>0.050512</td>\n",
       "      <td>0.034333</td>\n",
       "      <td>0.02</td>\n",
       "      <td>0.04</td>\n",
       "    </tr>\n",
       "    <tr>\n",
       "      <th>5</th>\n",
       "      <td>0.028239</td>\n",
       "      <td>0.022208</td>\n",
       "      <td>0.034173</td>\n",
       "      <td>0.034200</td>\n",
       "      <td>0.02</td>\n",
       "      <td>0.04</td>\n",
       "    </tr>\n",
       "    <tr>\n",
       "      <th>6</th>\n",
       "      <td>0.069112</td>\n",
       "      <td>0.035801</td>\n",
       "      <td>0.008825</td>\n",
       "      <td>0.006175</td>\n",
       "      <td>0.02</td>\n",
       "      <td>0.04</td>\n",
       "    </tr>\n",
       "    <tr>\n",
       "      <th>7</th>\n",
       "      <td>0.062753</td>\n",
       "      <td>0.048589</td>\n",
       "      <td>0.024537</td>\n",
       "      <td>0.021604</td>\n",
       "      <td>0.02</td>\n",
       "      <td>0.04</td>\n",
       "    </tr>\n",
       "    <tr>\n",
       "      <th>8</th>\n",
       "      <td>0.062562</td>\n",
       "      <td>0.045602</td>\n",
       "      <td>0.024454</td>\n",
       "      <td>0.019667</td>\n",
       "      <td>0.02</td>\n",
       "      <td>0.04</td>\n",
       "    </tr>\n",
       "    <tr>\n",
       "      <th>9</th>\n",
       "      <td>0.055606</td>\n",
       "      <td>0.045801</td>\n",
       "      <td>0.023886</td>\n",
       "      <td>0.019800</td>\n",
       "      <td>0.02</td>\n",
       "      <td>0.04</td>\n",
       "    </tr>\n",
       "  </tbody>\n",
       "</table>\n",
       "</div>"
      ],
      "text/plain": [
       "   lambda_sib  lambda_nn    mu_sib     mu_nn    mu  lambda\n",
       "0    0.093902   0.050602  0.043358  0.027400  0.02    0.04\n",
       "1    0.066558   0.037401  0.017037  0.011698  0.02    0.04\n",
       "2    0.008226   0.016334  0.025535  0.028333  0.02    0.04\n",
       "3    0.053526   0.030600  0.011532  0.008200  0.02    0.04\n",
       "4    0.073531   0.039401  0.050512  0.034333  0.02    0.04\n",
       "5    0.028239   0.022208  0.034173  0.034200  0.02    0.04\n",
       "6    0.069112   0.035801  0.008825  0.006175  0.02    0.04\n",
       "7    0.062753   0.048589  0.024537  0.021604  0.02    0.04\n",
       "8    0.062562   0.045602  0.024454  0.019667  0.02    0.04\n",
       "9    0.055606   0.045801  0.023886  0.019800  0.02    0.04"
      ]
     },
     "execution_count": 92,
     "metadata": {},
     "output_type": "execute_result"
    }
   ],
   "source": [
    "import pandas as pd\n",
    "params_df = pd.DataFrame(temp_params)\n",
    "params_df[\"mu\"] = [args.mu]*len(params_df)\n",
    "params_df[\"lambda\"] = [args.lambda_]*len(params_df)\n",
    "params_df.to_csv(\"res_params.gz\")\n",
    "params_df"
   ]
  },
  {
   "cell_type": "code",
   "execution_count": 52,
   "metadata": {},
   "outputs": [
    {
     "data": {
      "text/plain": [
       "<BarContainer object of 2 artists>"
      ]
     },
     "execution_count": 52,
     "metadata": {},
     "output_type": "execute_result"
    },
    {
     "data": {
      "image/png": "[encoded data removed]",
      "text/plain": [
       "<Figure size 720x360 with 4 Axes>"
      ]
     },
     "metadata": {
      "needs_background": "light"
     },
     "output_type": "display_data"
    }
   ],
   "source": [
    "def err_param_rel(temp_params, key='lambda_sib', val_=args.lambda_):\n",
    "    a = (100.*(np.abs(np.array(temp_params[key]) - val_))/args.lambda_).mean()\n",
    "    return a\n",
    "def err_param(temp_params, key='lambda_sib', val_=args.lambda_):\n",
    "    a = (np.abs(np.array(temp_params[key]) - val_)).mean()\n",
    "    return a\n",
    "\n",
    "import matplotlib.pyplot as plt\n",
    "fig, axs = plt.subplots(2,2, figsize=(10,5))\n",
    "x=np.arange(len(temp_params['lambda_sib']))\n",
    "axs[0][0].bar(x, np.array(temp_params['lambda_sib']) - args.lambda_, width=0.4)\n",
    "axs[0][0].bar(x+0.5, np.array(temp_params['lambda_nn']) - args.lambda_, width=0.4)\n",
    "axs[1][0].bar(x, np.array(temp_params['mu_sib']) - args.mu, width=0.4)\n",
    "axs[1][0].bar(x+0.5, np.array(temp_params['mu_nn']) - args.mu, width=0.4)\n",
    "err_sib_lam = err_param(temp_params, key='lambda_sib')\n",
    "err_nn_lam = err_param(temp_params, key='lambda_nn')\n",
    "err_sib_mu = err_param(temp_params, key='mu_sib', val_=args.mu)\n",
    "err_nn_mu = err_param(temp_params, key='mu_nn', val_=args.mu)\n",
    "\n",
    "axs[0][1].bar([0,1], [err_sib_lam, err_nn_lam], width=0.8)\n",
    "axs[1][1].bar([0,1], [err_sib_mu, err_nn_mu], width=0.8)"
   ]
  },
  {
   "cell_type": "code",
   "execution_count": 53,
   "metadata": {},
   "outputs": [
    {
     "name": "stdout",
     "output_type": "stream",
     "text": [
      "\n",
      "SEED: 0\n",
      "\n",
      "SEED: 1\n",
      "\n",
      "SEED: 2\n",
      "\n",
      "SEED: 3\n",
      "\n",
      "SEED: 4\n",
      "\n",
      "SEED: 5\n",
      "\n",
      "SEED: 6\n",
      "\n",
      "SEED: 7\n",
      "\n",
      "SEED: 8\n",
      "\n",
      "SEED: 9\n",
      "\n",
      "SEED: 10\n",
      "\n",
      "SEED: 11\n",
      "\n",
      "SEED: 12\n",
      "\n",
      "SEED: 13\n",
      "\n",
      "SEED: 14\n",
      "\n",
      "SEED: 15\n",
      "\n",
      "SEED: 16\n",
      "\n",
      "SEED: 17\n",
      "\n",
      "SEED: 18\n",
      "\n",
      "SEED: 19\n",
      "\n",
      "SEED: 20\n",
      "\n",
      "SEED: 21\n",
      "\n",
      "SEED: 22\n",
      "\n",
      "SEED: 23\n",
      "\n",
      "SEED: 24\n",
      "\n",
      "SEED: 25\n",
      "\n",
      "SEED: 26\n",
      "\n",
      "SEED: 27\n",
      "\n",
      "SEED: 28\n",
      "\n",
      "SEED: 29\n"
     ]
    }
   ],
   "source": [
    "from utils.analysis import sort_I \n",
    "\n",
    "true_sources = {}\n",
    "nn_sources = {}\n",
    "sib_sources = {}\n",
    "sm_sources = {}\n",
    "rnd_sources_I = {}\n",
    "rnd_sources = {}\n",
    "Is={}\n",
    "for cl in range(len(Ns)):\n",
    "    true_sources[cl] = []\n",
    "    nn_sources[cl] = []\n",
    "    sib_sources[cl] = []\n",
    "    rnd_sources[cl] = []\n",
    "    rnd_sources_I[cl] = []\n",
    "    sm_sources[cl] = []\n",
    "    Is[cl] = []\n",
    "    for i_seed, seed in enumerate(seeds):\n",
    "        print(f\"\\nSEED: {seed}\")\n",
    "\n",
    "        for i in range(num_conf):\n",
    "            true_sources[cl].append(np.argmin(data_[seed][\"epidemy\"][i][0][0]))\n",
    "            nn_sources[cl].append(sort_I(ress[seed][Ns[cl]][i][\"regressive\"][\"marginals\"], 0))\n",
    "            sib_sources[cl].append(sort_I(ress[seed][Ns[cl]][i][\"sib\"][\"marginals\"], 0))\n",
    "            Is[cl].append((data_[seed][\"epidemy\"][i][0][0] != np.inf).sum())\n",
    "            rnd_sources[cl].append(np.random.randint(0,Ns[cl]))\n",
    "            rnd_sources_I[cl].append(np.random.randint(0,Is[cl][-1]))\n",
    "            sm_sources[cl].append({})"
   ]
  },
  {
   "cell_type": "code",
   "execution_count": 54,
   "metadata": {},
   "outputs": [],
   "source": [
    "avg_source_nn = {}\n",
    "avg_source_sib = {}\n",
    "avg_source_sm = {}\n",
    "avg_source_rnd = {}\n",
    "avg_source_rnd_I = {}\n",
    "avg_source_nn_norm = {}\n",
    "avg_source_sib_norm = {}\n",
    "avg_source_sm_norm = {}\n",
    "avg_source_rnd_norm = {}\n",
    "enum=0\n",
    "bins=20\n",
    "\n",
    "for cl in range(len(Ns)):\n",
    "    avg_source_nn[cl] = np.zeros(Ns[cl], dtype=float)\n",
    "    avg_source_sib[cl] = np.zeros(Ns[cl], dtype=float)\n",
    "    avg_source_rnd[cl] = np.zeros(Ns[cl], dtype=float)\n",
    "    avg_source_rnd_I[cl] = np.zeros(Ns[cl], dtype=float)\n",
    "\n",
    "    #print(nalpha)\n",
    "    avg_source_sm[cl] = {}\n",
    "    for n in range(Ns[cl]):\n",
    "        for i in range(len(true_sources[cl])):\n",
    "            avg_source_nn[cl][n] += true_sources[cl][i] in nn_sources[cl][i][:n+1,1]\n",
    "            avg_source_sib[cl][n] += true_sources[cl][i] in sib_sources[cl][i][:n+1,1]\n",
    "            avg_source_rnd[cl][n] += n+1 > rnd_sources[cl][i]\n",
    "            avg_source_rnd_I[cl][n] += n+1 > rnd_sources_I[cl][i]\n",
    "for cl in range(len(Ns)):\n",
    "    avg_source_nn_norm[cl] = np.zeros(bins, dtype=float)\n",
    "    avg_source_sib_norm[cl] = np.zeros(bins, dtype=float)\n",
    "    avg_source_rnd_norm[cl] = np.zeros(bins, dtype=float)\n",
    "\n",
    "    #print(nalpha)\n",
    "    avg_source_sm_norm[cl] = {}\n",
    "    for n in range(0, bins):\n",
    "        for i in range(len(true_sources[cl])):\n",
    "            I = Is[cl][i]\n",
    "            step_I = I / bins\n",
    "            pos_bins = int(step_I * n)\n",
    "            pos_bins_1 = int(step_I * (n+1))\n",
    "            if n == bins-1:\n",
    "                pos_bins_1 = I\n",
    "\n",
    "            avg_source_nn_norm[cl][n] += true_sources[cl][i] in nn_sources[cl][i][:pos_bins_1,1]\n",
    "            avg_source_sib_norm[cl][n] += true_sources[cl][i] in sib_sources[cl][i][:pos_bins_1,1]\n",
    "            avg_source_rnd_norm[cl][n] += pos_bins_1 > rnd_sources_I[cl][i]\n"
   ]
  },
  {
   "cell_type": "code",
   "execution_count": 55,
   "metadata": {},
   "outputs": [
    {
     "ename": "NameError",
     "evalue": "name 'nsims' is not defined",
     "output_type": "error",
     "traceback": [
      "\u001b[0;31m---------------------------------------------------------------------------\u001b[0m",
      "\u001b[0;31mNameError\u001b[0m                                 Traceback (most recent call last)",
      "\u001b[0;32m<ipython-input-55-878e6daf593c>\u001b[0m in \u001b[0;36m<module>\u001b[0;34m\u001b[0m\n\u001b[1;32m      2\u001b[0m avg_source_pd = pd.DataFrame(data={\"nn\":avg_source_nn[cl], \"sib\":avg_source_sib[cl], \n\u001b[1;32m      3\u001b[0m                                    \"rnd\":avg_source_rnd[cl], \"rnd_I\":avg_source_rnd_I[cl]})\n\u001b[0;32m----> 4\u001b[0;31m \u001b[0;32mfor\u001b[0m \u001b[0mnsim\u001b[0m \u001b[0;32min\u001b[0m \u001b[0mnsims\u001b[0m\u001b[0;34m:\u001b[0m\u001b[0;34m\u001b[0m\u001b[0;34m\u001b[0m\u001b[0m\n\u001b[0m\u001b[1;32m      5\u001b[0m     \u001b[0;32mfor\u001b[0m \u001b[0malpha\u001b[0m \u001b[0;32min\u001b[0m \u001b[0mrange\u001b[0m\u001b[0;34m(\u001b[0m\u001b[0mnalpha\u001b[0m\u001b[0;34m)\u001b[0m\u001b[0;34m:\u001b[0m\u001b[0;34m\u001b[0m\u001b[0;34m\u001b[0m\u001b[0m\n\u001b[1;32m      6\u001b[0m         \u001b[0mavg_source_pd\u001b[0m\u001b[0;34m[\u001b[0m\u001b[0;34mf\"sm_{nsim}_{args.a_min+alpha*args.a_step:.2f}\"\u001b[0m\u001b[0;34m]\u001b[0m \u001b[0;34m=\u001b[0m \u001b[0mavg_source_sm\u001b[0m\u001b[0;34m[\u001b[0m\u001b[0mcl\u001b[0m\u001b[0;34m]\u001b[0m\u001b[0;34m[\u001b[0m\u001b[0mnsim\u001b[0m\u001b[0;34m]\u001b[0m\u001b[0;34m[\u001b[0m\u001b[0malpha\u001b[0m\u001b[0;34m]\u001b[0m\u001b[0;34m\u001b[0m\u001b[0;34m\u001b[0m\u001b[0m\n",
      "\u001b[0;31mNameError\u001b[0m: name 'nsims' is not defined"
     ]
    }
   ],
   "source": [
    "cl = 0\n",
    "avg_source_pd = pd.DataFrame(data={\"nn\":avg_source_nn[cl], \"sib\":avg_source_sib[cl], \n",
    "                                   \"rnd\":avg_source_rnd[cl], \"rnd_I\":avg_source_rnd_I[cl]})\n",
    "for nsim in nsims:\n",
    "    for alpha in range(nalpha): \n",
    "        avg_source_pd[f\"sm_{nsim}_{args.a_min+alpha*args.a_step:.2f}\"] = avg_source_sm[cl][nsim][alpha]\n",
    "\n",
    "avg_source_pd_norm = pd.DataFrame(data={\"nn\":avg_source_nn_norm[cl], \n",
    "                                        \"sib\":avg_source_sib_norm[cl],\n",
    "                                       \"rnd\":avg_source_rnd_norm[cl]})\n",
    "for nsim in nsims:\n",
    "    for alpha in range(nalpha): \n",
    "        avg_source_pd_norm[f\"sm_{nsim}_{args.a_min+alpha*args.a_step:.2f}\"] = avg_source_sm_norm[cl][nsim][alpha]\n",
    "\n",
    "avg_source_pd"
   ]
  },
  {
   "cell_type": "code",
   "execution_count": null,
   "metadata": {},
   "outputs": [],
   "source": [
    "avg_source_pd.to_csv(\"results.gz\")\n",
    "avg_source_pd_norm.to_csv(\"results_norm.gz\")"
   ]
  },
  {
   "cell_type": "code",
   "execution_count": null,
   "metadata": {},
   "outputs": [],
   "source": [
    "import matplotlib.pyplot as plt\n",
    "import numpy as np\n",
    "from sklearn.metrics import auc\n",
    "plt.figure(figsize=(10,5))\n",
    "name=\"Greens\"\n",
    "colors = plt.get_cmap(name)\n",
    "\n",
    "y_nn = np.insert(avg_source_nn[cl]/avg_source_nn[cl][-1],0,0)\n",
    "y_sib = np.insert(avg_source_sib[cl]/avg_source_sib[cl][-1],0,0)\n",
    "y_rnd = np.insert(avg_source_rnd[cl]/avg_source_rnd[cl][-1],0,0)\n",
    "y_rnd_I = np.insert(avg_source_rnd_I[cl]/avg_source_rnd_I[cl][-1],0,0)\n",
    "N = len(avg_source_nn[cl])\n",
    "x = np.arange(N+1)/N\n",
    "cl=0\n",
    "plt.plot(x, y_rnd, \"--\", label=f\"random -- auc: {auc(x, y_rnd):.3f}\", color=\"black\")\n",
    "plt.plot(x, y_rnd_I, \"--\", label=f\"random (only I) -- auc: {auc(x, y_rnd_I):.3f}\", color=\"black\")\n",
    "\n",
    "for i, nsim in enumerate(nsims[1:]):\n",
    "    alpha=21\n",
    "    #for alpha in range(len(avg_source_sm[cl][nsim])):\n",
    "    y_sm = np.insert(avg_source_sm[cl][nsim][alpha]/avg_source_sm[cl][nsim][alpha][-1],0,0)\n",
    "    #print(alpha, avg_source_sm[cl][alpha])\n",
    "    plt.plot(x, y_sm, \":\",\n",
    "             label=f\"sm - {args.a_min+alpha*args.a_step:.2f} -- auc {auc(x, y_sm):.3f} -- sims:{nsim:.0e}\", \n",
    "             color=colors(np.clip(i/len(nsims[1:]), 0.3, 0.9)), lw=2)\n",
    "plt.plot(x, y_sib, \"-.\", label=f\"sib -- auc: {auc(x, y_sib):.3f}\", linewidth=\"2\")\n",
    "plt.plot(x, y_nn, label=f\"nn -- auc: {auc(x, y_nn):.3f}\", linewidth=\"2\")\n",
    "\n",
    "plt.legend()\n",
    "plt.xlim(0,1)\n",
    "plt.ylim(0,1.01)\n",
    "plt.title(f\"{args.type_graph} N:{Ns[0]}, days:{args.t_limit}, lambda_:{args.lambda_}, mu:{args.mu} inst:{len(true_sources[0])}\")\n",
    "plt.xlabel(\"fraction of infected or recovery nodes\")\n",
    "plt.ylabel(\"fraction of true sources found\")\n",
    "#plt.ylim(0,17)"
   ]
  },
  {
   "cell_type": "code",
   "execution_count": null,
   "metadata": {},
   "outputs": [],
   "source": [
    "import matplotlib.pyplot as plt\n",
    "import numpy as np\n",
    "from sklearn.metrics import auc\n",
    "plt.figure(figsize=(10,5))\n",
    "y_nn = np.insert(avg_source_nn[cl]/avg_source_nn[cl][-1],0,0)\n",
    "y_sib = np.insert(avg_source_sib[cl]/avg_source_sib[cl][-1],0,0)\n",
    "N = len(avg_source_nn[cl])\n",
    "x = np.insert(np.arange(N)/N,0,0)\n",
    "cl=0\n",
    "#plt.plot(x, y_nn, label=f\"nn -- auc: {auc(x, y_nn):.3f}\")\n",
    "#plt.plot(x, y_sib, label=f\"sib -- auc: {auc(x, y_sib):.3f}\")\n",
    "\n",
    "for nsim in nsims:\n",
    "    alphas = []\n",
    "    y = []\n",
    "    for alpha in range(len(avg_source_sm[cl][nsim])):\n",
    "        y_sm = np.insert(avg_source_sm[cl][nsim][alpha]/avg_source_sm[cl][nsim][alpha][-1],0,0)\n",
    "        #print(alpha, avg_source_sm[cl][alpha])\n",
    "        #plt.plot(x, y_sm, label=f\"sm - {a_min+alpha*a_step:.2f} -- auc {auc(x, y_sm):.3f} -- sims:{nsim}\")\n",
    "        y.append(auc(x, y_sm))\n",
    "        alphas.append(args.a_min+alpha*args.a_step)\n",
    "    plt.plot(alphas, y, label=f\"nsim: {nsim:.0e}\")\n",
    "plt.legend()\n",
    "#plt.xlim(0,1)\n",
    "#plt.title(f\"work95 N:{Ns[0]}, days:{t_limit}, gamma:{gamma[0]}, mu:{mu} inst:{len(true_sources[0])}\")\n",
    "#plt.ylim(0,17)"
   ]
  },
  {
   "cell_type": "code",
   "execution_count": null,
   "metadata": {},
   "outputs": [],
   "source": [
    "import matplotlib.pyplot as plt\n",
    "import numpy as np\n",
    "from sklearn.metrics import auc\n",
    "plt.figure(figsize=(10,5))\n",
    "name=\"Greens\"\n",
    "colors = plt.get_cmap(name)\n",
    "\n",
    "y_nn = np.insert(avg_source_nn_norm[cl]/avg_source_nn_norm[cl][-1],0,0)\n",
    "y_sib = np.insert(avg_source_sib_norm[cl]/avg_source_sib_norm[cl][-1],0,0)\n",
    "y_rnd = np.insert(avg_source_rnd_norm[cl]/avg_source_rnd_norm[cl][-1],0,0)\n",
    "N = len(avg_source_nn_norm[cl])\n",
    "x = np.arange(N+1)/N\n",
    "cl=0\n",
    "plt.plot(x, y_rnd, \"--\", label=f\"random -- auc: {auc(x, y_rnd):.3f}\", color=\"black\")\n",
    "\n",
    "for i, nsim in enumerate(nsims[1:]):\n",
    "    alpha=21\n",
    "    #for alpha in range(len(avg_source_sm[cl][nsim])):\n",
    "    y_sm = np.insert(avg_source_sm_norm[cl][nsim][alpha]/avg_source_sm_norm[cl][nsim][alpha][-1],0,0)\n",
    "    #print(alpha, avg_source_sm[cl][alpha])\n",
    "    plt.plot(x, y_sm, \":\",\n",
    "             label=f\"sm - {args.a_min+alpha*args.a_step:.2f} -- auc {auc(x, y_sm):.3f} -- sims:{nsim:.0e}\", \n",
    "             color=colors(np.clip(i/len(nsims[1:]), 0.3, 0.9)), lw=2)\n",
    "plt.plot(x, y_sib, \"-.\", label=f\"sib -- auc: {auc(x, y_sib):.3f}\", linewidth=\"2\")\n",
    "plt.plot(x, y_nn, label=f\"nn -- auc: {auc(x, y_nn):.3f}\", linewidth=\"2\")\n",
    "\n",
    "plt.legend()\n",
    "plt.xlim(0,1)\n",
    "plt.ylim(0,1)\n",
    "plt.title(f\"{args.type_graph} N:{Ns[0]}, days:{args.t_limit}, lambda_:{args.lambda_}, mu:{args.mu} inst:{len(true_sources[0])}\")\n",
    "plt.xlabel(\"fraction of infected or recovery nodes\")\n",
    "plt.ylabel(\"fraction of true sources found\")\n",
    "#plt.ylim(0,17)"
   ]
  },
  {
   "cell_type": "code",
   "execution_count": null,
   "metadata": {},
   "outputs": [],
   "source": [
    "import matplotlib.pyplot as plt\n",
    "import numpy as np\n",
    "from sklearn.metrics import auc\n",
    "plt.figure(figsize=(10,5))\n",
    "y_nn = np.insert(avg_source_nn_norm[cl]/avg_source_nn_norm[cl][-1],0,0)\n",
    "y_sib = np.insert(avg_source_sib[cl]/avg_source_sib[cl][-1],0,0)\n",
    "N = len(avg_source_nn_norm[cl])\n",
    "x = np.arange(N+1)/N\n",
    "cl=0\n",
    "#plt.plot(x, y_nn, label=f\"nn -- auc: {auc(x, y_nn):.3f}\")\n",
    "#plt.plot(x, y_sib, label=f\"sib -- auc: {auc(x, y_sib):.3f}\")\n",
    "\n",
    "for nsim in nsims:\n",
    "    alphas = []\n",
    "    y = []\n",
    "    for alpha in range(len(avg_source_sm_norm[cl][nsim])):\n",
    "        y_sm = np.insert(avg_source_sm_norm[cl][nsim][alpha]/avg_source_sm_norm[cl][nsim][alpha][-1],0,0)\n",
    "        #print(alpha, avg_source_sm[cl][alpha])\n",
    "        #plt.plot(x, y_sm, label=f\"sm - {a_min+alpha*a_step:.2f} -- auc {auc(x, y_sm):.3f} -- sims:{nsim}\")\n",
    "        y.append(auc(x, y_sm))\n",
    "        alphas.append(args.a_min+alpha*args.a_step)\n",
    "    plt.plot(alphas, y, label=f\"nsim: {nsim:.0e}\")\n",
    "plt.legend()\n",
    "#plt.xlim(0,1)\n",
    "#plt.title(f\"work95 N:{Ns[0]}, days:{t_limit}, gamma:{gamma[0]}, mu:{mu} inst:{len(true_sources[0])}\")\n",
    "#plt.ylim(0,17)"
   ]
  },
  {
   "cell_type": "code",
   "execution_count": null,
   "metadata": {},
   "outputs": [],
   "source": []
  },
  {
   "cell_type": "code",
   "execution_count": null,
   "metadata": {},
   "outputs": [],
   "source": []
  },
  {
   "cell_type": "code",
   "execution_count": null,
   "metadata": {},
   "outputs": [],
   "source": []
  },
  {
   "cell_type": "code",
   "execution_count": null,
   "metadata": {},
   "outputs": [],
   "source": []
  }
 ],
 "metadata": {
  "kernelspec": {
   "display_name": "Python 3",
   "language": "python",
   "name": "python3"
  },
  "language_info": {
   "codemirror_mode": {
    "name": "ipython",
    "version": 3
   },
   "file_extension": ".py",
   "mimetype": "text/x-python",
   "name": "python",
   "nbconvert_exporter": "python",
   "pygments_lexer": "ipython3",
   "version": "3.8.5"
  }
 },
 "nbformat": 4,
 "nbformat_minor": 4
}
