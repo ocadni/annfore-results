{
 "cells": [
  {
   "cell_type": "code",
   "execution_count": 58,
   "id": "worthy-sacrifice",
   "metadata": {},
   "outputs": [],
   "source": [
    "import pandas as pd\n",
    "import numpy as np\n",
    "import sys"
   ]
  },
  {
   "cell_type": "code",
   "execution_count": 59,
   "id": "vital-south",
   "metadata": {},
   "outputs": [],
   "source": [
    "graphs = [\"TREE\", \"rrg\", \"proximity\", \"work\"]"
   ]
  },
  {
   "cell_type": "code",
   "execution_count": 60,
   "id": "visible-bible",
   "metadata": {},
   "outputs": [],
   "source": [
    "res_params = {}\n",
    "for g in graphs:\n",
    "    temp = pd.read_csv(f\"{g}/res_params.gz\", index_col=0)\n",
    "    sib_df = temp.drop(['lambda_nn', 'mu_nn'], axis=1)\n",
    "    nn_df = temp.drop(['lambda_sib', 'mu_sib'], axis=1)\n",
    "    sib_df = sib_df.rename(columns={\"lambda_sib\": \"lambda_inf\", \"mu_sib\": \"mu_inf\"})\n",
    "    nn_df = nn_df.rename(columns={\"lambda_nn\": \"lambda_inf\", \"mu_nn\": \"mu_inf\"})\n",
    "    sib_df[\"err_lambda\"] = np.abs(sib_df[\"lambda_inf\"] - sib_df[\"lambda\"])\n",
    "    sib_df[\"err_mu\"] = np.abs(sib_df[\"mu_inf\"] - sib_df[\"mu\"])\n",
    "    sib_df[\"err_lambda_per\"] = 100*np.abs(sib_df[\"lambda_inf\"] - sib_df[\"lambda\"])/sib_df[\"lambda\"]\n",
    "    sib_df[\"err_mu_per\"] = 100*np.abs(sib_df[\"mu_inf\"] - sib_df[\"mu\"])/sib_df[\"mu\"]\n",
    "    \n",
    "    nn_df[\"err_lambda\"] = np.abs(nn_df[\"lambda_inf\"] - nn_df[\"lambda\"])\n",
    "    nn_df[\"err_mu\"] = np.abs(nn_df[\"mu_inf\"] - nn_df[\"mu\"])\n",
    "    nn_df[\"err_lambda_per\"] = 100*np.abs(nn_df[\"lambda_inf\"] - nn_df[\"lambda\"])/nn_df[\"lambda\"]\n",
    "    nn_df[\"err_mu_per\"] = 100*np.abs(nn_df[\"mu_inf\"] - nn_df[\"mu\"])/nn_df[\"mu\"]\n",
    "\n",
    "    sib_df[\"algo\"]=[\"SIB\"]*len(sib_df)\n",
    "    nn_df[\"algo\"]=[\"ANN\"]*len(nn_df)   \n",
    "    q = sib_df[\"err_lambda_per\"].quantile(0.95)\n",
    "    sib_df=sib_df[sib_df[\"err_lambda_per\"] < q]\n",
    "    q = nn_df[\"err_lambda_per\"].quantile(0.95)\n",
    "    nn_df=nn_df[nn_df[\"err_lambda_per\"] < q]\n",
    "    res_params[g]=pd.concat([nn_df, sib_df])\n",
    "    res_params[g][\"type\"] = [g]*len(res_params[g])"
   ]
  },
  {
   "cell_type": "code",
   "execution_count": 61,
   "metadata": {},
   "outputs": [],
   "source": [
    "ress={}\n",
    "ress_rand={}\n",
    "nun_seed=11\n",
    "gamma1=1.5e-4\n",
    "gamma2=3e-5\n",
    "for seed in range(1,nun_seed):\n",
    "    ress[seed] = pd.read_csv(f\"./i_bird/data/eq_05_lr_data_deltas_2_gamma_n_326_d_10_tlim_12_lam_0.5_mu_1e-10_s_{seed}_pe_1_0_trace.gz\")    \n",
    "    ress_rand[seed] = pd.read_csv(f\"./i_bird/data/eq_05_rand_lr_data_deltas_2_gamma_n_326_d_10_tlim_12_lam_0.5_mu_1e-10_s_{seed}_pe_1_0_trace.gz\")\n",
    "\n",
    "gammas1=[]\n",
    "gammas2=[]\n",
    "gammas1_rand=[]\n",
    "gammas2_rand=[]\n",
    "betas = []\n",
    "betas_rand = []\n",
    "for seed in range(1,nun_seed):\n",
    "    gammas1.append(ress[seed][\"gamma1\"][-100:].mean())\n",
    "    gammas2.append(ress[seed][\"gamma2\"][-100:].mean())\n",
    "    gammas1_rand.append(ress_rand[seed][\"gamma1\"][-100:].mean())\n",
    "    gammas2_rand.append(ress_rand[seed][\"gamma2\"][-100:].mean())\n",
    "    betas.append(ress[seed][\"beta\"].iloc[-1])\n",
    "    betas_rand.append(ress_rand[seed][\"beta\"].iloc[-1])\n",
    "gammas1 = np.array(gammas1)\n",
    "gammas2 = np.array(gammas2)\n",
    "gammas1_rand = np.array(gammas1_rand)\n",
    "gammas2_rand = np.array(gammas2_rand)\n",
    "res_gamma_temp = []\n",
    "for ii,i in enumerate(gammas1):\n",
    "    res_gamma_temp.append({\"val\":gammas1[ii],\"type\": \"gamma1\", \"model\":\"true_model\", \"inst\":ii})\n",
    "    res_gamma_temp.append({\"val\":gammas2[ii],\"type\": \"gamma2\", \"model\":\"true_model\", \"inst\":ii})\n",
    "    res_gamma_temp.append({\"val\":gammas1_rand[ii],\"type\": \"gamma1\", \"model\":\"null_model\", \"inst\":ii})\n",
    "    res_gamma_temp.append({\"val\":gammas2_rand[ii],\"type\": \"gamma2\", \"model\":\"null_model\" , \"inst\":ii})\n",
    "res_gamma = pd.DataFrame(res_gamma_temp)\n",
    "\n",
    "loss=[]\n",
    "loss_rand=[]\n",
    "for seed in range(1,nun_seed):\n",
    "    loss.append(ress[seed][\"loss\"][-100:].mean())\n",
    "    loss_rand.append(ress_rand[seed][\"loss\"][-100:].mean())\n",
    "loss = np.array(loss)\n",
    "loss_rand = np.array(loss_rand)\n",
    "res_loss = pd.DataFrame({\"loss\":-loss, \"loss_rand\":-loss_rand, \"beta\": betas, \"beta_rand\":betas_rand})\n",
    "res_loss[\"diff_loss\"] = -(loss - loss_rand)\n"
   ]
  },
  {
   "cell_type": "code",
   "execution_count": 62,
   "id": "editorial-repeat",
   "metadata": {},
   "outputs": [],
   "source": [
    "g_name = [\"tree\", \"rrg\", \"proximity\", \"work\"]\n",
    "for i_g, g in enumerate(graphs):\n",
    "    res_params[g][\"type\"] = [g_name[i_g]]*len(res_params[g])"
   ]
  },
  {
   "cell_type": "code",
   "execution_count": 63,
   "id": "therapeutic-spread",
   "metadata": {},
   "outputs": [],
   "source": [
    "all_pd = pd.concat( list(res_params.values()), ignore_index = True)"
   ]
  },
  {
   "cell_type": "code",
   "execution_count": 64,
   "id": "8def5aed-bb05-4423-a21f-cb3730853b4d",
   "metadata": {},
   "outputs": [
    {
     "data": {
      "text/html": [
       "<div>\n",
       "<style scoped>\n",
       "    .dataframe tbody tr th:only-of-type {\n",
       "        vertical-align: middle;\n",
       "    }\n",
       "\n",
       "    .dataframe tbody tr th {\n",
       "        vertical-align: top;\n",
       "    }\n",
       "\n",
       "    .dataframe thead th {\n",
       "        text-align: right;\n",
       "    }\n",
       "</style>\n",
       "<table border=\"1\" class=\"dataframe\">\n",
       "  <thead>\n",
       "    <tr style=\"text-align: right;\">\n",
       "      <th></th>\n",
       "      <th>lambda_inf</th>\n",
       "      <th>mu_inf</th>\n",
       "      <th>mu</th>\n",
       "      <th>lambda</th>\n",
       "      <th>err_lambda</th>\n",
       "      <th>err_mu</th>\n",
       "      <th>err_lambda_per</th>\n",
       "      <th>err_mu_per</th>\n",
       "      <th>algo</th>\n",
       "      <th>type</th>\n",
       "    </tr>\n",
       "  </thead>\n",
       "  <tbody>\n",
       "    <tr>\n",
       "      <th>0</th>\n",
       "      <td>0.434606</td>\n",
       "      <td>1.000000e-06</td>\n",
       "      <td>0.00</td>\n",
       "      <td>0.350</td>\n",
       "      <td>0.084606</td>\n",
       "      <td>1.000000e-06</td>\n",
       "      <td>24.173105</td>\n",
       "      <td>inf</td>\n",
       "      <td>ANN</td>\n",
       "      <td>tree</td>\n",
       "    </tr>\n",
       "    <tr>\n",
       "      <th>1</th>\n",
       "      <td>0.444826</td>\n",
       "      <td>1.000000e-06</td>\n",
       "      <td>0.00</td>\n",
       "      <td>0.350</td>\n",
       "      <td>0.094826</td>\n",
       "      <td>1.000000e-06</td>\n",
       "      <td>27.093026</td>\n",
       "      <td>inf</td>\n",
       "      <td>ANN</td>\n",
       "      <td>tree</td>\n",
       "    </tr>\n",
       "    <tr>\n",
       "      <th>2</th>\n",
       "      <td>0.329926</td>\n",
       "      <td>1.000000e-06</td>\n",
       "      <td>0.00</td>\n",
       "      <td>0.350</td>\n",
       "      <td>0.020074</td>\n",
       "      <td>1.000000e-06</td>\n",
       "      <td>5.735552</td>\n",
       "      <td>inf</td>\n",
       "      <td>ANN</td>\n",
       "      <td>tree</td>\n",
       "    </tr>\n",
       "    <tr>\n",
       "      <th>3</th>\n",
       "      <td>0.379899</td>\n",
       "      <td>1.000000e-06</td>\n",
       "      <td>0.00</td>\n",
       "      <td>0.350</td>\n",
       "      <td>0.029899</td>\n",
       "      <td>1.000000e-06</td>\n",
       "      <td>8.542689</td>\n",
       "      <td>inf</td>\n",
       "      <td>ANN</td>\n",
       "      <td>tree</td>\n",
       "    </tr>\n",
       "    <tr>\n",
       "      <th>4</th>\n",
       "      <td>0.326576</td>\n",
       "      <td>1.000000e-06</td>\n",
       "      <td>0.00</td>\n",
       "      <td>0.350</td>\n",
       "      <td>0.023424</td>\n",
       "      <td>1.000000e-06</td>\n",
       "      <td>6.692684</td>\n",
       "      <td>inf</td>\n",
       "      <td>ANN</td>\n",
       "      <td>tree</td>\n",
       "    </tr>\n",
       "    <tr>\n",
       "      <th>...</th>\n",
       "      <td>...</td>\n",
       "      <td>...</td>\n",
       "      <td>...</td>\n",
       "      <td>...</td>\n",
       "      <td>...</td>\n",
       "      <td>...</td>\n",
       "      <td>...</td>\n",
       "      <td>...</td>\n",
       "      <td>...</td>\n",
       "      <td>...</td>\n",
       "    </tr>\n",
       "    <tr>\n",
       "      <th>67</th>\n",
       "      <td>0.001054</td>\n",
       "      <td>1.229023e-02</td>\n",
       "      <td>0.02</td>\n",
       "      <td>0.001</td>\n",
       "      <td>0.000054</td>\n",
       "      <td>7.709768e-03</td>\n",
       "      <td>5.411746</td>\n",
       "      <td>38.548838</td>\n",
       "      <td>SIB</td>\n",
       "      <td>work</td>\n",
       "    </tr>\n",
       "    <tr>\n",
       "      <th>68</th>\n",
       "      <td>0.001039</td>\n",
       "      <td>1.313067e-02</td>\n",
       "      <td>0.02</td>\n",
       "      <td>0.001</td>\n",
       "      <td>0.000039</td>\n",
       "      <td>6.869328e-03</td>\n",
       "      <td>3.899801</td>\n",
       "      <td>34.346639</td>\n",
       "      <td>SIB</td>\n",
       "      <td>work</td>\n",
       "    </tr>\n",
       "    <tr>\n",
       "      <th>69</th>\n",
       "      <td>0.001109</td>\n",
       "      <td>1.362896e-02</td>\n",
       "      <td>0.02</td>\n",
       "      <td>0.001</td>\n",
       "      <td>0.000109</td>\n",
       "      <td>6.371039e-03</td>\n",
       "      <td>10.868899</td>\n",
       "      <td>31.855197</td>\n",
       "      <td>SIB</td>\n",
       "      <td>work</td>\n",
       "    </tr>\n",
       "    <tr>\n",
       "      <th>70</th>\n",
       "      <td>0.000927</td>\n",
       "      <td>8.579230e-03</td>\n",
       "      <td>0.02</td>\n",
       "      <td>0.001</td>\n",
       "      <td>0.000073</td>\n",
       "      <td>1.142077e-02</td>\n",
       "      <td>7.330052</td>\n",
       "      <td>57.103848</td>\n",
       "      <td>SIB</td>\n",
       "      <td>work</td>\n",
       "    </tr>\n",
       "    <tr>\n",
       "      <th>71</th>\n",
       "      <td>0.001043</td>\n",
       "      <td>2.673970e-02</td>\n",
       "      <td>0.02</td>\n",
       "      <td>0.001</td>\n",
       "      <td>0.000043</td>\n",
       "      <td>6.739699e-03</td>\n",
       "      <td>4.292085</td>\n",
       "      <td>33.698497</td>\n",
       "      <td>SIB</td>\n",
       "      <td>work</td>\n",
       "    </tr>\n",
       "  </tbody>\n",
       "</table>\n",
       "<p>72 rows × 10 columns</p>\n",
       "</div>"
      ],
      "text/plain": [
       "    lambda_inf        mu_inf    mu  lambda  err_lambda        err_mu  \\\n",
       "0     0.434606  1.000000e-06  0.00   0.350    0.084606  1.000000e-06   \n",
       "1     0.444826  1.000000e-06  0.00   0.350    0.094826  1.000000e-06   \n",
       "2     0.329926  1.000000e-06  0.00   0.350    0.020074  1.000000e-06   \n",
       "3     0.379899  1.000000e-06  0.00   0.350    0.029899  1.000000e-06   \n",
       "4     0.326576  1.000000e-06  0.00   0.350    0.023424  1.000000e-06   \n",
       "..         ...           ...   ...     ...         ...           ...   \n",
       "67    0.001054  1.229023e-02  0.02   0.001    0.000054  7.709768e-03   \n",
       "68    0.001039  1.313067e-02  0.02   0.001    0.000039  6.869328e-03   \n",
       "69    0.001109  1.362896e-02  0.02   0.001    0.000109  6.371039e-03   \n",
       "70    0.000927  8.579230e-03  0.02   0.001    0.000073  1.142077e-02   \n",
       "71    0.001043  2.673970e-02  0.02   0.001    0.000043  6.739699e-03   \n",
       "\n",
       "    err_lambda_per  err_mu_per algo  type  \n",
       "0        24.173105         inf  ANN  tree  \n",
       "1        27.093026         inf  ANN  tree  \n",
       "2         5.735552         inf  ANN  tree  \n",
       "3         8.542689         inf  ANN  tree  \n",
       "4         6.692684         inf  ANN  tree  \n",
       "..             ...         ...  ...   ...  \n",
       "67        5.411746   38.548838  SIB  work  \n",
       "68        3.899801   34.346639  SIB  work  \n",
       "69       10.868899   31.855197  SIB  work  \n",
       "70        7.330052   57.103848  SIB  work  \n",
       "71        4.292085   33.698497  SIB  work  \n",
       "\n",
       "[72 rows x 10 columns]"
      ]
     },
     "execution_count": 64,
     "metadata": {},
     "output_type": "execute_result"
    }
   ],
   "source": [
    "all_pd"
   ]
  },
  {
   "cell_type": "code",
   "execution_count": 86,
   "id": "hydraulic-polish",
   "metadata": {},
   "outputs": [
    {
     "data": {
      "image/png": "[encoded data removed]",
      "text/plain": [
       "<Figure size 432x288 with 1 Axes>"
      ]
     },
     "metadata": {
      "needs_background": "light"
     },
     "output_type": "display_data"
    }
   ],
   "source": [
    "import seaborn as sns\n",
    "import matplotlib.pyplot as plt\n",
    "\n",
    "ax = sns.barplot(x=\"type\", y=\"err_lambda_per\", hue=\"algo\",\n",
    "                 data=all_pd, palette=\"tab10\", errwidth=2,saturation=1)\n",
    "handles, labels = ax.get_legend_handles_labels()\n",
    "ax.legend(handles, labels, title=\"Algorithms\",\n",
    "          handletextpad=0, columnspacing=1,\n",
    "           ncol=1, frameon=False)\n",
    "plt.ylabel(\"average error [%]\")\n",
    "plt.xlabel(\"\")\n",
    "#plt.savefig(\"img/params.pdf\")\n",
    "#plt.savefig(\"img/params.png\")\n",
    "plt.show()"
   ]
  },
  {
   "cell_type": "code",
   "execution_count": 87,
   "metadata": {},
   "outputs": [
    {
     "data": {
      "text/html": [
       "<div>\n",
       "<style scoped>\n",
       "    .dataframe tbody tr th:only-of-type {\n",
       "        vertical-align: middle;\n",
       "    }\n",
       "\n",
       "    .dataframe tbody tr th {\n",
       "        vertical-align: top;\n",
       "    }\n",
       "\n",
       "    .dataframe thead th {\n",
       "        text-align: right;\n",
       "    }\n",
       "</style>\n",
       "<table border=\"1\" class=\"dataframe\">\n",
       "  <thead>\n",
       "    <tr style=\"text-align: right;\">\n",
       "      <th></th>\n",
       "      <th>loss</th>\n",
       "      <th>loss_rand</th>\n",
       "      <th>beta</th>\n",
       "      <th>beta_rand</th>\n",
       "      <th>diff_loss</th>\n",
       "    </tr>\n",
       "  </thead>\n",
       "  <tbody>\n",
       "    <tr>\n",
       "      <th>0</th>\n",
       "      <td>-5981.054912</td>\n",
       "      <td>-5995.789780</td>\n",
       "      <td>1.0</td>\n",
       "      <td>1.0</td>\n",
       "      <td>14.734868</td>\n",
       "    </tr>\n",
       "    <tr>\n",
       "      <th>1</th>\n",
       "      <td>-6392.288330</td>\n",
       "      <td>-6399.398618</td>\n",
       "      <td>1.0</td>\n",
       "      <td>1.0</td>\n",
       "      <td>7.110288</td>\n",
       "    </tr>\n",
       "    <tr>\n",
       "      <th>2</th>\n",
       "      <td>-7594.261860</td>\n",
       "      <td>-7614.247612</td>\n",
       "      <td>1.0</td>\n",
       "      <td>1.0</td>\n",
       "      <td>19.985752</td>\n",
       "    </tr>\n",
       "    <tr>\n",
       "      <th>3</th>\n",
       "      <td>-9837.280664</td>\n",
       "      <td>-9848.598203</td>\n",
       "      <td>1.0</td>\n",
       "      <td>1.0</td>\n",
       "      <td>11.317539</td>\n",
       "    </tr>\n",
       "    <tr>\n",
       "      <th>4</th>\n",
       "      <td>-9168.250859</td>\n",
       "      <td>-9153.891816</td>\n",
       "      <td>1.0</td>\n",
       "      <td>1.0</td>\n",
       "      <td>-14.359043</td>\n",
       "    </tr>\n",
       "    <tr>\n",
       "      <th>5</th>\n",
       "      <td>-6590.392354</td>\n",
       "      <td>-6629.016465</td>\n",
       "      <td>1.0</td>\n",
       "      <td>1.0</td>\n",
       "      <td>38.624111</td>\n",
       "    </tr>\n",
       "    <tr>\n",
       "      <th>6</th>\n",
       "      <td>-8685.145654</td>\n",
       "      <td>-8688.818809</td>\n",
       "      <td>1.0</td>\n",
       "      <td>1.0</td>\n",
       "      <td>3.673154</td>\n",
       "    </tr>\n",
       "    <tr>\n",
       "      <th>7</th>\n",
       "      <td>-9225.831807</td>\n",
       "      <td>-9229.507461</td>\n",
       "      <td>1.0</td>\n",
       "      <td>1.0</td>\n",
       "      <td>3.675654</td>\n",
       "    </tr>\n",
       "    <tr>\n",
       "      <th>8</th>\n",
       "      <td>-9556.180342</td>\n",
       "      <td>-9563.075723</td>\n",
       "      <td>1.0</td>\n",
       "      <td>1.0</td>\n",
       "      <td>6.895381</td>\n",
       "    </tr>\n",
       "    <tr>\n",
       "      <th>9</th>\n",
       "      <td>-6962.919248</td>\n",
       "      <td>-6980.387471</td>\n",
       "      <td>1.0</td>\n",
       "      <td>1.0</td>\n",
       "      <td>17.468223</td>\n",
       "    </tr>\n",
       "  </tbody>\n",
       "</table>\n",
       "</div>"
      ],
      "text/plain": [
       "          loss    loss_rand  beta  beta_rand  diff_loss\n",
       "0 -5981.054912 -5995.789780   1.0        1.0  14.734868\n",
       "1 -6392.288330 -6399.398618   1.0        1.0   7.110288\n",
       "2 -7594.261860 -7614.247612   1.0        1.0  19.985752\n",
       "3 -9837.280664 -9848.598203   1.0        1.0  11.317539\n",
       "4 -9168.250859 -9153.891816   1.0        1.0 -14.359043\n",
       "5 -6590.392354 -6629.016465   1.0        1.0  38.624111\n",
       "6 -8685.145654 -8688.818809   1.0        1.0   3.673154\n",
       "7 -9225.831807 -9229.507461   1.0        1.0   3.675654\n",
       "8 -9556.180342 -9563.075723   1.0        1.0   6.895381\n",
       "9 -6962.919248 -6980.387471   1.0        1.0  17.468223"
      ]
     },
     "execution_count": 87,
     "metadata": {},
     "output_type": "execute_result"
    }
   ],
   "source": [
    "res_loss"
   ]
  },
  {
   "cell_type": "code",
   "execution_count": 88,
   "id": "5c4cb0c2-9992-400f-bcd8-81cb894e32d9",
   "metadata": {},
   "outputs": [
    {
     "data": {
      "text/plain": [
       "Text(0, 0.5, '$\\\\gamma$')"
      ]
     },
     "execution_count": 88,
     "metadata": {},
     "output_type": "execute_result"
    },
    {
     "data": {
      "image/png": "[encoded data removed]",
      "text/plain": [
       "<Figure size 504x432 with 1 Axes>"
      ]
     },
     "metadata": {
      "needs_background": "light"
     },
     "output_type": "display_data"
    }
   ],
   "source": [
    "import seaborn as sns\n",
    "import matplotlib.pyplot as plt\n",
    "\n",
    "f, ax = plt.subplots(figsize=(7, 6))\n",
    "\n",
    "sns.boxplot(x=\"beta_rand\", y=\"diff_loss\", data=res_loss,\n",
    "             width=0.4,fliersize=0)\n",
    "\n",
    "sns.stripplot(x=\"beta_rand\", y=\"diff_loss\", data=res_loss,\n",
    "              size=5, linewidth=1, dodge=1, jitter=.02)\n",
    "ax.set(ylabel=\"\")\n",
    "handles, labels = ax.get_legend_handles_labels()\n",
    "l = plt.legend(handles[0:2], [\"$\\gamma_1$\", \"$\\gamma_2$\"], bbox_to_anchor=(0.75, 0.95), loc=2, borderaxespad=0.)\n",
    "ax.set_ylabel(\"$\\gamma$\")\n",
    "#sns.despine(trim=True, left=True)"
   ]
  },
  {
   "cell_type": "code",
   "execution_count": 89,
   "metadata": {},
   "outputs": [
    {
     "data": {
      "text/plain": [
       "Text(0, 0.5, '$\\\\gamma$')"
      ]
     },
     "execution_count": 89,
     "metadata": {},
     "output_type": "execute_result"
    },
    {
     "data": {
      "image/png": "[encoded data removed]",
      "text/plain": [
       "<Figure size 504x432 with 1 Axes>"
      ]
     },
     "metadata": {
      "needs_background": "light"
     },
     "output_type": "display_data"
    }
   ],
   "source": [
    "import seaborn as sns\n",
    "import matplotlib.pyplot as plt\n",
    "\n",
    "f, ax = plt.subplots(figsize=(7, 6))\n",
    "\n",
    "sns.boxplot(x=\"model\", y=\"val\",hue=\"type\", data=res_gamma,\n",
    "            whis=[0, 100], width=0.8,fliersize=0)\n",
    "\n",
    "sns.stripplot(x=\"model\", y=\"val\", hue=\"type\", data=res_gamma,\n",
    "              size=5, linewidth=1, dodge=1, jitter=.05)\n",
    "ax.set(ylabel=\"\")\n",
    "handles, labels = ax.get_legend_handles_labels()\n",
    "l = plt.legend(handles[0:2], [\"$\\gamma_1$\", \"$\\gamma_2$\"], bbox_to_anchor=(0.75, 0.95), loc=2, borderaxespad=0.)\n",
    "\n",
    "plt.hlines(1.5e-4, -0.7,1.7)\n",
    "plt.hlines(3e-5, -0.7,1.7)\n",
    "ax.set_ylabel(\"$\\gamma$\")"
   ]
  },
  {
   "cell_type": "code",
   "execution_count": 90,
   "metadata": {},
   "outputs": [
    {
     "data": {
      "text/plain": [
       "Text(19.200000000000003, 0.5, '$\\\\gamma$')"
      ]
     },
     "execution_count": 90,
     "metadata": {},
     "output_type": "execute_result"
    },
    {
     "data": {
      "image/png": "[encoded data removed]",
      "text/plain": [
       "<Figure size 576x576 with 3 Axes>"
      ]
     },
     "metadata": {
      "needs_background": "light"
     },
     "output_type": "display_data"
    }
   ],
   "source": [
    "import matplotlib.pyplot as plt \n",
    "from matplotlib import gridspec\n",
    "\n",
    "colors_gammas = list(sns.color_palette(n_colors=2, palette=\"Greens\"))\n",
    "\n",
    "fig = plt.figure(figsize=(8, 8)) \n",
    "gs = gridspec.GridSpec(2, 3) \n",
    "ax0 = plt.subplot(gs[0, :])\n",
    "ax0 = sns.barplot(x=\"type\", y=\"err_lambda_per\", hue=\"algo\",\n",
    "                 data=all_pd, palette=\"tab10\", errwidth=2,saturation=1)\n",
    "handles, labels = ax0.get_legend_handles_labels()\n",
    "ax0.legend(handles, labels, title=\"Algorithms\",\n",
    "          handletextpad=0, columnspacing=1,\n",
    "           ncol=1, frameon=False)\n",
    "plt.ylabel(\"average error [%]\")\n",
    "plt.xlabel(\"\")\n",
    "\n",
    "ax1 = plt.subplot(gs[1,0:2])\n",
    "\n",
    "sns.boxplot(x=\"model\", y=\"val\",hue=\"type\", data=res_gamma,\n",
    "            whis=[0, 100], width=0.5,fliersize=0, palette=\"Greens\")\n",
    "\n",
    "sns.stripplot(x=\"model\", y=\"val\", hue=\"type\", data=res_gamma,\n",
    "              size=5, linewidth=1, dodge=1, jitter=.05, palette=\"Greens\")\n",
    "ax1.set(ylabel=\"\")\n",
    "ax1.hlines(1.5e-4, -0.7,1.7, color=colors_gammas[0],label=\"$\\gamma_1$ [real Value]\")\n",
    "ax1.hlines(3e-5, -0.7,1.7, color=colors_gammas[1],label=\"$\\gamma_2$ [real Value]\")\n",
    "\n",
    "handles, labels = ax1.get_legend_handles_labels()\n",
    "l = plt.legend([handles[0],handles[1],handles[4],handles[5]], \n",
    "[\"$\\gamma_1 [infer]$\", \"$\\gamma_2 [infer]$\", \"$\\gamma_1$ [real]\", \"$\\gamma_2$ [real]\",], \n",
    "bbox_to_anchor=(0.35, 0.97), loc=2, borderaxespad=0., ncol=2)\n",
    "\n",
    "\n",
    "ax1.set_ylabel(\"$\\gamma$\")\n",
    "\n",
    "ax2 = plt.subplot(gs[1, 2])\n",
    "sns.boxplot(x=\"beta_rand\", y=\"diff_loss\", data=res_loss,\n",
    "             width=0.4,fliersize=0)\n",
    "\n",
    "sns.stripplot(x=\"beta_rand\", y=\"diff_loss\", data=res_loss,\n",
    "              size=5, linewidth=1, dodge=1, jitter=.02)\n",
    "ax.set(ylabel=\"\")\n",
    "handles, labels = ax.get_legend_handles_labels()\n",
    "#l = plt.legend([], [\"$\\gamma_1$\", \"$\\gamma_2$\"], bbox_to_anchor=(, 0.68), loc=2, borderaxespad=0.)\n",
    "ax.set_ylabel(\"$\\gamma$\")\n",
    "\n"
   ]
  },
  {
   "cell_type": "code",
   "execution_count": 91,
   "metadata": {},
   "outputs": [
    {
     "data": {
      "text/plain": [
       "Text(19.200000000000003, 0.5, '$\\\\gamma$')"
      ]
     },
     "execution_count": 91,
     "metadata": {},
     "output_type": "execute_result"
    },
    {
     "data": {
      "image/png": "[encoded data removed]",
      "text/plain": [
       "<Figure size 576x576 with 3 Axes>"
      ]
     },
     "metadata": {
      "needs_background": "light"
     },
     "output_type": "display_data"
    }
   ],
   "source": [
    "import matplotlib.pyplot as plt \n",
    "from matplotlib import gridspec\n",
    "\n",
    "colors_gammas = list(sns.color_palette(n_colors=2, palette=\"Greens\"))\n",
    "\n",
    "fig = plt.figure(figsize=(8, 8)) \n",
    "gs = gridspec.GridSpec(2, 3) \n",
    "ax0 = plt.subplot(gs[0, :])\n",
    "ax0 = sns.barplot(x=\"type\", y=\"err_lambda_per\", hue=\"algo\",\n",
    "                 data=all_pd, palette=\"tab10\", errwidth=2,saturation=1)\n",
    "handles, labels = ax0.get_legend_handles_labels()\n",
    "ax0.legend(handles, labels, title=\"Algorithms\",\n",
    "          handletextpad=0, columnspacing=1,\n",
    "           ncol=1, frameon=False)\n",
    "plt.ylabel(\"average error [%]\")\n",
    "plt.xlabel(\"\")\n",
    "\n",
    "ax1 = plt.subplot(gs[1,0:2])\n",
    "\n",
    "sns.pointplot(x=\"model\", y=\"val\",hue=\"type\", data=res_gamma,\n",
    "            whis=[0, 100], width=0.5,fliersize=0, palette=\"Greens\", join=False,\n",
    "            dodge=.67 - .8 / 3, linewidth=0.1, )\n",
    "\n",
    "sns.stripplot(x=\"model\", y=\"val\", hue=\"type\", data=res_gamma,\n",
    "              size=5, linewidth=0.1, dodge=1, jitter=.05, palette=\"Greens\", alpha=0.3)\n",
    "ax1.set(ylabel=\"\")\n",
    "ax1.hlines(1.5e-4, -0.7,1.7, color=colors_gammas[0],label=\"$\\gamma_1$ [real Value]\")\n",
    "ax1.hlines(3e-5, -0.7,1.7, color=colors_gammas[1],label=\"$\\gamma_2$ [real Value]\")\n",
    "\n",
    "handles, labels = ax1.get_legend_handles_labels()\n",
    "l = plt.legend([handles[0],handles[1],handles[4],handles[5]], \n",
    "[\"$\\gamma_1 [infer]$\", \"$\\gamma_2 [infer]$\", \"$\\gamma_1$ [real]\", \"$\\gamma_2$ [real]\",], \n",
    "bbox_to_anchor=(0.35, 0.97), loc=2, borderaxespad=0., ncol=2)\n",
    "\n",
    "\n",
    "ax1.set_ylabel(\"$\\gamma$\")\n",
    "\n",
    "ax2 = plt.subplot(gs[1, 2])\n",
    "sns.boxplot(x=\"beta_rand\", y=\"diff_loss\", data=res_loss,\n",
    "             width=0.4,fliersize=0)\n",
    "\n",
    "sns.stripplot(x=\"beta_rand\", y=\"diff_loss\", data=res_loss,\n",
    "              size=5, linewidth=1, dodge=1, jitter=.02)\n",
    "ax.set(ylabel=\"\")\n",
    "handles, labels = ax.get_legend_handles_labels()\n",
    "l = plt.legend([], [\"$\\gamma_1$\", \"$\\gamma_2$\"], bbox_to_anchor=(0.75, 0.95), loc=2, borderaxespad=0.)\n",
    "ax.set_ylabel(\"$\\gamma$\")\n",
    "\n"
   ]
  },
  {
   "cell_type": "code",
   "execution_count": 99,
   "metadata": {},
   "outputs": [
    {
     "data": {
      "image/png": "[encoded data removed]",
      "text/plain": [
       "<Figure size 720x288 with 3 Axes>"
      ]
     },
     "metadata": {
      "needs_background": "light"
     },
     "output_type": "display_data"
    }
   ],
   "source": [
    "import matplotlib.pyplot as plt \n",
    "from matplotlib import gridspec\n",
    "\n",
    "colors_gammas = list(sns.color_palette(n_colors=2, palette=\"Greens\"))\n",
    "\n",
    "fig = plt.figure(figsize=(10, 4)) \n",
    "gs = gridspec.GridSpec(1, 6, wspace=1.5) \n",
    "ax0 = plt.subplot(gs[0, 0:3])\n",
    "ax0 = sns.barplot(x=\"type\", y=\"err_lambda_per\", hue=\"algo\",\n",
    "                 data=all_pd, palette=\"tab10\", errwidth=2,saturation=1)\n",
    "handles, labels = ax0.get_legend_handles_labels()\n",
    "ax0.legend(handles, labels, title=\"Algorithms\",\n",
    "          handletextpad=0, columnspacing=1,\n",
    "           ncol=1, frameon=False)\n",
    "plt.ylabel(\"average error [%]\")\n",
    "plt.xlabel(\"\")\n",
    "\n",
    "ax1 = plt.subplot(gs[0,3:5])\n",
    "\n",
    "sns.pointplot(x=\"model\", y=\"val\",hue=\"type\", data=res_gamma,\n",
    "            whis=[0, 100], width=0.5,fliersize=0, palette=\"Greens\", join=False,\n",
    "            dodge=.67 - .8 / 3, linewidth=0.1, )\n",
    "\n",
    "sns.stripplot(x=\"model\", y=\"val\", hue=\"type\", data=res_gamma,\n",
    "              size=5, linewidth=0.1, dodge=1, jitter=.05, palette=\"Greens\", alpha=0.3)\n",
    "ax1.set(ylabel=\"\")\n",
    "ax1.hlines(1.5e-4, -0.7,1.7, color=colors_gammas[0],label=\"$\\gamma_1$ [real Value]\")\n",
    "ax1.hlines(3e-5, -0.7,1.7, color=colors_gammas[1],label=\"$\\gamma_2$ [real Value]\")\n",
    "\n",
    "handles, labels = ax1.get_legend_handles_labels()\n",
    "l = plt.legend([handles[0],handles[1],handles[4],handles[5]], \n",
    "[\"$\\gamma_1 [infer]$\", \"$\\gamma_2 [infer]$\", \"$\\gamma_1$ [real]\", \"$\\gamma_2$ [real]\",], \n",
    "bbox_to_anchor=(0.43, 0.97), loc=2, borderaxespad=0., ncol=1)\n",
    "ax1.set_xticklabels( ('true\\nmodel', 'null\\nmodel') )\n",
    "ax1.set_xlabel(\"\")\n",
    "\n",
    "plt.ticklabel_format(axis=\"y\", style=\"sci\", scilimits=(0,0))\n",
    "\n",
    "\n",
    "ax1.set_ylabel(\"$\\gamma$\")\n",
    "\n",
    "ax2 = plt.subplot(gs[0, 5])\n",
    "sns.boxplot(x=\"beta_rand\", y=\"diff_loss\", data=res_loss,\n",
    "             width=0.4,fliersize=0, palette=\"Greys\")\n",
    "\n",
    "sns.stripplot(x=\"beta_rand\", y=\"diff_loss\", data=res_loss,\n",
    "              size=5, linewidth=1,color=\"black\")\n",
    "handles, labels = ax.get_legend_handles_labels()\n",
    "#l = plt.legend([], [\"$\\gamma_1$\", \"$\\gamma_2$\"], bbox_to_anchor=(0.75, 0.95), loc=2, borderaxespad=0.)\n",
    "ax2.set_ylabel(\"$\\log(Z_{true}) - \\log(Z_{null})$\")\n",
    "ax2.set_xticklabels([])\n",
    "ax2.set_xlabel(\"hospital\")\n",
    "\n",
    "plt.savefig(\"img/params.pdf\")"
   ]
  },
  {
   "cell_type": "code",
   "execution_count": 128,
   "metadata": {},
   "outputs": [
    {
     "data": {
      "image/png": "[encoded data removed]",
      "text/plain": [
       "<Figure size 936x288 with 3 Axes>"
      ]
     },
     "metadata": {
      "needs_background": "light"
     },
     "output_type": "display_data"
    }
   ],
   "source": [
    "import matplotlib.pyplot as plt \n",
    "from matplotlib import gridspec\n",
    "\n",
    "colors_gammas = list(sns.color_palette(n_colors=2, palette=\"Greens\"))\n",
    "\n",
    "fig = plt.figure(figsize=(13, 4)) \n",
    "gs = gridspec.GridSpec(1, 6) \n",
    "ax0 = plt.subplot(gs[0, 0:3])\n",
    "ax0 = sns.barplot(x=\"type\", y=\"err_lambda_per\", hue=\"algo\",\n",
    "                 data=all_pd, palette=\"tab10\", errwidth=2,saturation=1)\n",
    "handles, labels = ax0.get_legend_handles_labels()\n",
    "ax0.legend(handles, labels, title=\"Algorithms\",\n",
    "          handletextpad=0, columnspacing=1,\n",
    "           ncol=1, frameon=False)\n",
    "plt.ylabel(\"average error [%]\")\n",
    "plt.xlabel(\"\")\n",
    "\n",
    "ax1 = plt.subplot(gs[0,3:5])\n",
    "\n",
    "sns.boxplot(x=\"model\", y=\"val\",hue=\"type\", data=res_gamma,\n",
    "            whis=[0, 100], width=0.5,fliersize=0, palette=\"Greens\")\n",
    "\n",
    "#sns.stripplot(x=\"model\", y=\"val\", hue=\"type\", data=res_gamma,\n",
    "#              size=5, linewidth=0.1, dodge=1, jitter=.05, palette=\"Greens\", alpha=0.3)\n",
    "ax1.set(ylabel=\"\")\n",
    "ax1.hlines(1.5e-4, -0.7,1.7, color=colors_gammas[0],label=\"$\\gamma_1$ [real Value]\")\n",
    "ax1.hlines(3e-5, -0.7,1.7, color=colors_gammas[1],label=\"$\\gamma_2$ [real Value]\")\n",
    "\n",
    "handles, labels = ax1.get_legend_handles_labels()\n",
    "l = plt.legend([handles[0],handles[1],handles[2],handles[3]], \n",
    "[\"$\\gamma_1 [infer]$\", \"$\\gamma_2 [infer]$\", \"$\\gamma_1$ [real]\", \"$\\gamma_2$ [real]\",], \n",
    "bbox_to_anchor=(0.05, 0.97), loc=2, borderaxespad=0., ncol=2)\n",
    "ax1.set_xticklabels( ('true\\nmodel', 'null\\nmodel') )\n",
    "ax1.set_xlabel(\"\")\n",
    "ax1.set_ylim(0, 2.7*1e-4)\n",
    "plt.ticklabel_format(axis=\"y\", style=\"sci\", scilimits=(0,0))\n",
    "\n",
    "\n",
    "ax1.set_ylabel(\"$\\gamma$\")\n",
    "\n",
    "ax2 = plt.subplot(gs[0, 5])\n",
    "sns.boxplot(x=\"beta_rand\", y=\"diff_loss\", data=res_loss,\n",
    "             width=0.4, color=\"lightgrey\")\n",
    "\n",
    "#sns.stripplot(x=\"beta_rand\", y=\"diff_loss\", data=res_loss,\n",
    "#              size=5, linewidth=1,palette=\"Greys\")\n",
    "handles, labels = ax.get_legend_handles_labels()\n",
    "#l = plt.legend([], [\"$\\gamma_1$\", \"$\\gamma_2$\"], bbox_to_anchor=(0.75, 0.95), loc=2, borderaxespad=0.)\n",
    "ax2.set_ylabel(\"$\\log(Z_{true}) - \\log(Z_{null})$\")\n",
    "ax2.set_xticklabels([])\n",
    "ax2.set_xlabel(\"hospital\")\n",
    "plt.tight_layout()\n",
    "plt.savefig(\"img/params.pdf\")"
   ]
  },
  {
   "cell_type": "code",
   "execution_count": 83,
   "metadata": {},
   "outputs": [
    {
     "ename": "SyntaxError",
     "evalue": "can't use starred expression here (4028977915.py, line 2)",
     "output_type": "error",
     "traceback": [
      "\u001b[0;36m  File \u001b[0;32m\"/var/folders/jy/gjfds_4d4xsfqkq02klzlj240000gn/T/ipykernel_43960/4028977915.py\"\u001b[0;36m, line \u001b[0;32m2\u001b[0m\n\u001b[0;31m    *handles\u001b[0m\n\u001b[0m    ^\u001b[0m\n\u001b[0;31mSyntaxError\u001b[0m\u001b[0;31m:\u001b[0m can't use starred expression here\n"
     ]
    }
   ],
   "source": [
    "handles, labels = ax1.get_legend_handles_labels()\n",
    "*handles"
   ]
  },
  {
   "cell_type": "code",
   "execution_count": 64,
   "metadata": {},
   "outputs": [
    {
     "ename": "SyntaxError",
     "evalue": "invalid syntax (4061926493.py, line 1)",
     "output_type": "error",
     "traceback": [
      "\u001b[0;36m  File \u001b[0;32m\"/var/folders/jy/gjfds_4d4xsfqkq02klzlj240000gn/T/ipykernel_43960/4061926493.py\"\u001b[0;36m, line \u001b[0;32m1\u001b[0m\n\u001b[0;31m    [**handles[0:2], **handles[4:6]]\u001b[0m\n\u001b[0m     ^\u001b[0m\n\u001b[0;31mSyntaxError\u001b[0m\u001b[0;31m:\u001b[0m invalid syntax\n"
     ]
    }
   ],
   "source": [
    "[**handles[0:2], **handles[4:6]]"
   ]
  },
  {
   "cell_type": "code",
   "execution_count": 58,
   "metadata": {},
   "outputs": [
    {
     "name": "stdout",
     "output_type": "stream",
     "text": [
      "\u001b[0;31mSignature:\u001b[0m \u001b[0msns\u001b[0m\u001b[0;34m.\u001b[0m\u001b[0mcolor_palette\u001b[0m\u001b[0;34m(\u001b[0m\u001b[0mpalette\u001b[0m\u001b[0;34m=\u001b[0m\u001b[0;32mNone\u001b[0m\u001b[0;34m,\u001b[0m \u001b[0mn_colors\u001b[0m\u001b[0;34m=\u001b[0m\u001b[0;32mNone\u001b[0m\u001b[0;34m,\u001b[0m \u001b[0mdesat\u001b[0m\u001b[0;34m=\u001b[0m\u001b[0;32mNone\u001b[0m\u001b[0;34m,\u001b[0m \u001b[0mas_cmap\u001b[0m\u001b[0;34m=\u001b[0m\u001b[0;32mFalse\u001b[0m\u001b[0;34m)\u001b[0m\u001b[0;34m\u001b[0m\u001b[0;34m\u001b[0m\u001b[0m\n",
      "\u001b[0;31mDocstring:\u001b[0m\n",
      "Return a list of colors or continuous colormap defining a palette.\n",
      "\n",
      "Possible ``palette`` values include:\n",
      "    - Name of a seaborn palette (deep, muted, bright, pastel, dark, colorblind)\n",
      "    - Name of matplotlib colormap\n",
      "    - 'husl' or 'hls'\n",
      "    - 'ch:<cubehelix arguments>'\n",
      "    - 'light:<color>', 'dark:<color>', 'blend:<color>,<color>',\n",
      "    - A sequence of colors in any format matplotlib accepts\n",
      "\n",
      "Calling this function with ``palette=None`` will return the current\n",
      "matplotlib color cycle.\n",
      "\n",
      "This function can also be used in a ``with`` statement to temporarily\n",
      "set the color cycle for a plot or set of plots.\n",
      "\n",
      "See the :ref:`tutorial <palette_tutorial>` for more information.\n",
      "\n",
      "Parameters\n",
      "----------\n",
      "palette : None, string, or sequence, optional\n",
      "    Name of palette or None to return current palette. If a sequence, input\n",
      "    colors are used but possibly cycled and desaturated.\n",
      "n_colors : int, optional\n",
      "    Number of colors in the palette. If ``None``, the default will depend\n",
      "    on how ``palette`` is specified. Named palettes default to 6 colors,\n",
      "    but grabbing the current palette or passing in a list of colors will\n",
      "    not change the number of colors unless this is specified. Asking for\n",
      "    more colors than exist in the palette will cause it to cycle. Ignored\n",
      "    when ``as_cmap`` is True.\n",
      "desat : float, optional\n",
      "    Proportion to desaturate each color by.\n",
      "as_cmap : bool\n",
      "    If True, return a :class:`matplotlib.colors.Colormap`.\n",
      "\n",
      "Returns\n",
      "-------\n",
      "list of RGB tuples or :class:`matplotlib.colors.Colormap`\n",
      "\n",
      "See Also\n",
      "--------\n",
      "set_palette : Set the default color cycle for all plots.\n",
      "set_color_codes : Reassign color codes like ``\"b\"``, ``\"g\"``, etc. to\n",
      "                  colors from one of the seaborn palettes.\n",
      "\n",
      "Examples\n",
      "--------\n",
      "\n",
      ".. include:: ../docstrings/color_palette.rst\n",
      "\u001b[0;31mFile:\u001b[0m      ~/opt/anaconda3/lib/python3.8/site-packages/seaborn/palettes.py\n",
      "\u001b[0;31mType:\u001b[0m      function\n"
     ]
    }
   ],
   "source": [
    "sns.color_palette?"
   ]
  },
  {
   "cell_type": "code",
   "execution_count": 26,
   "id": "focused-martial",
   "metadata": {},
   "outputs": [
    {
     "name": "stdout",
     "output_type": "stream",
     "text": [
      "0.36657219990450707 0.3452567524380154\n",
      "0.053345754636064564 0.03955619057847389\n",
      "0.05782300549375749 0.029113213428192633\n",
      "0.0010642633593552003 0.0009051131589027222\n"
     ]
    },
    {
     "data": {
      "text/html": [
       "<div>\n",
       "<style scoped>\n",
       "    .dataframe tbody tr th:only-of-type {\n",
       "        vertical-align: middle;\n",
       "    }\n",
       "\n",
       "    .dataframe tbody tr th {\n",
       "        vertical-align: top;\n",
       "    }\n",
       "\n",
       "    .dataframe thead th {\n",
       "        text-align: right;\n",
       "    }\n",
       "</style>\n",
       "<table border=\"1\" class=\"dataframe\">\n",
       "  <thead>\n",
       "    <tr style=\"text-align: right;\">\n",
       "      <th></th>\n",
       "      <th>algo</th>\n",
       "      <th>mean</th>\n",
       "      <th>type</th>\n",
       "      <th>err</th>\n",
       "      <th>err_per</th>\n",
       "      <th>err_mu</th>\n",
       "      <th>err_per_mu</th>\n",
       "    </tr>\n",
       "  </thead>\n",
       "  <tbody>\n",
       "    <tr>\n",
       "      <th>0</th>\n",
       "      <td>sib</td>\n",
       "      <td>0.366572</td>\n",
       "      <td>TREE</td>\n",
       "      <td>0.016572</td>\n",
       "      <td>4.734914</td>\n",
       "      <td>9.999995e-07</td>\n",
       "      <td>0.010000</td>\n",
       "    </tr>\n",
       "    <tr>\n",
       "      <th>1</th>\n",
       "      <td>ann</td>\n",
       "      <td>0.345257</td>\n",
       "      <td>TREE</td>\n",
       "      <td>0.004743</td>\n",
       "      <td>1.355214</td>\n",
       "      <td>1.000000e-06</td>\n",
       "      <td>0.010000</td>\n",
       "    </tr>\n",
       "    <tr>\n",
       "      <th>2</th>\n",
       "      <td>sib</td>\n",
       "      <td>0.053346</td>\n",
       "      <td>rrg</td>\n",
       "      <td>0.013346</td>\n",
       "      <td>33.364387</td>\n",
       "      <td>4.499054e-03</td>\n",
       "      <td>14.996846</td>\n",
       "    </tr>\n",
       "    <tr>\n",
       "      <th>3</th>\n",
       "      <td>ann</td>\n",
       "      <td>0.039556</td>\n",
       "      <td>rrg</td>\n",
       "      <td>0.000444</td>\n",
       "      <td>1.109524</td>\n",
       "      <td>3.419444e-04</td>\n",
       "      <td>1.139815</td>\n",
       "    </tr>\n",
       "    <tr>\n",
       "      <th>4</th>\n",
       "      <td>sib</td>\n",
       "      <td>0.057823</td>\n",
       "      <td>proximity</td>\n",
       "      <td>0.027823</td>\n",
       "      <td>92.743352</td>\n",
       "      <td>5.684495e-03</td>\n",
       "      <td>18.948315</td>\n",
       "    </tr>\n",
       "    <tr>\n",
       "      <th>5</th>\n",
       "      <td>ann</td>\n",
       "      <td>0.029113</td>\n",
       "      <td>proximity</td>\n",
       "      <td>0.000887</td>\n",
       "      <td>2.955955</td>\n",
       "      <td>5.080251e-03</td>\n",
       "      <td>16.934171</td>\n",
       "    </tr>\n",
       "    <tr>\n",
       "      <th>6</th>\n",
       "      <td>sib</td>\n",
       "      <td>0.001064</td>\n",
       "      <td>work</td>\n",
       "      <td>0.000064</td>\n",
       "      <td>6.426336</td>\n",
       "      <td>8.292385e-04</td>\n",
       "      <td>2.764128</td>\n",
       "    </tr>\n",
       "    <tr>\n",
       "      <th>7</th>\n",
       "      <td>ann</td>\n",
       "      <td>0.000905</td>\n",
       "      <td>work</td>\n",
       "      <td>0.000095</td>\n",
       "      <td>9.488684</td>\n",
       "      <td>2.569880e-04</td>\n",
       "      <td>0.856627</td>\n",
       "    </tr>\n",
       "  </tbody>\n",
       "</table>\n",
       "</div>"
      ],
      "text/plain": [
       "  algo      mean       type       err    err_per        err_mu  err_per_mu\n",
       "0  sib  0.366572       TREE  0.016572   4.734914  9.999995e-07    0.010000\n",
       "1  ann  0.345257       TREE  0.004743   1.355214  1.000000e-06    0.010000\n",
       "2  sib  0.053346        rrg  0.013346  33.364387  4.499054e-03   14.996846\n",
       "3  ann  0.039556        rrg  0.000444   1.109524  3.419444e-04    1.139815\n",
       "4  sib  0.057823  proximity  0.027823  92.743352  5.684495e-03   18.948315\n",
       "5  ann  0.029113  proximity  0.000887   2.955955  5.080251e-03   16.934171\n",
       "6  sib  0.001064       work  0.000064   6.426336  8.292385e-04    2.764128\n",
       "7  ann  0.000905       work  0.000095   9.488684  2.569880e-04    0.856627"
      ]
     },
     "execution_count": 26,
     "metadata": {},
     "output_type": "execute_result"
    }
   ],
   "source": [
    "means=[]\n",
    "for g in graphs:\n",
    "    means\n",
    "    ann={\"algo\":\"ann\"\n",
    "        \n",
    "        }\n",
    "    ann = res_params[g][res_params[g][\"algo\"]==\"ANN\"][\"lambda_inf\"].mean()\n",
    "    sib = res_params[g][res_params[g][\"algo\"]==\"SIB\"][\"lambda_inf\"].mean()\n",
    "    l = res_params[g][\"lambda\"].mean()\n",
    "    annM = res_params[g][res_params[g][\"algo\"]==\"ANN\"][\"mu_inf\"].mean()\n",
    "    sibM = res_params[g][res_params[g][\"algo\"]==\"SIB\"][\"mu_inf\"].mean()\n",
    "    mu = res_params[g][\"mu\"].mean()\n",
    "    print(sib, ann)\n",
    "    means.append({\"algo\":\"sib\", \"mean\":sib, \"type\":g, \n",
    "                  \"err\":abs(sib-l), \"err_per\":100*abs(sib-l)/l,\n",
    "                 \"err_mu\":abs(sibM-mu), \"err_per_mu\":100*abs(sibM-mu)/(mu+1e-2)})\n",
    "    means.append({\"algo\":\"ann\", \"mean\":ann, \"type\":g,\n",
    "                  \"err\":abs(ann-l), \"err_per\":100*abs(ann-l)/l,\n",
    "                 \"err_mu\":abs(annM-mu), \"err_per_mu\":100*abs(annM-mu)/(mu+1e-2)})\n",
    "\n",
    "means = pd.DataFrame(means)\n",
    "means"
   ]
  },
  {
   "cell_type": "code",
   "execution_count": 27,
   "id": "quantitative-insured",
   "metadata": {},
   "outputs": [
    {
     "data": {
      "image/png": "[encoded data removed]",
      "text/plain": [
       "<Figure size 432x288 with 1 Axes>"
      ]
     },
     "metadata": {
      "needs_background": "light"
     },
     "output_type": "display_data"
    }
   ],
   "source": [
    "import seaborn as sns\n",
    "import matplotlib.pyplot as plt\n",
    "\n",
    "ax = sns.barplot(x=\"type\", y=\"err_per\", hue=\"algo\",\n",
    "                 data=means, dodge=True, ci=0.3, palette=\"Paired\")\n",
    "handles, labels = ax.get_legend_handles_labels()\n",
    "ax.legend(handles, labels, title=\"Algorithms\",\n",
    "          handletextpad=0, columnspacing=1,\n",
    "           ncol=1, frameon=False)\n",
    "plt.ylabel(\"infectivity error [%]\")\n",
    "plt.show()"
   ]
  },
  {
   "cell_type": "code",
   "execution_count": 28,
   "id": "assisted-inflation",
   "metadata": {},
   "outputs": [
    {
     "data": {
      "image/png": "[encoded data removed]",
      "text/plain": [
       "<Figure size 432x288 with 1 Axes>"
      ]
     },
     "metadata": {
      "needs_background": "light"
     },
     "output_type": "display_data"
    }
   ],
   "source": [
    "import seaborn as sns\n",
    "import matplotlib.pyplot as plt\n",
    "\n",
    "ax = sns.barplot(x=\"type\", y=\"err_mu\", hue=\"algo\",\n",
    "                 data=means, dodge=True, ci=0.3, palette=\"Paired\")\n",
    "handles, labels = ax.get_legend_handles_labels()\n",
    "ax.legend(handles, labels, title=\"Algorithms\",\n",
    "          handletextpad=0, columnspacing=1,\n",
    "           ncol=1, frameon=False)\n",
    "plt.ylabel(\"infectivity error [%]\")\n",
    "#plt.ylim(0,150)\n",
    "plt.show()"
   ]
  },
  {
   "cell_type": "code",
   "execution_count": null,
   "id": "variable-updating",
   "metadata": {},
   "outputs": [],
   "source": []
  }
 ],
 "metadata": {
  "interpreter": {
   "hash": "2e62f657b8d8ca5305e9e864a899c987e9ce197630d8440f981c5ae49f158ad2"
  },
  "kernelspec": {
   "display_name": "Python 3.8.12 64-bit ('base': conda)",
   "name": "python3"
  },
  "language_info": {
   "codemirror_mode": {
    "name": "ipython",
    "version": 3
   },
   "file_extension": ".py",
   "mimetype": "text/x-python",
   "name": "python",
   "nbconvert_exporter": "python",
   "pygments_lexer": "ipython3",
   "version": "3.8.12"
  }
 },
 "nbformat": 4,
 "nbformat_minor": 5
}
