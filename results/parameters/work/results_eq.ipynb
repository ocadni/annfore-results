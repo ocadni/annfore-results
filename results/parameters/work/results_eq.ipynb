{
 "cells": [
  {
   "cell_type": "code",
   "execution_count": 1,
   "metadata": {},
   "outputs": [],
   "source": [
    "import pandas as pd\n",
    "import numpy as np\n",
    "import torch\n",
    "import sys\n",
    "\n",
    "sys.path.insert(0, '../../../src/')\n",
    "from utils.script_utils import create_parser, create_data_\n",
    "sys.path.insert(0, '../../../scripts/')\n",
    "from softmargin_run_new import add_arg_parser"
   ]
  },
  {
   "cell_type": "code",
   "execution_count": 2,
   "metadata": {},
   "outputs": [],
   "source": [
    "seeds = np.arange(1,11).tolist()\n",
    "num_conf = 1\n",
    "\n",
    "parser = create_parser()\n",
    "add_arg_parser(parser)\n",
    "args = parser.parse_args(\"\")\n",
    "args.type_graph=\"data_deltas\"\n",
    "\n",
    "args.N = 95\n",
    "args.d=10\n",
    "args.h = 3\n",
    "args.t_limit = 12 # Numbers of epoch of our epidemics spreading [0,1,...,T_limit-1]\n",
    "args.lambda_ = 0.5 # probability of infection\n",
    "args.mu = 0.02 # probability of recovery\n",
    "args.p_edge = 1\n",
    "args.scale=2\n",
    "args.gamma=1e-3\n",
    "args.ninf_min=5\n",
    "args.small_lambda_limit=0\n",
    "args.path_contacts=\"./work_13_contacts.npz\"\n",
    "path_dir = \"./data\"\n",
    "if path_dir == \"not_setted\":\n",
    "    path_dir = type_graph"
   ]
  },
  {
   "cell_type": "code",
   "execution_count": 3,
   "metadata": {},
   "outputs": [
    {
     "name": "stdout",
     "output_type": "stream",
     "text": [
      "\n",
      "SEED: 1\n",
      "number of contacts: 20856\n",
      "Lim infected: 5, Lim max infected: 96\n",
      "Num sources:  1\n",
      " # conf 1,mean infected: 53.0, mean recover: 7.0, max num infected: 53\n",
      "0 (0.00%) epidemies refused\n",
      "\n",
      "S:42, I:46, R:7\n",
      "data_deltas_n_95_d_10_tlim_12_lam_0.5_mu_0.02_s_1_pe_1\n",
      "\n",
      "SEED: 2\n",
      "number of contacts: 20856\n",
      "Lim infected: 5, Lim max infected: 96\n",
      "Num sources:  1\n",
      " # conf 1,mean infected: 45.0, mean recover: 2.0, max num infected: 45\n",
      "0 (0.00%) epidemies refused\n",
      "\n",
      "S:50, I:43, R:2\n",
      "data_deltas_n_95_d_10_tlim_12_lam_0.5_mu_0.02_s_2_pe_1\n",
      "\n",
      "SEED: 3\n",
      "number of contacts: 20856\n",
      "Lim infected: 5, Lim max infected: 96\n",
      "Num sources:  1\n",
      " # conf 1,mean infected: 29.0, mean recover: 0.0, max num infected: 29\n",
      "0 (0.00%) epidemies refused\n",
      "\n",
      "S:66, I:29, R:0\n",
      "data_deltas_n_95_d_10_tlim_12_lam_0.5_mu_0.02_s_3_pe_1\n",
      "\n",
      "SEED: 4\n"
     ]
    },
    {
     "name": "stderr",
     "output_type": "stream",
     "text": [
      "../../../src/utils/script_utils.py:153: UserWarning: SAVING FOLDER DOES NOT EXIST\n",
      "  warnings.warn(\"SAVING FOLDER DOES NOT EXIST\")\n"
     ]
    },
    {
     "name": "stdout",
     "output_type": "stream",
     "text": [
      "number of contacts: 20856\n",
      "Lim infected: 5, Lim max infected: 96\n",
      "Num sources:  1\n",
      " # conf 1,mean infected: 31.0, mean recover: 4.0, max num infected: 31\n",
      "0 (0.00%) epidemies refused\n",
      "\n",
      "S:64, I:27, R:4\n",
      "data_deltas_n_95_d_10_tlim_12_lam_0.5_mu_0.02_s_4_pe_1\n",
      "\n",
      "SEED: 5\n",
      "number of contacts: 20856\n",
      "Lim infected: 5, Lim max infected: 96\n",
      "Num sources:  1\n",
      " # conf 1,mean infected: 54.0, mean recover: 3.0, max num infected: 54\n",
      "0 (0.00%) epidemies refused\n",
      "\n",
      "S:41, I:51, R:3\n",
      "data_deltas_n_95_d_10_tlim_12_lam_0.5_mu_0.02_s_5_pe_1\n",
      "\n",
      "SEED: 6\n",
      "number of contacts: 20856\n",
      "Lim infected: 5, Lim max infected: 96\n",
      "Num sources:  1\n",
      " # conf 1,mean infected: 59.0, mean recover: 3.0, max num infected: 59\n",
      "0 (0.00%) epidemies refused\n",
      "\n",
      "S:36, I:56, R:3\n",
      "data_deltas_n_95_d_10_tlim_12_lam_0.5_mu_0.02_s_6_pe_1\n",
      "\n",
      "SEED: 7\n",
      "number of contacts: 20856\n",
      "Lim infected: 5, Lim max infected: 96\n",
      "Num sources:  1\n",
      " # conf 1,mean infected: 63.0, mean recover: 3.0, max num infected: 63\n",
      "0 (0.00%) epidemies refused\n",
      "\n",
      "S:32, I:60, R:3\n",
      "data_deltas_n_95_d_10_tlim_12_lam_0.5_mu_0.02_s_7_pe_1\n",
      "\n",
      "SEED: 8\n",
      "number of contacts: 20856\n",
      "Lim infected: 5, Lim max infected: 96\n",
      "Num sources:  1\n",
      " # conf 1,mean infected: 43.0, mean recover: 2.0, max num infected: 43\n",
      "0 (0.00%) epidemies refused\n",
      "\n",
      "S:52, I:41, R:2\n",
      "data_deltas_n_95_d_10_tlim_12_lam_0.5_mu_0.02_s_8_pe_1\n",
      "\n",
      "SEED: 9\n",
      "number of contacts: 20856\n",
      "Lim infected: 5, Lim max infected: 96\n",
      "Num sources:  1\n",
      " # conf 1,mean infected: 33.0, mean recover: 1.0, max num infected: 33\n",
      "0 (0.00%) epidemies refused\n",
      "\n",
      "S:62, I:32, R:1\n",
      "data_deltas_n_95_d_10_tlim_12_lam_0.5_mu_0.02_s_9_pe_1\n",
      "\n",
      "SEED: 10\n",
      "number of contacts: 20856\n",
      "Lim infected: 5, Lim max infected: 96\n",
      "Num sources:  1\n",
      " # conf 1,mean infected: 55.0, mean recover: 5.0, max num infected: 55\n",
      "0 (0.00%) epidemies refused\n",
      "\n",
      "S:40, I:50, R:5\n",
      "data_deltas_n_95_d_10_tlim_12_lam_0.5_mu_0.02_s_10_pe_1\n"
     ]
    },
    {
     "data": {
      "text/plain": [
       "dict_keys([1, 2, 3, 4, 5, 6, 7, 8, 9, 10])"
      ]
     },
     "execution_count": 3,
     "metadata": {},
     "output_type": "execute_result"
    }
   ],
   "source": [
    "from epigen import epidemy_gen_new\n",
    "\n",
    "list_contacts = {}\n",
    "data_={}\n",
    "INSTANCES = []\n",
    "for i_seed, seed in enumerate(seeds):\n",
    "    print(f\"\\nSEED: {seed}\")\n",
    "\n",
    "    args.seed=seed\n",
    "    args.num_conf=num_conf\n",
    "    #print(args)\n",
    "    temp, name_file, INSTANCE = create_data_(args, give_instance=True)\n",
    "    print(str(INSTANCE))\n",
    "    INSTANCES.append(INSTANCE)\n",
    "    #Ns[cl] = int(max(temp[\"contacts\"][:, 1]) + 1)\n",
    "    list_contacts[seed] = temp[\"contacts\"]\n",
    "    data_[seed] = temp\n",
    "\n",
    "data_.keys()"
   ]
  },
  {
   "cell_type": "markdown",
   "metadata": {},
   "source": [
    "# READ DATA\n",
    "\n",
    "create name_files"
   ]
  },
  {
   "cell_type": "code",
   "execution_count": 4,
   "metadata": {},
   "outputs": [],
   "source": [
    "name_files_nn = {}\n",
    "Ns = [args.N]\n",
    "for i_seed, seed in enumerate(seeds):\n",
    "    #print(f\"\\nSEED: {seed}\")\n",
    "    name_files_nn[seed] = {}\n",
    "    for cl in range(len(Ns)):\n",
    "        name_files_nn[seed][Ns[cl]] = {}\n",
    "        name_file_init = path_dir + \"/\"\n",
    "        #print(step, name_file_init)\n",
    "        name_file_temp = name_file_init + f\"eq_05_data_deltas_n_{Ns[cl]}_d_{args.d}_tlim_{args.t_limit}_lam_{args.lambda_}_mu_{args.mu}_s_{seed}_pe_{args.p_edge}\"\n",
    "        #name_file_temp += f\"_{seed}\"\n",
    "        name_files_nn[seed][Ns[cl]] = name_file_temp\n",
    "\n",
    "name_files_sib = {}\n",
    "for i_seed, seed in enumerate(seeds):\n",
    "    #print(f\"\\nSEED: {seed}\")\n",
    "    name_files_sib[seed] = {}\n",
    "    for cl in range(len(Ns)):\n",
    "        name_files_sib[seed][Ns[cl]] = {}\n",
    "        name_file_init = path_dir + \"/\"\n",
    "        #print(step, name_file_init)\n",
    "        name_file_temp = name_file_init + f\"N_{Ns[cl]}_d_{args.d}_h_{args.h}_T_{args.t_limit}_lam_{args.lambda_}_mu_{args.mu}_p_edge_{args.p_edge}\"\n",
    "        name_file_temp += f\"_s_{seed}\"\n",
    "        name_files_sib[seed][Ns[cl]] = name_file_temp\n",
    "            #print(name_file_temp)"
   ]
  },
  {
   "cell_type": "code",
   "execution_count": 5,
   "metadata": {},
   "outputs": [
    {
     "data": {
      "text/plain": [
       "{1: {95: './data/eq_05_data_deltas_n_95_d_10_tlim_12_lam_0.5_mu_0.02_s_1_pe_1'},\n",
       " 2: {95: './data/eq_05_data_deltas_n_95_d_10_tlim_12_lam_0.5_mu_0.02_s_2_pe_1'},\n",
       " 3: {95: './data/eq_05_data_deltas_n_95_d_10_tlim_12_lam_0.5_mu_0.02_s_3_pe_1'},\n",
       " 4: {95: './data/eq_05_data_deltas_n_95_d_10_tlim_12_lam_0.5_mu_0.02_s_4_pe_1'},\n",
       " 5: {95: './data/eq_05_data_deltas_n_95_d_10_tlim_12_lam_0.5_mu_0.02_s_5_pe_1'},\n",
       " 6: {95: './data/eq_05_data_deltas_n_95_d_10_tlim_12_lam_0.5_mu_0.02_s_6_pe_1'},\n",
       " 7: {95: './data/eq_05_data_deltas_n_95_d_10_tlim_12_lam_0.5_mu_0.02_s_7_pe_1'},\n",
       " 8: {95: './data/eq_05_data_deltas_n_95_d_10_tlim_12_lam_0.5_mu_0.02_s_8_pe_1'},\n",
       " 9: {95: './data/eq_05_data_deltas_n_95_d_10_tlim_12_lam_0.5_mu_0.02_s_9_pe_1'},\n",
       " 10: {95: './data/eq_05_data_deltas_n_95_d_10_tlim_12_lam_0.5_mu_0.02_s_10_pe_1'}}"
      ]
     },
     "execution_count": 5,
     "metadata": {},
     "output_type": "execute_result"
    }
   ],
   "source": [
    "name_files_nn"
   ]
  },
  {
   "cell_type": "markdown",
   "metadata": {},
   "source": [
    "### READ FILES"
   ]
  },
  {
   "cell_type": "code",
   "execution_count": 6,
   "metadata": {},
   "outputs": [
    {
     "name": "stdout",
     "output_type": "stream",
     "text": [
      "SEED: 1\n",
      "SEED: 2\n",
      "SEED: 3\n",
      "SEED: 4\n",
      "SEED: 5\n",
      "SEED: 6\n",
      "SEED: 7\n",
      "SEED: 8\n",
      "SEED: 9\n",
      "SEED: 10\n"
     ]
    }
   ],
   "source": [
    "#create dictorary containing data\n",
    "ress = {}\n",
    "for i_seed, seed in enumerate(seeds):\n",
    "    print(f\"SEED: {seed}\")\n",
    "    ress[seed] = {}\n",
    "    for cl in range(len(Ns)):\n",
    "        N_cl = Ns[cl]\n",
    "        ress[seed][Ns[cl]] = []\n",
    "        for instance_num in range(num_conf):\n",
    "            #print(f\" N: {N_cl} instance {instance_num}\")\n",
    "            ress[seed][Ns[cl]].append({})\n"
   ]
  },
  {
   "cell_type": "code",
   "execution_count": 7,
   "metadata": {},
   "outputs": [
    {
     "name": "stdout",
     "output_type": "stream",
     "text": [
      "SEED: 1\n",
      "Read N: 95 instance 0 - ./data/eq_05_data_deltas_n_95_d_10_tlim_12_lam_0.5_mu_0.02_s_1_pe_1_0\n",
      "SEED: 2\n",
      "Read N: 95 instance 0 - ./data/eq_05_data_deltas_n_95_d_10_tlim_12_lam_0.5_mu_0.02_s_2_pe_1_0\n",
      "SEED: 3\n",
      "Read N: 95 instance 0 - ./data/eq_05_data_deltas_n_95_d_10_tlim_12_lam_0.5_mu_0.02_s_3_pe_1_0\n",
      "SEED: 4\n",
      "Read N: 95 instance 0 - ./data/eq_05_data_deltas_n_95_d_10_tlim_12_lam_0.5_mu_0.02_s_4_pe_1_0\n",
      "SEED: 5\n",
      "Read N: 95 instance 0 - ./data/eq_05_data_deltas_n_95_d_10_tlim_12_lam_0.5_mu_0.02_s_5_pe_1_0\n",
      "SEED: 6\n",
      "Read N: 95 instance 0 - ./data/eq_05_data_deltas_n_95_d_10_tlim_12_lam_0.5_mu_0.02_s_6_pe_1_0\n",
      "SEED: 7\n",
      "Read N: 95 instance 0 - ./data/eq_05_data_deltas_n_95_d_10_tlim_12_lam_0.5_mu_0.02_s_7_pe_1_0\n",
      "SEED: 8\n",
      "Read N: 95 instance 0 - ./data/eq_05_data_deltas_n_95_d_10_tlim_12_lam_0.5_mu_0.02_s_8_pe_1_0\n",
      "SEED: 9\n",
      "Read N: 95 instance 0 - ./data/eq_05_data_deltas_n_95_d_10_tlim_12_lam_0.5_mu_0.02_s_9_pe_1_0\n",
      "SEED: 10\n",
      "Read N: 95 instance 0 - ./data/eq_05_data_deltas_n_95_d_10_tlim_12_lam_0.5_mu_0.02_s_10_pe_1_0\n"
     ]
    }
   ],
   "source": [
    "for i_seed, seed in enumerate(seeds):\n",
    "    print(f\"SEED: {seed}\")\n",
    "    for cl in range(len(Ns)):\n",
    "        N_cl = Ns[cl]\n",
    "        for instance_num in range(num_conf):\n",
    "            ress[seed][N_cl][instance_num][\"regressive\"] = {}\n",
    "            name_temp = name_files_nn[seed][N_cl] +\"_\" + str(instance_num)\n",
    "            print(f\"Read N: {N_cl} instance {instance_num} - {name_temp}\")\n",
    "            try:\n",
    "                ress[seed][N_cl][instance_num][\"regressive\"] = {}\n",
    "                ress[seed][N_cl][instance_num][\"regressive\"][\"marginals\"] = np.load(name_temp + \"_margs.npz\",\n",
    "                                                                        \"r+\",\n",
    "                                                                       allow_pickle=True,\n",
    "                                                                       fix_imports=True)[\"marginals\"]\n",
    "            except:\n",
    "                print(f\"  instance_num: {instance_num} NOT FOUND\")\n",
    "            try:\n",
    "                ress[seed][N_cl][instance_num][\"regressive\"][\"run\"] = pd.read_csv(name_temp + \"_trace.gz\")\n",
    "                #print(f\"  instance_num: {instance_num}\")\n",
    "            except:\n",
    "                print(f\"gz no found {name_temp + '.gz'}\")\n",
    "                pass\n",
    "            try:\n",
    "                '''ress[seed][N_cl][instance_num][\"regressive\"][\"net\"] = torch.load(name_temp + \".pt\",\n",
    "                                                                      map_location=device)\n",
    "                #ress[N_cl][instance_num][\"regressive\"][\"net\"].to(device)\n",
    "                ress[seed][N_cl][instance_num][\"regressive\"][\"net\"].device = device\n",
    "                for ll in ress[seed][N_cl][instance_num][\"regressive\"][\"net\"].sublayers:\n",
    "                    for l in ll:\n",
    "                        l.device=device\n",
    "                print(f\"  NN net: {instance_num}\")'''\n",
    "                pass\n",
    "            except:\n",
    "                print(f\"  NN net: {instance_num} NON FOUND\")"
   ]
  },
  {
   "cell_type": "code",
   "execution_count": 8,
   "metadata": {},
   "outputs": [
    {
     "name": "stdout",
     "output_type": "stream",
     "text": [
      "SEED: 1\n",
      "Read N: 95 instance 0\n",
      "SEED: 2\n",
      "Read N: 95 instance 0\n",
      "SEED: 3\n",
      "Read N: 95 instance 0\n",
      "SEED: 4\n",
      "Read N: 95 instance 0\n",
      "SEED: 5\n",
      "Read N: 95 instance 0\n",
      "SEED: 6\n",
      "Read N: 95 instance 0\n",
      "SEED: 7\n",
      "Read N: 95 instance 0\n",
      "SEED: 8\n",
      "Read N: 95 instance 0\n",
      "SEED: 9\n",
      "Read N: 95 instance 0\n",
      "SEED: 10\n",
      "Read N: 95 instance 0\n"
     ]
    }
   ],
   "source": [
    "for i_seed, seed in enumerate(seeds):\n",
    "    print(f\"SEED: {seed}\")\n",
    "    for cl in range(len(Ns)):\n",
    "        N_cl = Ns[cl]\n",
    "        for instance_num in range(num_conf):\n",
    "            print(f\"Read N: {N_cl} instance {instance_num}\")\n",
    "            name_temp = name_files_sib[seed][N_cl] +\"_\" + str(instance_num)\n",
    "            #name_temp = name_temp.replace(\"mu_0\", \"mu_0.0\")\n",
    "            ress[seed][N_cl][instance_num][\"sib\"] = {}\n",
    "            try:\n",
    "                ress[seed][N_cl][instance_num][\"sib\"][\"marginals\"] = np.load(name_temp + \"_sib_margs.npz\",\n",
    "                                                                        \"r+\",\n",
    "                                                                       allow_pickle=True,\n",
    "                                                                       fix_imports=True)[\"marginals\"]\n",
    "                ress[seed][N_cl][instance_num][\"sib\"][\"params\"] = pd.read_csv(name_temp + \"_params.gz\")\n",
    "                #print(\"load SIB\")\n",
    "            except:\n",
    "                print(f\"SIB not found {name_temp}\")\n"
   ]
  },
  {
   "cell_type": "code",
   "execution_count": 9,
   "metadata": {},
   "outputs": [
    {
     "data": {
      "text/plain": [
       "Index(['Unnamed: 0', 'step', 'beta', 'energy', 'std_energy', 'loss',\n",
       "       'loss_std', 'S', 'I', 'R', 't_obs', 'num_source', 'max_grad',\n",
       "       'num_zero_pw', 'N', 'T', 'p_source', 'p_sus', 'p_obs', 'p_w', 'mu',\n",
       "       'lamb', 'max_Z'],\n",
       "      dtype='object')"
      ]
     },
     "execution_count": 9,
     "metadata": {},
     "output_type": "execute_result"
    }
   ],
   "source": [
    "ress[1][95][0][\"regressive\"][\"run\"].keys()"
   ]
  },
  {
   "cell_type": "code",
   "execution_count": 10,
   "metadata": {},
   "outputs": [
    {
     "data": {
      "image/png": "[encoded data removed]",
      "text/plain": [
       "<Figure size 432x288 with 1 Axes>"
      ]
     },
     "metadata": {
      "needs_background": "light"
     },
     "output_type": "display_data"
    }
   ],
   "source": [
    "ax = ress[3][95][0][\"regressive\"][\"run\"][\"lamb\"].plot()\n",
    "#ax.set_ylim(0.35, 0.37)\n",
    "#ax.set_xlim(9300, 9400)"
   ]
  },
  {
   "cell_type": "markdown",
   "metadata": {},
   "source": [
    "# results"
   ]
  },
  {
   "cell_type": "code",
   "execution_count": 11,
   "metadata": {},
   "outputs": [
    {
     "data": {
      "text/plain": [
       "dict_keys([1, 2, 3, 4, 5, 6, 7, 8, 9, 10])"
      ]
     },
     "execution_count": 11,
     "metadata": {},
     "output_type": "execute_result"
    }
   ],
   "source": [
    "#import utils.analysis\n",
    "#from utils.analysis import sort_I\n",
    "from imp import reload\n",
    "#reload(utils.analysis)\n",
    "data_.keys()"
   ]
  },
  {
   "cell_type": "code",
   "execution_count": 12,
   "metadata": {},
   "outputs": [],
   "source": [
    "temp_params = {\"lambda_sib\":[], \"lambda_nn\":[], \"mu_sib\":[], \"mu_nn\":[]}\n",
    "mu=[]\n",
    "for cl in range(len(Ns)):\n",
    "    for i_seed, seed in enumerate(seeds):\n",
    "        for instance_num in range(num_conf):\n",
    "            temp_params[\"lambda_sib\"].append(ress[seed][Ns[cl]][instance_num][\"sib\"][\"params\"][\"lambda\"].iloc[-1])\n",
    "            temp_params[\"lambda_nn\"].append(ress[seed][N_cl][instance_num][\"regressive\"][\"run\"][\"lamb\"].iloc[-1])\n",
    "            mu_sib = 1. - np.exp(-np.array(ress[seed][Ns[cl]][instance_num][\"sib\"][\"params\"][\"mu\"].iloc[-1]))\n",
    "            temp_params[\"mu_sib\"].append(mu_sib)\n",
    "            temp_params[\"mu_nn\"].append(ress[seed][N_cl][instance_num][\"regressive\"][\"run\"][\"mu\"].iloc[-1])\n",
    "        #lambdas=pd.DataFrame(temp_params)"
   ]
  },
  {
   "cell_type": "code",
   "execution_count": 13,
   "metadata": {},
   "outputs": [
    {
     "data": {
      "text/plain": [
       "{'lambda_sib': [0.0013590466296024,\n",
       "  0.000984111218887,\n",
       "  0.000630850881297,\n",
       "  0.0009429412962413,\n",
       "  0.0011208462918181,\n",
       "  0.0010541174614906,\n",
       "  0.0010389980139105,\n",
       "  0.001108688989894,\n",
       "  0.0009266994821192,\n",
       "  0.0010429208502337],\n",
       " 'lambda_nn': [0.0011021464597433,\n",
       "  0.0008768692496232,\n",
       "  0.0005640487070195,\n",
       "  0.000660230172798,\n",
       "  0.0009927642531692,\n",
       "  0.0010042992653325,\n",
       "  0.0010559842921793,\n",
       "  0.0008432155009359,\n",
       "  0.0006746815051883,\n",
       "  0.0009358277311548],\n",
       " 'mu_sib': [0.03465309342725165,\n",
       "  0.014594697792287503,\n",
       "  9.999994999843054e-07,\n",
       "  0.04544851017673768,\n",
       "  0.018398049874283284,\n",
       "  0.012290232340554708,\n",
       "  0.013130672175719504,\n",
       "  0.01362896053746554,\n",
       "  0.008579230491126855,\n",
       "  0.026739699330473043],\n",
       " 'mu_nn': [0.040586270391941,\n",
       "  0.0130545888096094,\n",
       "  9.999999974752427e-07,\n",
       "  0.035659085959196,\n",
       "  0.0156068010255694,\n",
       "  0.0134930368512868,\n",
       "  0.0125782499089837,\n",
       "  0.0146912019699811,\n",
       "  0.0106473369523882,\n",
       "  0.0259963199496269]}"
      ]
     },
     "execution_count": 13,
     "metadata": {},
     "output_type": "execute_result"
    }
   ],
   "source": [
    "temp_params"
   ]
  },
  {
   "cell_type": "code",
   "execution_count": 14,
   "metadata": {},
   "outputs": [
    {
     "data": {
      "text/plain": [
       "{'lambda_sib': [0.0013590466296024,\n",
       "  0.000984111218887,\n",
       "  0.000630850881297,\n",
       "  0.0009429412962413,\n",
       "  0.0011208462918181,\n",
       "  0.0010541174614906,\n",
       "  0.0010389980139105,\n",
       "  0.001108688989894,\n",
       "  0.0009266994821192,\n",
       "  0.0010429208502337],\n",
       " 'lambda_nn': [0.0011021464597433,\n",
       "  0.0008768692496232,\n",
       "  0.0005640487070195,\n",
       "  0.000660230172798,\n",
       "  0.0009927642531692,\n",
       "  0.0010042992653325,\n",
       "  0.0010559842921793,\n",
       "  0.0008432155009359,\n",
       "  0.0006746815051883,\n",
       "  0.0009358277311548],\n",
       " 'mu_sib': [0.03465309342725165,\n",
       "  0.014594697792287503,\n",
       "  9.999994999843054e-07,\n",
       "  0.04544851017673768,\n",
       "  0.018398049874283284,\n",
       "  0.012290232340554708,\n",
       "  0.013130672175719504,\n",
       "  0.01362896053746554,\n",
       "  0.008579230491126855,\n",
       "  0.026739699330473043],\n",
       " 'mu_nn': [0.040586270391941,\n",
       "  0.0130545888096094,\n",
       "  9.999999974752427e-07,\n",
       "  0.035659085959196,\n",
       "  0.0156068010255694,\n",
       "  0.0134930368512868,\n",
       "  0.0125782499089837,\n",
       "  0.0146912019699811,\n",
       "  0.0106473369523882,\n",
       "  0.0259963199496269]}"
      ]
     },
     "execution_count": 14,
     "metadata": {},
     "output_type": "execute_result"
    }
   ],
   "source": [
    "temp_params"
   ]
  },
  {
   "cell_type": "code",
   "execution_count": 38,
   "metadata": {},
   "outputs": [
    {
     "data": {
      "text/plain": [
       "<BarContainer object of 2 artists>"
      ]
     },
     "execution_count": 38,
     "metadata": {},
     "output_type": "execute_result"
    },
    {
     "data": {
      "image/png": "[encoded data removed]",
      "text/plain": [
       "<Figure size 720x360 with 1 Axes>"
      ]
     },
     "metadata": {
      "needs_background": "light"
     },
     "output_type": "display_data"
    }
   ],
   "source": [
    "import matplotlib.pyplot as plt\n",
    "fig, ax = plt.subplots(1, figsize=(10,5))\n",
    "sib_m = np.array(temp_params[\"lambda_sib\"]).mean()\n",
    "nn_m = np.array(temp_params[\"lambda_nn\"]).mean()\n",
    "sib_std = np.array(temp_params[\"lambda_sib\"]).std()/np.sqrt(10)\n",
    "nn_std = np.array(temp_params[\"lambda_nn\"]).std()/np.sqrt(10)\n",
    "ax.bar([0,1], [sib_m, nn_m], yerr=[sib_std, nn_std])"
   ]
  },
  {
   "cell_type": "code",
   "execution_count": 39,
   "metadata": {},
   "outputs": [
    {
     "data": {
      "text/plain": [
       "<matplotlib.legend.Legend at 0x7f8ac60e7730>"
      ]
     },
     "execution_count": 39,
     "metadata": {},
     "output_type": "execute_result"
    },
    {
     "data": {
      "image/png": "[encoded data removed]",
      "text/plain": [
       "<Figure size 432x288 with 1 Axes>"
      ]
     },
     "metadata": {
      "needs_background": "light"
     },
     "output_type": "display_data"
    }
   ],
   "source": [
    "mean_sib = []\n",
    "mean_nn = []\n",
    "for i in range(1,len(temp_params[\"lambda_sib\"])):\n",
    "    mean_sib.append(np.array(temp_params[\"lambda_sib\"][0:i]).mean())\n",
    "    mean_nn.append(np.array(temp_params[\"lambda_nn\"][0:i]).mean())\n",
    "import matplotlib.pyplot as plt\n",
    "plt.plot(np.array(mean_sib), label=\"sib\")\n",
    "plt.plot(np.array(mean_nn), label=\"nn\")\n",
    "plt.plot([0,len(temp_params[\"lambda_sib\"])], [args.gamma, args.gamma])\n",
    "plt.legend()"
   ]
  },
  {
   "cell_type": "code",
   "execution_count": 40,
   "metadata": {},
   "outputs": [
    {
     "data": {
      "text/plain": [
       "<matplotlib.legend.Legend at 0x7f8ac6065490>"
      ]
     },
     "execution_count": 40,
     "metadata": {},
     "output_type": "execute_result"
    },
    {
     "data": {
      "image/png": "[encoded data removed]",
      "text/plain": [
       "<Figure size 432x288 with 1 Axes>"
      ]
     },
     "metadata": {
      "needs_background": "light"
     },
     "output_type": "display_data"
    }
   ],
   "source": [
    "mean_sib = []\n",
    "mean_nn = []\n",
    "for i in range(1,10):\n",
    "    mean_sib.append(np.array(temp_params[\"lambda_sib\"][0:i]).mean())\n",
    "    mean_nn.append(np.array(temp_params[\"lambda_nn\"][0:i]).mean())\n",
    "import matplotlib.pyplot as plt\n",
    "plt.plot(100*abs(np.array(mean_sib)-args.gamma)/args.gamma, label=\"sib\")\n",
    "plt.plot(100*abs(np.array(mean_nn)-args.gamma)/args.gamma, label=\"nn\")\n",
    "plt.legend()"
   ]
  },
  {
   "cell_type": "code",
   "execution_count": 41,
   "metadata": {},
   "outputs": [
    {
     "data": {
      "text/plain": [
       "[0.0011021464597433,\n",
       " 0.0008768692496232,\n",
       " 0.0005640487070195,\n",
       " 0.000660230172798,\n",
       " 0.0009927642531692,\n",
       " 0.0010042992653325,\n",
       " 0.0010559842921793,\n",
       " 0.0008432155009359,\n",
       " 0.0006746815051883,\n",
       " 0.0009358277311548]"
      ]
     },
     "execution_count": 41,
     "metadata": {},
     "output_type": "execute_result"
    }
   ],
   "source": [
    "temp_params[\"lambda_nn\"]"
   ]
  },
  {
   "cell_type": "code",
   "execution_count": 42,
   "metadata": {},
   "outputs": [
    {
     "data": {
      "text/plain": [
       "array([0.00135905, 0.00117158, 0.00099134, 0.00097924, 0.00100756,\n",
       "       0.00101532, 0.0010187 , 0.00102995, 0.00101848])"
      ]
     },
     "execution_count": 42,
     "metadata": {},
     "output_type": "execute_result"
    }
   ],
   "source": [
    "np.array(mean_sib)"
   ]
  },
  {
   "cell_type": "code",
   "execution_count": 43,
   "metadata": {},
   "outputs": [
    {
     "data": {
      "text/plain": [
       "<matplotlib.legend.Legend at 0x7f8ac604bd30>"
      ]
     },
     "execution_count": 43,
     "metadata": {},
     "output_type": "execute_result"
    },
    {
     "data": {
      "image/png": "[encoded data removed]",
      "text/plain": [
       "<Figure size 432x288 with 1 Axes>"
      ]
     },
     "metadata": {
      "needs_background": "light"
     },
     "output_type": "display_data"
    }
   ],
   "source": [
    "mean_sib = []\n",
    "mean_nn = []\n",
    "for i in range(1,10):\n",
    "    mean_sib.append(np.array(temp_params[\"lambda_sib\"][0:i]).std()/np.sqrt(i))\n",
    "    mean_nn.append(np.array(temp_params[\"lambda_nn\"][0:i]).std()/np.sqrt(i))\n",
    "import matplotlib.pyplot as plt\n",
    "plt.plot(abs(np.array(mean_sib)), label=\"sib\")\n",
    "plt.plot(abs(np.array(mean_nn)), label=\"nn\")\n",
    "plt.legend()"
   ]
  },
  {
   "cell_type": "code",
   "execution_count": 44,
   "metadata": {},
   "outputs": [
    {
     "data": {
      "text/plain": [
       "0.0008710067137144"
      ]
     },
     "execution_count": 44,
     "metadata": {},
     "output_type": "execute_result"
    }
   ],
   "source": [
    "np.array(temp_params[\"lambda_nn\"][0:10]).mean()"
   ]
  },
  {
   "cell_type": "code",
   "execution_count": 45,
   "metadata": {},
   "outputs": [
    {
     "data": {
      "text/plain": [
       "<BarContainer object of 2 artists>"
      ]
     },
     "execution_count": 45,
     "metadata": {},
     "output_type": "execute_result"
    },
    {
     "data": {
      "image/png": "[encoded data removed]",
      "text/plain": [
       "<Figure size 720x360 with 4 Axes>"
      ]
     },
     "metadata": {
      "needs_background": "light"
     },
     "output_type": "display_data"
    }
   ],
   "source": [
    "def err_param_rel(temp_params, key='lambda_sib', val_=args.lambda_):\n",
    "    a = (100.*(np.abs(np.array(temp_params[key]) - val_))/args.lambda_).mean()\n",
    "    return a\n",
    "def err_param(temp_params, key='lambda_sib', val_=args.lambda_):\n",
    "    a = (np.abs(np.array(temp_params[key]) - val_)).mean()\n",
    "    return a\n",
    "\n",
    "import matplotlib.pyplot as plt\n",
    "fig, axs = plt.subplots(2,2, figsize=(10,5))\n",
    "x=np.arange(len(temp_params['lambda_sib']))\n",
    "axs[0][0].bar(x, np.array(temp_params['lambda_sib']) - args.gamma, width=0.4)\n",
    "axs[0][0].bar(x+0.5, np.array(temp_params['lambda_nn']) - args.gamma, width=0.4)\n",
    "axs[1][0].bar(x, np.array(temp_params['mu_sib']) - args.mu, width=0.4)\n",
    "axs[1][0].bar(x+0.5, np.array(temp_params['mu_nn']) - args.mu, width=0.4)\n",
    "err_sib_lam = err_param(temp_params, key='lambda_sib')\n",
    "err_nn_lam = err_param(temp_params, key='lambda_nn')\n",
    "err_sib_mu = err_param(temp_params, key='mu_sib', val_=args.mu)\n",
    "err_nn_mu = err_param(temp_params, key='mu_nn', val_=args.mu)\n",
    "\n",
    "axs[0][1].bar([0,1], [err_sib_lam, err_nn_lam], width=0.8)\n",
    "axs[1][1].bar([0,1], [err_sib_mu, err_nn_mu], width=0.8)"
   ]
  },
  {
   "cell_type": "code",
   "execution_count": 46,
   "metadata": {},
   "outputs": [
    {
     "name": "stderr",
     "output_type": "stream",
     "text": [
      "No handles with labels found to put in legend.\n"
     ]
    },
    {
     "name": "stdout",
     "output_type": "stream",
     "text": [
      "[99.87382982]\n",
      "[99.88719026]\n",
      "[5.08970204]\n",
      "[4.11725408]\n"
     ]
    },
    {
     "data": {
      "text/plain": [
       "<BarContainer object of 2 artists>"
      ]
     },
     "execution_count": 46,
     "metadata": {},
     "output_type": "execute_result"
    },
    {
     "data": {
      "image/png": "[encoded data removed]",
      "text/plain": [
       "<Figure size 720x360 with 4 Axes>"
      ]
     },
     "metadata": {
      "needs_background": "light"
     },
     "output_type": "display_data"
    }
   ],
   "source": [
    "def err_param_rel(temp_params, key='lambda_sib', val_=args.lambda_, outliers=0.1):\n",
    "    err = 100.*(np.abs(np.array(temp_params[key]) - val_))/args.lambda_\n",
    "    num_outliers=int(len(err)*outliers)\n",
    "    err[::-1].sort()\n",
    "    a = err[num_outliers:].mean()\n",
    "    a_err = err[num_outliers:].std()\n",
    "    print(err[:num_outliers])\n",
    "    return a, a_err\n",
    "def err_param(temp_params, key='lambda_sib', val_=args.lambda_, outliers=0.1):\n",
    "    err = np.abs(np.array(temp_params[key]) - val_)\n",
    "    num_outliers=int(len(err)*outliers)\n",
    "    err[::-1].sort()\n",
    "    a = err[num_outliers:].mean()\n",
    "    a_err = err[num_outliers:].std()\n",
    "    print(err[:num_outliers])\n",
    "    return a, a_err\n",
    "N=args.N\n",
    "import matplotlib.pyplot as plt\n",
    "fig, axs = plt.subplots(2,2, figsize=(10,5))\n",
    "x=np.arange(len(temp_params['lambda_sib']))\n",
    "axs[0][0].bar(x, np.array(temp_params['lambda_sib']) - args.lambda_, width=0.4)\n",
    "axs[0][0].bar(x+0.5, np.array(temp_params['lambda_nn']) - args.lambda_, width=0.4)\n",
    "axs[1][0].bar(x, np.array(temp_params['mu_sib']) - args.mu, width=0.4)\n",
    "axs[1][0].bar(x+0.5, np.array(temp_params['mu_nn']) - args.mu, width=0.4)\n",
    "err_sib_lam, std_sib_lam = err_param_rel(temp_params, key='lambda_sib')\n",
    "err_nn_lam, std_nn_lam = err_param_rel(temp_params, key='lambda_nn')\n",
    "err_sib_mu, std_sib_mu = err_param_rel(temp_params, key='mu_sib', val_=args.mu)\n",
    "err_nn_mu, std_nn_mu = err_param_rel(temp_params, key='mu_nn', val_=args.mu)\n",
    "axs[0][0].set_ylim(-0.05,0.1)\n",
    "plt.legend()\n",
    "axs[0][1].bar([0,1], [err_sib_lam, err_nn_lam], width=0.8, yerr=[std_sib_lam/np.sqrt(N), std_nn_lam/np.sqrt(N)])\n",
    "axs[1][1].bar([0,1], [err_sib_mu, err_nn_mu],yerr=[std_sib_mu/np.sqrt(N), std_nn_mu/np.sqrt(N)], width=0.8)"
   ]
  },
  {
   "cell_type": "code",
   "execution_count": 47,
   "metadata": {},
   "outputs": [
    {
     "data": {
      "text/plain": [
       "0.0008710067137144"
      ]
     },
     "execution_count": 47,
     "metadata": {},
     "output_type": "execute_result"
    }
   ],
   "source": [
    "np.array(temp_params[\"lambda_nn\"]).mean()"
   ]
  },
  {
   "cell_type": "code",
   "execution_count": 49,
   "metadata": {},
   "outputs": [
    {
     "data": {
      "text/html": [
       "<div>\n",
       "<style scoped>\n",
       "    .dataframe tbody tr th:only-of-type {\n",
       "        vertical-align: middle;\n",
       "    }\n",
       "\n",
       "    .dataframe tbody tr th {\n",
       "        vertical-align: top;\n",
       "    }\n",
       "\n",
       "    .dataframe thead th {\n",
       "        text-align: right;\n",
       "    }\n",
       "</style>\n",
       "<table border=\"1\" class=\"dataframe\">\n",
       "  <thead>\n",
       "    <tr style=\"text-align: right;\">\n",
       "      <th></th>\n",
       "      <th>lambda_sib</th>\n",
       "      <th>lambda_nn</th>\n",
       "      <th>mu_sib</th>\n",
       "      <th>mu_nn</th>\n",
       "      <th>mu</th>\n",
       "      <th>lambda</th>\n",
       "    </tr>\n",
       "  </thead>\n",
       "  <tbody>\n",
       "    <tr>\n",
       "      <th>0</th>\n",
       "      <td>0.001359</td>\n",
       "      <td>0.001102</td>\n",
       "      <td>3.465309e-02</td>\n",
       "      <td>4.058627e-02</td>\n",
       "      <td>0.02</td>\n",
       "      <td>0.001</td>\n",
       "    </tr>\n",
       "    <tr>\n",
       "      <th>1</th>\n",
       "      <td>0.000984</td>\n",
       "      <td>0.000877</td>\n",
       "      <td>1.459470e-02</td>\n",
       "      <td>1.305459e-02</td>\n",
       "      <td>0.02</td>\n",
       "      <td>0.001</td>\n",
       "    </tr>\n",
       "    <tr>\n",
       "      <th>2</th>\n",
       "      <td>0.000631</td>\n",
       "      <td>0.000564</td>\n",
       "      <td>9.999995e-07</td>\n",
       "      <td>1.000000e-06</td>\n",
       "      <td>0.02</td>\n",
       "      <td>0.001</td>\n",
       "    </tr>\n",
       "    <tr>\n",
       "      <th>3</th>\n",
       "      <td>0.000943</td>\n",
       "      <td>0.000660</td>\n",
       "      <td>4.544851e-02</td>\n",
       "      <td>3.565909e-02</td>\n",
       "      <td>0.02</td>\n",
       "      <td>0.001</td>\n",
       "    </tr>\n",
       "    <tr>\n",
       "      <th>4</th>\n",
       "      <td>0.001121</td>\n",
       "      <td>0.000993</td>\n",
       "      <td>1.839805e-02</td>\n",
       "      <td>1.560680e-02</td>\n",
       "      <td>0.02</td>\n",
       "      <td>0.001</td>\n",
       "    </tr>\n",
       "    <tr>\n",
       "      <th>5</th>\n",
       "      <td>0.001054</td>\n",
       "      <td>0.001004</td>\n",
       "      <td>1.229023e-02</td>\n",
       "      <td>1.349304e-02</td>\n",
       "      <td>0.02</td>\n",
       "      <td>0.001</td>\n",
       "    </tr>\n",
       "    <tr>\n",
       "      <th>6</th>\n",
       "      <td>0.001039</td>\n",
       "      <td>0.001056</td>\n",
       "      <td>1.313067e-02</td>\n",
       "      <td>1.257825e-02</td>\n",
       "      <td>0.02</td>\n",
       "      <td>0.001</td>\n",
       "    </tr>\n",
       "    <tr>\n",
       "      <th>7</th>\n",
       "      <td>0.001109</td>\n",
       "      <td>0.000843</td>\n",
       "      <td>1.362896e-02</td>\n",
       "      <td>1.469120e-02</td>\n",
       "      <td>0.02</td>\n",
       "      <td>0.001</td>\n",
       "    </tr>\n",
       "    <tr>\n",
       "      <th>8</th>\n",
       "      <td>0.000927</td>\n",
       "      <td>0.000675</td>\n",
       "      <td>8.579230e-03</td>\n",
       "      <td>1.064734e-02</td>\n",
       "      <td>0.02</td>\n",
       "      <td>0.001</td>\n",
       "    </tr>\n",
       "    <tr>\n",
       "      <th>9</th>\n",
       "      <td>0.001043</td>\n",
       "      <td>0.000936</td>\n",
       "      <td>2.673970e-02</td>\n",
       "      <td>2.599632e-02</td>\n",
       "      <td>0.02</td>\n",
       "      <td>0.001</td>\n",
       "    </tr>\n",
       "  </tbody>\n",
       "</table>\n",
       "</div>"
      ],
      "text/plain": [
       "   lambda_sib  lambda_nn        mu_sib         mu_nn    mu  lambda\n",
       "0    0.001359   0.001102  3.465309e-02  4.058627e-02  0.02   0.001\n",
       "1    0.000984   0.000877  1.459470e-02  1.305459e-02  0.02   0.001\n",
       "2    0.000631   0.000564  9.999995e-07  1.000000e-06  0.02   0.001\n",
       "3    0.000943   0.000660  4.544851e-02  3.565909e-02  0.02   0.001\n",
       "4    0.001121   0.000993  1.839805e-02  1.560680e-02  0.02   0.001\n",
       "5    0.001054   0.001004  1.229023e-02  1.349304e-02  0.02   0.001\n",
       "6    0.001039   0.001056  1.313067e-02  1.257825e-02  0.02   0.001\n",
       "7    0.001109   0.000843  1.362896e-02  1.469120e-02  0.02   0.001\n",
       "8    0.000927   0.000675  8.579230e-03  1.064734e-02  0.02   0.001\n",
       "9    0.001043   0.000936  2.673970e-02  2.599632e-02  0.02   0.001"
      ]
     },
     "execution_count": 49,
     "metadata": {},
     "output_type": "execute_result"
    }
   ],
   "source": [
    "import pandas as pd\n",
    "params_df = pd.DataFrame(temp_params)\n",
    "params_df[\"mu\"] = [args.mu]*len(params_df)\n",
    "params_df[\"lambda\"] = [args.gamma]*len(params_df)\n",
    "params_df.to_csv(\"res_params.gz\")\n",
    "params_df"
   ]
  },
  {
   "cell_type": "code",
   "execution_count": 26,
   "metadata": {},
   "outputs": [
    {
     "data": {
      "text/plain": [
       "<BarContainer object of 2 artists>"
      ]
     },
     "execution_count": 26,
     "metadata": {},
     "output_type": "execute_result"
    },
    {
     "data": {
      "image/png": "[encoded data removed]",
      "text/plain": [
       "<Figure size 720x360 with 4 Axes>"
      ]
     },
     "metadata": {
      "needs_background": "light"
     },
     "output_type": "display_data"
    }
   ],
   "source": [
    "def err_param_rel(temp_params, key='lambda_sib', val_=args.lambda_):\n",
    "    a = (100.*(np.abs(np.array(temp_params[key]) - val_))/args.lambda_).mean()\n",
    "    return a\n",
    "def err_param(temp_params, key='lambda_sib', val_=args.lambda_):\n",
    "    a = (np.abs(np.array(temp_params[key]) - val_)).mean()\n",
    "    return a\n",
    "\n",
    "import matplotlib.pyplot as plt\n",
    "fig, axs = plt.subplots(2,2, figsize=(10,5))\n",
    "x=np.arange(len(temp_params['lambda_sib']))\n",
    "axs[0][0].bar(x, np.array(temp_params['lambda_sib']) - args.lambda_, width=0.4)\n",
    "axs[0][0].bar(x+0.5, np.array(temp_params['lambda_nn']) - args.lambda_, width=0.4)\n",
    "axs[1][0].bar(x, np.array(temp_params['mu_sib']) - args.mu, width=0.4)\n",
    "axs[1][0].bar(x+0.5, np.array(temp_params['mu_nn']) - args.mu, width=0.4)\n",
    "err_sib_lam = err_param(temp_params, key='lambda_sib')\n",
    "err_nn_lam = err_param(temp_params, key='lambda_nn')\n",
    "err_sib_mu = err_param(temp_params, key='mu_sib', val_=args.mu)\n",
    "err_nn_mu = err_param(temp_params, key='mu_nn', val_=args.mu)\n",
    "\n",
    "axs[0][1].bar([0,1], [err_sib_lam, err_nn_lam], width=0.8)\n",
    "axs[1][1].bar([0,1], [err_sib_mu, err_nn_mu], width=0.8)"
   ]
  },
  {
   "cell_type": "code",
   "execution_count": 27,
   "metadata": {},
   "outputs": [
    {
     "ename": "ModuleNotFoundError",
     "evalue": "No module named 'utils.analysis'",
     "output_type": "error",
     "traceback": [
      "\u001b[0;31m---------------------------------------------------------------------------\u001b[0m",
      "\u001b[0;31mModuleNotFoundError\u001b[0m                       Traceback (most recent call last)",
      "\u001b[0;32m<ipython-input-27-e88d297caa70>\u001b[0m in \u001b[0;36m<module>\u001b[0;34m\u001b[0m\n\u001b[0;32m----> 1\u001b[0;31m \u001b[0;32mfrom\u001b[0m \u001b[0mutils\u001b[0m\u001b[0;34m.\u001b[0m\u001b[0manalysis\u001b[0m \u001b[0;32mimport\u001b[0m \u001b[0msort_I\u001b[0m\u001b[0;34m\u001b[0m\u001b[0;34m\u001b[0m\u001b[0m\n\u001b[0m\u001b[1;32m      2\u001b[0m \u001b[0;34m\u001b[0m\u001b[0m\n\u001b[1;32m      3\u001b[0m \u001b[0mtrue_sources\u001b[0m \u001b[0;34m=\u001b[0m \u001b[0;34m{\u001b[0m\u001b[0;34m}\u001b[0m\u001b[0;34m\u001b[0m\u001b[0;34m\u001b[0m\u001b[0m\n\u001b[1;32m      4\u001b[0m \u001b[0mnn_sources\u001b[0m \u001b[0;34m=\u001b[0m \u001b[0;34m{\u001b[0m\u001b[0;34m}\u001b[0m\u001b[0;34m\u001b[0m\u001b[0;34m\u001b[0m\u001b[0m\n\u001b[1;32m      5\u001b[0m \u001b[0msib_sources\u001b[0m \u001b[0;34m=\u001b[0m \u001b[0;34m{\u001b[0m\u001b[0;34m}\u001b[0m\u001b[0;34m\u001b[0m\u001b[0;34m\u001b[0m\u001b[0m\n",
      "\u001b[0;31mModuleNotFoundError\u001b[0m: No module named 'utils.analysis'"
     ]
    }
   ],
   "source": [
    "from utils.analysis import sort_I \n",
    "\n",
    "true_sources = {}\n",
    "nn_sources = {}\n",
    "sib_sources = {}\n",
    "sm_sources = {}\n",
    "rnd_sources_I = {}\n",
    "rnd_sources = {}\n",
    "Is={}\n",
    "for cl in range(len(Ns)):\n",
    "    true_sources[cl] = []\n",
    "    nn_sources[cl] = []\n",
    "    sib_sources[cl] = []\n",
    "    rnd_sources[cl] = []\n",
    "    rnd_sources_I[cl] = []\n",
    "    sm_sources[cl] = []\n",
    "    Is[cl] = []\n",
    "    for i_seed, seed in enumerate(seeds):\n",
    "        print(f\"\\nSEED: {seed}\")\n",
    "\n",
    "        for i in range(num_conf):\n",
    "            true_sources[cl].append(np.argmin(data_[seed][\"epidemy\"][i][0][0]))\n",
    "            nn_sources[cl].append(sort_I(ress[seed][Ns[cl]][i][\"regressive\"][\"marginals\"], 0))\n",
    "            sib_sources[cl].append(sort_I(ress[seed][Ns[cl]][i][\"sib\"][\"marginals\"], 0))\n",
    "            Is[cl].append((data_[seed][\"epidemy\"][i][0][0] != np.inf).sum())\n",
    "            rnd_sources[cl].append(np.random.randint(0,Ns[cl]))\n",
    "            rnd_sources_I[cl].append(np.random.randint(0,Is[cl][-1]))\n",
    "            sm_sources[cl].append({})"
   ]
  },
  {
   "cell_type": "code",
   "execution_count": null,
   "metadata": {},
   "outputs": [],
   "source": [
    "avg_source_nn = {}\n",
    "avg_source_sib = {}\n",
    "avg_source_sm = {}\n",
    "avg_source_rnd = {}\n",
    "avg_source_rnd_I = {}\n",
    "avg_source_nn_norm = {}\n",
    "avg_source_sib_norm = {}\n",
    "avg_source_sm_norm = {}\n",
    "avg_source_rnd_norm = {}\n",
    "enum=0\n",
    "bins=20\n",
    "\n",
    "for cl in range(len(Ns)):\n",
    "    avg_source_nn[cl] = np.zeros(Ns[cl], dtype=float)\n",
    "    avg_source_sib[cl] = np.zeros(Ns[cl], dtype=float)\n",
    "    avg_source_rnd[cl] = np.zeros(Ns[cl], dtype=float)\n",
    "    avg_source_rnd_I[cl] = np.zeros(Ns[cl], dtype=float)\n",
    "\n",
    "    #print(nalpha)\n",
    "    avg_source_sm[cl] = {}\n",
    "    for n in range(Ns[cl]):\n",
    "        for i in range(len(true_sources[cl])):\n",
    "            avg_source_nn[cl][n] += true_sources[cl][i] in nn_sources[cl][i][:n+1,1]\n",
    "            avg_source_sib[cl][n] += true_sources[cl][i] in sib_sources[cl][i][:n+1,1]\n",
    "            avg_source_rnd[cl][n] += n+1 > rnd_sources[cl][i]\n",
    "            avg_source_rnd_I[cl][n] += n+1 > rnd_sources_I[cl][i]\n",
    "for cl in range(len(Ns)):\n",
    "    avg_source_nn_norm[cl] = np.zeros(bins, dtype=float)\n",
    "    avg_source_sib_norm[cl] = np.zeros(bins, dtype=float)\n",
    "    avg_source_rnd_norm[cl] = np.zeros(bins, dtype=float)\n",
    "\n",
    "    #print(nalpha)\n",
    "    avg_source_sm_norm[cl] = {}\n",
    "    for n in range(0, bins):\n",
    "        for i in range(len(true_sources[cl])):\n",
    "            I = Is[cl][i]\n",
    "            step_I = I / bins\n",
    "            pos_bins = int(step_I * n)\n",
    "            pos_bins_1 = int(step_I * (n+1))\n",
    "            if n == bins-1:\n",
    "                pos_bins_1 = I\n",
    "\n",
    "            avg_source_nn_norm[cl][n] += true_sources[cl][i] in nn_sources[cl][i][:pos_bins_1,1]\n",
    "            avg_source_sib_norm[cl][n] += true_sources[cl][i] in sib_sources[cl][i][:pos_bins_1,1]\n",
    "            avg_source_rnd_norm[cl][n] += pos_bins_1 > rnd_sources_I[cl][i]\n"
   ]
  },
  {
   "cell_type": "code",
   "execution_count": null,
   "metadata": {},
   "outputs": [],
   "source": [
    "cl = 0\n",
    "avg_source_pd = pd.DataFrame(data={\"nn\":avg_source_nn[cl], \"sib\":avg_source_sib[cl], \n",
    "                                   \"rnd\":avg_source_rnd[cl], \"rnd_I\":avg_source_rnd_I[cl]})\n",
    "for nsim in nsims:\n",
    "    for alpha in range(nalpha): \n",
    "        avg_source_pd[f\"sm_{nsim}_{args.a_min+alpha*args.a_step:.2f}\"] = avg_source_sm[cl][nsim][alpha]\n",
    "\n",
    "avg_source_pd_norm = pd.DataFrame(data={\"nn\":avg_source_nn_norm[cl], \n",
    "                                        \"sib\":avg_source_sib_norm[cl],\n",
    "                                       \"rnd\":avg_source_rnd_norm[cl]})\n",
    "for nsim in nsims:\n",
    "    for alpha in range(nalpha): \n",
    "        avg_source_pd_norm[f\"sm_{nsim}_{args.a_min+alpha*args.a_step:.2f}\"] = avg_source_sm_norm[cl][nsim][alpha]\n",
    "\n",
    "avg_source_pd"
   ]
  },
  {
   "cell_type": "code",
   "execution_count": null,
   "metadata": {},
   "outputs": [],
   "source": [
    "avg_source_pd.to_csv(\"results.gz\")\n",
    "avg_source_pd_norm.to_csv(\"results_norm.gz\")"
   ]
  },
  {
   "cell_type": "code",
   "execution_count": null,
   "metadata": {},
   "outputs": [],
   "source": [
    "import matplotlib.pyplot as plt\n",
    "import numpy as np\n",
    "from sklearn.metrics import auc\n",
    "plt.figure(figsize=(10,5))\n",
    "name=\"Greens\"\n",
    "colors = plt.get_cmap(name)\n",
    "\n",
    "y_nn = np.insert(avg_source_nn[cl]/avg_source_nn[cl][-1],0,0)\n",
    "y_sib = np.insert(avg_source_sib[cl]/avg_source_sib[cl][-1],0,0)\n",
    "y_rnd = np.insert(avg_source_rnd[cl]/avg_source_rnd[cl][-1],0,0)\n",
    "y_rnd_I = np.insert(avg_source_rnd_I[cl]/avg_source_rnd_I[cl][-1],0,0)\n",
    "N = len(avg_source_nn[cl])\n",
    "x = np.arange(N+1)/N\n",
    "cl=0\n",
    "plt.plot(x, y_rnd, \"--\", label=f\"random -- auc: {auc(x, y_rnd):.3f}\", color=\"black\")\n",
    "plt.plot(x, y_rnd_I, \"--\", label=f\"random (only I) -- auc: {auc(x, y_rnd_I):.3f}\", color=\"black\")\n",
    "\n",
    "for i, nsim in enumerate(nsims[1:]):\n",
    "    alpha=21\n",
    "    #for alpha in range(len(avg_source_sm[cl][nsim])):\n",
    "    y_sm = np.insert(avg_source_sm[cl][nsim][alpha]/avg_source_sm[cl][nsim][alpha][-1],0,0)\n",
    "    #print(alpha, avg_source_sm[cl][alpha])\n",
    "    plt.plot(x, y_sm, \":\",\n",
    "             label=f\"sm - {args.a_min+alpha*args.a_step:.2f} -- auc {auc(x, y_sm):.3f} -- sims:{nsim:.0e}\", \n",
    "             color=colors(np.clip(i/len(nsims[1:]), 0.3, 0.9)), lw=2)\n",
    "plt.plot(x, y_sib, \"-.\", label=f\"sib -- auc: {auc(x, y_sib):.3f}\", linewidth=\"2\")\n",
    "plt.plot(x, y_nn, label=f\"nn -- auc: {auc(x, y_nn):.3f}\", linewidth=\"2\")\n",
    "\n",
    "plt.legend()\n",
    "plt.xlim(0,1)\n",
    "plt.ylim(0,1.01)\n",
    "plt.title(f\"{args.type_graph} N:{Ns[0]}, days:{args.t_limit}, lambda_:{args.lambda_}, mu:{args.mu} inst:{len(true_sources[0])}\")\n",
    "plt.xlabel(\"fraction of infected or recovery nodes\")\n",
    "plt.ylabel(\"fraction of true sources found\")\n",
    "#plt.ylim(0,17)"
   ]
  },
  {
   "cell_type": "code",
   "execution_count": null,
   "metadata": {},
   "outputs": [],
   "source": [
    "import matplotlib.pyplot as plt\n",
    "import numpy as np\n",
    "from sklearn.metrics import auc\n",
    "plt.figure(figsize=(10,5))\n",
    "y_nn = np.insert(avg_source_nn[cl]/avg_source_nn[cl][-1],0,0)\n",
    "y_sib = np.insert(avg_source_sib[cl]/avg_source_sib[cl][-1],0,0)\n",
    "N = len(avg_source_nn[cl])\n",
    "x = np.insert(np.arange(N)/N,0,0)\n",
    "cl=0\n",
    "#plt.plot(x, y_nn, label=f\"nn -- auc: {auc(x, y_nn):.3f}\")\n",
    "#plt.plot(x, y_sib, label=f\"sib -- auc: {auc(x, y_sib):.3f}\")\n",
    "\n",
    "for nsim in nsims:\n",
    "    alphas = []\n",
    "    y = []\n",
    "    for alpha in range(len(avg_source_sm[cl][nsim])):\n",
    "        y_sm = np.insert(avg_source_sm[cl][nsim][alpha]/avg_source_sm[cl][nsim][alpha][-1],0,0)\n",
    "        #print(alpha, avg_source_sm[cl][alpha])\n",
    "        #plt.plot(x, y_sm, label=f\"sm - {a_min+alpha*a_step:.2f} -- auc {auc(x, y_sm):.3f} -- sims:{nsim}\")\n",
    "        y.append(auc(x, y_sm))\n",
    "        alphas.append(args.a_min+alpha*args.a_step)\n",
    "    plt.plot(alphas, y, label=f\"nsim: {nsim:.0e}\")\n",
    "plt.legend()\n",
    "#plt.xlim(0,1)\n",
    "#plt.title(f\"work95 N:{Ns[0]}, days:{t_limit}, gamma:{gamma[0]}, mu:{mu} inst:{len(true_sources[0])}\")\n",
    "#plt.ylim(0,17)"
   ]
  },
  {
   "cell_type": "code",
   "execution_count": null,
   "metadata": {},
   "outputs": [],
   "source": [
    "import matplotlib.pyplot as plt\n",
    "import numpy as np\n",
    "from sklearn.metrics import auc\n",
    "plt.figure(figsize=(10,5))\n",
    "name=\"Greens\"\n",
    "colors = plt.get_cmap(name)\n",
    "\n",
    "y_nn = np.insert(avg_source_nn_norm[cl]/avg_source_nn_norm[cl][-1],0,0)\n",
    "y_sib = np.insert(avg_source_sib_norm[cl]/avg_source_sib_norm[cl][-1],0,0)\n",
    "y_rnd = np.insert(avg_source_rnd_norm[cl]/avg_source_rnd_norm[cl][-1],0,0)\n",
    "N = len(avg_source_nn_norm[cl])\n",
    "x = np.arange(N+1)/N\n",
    "cl=0\n",
    "plt.plot(x, y_rnd, \"--\", label=f\"random -- auc: {auc(x, y_rnd):.3f}\", color=\"black\")\n",
    "\n",
    "for i, nsim in enumerate(nsims[1:]):\n",
    "    alpha=21\n",
    "    #for alpha in range(len(avg_source_sm[cl][nsim])):\n",
    "    y_sm = np.insert(avg_source_sm_norm[cl][nsim][alpha]/avg_source_sm_norm[cl][nsim][alpha][-1],0,0)\n",
    "    #print(alpha, avg_source_sm[cl][alpha])\n",
    "    plt.plot(x, y_sm, \":\",\n",
    "             label=f\"sm - {args.a_min+alpha*args.a_step:.2f} -- auc {auc(x, y_sm):.3f} -- sims:{nsim:.0e}\", \n",
    "             color=colors(np.clip(i/len(nsims[1:]), 0.3, 0.9)), lw=2)\n",
    "plt.plot(x, y_sib, \"-.\", label=f\"sib -- auc: {auc(x, y_sib):.3f}\", linewidth=\"2\")\n",
    "plt.plot(x, y_nn, label=f\"nn -- auc: {auc(x, y_nn):.3f}\", linewidth=\"2\")\n",
    "\n",
    "plt.legend()\n",
    "plt.xlim(0,1)\n",
    "plt.ylim(0,1)\n",
    "plt.title(f\"{args.type_graph} N:{Ns[0]}, days:{args.t_limit}, lambda_:{args.lambda_}, mu:{args.mu} inst:{len(true_sources[0])}\")\n",
    "plt.xlabel(\"fraction of infected or recovery nodes\")\n",
    "plt.ylabel(\"fraction of true sources found\")\n",
    "#plt.ylim(0,17)"
   ]
  },
  {
   "cell_type": "code",
   "execution_count": null,
   "metadata": {},
   "outputs": [],
   "source": [
    "import matplotlib.pyplot as plt\n",
    "import numpy as np\n",
    "from sklearn.metrics import auc\n",
    "plt.figure(figsize=(10,5))\n",
    "y_nn = np.insert(avg_source_nn_norm[cl]/avg_source_nn_norm[cl][-1],0,0)\n",
    "y_sib = np.insert(avg_source_sib[cl]/avg_source_sib[cl][-1],0,0)\n",
    "N = len(avg_source_nn_norm[cl])\n",
    "x = np.arange(N+1)/N\n",
    "cl=0\n",
    "#plt.plot(x, y_nn, label=f\"nn -- auc: {auc(x, y_nn):.3f}\")\n",
    "#plt.plot(x, y_sib, label=f\"sib -- auc: {auc(x, y_sib):.3f}\")\n",
    "\n",
    "for nsim in nsims:\n",
    "    alphas = []\n",
    "    y = []\n",
    "    for alpha in range(len(avg_source_sm_norm[cl][nsim])):\n",
    "        y_sm = np.insert(avg_source_sm_norm[cl][nsim][alpha]/avg_source_sm_norm[cl][nsim][alpha][-1],0,0)\n",
    "        #print(alpha, avg_source_sm[cl][alpha])\n",
    "        #plt.plot(x, y_sm, label=f\"sm - {a_min+alpha*a_step:.2f} -- auc {auc(x, y_sm):.3f} -- sims:{nsim}\")\n",
    "        y.append(auc(x, y_sm))\n",
    "        alphas.append(args.a_min+alpha*args.a_step)\n",
    "    plt.plot(alphas, y, label=f\"nsim: {nsim:.0e}\")\n",
    "plt.legend()\n",
    "#plt.xlim(0,1)\n",
    "#plt.title(f\"work95 N:{Ns[0]}, days:{t_limit}, gamma:{gamma[0]}, mu:{mu} inst:{len(true_sources[0])}\")\n",
    "#plt.ylim(0,17)"
   ]
  },
  {
   "cell_type": "code",
   "execution_count": 52,
   "metadata": {},
   "outputs": [
    {
     "name": "stderr",
     "output_type": "stream",
     "text": [
      "usage: ipykernel_launcher.py [-h] [-l LIST]\n",
      "ipykernel_launcher.py: error: unrecognized arguments: -f /home/indaco/.local/share/jupyter/runtime/kernel-8a786f1f-db77-40dd-9ac0-1255050037a7.json\n"
     ]
    },
    {
     "ename": "SystemExit",
     "evalue": "2",
     "output_type": "error",
     "traceback": [
      "An exception has occurred, use %tb to see the full traceback.\n",
      "\u001b[0;31mSystemExit\u001b[0m\u001b[0;31m:\u001b[0m 2\n"
     ]
    }
   ],
   "source": [
    "import argparse\n",
    "parser = argparse.ArgumentParser()\n",
    "parser.add_argument('-l', '--list', help='delimited list input', type=str)\n",
    "args = parser.parse_args()\n",
    "my_list = [int(item) for item in args.list.split(',')]"
   ]
  },
  {
   "cell_type": "code",
   "execution_count": null,
   "metadata": {},
   "outputs": [],
   "source": []
  },
  {
   "cell_type": "code",
   "execution_count": null,
   "metadata": {},
   "outputs": [],
   "source": []
  },
  {
   "cell_type": "code",
   "execution_count": null,
   "metadata": {},
   "outputs": [],
   "source": []
  }
 ],
 "metadata": {
  "kernelspec": {
   "display_name": "Python 3",
   "language": "python",
   "name": "python3"
  },
  "language_info": {
   "codemirror_mode": {
    "name": "ipython",
    "version": 3
   },
   "file_extension": ".py",
   "mimetype": "text/x-python",
   "name": "python",
   "nbconvert_exporter": "python",
   "pygments_lexer": "ipython3",
   "version": "3.8.5"
  }
 },
 "nbformat": 4,
 "nbformat_minor": 4
}
