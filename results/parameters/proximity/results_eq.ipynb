{
 "cells": [
  {
   "cell_type": "code",
   "execution_count": 112,
   "metadata": {},
   "outputs": [],
   "source": [
    "import pandas as pd\n",
    "import numpy as np\n",
    "import torch\n",
    "import sys\n",
    "\n",
    "sys.path.insert(0, '../../../src/')\n",
    "from utils.script_utils import create_parser, create_data_\n",
    "sys.path.insert(0, '../../../scripts/')\n",
    "from softmargin_run_new import add_arg_parser"
   ]
  },
  {
   "cell_type": "code",
   "execution_count": 113,
   "metadata": {},
   "outputs": [],
   "source": [
    "seeds = np.arange(1,11).tolist()\n",
    "num_conf = 1\n",
    "\n",
    "parser = create_parser()\n",
    "add_arg_parser(parser)\n",
    "args = parser.parse_args(\"\")\n",
    "args.type_graph=\"proximity\"\n",
    "\n",
    "args.N = 100\n",
    "args.d=10\n",
    "args.h = 3\n",
    "args.t_limit = 15 # Numbers of epoch of our epidemics spreading [0,1,...,T_limit-1]\n",
    "args.lambda_ = 0.03 # probability of infection\n",
    "args.mu = 0.02 # probability of recovery\n",
    "args.p_edge = 1\n",
    "args.scale=2\n",
    "args.ninf_min=5\n",
    "path_dir = \"./data\"\n",
    "if path_dir == \"not_setted\":\n",
    "    path_dir = type_graph"
   ]
  },
  {
   "cell_type": "code",
   "execution_count": 114,
   "metadata": {},
   "outputs": [
    {
     "name": "stdout",
     "output_type": "stream",
     "text": [
      "\n",
      "SEED: 1\n",
      "nodes:100, edges:671\n",
      "number of contacts: 20130\n",
      "Lim infected: 5, Lim max infected: 101\n",
      "Num sources:  1\n",
      " # conf 1,mean infected: 84.0, mean recover: 9.0, max num infected: 84\n",
      "0 (0.00%) epidemies refused\n",
      "\n",
      "S:16, I:75, R:9\n",
      "proximity_n_100_d_10_tlim_15_lam_0.03_mu_0.02_s_1_pe_1\n",
      "\n",
      "SEED: 2\n",
      "nodes:100, edges:751\n",
      "number of contacts: 22530\n",
      "Lim infected: 5, Lim max infected: 101\n",
      "Num sources:  1\n",
      " # conf 1,mean infected: 69.0, mean recover: 3.0, max num infected: 69\n",
      "0 (0.00%) epidemies refused\n",
      "\n",
      "S:31, I:66, R:3\n",
      "proximity_n_100_d_10_tlim_15_lam_0.03_mu_0.02_s_2_pe_1\n",
      "\n",
      "SEED: 3\n"
     ]
    },
    {
     "name": "stderr",
     "output_type": "stream",
     "text": [
      "../../../src/utils/script_utils.py:145: UserWarning: SAVING FOLDER DOES NOT EXIST\n",
      "  warnings.warn(\"SAVING FOLDER DOES NOT EXIST\")\n"
     ]
    },
    {
     "name": "stdout",
     "output_type": "stream",
     "text": [
      "nodes:100, edges:718\n",
      "number of contacts: 21540\n",
      "Lim infected: 5, Lim max infected: 101\n",
      "Num sources:  1\n",
      "\n",
      "num_infected 5 < 5 (lim_infected)\n",
      "\n",
      "num_infected 1 < 5 (lim_infected)\n",
      " # conf 1,mean infected: 66.0, mean recover: 8.0, max num infected: 66\n",
      "2 (66.67%) epidemies refused\n",
      "\n",
      "S:34, I:58, R:8\n",
      "proximity_n_100_d_10_tlim_15_lam_0.03_mu_0.02_s_3_pe_1\n",
      "\n",
      "SEED: 4\n",
      "nodes:100, edges:710\n",
      "number of contacts: 21300\n",
      "Lim infected: 5, Lim max infected: 101\n",
      "Num sources:  1\n",
      " # conf 1,mean infected: 55.0, mean recover: 1.0, max num infected: 55\n",
      "0 (0.00%) epidemies refused\n",
      "\n",
      "S:45, I:54, R:1\n",
      "proximity_n_100_d_10_tlim_15_lam_0.03_mu_0.02_s_4_pe_1\n",
      "\n",
      "SEED: 5\n",
      "nodes:100, edges:655\n",
      "number of contacts: 19650\n",
      "Lim infected: 5, Lim max infected: 101\n",
      "Num sources:  1\n",
      " # conf 1,mean infected: 67.0, mean recover: 2.0, max num infected: 67\n",
      "0 (0.00%) epidemies refused\n",
      "\n",
      "S:33, I:65, R:2\n",
      "proximity_n_100_d_10_tlim_15_lam_0.03_mu_0.02_s_5_pe_1\n",
      "\n",
      "SEED: 6\n",
      "nodes:100, edges:674\n",
      "number of contacts: 20220\n",
      "Lim infected: 5, Lim max infected: 101\n",
      "Num sources:  1\n",
      " # conf 1,mean infected: 11.0, mean recover: 1.0, max num infected: 11\n",
      "0 (0.00%) epidemies refused\n",
      "\n",
      "S:89, I:10, R:1\n",
      "proximity_n_100_d_10_tlim_15_lam_0.03_mu_0.02_s_6_pe_1\n",
      "\n",
      "SEED: 7\n",
      "nodes:100, edges:756\n",
      "number of contacts: 22680\n",
      "Lim infected: 5, Lim max infected: 101\n",
      "Num sources:  1\n",
      " # conf 1,mean infected: 51.0, mean recover: 4.0, max num infected: 51\n",
      "0 (0.00%) epidemies refused\n",
      "\n",
      "S:49, I:47, R:4\n",
      "proximity_n_100_d_10_tlim_15_lam_0.03_mu_0.02_s_7_pe_1\n",
      "\n",
      "SEED: 8\n",
      "nodes:100, edges:717\n",
      "number of contacts: 21510\n",
      "Lim infected: 5, Lim max infected: 101\n",
      "Num sources:  1\n",
      " # conf 1,mean infected: 79.0, mean recover: 4.0, max num infected: 79\n",
      "0 (0.00%) epidemies refused\n",
      "\n",
      "S:21, I:75, R:4\n",
      "proximity_n_100_d_10_tlim_15_lam_0.03_mu_0.02_s_8_pe_1\n",
      "\n",
      "SEED: 9\n",
      "nodes:100, edges:717\n",
      "number of contacts: 21510\n",
      "Lim infected: 5, Lim max infected: 101\n",
      "Num sources:  1\n",
      " # conf 1,mean infected: 28.0, mean recover: 2.0, max num infected: 28\n",
      "0 (0.00%) epidemies refused\n",
      "\n",
      "S:72, I:26, R:2\n",
      "proximity_n_100_d_10_tlim_15_lam_0.03_mu_0.02_s_9_pe_1\n",
      "\n",
      "SEED: 10\n",
      "nodes:100, edges:772\n",
      "number of contacts: 23160\n",
      "Lim infected: 5, Lim max infected: 101\n",
      "Num sources:  1\n",
      " # conf 1,mean infected: 84.0, mean recover: 5.0, max num infected: 84\n",
      "0 (0.00%) epidemies refused\n",
      "\n",
      "S:16, I:79, R:5\n",
      "proximity_n_100_d_10_tlim_15_lam_0.03_mu_0.02_s_10_pe_1\n"
     ]
    },
    {
     "data": {
      "text/plain": [
       "dict_keys([1, 2, 3, 4, 5, 6, 7, 8, 9, 10])"
      ]
     },
     "execution_count": 114,
     "metadata": {},
     "output_type": "execute_result"
    }
   ],
   "source": [
    "from epigen import epidemy_gen_new\n",
    "\n",
    "list_contacts = {}\n",
    "data_={}\n",
    "INSTANCES = []\n",
    "for i_seed, seed in enumerate(seeds):\n",
    "    print(f\"\\nSEED: {seed}\")\n",
    "\n",
    "    args.seed=seed\n",
    "    args.num_conf=num_conf\n",
    "    #print(args)\n",
    "    temp, name_file, INSTANCE = create_data_(args, give_instance=True)\n",
    "    print(str(INSTANCE))\n",
    "    INSTANCES.append(INSTANCE)\n",
    "    #Ns[cl] = int(max(temp[\"contacts\"][:, 1]) + 1)\n",
    "    list_contacts[seed] = temp[\"contacts\"]\n",
    "    data_[seed] = temp\n",
    "\n",
    "data_.keys()"
   ]
  },
  {
   "cell_type": "markdown",
   "metadata": {},
   "source": [
    "# READ DATA\n",
    "\n",
    "create name_files"
   ]
  },
  {
   "cell_type": "code",
   "execution_count": 120,
   "metadata": {},
   "outputs": [],
   "source": [
    "name_files_nn = {}\n",
    "Ns = [args.N]\n",
    "for i_seed, seed in enumerate(seeds):\n",
    "    #print(f\"\\nSEED: {seed}\")\n",
    "    name_files_nn[seed] = {}\n",
    "    for cl in range(len(Ns)):\n",
    "        name_files_nn[seed][Ns[cl]] = {}\n",
    "        name_file_init = path_dir + \"/\"\n",
    "        #print(step, name_file_init)\n",
    "        name_file_temp = name_file_init + f\"eq_05proximity_n_{Ns[cl]}_d_{args.d}_tlim_{args.t_limit}_lam_{args.lambda_}_mu_{args.mu}_s_{seed}_pe_{args.p_edge}\"\n",
    "        #name_file_temp += f\"_{seed}\"\n",
    "        name_files_nn[seed][Ns[cl]] = name_file_temp\n",
    "\n",
    "name_files_sib = {}\n",
    "for i_seed, seed in enumerate(seeds):\n",
    "    #print(f\"\\nSEED: {seed}\")\n",
    "    name_files_sib[seed] = {}\n",
    "    for cl in range(len(Ns)):\n",
    "        name_files_sib[seed][Ns[cl]] = {}\n",
    "        name_file_init = path_dir + \"/\"\n",
    "        #print(step, name_file_init)\n",
    "        name_file_temp = name_file_init + f\"N_{Ns[cl]}_d_{args.d}_h_{args.h}_T_{args.t_limit}_lam_{args.lambda_}_mu_{args.mu}_p_edge_{args.p_edge}\"\n",
    "        name_file_temp += f\"_s_{seed}\"\n",
    "        name_files_sib[seed][Ns[cl]] = name_file_temp\n",
    "            #print(name_file_temp)"
   ]
  },
  {
   "cell_type": "code",
   "execution_count": 121,
   "metadata": {},
   "outputs": [
    {
     "data": {
      "text/plain": [
       "{1: {100: './data/eq_05proximity_n_100_d_10_tlim_15_lam_0.03_mu_0.02_s_1_pe_1'},\n",
       " 2: {100: './data/eq_05proximity_n_100_d_10_tlim_15_lam_0.03_mu_0.02_s_2_pe_1'},\n",
       " 3: {100: './data/eq_05proximity_n_100_d_10_tlim_15_lam_0.03_mu_0.02_s_3_pe_1'},\n",
       " 4: {100: './data/eq_05proximity_n_100_d_10_tlim_15_lam_0.03_mu_0.02_s_4_pe_1'},\n",
       " 5: {100: './data/eq_05proximity_n_100_d_10_tlim_15_lam_0.03_mu_0.02_s_5_pe_1'},\n",
       " 6: {100: './data/eq_05proximity_n_100_d_10_tlim_15_lam_0.03_mu_0.02_s_6_pe_1'},\n",
       " 7: {100: './data/eq_05proximity_n_100_d_10_tlim_15_lam_0.03_mu_0.02_s_7_pe_1'},\n",
       " 8: {100: './data/eq_05proximity_n_100_d_10_tlim_15_lam_0.03_mu_0.02_s_8_pe_1'},\n",
       " 9: {100: './data/eq_05proximity_n_100_d_10_tlim_15_lam_0.03_mu_0.02_s_9_pe_1'},\n",
       " 10: {100: './data/eq_05proximity_n_100_d_10_tlim_15_lam_0.03_mu_0.02_s_10_pe_1'}}"
      ]
     },
     "execution_count": 121,
     "metadata": {},
     "output_type": "execute_result"
    }
   ],
   "source": [
    "name_files_nn"
   ]
  },
  {
   "cell_type": "markdown",
   "metadata": {},
   "source": [
    "### READ FILES"
   ]
  },
  {
   "cell_type": "code",
   "execution_count": 122,
   "metadata": {},
   "outputs": [
    {
     "name": "stdout",
     "output_type": "stream",
     "text": [
      "SEED: 1\n",
      "SEED: 2\n",
      "SEED: 3\n",
      "SEED: 4\n",
      "SEED: 5\n",
      "SEED: 6\n",
      "SEED: 7\n",
      "SEED: 8\n",
      "SEED: 9\n",
      "SEED: 10\n"
     ]
    }
   ],
   "source": [
    "#create dictorary containing data\n",
    "ress = {}\n",
    "for i_seed, seed in enumerate(seeds):\n",
    "    print(f\"SEED: {seed}\")\n",
    "    ress[seed] = {}\n",
    "    for cl in range(len(Ns)):\n",
    "        N_cl = Ns[cl]\n",
    "        ress[seed][Ns[cl]] = []\n",
    "        for instance_num in range(num_conf):\n",
    "            #print(f\" N: {N_cl} instance {instance_num}\")\n",
    "            ress[seed][Ns[cl]].append({})\n"
   ]
  },
  {
   "cell_type": "code",
   "execution_count": 123,
   "metadata": {},
   "outputs": [
    {
     "name": "stdout",
     "output_type": "stream",
     "text": [
      "SEED: 1\n",
      "Read N: 100 instance 0 - ./data/eq_05proximity_n_100_d_10_tlim_15_lam_0.03_mu_0.02_s_1_pe_1_0\n",
      "SEED: 2\n",
      "Read N: 100 instance 0 - ./data/eq_05proximity_n_100_d_10_tlim_15_lam_0.03_mu_0.02_s_2_pe_1_0\n",
      "SEED: 3\n",
      "Read N: 100 instance 0 - ./data/eq_05proximity_n_100_d_10_tlim_15_lam_0.03_mu_0.02_s_3_pe_1_0\n",
      "SEED: 4\n",
      "Read N: 100 instance 0 - ./data/eq_05proximity_n_100_d_10_tlim_15_lam_0.03_mu_0.02_s_4_pe_1_0\n",
      "SEED: 5\n",
      "Read N: 100 instance 0 - ./data/eq_05proximity_n_100_d_10_tlim_15_lam_0.03_mu_0.02_s_5_pe_1_0\n",
      "SEED: 6\n",
      "Read N: 100 instance 0 - ./data/eq_05proximity_n_100_d_10_tlim_15_lam_0.03_mu_0.02_s_6_pe_1_0\n",
      "SEED: 7\n",
      "Read N: 100 instance 0 - ./data/eq_05proximity_n_100_d_10_tlim_15_lam_0.03_mu_0.02_s_7_pe_1_0\n",
      "SEED: 8\n",
      "Read N: 100 instance 0 - ./data/eq_05proximity_n_100_d_10_tlim_15_lam_0.03_mu_0.02_s_8_pe_1_0\n",
      "SEED: 9\n",
      "Read N: 100 instance 0 - ./data/eq_05proximity_n_100_d_10_tlim_15_lam_0.03_mu_0.02_s_9_pe_1_0\n",
      "SEED: 10\n",
      "Read N: 100 instance 0 - ./data/eq_05proximity_n_100_d_10_tlim_15_lam_0.03_mu_0.02_s_10_pe_1_0\n"
     ]
    }
   ],
   "source": [
    "for i_seed, seed in enumerate(seeds):\n",
    "    print(f\"SEED: {seed}\")\n",
    "    for cl in range(len(Ns)):\n",
    "        N_cl = Ns[cl]\n",
    "        for instance_num in range(num_conf):\n",
    "            ress[seed][N_cl][instance_num][\"regressive\"] = {}\n",
    "            name_temp = name_files_nn[seed][N_cl] +\"_\" + str(instance_num)\n",
    "            print(f\"Read N: {N_cl} instance {instance_num} - {name_temp}\")\n",
    "            try:\n",
    "                ress[seed][N_cl][instance_num][\"regressive\"] = {}\n",
    "                ress[seed][N_cl][instance_num][\"regressive\"][\"marginals\"] = np.load(name_temp + \"_margs.npz\",\n",
    "                                                                        \"r+\",\n",
    "                                                                       allow_pickle=True,\n",
    "                                                                       fix_imports=True)[\"marginals\"]\n",
    "            except:\n",
    "                print(f\"  instance_num: {instance_num} NOT FOUND\")\n",
    "            try:\n",
    "                ress[seed][N_cl][instance_num][\"regressive\"][\"run\"] = pd.read_csv(name_temp + \"_trace.gz\")\n",
    "                #print(f\"  instance_num: {instance_num}\")\n",
    "            except:\n",
    "                print(f\"gz no found {name_temp + '.gz'}\")\n",
    "                pass\n",
    "            try:\n",
    "                '''ress[seed][N_cl][instance_num][\"regressive\"][\"net\"] = torch.load(name_temp + \".pt\",\n",
    "                                                                      map_location=device)\n",
    "                #ress[N_cl][instance_num][\"regressive\"][\"net\"].to(device)\n",
    "                ress[seed][N_cl][instance_num][\"regressive\"][\"net\"].device = device\n",
    "                for ll in ress[seed][N_cl][instance_num][\"regressive\"][\"net\"].sublayers:\n",
    "                    for l in ll:\n",
    "                        l.device=device\n",
    "                print(f\"  NN net: {instance_num}\")'''\n",
    "                pass\n",
    "            except:\n",
    "                print(f\"  NN net: {instance_num} NON FOUND\")"
   ]
  },
  {
   "cell_type": "code",
   "execution_count": 124,
   "metadata": {},
   "outputs": [
    {
     "name": "stdout",
     "output_type": "stream",
     "text": [
      "SEED: 1\n",
      "Read N: 100 instance 0\n",
      "SEED: 2\n",
      "Read N: 100 instance 0\n",
      "SEED: 3\n",
      "Read N: 100 instance 0\n",
      "SEED: 4\n",
      "Read N: 100 instance 0\n",
      "SEED: 5\n",
      "Read N: 100 instance 0\n",
      "SEED: 6\n",
      "Read N: 100 instance 0\n",
      "SEED: 7\n",
      "Read N: 100 instance 0\n",
      "SEED: 8\n",
      "Read N: 100 instance 0\n",
      "SEED: 9\n",
      "Read N: 100 instance 0\n",
      "SEED: 10\n",
      "Read N: 100 instance 0\n"
     ]
    }
   ],
   "source": [
    "for i_seed, seed in enumerate(seeds):\n",
    "    print(f\"SEED: {seed}\")\n",
    "    for cl in range(len(Ns)):\n",
    "        N_cl = Ns[cl]\n",
    "        for instance_num in range(num_conf):\n",
    "            print(f\"Read N: {N_cl} instance {instance_num}\")\n",
    "            name_temp = name_files_sib[seed][N_cl] +\"_\" + str(instance_num)\n",
    "            #name_temp = name_temp.replace(\"mu_0\", \"mu_0.0\")\n",
    "            ress[seed][N_cl][instance_num][\"sib\"] = {}\n",
    "            try:\n",
    "                ress[seed][N_cl][instance_num][\"sib\"][\"marginals\"] = np.load(name_temp + \"_sib_margs.npz\",\n",
    "                                                                        \"r+\",\n",
    "                                                                       allow_pickle=True,\n",
    "                                                                       fix_imports=True)[\"marginals\"]\n",
    "                ress[seed][N_cl][instance_num][\"sib\"][\"params\"] = pd.read_csv(name_temp + \"_params.gz\")\n",
    "                #print(\"load SIB\")\n",
    "            except:\n",
    "                print(f\"SIB not found {name_temp}\")\n"
   ]
  },
  {
   "cell_type": "code",
   "execution_count": 125,
   "metadata": {},
   "outputs": [
    {
     "data": {
      "text/html": [
       "<div>\n",
       "<style scoped>\n",
       "    .dataframe tbody tr th:only-of-type {\n",
       "        vertical-align: middle;\n",
       "    }\n",
       "\n",
       "    .dataframe tbody tr th {\n",
       "        vertical-align: top;\n",
       "    }\n",
       "\n",
       "    .dataframe thead th {\n",
       "        text-align: right;\n",
       "    }\n",
       "</style>\n",
       "<table border=\"1\" class=\"dataframe\">\n",
       "  <thead>\n",
       "    <tr style=\"text-align: right;\">\n",
       "      <th></th>\n",
       "      <th>Unnamed: 0</th>\n",
       "      <th>step</th>\n",
       "      <th>beta</th>\n",
       "      <th>energy</th>\n",
       "      <th>std_energy</th>\n",
       "      <th>loss</th>\n",
       "      <th>loss_std</th>\n",
       "      <th>S</th>\n",
       "      <th>I</th>\n",
       "      <th>R</th>\n",
       "      <th>...</th>\n",
       "      <th>num_zero_pw</th>\n",
       "      <th>N</th>\n",
       "      <th>T</th>\n",
       "      <th>p_source</th>\n",
       "      <th>p_sus</th>\n",
       "      <th>p_obs</th>\n",
       "      <th>p_w</th>\n",
       "      <th>mu</th>\n",
       "      <th>lamb</th>\n",
       "      <th>max_Z</th>\n",
       "    </tr>\n",
       "  </thead>\n",
       "  <tbody>\n",
       "    <tr>\n",
       "      <th>0</th>\n",
       "      <td>0</td>\n",
       "      <td>0.0</td>\n",
       "      <td>0.0000</td>\n",
       "      <td>16363.318359</td>\n",
       "      <td>796.777649</td>\n",
       "      <td>16116.038086</td>\n",
       "      <td>796.678711</td>\n",
       "      <td>94.381592</td>\n",
       "      <td>5.057900</td>\n",
       "      <td>0.560500</td>\n",
       "      <td>...</td>\n",
       "      <td>130822.0</td>\n",
       "      <td>100.0</td>\n",
       "      <td>16.0</td>\n",
       "      <td>0.0001</td>\n",
       "      <td>-1.0</td>\n",
       "      <td>3.059023e-11</td>\n",
       "      <td>3.059023e-11</td>\n",
       "      <td>0.1000</td>\n",
       "      <td>0.100000</td>\n",
       "      <td>-100000000.0</td>\n",
       "    </tr>\n",
       "    <tr>\n",
       "      <th>1</th>\n",
       "      <td>1</td>\n",
       "      <td>1.0</td>\n",
       "      <td>0.0001</td>\n",
       "      <td>1440.387573</td>\n",
       "      <td>107.357986</td>\n",
       "      <td>1193.244141</td>\n",
       "      <td>107.423813</td>\n",
       "      <td>94.416397</td>\n",
       "      <td>5.026600</td>\n",
       "      <td>0.557000</td>\n",
       "      <td>...</td>\n",
       "      <td>131183.0</td>\n",
       "      <td>100.0</td>\n",
       "      <td>16.0</td>\n",
       "      <td>0.0001</td>\n",
       "      <td>-1.0</td>\n",
       "      <td>3.059023e-11</td>\n",
       "      <td>3.059023e-11</td>\n",
       "      <td>0.1000</td>\n",
       "      <td>0.100000</td>\n",
       "      <td>-100000000.0</td>\n",
       "    </tr>\n",
       "    <tr>\n",
       "      <th>2</th>\n",
       "      <td>2</td>\n",
       "      <td>2.0</td>\n",
       "      <td>0.0002</td>\n",
       "      <td>1443.793579</td>\n",
       "      <td>105.852676</td>\n",
       "      <td>1196.411011</td>\n",
       "      <td>105.958054</td>\n",
       "      <td>94.239395</td>\n",
       "      <td>5.118400</td>\n",
       "      <td>0.642200</td>\n",
       "      <td>...</td>\n",
       "      <td>130601.0</td>\n",
       "      <td>100.0</td>\n",
       "      <td>16.0</td>\n",
       "      <td>0.0001</td>\n",
       "      <td>-1.0</td>\n",
       "      <td>3.059023e-11</td>\n",
       "      <td>3.059023e-11</td>\n",
       "      <td>0.1000</td>\n",
       "      <td>0.100000</td>\n",
       "      <td>-100000000.0</td>\n",
       "    </tr>\n",
       "    <tr>\n",
       "      <th>3</th>\n",
       "      <td>3</td>\n",
       "      <td>3.0</td>\n",
       "      <td>0.0003</td>\n",
       "      <td>1443.814453</td>\n",
       "      <td>106.305901</td>\n",
       "      <td>1195.782715</td>\n",
       "      <td>106.353271</td>\n",
       "      <td>94.235794</td>\n",
       "      <td>5.205500</td>\n",
       "      <td>0.558700</td>\n",
       "      <td>...</td>\n",
       "      <td>130489.0</td>\n",
       "      <td>100.0</td>\n",
       "      <td>16.0</td>\n",
       "      <td>0.0001</td>\n",
       "      <td>-1.0</td>\n",
       "      <td>3.059023e-11</td>\n",
       "      <td>3.059023e-11</td>\n",
       "      <td>0.1000</td>\n",
       "      <td>0.100000</td>\n",
       "      <td>-100000000.0</td>\n",
       "    </tr>\n",
       "    <tr>\n",
       "      <th>4</th>\n",
       "      <td>4</td>\n",
       "      <td>4.0</td>\n",
       "      <td>0.0004</td>\n",
       "      <td>1440.808350</td>\n",
       "      <td>105.007805</td>\n",
       "      <td>1191.962158</td>\n",
       "      <td>105.075653</td>\n",
       "      <td>94.176498</td>\n",
       "      <td>5.292000</td>\n",
       "      <td>0.531500</td>\n",
       "      <td>...</td>\n",
       "      <td>129484.0</td>\n",
       "      <td>100.0</td>\n",
       "      <td>16.0</td>\n",
       "      <td>0.0001</td>\n",
       "      <td>-1.0</td>\n",
       "      <td>3.059023e-11</td>\n",
       "      <td>3.059023e-11</td>\n",
       "      <td>0.1000</td>\n",
       "      <td>0.100000</td>\n",
       "      <td>-100000000.0</td>\n",
       "    </tr>\n",
       "    <tr>\n",
       "      <th>...</th>\n",
       "      <td>...</td>\n",
       "      <td>...</td>\n",
       "      <td>...</td>\n",
       "      <td>...</td>\n",
       "      <td>...</td>\n",
       "      <td>...</td>\n",
       "      <td>...</td>\n",
       "      <td>...</td>\n",
       "      <td>...</td>\n",
       "      <td>...</td>\n",
       "      <td>...</td>\n",
       "      <td>...</td>\n",
       "      <td>...</td>\n",
       "      <td>...</td>\n",
       "      <td>...</td>\n",
       "      <td>...</td>\n",
       "      <td>...</td>\n",
       "      <td>...</td>\n",
       "      <td>...</td>\n",
       "      <td>...</td>\n",
       "      <td>...</td>\n",
       "    </tr>\n",
       "    <tr>\n",
       "      <th>10194</th>\n",
       "      <td>10194</td>\n",
       "      <td>10194.0</td>\n",
       "      <td>1.0000</td>\n",
       "      <td>777.025269</td>\n",
       "      <td>6.970754</td>\n",
       "      <td>572.838867</td>\n",
       "      <td>3.380612</td>\n",
       "      <td>98.983269</td>\n",
       "      <td>1.015260</td>\n",
       "      <td>0.001479</td>\n",
       "      <td>...</td>\n",
       "      <td>237.0</td>\n",
       "      <td>100.0</td>\n",
       "      <td>16.0</td>\n",
       "      <td>0.0001</td>\n",
       "      <td>-1.0</td>\n",
       "      <td>3.059023e-11</td>\n",
       "      <td>3.059023e-11</td>\n",
       "      <td>0.0234</td>\n",
       "      <td>0.039701</td>\n",
       "      <td>-100000000.0</td>\n",
       "    </tr>\n",
       "    <tr>\n",
       "      <th>10195</th>\n",
       "      <td>10195</td>\n",
       "      <td>10195.0</td>\n",
       "      <td>1.0000</td>\n",
       "      <td>776.961060</td>\n",
       "      <td>6.945807</td>\n",
       "      <td>572.812195</td>\n",
       "      <td>3.312173</td>\n",
       "      <td>98.983246</td>\n",
       "      <td>1.015279</td>\n",
       "      <td>0.001474</td>\n",
       "      <td>...</td>\n",
       "      <td>208.0</td>\n",
       "      <td>100.0</td>\n",
       "      <td>16.0</td>\n",
       "      <td>0.0001</td>\n",
       "      <td>-1.0</td>\n",
       "      <td>3.059023e-11</td>\n",
       "      <td>3.059023e-11</td>\n",
       "      <td>0.0234</td>\n",
       "      <td>0.039701</td>\n",
       "      <td>-100000000.0</td>\n",
       "    </tr>\n",
       "    <tr>\n",
       "      <th>10196</th>\n",
       "      <td>10196</td>\n",
       "      <td>10196.0</td>\n",
       "      <td>1.0000</td>\n",
       "      <td>777.088928</td>\n",
       "      <td>6.959306</td>\n",
       "      <td>572.830688</td>\n",
       "      <td>3.453137</td>\n",
       "      <td>98.983231</td>\n",
       "      <td>1.015297</td>\n",
       "      <td>0.001469</td>\n",
       "      <td>...</td>\n",
       "      <td>236.0</td>\n",
       "      <td>100.0</td>\n",
       "      <td>16.0</td>\n",
       "      <td>0.0001</td>\n",
       "      <td>-1.0</td>\n",
       "      <td>3.059023e-11</td>\n",
       "      <td>3.059023e-11</td>\n",
       "      <td>0.0234</td>\n",
       "      <td>0.039701</td>\n",
       "      <td>-100000000.0</td>\n",
       "    </tr>\n",
       "    <tr>\n",
       "      <th>10197</th>\n",
       "      <td>10197</td>\n",
       "      <td>10197.0</td>\n",
       "      <td>1.0000</td>\n",
       "      <td>776.950684</td>\n",
       "      <td>6.904545</td>\n",
       "      <td>572.786194</td>\n",
       "      <td>3.268274</td>\n",
       "      <td>98.983246</td>\n",
       "      <td>1.015284</td>\n",
       "      <td>0.001474</td>\n",
       "      <td>...</td>\n",
       "      <td>217.0</td>\n",
       "      <td>100.0</td>\n",
       "      <td>16.0</td>\n",
       "      <td>0.0001</td>\n",
       "      <td>-1.0</td>\n",
       "      <td>3.059023e-11</td>\n",
       "      <td>3.059023e-11</td>\n",
       "      <td>0.0234</td>\n",
       "      <td>0.039701</td>\n",
       "      <td>-100000000.0</td>\n",
       "    </tr>\n",
       "    <tr>\n",
       "      <th>10198</th>\n",
       "      <td>10198</td>\n",
       "      <td>10198.0</td>\n",
       "      <td>1.0000</td>\n",
       "      <td>777.087402</td>\n",
       "      <td>6.989915</td>\n",
       "      <td>572.863403</td>\n",
       "      <td>3.525206</td>\n",
       "      <td>98.983246</td>\n",
       "      <td>1.015281</td>\n",
       "      <td>0.001473</td>\n",
       "      <td>...</td>\n",
       "      <td>258.0</td>\n",
       "      <td>100.0</td>\n",
       "      <td>16.0</td>\n",
       "      <td>0.0001</td>\n",
       "      <td>-1.0</td>\n",
       "      <td>3.059023e-11</td>\n",
       "      <td>3.059023e-11</td>\n",
       "      <td>0.0234</td>\n",
       "      <td>0.039701</td>\n",
       "      <td>-100000000.0</td>\n",
       "    </tr>\n",
       "  </tbody>\n",
       "</table>\n",
       "<p>10199 rows × 23 columns</p>\n",
       "</div>"
      ],
      "text/plain": [
       "       Unnamed: 0     step    beta        energy  std_energy          loss  \\\n",
       "0               0      0.0  0.0000  16363.318359  796.777649  16116.038086   \n",
       "1               1      1.0  0.0001   1440.387573  107.357986   1193.244141   \n",
       "2               2      2.0  0.0002   1443.793579  105.852676   1196.411011   \n",
       "3               3      3.0  0.0003   1443.814453  106.305901   1195.782715   \n",
       "4               4      4.0  0.0004   1440.808350  105.007805   1191.962158   \n",
       "...           ...      ...     ...           ...         ...           ...   \n",
       "10194       10194  10194.0  1.0000    777.025269    6.970754    572.838867   \n",
       "10195       10195  10195.0  1.0000    776.961060    6.945807    572.812195   \n",
       "10196       10196  10196.0  1.0000    777.088928    6.959306    572.830688   \n",
       "10197       10197  10197.0  1.0000    776.950684    6.904545    572.786194   \n",
       "10198       10198  10198.0  1.0000    777.087402    6.989915    572.863403   \n",
       "\n",
       "         loss_std          S         I         R  ...  num_zero_pw      N  \\\n",
       "0      796.678711  94.381592  5.057900  0.560500  ...     130822.0  100.0   \n",
       "1      107.423813  94.416397  5.026600  0.557000  ...     131183.0  100.0   \n",
       "2      105.958054  94.239395  5.118400  0.642200  ...     130601.0  100.0   \n",
       "3      106.353271  94.235794  5.205500  0.558700  ...     130489.0  100.0   \n",
       "4      105.075653  94.176498  5.292000  0.531500  ...     129484.0  100.0   \n",
       "...           ...        ...       ...       ...  ...          ...    ...   \n",
       "10194    3.380612  98.983269  1.015260  0.001479  ...        237.0  100.0   \n",
       "10195    3.312173  98.983246  1.015279  0.001474  ...        208.0  100.0   \n",
       "10196    3.453137  98.983231  1.015297  0.001469  ...        236.0  100.0   \n",
       "10197    3.268274  98.983246  1.015284  0.001474  ...        217.0  100.0   \n",
       "10198    3.525206  98.983246  1.015281  0.001473  ...        258.0  100.0   \n",
       "\n",
       "          T  p_source  p_sus         p_obs           p_w      mu      lamb  \\\n",
       "0      16.0    0.0001   -1.0  3.059023e-11  3.059023e-11  0.1000  0.100000   \n",
       "1      16.0    0.0001   -1.0  3.059023e-11  3.059023e-11  0.1000  0.100000   \n",
       "2      16.0    0.0001   -1.0  3.059023e-11  3.059023e-11  0.1000  0.100000   \n",
       "3      16.0    0.0001   -1.0  3.059023e-11  3.059023e-11  0.1000  0.100000   \n",
       "4      16.0    0.0001   -1.0  3.059023e-11  3.059023e-11  0.1000  0.100000   \n",
       "...     ...       ...    ...           ...           ...     ...       ...   \n",
       "10194  16.0    0.0001   -1.0  3.059023e-11  3.059023e-11  0.0234  0.039701   \n",
       "10195  16.0    0.0001   -1.0  3.059023e-11  3.059023e-11  0.0234  0.039701   \n",
       "10196  16.0    0.0001   -1.0  3.059023e-11  3.059023e-11  0.0234  0.039701   \n",
       "10197  16.0    0.0001   -1.0  3.059023e-11  3.059023e-11  0.0234  0.039701   \n",
       "10198  16.0    0.0001   -1.0  3.059023e-11  3.059023e-11  0.0234  0.039701   \n",
       "\n",
       "             max_Z  \n",
       "0     -100000000.0  \n",
       "1     -100000000.0  \n",
       "2     -100000000.0  \n",
       "3     -100000000.0  \n",
       "4     -100000000.0  \n",
       "...            ...  \n",
       "10194 -100000000.0  \n",
       "10195 -100000000.0  \n",
       "10196 -100000000.0  \n",
       "10197 -100000000.0  \n",
       "10198 -100000000.0  \n",
       "\n",
       "[10199 rows x 23 columns]"
      ]
     },
     "execution_count": 125,
     "metadata": {},
     "output_type": "execute_result"
    }
   ],
   "source": [
    "ress[1][100][0][\"regressive\"][\"run\"]"
   ]
  },
  {
   "cell_type": "code",
   "execution_count": 126,
   "metadata": {},
   "outputs": [
    {
     "data": {
      "image/png": "[encoded data removed]",
      "text/plain": [
       "<Figure size 432x288 with 1 Axes>"
      ]
     },
     "metadata": {
      "needs_background": "light"
     },
     "output_type": "display_data"
    }
   ],
   "source": [
    "ax = ress[1][100][0][\"regressive\"][\"run\"][\"lamb\"].plot()\n",
    "#ax.set_ylim(0.35, 0.37)\n",
    "#ax.set_xlim(9300, 9400)"
   ]
  },
  {
   "cell_type": "markdown",
   "metadata": {},
   "source": [
    "# results"
   ]
  },
  {
   "cell_type": "code",
   "execution_count": 127,
   "metadata": {},
   "outputs": [
    {
     "ename": "ModuleNotFoundError",
     "evalue": "No module named 'utils.analysis'",
     "output_type": "error",
     "traceback": [
      "\u001b[0;31m---------------------------------------------------------------------------\u001b[0m",
      "\u001b[0;31mModuleNotFoundError\u001b[0m                       Traceback (most recent call last)",
      "\u001b[0;32m<ipython-input-127-fec5a409ea89>\u001b[0m in \u001b[0;36m<module>\u001b[0;34m\u001b[0m\n\u001b[0;32m----> 1\u001b[0;31m \u001b[0;32mimport\u001b[0m \u001b[0mutils\u001b[0m\u001b[0;34m.\u001b[0m\u001b[0manalysis\u001b[0m\u001b[0;34m\u001b[0m\u001b[0;34m\u001b[0m\u001b[0m\n\u001b[0m\u001b[1;32m      2\u001b[0m \u001b[0;32mfrom\u001b[0m \u001b[0mutils\u001b[0m\u001b[0;34m.\u001b[0m\u001b[0manalysis\u001b[0m \u001b[0;32mimport\u001b[0m \u001b[0msort_I\u001b[0m\u001b[0;34m\u001b[0m\u001b[0;34m\u001b[0m\u001b[0m\n\u001b[1;32m      3\u001b[0m \u001b[0;32mfrom\u001b[0m \u001b[0mimp\u001b[0m \u001b[0;32mimport\u001b[0m \u001b[0mreload\u001b[0m\u001b[0;34m\u001b[0m\u001b[0;34m\u001b[0m\u001b[0m\n\u001b[1;32m      4\u001b[0m \u001b[0mreload\u001b[0m\u001b[0;34m(\u001b[0m\u001b[0mutils\u001b[0m\u001b[0;34m.\u001b[0m\u001b[0manalysis\u001b[0m\u001b[0;34m)\u001b[0m\u001b[0;34m\u001b[0m\u001b[0;34m\u001b[0m\u001b[0m\n\u001b[1;32m      5\u001b[0m \u001b[0mdata_\u001b[0m\u001b[0;34m.\u001b[0m\u001b[0mkeys\u001b[0m\u001b[0;34m(\u001b[0m\u001b[0;34m)\u001b[0m\u001b[0;34m\u001b[0m\u001b[0;34m\u001b[0m\u001b[0m\n",
      "\u001b[0;31mModuleNotFoundError\u001b[0m: No module named 'utils.analysis'"
     ]
    }
   ],
   "source": [
    "import utils.analysis\n",
    "from utils.analysis import sort_I\n",
    "from imp import reload\n",
    "reload(utils.analysis)\n",
    "data_.keys()"
   ]
  },
  {
   "cell_type": "code",
   "execution_count": 128,
   "metadata": {},
   "outputs": [],
   "source": [
    "temp_params = {\"lambda_sib\":[], \"lambda_nn\":[], \"mu_sib\":[], \"mu_nn\":[]}\n",
    "mu=[]\n",
    "for cl in range(len(Ns)):\n",
    "    for i_seed, seed in enumerate(seeds):\n",
    "        for instance_num in range(num_conf):\n",
    "            temp_params[\"lambda_sib\"].append(ress[seed][Ns[cl]][instance_num][\"sib\"][\"params\"][\"lambda\"].iloc[-1])\n",
    "            temp_params[\"lambda_nn\"].append(ress[seed][N_cl][instance_num][\"regressive\"][\"run\"][\"lamb\"].iloc[-1])\n",
    "            mu_sib = 1. - np.exp(-np.array(ress[seed][Ns[cl]][instance_num][\"sib\"][\"params\"][\"mu\"].iloc[-1]))\n",
    "            temp_params[\"mu_sib\"].append(mu_sib)\n",
    "            temp_params[\"mu_nn\"].append(ress[seed][N_cl][instance_num][\"regressive\"][\"run\"][\"mu\"].iloc[-1])\n",
    "        #lambdas=pd.DataFrame(temp_params)"
   ]
  },
  {
   "cell_type": "code",
   "execution_count": 129,
   "metadata": {},
   "outputs": [
    {
     "data": {
      "text/plain": [
       "{'lambda_sib': [0.0894194090271351,\n",
       "  0.0500998650646999,\n",
       "  0.0677328543717979,\n",
       "  0.0540620126065738,\n",
       "  0.0765866296348652,\n",
       "  0.0618110927336709,\n",
       "  0.0368905997156981,\n",
       "  0.0647080889051869,\n",
       "  0.0190964973841897,\n",
       "  0.103116427748097],\n",
       " 'lambda_nn': [0.0397008992731571,\n",
       "  0.0246507693082094,\n",
       "  0.0276666451245546,\n",
       "  0.0241999793797731,\n",
       "  0.0322001837193965,\n",
       "  0.0123332953080534,\n",
       "  0.0263333115726709,\n",
       "  0.0316667929291725,\n",
       "  0.0238001924008131,\n",
       "  0.0318001471459865],\n",
       " 'mu_sib': [0.023717619108026833,\n",
       "  9.999994999843054e-07,\n",
       "  0.05927888599724773,\n",
       "  9.999994999843054e-07,\n",
       "  9.999994999843054e-07,\n",
       "  0.045837043324526316,\n",
       "  9.999994999843054e-07,\n",
       "  9.999994999843054e-07,\n",
       "  9.999994999843054e-07,\n",
       "  0.05593695885709882],\n",
       " 'mu_nn': [0.0233999844640493,\n",
       "  0.0096667995676398,\n",
       "  0.028199877589941,\n",
       "  0.0043279435485601,\n",
       "  0.007349144667387,\n",
       "  0.0167975556105375,\n",
       "  0.0196672473102808,\n",
       "  0.0098000327125191,\n",
       "  0.0196667425334453,\n",
       "  0.0121999671682715]}"
      ]
     },
     "execution_count": 129,
     "metadata": {},
     "output_type": "execute_result"
    }
   ],
   "source": [
    "temp_params"
   ]
  },
  {
   "cell_type": "code",
   "execution_count": 135,
   "metadata": {},
   "outputs": [
    {
     "data": {
      "text/plain": [
       "<ErrorbarContainer object of 3 artists>"
      ]
     },
     "execution_count": 135,
     "metadata": {},
     "output_type": "execute_result"
    },
    {
     "data": {
      "image/png": "[encoded data removed]",
      "text/plain": [
       "<Figure size 720x360 with 1 Axes>"
      ]
     },
     "metadata": {
      "needs_background": "light"
     },
     "output_type": "display_data"
    }
   ],
   "source": [
    "import matplotlib.pyplot as plt\n",
    "fig, ax = plt.subplots(1, figsize=(10,5))\n",
    "sib_m = np.array(temp_params[\"lambda_sib\"]).mean()\n",
    "nn_m = np.array(temp_params[\"lambda_nn\"]).mean()\n",
    "sib_std = np.array(temp_params[\"lambda_sib\"]).std()/np.sqrt(10)\n",
    "nn_std = np.array(temp_params[\"lambda_nn\"]).std()/np.sqrt(10)\n",
    "ax.errorbar([0,1], [sib_m, nn_m], [sib_std, nn_std])"
   ]
  },
  {
   "cell_type": "code",
   "execution_count": 136,
   "metadata": {},
   "outputs": [
    {
     "data": {
      "text/plain": [
       "<matplotlib.legend.Legend at 0x7f727e4c8a90>"
      ]
     },
     "execution_count": 136,
     "metadata": {},
     "output_type": "execute_result"
    },
    {
     "data": {
      "image/png": "[encoded data removed]",
      "text/plain": [
       "<Figure size 432x288 with 1 Axes>"
      ]
     },
     "metadata": {
      "needs_background": "light"
     },
     "output_type": "display_data"
    }
   ],
   "source": [
    "mean_sib = []\n",
    "mean_nn = []\n",
    "for i in range(1,len(temp_params[\"lambda_sib\"])):\n",
    "    mean_sib.append(np.array(temp_params[\"lambda_sib\"][0:i]).mean())\n",
    "    mean_nn.append(np.array(temp_params[\"lambda_nn\"][0:i]).mean())\n",
    "import matplotlib.pyplot as plt\n",
    "plt.plot(np.array(mean_sib), label=\"sib\")\n",
    "plt.plot(np.array(mean_nn), label=\"nn\")\n",
    "plt.plot(range(0,len(temp_params[\"lambda_sib\"])-1),[args.lambda_]*(len(temp_params[\"lambda_sib\"])-1))\n",
    "plt.legend()"
   ]
  },
  {
   "cell_type": "code",
   "execution_count": 137,
   "metadata": {},
   "outputs": [
    {
     "data": {
      "text/plain": [
       "<matplotlib.legend.Legend at 0x7f727d9b87c0>"
      ]
     },
     "execution_count": 137,
     "metadata": {},
     "output_type": "execute_result"
    },
    {
     "data": {
      "image/png": "[encoded data removed]",
      "text/plain": [
       "<Figure size 432x288 with 1 Axes>"
      ]
     },
     "metadata": {
      "needs_background": "light"
     },
     "output_type": "display_data"
    }
   ],
   "source": [
    "mean_sib = []\n",
    "mean_nn = []\n",
    "for i in range(1,11):\n",
    "    mean_sib.append(np.array(temp_params[\"lambda_sib\"][0:i]).mean())\n",
    "    mean_nn.append(np.array(temp_params[\"lambda_nn\"][0:i]).mean())\n",
    "import matplotlib.pyplot as plt\n",
    "plt.plot(100*abs(np.array(mean_sib)-args.lambda_)/args.lambda_, label=\"sib\")\n",
    "plt.plot(100*abs(np.array(mean_nn)-args.lambda_)/args.lambda_, label=\"nn\")\n",
    "plt.legend()"
   ]
  },
  {
   "cell_type": "code",
   "execution_count": 138,
   "metadata": {},
   "outputs": [
    {
     "data": {
      "text/plain": [
       "<matplotlib.legend.Legend at 0x7f727e5e1eb0>"
      ]
     },
     "execution_count": 138,
     "metadata": {},
     "output_type": "execute_result"
    },
    {
     "data": {
      "image/png": "[encoded data removed]",
      "text/plain": [
       "<Figure size 432x288 with 1 Axes>"
      ]
     },
     "metadata": {
      "needs_background": "light"
     },
     "output_type": "display_data"
    }
   ],
   "source": [
    "mean_sib = []\n",
    "mean_nn = []\n",
    "for i in range(1,21):\n",
    "    mean_sib.append(np.array(temp_params[\"lambda_sib\"][0:i]).std()/np.sqrt(i))\n",
    "    mean_nn.append(np.array(temp_params[\"lambda_nn\"][0:i]).std()/np.sqrt(i))\n",
    "import matplotlib.pyplot as plt\n",
    "plt.plot(abs(np.array(mean_sib)), label=\"sib\")\n",
    "plt.plot(abs(np.array(mean_nn)), label=\"nn\")\n",
    "plt.legend()"
   ]
  },
  {
   "cell_type": "code",
   "execution_count": 139,
   "metadata": {},
   "outputs": [
    {
     "data": {
      "text/plain": [
       "0.02743522161617871"
      ]
     },
     "execution_count": 139,
     "metadata": {},
     "output_type": "execute_result"
    }
   ],
   "source": [
    "np.array(temp_params[\"lambda_nn\"][0:21]).mean()"
   ]
  },
  {
   "cell_type": "code",
   "execution_count": 140,
   "metadata": {},
   "outputs": [
    {
     "data": {
      "text/plain": [
       "<BarContainer object of 2 artists>"
      ]
     },
     "execution_count": 140,
     "metadata": {},
     "output_type": "execute_result"
    },
    {
     "data": {
      "image/png": "[encoded data removed]",
      "text/plain": [
       "<Figure size 720x360 with 4 Axes>"
      ]
     },
     "metadata": {
      "needs_background": "light"
     },
     "output_type": "display_data"
    }
   ],
   "source": [
    "def err_param_rel(temp_params, key='lambda_sib', val_=args.lambda_):\n",
    "    a = (100.*(np.abs(np.array(temp_params[key]) - val_))/args.lambda_).mean()\n",
    "    return a\n",
    "def err_param(temp_params, key='lambda_sib', val_=args.lambda_):\n",
    "    a = (np.abs(np.array(temp_params[key]) - val_)).mean()\n",
    "    return a\n",
    "\n",
    "import matplotlib.pyplot as plt\n",
    "fig, axs = plt.subplots(2,2, figsize=(10,5))\n",
    "x=np.arange(len(temp_params['lambda_sib']))\n",
    "axs[0][0].bar(x, np.array(temp_params['lambda_sib']) - args.lambda_, width=0.4)\n",
    "axs[0][0].bar(x+0.5, np.array(temp_params['lambda_nn']) - args.lambda_, width=0.4)\n",
    "axs[1][0].bar(x, np.array(temp_params['mu_sib']) - args.mu, width=0.4)\n",
    "axs[1][0].bar(x+0.5, np.array(temp_params['mu_nn']) - args.mu, width=0.4)\n",
    "err_sib_lam = err_param(temp_params, key='lambda_sib')\n",
    "err_nn_lam = err_param(temp_params, key='lambda_nn')\n",
    "err_sib_mu = err_param(temp_params, key='mu_sib', val_=args.mu)\n",
    "err_nn_mu = err_param(temp_params, key='mu_nn', val_=args.mu)\n",
    "\n",
    "axs[0][1].bar([0,1], [err_sib_lam, err_nn_lam], width=0.8)\n",
    "axs[1][1].bar([0,1], [err_sib_mu, err_nn_mu], width=0.8)"
   ]
  },
  {
   "cell_type": "code",
   "execution_count": 141,
   "metadata": {},
   "outputs": [
    {
     "name": "stderr",
     "output_type": "stream",
     "text": [
      "No handles with labels found to put in legend.\n"
     ]
    },
    {
     "name": "stdout",
     "output_type": "stream",
     "text": [
      "[243.72142583]\n",
      "[58.88901564]\n",
      "[130.92961999]\n",
      "[52.24018817]\n"
     ]
    },
    {
     "data": {
      "text/plain": [
       "<BarContainer object of 2 artists>"
      ]
     },
     "execution_count": 141,
     "metadata": {},
     "output_type": "execute_result"
    },
    {
     "data": {
      "image/png": "[encoded data removed]",
      "text/plain": [
       "<Figure size 720x360 with 4 Axes>"
      ]
     },
     "metadata": {
      "needs_background": "light"
     },
     "output_type": "display_data"
    }
   ],
   "source": [
    "def err_param_rel(temp_params, key='lambda_sib', val_=args.lambda_, outliers=0.1):\n",
    "    err = 100.*(np.abs(np.array(temp_params[key]) - val_))/args.lambda_\n",
    "    num_outliers=int(len(err)*outliers)\n",
    "    err[::-1].sort()\n",
    "    a = err[num_outliers:].mean()\n",
    "    a_err = err[num_outliers:].std()\n",
    "    print(err[:num_outliers])\n",
    "    return a, a_err\n",
    "def err_param(temp_params, key='lambda_sib', val_=args.lambda_, outliers=0.1):\n",
    "    err = np.abs(np.array(temp_params[key]) - val_)\n",
    "    num_outliers=int(len(err)*outliers)\n",
    "    err[::-1].sort()\n",
    "    a = err[num_outliers:].mean()\n",
    "    a_err = err[num_outliers:].std()\n",
    "    print(err[:num_outliers])\n",
    "    return a, a_err\n",
    "N=args.N\n",
    "import matplotlib.pyplot as plt\n",
    "fig, axs = plt.subplots(2,2, figsize=(10,5))\n",
    "x=np.arange(len(temp_params['lambda_sib']))\n",
    "axs[0][0].bar(x, np.array(temp_params['lambda_sib']) - args.lambda_, width=0.4)\n",
    "axs[0][0].bar(x+0.5, np.array(temp_params['lambda_nn']) - args.lambda_, width=0.4)\n",
    "axs[1][0].bar(x, np.array(temp_params['mu_sib']) - args.mu, width=0.4)\n",
    "axs[1][0].bar(x+0.5, np.array(temp_params['mu_nn']) - args.mu, width=0.4)\n",
    "err_sib_lam, std_sib_lam = err_param_rel(temp_params, key='lambda_sib')\n",
    "err_nn_lam, std_nn_lam = err_param_rel(temp_params, key='lambda_nn')\n",
    "err_sib_mu, std_sib_mu = err_param_rel(temp_params, key='mu_sib', val_=args.mu)\n",
    "err_nn_mu, std_nn_mu = err_param_rel(temp_params, key='mu_nn', val_=args.mu)\n",
    "axs[0][0].set_ylim(-0.05,0.1)\n",
    "plt.legend()\n",
    "axs[0][1].bar([0,1], [err_sib_lam, err_nn_lam], width=0.8, yerr=[std_sib_lam/np.sqrt(N), std_nn_lam/np.sqrt(N)])\n",
    "axs[1][1].bar([0,1], [err_sib_mu, err_nn_mu],yerr=[std_sib_mu/np.sqrt(N), std_nn_mu/np.sqrt(N)], width=0.8)"
   ]
  },
  {
   "cell_type": "code",
   "execution_count": 142,
   "metadata": {},
   "outputs": [
    {
     "data": {
      "text/plain": [
       "0.02743522161617871"
      ]
     },
     "execution_count": 142,
     "metadata": {},
     "output_type": "execute_result"
    }
   ],
   "source": [
    "np.array(temp_params[\"lambda_nn\"]).mean()"
   ]
  },
  {
   "cell_type": "code",
   "execution_count": 143,
   "metadata": {},
   "outputs": [
    {
     "data": {
      "text/html": [
       "<div>\n",
       "<style scoped>\n",
       "    .dataframe tbody tr th:only-of-type {\n",
       "        vertical-align: middle;\n",
       "    }\n",
       "\n",
       "    .dataframe tbody tr th {\n",
       "        vertical-align: top;\n",
       "    }\n",
       "\n",
       "    .dataframe thead th {\n",
       "        text-align: right;\n",
       "    }\n",
       "</style>\n",
       "<table border=\"1\" class=\"dataframe\">\n",
       "  <thead>\n",
       "    <tr style=\"text-align: right;\">\n",
       "      <th></th>\n",
       "      <th>lambda_sib</th>\n",
       "      <th>lambda_nn</th>\n",
       "      <th>mu_sib</th>\n",
       "      <th>mu_nn</th>\n",
       "      <th>mu</th>\n",
       "      <th>lambda</th>\n",
       "    </tr>\n",
       "  </thead>\n",
       "  <tbody>\n",
       "    <tr>\n",
       "      <th>0</th>\n",
       "      <td>0.089419</td>\n",
       "      <td>0.039701</td>\n",
       "      <td>2.371762e-02</td>\n",
       "      <td>0.023400</td>\n",
       "      <td>0.02</td>\n",
       "      <td>0.03</td>\n",
       "    </tr>\n",
       "    <tr>\n",
       "      <th>1</th>\n",
       "      <td>0.050100</td>\n",
       "      <td>0.024651</td>\n",
       "      <td>9.999995e-07</td>\n",
       "      <td>0.009667</td>\n",
       "      <td>0.02</td>\n",
       "      <td>0.03</td>\n",
       "    </tr>\n",
       "    <tr>\n",
       "      <th>2</th>\n",
       "      <td>0.067733</td>\n",
       "      <td>0.027667</td>\n",
       "      <td>5.927889e-02</td>\n",
       "      <td>0.028200</td>\n",
       "      <td>0.02</td>\n",
       "      <td>0.03</td>\n",
       "    </tr>\n",
       "    <tr>\n",
       "      <th>3</th>\n",
       "      <td>0.054062</td>\n",
       "      <td>0.024200</td>\n",
       "      <td>9.999995e-07</td>\n",
       "      <td>0.004328</td>\n",
       "      <td>0.02</td>\n",
       "      <td>0.03</td>\n",
       "    </tr>\n",
       "    <tr>\n",
       "      <th>4</th>\n",
       "      <td>0.076587</td>\n",
       "      <td>0.032200</td>\n",
       "      <td>9.999995e-07</td>\n",
       "      <td>0.007349</td>\n",
       "      <td>0.02</td>\n",
       "      <td>0.03</td>\n",
       "    </tr>\n",
       "    <tr>\n",
       "      <th>5</th>\n",
       "      <td>0.061811</td>\n",
       "      <td>0.012333</td>\n",
       "      <td>4.583704e-02</td>\n",
       "      <td>0.016798</td>\n",
       "      <td>0.02</td>\n",
       "      <td>0.03</td>\n",
       "    </tr>\n",
       "    <tr>\n",
       "      <th>6</th>\n",
       "      <td>0.036891</td>\n",
       "      <td>0.026333</td>\n",
       "      <td>9.999995e-07</td>\n",
       "      <td>0.019667</td>\n",
       "      <td>0.02</td>\n",
       "      <td>0.03</td>\n",
       "    </tr>\n",
       "    <tr>\n",
       "      <th>7</th>\n",
       "      <td>0.064708</td>\n",
       "      <td>0.031667</td>\n",
       "      <td>9.999995e-07</td>\n",
       "      <td>0.009800</td>\n",
       "      <td>0.02</td>\n",
       "      <td>0.03</td>\n",
       "    </tr>\n",
       "    <tr>\n",
       "      <th>8</th>\n",
       "      <td>0.019096</td>\n",
       "      <td>0.023800</td>\n",
       "      <td>9.999995e-07</td>\n",
       "      <td>0.019667</td>\n",
       "      <td>0.02</td>\n",
       "      <td>0.03</td>\n",
       "    </tr>\n",
       "    <tr>\n",
       "      <th>9</th>\n",
       "      <td>0.103116</td>\n",
       "      <td>0.031800</td>\n",
       "      <td>5.593696e-02</td>\n",
       "      <td>0.012200</td>\n",
       "      <td>0.02</td>\n",
       "      <td>0.03</td>\n",
       "    </tr>\n",
       "  </tbody>\n",
       "</table>\n",
       "</div>"
      ],
      "text/plain": [
       "   lambda_sib  lambda_nn        mu_sib     mu_nn    mu  lambda\n",
       "0    0.089419   0.039701  2.371762e-02  0.023400  0.02    0.03\n",
       "1    0.050100   0.024651  9.999995e-07  0.009667  0.02    0.03\n",
       "2    0.067733   0.027667  5.927889e-02  0.028200  0.02    0.03\n",
       "3    0.054062   0.024200  9.999995e-07  0.004328  0.02    0.03\n",
       "4    0.076587   0.032200  9.999995e-07  0.007349  0.02    0.03\n",
       "5    0.061811   0.012333  4.583704e-02  0.016798  0.02    0.03\n",
       "6    0.036891   0.026333  9.999995e-07  0.019667  0.02    0.03\n",
       "7    0.064708   0.031667  9.999995e-07  0.009800  0.02    0.03\n",
       "8    0.019096   0.023800  9.999995e-07  0.019667  0.02    0.03\n",
       "9    0.103116   0.031800  5.593696e-02  0.012200  0.02    0.03"
      ]
     },
     "execution_count": 143,
     "metadata": {},
     "output_type": "execute_result"
    }
   ],
   "source": [
    "import pandas as pd\n",
    "params_df = pd.DataFrame(temp_params)\n",
    "params_df[\"mu\"] = [args.mu]*len(params_df)\n",
    "params_df[\"lambda\"] = [args.lambda_]*len(params_df)\n",
    "params_df.to_csv(\"res_params.gz\")\n",
    "params_df"
   ]
  },
  {
   "cell_type": "code",
   "execution_count": 52,
   "metadata": {},
   "outputs": [
    {
     "data": {
      "text/plain": [
       "<BarContainer object of 2 artists>"
      ]
     },
     "execution_count": 52,
     "metadata": {},
     "output_type": "execute_result"
    },
    {
     "data": {
      "image/png": "[encoded data removed]",
      "text/plain": [
       "<Figure size 720x360 with 4 Axes>"
      ]
     },
     "metadata": {
      "needs_background": "light"
     },
     "output_type": "display_data"
    }
   ],
   "source": [
    "def err_param_rel(temp_params, key='lambda_sib', val_=args.lambda_):\n",
    "    a = (100.*(np.abs(np.array(temp_params[key]) - val_))/args.lambda_).mean()\n",
    "    return a\n",
    "def err_param(temp_params, key='lambda_sib', val_=args.lambda_):\n",
    "    a = (np.abs(np.array(temp_params[key]) - val_)).mean()\n",
    "    return a\n",
    "\n",
    "import matplotlib.pyplot as plt\n",
    "fig, axs = plt.subplots(2,2, figsize=(10,5))\n",
    "x=np.arange(len(temp_params['lambda_sib']))\n",
    "axs[0][0].bar(x, np.array(temp_params['lambda_sib']) - args.lambda_, width=0.4)\n",
    "axs[0][0].bar(x+0.5, np.array(temp_params['lambda_nn']) - args.lambda_, width=0.4)\n",
    "axs[1][0].bar(x, np.array(temp_params['mu_sib']) - args.mu, width=0.4)\n",
    "axs[1][0].bar(x+0.5, np.array(temp_params['mu_nn']) - args.mu, width=0.4)\n",
    "err_sib_lam = err_param(temp_params, key='lambda_sib')\n",
    "err_nn_lam = err_param(temp_params, key='lambda_nn')\n",
    "err_sib_mu = err_param(temp_params, key='mu_sib', val_=args.mu)\n",
    "err_nn_mu = err_param(temp_params, key='mu_nn', val_=args.mu)\n",
    "\n",
    "axs[0][1].bar([0,1], [err_sib_lam, err_nn_lam], width=0.8)\n",
    "axs[1][1].bar([0,1], [err_sib_mu, err_nn_mu], width=0.8)"
   ]
  },
  {
   "cell_type": "code",
   "execution_count": 53,
   "metadata": {},
   "outputs": [
    {
     "name": "stdout",
     "output_type": "stream",
     "text": [
      "\n",
      "SEED: 0\n",
      "\n",
      "SEED: 1\n",
      "\n",
      "SEED: 2\n",
      "\n",
      "SEED: 3\n",
      "\n",
      "SEED: 4\n",
      "\n",
      "SEED: 5\n",
      "\n",
      "SEED: 6\n",
      "\n",
      "SEED: 7\n",
      "\n",
      "SEED: 8\n",
      "\n",
      "SEED: 9\n",
      "\n",
      "SEED: 10\n",
      "\n",
      "SEED: 11\n",
      "\n",
      "SEED: 12\n",
      "\n",
      "SEED: 13\n",
      "\n",
      "SEED: 14\n",
      "\n",
      "SEED: 15\n",
      "\n",
      "SEED: 16\n",
      "\n",
      "SEED: 17\n",
      "\n",
      "SEED: 18\n",
      "\n",
      "SEED: 19\n",
      "\n",
      "SEED: 20\n",
      "\n",
      "SEED: 21\n",
      "\n",
      "SEED: 22\n",
      "\n",
      "SEED: 23\n",
      "\n",
      "SEED: 24\n",
      "\n",
      "SEED: 25\n",
      "\n",
      "SEED: 26\n",
      "\n",
      "SEED: 27\n",
      "\n",
      "SEED: 28\n",
      "\n",
      "SEED: 29\n"
     ]
    }
   ],
   "source": [
    "from utils.analysis import sort_I \n",
    "\n",
    "true_sources = {}\n",
    "nn_sources = {}\n",
    "sib_sources = {}\n",
    "sm_sources = {}\n",
    "rnd_sources_I = {}\n",
    "rnd_sources = {}\n",
    "Is={}\n",
    "for cl in range(len(Ns)):\n",
    "    true_sources[cl] = []\n",
    "    nn_sources[cl] = []\n",
    "    sib_sources[cl] = []\n",
    "    rnd_sources[cl] = []\n",
    "    rnd_sources_I[cl] = []\n",
    "    sm_sources[cl] = []\n",
    "    Is[cl] = []\n",
    "    for i_seed, seed in enumerate(seeds):\n",
    "        print(f\"\\nSEED: {seed}\")\n",
    "\n",
    "        for i in range(num_conf):\n",
    "            true_sources[cl].append(np.argmin(data_[seed][\"epidemy\"][i][0][0]))\n",
    "            nn_sources[cl].append(sort_I(ress[seed][Ns[cl]][i][\"regressive\"][\"marginals\"], 0))\n",
    "            sib_sources[cl].append(sort_I(ress[seed][Ns[cl]][i][\"sib\"][\"marginals\"], 0))\n",
    "            Is[cl].append((data_[seed][\"epidemy\"][i][0][0] != np.inf).sum())\n",
    "            rnd_sources[cl].append(np.random.randint(0,Ns[cl]))\n",
    "            rnd_sources_I[cl].append(np.random.randint(0,Is[cl][-1]))\n",
    "            sm_sources[cl].append({})"
   ]
  },
  {
   "cell_type": "code",
   "execution_count": 54,
   "metadata": {},
   "outputs": [],
   "source": [
    "avg_source_nn = {}\n",
    "avg_source_sib = {}\n",
    "avg_source_sm = {}\n",
    "avg_source_rnd = {}\n",
    "avg_source_rnd_I = {}\n",
    "avg_source_nn_norm = {}\n",
    "avg_source_sib_norm = {}\n",
    "avg_source_sm_norm = {}\n",
    "avg_source_rnd_norm = {}\n",
    "enum=0\n",
    "bins=20\n",
    "\n",
    "for cl in range(len(Ns)):\n",
    "    avg_source_nn[cl] = np.zeros(Ns[cl], dtype=float)\n",
    "    avg_source_sib[cl] = np.zeros(Ns[cl], dtype=float)\n",
    "    avg_source_rnd[cl] = np.zeros(Ns[cl], dtype=float)\n",
    "    avg_source_rnd_I[cl] = np.zeros(Ns[cl], dtype=float)\n",
    "\n",
    "    #print(nalpha)\n",
    "    avg_source_sm[cl] = {}\n",
    "    for n in range(Ns[cl]):\n",
    "        for i in range(len(true_sources[cl])):\n",
    "            avg_source_nn[cl][n] += true_sources[cl][i] in nn_sources[cl][i][:n+1,1]\n",
    "            avg_source_sib[cl][n] += true_sources[cl][i] in sib_sources[cl][i][:n+1,1]\n",
    "            avg_source_rnd[cl][n] += n+1 > rnd_sources[cl][i]\n",
    "            avg_source_rnd_I[cl][n] += n+1 > rnd_sources_I[cl][i]\n",
    "for cl in range(len(Ns)):\n",
    "    avg_source_nn_norm[cl] = np.zeros(bins, dtype=float)\n",
    "    avg_source_sib_norm[cl] = np.zeros(bins, dtype=float)\n",
    "    avg_source_rnd_norm[cl] = np.zeros(bins, dtype=float)\n",
    "\n",
    "    #print(nalpha)\n",
    "    avg_source_sm_norm[cl] = {}\n",
    "    for n in range(0, bins):\n",
    "        for i in range(len(true_sources[cl])):\n",
    "            I = Is[cl][i]\n",
    "            step_I = I / bins\n",
    "            pos_bins = int(step_I * n)\n",
    "            pos_bins_1 = int(step_I * (n+1))\n",
    "            if n == bins-1:\n",
    "                pos_bins_1 = I\n",
    "\n",
    "            avg_source_nn_norm[cl][n] += true_sources[cl][i] in nn_sources[cl][i][:pos_bins_1,1]\n",
    "            avg_source_sib_norm[cl][n] += true_sources[cl][i] in sib_sources[cl][i][:pos_bins_1,1]\n",
    "            avg_source_rnd_norm[cl][n] += pos_bins_1 > rnd_sources_I[cl][i]\n"
   ]
  },
  {
   "cell_type": "code",
   "execution_count": 55,
   "metadata": {},
   "outputs": [
    {
     "ename": "NameError",
     "evalue": "name 'nsims' is not defined",
     "output_type": "error",
     "traceback": [
      "\u001b[0;31m---------------------------------------------------------------------------\u001b[0m",
      "\u001b[0;31mNameError\u001b[0m                                 Traceback (most recent call last)",
      "\u001b[0;32m<ipython-input-55-878e6daf593c>\u001b[0m in \u001b[0;36m<module>\u001b[0;34m\u001b[0m\n\u001b[1;32m      2\u001b[0m avg_source_pd = pd.DataFrame(data={\"nn\":avg_source_nn[cl], \"sib\":avg_source_sib[cl], \n\u001b[1;32m      3\u001b[0m                                    \"rnd\":avg_source_rnd[cl], \"rnd_I\":avg_source_rnd_I[cl]})\n\u001b[0;32m----> 4\u001b[0;31m \u001b[0;32mfor\u001b[0m \u001b[0mnsim\u001b[0m \u001b[0;32min\u001b[0m \u001b[0mnsims\u001b[0m\u001b[0;34m:\u001b[0m\u001b[0;34m\u001b[0m\u001b[0;34m\u001b[0m\u001b[0m\n\u001b[0m\u001b[1;32m      5\u001b[0m     \u001b[0;32mfor\u001b[0m \u001b[0malpha\u001b[0m \u001b[0;32min\u001b[0m \u001b[0mrange\u001b[0m\u001b[0;34m(\u001b[0m\u001b[0mnalpha\u001b[0m\u001b[0;34m)\u001b[0m\u001b[0;34m:\u001b[0m\u001b[0;34m\u001b[0m\u001b[0;34m\u001b[0m\u001b[0m\n\u001b[1;32m      6\u001b[0m         \u001b[0mavg_source_pd\u001b[0m\u001b[0;34m[\u001b[0m\u001b[0;34mf\"sm_{nsim}_{args.a_min+alpha*args.a_step:.2f}\"\u001b[0m\u001b[0;34m]\u001b[0m \u001b[0;34m=\u001b[0m \u001b[0mavg_source_sm\u001b[0m\u001b[0;34m[\u001b[0m\u001b[0mcl\u001b[0m\u001b[0;34m]\u001b[0m\u001b[0;34m[\u001b[0m\u001b[0mnsim\u001b[0m\u001b[0;34m]\u001b[0m\u001b[0;34m[\u001b[0m\u001b[0malpha\u001b[0m\u001b[0;34m]\u001b[0m\u001b[0;34m\u001b[0m\u001b[0;34m\u001b[0m\u001b[0m\n",
      "\u001b[0;31mNameError\u001b[0m: name 'nsims' is not defined"
     ]
    }
   ],
   "source": [
    "cl = 0\n",
    "avg_source_pd = pd.DataFrame(data={\"nn\":avg_source_nn[cl], \"sib\":avg_source_sib[cl], \n",
    "                                   \"rnd\":avg_source_rnd[cl], \"rnd_I\":avg_source_rnd_I[cl]})\n",
    "for nsim in nsims:\n",
    "    for alpha in range(nalpha): \n",
    "        avg_source_pd[f\"sm_{nsim}_{args.a_min+alpha*args.a_step:.2f}\"] = avg_source_sm[cl][nsim][alpha]\n",
    "\n",
    "avg_source_pd_norm = pd.DataFrame(data={\"nn\":avg_source_nn_norm[cl], \n",
    "                                        \"sib\":avg_source_sib_norm[cl],\n",
    "                                       \"rnd\":avg_source_rnd_norm[cl]})\n",
    "for nsim in nsims:\n",
    "    for alpha in range(nalpha): \n",
    "        avg_source_pd_norm[f\"sm_{nsim}_{args.a_min+alpha*args.a_step:.2f}\"] = avg_source_sm_norm[cl][nsim][alpha]\n",
    "\n",
    "avg_source_pd"
   ]
  },
  {
   "cell_type": "code",
   "execution_count": null,
   "metadata": {},
   "outputs": [],
   "source": [
    "avg_source_pd.to_csv(\"results.gz\")\n",
    "avg_source_pd_norm.to_csv(\"results_norm.gz\")"
   ]
  },
  {
   "cell_type": "code",
   "execution_count": null,
   "metadata": {},
   "outputs": [],
   "source": [
    "import matplotlib.pyplot as plt\n",
    "import numpy as np\n",
    "from sklearn.metrics import auc\n",
    "plt.figure(figsize=(10,5))\n",
    "name=\"Greens\"\n",
    "colors = plt.get_cmap(name)\n",
    "\n",
    "y_nn = np.insert(avg_source_nn[cl]/avg_source_nn[cl][-1],0,0)\n",
    "y_sib = np.insert(avg_source_sib[cl]/avg_source_sib[cl][-1],0,0)\n",
    "y_rnd = np.insert(avg_source_rnd[cl]/avg_source_rnd[cl][-1],0,0)\n",
    "y_rnd_I = np.insert(avg_source_rnd_I[cl]/avg_source_rnd_I[cl][-1],0,0)\n",
    "N = len(avg_source_nn[cl])\n",
    "x = np.arange(N+1)/N\n",
    "cl=0\n",
    "plt.plot(x, y_rnd, \"--\", label=f\"random -- auc: {auc(x, y_rnd):.3f}\", color=\"black\")\n",
    "plt.plot(x, y_rnd_I, \"--\", label=f\"random (only I) -- auc: {auc(x, y_rnd_I):.3f}\", color=\"black\")\n",
    "\n",
    "for i, nsim in enumerate(nsims[1:]):\n",
    "    alpha=21\n",
    "    #for alpha in range(len(avg_source_sm[cl][nsim])):\n",
    "    y_sm = np.insert(avg_source_sm[cl][nsim][alpha]/avg_source_sm[cl][nsim][alpha][-1],0,0)\n",
    "    #print(alpha, avg_source_sm[cl][alpha])\n",
    "    plt.plot(x, y_sm, \":\",\n",
    "             label=f\"sm - {args.a_min+alpha*args.a_step:.2f} -- auc {auc(x, y_sm):.3f} -- sims:{nsim:.0e}\", \n",
    "             color=colors(np.clip(i/len(nsims[1:]), 0.3, 0.9)), lw=2)\n",
    "plt.plot(x, y_sib, \"-.\", label=f\"sib -- auc: {auc(x, y_sib):.3f}\", linewidth=\"2\")\n",
    "plt.plot(x, y_nn, label=f\"nn -- auc: {auc(x, y_nn):.3f}\", linewidth=\"2\")\n",
    "\n",
    "plt.legend()\n",
    "plt.xlim(0,1)\n",
    "plt.ylim(0,1.01)\n",
    "plt.title(f\"{args.type_graph} N:{Ns[0]}, days:{args.t_limit}, lambda_:{args.lambda_}, mu:{args.mu} inst:{len(true_sources[0])}\")\n",
    "plt.xlabel(\"fraction of infected or recovery nodes\")\n",
    "plt.ylabel(\"fraction of true sources found\")\n",
    "#plt.ylim(0,17)"
   ]
  },
  {
   "cell_type": "code",
   "execution_count": null,
   "metadata": {},
   "outputs": [],
   "source": [
    "import matplotlib.pyplot as plt\n",
    "import numpy as np\n",
    "from sklearn.metrics import auc\n",
    "plt.figure(figsize=(10,5))\n",
    "y_nn = np.insert(avg_source_nn[cl]/avg_source_nn[cl][-1],0,0)\n",
    "y_sib = np.insert(avg_source_sib[cl]/avg_source_sib[cl][-1],0,0)\n",
    "N = len(avg_source_nn[cl])\n",
    "x = np.insert(np.arange(N)/N,0,0)\n",
    "cl=0\n",
    "#plt.plot(x, y_nn, label=f\"nn -- auc: {auc(x, y_nn):.3f}\")\n",
    "#plt.plot(x, y_sib, label=f\"sib -- auc: {auc(x, y_sib):.3f}\")\n",
    "\n",
    "for nsim in nsims:\n",
    "    alphas = []\n",
    "    y = []\n",
    "    for alpha in range(len(avg_source_sm[cl][nsim])):\n",
    "        y_sm = np.insert(avg_source_sm[cl][nsim][alpha]/avg_source_sm[cl][nsim][alpha][-1],0,0)\n",
    "        #print(alpha, avg_source_sm[cl][alpha])\n",
    "        #plt.plot(x, y_sm, label=f\"sm - {a_min+alpha*a_step:.2f} -- auc {auc(x, y_sm):.3f} -- sims:{nsim}\")\n",
    "        y.append(auc(x, y_sm))\n",
    "        alphas.append(args.a_min+alpha*args.a_step)\n",
    "    plt.plot(alphas, y, label=f\"nsim: {nsim:.0e}\")\n",
    "plt.legend()\n",
    "#plt.xlim(0,1)\n",
    "#plt.title(f\"work95 N:{Ns[0]}, days:{t_limit}, gamma:{gamma[0]}, mu:{mu} inst:{len(true_sources[0])}\")\n",
    "#plt.ylim(0,17)"
   ]
  },
  {
   "cell_type": "code",
   "execution_count": null,
   "metadata": {},
   "outputs": [],
   "source": [
    "import matplotlib.pyplot as plt\n",
    "import numpy as np\n",
    "from sklearn.metrics import auc\n",
    "plt.figure(figsize=(10,5))\n",
    "name=\"Greens\"\n",
    "colors = plt.get_cmap(name)\n",
    "\n",
    "y_nn = np.insert(avg_source_nn_norm[cl]/avg_source_nn_norm[cl][-1],0,0)\n",
    "y_sib = np.insert(avg_source_sib_norm[cl]/avg_source_sib_norm[cl][-1],0,0)\n",
    "y_rnd = np.insert(avg_source_rnd_norm[cl]/avg_source_rnd_norm[cl][-1],0,0)\n",
    "N = len(avg_source_nn_norm[cl])\n",
    "x = np.arange(N+1)/N\n",
    "cl=0\n",
    "plt.plot(x, y_rnd, \"--\", label=f\"random -- auc: {auc(x, y_rnd):.3f}\", color=\"black\")\n",
    "\n",
    "for i, nsim in enumerate(nsims[1:]):\n",
    "    alpha=21\n",
    "    #for alpha in range(len(avg_source_sm[cl][nsim])):\n",
    "    y_sm = np.insert(avg_source_sm_norm[cl][nsim][alpha]/avg_source_sm_norm[cl][nsim][alpha][-1],0,0)\n",
    "    #print(alpha, avg_source_sm[cl][alpha])\n",
    "    plt.plot(x, y_sm, \":\",\n",
    "             label=f\"sm - {args.a_min+alpha*args.a_step:.2f} -- auc {auc(x, y_sm):.3f} -- sims:{nsim:.0e}\", \n",
    "             color=colors(np.clip(i/len(nsims[1:]), 0.3, 0.9)), lw=2)\n",
    "plt.plot(x, y_sib, \"-.\", label=f\"sib -- auc: {auc(x, y_sib):.3f}\", linewidth=\"2\")\n",
    "plt.plot(x, y_nn, label=f\"nn -- auc: {auc(x, y_nn):.3f}\", linewidth=\"2\")\n",
    "\n",
    "plt.legend()\n",
    "plt.xlim(0,1)\n",
    "plt.ylim(0,1)\n",
    "plt.title(f\"{args.type_graph} N:{Ns[0]}, days:{args.t_limit}, lambda_:{args.lambda_}, mu:{args.mu} inst:{len(true_sources[0])}\")\n",
    "plt.xlabel(\"fraction of infected or recovery nodes\")\n",
    "plt.ylabel(\"fraction of true sources found\")\n",
    "#plt.ylim(0,17)"
   ]
  },
  {
   "cell_type": "code",
   "execution_count": null,
   "metadata": {},
   "outputs": [],
   "source": [
    "import matplotlib.pyplot as plt\n",
    "import numpy as np\n",
    "from sklearn.metrics import auc\n",
    "plt.figure(figsize=(10,5))\n",
    "y_nn = np.insert(avg_source_nn_norm[cl]/avg_source_nn_norm[cl][-1],0,0)\n",
    "y_sib = np.insert(avg_source_sib[cl]/avg_source_sib[cl][-1],0,0)\n",
    "N = len(avg_source_nn_norm[cl])\n",
    "x = np.arange(N+1)/N\n",
    "cl=0\n",
    "#plt.plot(x, y_nn, label=f\"nn -- auc: {auc(x, y_nn):.3f}\")\n",
    "#plt.plot(x, y_sib, label=f\"sib -- auc: {auc(x, y_sib):.3f}\")\n",
    "\n",
    "for nsim in nsims:\n",
    "    alphas = []\n",
    "    y = []\n",
    "    for alpha in range(len(avg_source_sm_norm[cl][nsim])):\n",
    "        y_sm = np.insert(avg_source_sm_norm[cl][nsim][alpha]/avg_source_sm_norm[cl][nsim][alpha][-1],0,0)\n",
    "        #print(alpha, avg_source_sm[cl][alpha])\n",
    "        #plt.plot(x, y_sm, label=f\"sm - {a_min+alpha*a_step:.2f} -- auc {auc(x, y_sm):.3f} -- sims:{nsim}\")\n",
    "        y.append(auc(x, y_sm))\n",
    "        alphas.append(args.a_min+alpha*args.a_step)\n",
    "    plt.plot(alphas, y, label=f\"nsim: {nsim:.0e}\")\n",
    "plt.legend()\n",
    "#plt.xlim(0,1)\n",
    "#plt.title(f\"work95 N:{Ns[0]}, days:{t_limit}, gamma:{gamma[0]}, mu:{mu} inst:{len(true_sources[0])}\")\n",
    "#plt.ylim(0,17)"
   ]
  },
  {
   "cell_type": "code",
   "execution_count": null,
   "metadata": {},
   "outputs": [],
   "source": []
  },
  {
   "cell_type": "code",
   "execution_count": null,
   "metadata": {},
   "outputs": [],
   "source": []
  },
  {
   "cell_type": "code",
   "execution_count": null,
   "metadata": {},
   "outputs": [],
   "source": []
  },
  {
   "cell_type": "code",
   "execution_count": null,
   "metadata": {},
   "outputs": [],
   "source": []
  }
 ],
 "metadata": {
  "kernelspec": {
   "display_name": "Python 3",
   "language": "python",
   "name": "python3"
  },
  "language_info": {
   "codemirror_mode": {
    "name": "ipython",
    "version": 3
   },
   "file_extension": ".py",
   "mimetype": "text/x-python",
   "name": "python",
   "nbconvert_exporter": "python",
   "pygments_lexer": "ipython3",
   "version": "3.8.5"
  }
 },
 "nbformat": 4,
 "nbformat_minor": 4
}
