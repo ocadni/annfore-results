{
 "cells": [
  {
   "cell_type": "code",
   "execution_count": 9,
   "metadata": {},
   "outputs": [],
   "source": [
    "import pandas as pd\n",
    "import numpy as np\n",
    "import torch\n",
    "import sys\n",
    "\n",
    "sys.path.insert(0, '../../')\n",
    "sys.path.insert(0, '../../src/')\n",
    "\n",
    "from src.utils.script_utils import create_parser, create_data_\n",
    "from scripts.softmargin_run_multi import add_arg_parser"
   ]
  },
  {
   "cell_type": "code",
   "execution_count": 10,
   "metadata": {},
   "outputs": [],
   "source": [
    "seeds = [0, 1, 2]\n",
    "type_graph = \"TREE\"\n",
    "\n",
    "Ns = [0]*6\n",
    "d = [4]*6#, 4, 4, 4, 4]\n",
    "h = [6]*6#, 6, 6, 6, 6]\n",
    "t_limit = 15 # Numbers of epoch of our epidemics spreading [0,1,...,T_limit-1]\n",
    "lambda_ = [0.1, 0.2, 0.3, 0.4, 0.5, 0.6] # probability of infection\n",
    "mu = 1e-10 # probability of recovery\n",
    "p_edge = 1\n",
    "num_conf = [1]*3\n",
    "steps = np.power(2.,-np.arange(5,19)) #steps of nn\n",
    "steps = [f\"{x:.8e}\" for x in steps]\n",
    "#nsims = [2000, 4000, 8000, 16000, 32000, 64000, 128000, 256000, 512000] #niter of soft_margin\n",
    "device = \"cpu\"\n",
    "dtype = \"float\"\n",
    "\n",
    "p_source = -1\n",
    "p_mc = -1\n",
    "p_obs = -1\n",
    "\n",
    "path_dir = \"./data\"\n",
    "if path_dir == \"not_setted\":\n",
    "    path_dir = type_graph"
   ]
  },
  {
   "cell_type": "code",
   "execution_count": 14,
   "metadata": {},
   "outputs": [
    {
     "name": "stdout",
     "output_type": "stream",
     "text": [
      "\n",
      "SEED: 0\n",
      "nodes:1093, edges:1092\n",
      "number of contacs: 32760\n",
      "Num sources:  1\n",
      " # conf 1,mean infected: 2.0, mean recover: 0.0, max num infected: 2\n",
      "0 (0.00%) epidemies refused\n",
      "\n",
      "S:1091, I:2, R:0\n",
      "nodes:1093, edges:1092\n",
      "number of contacs: 32760\n",
      "Num sources:  1\n",
      " # conf 1,mean infected: 2.0, mean recover: 0.0, max num infected: 2\n",
      "0 (0.00%) epidemies refused\n",
      "\n",
      "S:1091, I:2, R:0\n",
      "nodes:1093, edges:1092\n",
      "number of contacs: 32760\n",
      "Num sources:  1\n",
      " # conf 1,mean infected: 2.0, mean recover: 0.0, max num infected: 2\n",
      "0 (0.00%) epidemies refused\n",
      "\n",
      "S:1091, I:2, R:0\n",
      "nodes:1093, edges:1092\n",
      "number of contacs: 32760\n",
      "Num sources:  1\n",
      " # conf 1,mean infected: 5.0, mean recover: 0.0, max num infected: 5\n",
      "0 (0.00%) epidemies refused\n",
      "\n",
      "S:1088, I:5, R:0\n",
      "nodes:1093, edges:1092\n",
      "number of contacs: 32760\n",
      "Num sources:  1\n",
      " # conf 1,mean infected: 11.0, mean recover: 0.0, max num infected: 11\n",
      "0 (0.00%) epidemies refused\n",
      "\n",
      "S:1082, I:11, R:0\n",
      "nodes:1093, edges:1092\n",
      "number of contacs: 32760\n",
      "Num sources:  1\n",
      " # conf 1,mean infected: 376.0, mean recover: 0.0, max num infected: 376\n",
      "0 (0.00%) epidemies refused\n",
      "\n",
      "S:717, I:376, R:0\n",
      "\n",
      "SEED: 1\n",
      "nodes:1093, edges:1092\n",
      "number of contacs: 32760\n",
      "Num sources:  1\n",
      " # conf 1,mean infected: 4.0, mean recover: 0.0, max num infected: 4\n",
      "0 (0.00%) epidemies refused\n",
      "\n",
      "S:1089, I:4, R:0\n",
      "nodes:1093, edges:1092\n",
      "number of contacs: 32760\n",
      "Num sources:  1\n",
      " # conf 1,mean infected: 23.0, mean recover: 0.0, max num infected: 23\n",
      "0 (0.00%) epidemies refused\n",
      "\n",
      "S:1070, I:23, R:0\n",
      "nodes:1093, edges:1092\n",
      "number of contacs: 32760\n",
      "Num sources:  1\n",
      " # conf 1,mean infected: 34.0, mean recover: 0.0, max num infected: 34\n",
      "0 (0.00%) epidemies refused\n",
      "\n",
      "S:1059, I:34, R:0\n",
      "nodes:1093, edges:1092\n",
      "number of contacs: 32760\n",
      "Num sources:  1\n",
      " # conf 1,mean infected: 263.0, mean recover: 0.0, max num infected: 263\n",
      "0 (0.00%) epidemies refused\n",
      "\n",
      "S:830, I:263, R:0\n",
      "nodes:1093, edges:1092\n",
      "number of contacs: 32760\n",
      "Num sources:  1\n",
      " # conf 1,mean infected: 384.0, mean recover: 0.0, max num infected: 384\n",
      "0 (0.00%) epidemies refused\n",
      "\n",
      "S:709, I:384, R:0\n",
      "nodes:1093, edges:1092\n",
      "number of contacs: 32760\n",
      "Num sources:  1\n",
      " # conf 1,mean infected: 671.0, mean recover: 0.0, max num infected: 671\n",
      "0 (0.00%) epidemies refused\n",
      "\n",
      "S:422, I:671, R:0\n",
      "\n",
      "SEED: 2\n",
      "nodes:1093, edges:1092\n",
      "number of contacs: 32760\n",
      "Num sources:  1\n",
      " # conf 1,mean infected: 11.0, mean recover: 0.0, max num infected: 11\n",
      "0 (0.00%) epidemies refused\n",
      "\n",
      "S:1082, I:11, R:0\n",
      "nodes:1093, edges:1092\n",
      "number of contacs: 32760\n",
      "Num sources:  1\n",
      " # conf 1,mean infected: 36.0, mean recover: 0.0, max num infected: 36\n",
      "0 (0.00%) epidemies refused\n",
      "\n",
      "S:1057, I:36, R:0\n",
      "nodes:1093, edges:1092\n",
      "number of contacs: 32760\n",
      "Num sources:  1\n",
      " # conf 1,mean infected: 48.0, mean recover: 0.0, max num infected: 48\n",
      "0 (0.00%) epidemies refused\n",
      "\n",
      "S:1045, I:48, R:0\n",
      "nodes:1093, edges:1092\n",
      "number of contacs: 32760\n",
      "Num sources:  1\n",
      " # conf 1,mean infected: 196.0, mean recover: 0.0, max num infected: 196\n",
      "0 (0.00%) epidemies refused\n",
      "\n",
      "S:897, I:196, R:0\n",
      "nodes:1093, edges:1092\n",
      "number of contacs: 32760\n",
      "Num sources:  1\n",
      " # conf 1,mean infected: 855.0, mean recover: 0.0, max num infected: 855\n",
      "0 (0.00%) epidemies refused\n",
      "\n",
      "S:238, I:855, R:0\n",
      "nodes:1093, edges:1092\n",
      "number of contacs: 32760\n",
      "Num sources:  1\n",
      " # conf 1,mean infected: 879.0, mean recover: 0.0, max num infected: 879\n",
      "0 (0.00%) epidemies refused\n",
      "\n",
      "S:214, I:879, R:0\n"
     ]
    },
    {
     "data": {
      "text/plain": [
       "dict_keys([0, 1, 2])"
      ]
     },
     "execution_count": 14,
     "metadata": {},
     "output_type": "execute_result"
    }
   ],
   "source": [
    "from epigen.epidemy_gen import epidemy_gen\n",
    "\n",
    "list_contacts = {}\n",
    "data_={}\n",
    "for i_seed, seed in enumerate(seeds):\n",
    "    print(f\"\\nSEED: {seed}\")\n",
    "    list_contacts[seed] = {}\n",
    "    data_[seed] = {}\n",
    "    for cl in range(len(lambda_)):\n",
    "        temp = epidemy_gen(Ns[cl], d[cl], h[cl], t_limit,\n",
    "                           type_graph = type_graph,\n",
    "                           lambda_ = lambda_[cl],\n",
    "                            mu = mu,\n",
    "                            p_edge = p_edge,\n",
    "                            seed=seed,\n",
    "                            num_conf = num_conf[i_seed],\n",
    "                                   lim_infected=1,\n",
    "                           )\n",
    "        Ns[cl] = int(max(temp[\"contacts\"][:, 1]) + 1)\n",
    "        list_contacts[seed][Ns[cl]] = temp[\"contacts\"]\n",
    "        data_[seed][Ns[cl]] = temp\n",
    "\n",
    "data_.keys()"
   ]
  },
  {
   "cell_type": "markdown",
   "metadata": {},
   "source": [
    "# READ DATA\n",
    "\n",
    "create name_files"
   ]
  },
  {
   "cell_type": "code",
   "execution_count": 15,
   "metadata": {},
   "outputs": [],
   "source": [
    "name_files_nn = {}\n",
    "#name_files_nn_s = {}\n",
    "\n",
    "for i_seed, seed in enumerate(seeds):\n",
    "    #print(f\"\\nSEED: {seed}\")\n",
    "    name_files_nn[seed] = {}\n",
    "    for cl in range(len(Ns)):\n",
    "        name_files_nn[seed][lambda_[cl]] = {}\n",
    "        for step in steps:\n",
    "            #str__ = \"{0:0.1e}\".format(step)\n",
    "            #str__ = str__.replace(\".0\", \"\")\n",
    "            #str__ = str__.replace(\"0\", \"\")\n",
    "            name_file_init = path_dir + \"/\" + step\n",
    "            #print(step, name_file_init)\n",
    "            name_file_temp = name_file_init + f\"N_{Ns[cl]}_d_{d[cl]}_h_{h[cl]}_T_{t_limit}_lam_{lambda_[cl]}_mu_{mu}_p_edge_{p_edge}\"\n",
    "            name_file_temp += f\"_s_{seed}\"\n",
    "            name_files_nn[seed][lambda_[cl]][step] = name_file_temp\n",
    "\n",
    "'''for i_seed, seed in enumerate(seeds):\n",
    "    #print(f\"\\nSEED: {seed}\")\n",
    "    name_files_nn_s[seed] = {}\n",
    "    for cl in range(len(Ns)):\n",
    "        name_files_nn_s[seed][Ns[cl]] = {}\n",
    "        for step in steps:\n",
    "            #str__ = \"{0:0.1e}\".format(step)\n",
    "            #str__ = str__.replace(\".0\", \"\")\n",
    "            #str__ = str__.replace(\"0\", \"\")\n",
    "            name_file_init = path_dir + \"/\" + str__.replace(\".0\", \"\")\n",
    "            #print(step, name_file_init)\n",
    "            name_file_temp = name_file_init + f\"N_{Ns[cl]}_d_{d[cl]}_h_{h[cl]}_T_{t_limit}_lam_{lambda_[cl]}_mu_{mu}_p_edge_{p_edge}\"\n",
    "            name_file_temp += f\"_s_{seed}\"\n",
    "            name_files_nn_s[seed][Ns[cl]][step] = name_file_temp\n",
    "'''\n",
    "name_files_sib = {}\n",
    "for i_seed, seed in enumerate(seeds):\n",
    "    #print(f\"\\nSEED: {seed}\")\n",
    "    name_files_sib[seed] = {}\n",
    "    for cl in range(len(Ns)):\n",
    "        name_files_sib[seed][lambda_[cl]] = {}\n",
    "        name_file_init = path_dir + \"/\"\n",
    "        #print(step, name_file_init)\n",
    "        name_file_temp = name_file_init + f\"N_{Ns[cl]}_d_{d[cl]}_h_{h[cl]}_T_{t_limit}_lam_{lambda_[cl]}_mu_{mu}_p_edge_{p_edge}\"\n",
    "        name_file_temp += f\"_s_{seed}\"\n",
    "        name_files_sib[seed][lambda_[cl]] = name_file_temp\n",
    "            #print(name_file_temp)\n",
    "        "
   ]
  },
  {
   "cell_type": "code",
   "execution_count": 16,
   "metadata": {},
   "outputs": [
    {
     "data": {
      "text/plain": [
       "{0: {0.1: './data/N_1093_d_4_h_6_T_15_lam_0.1_mu_1e-10_p_edge_1_s_0',\n",
       "  0.2: './data/N_1093_d_4_h_6_T_15_lam_0.2_mu_1e-10_p_edge_1_s_0',\n",
       "  0.3: './data/N_1093_d_4_h_6_T_15_lam_0.3_mu_1e-10_p_edge_1_s_0',\n",
       "  0.4: './data/N_1093_d_4_h_6_T_15_lam_0.4_mu_1e-10_p_edge_1_s_0',\n",
       "  0.5: './data/N_1093_d_4_h_6_T_15_lam_0.5_mu_1e-10_p_edge_1_s_0',\n",
       "  0.6: './data/N_1093_d_4_h_6_T_15_lam_0.6_mu_1e-10_p_edge_1_s_0'},\n",
       " 1: {0.1: './data/N_1093_d_4_h_6_T_15_lam_0.1_mu_1e-10_p_edge_1_s_1',\n",
       "  0.2: './data/N_1093_d_4_h_6_T_15_lam_0.2_mu_1e-10_p_edge_1_s_1',\n",
       "  0.3: './data/N_1093_d_4_h_6_T_15_lam_0.3_mu_1e-10_p_edge_1_s_1',\n",
       "  0.4: './data/N_1093_d_4_h_6_T_15_lam_0.4_mu_1e-10_p_edge_1_s_1',\n",
       "  0.5: './data/N_1093_d_4_h_6_T_15_lam_0.5_mu_1e-10_p_edge_1_s_1',\n",
       "  0.6: './data/N_1093_d_4_h_6_T_15_lam_0.6_mu_1e-10_p_edge_1_s_1'},\n",
       " 2: {0.1: './data/N_1093_d_4_h_6_T_15_lam_0.1_mu_1e-10_p_edge_1_s_2',\n",
       "  0.2: './data/N_1093_d_4_h_6_T_15_lam_0.2_mu_1e-10_p_edge_1_s_2',\n",
       "  0.3: './data/N_1093_d_4_h_6_T_15_lam_0.3_mu_1e-10_p_edge_1_s_2',\n",
       "  0.4: './data/N_1093_d_4_h_6_T_15_lam_0.4_mu_1e-10_p_edge_1_s_2',\n",
       "  0.5: './data/N_1093_d_4_h_6_T_15_lam_0.5_mu_1e-10_p_edge_1_s_2',\n",
       "  0.6: './data/N_1093_d_4_h_6_T_15_lam_0.6_mu_1e-10_p_edge_1_s_2'}}"
      ]
     },
     "execution_count": 16,
     "metadata": {},
     "output_type": "execute_result"
    }
   ],
   "source": [
    "name_files_sib"
   ]
  },
  {
   "cell_type": "markdown",
   "metadata": {},
   "source": [
    "### READ FILES"
   ]
  },
  {
   "cell_type": "code",
   "execution_count": 17,
   "metadata": {},
   "outputs": [
    {
     "name": "stdout",
     "output_type": "stream",
     "text": [
      "\n",
      "SEED: 0\n",
      " N: 1093 instance 0\n",
      " N: 1093 instance 0\n",
      " N: 1093 instance 0\n",
      " N: 1093 instance 0\n",
      " N: 1093 instance 0\n",
      " N: 1093 instance 0\n",
      "\n",
      "SEED: 1\n",
      " N: 1093 instance 0\n",
      " N: 1093 instance 0\n",
      " N: 1093 instance 0\n",
      " N: 1093 instance 0\n",
      " N: 1093 instance 0\n",
      " N: 1093 instance 0\n",
      "\n",
      "SEED: 2\n",
      " N: 1093 instance 0\n",
      " N: 1093 instance 0\n",
      " N: 1093 instance 0\n",
      " N: 1093 instance 0\n",
      " N: 1093 instance 0\n",
      " N: 1093 instance 0\n"
     ]
    }
   ],
   "source": [
    "#create dictorary containing data\n",
    "ress = {}\n",
    "for i_seed, seed in enumerate(seeds):\n",
    "    print(f\"\\nSEED: {seed}\")\n",
    "    ress[seed] = {}\n",
    "    for cl in range(len(Ns)):\n",
    "        N_cl = Ns[cl]\n",
    "        ress[seed][lambda_[cl]] = []\n",
    "        for instance_num in range(num_conf[i_seed]):\n",
    "            print(f\" N: {N_cl} instance {instance_num}\")\n",
    "            ress[seed][lambda_[cl]].append({})\n"
   ]
  },
  {
   "cell_type": "code",
   "execution_count": 18,
   "metadata": {},
   "outputs": [
    {
     "name": "stdout",
     "output_type": "stream",
     "text": [
      "\n",
      "SEED: 0\n",
      "\n",
      "Read lambda: 0.1 instance 0\n",
      "  step: 3.12500000e-02 NOT FOUND ./data/3.12500000e-02N_1093_d_4_h_6_T_15_lam_0.1_mu_1e-10_p_edge_1_s_0_0\n",
      "  step: 1.56250000e-02, beta: 1.0 \n",
      "  step: 7.81250000e-03, beta: 1.0 \n",
      "  step: 3.90625000e-03, beta: 1.0 \n",
      "  step: 1.95312500e-03, beta: 1.0 \n",
      "  step: 9.76562500e-04, beta: 1.0 \n",
      "  step: 4.88281250e-04, beta: 1.0 \n",
      "  step: 2.44140625e-04, beta: 1.0 \n",
      "  step: 1.22070312e-04, beta: 1.0 \n",
      "  step: 6.10351562e-05, beta: 1.0 \n",
      "  step: 3.05175781e-05, beta: 1.0 \n",
      "  step: 1.52587891e-05 NOT FOUND ./data/1.52587891e-05N_1093_d_4_h_6_T_15_lam_0.1_mu_1e-10_p_edge_1_s_0_0\n",
      "  step: 7.62939453e-06 NOT FOUND ./data/7.62939453e-06N_1093_d_4_h_6_T_15_lam_0.1_mu_1e-10_p_edge_1_s_0_0\n",
      "  step: 3.81469727e-06 NOT FOUND ./data/3.81469727e-06N_1093_d_4_h_6_T_15_lam_0.1_mu_1e-10_p_edge_1_s_0_0\n",
      "Read lambda: 0.2 instance 0\n",
      "  step: 3.12500000e-02 NOT FOUND ./data/3.12500000e-02N_1093_d_4_h_6_T_15_lam_0.2_mu_1e-10_p_edge_1_s_0_0\n",
      "  step: 1.56250000e-02, beta: 1.0 \n",
      "  step: 7.81250000e-03, beta: 1.0 \n",
      "  step: 3.90625000e-03, beta: 1.0 \n",
      "  step: 1.95312500e-03, beta: 1.0 \n",
      "  step: 9.76562500e-04, beta: 1.0 \n",
      "  step: 4.88281250e-04, beta: 1.0 \n",
      "  step: 2.44140625e-04, beta: 1.0 \n",
      "  step: 1.22070312e-04, beta: 1.0 \n",
      "  step: 6.10351562e-05, beta: 1.0 \n",
      "  step: 3.05175781e-05, beta: 1.0 \n",
      "  step: 1.52587891e-05 NOT FOUND ./data/1.52587891e-05N_1093_d_4_h_6_T_15_lam_0.2_mu_1e-10_p_edge_1_s_0_0\n",
      "  step: 7.62939453e-06 NOT FOUND ./data/7.62939453e-06N_1093_d_4_h_6_T_15_lam_0.2_mu_1e-10_p_edge_1_s_0_0\n",
      "  step: 3.81469727e-06 NOT FOUND ./data/3.81469727e-06N_1093_d_4_h_6_T_15_lam_0.2_mu_1e-10_p_edge_1_s_0_0\n",
      "Read lambda: 0.3 instance 0\n",
      "  step: 3.12500000e-02, beta: 1.0 \n",
      "  step: 1.56250000e-02, beta: 1.0 \n",
      "  step: 7.81250000e-03, beta: 1.0 \n",
      "  step: 3.90625000e-03, beta: 1.0 \n",
      "  step: 1.95312500e-03, beta: 1.0 \n",
      "  step: 9.76562500e-04, beta: 1.0 \n",
      "  step: 4.88281250e-04, beta: 1.0 \n",
      "  step: 2.44140625e-04, beta: 1.0 \n",
      "  step: 1.22070312e-04, beta: 1.0 \n",
      "  step: 6.10351562e-05, beta: 1.0 \n",
      "  step: 3.05175781e-05, beta: 1.0 \n",
      "  step: 1.52587891e-05 NOT FOUND ./data/1.52587891e-05N_1093_d_4_h_6_T_15_lam_0.3_mu_1e-10_p_edge_1_s_0_0\n",
      "  step: 7.62939453e-06 NOT FOUND ./data/7.62939453e-06N_1093_d_4_h_6_T_15_lam_0.3_mu_1e-10_p_edge_1_s_0_0\n",
      "  step: 3.81469727e-06 NOT FOUND ./data/3.81469727e-06N_1093_d_4_h_6_T_15_lam_0.3_mu_1e-10_p_edge_1_s_0_0\n",
      "Read lambda: 0.4 instance 0\n",
      "  step: 3.12500000e-02 NOT FOUND ./data/3.12500000e-02N_1093_d_4_h_6_T_15_lam_0.4_mu_1e-10_p_edge_1_s_0_0\n",
      "  step: 1.56250000e-02, beta: 1.0 \n",
      "  step: 7.81250000e-03, beta: 1.0 \n",
      "  step: 3.90625000e-03, beta: 1.0 \n",
      "  step: 1.95312500e-03, beta: 1.0 \n",
      "  step: 9.76562500e-04, beta: 1.0 \n",
      "  step: 4.88281250e-04, beta: 1.0 \n",
      "  step: 2.44140625e-04, beta: 1.0 \n",
      "  step: 1.22070312e-04, beta: 1.0 \n",
      "  step: 6.10351562e-05, beta: 1.0 \n",
      "  step: 3.05175781e-05, beta: 1.0 \n",
      "  step: 1.52587891e-05 NOT FOUND ./data/1.52587891e-05N_1093_d_4_h_6_T_15_lam_0.4_mu_1e-10_p_edge_1_s_0_0\n",
      "  step: 7.62939453e-06 NOT FOUND ./data/7.62939453e-06N_1093_d_4_h_6_T_15_lam_0.4_mu_1e-10_p_edge_1_s_0_0\n",
      "  step: 3.81469727e-06 NOT FOUND ./data/3.81469727e-06N_1093_d_4_h_6_T_15_lam_0.4_mu_1e-10_p_edge_1_s_0_0\n",
      "Read lambda: 0.5 instance 0\n",
      "  step: 3.12500000e-02 NOT FOUND ./data/3.12500000e-02N_1093_d_4_h_6_T_15_lam_0.5_mu_1e-10_p_edge_1_s_0_0\n",
      "  step: 1.56250000e-02, beta: 1.0 \n",
      "  step: 7.81250000e-03, beta: 1.0 \n",
      "  step: 3.90625000e-03, beta: 1.0 \n",
      "  step: 1.95312500e-03, beta: 1.0 \n",
      "  step: 9.76562500e-04, beta: 1.0 \n",
      "  step: 4.88281250e-04, beta: 1.0 \n",
      "  step: 2.44140625e-04, beta: 1.0 \n",
      "  step: 1.22070312e-04, beta: 1.0 \n",
      "  step: 6.10351562e-05, beta: 1.0 \n",
      "  step: 3.05175781e-05, beta: 1.0 \n",
      "  step: 1.52587891e-05 NOT FOUND ./data/1.52587891e-05N_1093_d_4_h_6_T_15_lam_0.5_mu_1e-10_p_edge_1_s_0_0\n",
      "  step: 7.62939453e-06 NOT FOUND ./data/7.62939453e-06N_1093_d_4_h_6_T_15_lam_0.5_mu_1e-10_p_edge_1_s_0_0\n",
      "  step: 3.81469727e-06 NOT FOUND ./data/3.81469727e-06N_1093_d_4_h_6_T_15_lam_0.5_mu_1e-10_p_edge_1_s_0_0\n",
      "Read lambda: 0.6 instance 0\n",
      "  step: 3.12500000e-02 NOT FOUND ./data/3.12500000e-02N_1093_d_4_h_6_T_15_lam_0.6_mu_1e-10_p_edge_1_s_0_0\n",
      "  step: 1.56250000e-02, beta: 1.0 \n",
      "  step: 7.81250000e-03, beta: 1.0 \n",
      "  step: 3.90625000e-03, beta: 1.0 \n",
      "  step: 1.95312500e-03, beta: 1.0 \n",
      "  step: 9.76562500e-04, beta: 1.0 \n",
      "  step: 4.88281250e-04, beta: 1.0 \n",
      "  step: 2.44140625e-04, beta: 1.0 \n",
      "  step: 1.22070312e-04, beta: 1.0 \n",
      "  step: 6.10351562e-05, beta: 1.0 \n",
      "  step: 3.05175781e-05, beta: 1.0 \n",
      "  step: 1.52587891e-05, beta: 1.0 \n",
      "  step: 7.62939453e-06, beta: 1.0 \n",
      "  step: 3.81469727e-06, beta: 1.0 \n",
      "\n",
      "SEED: 1\n",
      "\n",
      "Read lambda: 0.1 instance 0\n",
      "  step: 3.12500000e-02 NOT FOUND ./data/3.12500000e-02N_1093_d_4_h_6_T_15_lam_0.1_mu_1e-10_p_edge_1_s_1_0\n",
      "  step: 1.56250000e-02, beta: 1.0 \n",
      "  step: 7.81250000e-03, beta: 1.0 \n",
      "  step: 3.90625000e-03, beta: 1.0 \n",
      "  step: 1.95312500e-03, beta: 1.0 \n",
      "  step: 9.76562500e-04, beta: 1.0 \n",
      "  step: 4.88281250e-04, beta: 1.0 \n",
      "  step: 2.44140625e-04, beta: 1.0 \n",
      "  step: 1.22070312e-04, beta: 1.0 \n",
      "  step: 6.10351562e-05, beta: 1.0 \n",
      "  step: 3.05175781e-05, beta: 1.0 \n",
      "  step: 1.52587891e-05 NOT FOUND ./data/1.52587891e-05N_1093_d_4_h_6_T_15_lam_0.1_mu_1e-10_p_edge_1_s_1_0\n",
      "  step: 7.62939453e-06 NOT FOUND ./data/7.62939453e-06N_1093_d_4_h_6_T_15_lam_0.1_mu_1e-10_p_edge_1_s_1_0\n",
      "  step: 3.81469727e-06 NOT FOUND ./data/3.81469727e-06N_1093_d_4_h_6_T_15_lam_0.1_mu_1e-10_p_edge_1_s_1_0\n",
      "Read lambda: 0.2 instance 0\n",
      "  step: 3.12500000e-02 NOT FOUND ./data/3.12500000e-02N_1093_d_4_h_6_T_15_lam_0.2_mu_1e-10_p_edge_1_s_1_0\n",
      "  step: 1.56250000e-02, beta: 1.0 \n",
      "  step: 7.81250000e-03, beta: 1.0 \n",
      "  step: 3.90625000e-03, beta: 1.0 \n",
      "  step: 1.95312500e-03, beta: 1.0 \n",
      "  step: 9.76562500e-04, beta: 1.0 \n",
      "  step: 4.88281250e-04, beta: 1.0 \n",
      "  step: 2.44140625e-04, beta: 1.0 \n",
      "  step: 1.22070312e-04, beta: 1.0 \n",
      "  step: 6.10351562e-05, beta: 1.0 \n",
      "  step: 3.05175781e-05, beta: 1.0 \n",
      "  step: 1.52587891e-05 NOT FOUND ./data/1.52587891e-05N_1093_d_4_h_6_T_15_lam_0.2_mu_1e-10_p_edge_1_s_1_0\n",
      "  step: 7.62939453e-06 NOT FOUND ./data/7.62939453e-06N_1093_d_4_h_6_T_15_lam_0.2_mu_1e-10_p_edge_1_s_1_0\n",
      "  step: 3.81469727e-06 NOT FOUND ./data/3.81469727e-06N_1093_d_4_h_6_T_15_lam_0.2_mu_1e-10_p_edge_1_s_1_0\n",
      "Read lambda: 0.3 instance 0\n",
      "  step: 3.12500000e-02 NOT FOUND ./data/3.12500000e-02N_1093_d_4_h_6_T_15_lam_0.3_mu_1e-10_p_edge_1_s_1_0\n",
      "  step: 1.56250000e-02, beta: 1.0 \n",
      "  step: 7.81250000e-03, beta: 1.0 \n",
      "  step: 3.90625000e-03, beta: 1.0 \n",
      "  step: 1.95312500e-03, beta: 1.0 \n",
      "  step: 9.76562500e-04, beta: 1.0 \n",
      "  step: 4.88281250e-04, beta: 1.0 \n",
      "  step: 2.44140625e-04, beta: 1.0 \n",
      "  step: 1.22070312e-04, beta: 1.0 \n",
      "  step: 6.10351562e-05, beta: 1.0 \n",
      "  step: 3.05175781e-05, beta: 1.0 \n",
      "  step: 1.52587891e-05 NOT FOUND ./data/1.52587891e-05N_1093_d_4_h_6_T_15_lam_0.3_mu_1e-10_p_edge_1_s_1_0\n",
      "  step: 7.62939453e-06 NOT FOUND ./data/7.62939453e-06N_1093_d_4_h_6_T_15_lam_0.3_mu_1e-10_p_edge_1_s_1_0\n",
      "  step: 3.81469727e-06 NOT FOUND ./data/3.81469727e-06N_1093_d_4_h_6_T_15_lam_0.3_mu_1e-10_p_edge_1_s_1_0\n",
      "Read lambda: 0.4 instance 0\n",
      "  step: 3.12500000e-02 NOT FOUND ./data/3.12500000e-02N_1093_d_4_h_6_T_15_lam_0.4_mu_1e-10_p_edge_1_s_1_0\n",
      "  step: 1.56250000e-02, beta: 1.0 \n",
      "  step: 7.81250000e-03, beta: 1.0 \n",
      "  step: 3.90625000e-03, beta: 1.0 \n",
      "  step: 1.95312500e-03, beta: 1.0 \n",
      "  step: 9.76562500e-04, beta: 1.0 \n",
      "  step: 4.88281250e-04, beta: 1.0 \n",
      "  step: 2.44140625e-04, beta: 1.0 \n",
      "  step: 1.22070312e-04, beta: 1.0 \n",
      "  step: 6.10351562e-05, beta: 1.0 \n",
      "  step: 3.05175781e-05, beta: 1.0 \n",
      "  step: 1.52587891e-05, beta: 1.0 \n",
      "  step: 7.62939453e-06, beta: 1.0 \n",
      "  step: 3.81469727e-06, beta: 1.0 \n",
      "Read lambda: 0.5 instance 0\n",
      "  step: 3.12500000e-02 NOT FOUND ./data/3.12500000e-02N_1093_d_4_h_6_T_15_lam_0.5_mu_1e-10_p_edge_1_s_1_0\n",
      "  step: 1.56250000e-02, beta: 1.0 \n",
      "  step: 7.81250000e-03, beta: 1.0 \n",
      "  step: 3.90625000e-03, beta: 1.0 \n",
      "  step: 1.95312500e-03, beta: 1.0 \n",
      "  step: 9.76562500e-04, beta: 1.0 \n",
      "  step: 4.88281250e-04, beta: 1.0 \n",
      "  step: 2.44140625e-04, beta: 1.0 \n",
      "  step: 1.22070312e-04, beta: 1.0 \n",
      "  step: 6.10351562e-05, beta: 1.0 \n",
      "  step: 3.05175781e-05, beta: 1.0 \n",
      "  step: 1.52587891e-05, beta: 1.0 \n",
      "  step: 7.62939453e-06, beta: 1.0 \n",
      "  step: 3.81469727e-06, beta: 1.0 \n",
      "Read lambda: 0.6 instance 0\n",
      "  step: 3.12500000e-02 NOT FOUND ./data/3.12500000e-02N_1093_d_4_h_6_T_15_lam_0.6_mu_1e-10_p_edge_1_s_1_0\n",
      "  step: 1.56250000e-02, beta: 1.0 \n",
      "  step: 7.81250000e-03, beta: 1.0 \n",
      "  step: 3.90625000e-03, beta: 1.0 \n",
      "  step: 1.95312500e-03, beta: 1.0 \n",
      "  step: 9.76562500e-04, beta: 1.0 \n",
      "  step: 4.88281250e-04, beta: 1.0 \n",
      "  step: 2.44140625e-04, beta: 1.0 \n",
      "  step: 1.22070312e-04, beta: 1.0 \n",
      "  step: 6.10351562e-05, beta: 1.0 \n",
      "  step: 3.05175781e-05, beta: 1.0 \n",
      "  step: 1.52587891e-05, beta: 1.0 \n",
      "  step: 7.62939453e-06, beta: 0.96130371078 \n",
      "  step: 3.81469727e-06, beta: 1.0 \n",
      "\n",
      "SEED: 2\n",
      "\n",
      "Read lambda: 0.1 instance 0\n",
      "  step: 3.12500000e-02 NOT FOUND ./data/3.12500000e-02N_1093_d_4_h_6_T_15_lam_0.1_mu_1e-10_p_edge_1_s_2_0\n",
      "  step: 1.56250000e-02, beta: 1.0 \n",
      "  step: 7.81250000e-03, beta: 1.0 \n",
      "  step: 3.90625000e-03, beta: 1.0 \n",
      "  step: 1.95312500e-03, beta: 1.0 \n",
      "  step: 9.76562500e-04, beta: 1.0 \n",
      "  step: 4.88281250e-04, beta: 1.0 \n",
      "  step: 2.44140625e-04, beta: 1.0 \n",
      "  step: 1.22070312e-04, beta: 1.0 \n",
      "  step: 6.10351562e-05, beta: 1.0 \n",
      "  step: 3.05175781e-05, beta: 1.0 \n",
      "  step: 1.52587891e-05 NOT FOUND ./data/1.52587891e-05N_1093_d_4_h_6_T_15_lam_0.1_mu_1e-10_p_edge_1_s_2_0\n",
      "  step: 7.62939453e-06 NOT FOUND ./data/7.62939453e-06N_1093_d_4_h_6_T_15_lam_0.1_mu_1e-10_p_edge_1_s_2_0\n",
      "  step: 3.81469727e-06 NOT FOUND ./data/3.81469727e-06N_1093_d_4_h_6_T_15_lam_0.1_mu_1e-10_p_edge_1_s_2_0\n",
      "Read lambda: 0.2 instance 0\n",
      "  step: 3.12500000e-02 NOT FOUND ./data/3.12500000e-02N_1093_d_4_h_6_T_15_lam_0.2_mu_1e-10_p_edge_1_s_2_0\n",
      "  step: 1.56250000e-02, beta: 1.0 \n",
      "  step: 7.81250000e-03, beta: 1.0 \n",
      "  step: 3.90625000e-03, beta: 1.0 \n",
      "  step: 1.95312500e-03, beta: 1.0 \n",
      "  step: 9.76562500e-04, beta: 1.0 \n",
      "  step: 4.88281250e-04, beta: 1.0 \n",
      "  step: 2.44140625e-04, beta: 1.0 \n",
      "  step: 1.22070312e-04, beta: 1.0 \n",
      "  step: 6.10351562e-05, beta: 1.0 \n",
      "  step: 3.05175781e-05, beta: 1.0 \n",
      "  step: 1.52587891e-05 NOT FOUND ./data/1.52587891e-05N_1093_d_4_h_6_T_15_lam_0.2_mu_1e-10_p_edge_1_s_2_0\n",
      "  step: 7.62939453e-06 NOT FOUND ./data/7.62939453e-06N_1093_d_4_h_6_T_15_lam_0.2_mu_1e-10_p_edge_1_s_2_0\n",
      "  step: 3.81469727e-06 NOT FOUND ./data/3.81469727e-06N_1093_d_4_h_6_T_15_lam_0.2_mu_1e-10_p_edge_1_s_2_0\n",
      "Read lambda: 0.3 instance 0\n",
      "  step: 3.12500000e-02 NOT FOUND ./data/3.12500000e-02N_1093_d_4_h_6_T_15_lam_0.3_mu_1e-10_p_edge_1_s_2_0\n",
      "  step: 1.56250000e-02, beta: 1.0 \n",
      "  step: 7.81250000e-03, beta: 1.0 \n",
      "  step: 3.90625000e-03, beta: 1.0 \n",
      "  step: 1.95312500e-03, beta: 1.0 \n",
      "  step: 9.76562500e-04, beta: 1.0 \n",
      "  step: 4.88281250e-04, beta: 1.0 \n",
      "  step: 2.44140625e-04, beta: 1.0 \n",
      "  step: 1.22070312e-04, beta: 1.0 \n",
      "  step: 6.10351562e-05, beta: 1.0 \n",
      "  step: 3.05175781e-05, beta: 1.0 \n",
      "  step: 1.52587891e-05 NOT FOUND ./data/1.52587891e-05N_1093_d_4_h_6_T_15_lam_0.3_mu_1e-10_p_edge_1_s_2_0\n",
      "  step: 7.62939453e-06 NOT FOUND ./data/7.62939453e-06N_1093_d_4_h_6_T_15_lam_0.3_mu_1e-10_p_edge_1_s_2_0\n",
      "  step: 3.81469727e-06 NOT FOUND ./data/3.81469727e-06N_1093_d_4_h_6_T_15_lam_0.3_mu_1e-10_p_edge_1_s_2_0\n",
      "Read lambda: 0.4 instance 0\n",
      "  step: 3.12500000e-02 NOT FOUND ./data/3.12500000e-02N_1093_d_4_h_6_T_15_lam_0.4_mu_1e-10_p_edge_1_s_2_0\n",
      "  step: 1.56250000e-02, beta: 1.0 \n",
      "  step: 7.81250000e-03, beta: 1.0 \n",
      "  step: 3.90625000e-03, beta: 1.0 \n",
      "  step: 1.95312500e-03, beta: 1.0 \n",
      "  step: 9.76562500e-04, beta: 1.0 \n",
      "  step: 4.88281250e-04, beta: 1.0 \n",
      "  step: 2.44140625e-04, beta: 1.0 \n",
      "  step: 1.22070312e-04, beta: 1.0 \n",
      "  step: 6.10351562e-05, beta: 1.0 \n",
      "  step: 3.05175781e-05, beta: 1.0 \n",
      "  step: 1.52587891e-05, beta: 1.0 \n",
      "  step: 7.62939453e-06 NOT FOUND ./data/7.62939453e-06N_1093_d_4_h_6_T_15_lam_0.4_mu_1e-10_p_edge_1_s_2_0\n",
      "  step: 3.81469727e-06 NOT FOUND ./data/3.81469727e-06N_1093_d_4_h_6_T_15_lam_0.4_mu_1e-10_p_edge_1_s_2_0\n",
      "Read lambda: 0.5 instance 0\n",
      "  step: 3.12500000e-02 NOT FOUND ./data/3.12500000e-02N_1093_d_4_h_6_T_15_lam_0.5_mu_1e-10_p_edge_1_s_2_0\n",
      "  step: 1.56250000e-02, beta: 1.0 \n",
      "  step: 7.81250000e-03, beta: 1.0 \n",
      "  step: 3.90625000e-03, beta: 1.0 \n",
      "  step: 1.95312500e-03, beta: 1.0 \n",
      "  step: 9.76562500e-04, beta: 1.0 \n",
      "  step: 4.88281250e-04, beta: 1.0 \n",
      "  step: 2.44140625e-04, beta: 1.0 \n",
      "  step: 1.22070312e-04, beta: 1.0 \n",
      "  step: 6.10351562e-05, beta: 1.0 \n",
      "  step: 3.05175781e-05, beta: 1.0 \n",
      "  step: 1.52587891e-05, beta: 0.8850097678 \n",
      "  step: 7.62939453e-06, beta: 0.93078613266 \n",
      "  step: 3.81469727e-06, beta: 1.0 \n",
      "Read lambda: 0.6 instance 0\n",
      "  step: 3.12500000e-02 NOT FOUND ./data/3.12500000e-02N_1093_d_4_h_6_T_15_lam_0.6_mu_1e-10_p_edge_1_s_2_0\n",
      "  step: 1.56250000e-02, beta: 1.0 \n",
      "  step: 7.81250000e-03, beta: 1.0 \n",
      "  step: 3.90625000e-03, beta: 1.0 \n",
      "  step: 1.95312500e-03, beta: 1.0 \n",
      "  step: 9.76562500e-04, beta: 1.0 \n",
      "  step: 4.88281250e-04, beta: 1.0 \n",
      "  step: 2.44140625e-04, beta: 1.0 \n",
      "  step: 1.22070312e-04, beta: 1.0 \n",
      "  step: 6.10351562e-05, beta: 1.0 \n",
      "  step: 3.05175781e-05, beta: 1.0 \n",
      "  step: 1.52587891e-05, beta: 0.86364746306 \n",
      "  step: 7.62939453e-06 NOT FOUND ./data/7.62939453e-06N_1093_d_4_h_6_T_15_lam_0.6_mu_1e-10_p_edge_1_s_2_0\n",
      "  step: 3.81469727e-06, beta: 1.0 \n"
     ]
    }
   ],
   "source": [
    "for i_seed, seed in enumerate(seeds):\n",
    "    print(f\"\\nSEED: {seed}\\n\")\n",
    "    for cl in range(len(lambda_)):\n",
    "        lambda_cl = lambda_[cl]\n",
    "        for instance_num in range(num_conf[i_seed]):\n",
    "            ress[seed][lambda_cl][instance_num][\"regressive\"] = {}\n",
    "            print(f\"Read lambda: {lambda_cl} instance {instance_num}\")\n",
    "            for step in steps:\n",
    "                name_temp = name_files_nn[seed][lambda_cl][step] +\"_\" + str(instance_num)\n",
    "                try:\n",
    "                    ress[seed][lambda_cl][instance_num][\"regressive\"][step] = {}\n",
    "                    ress[seed][lambda_cl][instance_num][\"regressive\"][step][\"marginals\"] = np.load(name_temp + \"_margs.npz\",\n",
    "                                                                            \"r+\",\n",
    "                                                                           allow_pickle=True,\n",
    "                                                                           fix_imports=True)[\"marginals\"]\n",
    "                    ress[seed][lambda_cl][instance_num][\"regressive\"][step][\"run\"] = pd.read_csv(name_temp + \".gz\")\n",
    "                    beta_end = ress[seed][lambda_cl][instance_num][\"regressive\"][step][\"run\"][\"beta\"].iloc[-1]\n",
    "                    #ress[seed][N_cl][instance_num][\"regressive\"][step][\"run\"] = pd.read_csv(name_temp + \".gz\")\n",
    "                    print(f\"  step: {step}, beta: {beta_end} \")\n",
    "\n",
    "                except:\n",
    "                    print(f\"  step: {step} NOT FOUND {name_temp}\")\n"
   ]
  },
  {
   "cell_type": "code",
   "execution_count": 19,
   "metadata": {},
   "outputs": [
    {
     "name": "stdout",
     "output_type": "stream",
     "text": [
      "\n",
      "SEED: 0\n",
      "Read lambda_: 0.1 instance 0\n",
      "load SIB\n",
      "Read lambda_: 0.2 instance 0\n",
      "load SIB\n",
      "Read lambda_: 0.3 instance 0\n",
      "load SIB\n",
      "Read lambda_: 0.4 instance 0\n",
      "load SIB\n",
      "Read lambda_: 0.5 instance 0\n",
      "load SIB\n",
      "Read lambda_: 0.6 instance 0\n",
      "load SIB\n",
      "\n",
      "SEED: 1\n",
      "Read lambda_: 0.1 instance 0\n",
      "load SIB\n",
      "Read lambda_: 0.2 instance 0\n",
      "load SIB\n",
      "Read lambda_: 0.3 instance 0\n",
      "load SIB\n",
      "Read lambda_: 0.4 instance 0\n",
      "load SIB\n",
      "Read lambda_: 0.5 instance 0\n",
      "load SIB\n",
      "Read lambda_: 0.6 instance 0\n",
      "load SIB\n",
      "\n",
      "SEED: 2\n",
      "Read lambda_: 0.1 instance 0\n",
      "load SIB\n",
      "Read lambda_: 0.2 instance 0\n",
      "load SIB\n",
      "Read lambda_: 0.3 instance 0\n",
      "load SIB\n",
      "Read lambda_: 0.4 instance 0\n",
      "load SIB\n",
      "Read lambda_: 0.5 instance 0\n",
      "load SIB\n",
      "Read lambda_: 0.6 instance 0\n",
      "load SIB\n"
     ]
    }
   ],
   "source": [
    "for i_seed, seed in enumerate(seeds):\n",
    "    print(f\"\\nSEED: {seed}\")\n",
    "    for cl in range(len(lambda_)):\n",
    "        lambda_cl = lambda_[cl]\n",
    "        for instance_num in range(num_conf[i_seed]):\n",
    "            print(f\"Read lambda_: {lambda_cl} instance {instance_num}\")\n",
    "            name_temp = name_files_sib[seed][lambda_cl] +\"_\" + str(instance_num)\n",
    "            ress[seed][lambda_cl][instance_num][\"sib\"] = {}\n",
    "            try:\n",
    "                ress[seed][lambda_cl][instance_num][\"sib\"][\"marginals\"] = np.load(name_temp + \"_sib_margs.npz\",\n",
    "                                                                        \"r+\",\n",
    "                                                                       allow_pickle=True,\n",
    "                                                                       fix_imports=True)[\"marginals\"]\n",
    "                print(\"load SIB\")\n",
    "            except:\n",
    "                print(f\"SIB not found {name_temp}\")\n"
   ]
  },
  {
   "cell_type": "markdown",
   "metadata": {},
   "source": [
    "# RES"
   ]
  },
  {
   "cell_type": "code",
   "execution_count": 20,
   "metadata": {},
   "outputs": [],
   "source": [
    "import pickle\n",
    "with open('img/ress_nn.pkl', 'wb') as handle:\n",
    "    pickle.dump(ress, handle)"
   ]
  },
  {
   "cell_type": "code",
   "execution_count": 24,
   "metadata": {},
   "outputs": [
    {
     "name": "stdout",
     "output_type": "stream",
     "text": [
      "1.0000007140536327\n",
      "1.0000000178310102\n",
      "1.0000000007611554\n",
      "1.000004601160656\n",
      "1.0000049856468594\n",
      "1.0019007304387906\n",
      "1.0000251645683307\n",
      "1.0001826615152787\n",
      "1.0004133418412269\n",
      "1.003380957907664\n",
      "1.038359016148235\n",
      "1.0042423506708755\n",
      "1.0002099947521756\n",
      "1.0005754760264587\n",
      "1.0083010049292103\n",
      "1.0005504176905937\n",
      "1.010174160586522\n",
      "1.0048716552134729\n"
     ]
    },
    {
     "data": {
      "image/png": "[encoded data removed]",
      "text/plain": [
       "<Figure size 720x720 with 3 Axes>"
      ]
     },
     "metadata": {
      "needs_background": "light"
     },
     "output_type": "display_data"
    }
   ],
   "source": [
    "import matplotlib.pyplot as plt\n",
    "fig, axs = plt.subplots(3,1, figsize=(10,10),)\n",
    "t = 0 #list(range(t_limit))\n",
    "conver = []\n",
    "num_plot = 0\n",
    "for i_seed, seed in enumerate(seeds):\n",
    "\n",
    "        #plt.subplot(2, 3, cl+1)\n",
    "    for instance_num in range(num_conf[i_seed]):\n",
    "        for cl in range(len(lambda_)):\n",
    "            max_ = 0\n",
    "            res = []\n",
    "            x = []\n",
    "            name = []\n",
    "            I = 0\n",
    "\n",
    "            I = ress[seed][lambda_[cl]][instance_num][\"sib\"][\"marginals\"][:,-1, 1].sum()\n",
    "            #norm_I = ress[seed][Ns[cl]][instance_num][\"sib\"][\"marginals\"][:,:, 1].sum()\n",
    "            m_sib = ress[seed][lambda_[cl]][instance_num][\"sib\"][\"marginals\"][:,t,1]\n",
    "            norm_I = m_sib.sum()#I * t_limit\n",
    "            print(norm_I)\n",
    "            for i_step, step in enumerate(steps):\n",
    "                try:\n",
    "                    str_name_file = str(step)\n",
    "                    norm_I_temp=ress[seed][lambda_[cl]][instance_num][\"regressive\"][step][\"marginals\"][:,t,1].sum()\n",
    "                    m_nn = ress[seed][lambda_[cl]][instance_num][\"regressive\"][step][\"marginals\"][:,t,1]/norm_I_temp\n",
    "                    diff = np.abs(m_nn - m_sib).sum()\n",
    "                    #print(f\"{str_name_file}, {diff/I}\")\n",
    "                    res.append(diff/(norm_I))\n",
    "                    name.append(str_name_file)\n",
    "                    x.append(1000*(1./float(step) + 100))\n",
    "                except:\n",
    "                    pass\n",
    "            if I in conver:\n",
    "                print(\"ERROR\")\n",
    "            conver.append({\n",
    "                \"step\":x,\n",
    "                \"err\":res,\n",
    "                \"N\":Ns[cl],\n",
    "                \"I\":I\n",
    "            })\n",
    "\n",
    "            axs[num_plot].plot(x, res, label=f\"number of infected {I}\")\n",
    "            axs[num_plot].legend()\n",
    "        axs[num_plot].axis(ymin=0,ymax=2.55)\n",
    "        num_plot += 1\n",
    "\n",
    "for i, ii in enumerate(conver):\n",
    "    conver[i][\"err\"].insert(0,1000)\n",
    "    conver[i][\"step\"].insert(0,100*1000)\n",
    "    #plt.xticks(range(len(res)), name)\n",
    "\n",
    "#plt.semilogx()\n",
    "plt.show()"
   ]
  },
  {
   "cell_type": "code",
   "execution_count": 25,
   "metadata": {},
   "outputs": [
    {
     "name": "stdout",
     "output_type": "stream",
     "text": [
      "for now avoiding very large point\n",
      "for now avoiding very large point\n",
      "for now avoiding very large point\n",
      "for now avoiding very large point\n",
      "for now avoiding very large point\n",
      "\n",
      "fit parameter 1-sigma error\n",
      "59452.521340132516 +- 9066.738086832669\n",
      "1.3613573746522194 +- 0.06408288551597154\n"
     ]
    },
    {
     "data": {
      "image/png": "[encoded data removed]",
      "text/plain": [
       "<Figure size 432x288 with 1 Axes>"
      ]
     },
     "metadata": {
      "needs_background": "light"
     },
     "output_type": "display_data"
    }
   ],
   "source": [
    "from scipy.optimize import curve_fit\n",
    "def func(x, a, b):\n",
    "    return a * x ** b\n",
    "%matplotlib inline\n",
    "\n",
    "y_conv = []\n",
    "x_conv = []\n",
    "y_err = []\n",
    "for i, ii in enumerate(conver):\n",
    "    I = conver[i][\"I\"]\n",
    "    if I < 300 and I >1:\n",
    "        y_i = np.argmax(np.array(conver[i][\"err\"]) < 0.10)\n",
    "        y_conv.append((conver[i][\"step\"][y_i] + conver[i][\"step\"][y_i-1])/2)\n",
    "        y_err.append((conver[i][\"step\"][y_i] - conver[i][\"step\"][y_i-1])/2)\n",
    "        #print(i, y_i, y_err[-1], conver[i][\"step\"][y_i], conver[i][\"step\"][y_i-1])\n",
    "        x_conv.append(I)\n",
    "        #print(I,y_i, y_conv[-1], y_err[-1])\n",
    "        #print(conver[I][\"step\"][y_i])\n",
    "    else:\n",
    "        print(\"for now avoiding very large point\")\n",
    "x_conv = np.array(x_conv)\n",
    "y_conv = np.array(y_conv)\n",
    "y_err = np.array(y_err)\n",
    "arr1inds = x_conv.argsort()\n",
    "x_conv = x_conv[arr1inds]\n",
    "y_conv = y_conv[arr1inds]\n",
    "y_err = y_err[arr1inds]\n",
    "\n",
    "print()\n",
    "#y_conv *= 1000\n",
    "#y_err *= 1000\n",
    "\n",
    "plt.errorbar(x_conv, y_conv, marker=\"o\", yerr=y_err, ls='none')\n",
    "popt, pcov = curve_fit(func, x_conv, y_conv, p0=(15,0.95), sigma=y_err)\n",
    "plt.plot(x_conv, func(x_conv, *popt), 'r-',\n",
    "         label='fit: $y=ax^b$\\na=%1.1e, b=%5.2f' % tuple(popt))\n",
    "popt2, pcov2 = curve_fit(func, x_conv, y_conv, p0=(15,0.95))\n",
    "#plt.plot(x_conv, func(x_conv, *popt2), 'g-',\n",
    "#         label='fit: a=%5.3f, b=%5.3f' % tuple(popt2))\n",
    "perr = np.sqrt(np.diag(pcov))\n",
    "\n",
    "#print fit parameters and 1-sigma estimates\n",
    "print('fit parameter 1-sigma error')\n",
    "for i in range(len(popt)):\n",
    "    print(str(popt[i])+' +- '+str(perr[i]))\n",
    "perr[0]=0\n",
    "# prepare confidence level curves\n",
    "nstd = 1. # to draw 5-sigma intervals\n",
    "popt_up = popt + nstd * perr\n",
    "popt_dw = popt - nstd * perr\n",
    "\n",
    "fit_up = func(x_conv, *popt_up)\n",
    "fit_dw = func(x_conv, *popt_dw)\n",
    "plt.fill_between(x_conv, fit_up, fit_dw, alpha=.25, label='5-sigma interval')\n",
    "\n",
    "plt.xlabel(\"Size of epidemy\")\n",
    "plt.ylabel(\"# steps\")\n",
    "plt.loglog()\n",
    "#plt.semilogy()\n",
    "plt.legend()\n",
    "plt.ylim(1e2, 5e8)\n",
    "plt.show()\n"
   ]
  },
  {
   "cell_type": "code",
   "execution_count": 26,
   "metadata": {},
   "outputs": [],
   "source": [
    "df = pd.DataFrame(data={\"x\":x_conv, \"y\":y_conv, \"err\":y_err})"
   ]
  },
  {
   "cell_type": "code",
   "execution_count": 27,
   "metadata": {},
   "outputs": [],
   "source": [
    "df.to_csv(\"img/res_nn.gz\")"
   ]
  },
  {
   "cell_type": "markdown",
   "metadata": {},
   "source": [
    "# SF"
   ]
  },
  {
   "cell_type": "code",
   "execution_count": 28,
   "metadata": {},
   "outputs": [
    {
     "ename": "KeyError",
     "evalue": "1093",
     "output_type": "error",
     "traceback": [
      "\u001b[0;31m---------------------------------------------------------------------------\u001b[0m",
      "\u001b[0;31mKeyError\u001b[0m                                  Traceback (most recent call last)",
      "\u001b[0;32m/var/folders/jy/gjfds_4d4xsfqkq02klzlj240000gn/T/ipykernel_83783/571658371.py\u001b[0m in \u001b[0;36m<module>\u001b[0;34m\u001b[0m\n\u001b[0;32m----> 1\u001b[0;31m \u001b[0mress\u001b[0m\u001b[0;34m[\u001b[0m\u001b[0mseed\u001b[0m\u001b[0;34m]\u001b[0m\u001b[0;34m[\u001b[0m\u001b[0mNs\u001b[0m\u001b[0;34m[\u001b[0m\u001b[0mcl\u001b[0m\u001b[0;34m]\u001b[0m\u001b[0;34m]\u001b[0m\u001b[0;34m[\u001b[0m\u001b[0minstance_num\u001b[0m\u001b[0;34m]\u001b[0m\u001b[0;34m[\u001b[0m\u001b[0;34m\"sm\"\u001b[0m\u001b[0;34m]\u001b[0m\u001b[0;34m\u001b[0m\u001b[0;34m\u001b[0m\u001b[0m\n\u001b[0m",
      "\u001b[0;31mKeyError\u001b[0m: 1093"
     ]
    }
   ],
   "source": [
    "ress[seed][Ns[cl]][instance_num][\"sm\"]"
   ]
  },
  {
   "cell_type": "code",
   "execution_count": 29,
   "metadata": {},
   "outputs": [
    {
     "ename": "KeyError",
     "evalue": "1093",
     "output_type": "error",
     "traceback": [
      "\u001b[0;31m---------------------------------------------------------------------------\u001b[0m",
      "\u001b[0;31mKeyError\u001b[0m                                  Traceback (most recent call last)",
      "\u001b[0;32m/var/folders/jy/gjfds_4d4xsfqkq02klzlj240000gn/T/ipykernel_83783/3597150657.py\u001b[0m in \u001b[0;36m<module>\u001b[0;34m\u001b[0m\n\u001b[1;32m     15\u001b[0m             \u001b[0mI\u001b[0m \u001b[0;34m=\u001b[0m \u001b[0;36m0\u001b[0m\u001b[0;34m\u001b[0m\u001b[0;34m\u001b[0m\u001b[0m\n\u001b[1;32m     16\u001b[0m \u001b[0;34m\u001b[0m\u001b[0m\n\u001b[0;32m---> 17\u001b[0;31m             \u001b[0mI\u001b[0m \u001b[0;34m=\u001b[0m \u001b[0mress\u001b[0m\u001b[0;34m[\u001b[0m\u001b[0mseed\u001b[0m\u001b[0;34m]\u001b[0m\u001b[0;34m[\u001b[0m\u001b[0mNs\u001b[0m\u001b[0;34m[\u001b[0m\u001b[0mcl\u001b[0m\u001b[0;34m]\u001b[0m\u001b[0;34m]\u001b[0m\u001b[0;34m[\u001b[0m\u001b[0minstance_num\u001b[0m\u001b[0;34m]\u001b[0m\u001b[0;34m[\u001b[0m\u001b[0;34m\"sib\"\u001b[0m\u001b[0;34m]\u001b[0m\u001b[0;34m[\u001b[0m\u001b[0;34m\"marginals\"\u001b[0m\u001b[0;34m]\u001b[0m\u001b[0;34m[\u001b[0m\u001b[0;34m:\u001b[0m\u001b[0;34m,\u001b[0m\u001b[0;34m-\u001b[0m\u001b[0;36m1\u001b[0m\u001b[0;34m,\u001b[0m \u001b[0;36m1\u001b[0m\u001b[0;34m]\u001b[0m\u001b[0;34m.\u001b[0m\u001b[0msum\u001b[0m\u001b[0;34m(\u001b[0m\u001b[0;34m)\u001b[0m\u001b[0;34m\u001b[0m\u001b[0;34m\u001b[0m\u001b[0m\n\u001b[0m\u001b[1;32m     18\u001b[0m             \u001b[0mm_sib\u001b[0m \u001b[0;34m=\u001b[0m \u001b[0mress\u001b[0m\u001b[0;34m[\u001b[0m\u001b[0mseed\u001b[0m\u001b[0;34m]\u001b[0m\u001b[0;34m[\u001b[0m\u001b[0mNs\u001b[0m\u001b[0;34m[\u001b[0m\u001b[0mcl\u001b[0m\u001b[0;34m]\u001b[0m\u001b[0;34m]\u001b[0m\u001b[0;34m[\u001b[0m\u001b[0minstance_num\u001b[0m\u001b[0;34m]\u001b[0m\u001b[0;34m[\u001b[0m\u001b[0;34m\"sib\"\u001b[0m\u001b[0;34m]\u001b[0m\u001b[0;34m[\u001b[0m\u001b[0;34m\"marginals\"\u001b[0m\u001b[0;34m]\u001b[0m\u001b[0;34m[\u001b[0m\u001b[0;34m:\u001b[0m\u001b[0;34m,\u001b[0m\u001b[0mt\u001b[0m\u001b[0;34m,\u001b[0m\u001b[0;36m1\u001b[0m\u001b[0;34m]\u001b[0m\u001b[0;34m\u001b[0m\u001b[0;34m\u001b[0m\u001b[0m\n\u001b[1;32m     19\u001b[0m             \u001b[0;32mfor\u001b[0m \u001b[0mi_step\u001b[0m\u001b[0;34m,\u001b[0m \u001b[0mstep\u001b[0m \u001b[0;32min\u001b[0m \u001b[0menumerate\u001b[0m\u001b[0;34m(\u001b[0m\u001b[0mnsims\u001b[0m\u001b[0;34m)\u001b[0m\u001b[0;34m:\u001b[0m\u001b[0;34m\u001b[0m\u001b[0;34m\u001b[0m\u001b[0m\n",
      "\u001b[0;31mKeyError\u001b[0m: 1093"
     ]
    },
    {
     "data": {
      "image/png": "[encoded data removed]",
      "text/plain": [
       "<Figure size 720x720 with 3 Axes>"
      ]
     },
     "metadata": {
      "needs_background": "light"
     },
     "output_type": "display_data"
    }
   ],
   "source": [
    "fig, axs = plt.subplots(3,1, figsize=(10,10),)\n",
    "t = list(range(t_limit))\n",
    "#plt.ylim((0., 0.005))\n",
    "conver = []\n",
    "num_plot = 0\n",
    "for i_seed, seed in enumerate(seeds):\n",
    "\n",
    "        #plt.subplot(2, 3, cl+1)\n",
    "    for instance_num in range(num_conf[i_seed]):\n",
    "        for cl in range(len(Ns)):\n",
    "            max_ = 0\n",
    "            res = []\n",
    "            x = []\n",
    "            name = []\n",
    "            I = 0\n",
    "\n",
    "            I = ress[seed][Ns[cl]][instance_num][\"sib\"][\"marginals\"][:,-1, 1].sum()\n",
    "            m_sib = ress[seed][Ns[cl]][instance_num][\"sib\"][\"marginals\"][:,t,1]\n",
    "            for i_step, step in enumerate(nsims):\n",
    "                try:\n",
    "                    str_name_file = str(step)\n",
    "                    m_nn = ress[seed][Ns[cl]][instance_num][\"sm\"][step][\"marginals\"][:,t,1]\n",
    "                    diff = np.abs(m_nn - m_sib).sum()\n",
    "                    #print(f\"{str_name_file}, {diff/I}\")\n",
    "                    res.append(diff/(I*t_limit))\n",
    "                    name.append(str_name_file)\n",
    "                    x.append(1./step + 100)\n",
    "                except:\n",
    "                    print(\"no\")\n",
    "            if I in conver:\n",
    "                print(\"ERROR\")\n",
    "            conver.append({\n",
    "                \"step\":x,\n",
    "                \"err\":res,\n",
    "                \"N\":Ns[cl],\n",
    "                \"I\":I\n",
    "            })\n",
    "\n",
    "            axs[num_plot].plot(x, res, label=f\"number of infected {I}\")\n",
    "            axs[num_plot].legend()\n",
    "        num_plot += 1\n",
    "for i, ii in enumerate(conver):\n",
    "    conver[i][\"err\"].insert(0,1000)\n",
    "    conver[i][\"step\"].insert(0,0)\n",
    "    #plt.xticks(range(len(res)), name)\n",
    "#plt.semilogx()"
   ]
  },
  {
   "cell_type": "markdown",
   "metadata": {},
   "source": [
    "## Marginals"
   ]
  },
  {
   "cell_type": "code",
   "execution_count": 30,
   "metadata": {},
   "outputs": [
    {
     "ename": "ModuleNotFoundError",
     "evalue": "No module named 'utils.analysis'",
     "output_type": "error",
     "traceback": [
      "\u001b[0;31m---------------------------------------------------------------------------\u001b[0m",
      "\u001b[0;31mModuleNotFoundError\u001b[0m                       Traceback (most recent call last)",
      "\u001b[0;32m/var/folders/jy/gjfds_4d4xsfqkq02klzlj240000gn/T/ipykernel_83783/269660829.py\u001b[0m in \u001b[0;36m<module>\u001b[0;34m\u001b[0m\n\u001b[0;32m----> 1\u001b[0;31m \u001b[0;32mimport\u001b[0m \u001b[0mutils\u001b[0m\u001b[0;34m.\u001b[0m\u001b[0manalysis\u001b[0m\u001b[0;34m\u001b[0m\u001b[0;34m\u001b[0m\u001b[0m\n\u001b[0m\u001b[1;32m      2\u001b[0m \u001b[0;32mfrom\u001b[0m \u001b[0mutils\u001b[0m\u001b[0;34m.\u001b[0m\u001b[0manalysis\u001b[0m \u001b[0;32mimport\u001b[0m \u001b[0msort_I\u001b[0m\u001b[0;34m\u001b[0m\u001b[0;34m\u001b[0m\u001b[0m\n\u001b[1;32m      3\u001b[0m \u001b[0;32mfrom\u001b[0m \u001b[0mimp\u001b[0m \u001b[0;32mimport\u001b[0m \u001b[0mreload\u001b[0m\u001b[0;34m\u001b[0m\u001b[0;34m\u001b[0m\u001b[0m\n\u001b[1;32m      4\u001b[0m \u001b[0mreload\u001b[0m\u001b[0;34m(\u001b[0m\u001b[0mutils\u001b[0m\u001b[0;34m.\u001b[0m\u001b[0manalysis\u001b[0m\u001b[0;34m)\u001b[0m\u001b[0;34m\u001b[0m\u001b[0;34m\u001b[0m\u001b[0m\n\u001b[1;32m      5\u001b[0m \u001b[0mdata_\u001b[0m\u001b[0;34m.\u001b[0m\u001b[0mkeys\u001b[0m\u001b[0;34m(\u001b[0m\u001b[0;34m)\u001b[0m\u001b[0;34m\u001b[0m\u001b[0;34m\u001b[0m\u001b[0m\n",
      "\u001b[0;31mModuleNotFoundError\u001b[0m: No module named 'utils.analysis'"
     ]
    }
   ],
   "source": [
    "import utils.analysis\n",
    "from utils.analysis import sort_I\n",
    "from imp import reload\n",
    "reload(utils.analysis)\n",
    "data_.keys()"
   ]
  },
  {
   "cell_type": "code",
   "execution_count": 31,
   "metadata": {},
   "outputs": [
    {
     "ename": "NameError",
     "evalue": "name 'N' is not defined",
     "output_type": "error",
     "traceback": [
      "\u001b[0;31m---------------------------------------------------------------------------\u001b[0m",
      "\u001b[0;31mNameError\u001b[0m                                 Traceback (most recent call last)",
      "\u001b[0;32m/var/folders/jy/gjfds_4d4xsfqkq02klzlj240000gn/T/ipykernel_83783/980904843.py\u001b[0m in \u001b[0;36m<module>\u001b[0;34m\u001b[0m\n\u001b[1;32m      3\u001b[0m \u001b[0mt\u001b[0m \u001b[0;34m=\u001b[0m \u001b[0mlist\u001b[0m\u001b[0;34m(\u001b[0m\u001b[0mrange\u001b[0m\u001b[0;34m(\u001b[0m\u001b[0mt_limit\u001b[0m\u001b[0;34m)\u001b[0m\u001b[0;34m)\u001b[0m\u001b[0;34m\u001b[0m\u001b[0;34m\u001b[0m\u001b[0m\n\u001b[1;32m      4\u001b[0m \u001b[0;34m\u001b[0m\u001b[0m\n\u001b[0;32m----> 5\u001b[0;31m \u001b[0;32mfor\u001b[0m \u001b[0mcl\u001b[0m \u001b[0;32min\u001b[0m \u001b[0mrange\u001b[0m\u001b[0;34m(\u001b[0m\u001b[0mlen\u001b[0m\u001b[0;34m(\u001b[0m\u001b[0mN\u001b[0m\u001b[0;34m)\u001b[0m\u001b[0;34m)\u001b[0m\u001b[0;34m:\u001b[0m\u001b[0;34m\u001b[0m\u001b[0;34m\u001b[0m\u001b[0m\n\u001b[0m\u001b[1;32m      6\u001b[0m     \u001b[0mplt\u001b[0m\u001b[0;34m.\u001b[0m\u001b[0msubplot\u001b[0m\u001b[0;34m(\u001b[0m\u001b[0;36m2\u001b[0m\u001b[0;34m,\u001b[0m \u001b[0;36m3\u001b[0m\u001b[0;34m,\u001b[0m \u001b[0mcl\u001b[0m\u001b[0;34m+\u001b[0m\u001b[0;36m1\u001b[0m\u001b[0;34m)\u001b[0m\u001b[0;34m\u001b[0m\u001b[0;34m\u001b[0m\u001b[0m\n\u001b[1;32m      7\u001b[0m     \u001b[0;32mfor\u001b[0m \u001b[0minstance_num\u001b[0m \u001b[0;32min\u001b[0m \u001b[0mrange\u001b[0m\u001b[0;34m(\u001b[0m\u001b[0mnum_conf\u001b[0m\u001b[0;34m[\u001b[0m\u001b[0mcl\u001b[0m\u001b[0;34m]\u001b[0m\u001b[0;34m)\u001b[0m\u001b[0;34m:\u001b[0m\u001b[0;34m\u001b[0m\u001b[0;34m\u001b[0m\u001b[0m\n",
      "\u001b[0;31mNameError\u001b[0m: name 'N' is not defined"
     ]
    },
    {
     "data": {
      "text/plain": [
       "<Figure size 720x720 with 0 Axes>"
      ]
     },
     "metadata": {},
     "output_type": "display_data"
    }
   ],
   "source": [
    "import matplotlib.pyplot as plt\n",
    "plt.figure(1, figsize=(10,10),)\n",
    "t = list(range(t_limit))\n",
    "\n",
    "for cl in range(len(N)):\n",
    "    plt.subplot(2, 3, cl+1)\n",
    "    for instance_num in range(num_conf[cl]):\n",
    "        m_sib = ress[N[cl]][instance_num][\"sib\"][\"marginals\"][:,t,1]\n",
    "        for i_step, step in enumerate(steps):\n",
    "            try:\n",
    "                m_nn = ress[N[cl]][instance_num][\"regressive\"][step][\"marginals\"][:,t,1]\n",
    "                plt.scatter(m_nn, m_sib, marker='.', label= str(step))\n",
    "            except:\n",
    "                pass\n",
    "            plt.title(N[cl])\n",
    "            plt.legend()"
   ]
  },
  {
   "cell_type": "code",
   "execution_count": 32,
   "metadata": {},
   "outputs": [
    {
     "ename": "NameError",
     "evalue": "name 'N' is not defined",
     "output_type": "error",
     "traceback": [
      "\u001b[0;31m---------------------------------------------------------------------------\u001b[0m",
      "\u001b[0;31mNameError\u001b[0m                                 Traceback (most recent call last)",
      "\u001b[0;32m/var/folders/jy/gjfds_4d4xsfqkq02klzlj240000gn/T/ipykernel_83783/2790543574.py\u001b[0m in \u001b[0;36m<module>\u001b[0;34m\u001b[0m\n\u001b[1;32m      3\u001b[0m \u001b[0mt\u001b[0m \u001b[0;34m=\u001b[0m \u001b[0mlist\u001b[0m\u001b[0;34m(\u001b[0m\u001b[0mrange\u001b[0m\u001b[0;34m(\u001b[0m\u001b[0mt_limit\u001b[0m\u001b[0;34m)\u001b[0m\u001b[0;34m)\u001b[0m\u001b[0;34m\u001b[0m\u001b[0;34m\u001b[0m\u001b[0m\n\u001b[1;32m      4\u001b[0m \u001b[0malpha\u001b[0m \u001b[0;34m=\u001b[0m \u001b[0;36m20\u001b[0m\u001b[0;34m\u001b[0m\u001b[0;34m\u001b[0m\u001b[0m\n\u001b[0;32m----> 5\u001b[0;31m \u001b[0;32mfor\u001b[0m \u001b[0mcl\u001b[0m \u001b[0;32min\u001b[0m \u001b[0mrange\u001b[0m\u001b[0;34m(\u001b[0m\u001b[0mlen\u001b[0m\u001b[0;34m(\u001b[0m\u001b[0mN\u001b[0m\u001b[0;34m)\u001b[0m\u001b[0;34m)\u001b[0m\u001b[0;34m:\u001b[0m\u001b[0;34m\u001b[0m\u001b[0;34m\u001b[0m\u001b[0m\n\u001b[0m\u001b[1;32m      6\u001b[0m     \u001b[0mplt\u001b[0m\u001b[0;34m.\u001b[0m\u001b[0msubplot\u001b[0m\u001b[0;34m(\u001b[0m\u001b[0;36m2\u001b[0m\u001b[0;34m,\u001b[0m \u001b[0;36m3\u001b[0m\u001b[0;34m,\u001b[0m \u001b[0mcl\u001b[0m\u001b[0;34m+\u001b[0m\u001b[0;36m1\u001b[0m\u001b[0;34m)\u001b[0m\u001b[0;34m\u001b[0m\u001b[0;34m\u001b[0m\u001b[0m\n\u001b[1;32m      7\u001b[0m     \u001b[0;32mfor\u001b[0m \u001b[0minstance_num\u001b[0m \u001b[0;32min\u001b[0m \u001b[0mrange\u001b[0m\u001b[0;34m(\u001b[0m\u001b[0mnum_conf\u001b[0m\u001b[0;34m[\u001b[0m\u001b[0mcl\u001b[0m\u001b[0;34m]\u001b[0m\u001b[0;34m)\u001b[0m\u001b[0;34m:\u001b[0m\u001b[0;34m\u001b[0m\u001b[0;34m\u001b[0m\u001b[0m\n",
      "\u001b[0;31mNameError\u001b[0m: name 'N' is not defined"
     ]
    },
    {
     "data": {
      "text/plain": [
       "<Figure size 720x720 with 0 Axes>"
      ]
     },
     "metadata": {},
     "output_type": "display_data"
    }
   ],
   "source": [
    "import matplotlib.pyplot as plt\n",
    "plt.figure(1, figsize=(10,10),)\n",
    "t = list(range(t_limit))\n",
    "alpha = 20\n",
    "for cl in range(len(N)):\n",
    "    plt.subplot(2, 3, cl+1)\n",
    "    for instance_num in range(num_conf[cl]):\n",
    "        m_sib = ress[N[cl]][instance_num][\"sib\"][\"marginals\"][:,t,1]\n",
    "        for i_step, step in enumerate(nsims):\n",
    "            try:\n",
    "                m_nn = ress[N[cl]][instance_num][\"sf\"][step][\"marginals\"][alpha, t,:,1]\n",
    "                plt.scatter(m_nn, m_sib, label= str(step))\n",
    "            except:\n",
    "                pass\n",
    "            plt.title(N[cl])\n",
    "            plt.legend()"
   ]
  },
  {
   "cell_type": "code",
   "execution_count": 33,
   "metadata": {},
   "outputs": [
    {
     "ename": "NameError",
     "evalue": "name 'N' is not defined",
     "output_type": "error",
     "traceback": [
      "\u001b[0;31m---------------------------------------------------------------------------\u001b[0m",
      "\u001b[0;31mNameError\u001b[0m                                 Traceback (most recent call last)",
      "\u001b[0;32m/var/folders/jy/gjfds_4d4xsfqkq02klzlj240000gn/T/ipykernel_83783/1170088044.py\u001b[0m in \u001b[0;36m<module>\u001b[0;34m\u001b[0m\n\u001b[1;32m      2\u001b[0m \u001b[0mplt\u001b[0m\u001b[0;34m.\u001b[0m\u001b[0mfigure\u001b[0m\u001b[0;34m(\u001b[0m\u001b[0;36m1\u001b[0m\u001b[0;34m,\u001b[0m \u001b[0mfigsize\u001b[0m\u001b[0;34m=\u001b[0m\u001b[0;34m(\u001b[0m\u001b[0;36m10\u001b[0m\u001b[0;34m,\u001b[0m\u001b[0;36m10\u001b[0m\u001b[0;34m)\u001b[0m\u001b[0;34m,\u001b[0m\u001b[0;34m)\u001b[0m\u001b[0;34m\u001b[0m\u001b[0;34m\u001b[0m\u001b[0m\n\u001b[1;32m      3\u001b[0m \u001b[0mt\u001b[0m \u001b[0;34m=\u001b[0m \u001b[0;36m0\u001b[0m\u001b[0;34m\u001b[0m\u001b[0;34m\u001b[0m\u001b[0m\n\u001b[0;32m----> 4\u001b[0;31m \u001b[0;32mfor\u001b[0m \u001b[0mcl\u001b[0m \u001b[0;32min\u001b[0m \u001b[0mrange\u001b[0m\u001b[0;34m(\u001b[0m\u001b[0mlen\u001b[0m\u001b[0;34m(\u001b[0m\u001b[0mN\u001b[0m\u001b[0;34m)\u001b[0m\u001b[0;34m)\u001b[0m\u001b[0;34m:\u001b[0m\u001b[0;34m\u001b[0m\u001b[0;34m\u001b[0m\u001b[0m\n\u001b[0m\u001b[1;32m      5\u001b[0m     \u001b[0mplt\u001b[0m\u001b[0;34m.\u001b[0m\u001b[0msubplot\u001b[0m\u001b[0;34m(\u001b[0m\u001b[0;36m2\u001b[0m\u001b[0;34m,\u001b[0m \u001b[0;36m3\u001b[0m\u001b[0;34m,\u001b[0m \u001b[0mcl\u001b[0m\u001b[0;34m+\u001b[0m\u001b[0;36m1\u001b[0m\u001b[0;34m)\u001b[0m\u001b[0;34m\u001b[0m\u001b[0;34m\u001b[0m\u001b[0m\n\u001b[1;32m      6\u001b[0m     \u001b[0;32mfor\u001b[0m \u001b[0minstance_num\u001b[0m \u001b[0;32min\u001b[0m \u001b[0mrange\u001b[0m\u001b[0;34m(\u001b[0m\u001b[0mnum_conf\u001b[0m\u001b[0;34m[\u001b[0m\u001b[0mcl\u001b[0m\u001b[0;34m]\u001b[0m\u001b[0;34m)\u001b[0m\u001b[0;34m:\u001b[0m\u001b[0;34m\u001b[0m\u001b[0;34m\u001b[0m\u001b[0m\n",
      "\u001b[0;31mNameError\u001b[0m: name 'N' is not defined"
     ]
    },
    {
     "data": {
      "text/plain": [
       "<Figure size 720x720 with 0 Axes>"
      ]
     },
     "metadata": {},
     "output_type": "display_data"
    }
   ],
   "source": [
    "import matplotlib.pyplot as plt\n",
    "plt.figure(1, figsize=(10,10),)\n",
    "t = 0\n",
    "for cl in range(len(N)):\n",
    "    plt.subplot(2, 3, cl+1)\n",
    "    for instance_num in range(num_conf[cl]):\n",
    "        m_sib = ress[N[cl]][instance_num][\"sib\"][\"marginals\"][:,t,1]\n",
    "        for i_step, step in enumerate(steps):\n",
    "            try:\n",
    "                m_nn = ress[N[cl]][instance_num][\"regressive\"][step][\"marginals\"][:,t,1]\n",
    "                plt.scatter(m_nn, m_sib, label= str(step))\n",
    "            except:\n",
    "                pass\n",
    "            plt.title(N[cl])\n",
    "            plt.legend()"
   ]
  },
  {
   "cell_type": "code",
   "execution_count": 34,
   "metadata": {},
   "outputs": [
    {
     "ename": "NameError",
     "evalue": "name 'N' is not defined",
     "output_type": "error",
     "traceback": [
      "\u001b[0;31m---------------------------------------------------------------------------\u001b[0m",
      "\u001b[0;31mNameError\u001b[0m                                 Traceback (most recent call last)",
      "\u001b[0;32m/var/folders/jy/gjfds_4d4xsfqkq02klzlj240000gn/T/ipykernel_83783/2876523303.py\u001b[0m in \u001b[0;36m<module>\u001b[0;34m\u001b[0m\n\u001b[1;32m      1\u001b[0m \u001b[0mplt\u001b[0m\u001b[0;34m.\u001b[0m\u001b[0mfigure\u001b[0m\u001b[0;34m(\u001b[0m\u001b[0;36m1\u001b[0m\u001b[0;34m,\u001b[0m \u001b[0mfigsize\u001b[0m\u001b[0;34m=\u001b[0m\u001b[0;34m(\u001b[0m\u001b[0;36m10\u001b[0m\u001b[0;34m,\u001b[0m\u001b[0;36m10\u001b[0m\u001b[0;34m)\u001b[0m\u001b[0;34m,\u001b[0m\u001b[0;34m)\u001b[0m\u001b[0;34m\u001b[0m\u001b[0;34m\u001b[0m\u001b[0m\n\u001b[1;32m      2\u001b[0m \u001b[0mt\u001b[0m \u001b[0;34m=\u001b[0m \u001b[0;36m0\u001b[0m\u001b[0;34m\u001b[0m\u001b[0;34m\u001b[0m\u001b[0m\n\u001b[0;32m----> 3\u001b[0;31m \u001b[0;32mfor\u001b[0m \u001b[0mcl\u001b[0m \u001b[0;32min\u001b[0m \u001b[0mrange\u001b[0m\u001b[0;34m(\u001b[0m\u001b[0mlen\u001b[0m\u001b[0;34m(\u001b[0m\u001b[0mN\u001b[0m\u001b[0;34m)\u001b[0m\u001b[0;34m)\u001b[0m\u001b[0;34m:\u001b[0m\u001b[0;34m\u001b[0m\u001b[0;34m\u001b[0m\u001b[0m\n\u001b[0m\u001b[1;32m      4\u001b[0m     \u001b[0mplt\u001b[0m\u001b[0;34m.\u001b[0m\u001b[0msubplot\u001b[0m\u001b[0;34m(\u001b[0m\u001b[0;36m2\u001b[0m\u001b[0;34m,\u001b[0m \u001b[0;36m3\u001b[0m\u001b[0;34m,\u001b[0m \u001b[0mcl\u001b[0m\u001b[0;34m+\u001b[0m\u001b[0;36m1\u001b[0m\u001b[0;34m)\u001b[0m\u001b[0;34m\u001b[0m\u001b[0;34m\u001b[0m\u001b[0m\n\u001b[1;32m      5\u001b[0m     \u001b[0mmax_\u001b[0m \u001b[0;34m=\u001b[0m \u001b[0;36m0\u001b[0m\u001b[0;34m\u001b[0m\u001b[0;34m\u001b[0m\u001b[0m\n",
      "\u001b[0;31mNameError\u001b[0m: name 'N' is not defined"
     ]
    },
    {
     "data": {
      "text/plain": [
       "<Figure size 720x720 with 0 Axes>"
      ]
     },
     "metadata": {},
     "output_type": "display_data"
    }
   ],
   "source": [
    "plt.figure(1, figsize=(10,10),)\n",
    "t = 0\n",
    "for cl in range(len(N)):\n",
    "    plt.subplot(2, 3, cl+1)\n",
    "    max_ = 0\n",
    "    res = []\n",
    "    name = []\n",
    "    for instance_num in range(num_conf[cl]):\n",
    "        I = ress[N[cl]][instance_num][\"sib\"][\"marginals\"][:,-1, 1].sum()\n",
    "        m_sib = ress[N[cl]][instance_num][\"sib\"][\"marginals\"][:,t,1]\n",
    "        for i_step, step in enumerate(steps):\n",
    "            try:\n",
    "                str_name_file = str(step)\n",
    "                m_nn = ress[N[cl]][instance_num][\"regressive\"][step][\"marginals\"][:,t,1]\n",
    "                diff = np.abs(m_nn - m_sib).sum()\n",
    "                print(f\"{str_name_file}, {diff/I}, I\")\n",
    "                res.append(diff/I)\n",
    "                name.append(str_name_file)\n",
    "            except:\n",
    "                pass\n",
    "\n",
    "    plt.bar(range(len(res)), res)\n",
    "    plt.xticks(range(len(res)), name)\n",
    "    "
   ]
  },
  {
   "cell_type": "code",
   "execution_count": 35,
   "metadata": {},
   "outputs": [
    {
     "ename": "NameError",
     "evalue": "name 'N' is not defined",
     "output_type": "error",
     "traceback": [
      "\u001b[0;31m---------------------------------------------------------------------------\u001b[0m",
      "\u001b[0;31mNameError\u001b[0m                                 Traceback (most recent call last)",
      "\u001b[0;32m/var/folders/jy/gjfds_4d4xsfqkq02klzlj240000gn/T/ipykernel_83783/3111587145.py\u001b[0m in \u001b[0;36m<module>\u001b[0;34m\u001b[0m\n\u001b[1;32m      2\u001b[0m \u001b[0mt\u001b[0m \u001b[0;34m=\u001b[0m \u001b[0;36m0\u001b[0m\u001b[0;34m\u001b[0m\u001b[0;34m\u001b[0m\u001b[0m\n\u001b[1;32m      3\u001b[0m \u001b[0malpha\u001b[0m\u001b[0;34m=\u001b[0m\u001b[0;36m20\u001b[0m\u001b[0;34m\u001b[0m\u001b[0;34m\u001b[0m\u001b[0m\n\u001b[0;32m----> 4\u001b[0;31m \u001b[0;32mfor\u001b[0m \u001b[0mcl\u001b[0m \u001b[0;32min\u001b[0m \u001b[0mrange\u001b[0m\u001b[0;34m(\u001b[0m\u001b[0mlen\u001b[0m\u001b[0;34m(\u001b[0m\u001b[0mN\u001b[0m\u001b[0;34m)\u001b[0m\u001b[0;34m)\u001b[0m\u001b[0;34m:\u001b[0m\u001b[0;34m\u001b[0m\u001b[0;34m\u001b[0m\u001b[0m\n\u001b[0m\u001b[1;32m      5\u001b[0m     \u001b[0mplt\u001b[0m\u001b[0;34m.\u001b[0m\u001b[0msubplot\u001b[0m\u001b[0;34m(\u001b[0m\u001b[0;36m2\u001b[0m\u001b[0;34m,\u001b[0m \u001b[0;36m3\u001b[0m\u001b[0;34m,\u001b[0m \u001b[0mcl\u001b[0m\u001b[0;34m+\u001b[0m\u001b[0;36m1\u001b[0m\u001b[0;34m)\u001b[0m\u001b[0;34m\u001b[0m\u001b[0;34m\u001b[0m\u001b[0m\n\u001b[1;32m      6\u001b[0m     \u001b[0mmax_\u001b[0m \u001b[0;34m=\u001b[0m \u001b[0;36m0\u001b[0m\u001b[0;34m\u001b[0m\u001b[0;34m\u001b[0m\u001b[0m\n",
      "\u001b[0;31mNameError\u001b[0m: name 'N' is not defined"
     ]
    },
    {
     "data": {
      "text/plain": [
       "<Figure size 720x720 with 0 Axes>"
      ]
     },
     "metadata": {},
     "output_type": "display_data"
    }
   ],
   "source": [
    "plt.figure(1, figsize=(10,10),)\n",
    "t = 0\n",
    "alpha=20\n",
    "for cl in range(len(N)):\n",
    "    plt.subplot(2, 3, cl+1)\n",
    "    max_ = 0\n",
    "    res = []\n",
    "    name = []\n",
    "    for instance_num in range(num_conf[cl]):\n",
    "        I = ress[N[cl]][instance_num][\"sib\"][\"marginals\"][:,-1, 1].sum()\n",
    "        m_sib = ress[N[cl]][instance_num][\"sib\"][\"marginals\"][:,t,1]\n",
    "        for i_nsim, nsim in enumerate(nsims):\n",
    "            #try:\n",
    "                str_name_file = str(nsims)\n",
    "                m_nn = ress[N[cl]][instance_num][\"sf\"][nsim][\"marginals\"][alpha, t,:,1]\n",
    "                diff = np.abs(m_nn - m_sib).sum()\n",
    "                print(f\"{str_name_file}, {diff/I}, I\")\n",
    "                res.append(diff/I)\n",
    "                name.append(str_name_file)\n",
    "            #except:\n",
    "            #    pass\n",
    "\n",
    "    plt.bar(range(len(res)), res)\n",
    "    plt.xticks(range(len(res)), name)\n",
    "    "
   ]
  },
  {
   "cell_type": "code",
   "execution_count": 36,
   "metadata": {},
   "outputs": [
    {
     "ename": "NameError",
     "evalue": "name 'N' is not defined",
     "output_type": "error",
     "traceback": [
      "\u001b[0;31m---------------------------------------------------------------------------\u001b[0m",
      "\u001b[0;31mNameError\u001b[0m                                 Traceback (most recent call last)",
      "\u001b[0;32m/var/folders/jy/gjfds_4d4xsfqkq02klzlj240000gn/T/ipykernel_83783/1741944438.py\u001b[0m in \u001b[0;36m<module>\u001b[0;34m\u001b[0m\n\u001b[1;32m      4\u001b[0m \u001b[0mconver\u001b[0m \u001b[0;34m=\u001b[0m \u001b[0;34m{\u001b[0m\u001b[0;34m}\u001b[0m\u001b[0;34m\u001b[0m\u001b[0;34m\u001b[0m\u001b[0m\n\u001b[1;32m      5\u001b[0m \u001b[0;34m\u001b[0m\u001b[0m\n\u001b[0;32m----> 6\u001b[0;31m \u001b[0;32mfor\u001b[0m \u001b[0mcl\u001b[0m \u001b[0;32min\u001b[0m \u001b[0mrange\u001b[0m\u001b[0;34m(\u001b[0m\u001b[0mlen\u001b[0m\u001b[0;34m(\u001b[0m\u001b[0mN\u001b[0m\u001b[0;34m)\u001b[0m\u001b[0;34m)\u001b[0m\u001b[0;34m:\u001b[0m\u001b[0;34m\u001b[0m\u001b[0;34m\u001b[0m\u001b[0m\n\u001b[0m\u001b[1;32m      7\u001b[0m \u001b[0;34m\u001b[0m\u001b[0m\n\u001b[1;32m      8\u001b[0m     \u001b[0;31m#plt.subplot(2, 3, cl+1)\u001b[0m\u001b[0;34m\u001b[0m\u001b[0;34m\u001b[0m\u001b[0;34m\u001b[0m\u001b[0m\n",
      "\u001b[0;31mNameError\u001b[0m: name 'N' is not defined"
     ]
    },
    {
     "data": {
      "image/png": "[encoded data removed]",
      "text/plain": [
       "<Figure size 720x720 with 1 Axes>"
      ]
     },
     "metadata": {
      "needs_background": "light"
     },
     "output_type": "display_data"
    }
   ],
   "source": [
    "plt.figure(1, figsize=(10,10),)\n",
    "t = 0\n",
    "plt.ylim((0., 0.005))\n",
    "conver = {}\n",
    "\n",
    "for cl in range(len(N)):\n",
    "\n",
    "    #plt.subplot(2, 3, cl+1)\n",
    "    for instance_num in range(num_conf[cl]):\n",
    "        max_ = 0\n",
    "        res = []\n",
    "        x = []\n",
    "        name = []\n",
    "        I = 0\n",
    "\n",
    "        I = ress[N[cl]][instance_num][\"sib\"][\"marginals\"][:,-1, 1].sum()\n",
    "        m_sib = ress[N[cl]][instance_num][\"sib\"][\"marginals\"][:,t,1]\n",
    "        for i_step, step in enumerate(steps):\n",
    "            try:\n",
    "                str_name_file = str(step)\n",
    "                m_nn = ress[N[cl]][instance_num][\"regressive\"][step][\"marginals\"][:,t,1]\n",
    "                diff = np.abs(m_nn - m_sib).sum()\n",
    "                print(f\"{str_name_file}, {diff/I}\")\n",
    "                res.append(diff/I)\n",
    "                name.append(str_name_file)\n",
    "                x.append(1./step)\n",
    "            except:\n",
    "                pass\n",
    "        conver[I] = {\n",
    "            \"step\":x,\n",
    "            \"err\":res,\n",
    "            \"N\":N[cl]\n",
    "        }\n",
    "\n",
    "        plt.plot(x, res, label=f\"number of infected {I}\")\n",
    "        plt.legend()\n",
    "    #plt.xticks(range(len(res)), name)\n",
    "#plt.semilogx()"
   ]
  },
  {
   "cell_type": "code",
   "execution_count": 37,
   "metadata": {},
   "outputs": [
    {
     "data": {
      "text/plain": [
       "Text(0, 0.5, '# steps')"
      ]
     },
     "execution_count": 37,
     "metadata": {},
     "output_type": "execute_result"
    },
    {
     "data": {
      "image/png": "[encoded data removed]",
      "text/plain": [
       "<Figure size 432x288 with 1 Axes>"
      ]
     },
     "metadata": {
      "needs_background": "light"
     },
     "output_type": "display_data"
    }
   ],
   "source": [
    "y_conv = []\n",
    "x_conv = []\n",
    "for I in conver:\n",
    "    y_i = np.argmax(np.array(conver[I][\"err\"]) < 0.002)\n",
    "    y_conv.append(conver[I][\"step\"][y_i])\n",
    "    x_conv.append(I)\n",
    "    print(I, y_i)\n",
    "    \n",
    "#y_conv[-1]=15000\n",
    "plt.plot(x_conv, y_conv, \"o\")\n",
    "plt.xlabel(\"Number of Infected of epidemy\")\n",
    "\n",
    "plt.loglog()\n",
    "plt.ylabel(\"# steps\")"
   ]
  },
  {
   "cell_type": "code",
   "execution_count": 38,
   "metadata": {},
   "outputs": [
    {
     "data": {
      "image/png": "[encoded data removed]",
      "text/plain": [
       "<Figure size 432x288 with 1 Axes>"
      ]
     },
     "metadata": {
      "needs_background": "light"
     },
     "output_type": "display_data"
    }
   ],
   "source": [
    "y_conv = []\n",
    "x_conv = []\n",
    "y_err = []\n",
    "for I in conver:\n",
    "    y_i = np.argmax(np.array(conver[I][\"err\"]) < 0.001)\n",
    "    y_conv.append((conver[I][\"step\"][y_i] + conver[I][\"step\"][y_i-1]/2))\n",
    "    y_err.append((conver[I][\"step\"][y_i] - conver[I][\"step\"][y_i-1]))\n",
    "    print(y_err)\n",
    "    x_conv.append(I)\n",
    "    print(I, y_i)\n",
    "    \n",
    "#y_conv[-2]=20000\n",
    "plt.errorbar(x_conv, y_conv, marker=\"o\", yerr=y_err, ls='none')\n",
    "plt.xlabel(\"Number of Infected of epidemy\")\n",
    "plt.loglog()\n",
    "plt.ylabel(\"# steps\")\n",
    "plt.ylim(1e3, 1e5)\n",
    "plt.tight_layout()"
   ]
  },
  {
   "cell_type": "code",
   "execution_count": 39,
   "metadata": {},
   "outputs": [
    {
     "ename": "NameError",
     "evalue": "name 'N' is not defined",
     "output_type": "error",
     "traceback": [
      "\u001b[0;31m---------------------------------------------------------------------------\u001b[0m",
      "\u001b[0;31mNameError\u001b[0m                                 Traceback (most recent call last)",
      "\u001b[0;32m/var/folders/jy/gjfds_4d4xsfqkq02klzlj240000gn/T/ipykernel_83783/1214032218.py\u001b[0m in \u001b[0;36m<module>\u001b[0;34m\u001b[0m\n\u001b[1;32m      1\u001b[0m \u001b[0mplt\u001b[0m\u001b[0;34m.\u001b[0m\u001b[0mfigure\u001b[0m\u001b[0;34m(\u001b[0m\u001b[0;36m1\u001b[0m\u001b[0;34m,\u001b[0m \u001b[0mfigsize\u001b[0m\u001b[0;34m=\u001b[0m\u001b[0;34m(\u001b[0m\u001b[0;36m10\u001b[0m\u001b[0;34m,\u001b[0m\u001b[0;36m10\u001b[0m\u001b[0;34m)\u001b[0m\u001b[0;34m,\u001b[0m\u001b[0;34m)\u001b[0m\u001b[0;34m\u001b[0m\u001b[0;34m\u001b[0m\u001b[0m\n\u001b[1;32m      2\u001b[0m \u001b[0mt\u001b[0m \u001b[0;34m=\u001b[0m \u001b[0;36m0\u001b[0m\u001b[0;34m\u001b[0m\u001b[0;34m\u001b[0m\u001b[0m\n\u001b[0;32m----> 3\u001b[0;31m \u001b[0;32mfor\u001b[0m \u001b[0mcl\u001b[0m \u001b[0;32min\u001b[0m \u001b[0mrange\u001b[0m\u001b[0;34m(\u001b[0m\u001b[0mlen\u001b[0m\u001b[0;34m(\u001b[0m\u001b[0mN\u001b[0m\u001b[0;34m)\u001b[0m\u001b[0;34m)\u001b[0m\u001b[0;34m:\u001b[0m\u001b[0;34m\u001b[0m\u001b[0;34m\u001b[0m\u001b[0m\n\u001b[0m\u001b[1;32m      4\u001b[0m     \u001b[0mplt\u001b[0m\u001b[0;34m.\u001b[0m\u001b[0msubplot\u001b[0m\u001b[0;34m(\u001b[0m\u001b[0;36m2\u001b[0m\u001b[0;34m,\u001b[0m \u001b[0;36m3\u001b[0m\u001b[0;34m,\u001b[0m \u001b[0mcl\u001b[0m\u001b[0;34m+\u001b[0m\u001b[0;36m1\u001b[0m\u001b[0;34m)\u001b[0m\u001b[0;34m\u001b[0m\u001b[0;34m\u001b[0m\u001b[0m\n\u001b[1;32m      5\u001b[0m     \u001b[0mmax_\u001b[0m \u001b[0;34m=\u001b[0m \u001b[0;36m0\u001b[0m\u001b[0;34m\u001b[0m\u001b[0;34m\u001b[0m\u001b[0m\n",
      "\u001b[0;31mNameError\u001b[0m: name 'N' is not defined"
     ]
    },
    {
     "data": {
      "text/plain": [
       "<Figure size 720x720 with 0 Axes>"
      ]
     },
     "metadata": {},
     "output_type": "display_data"
    }
   ],
   "source": [
    "plt.figure(1, figsize=(10,10),)\n",
    "t = 0\n",
    "for cl in range(len(N)):\n",
    "    plt.subplot(2, 3, cl+1)\n",
    "    max_ = 0\n",
    "    res = []\n",
    "    name = []\n",
    "    for i_step, step in enumerate(steps):\n",
    "        for instance_num in range(num_conf[cl]):\n",
    "            str_name_file = str(step)\n",
    "            I = ress[N[cl]][step][instance_num][\"sib\"][\"marginals\"][:,-1, 1].sum()\n",
    "            m_nn = ress[N[cl]][step][instance_num][\"regressive\"][\"marginals\"][:,t,1]\n",
    "            m_sib = ress[N[cl]][step][instance_num][\"sib\"][\"marginals\"][:,t,1]\n",
    "            diff = np.abs(m_nn - m_sib).sum() / I\n",
    "            print(f\"{str_name_file}, {n_v}, {i}, {diff}\")\n",
    "            res.append(diff)\n",
    "            name.append(str_name_file)\n",
    "    plt.bar(range(len(res)), res)\n",
    "    plt.xticks(range(len(res)), name)\n",
    "    "
   ]
  },
  {
   "cell_type": "raw",
   "metadata": {},
   "source": [
    "cl = 0\n",
    "N_cl = N[cl]\n",
    "instance_num = 4\n",
    "x, p = ress[N_cl][instance_num][\"regressive\"][\"net\"].sample(10000)"
   ]
  },
  {
   "cell_type": "code",
   "execution_count": 40,
   "metadata": {},
   "outputs": [
    {
     "ename": "TypeError",
     "evalue": "list indices must be integers or slices, not tuple",
     "output_type": "error",
     "traceback": [
      "\u001b[0;31m---------------------------------------------------------------------------\u001b[0m",
      "\u001b[0;31mTypeError\u001b[0m                                 Traceback (most recent call last)",
      "\u001b[0;32m/var/folders/jy/gjfds_4d4xsfqkq02klzlj240000gn/T/ipykernel_83783/1722220181.py\u001b[0m in \u001b[0;36m<module>\u001b[0;34m\u001b[0m\n\u001b[0;32m----> 1\u001b[0;31m \u001b[0;34m(\u001b[0m\u001b[0mx\u001b[0m\u001b[0;34m[\u001b[0m\u001b[0;34m:\u001b[0m\u001b[0;34m,\u001b[0m\u001b[0;34m:\u001b[0m\u001b[0;34m,\u001b[0m\u001b[0;36m0\u001b[0m\u001b[0;34m]\u001b[0m \u001b[0;34m==\u001b[0m \u001b[0;36m0\u001b[0m\u001b[0;34m)\u001b[0m\u001b[0;34m.\u001b[0m\u001b[0mshape\u001b[0m\u001b[0;34m\u001b[0m\u001b[0;34m\u001b[0m\u001b[0m\n\u001b[0m",
      "\u001b[0;31mTypeError\u001b[0m: list indices must be integers or slices, not tuple"
     ]
    }
   ],
   "source": [
    "(x[:,:,0] == 0).shape"
   ]
  },
  {
   "cell_type": "code",
   "execution_count": 41,
   "metadata": {},
   "outputs": [
    {
     "ename": "TypeError",
     "evalue": "list indices must be integers or slices, not tuple",
     "output_type": "error",
     "traceback": [
      "\u001b[0;31m---------------------------------------------------------------------------\u001b[0m",
      "\u001b[0;31mTypeError\u001b[0m                                 Traceback (most recent call last)",
      "\u001b[0;32m/var/folders/jy/gjfds_4d4xsfqkq02klzlj240000gn/T/ipykernel_83783/513402227.py\u001b[0m in \u001b[0;36m<module>\u001b[0;34m\u001b[0m\n\u001b[0;32m----> 1\u001b[0;31m \u001b[0;34m(\u001b[0m\u001b[0mx\u001b[0m\u001b[0;34m[\u001b[0m\u001b[0;34m:\u001b[0m\u001b[0;34m,\u001b[0m\u001b[0;34m:\u001b[0m\u001b[0;34m,\u001b[0m\u001b[0;36m0\u001b[0m\u001b[0;34m]\u001b[0m \u001b[0;34m==\u001b[0m \u001b[0;36m0\u001b[0m\u001b[0;34m)\u001b[0m\u001b[0;34m.\u001b[0m\u001b[0msum\u001b[0m\u001b[0;34m(\u001b[0m\u001b[0mdim\u001b[0m\u001b[0;34m=\u001b[0m\u001b[0;36m1\u001b[0m\u001b[0;34m)\u001b[0m\u001b[0;34m\u001b[0m\u001b[0;34m\u001b[0m\u001b[0m\n\u001b[0m",
      "\u001b[0;31mTypeError\u001b[0m: list indices must be integers or slices, not tuple"
     ]
    }
   ],
   "source": [
    "(x[:,:,0] == 0).sum(dim=1)"
   ]
  },
  {
   "cell_type": "code",
   "execution_count": 42,
   "metadata": {},
   "outputs": [
    {
     "ename": "TypeError",
     "evalue": "list indices must be integers or slices, not tuple",
     "output_type": "error",
     "traceback": [
      "\u001b[0;31m---------------------------------------------------------------------------\u001b[0m",
      "\u001b[0;31mTypeError\u001b[0m                                 Traceback (most recent call last)",
      "\u001b[0;32m/var/folders/jy/gjfds_4d4xsfqkq02klzlj240000gn/T/ipykernel_83783/1040700578.py\u001b[0m in \u001b[0;36m<module>\u001b[0;34m\u001b[0m\n\u001b[0;32m----> 1\u001b[0;31m \u001b[0mx\u001b[0m\u001b[0;34m[\u001b[0m\u001b[0;34m:\u001b[0m\u001b[0;34m,\u001b[0m\u001b[0;34m:\u001b[0m\u001b[0;34m,\u001b[0m\u001b[0;36m0\u001b[0m\u001b[0;34m]\u001b[0m \u001b[0;34m==\u001b[0m \u001b[0;36m0\u001b[0m\u001b[0;34m\u001b[0m\u001b[0;34m\u001b[0m\u001b[0m\n\u001b[0m",
      "\u001b[0;31mTypeError\u001b[0m: list indices must be integers or slices, not tuple"
     ]
    }
   ],
   "source": [
    "x[:,:,0] == 0"
   ]
  },
  {
   "cell_type": "code",
   "execution_count": null,
   "metadata": {},
   "outputs": [],
   "source": []
  },
  {
   "cell_type": "code",
   "execution_count": null,
   "metadata": {},
   "outputs": [],
   "source": []
  }
 ],
 "metadata": {
  "interpreter": {
   "hash": "2e62f657b8d8ca5305e9e864a899c987e9ce197630d8440f981c5ae49f158ad2"
  },
  "kernelspec": {
   "display_name": "Python 3.8.12 64-bit ('base': conda)",
   "name": "python3"
  },
  "language_info": {
   "codemirror_mode": {
    "name": "ipython",
    "version": 3
   },
   "file_extension": ".py",
   "mimetype": "text/x-python",
   "name": "python",
   "nbconvert_exporter": "python",
   "pygments_lexer": "ipython3",
   "version": "3.8.12"
  }
 },
 "nbformat": 4,
 "nbformat_minor": 4
}
