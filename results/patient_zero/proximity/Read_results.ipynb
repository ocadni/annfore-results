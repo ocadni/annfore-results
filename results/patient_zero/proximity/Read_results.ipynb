{
 "cells": [
  {
   "cell_type": "markdown",
   "id": "palestinian-elite",
   "metadata": {},
   "source": [
    "## Read results proximity"
   ]
  },
  {
   "cell_type": "code",
   "execution_count": 1,
   "id": "rubber-brazilian",
   "metadata": {},
   "outputs": [],
   "source": [
    "import numpy as np\n",
    "import numba as nb\n",
    "import pandas as pd\n",
    "\n",
    "import matplotlib.pyplot as plt\n",
    "\n",
    "import sys\n",
    "sys.path.insert(0, '../../../src')\n",
    "import networkx as nx"
   ]
  },
  {
   "cell_type": "code",
   "execution_count": 2,
   "id": "informal-vegetation",
   "metadata": {},
   "outputs": [],
   "source": [
    "import io_m.libsaving as libsaving\n",
    "import io_m.io_utils as io_utils\n",
    "\n",
    "from importlib import reload"
   ]
  },
  {
   "cell_type": "code",
   "execution_count": 3,
   "id": "fleet-hardwood",
   "metadata": {},
   "outputs": [],
   "source": [
    "from epigen import epidemy_gen"
   ]
  },
  {
   "cell_type": "code",
   "execution_count": 4,
   "id": "8be48b9d-7f9d-42e3-8be4-02e9e834e102",
   "metadata": {},
   "outputs": [],
   "source": [
    "from epigen.base import EpInstance"
   ]
  },
  {
   "cell_type": "code",
   "execution_count": 5,
   "id": "cordless-transport",
   "metadata": {},
   "outputs": [],
   "source": [
    "type_graph=\"proximity\"\n",
    "N=100\n",
    "d=10\n",
    "height=3\n",
    "lam=0.03\n",
    "mu=0.02\n",
    "t_limit=15\n",
    "scale=2\n",
    "#gamma=1e-3\n",
    "#path_contacts=\"../patient_zero/work/work_13_contacts.npz\"\n",
    "#small_lambda_limit=0\n",
    "\n",
    "gamma=None\n",
    "small_lambda_limit=0\n",
    "path_contacts=\" \"\n",
    "\n",
    "p_edge=1\n",
    "nsrc=1\n"
   ]
  },
  {
   "cell_type": "code",
   "execution_count": null,
   "id": "92fd4650-2487-4318-b6b3-7d8fe1e5b8ac",
   "metadata": {},
   "outputs": [],
   "source": []
  },
  {
   "cell_type": "code",
   "execution_count": 6,
   "id": "899d2c89-9f09-498f-8b77-b3c142a4f5ce",
   "metadata": {},
   "outputs": [],
   "source": [
    "seeds=range(0,100)"
   ]
  },
  {
   "cell_type": "code",
   "execution_count": 7,
   "id": "auburn-lemon",
   "metadata": {},
   "outputs": [],
   "source": [
    "INSTANCES = {s:EpInstance(type_graph, N, d, t_limit, \n",
    "                                    lam, mu, s, float(p_edge), \n",
    "                                    n_source=nsrc) for s in seeds}"
   ]
  },
  {
   "cell_type": "code",
   "execution_count": 8,
   "id": "f6fc7176-1ec1-4cd9-afe7-97f2b1f60094",
   "metadata": {},
   "outputs": [
    {
     "data": {
      "text/plain": [
       "'proximity_n_100_d_10_tlim_15_lam_0.03_mu_0.02_s_0_pe_1.0'"
      ]
     },
     "execution_count": 8,
     "metadata": {},
     "output_type": "execute_result"
    }
   ],
   "source": [
    "str(INSTANCES[0])"
   ]
  },
  {
   "cell_type": "code",
   "execution_count": 9,
   "id": "286f60e1-7b60-43f7-8d5f-9f45bbf53808",
   "metadata": {},
   "outputs": [],
   "source": [
    "extra_gen = {\"h\":height,\n",
    "            \"scale\":scale}\n",
    "\n",
    "extra_gen.update({\"gamma\":gamma, \n",
    "                  \"small_lambda_limit\":small_lambda_limit, \n",
    "                  \"path_contacts\": path_contacts})"
   ]
  },
  {
   "cell_type": "code",
   "execution_count": 10,
   "id": "announced-decline",
   "metadata": {},
   "outputs": [],
   "source": [
    "\n",
    "start_conf=0\n",
    "num_conf=1"
   ]
  },
  {
   "cell_type": "code",
   "execution_count": 11,
   "id": "waiting-immunology",
   "metadata": {
    "tags": []
   },
   "outputs": [],
   "source": [
    "%%capture\n",
    "reload(epidemy_gen)\n",
    "DATA_ALL = {s: \n",
    "            epidemy_gen.epidemy_gen_epinstance(inst, \n",
    "                                               lim_infected=1, num_conf=num_conf,\n",
    "                                               extra_gen=extra_gen, \n",
    "                                               verbose=False,\n",
    "                                              num_sources=nsrc) \n",
    "            for s, inst in INSTANCES.items()}"
   ]
  },
  {
   "cell_type": "code",
   "execution_count": 12,
   "id": "2a8babd3-b8ea-4de2-8465-bc5a2827d837",
   "metadata": {},
   "outputs": [
    {
     "name": "stderr",
     "output_type": "stream",
     "text": [
      "/home/fmazza/app/miniconda3/envs/torche/lib/python3.8/site-packages/IPython/core/interactiveshell.py:3437: FutureWarning: arrays to stack must be passed as a \"sequence\" type such as list or tuple. Support for non-sequence iterables such as generators is deprecated as of NumPy 1.16 and will raise an error in the future.\n",
      "  exec(code_obj, self.user_global_ns, self.user_ns)\n"
     ]
    }
   ],
   "source": [
    "confs={s: np.array(mdata[\"test\"]) for s, mdata in DATA_ALL.items()}\n",
    "\n",
    "final_confs = {\n",
    "    s: c[...,1,:] for s, c in confs.items()\n",
    "} #np.stack(tuple(confs.values()) )[...,1,:]\n",
    "\n",
    "\n",
    "idx_source = {k: np.stack((np.where(c[0]==1)[0] for c in x)) for k, x in confs.items()}"
   ]
  },
  {
   "cell_type": "code",
   "execution_count": 13,
   "id": "dec30caf-97d3-42d0-bb08-66dfcd8e6750",
   "metadata": {},
   "outputs": [
    {
     "data": {
      "text/plain": [
       "array([[17]])"
      ]
     },
     "execution_count": 13,
     "metadata": {},
     "output_type": "execute_result"
    }
   ],
   "source": [
    "idx_source[1]"
   ]
  },
  {
   "cell_type": "code",
   "execution_count": 14,
   "id": "5ece1d5c-6fd2-4ce3-991e-20b06c388566",
   "metadata": {},
   "outputs": [
    {
     "data": {
      "image/png": "[encoded data removed]",
      "text/plain": [
       "<Figure size 432x288 with 1 Axes>"
      ]
     },
     "metadata": {
      "needs_background": "light"
     },
     "output_type": "display_data"
    },
    {
     "data": {
      "image/png": "[encoded data removed]",
      "text/plain": [
       "<Figure size 432x288 with 1 Axes>"
      ]
     },
     "metadata": {
      "needs_background": "light"
     },
     "output_type": "display_data"
    }
   ],
   "source": [
    "r = np.stack(tuple(final_confs.values())).sum(-1).flatten()\n",
    "plt.figure()\n",
    "plt.hist(r,bins=max(r)+1)\n",
    "\n",
    "plt.figure()\n",
    "x,vals = np.unique(r, return_counts=True)\n",
    "allvals = np.zeros(max(x)+1)\n",
    "allvals[x] = vals\n",
    "plt.plot(allvals.cumsum(),\".--\")\n",
    "plt.grid()"
   ]
  },
  {
   "cell_type": "code",
   "execution_count": 15,
   "id": "60607ea9-ef1e-4772-90f3-7f6fbf8de5c5",
   "metadata": {},
   "outputs": [],
   "source": [
    "from epigen import generators"
   ]
  },
  {
   "cell_type": "code",
   "execution_count": 53,
   "id": "2e363649-d3dc-4d73-86da-ec36daaf997b",
   "metadata": {},
   "outputs": [],
   "source": [
    "EPIDEMIES = {s: generators.calc_epidemies(mdata[\"epidemy\"], mdata[\"test\"], t_limit) \n",
    "             for s, mdata in DATA_ALL.items()}\n",
    "\n",
    "N_inf = {s:[np.sum(np.array(c[1])!=0) for c in mdata[\"test\"] ]\n",
    "         for s, mdata in DATA_ALL.items()}"
   ]
  },
  {
   "cell_type": "markdown",
   "id": "binding-charge",
   "metadata": {},
   "source": [
    "## Read marginals"
   ]
  },
  {
   "cell_type": "code",
   "execution_count": 17,
   "id": "identified-diesel",
   "metadata": {},
   "outputs": [],
   "source": [
    "from io_m import read_results"
   ]
  },
  {
   "cell_type": "code",
   "execution_count": 18,
   "id": "secure-organizer",
   "metadata": {},
   "outputs": [],
   "source": [
    "def load_many_inst(method, folder, instances, *args, **kwargs):\n",
    "    #if \"legacy\" in kwargs.keys():\n",
    "    #    for inst in \n",
    "    return {s: method(folder, inst, *args,**kwargs) for s, inst in instances.items()}"
   ]
  },
  {
   "cell_type": "code",
   "execution_count": 31,
   "id": "executed-friendship",
   "metadata": {},
   "outputs": [],
   "source": [
    "margs_all = {}"
   ]
  },
  {
   "cell_type": "code",
   "execution_count": 20,
   "id": "66c3ff2c-a0f8-44ec-956e-fcd329ef9e9b",
   "metadata": {},
   "outputs": [
    {
     "data": {
      "text/plain": [
       "<module 'io_m.read_results' from '../../../src/io_m/read_results.py'>"
      ]
     },
     "execution_count": 20,
     "metadata": {},
     "output_type": "execute_result"
    }
   ],
   "source": [
    "reload(read_results)"
   ]
  },
  {
   "cell_type": "code",
   "execution_count": 21,
   "id": "czech-parade",
   "metadata": {},
   "outputs": [],
   "source": [
    "for inst in INSTANCES.values():\n",
    "    inst.p_edge=int(inst.p_edge)"
   ]
  },
  {
   "cell_type": "code",
   "execution_count": 22,
   "id": "30a47565-819b-4fa7-b28a-6abaed26debf",
   "metadata": {},
   "outputs": [],
   "source": [
    "confs_load=(0,num_conf)"
   ]
  },
  {
   "cell_type": "code",
   "execution_count": 23,
   "id": "8ec88a4a-14f0-4bf5-ace1-77c4ff1bf258",
   "metadata": {},
   "outputs": [],
   "source": [
    "ist = tuple(INSTANCES.values())"
   ]
  },
  {
   "cell_type": "code",
   "execution_count": 24,
   "id": "5b26bd58-b493-4549-9c70-1f49aab4036f",
   "metadata": {},
   "outputs": [
    {
     "data": {
      "text/plain": [
       "<epigen.base.EpInstance at 0x7f6a8ca07e20>"
      ]
     },
     "execution_count": 24,
     "metadata": {},
     "output_type": "execute_result"
    }
   ],
   "source": [
    "ist[0]"
   ]
  },
  {
   "cell_type": "code",
   "execution_count": 25,
   "id": "1106e169-e838-49e4-a47e-486fe4c50279",
   "metadata": {},
   "outputs": [
    {
     "data": {
      "text/plain": [
       "'proximity_n_100_d_10_tlim_15_lam_0.03_mu_0.02_s_0_pe_1'"
      ]
     },
     "execution_count": 25,
     "metadata": {},
     "output_type": "execute_result"
    }
   ],
   "source": [
    "str(ist[0])"
   ]
  },
  {
   "cell_type": "code",
   "execution_count": 74,
   "id": "53f74be3-1a42-447a-9f35-9f7e22d049e8",
   "metadata": {},
   "outputs": [],
   "source": [
    "folder=f\"data/\"\n",
    "#folder=f\"sib/{INSTANCE.type_graph}_nsrc{nsrc}/\"\n",
    "name_file=\"\"\n",
    "margs_all[\"sib\"] =load_many_inst(read_results.read_sib_data_def,\n",
    "                                        #\"sib/{type_graph}_nsrc1/\",\n",
    "                                        folder+\"sib\",\n",
    "                                        #f\"sib/{type_graph}/\",\n",
    "                                        INSTANCES, height, name_file,\n",
    "                                        range_confs=confs_load, outprint=False)"
   ]
  },
  {
   "cell_type": "code",
   "execution_count": 81,
   "id": "220b3646-33ff-421c-a964-d3343cb18625",
   "metadata": {},
   "outputs": [
    {
     "data": {
      "text/plain": [
       "dict_keys(['ann_less_deep', 'ann_3lpow1', 'ann_3lpow1_1neigh', 'random', 'sib'])"
      ]
     },
     "execution_count": 81,
     "metadata": {},
     "output_type": "execute_result"
    }
   ],
   "source": [
    "margs_all.keys()"
   ]
  },
  {
   "cell_type": "markdown",
   "id": "acb7827d-29fa-4197-8b4f-1b8f5a6313b9",
   "metadata": {},
   "source": [
    "## ANN results"
   ]
  },
  {
   "cell_type": "code",
   "execution_count": 27,
   "id": "5a063d67-9e40-4203-93b1-d85957d1ebe0",
   "metadata": {},
   "outputs": [
    {
     "data": {
      "text/plain": [
       "<module 'io_m.read_results' from '../../../src/io_m/read_results.py'>"
      ]
     },
     "execution_count": 27,
     "metadata": {},
     "output_type": "execute_result"
    }
   ],
   "source": [
    "reload(read_results)"
   ]
  },
  {
   "cell_type": "code",
   "execution_count": 28,
   "id": "51a139ae-1a0d-4b5f-bf61-a0a735fafbc1",
   "metadata": {},
   "outputs": [],
   "source": [
    "pars_run = {}"
   ]
  },
  {
   "cell_type": "code",
   "execution_count": 29,
   "id": "e6f60ccd-eec6-405c-a0fd-feb562386b6c",
   "metadata": {},
   "outputs": [],
   "source": [
    "pars_run[\"ann_3lpow1_alln\"] = load_many_inst(read_results.read_params_inst,\n",
    "              \"data/ann_3lpow1_all_neighs/\",\n",
    "              INSTANCES,prefix=name_file,\n",
    "            range_confs=confs_load, outprint=False)"
   ]
  },
  {
   "cell_type": "markdown",
   "id": "667e697d-24fa-4d12-9d90-bbb64afca9f4",
   "metadata": {},
   "source": [
    "### All neighbors"
   ]
  },
  {
   "cell_type": "code",
   "execution_count": 90,
   "id": "989ecbfc-4ce8-4d6b-aa7a-46240ca396b7",
   "metadata": {},
   "outputs": [],
   "source": [
    "margs_all[\"ann_3lpow1_alln\"] = load_many_inst(read_results.read_margs_inst,\n",
    "                                        #\"sib/{type_graph}_nsrc1/\",\n",
    "                                        \"data/ann_3lpow1_all_neighs/\",\n",
    "                                        #f\"sib/{type_graph}/\",\n",
    "                                        INSTANCES, prefix=name_file,\n",
    "                                        range_confs=confs_load, outprint=False)"
   ]
  },
  {
   "cell_type": "code",
   "execution_count": 32,
   "id": "cf585f6e-82a9-4d44-84e7-2a1fed9a4f4c",
   "metadata": {},
   "outputs": [
    {
     "ename": "FileNotFoundError",
     "evalue": "[Errno 2] No such file or directory: 'data/ann_less_deep_all_neighs/proximity_n_100_d_10_tlim_15_lam_0.03_mu_0.02_s_25_pe_1_0_margs.npz'",
     "output_type": "error",
     "traceback": [
      "\u001b[0;31m---------------------------------------------------------------------------\u001b[0m",
      "\u001b[0;31mFileNotFoundError\u001b[0m                         Traceback (most recent call last)",
      "\u001b[0;32m<ipython-input-32-63a5a2e0eb2c>\u001b[0m in \u001b[0;36m<module>\u001b[0;34m\u001b[0m\n\u001b[0;32m----> 1\u001b[0;31m margs_all[\"ann_less_deep_alln\"] = load_many_inst(read_results.read_margs_inst,\n\u001b[0m\u001b[1;32m      2\u001b[0m                                         \u001b[0;31m#\"sib/{type_graph}_nsrc1/\",\u001b[0m\u001b[0;34m\u001b[0m\u001b[0;34m\u001b[0m\u001b[0;34m\u001b[0m\u001b[0m\n\u001b[1;32m      3\u001b[0m                                         \u001b[0;34m\"data/ann_less_deep_all_neighs//\"\u001b[0m\u001b[0;34m,\u001b[0m\u001b[0;34m\u001b[0m\u001b[0;34m\u001b[0m\u001b[0m\n\u001b[1;32m      4\u001b[0m                                         \u001b[0;31m#f\"sib/{type_graph}/\",\u001b[0m\u001b[0;34m\u001b[0m\u001b[0;34m\u001b[0m\u001b[0;34m\u001b[0m\u001b[0m\n\u001b[1;32m      5\u001b[0m                                         \u001b[0mINSTANCES\u001b[0m\u001b[0;34m,\u001b[0m \u001b[0mprefix\u001b[0m\u001b[0;34m=\u001b[0m\u001b[0mname_file\u001b[0m\u001b[0;34m,\u001b[0m\u001b[0;34m\u001b[0m\u001b[0;34m\u001b[0m\u001b[0m\n",
      "\u001b[0;32m<ipython-input-18-c358a9bf21c3>\u001b[0m in \u001b[0;36mload_many_inst\u001b[0;34m(method, folder, instances, *args, **kwargs)\u001b[0m\n\u001b[1;32m      2\u001b[0m     \u001b[0;31m#if \"legacy\" in kwargs.keys():\u001b[0m\u001b[0;34m\u001b[0m\u001b[0;34m\u001b[0m\u001b[0;34m\u001b[0m\u001b[0m\n\u001b[1;32m      3\u001b[0m     \u001b[0;31m#    for inst in\u001b[0m\u001b[0;34m\u001b[0m\u001b[0;34m\u001b[0m\u001b[0;34m\u001b[0m\u001b[0m\n\u001b[0;32m----> 4\u001b[0;31m     \u001b[0;32mreturn\u001b[0m \u001b[0;34m{\u001b[0m\u001b[0ms\u001b[0m\u001b[0;34m:\u001b[0m \u001b[0mmethod\u001b[0m\u001b[0;34m(\u001b[0m\u001b[0mfolder\u001b[0m\u001b[0;34m,\u001b[0m \u001b[0minst\u001b[0m\u001b[0;34m,\u001b[0m \u001b[0;34m*\u001b[0m\u001b[0margs\u001b[0m\u001b[0;34m,\u001b[0m\u001b[0;34m**\u001b[0m\u001b[0mkwargs\u001b[0m\u001b[0;34m)\u001b[0m \u001b[0;32mfor\u001b[0m \u001b[0ms\u001b[0m\u001b[0;34m,\u001b[0m \u001b[0minst\u001b[0m \u001b[0;32min\u001b[0m \u001b[0minstances\u001b[0m\u001b[0;34m.\u001b[0m\u001b[0mitems\u001b[0m\u001b[0;34m(\u001b[0m\u001b[0;34m)\u001b[0m\u001b[0;34m}\u001b[0m\u001b[0;34m\u001b[0m\u001b[0;34m\u001b[0m\u001b[0m\n\u001b[0m",
      "\u001b[0;32m<ipython-input-18-c358a9bf21c3>\u001b[0m in \u001b[0;36m<dictcomp>\u001b[0;34m(.0)\u001b[0m\n\u001b[1;32m      2\u001b[0m     \u001b[0;31m#if \"legacy\" in kwargs.keys():\u001b[0m\u001b[0;34m\u001b[0m\u001b[0;34m\u001b[0m\u001b[0;34m\u001b[0m\u001b[0m\n\u001b[1;32m      3\u001b[0m     \u001b[0;31m#    for inst in\u001b[0m\u001b[0;34m\u001b[0m\u001b[0;34m\u001b[0m\u001b[0;34m\u001b[0m\u001b[0m\n\u001b[0;32m----> 4\u001b[0;31m     \u001b[0;32mreturn\u001b[0m \u001b[0;34m{\u001b[0m\u001b[0ms\u001b[0m\u001b[0;34m:\u001b[0m \u001b[0mmethod\u001b[0m\u001b[0;34m(\u001b[0m\u001b[0mfolder\u001b[0m\u001b[0;34m,\u001b[0m \u001b[0minst\u001b[0m\u001b[0;34m,\u001b[0m \u001b[0;34m*\u001b[0m\u001b[0margs\u001b[0m\u001b[0;34m,\u001b[0m\u001b[0;34m**\u001b[0m\u001b[0mkwargs\u001b[0m\u001b[0;34m)\u001b[0m \u001b[0;32mfor\u001b[0m \u001b[0ms\u001b[0m\u001b[0;34m,\u001b[0m \u001b[0minst\u001b[0m \u001b[0;32min\u001b[0m \u001b[0minstances\u001b[0m\u001b[0;34m.\u001b[0m\u001b[0mitems\u001b[0m\u001b[0;34m(\u001b[0m\u001b[0;34m)\u001b[0m\u001b[0;34m}\u001b[0m\u001b[0;34m\u001b[0m\u001b[0;34m\u001b[0m\u001b[0m\n\u001b[0m",
      "\u001b[0;32m~/projects/epi_nn_new/nnepi_res/src/io_m/read_results.py\u001b[0m in \u001b[0;36mread_margs_inst\u001b[0;34m(fold, inst, prefix, name_margs, range_confs, algo, outprint)\u001b[0m\n\u001b[1;32m    102\u001b[0m     \u001b[0;32mfor\u001b[0m \u001b[0mi\u001b[0m \u001b[0;32min\u001b[0m \u001b[0mload_range\u001b[0m\u001b[0;34m:\u001b[0m\u001b[0;34m\u001b[0m\u001b[0;34m\u001b[0m\u001b[0m\n\u001b[1;32m    103\u001b[0m         \u001b[0mnam_f\u001b[0m \u001b[0;34m=\u001b[0m \u001b[0mname\u001b[0m \u001b[0;34m+\u001b[0m \u001b[0;34mf\"_{i}_{name_margs}.npz\"\u001b[0m\u001b[0;34m\u001b[0m\u001b[0;34m\u001b[0m\u001b[0m\n\u001b[0;32m--> 104\u001b[0;31m         \u001b[0md\u001b[0m \u001b[0;34m=\u001b[0m \u001b[0mnp\u001b[0m\u001b[0;34m.\u001b[0m\u001b[0mload\u001b[0m\u001b[0;34m(\u001b[0m\u001b[0mpath\u001b[0m \u001b[0;34m/\u001b[0m \u001b[0mnam_f\u001b[0m\u001b[0;34m)\u001b[0m\u001b[0;34m\u001b[0m\u001b[0;34m\u001b[0m\u001b[0m\n\u001b[0m\u001b[1;32m    105\u001b[0m         \u001b[0mmargs\u001b[0m\u001b[0;34m.\u001b[0m\u001b[0mappend\u001b[0m\u001b[0;34m(\u001b[0m\u001b[0md\u001b[0m\u001b[0;34m[\u001b[0m\u001b[0;34m\"marginals\"\u001b[0m\u001b[0;34m]\u001b[0m\u001b[0;34m)\u001b[0m\u001b[0;34m\u001b[0m\u001b[0;34m\u001b[0m\u001b[0m\n\u001b[1;32m    106\u001b[0m         \u001b[0md\u001b[0m\u001b[0;34m.\u001b[0m\u001b[0mclose\u001b[0m\u001b[0;34m(\u001b[0m\u001b[0;34m)\u001b[0m\u001b[0;34m\u001b[0m\u001b[0;34m\u001b[0m\u001b[0m\n",
      "\u001b[0;32m~/app/miniconda3/envs/torche/lib/python3.8/site-packages/numpy/lib/npyio.py\u001b[0m in \u001b[0;36mload\u001b[0;34m(file, mmap_mode, allow_pickle, fix_imports, encoding)\u001b[0m\n\u001b[1;32m    415\u001b[0m             \u001b[0mown_fid\u001b[0m \u001b[0;34m=\u001b[0m \u001b[0;32mFalse\u001b[0m\u001b[0;34m\u001b[0m\u001b[0;34m\u001b[0m\u001b[0m\n\u001b[1;32m    416\u001b[0m         \u001b[0;32melse\u001b[0m\u001b[0;34m:\u001b[0m\u001b[0;34m\u001b[0m\u001b[0;34m\u001b[0m\u001b[0m\n\u001b[0;32m--> 417\u001b[0;31m             \u001b[0mfid\u001b[0m \u001b[0;34m=\u001b[0m \u001b[0mstack\u001b[0m\u001b[0;34m.\u001b[0m\u001b[0menter_context\u001b[0m\u001b[0;34m(\u001b[0m\u001b[0mopen\u001b[0m\u001b[0;34m(\u001b[0m\u001b[0mos_fspath\u001b[0m\u001b[0;34m(\u001b[0m\u001b[0mfile\u001b[0m\u001b[0;34m)\u001b[0m\u001b[0;34m,\u001b[0m \u001b[0;34m\"rb\"\u001b[0m\u001b[0;34m)\u001b[0m\u001b[0;34m)\u001b[0m\u001b[0;34m\u001b[0m\u001b[0;34m\u001b[0m\u001b[0m\n\u001b[0m\u001b[1;32m    418\u001b[0m             \u001b[0mown_fid\u001b[0m \u001b[0;34m=\u001b[0m \u001b[0;32mTrue\u001b[0m\u001b[0;34m\u001b[0m\u001b[0;34m\u001b[0m\u001b[0m\n\u001b[1;32m    419\u001b[0m \u001b[0;34m\u001b[0m\u001b[0m\n",
      "\u001b[0;31mFileNotFoundError\u001b[0m: [Errno 2] No such file or directory: 'data/ann_less_deep_all_neighs/proximity_n_100_d_10_tlim_15_lam_0.03_mu_0.02_s_25_pe_1_0_margs.npz'"
     ]
    }
   ],
   "source": [
    "margs_all[\"ann_less_deep_alln\"] = load_many_inst(read_results.read_margs_inst,\n",
    "                                        #\"sib/{type_graph}_nsrc1/\",\n",
    "                                        \"data/ann_less_deep_all_neighs//\",\n",
    "                                        #f\"sib/{type_graph}/\",\n",
    "                                        INSTANCES, prefix=name_file,\n",
    "                                        range_confs=confs_load, outprint=False)"
   ]
  },
  {
   "cell_type": "code",
   "execution_count": null,
   "id": "632e8903-b59c-4782-8c62-e0e8841f6eb4",
   "metadata": {},
   "outputs": [],
   "source": [
    "pars_run[\"ann_less_deep_alln\"] = load_many_inst(read_results.read_params_inst,\n",
    "              \"data/ann_less_deep_all_neighs/\",\n",
    "              INSTANCES,prefix=name_file,\n",
    "            range_confs=confs_load, outprint=False)"
   ]
  },
  {
   "cell_type": "markdown",
   "id": "f086ff11-540e-41d6-81e4-6a0d007f357f",
   "metadata": {},
   "source": [
    "## ANN 2 neighs"
   ]
  },
  {
   "cell_type": "code",
   "execution_count": 33,
   "id": "3045d2c0-2d25-4043-8219-5b3919c64650",
   "metadata": {},
   "outputs": [],
   "source": [
    "margs_all[\"ann_less_deep\"] = load_many_inst(read_results.read_margs_inst,\n",
    "                                        #\"sib/{type_graph}_nsrc1/\",\n",
    "                                        \"data/ann_less_deep/\",\n",
    "                                        #f\"sib/{type_graph}/\",\n",
    "                                        INSTANCES, prefix=name_file,\n",
    "                                        range_confs=confs_load, outprint=False)"
   ]
  },
  {
   "cell_type": "code",
   "execution_count": 34,
   "id": "0e8b7f10-6c9d-4e95-9777-a10df8e23dc2",
   "metadata": {},
   "outputs": [],
   "source": [
    "margs_all[\"ann_3lpow1\"] = load_many_inst(read_results.read_margs_inst,\n",
    "                                        #\"sib/{type_graph}_nsrc1/\",\n",
    "                                        \"data/ann_3lpow1/\",\n",
    "                                        #f\"sib/{type_graph}/\",\n",
    "                                        INSTANCES, prefix=name_file,\n",
    "                                        range_confs=confs_load, outprint=False)"
   ]
  },
  {
   "cell_type": "code",
   "execution_count": 35,
   "id": "79167a00-f694-4f1e-a6be-a1c56c48294b",
   "metadata": {},
   "outputs": [],
   "source": [
    "pars_run[\"ann_3lpow1\"] = load_many_inst(read_results.read_params_inst,\n",
    "              \"data/ann_3lpow1/\",\n",
    "              INSTANCES,prefix=name_file,\n",
    "            range_confs=confs_load, outprint=False)"
   ]
  },
  {
   "cell_type": "code",
   "execution_count": 36,
   "id": "05e6115e-1be3-4b2a-8a7d-f91d5cfcd444",
   "metadata": {},
   "outputs": [],
   "source": [
    "pars_run[\"ann_less_deep\"] = load_many_inst(read_results.read_params_inst,\n",
    "              \"data/ann_less_deep/\",\n",
    "              INSTANCES,prefix=name_file,\n",
    "            range_confs=confs_load, outprint=False)"
   ]
  },
  {
   "cell_type": "markdown",
   "id": "ccef6b50-a8d0-41df-b7a7-952d15298513",
   "metadata": {},
   "source": [
    "## ANN 1 neigh"
   ]
  },
  {
   "cell_type": "code",
   "execution_count": 89,
   "id": "0db2253a-a7a7-44ad-b4f3-353257d13285",
   "metadata": {},
   "outputs": [],
   "source": [
    "margs_all[\"ann_3lpow1_1neigh\"] = load_many_inst(read_results.read_margs_inst,\n",
    "                                        #\"sib/{type_graph}_nsrc1/\",\n",
    "                                        \"data/ann_3lpow1_only_neigh/\",\n",
    "                                        #f\"sib/{type_graph}/\",\n",
    "                                        INSTANCES, prefix=name_file,\n",
    "                                        range_confs=confs_load, outprint=False)"
   ]
  },
  {
   "cell_type": "code",
   "execution_count": 38,
   "id": "b472cfe7-d889-46ca-8696-447a9b5456fa",
   "metadata": {},
   "outputs": [],
   "source": [
    "pars_run[\"ann_3lpow1_1neigh\"] = load_many_inst(read_results.read_params_inst,\n",
    "              \"data/ann_3lpow1_only_neigh/\",\n",
    "              INSTANCES,prefix=name_file,\n",
    "            range_confs=confs_load, outprint=False)"
   ]
  },
  {
   "cell_type": "code",
   "execution_count": null,
   "id": "76723c53-44c7-400c-8ead-51c8a102386a",
   "metadata": {},
   "outputs": [],
   "source": []
  },
  {
   "cell_type": "code",
   "execution_count": null,
   "id": "e10cf518-53b5-40ed-9b5a-ec50d6b4923d",
   "metadata": {},
   "outputs": [],
   "source": []
  },
  {
   "cell_type": "markdown",
   "id": "e9d04c7a-e45d-4b9b-af26-3f7cf968f90e",
   "metadata": {},
   "source": [
    "## Soft Margin"
   ]
  },
  {
   "cell_type": "code",
   "execution_count": 39,
   "id": "2387f9d9-3df9-4402-9177-a3c5f7a5a242",
   "metadata": {},
   "outputs": [],
   "source": [
    "from pathlib import Path"
   ]
  },
  {
   "cell_type": "code",
   "execution_count": 40,
   "id": "3faa75d9-c431-4a95-891d-c8e05e94ee2c",
   "metadata": {},
   "outputs": [],
   "source": [
    "from soft_margin.saving import load_data_softmargin"
   ]
  },
  {
   "cell_type": "code",
   "execution_count": 41,
   "id": "3b3f13aa-c07f-4465-856c-435dd0894d96",
   "metadata": {},
   "outputs": [],
   "source": [
    "def load_softm_res(instance, path_fold, nsim_r, verbose=False):\n",
    "    smfold=Path(path_fold)\n",
    "    base_file_name = (smfold / (str(instance)+f\"_nc_1_softm_nsims_{nsim_r}_rep_0\")).as_posix()\n",
    "    if verbose: print(base_file_name)\n",
    "    res = load_data_softmargin(base_file_name)\n",
    "    return res"
   ]
  },
  {
   "cell_type": "code",
   "execution_count": 42,
   "id": "554c4d5f-92e1-4aeb-83ae-dc4be7e5c5d2",
   "metadata": {},
   "outputs": [],
   "source": [
    "from collections import defaultdict"
   ]
  },
  {
   "cell_type": "code",
   "execution_count": 43,
   "id": "b4a0e176-c621-4503-b850-84849b3a05a6",
   "metadata": {},
   "outputs": [],
   "source": [
    "softm_data = defaultdict(dict)\n",
    "probs_softm = defaultdict(dict)"
   ]
  },
  {
   "cell_type": "code",
   "execution_count": 44,
   "id": "0696e607-6e96-4405-a685-1ab4b6204b29",
   "metadata": {},
   "outputs": [],
   "source": [
    "nsims_softm=[int(1e6), int(1e7), int(1e8)]"
   ]
  },
  {
   "cell_type": "code",
   "execution_count": 45,
   "id": "9bfe2e58-f9b8-4f9c-9dd5-0292c20fd4b4",
   "metadata": {},
   "outputs": [],
   "source": [
    "for s, inst in INSTANCES.items():\n",
    "    for nsim in nsims_softm:\n",
    "        #print(s, nsim)\n",
    "        softm_data[s][nsim]=load_softm_res(inst, \"data/sm_redo_s/\", nsim, verbose=False)\n",
    "        x = softm_data[s][nsim][1]\n",
    "        probs_softm[s][nsim] = [x[v] for v in sorted(x.keys())]"
   ]
  },
  {
   "cell_type": "markdown",
   "id": "7094b89e-e25c-4515-b84b-4570f2f3a1f4",
   "metadata": {},
   "source": [
    "### NN parameters"
   ]
  },
  {
   "cell_type": "code",
   "execution_count": null,
   "id": "07c32d4d-9641-46a9-939b-725adfd1f8df",
   "metadata": {},
   "outputs": [],
   "source": []
  },
  {
   "cell_type": "code",
   "execution_count": null,
   "id": "d1ae1623-f0b3-41cb-9a29-2c3b3979cc67",
   "metadata": {},
   "outputs": [],
   "source": [
    "{k: [g[\"all_graph_neighs\"] for g in v]\n",
    " for k,v in pars_run[\"ann_3lpow1_alln\"].items()}"
   ]
  },
  {
   "cell_type": "code",
   "execution_count": null,
   "id": "e6e83ae9-a2c4-41b5-84aa-410de257ff6b",
   "metadata": {},
   "outputs": [],
   "source": [
    "{k: [g[\"all_graph_neighs\"] for g in v]\n",
    " for k,v in pars_run[\"ann_3lpow1_alln\"].items()}"
   ]
  },
  {
   "cell_type": "code",
   "execution_count": 81,
   "id": "8a527c79-1034-4389-b791-84af151dabbc",
   "metadata": {},
   "outputs": [
    {
     "data": {
      "text/plain": [
       "False"
      ]
     },
     "execution_count": 81,
     "metadata": {},
     "output_type": "execute_result"
    }
   ],
   "source": [
    "np.all(\n",
    "    np.array(tuple([g[\"all_graph_neighs\"] for g in v]\n",
    " for k,v in pars_run[\"ann_3lpow1\"].items()))\n",
    ")"
   ]
  },
  {
   "cell_type": "code",
   "execution_count": 46,
   "id": "f02e41f7-34c7-4739-b706-a8c6e5068001",
   "metadata": {},
   "outputs": [],
   "source": [
    "pars_3lpow1 = np.array(tuple([g[\"extra\"][\"num_parameters\"] for g in v]\n",
    " for k,v in pars_run[\"ann_3lpow1\"].items()))\n"
   ]
  },
  {
   "cell_type": "code",
   "execution_count": 47,
   "id": "bfa868bc-4913-46d7-bf9d-3ab640f52eca",
   "metadata": {},
   "outputs": [],
   "source": [
    "pars_less_deep = np.array(tuple([g[\"extra\"][\"num_parameters\"] for g in v]\n",
    " for k,v in pars_run[\"ann_less_deep\"].items()))\n"
   ]
  },
  {
   "cell_type": "code",
   "execution_count": 48,
   "id": "99ee07ed-c8df-4504-9154-9250f1a2a32d",
   "metadata": {},
   "outputs": [],
   "source": [
    "pars_3lpow1_alln = np.array(tuple([g[\"extra\"][\"num_parameters\"] for g in v]\n",
    " for k,v in pars_run[\"ann_3lpow1_alln\"].items()))\n"
   ]
  },
  {
   "cell_type": "code",
   "execution_count": 49,
   "id": "396d9899-5d03-4dcb-85be-ef162dd3184d",
   "metadata": {},
   "outputs": [],
   "source": [
    "num_pars_all = {nam:\n",
    "    np.array(tuple([g[\"extra\"][\"num_parameters\"] for g in v]\n",
    "     for k,v in paaa.items()))\n",
    "                for nam,paaa in pars_run.items()\n",
    "}"
   ]
  },
  {
   "cell_type": "code",
   "execution_count": 157,
   "id": "aae861f3-bae4-4a15-abfd-56cf06e01df8",
   "metadata": {},
   "outputs": [],
   "source": [
    "pars_ratio  = pars_3lpow1_alln/pars_3lpow1"
   ]
  },
  {
   "cell_type": "code",
   "execution_count": 159,
   "id": "366a59d9-0bdc-4a8f-bb38-cc36b865b5f5",
   "metadata": {},
   "outputs": [
    {
     "data": {
      "text/plain": [
       "(1.3776427793136943, 0.01725218323722693)"
      ]
     },
     "execution_count": 159,
     "metadata": {},
     "output_type": "execute_result"
    }
   ],
   "source": [
    "np.mean(pars_ratio), np.std(pars_ratio) / np.sqrt(np.prod(pars_ratio.shape))"
   ]
  },
  {
   "cell_type": "code",
   "execution_count": null,
   "id": "2677f128-e660-4a6a-85cb-44366455b80b",
   "metadata": {},
   "outputs": [],
   "source": []
  },
  {
   "cell_type": "code",
   "execution_count": 55,
   "id": "7f9639f3-d39f-49ce-8b1a-f8974d2bf07d",
   "metadata": {},
   "outputs": [],
   "source": [
    "N_inf_arr = np.array([N_inf[k] for k in sorted(N_inf.keys())]).flatten()\n",
    "\n",
    "idx_sort_Ninf = np.argsort(N_inf_arr)"
   ]
  },
  {
   "cell_type": "code",
   "execution_count": 56,
   "id": "81def785-d221-4709-bdfc-3f185dbe4128",
   "metadata": {},
   "outputs": [],
   "source": [
    "from analysis.results_analysis import fit_power_law"
   ]
  },
  {
   "cell_type": "code",
   "execution_count": 240,
   "id": "09b74b1c-0b4a-44b9-aa89-c117312c8423",
   "metadata": {},
   "outputs": [
    {
     "data": {
      "image/png": "[encoded data removed]",
      "text/plain": [
       "<Figure size 576x360 with 1 Axes>"
      ]
     },
     "metadata": {
      "needs_background": "light"
     },
     "output_type": "display_data"
    }
   ],
   "source": [
    "plt.figure(figsize=(8,5))\n",
    "xplt = N_inf_arr[idx_sort_Ninf]\n",
    "l, = plt.plot(xplt, pars_3lpow1.flatten()[idx_sort_Ninf], \"*\",\n",
    "        label=\"ANN 3lpow1\")\n",
    "lim = 10\n",
    "pars1 = fit_power_law(N_inf_arr[N_inf_arr>lim], pars_3lpow1[N_inf_arr>lim].flatten())\n",
    "x1 = xplt[xplt>lim]\n",
    "plt.plot(x1,x1**pars1[0]*pars1[1],\"--\", color=l.get_color(), \n",
    "         label=\"fit of 3lpow1, $y=a x ^ b$,$b={:.3f}$\".format(pars1[0]))\n",
    "l, = plt.plot(N_inf_arr[idx_sort_Ninf], pars_3lpow1_alln.flatten()[idx_sort_Ninf], \"+\",\n",
    "        label=\"ANN_3lpow1 all graph\")\n",
    "pars1 = fit_power_law(N_inf_arr[N_inf_arr>lim], pars_3lpow1_alln[N_inf_arr>lim].flatten())\n",
    "x1 = xplt[xplt>lim]\n",
    "plt.plot(x1,x1**pars1[0]*pars1[1], \"--\",color=l.get_color(), \n",
    "         label=\"fit of allneigh, $y=a x ^ b$,$b={:.3f}$\".format(pars1[0]))\n",
    "\n",
    "#l, = plt.plot(xplt, pars_less_deep.flatten()[idx_sort_Ninf], \"+\",\n",
    "#        label=\"ANN less deep\")\n",
    "#plt.yscale(\"log\")\n",
    "#plt.xscale(\"log\")\n",
    "plt.legend()\n",
    "plt.ylabel(\"Number of parameters\")\n",
    "plt.xlabel(\"Number of infected\")\n",
    "#plt.grid(which=\"both\", linestyle=\"--\")\n",
    "plt.savefig(\"num_pars.svg\",bbox_inches=\"tight\")"
   ]
  },
  {
   "cell_type": "code",
   "execution_count": 58,
   "id": "c0f16e90-cb1b-439f-b910-90f7d4050fc8",
   "metadata": {},
   "outputs": [
    {
     "data": {
      "image/png": "[encoded data removed]",
      "text/plain": [
       "<Figure size 576x360 with 1 Axes>"
      ]
     },
     "metadata": {
      "needs_background": "light"
     },
     "output_type": "display_data"
    }
   ],
   "source": [
    "plt.figure(figsize=(8,5))\n",
    "xplt = N_inf_arr[idx_sort_Ninf]\n",
    "for k, label in zip([\"ann_3lpow1_1neigh\",\"ann_3lpow1\", \"ann_3lpow1_alln\"],\n",
    "                   [\"nearest neigh\",\"next n. neigh\",\"all graph\"]):\n",
    "    nprs=num_pars_all[k]\n",
    "    l, = plt.plot(xplt, nprs.flatten()[idx_sort_Ninf], \"*\",\n",
    "            label=label)\n",
    "    lim = 10\n",
    "    pars1 = fit_power_law(N_inf_arr[N_inf_arr>lim], nprs[N_inf_arr>lim].flatten())\n",
    "    x1 = xplt[xplt>lim]\n",
    "    plt.plot(x1,x1**pars1[0]*pars1[1],\"--\", color=l.get_color(), \n",
    "             label=\"fit of {}, $y=a x ^ b$,$b={:.3f}$\".format(label,pars1[0]))\n",
    "\n",
    "plt.yscale(\"log\")\n",
    "#plt.xscale(\"log\")\n",
    "plt.legend()\n",
    "plt.ylabel(\"Number of parameters\")\n",
    "plt.xlabel(\"Number of infected\")\n",
    "#plt.grid(which=\"both\", linestyle=\"--\")\n",
    "plt.savefig(\"num_pars.svg\",bbox_inches=\"tight\")"
   ]
  },
  {
   "cell_type": "code",
   "execution_count": 204,
   "id": "18cc4ec6-3d0e-453e-83b2-687c39ce7493",
   "metadata": {},
   "outputs": [
    {
     "data": {
      "text/plain": [
       "'#1f77b4'"
      ]
     },
     "execution_count": 204,
     "metadata": {},
     "output_type": "execute_result"
    }
   ],
   "source": [
    "l.get_color()"
   ]
  },
  {
   "cell_type": "code",
   "execution_count": 238,
   "id": "a2963dd3-e02a-4aec-88f9-6074eb24b253",
   "metadata": {},
   "outputs": [
    {
     "data": {
      "text/plain": [
       "(2.9913372015905235,\n",
       " 132.37814431442447,\n",
       " 0.0288240118190936,\n",
       " 15.026744429359217)"
      ]
     },
     "execution_count": 238,
     "metadata": {},
     "output_type": "execute_result"
    }
   ],
   "source": [
    "pars1"
   ]
  },
  {
   "cell_type": "markdown",
   "id": "74d549d8-8ecf-4e84-ab08-3e1fb4be5039",
   "metadata": {},
   "source": [
    "## Patient zero"
   ]
  },
  {
   "cell_type": "code",
   "execution_count": 59,
   "id": "0f5e906a-2161-48e8-841e-e2b3718a7a20",
   "metadata": {},
   "outputs": [],
   "source": [
    "def get_random_margs():\n",
    "    x = np.random.rand(N,t_limit+1,3)\n",
    "    return x / x.sum(-1)[...,np.newaxis]\n",
    "\n",
    "margs_all[\"random\"] = {s: [get_random_margs() for _ in range(start_conf, start_conf+num_conf)]\n",
    "                      for s in DATA_ALL.keys()}"
   ]
  },
  {
   "cell_type": "code",
   "execution_count": 60,
   "id": "e084539c-e5fb-41d4-ae95-3c7562f2e383",
   "metadata": {},
   "outputs": [],
   "source": [
    "sources = {s:\n",
    "    np.stack( [np.where(np.array(c[0])==1)[0] for c in mdata[\"test\"] ])\n",
    "           for s, mdata in DATA_ALL.items()}"
   ]
  },
  {
   "cell_type": "code",
   "execution_count": 61,
   "id": "f9109fe5-ef74-4db5-8d68-6bdd7398696f",
   "metadata": {},
   "outputs": [],
   "source": [
    "SOURCE_CANDIDS = {s:\n",
    "     [np.where(np.array(c[1])!=0)[0] for c in mdata[\"test\"] ]\n",
    "           for s, mdata in DATA_ALL.items()}"
   ]
  },
  {
   "cell_type": "code",
   "execution_count": 62,
   "id": "28ae1d00-c860-45d7-bea2-8a72e0a73d09",
   "metadata": {},
   "outputs": [],
   "source": [
    "from sklearn.metrics import auc, roc_curve"
   ]
  },
  {
   "cell_type": "code",
   "execution_count": 63,
   "id": "08a26fa7-a7e8-481c-bc86-2f74da4159a2",
   "metadata": {},
   "outputs": [],
   "source": [
    "def get_source_rank(m, msources):\n",
    "    psources = m[:,0,1]\n",
    "    idx=psources.argsort()[::-1]\n",
    "\n",
    "    rg = sum(((idx == s for s in msources)))\n",
    "    #print(rg)\n",
    "    return rg.cumsum()\n",
    "\n",
    "def get_sources_auc(m, msources, m_psrc=False):\n",
    "    \n",
    "    if m_psrc: \n",
    "        psources = m\n",
    "    else:\n",
    "        psources = m[:,0,1]\n",
    "\n",
    "    idx=psources.argsort()[::-1]\n",
    "    truey = np.zeros(psources.shape, dtype=int)\n",
    "    #rg = sum(((idx == s for s in msources)))\n",
    "    truey[msources] = 1\n",
    "    #print(rg)\n",
    "    fpr,tpr,thr= roc_curve(truey, psources)#rg.cumsum()\n",
    "    return auc(fpr,tpr)"
   ]
  },
  {
   "cell_type": "code",
   "execution_count": 64,
   "id": "dd7549d6-7f2d-4a7a-991d-fb44c6b33433",
   "metadata": {},
   "outputs": [],
   "source": [
    "def get_sources_auc_cands(m, msources, cands, m_psrc=False):\n",
    "    \n",
    "    if m_psrc: \n",
    "        psrc = m\n",
    "    else:\n",
    "        psrc = m[:,0,1]\n",
    "    \n",
    "    psources = psrc[cands]\n",
    "\n",
    "    truey = sum(cands == s for s in msources)\n",
    "    #print(rg)\n",
    "    fpr,tpr,thr= roc_curve(truey, psources)#rg.cumsum()\n",
    "    return auc(fpr,tpr)"
   ]
  },
  {
   "cell_type": "code",
   "execution_count": null,
   "id": "12ea7805-8867-437e-8056-66ca3f1bad0f",
   "metadata": {},
   "outputs": [],
   "source": []
  },
  {
   "cell_type": "code",
   "execution_count": 65,
   "id": "d49632d5-3143-4dd5-bbaa-5a2ab86e40f9",
   "metadata": {},
   "outputs": [],
   "source": [
    "def get_source_posit(m, msources):\n",
    "    psources = m[:,0,1]\n",
    "    idx=psources.argsort()[::-1]\n",
    "    pos = [np.argmax(idx == s) for s in msources]\n",
    "    return pos"
   ]
  },
  {
   "cell_type": "code",
   "execution_count": 66,
   "id": "e28696b9-fe75-49bd-b476-040edebcfacd",
   "metadata": {},
   "outputs": [],
   "source": [
    "def get_source_rank_probs(psources, msources):\n",
    "    idx=psources.argsort()[::-1]\n",
    "    #print(idx.shape)\n",
    "\n",
    "    rg = sum((idx == s for s in msources))\n",
    "    #print(rg)\n",
    "    #print(rg.shape)\n",
    "    #print(np.where(idx==msources[0]))\n",
    "    return rg.cumsum(-1)"
   ]
  },
  {
   "cell_type": "code",
   "execution_count": 82,
   "id": "ae4fc13e-1ad7-4bb6-8f79-4aa37fa24d1e",
   "metadata": {},
   "outputs": [],
   "source": [
    "ranks_softm = {}\n",
    "for nsim in nsims_softm:\n",
    "    \n",
    "    source_found = np.stack([\n",
    "                    [\n",
    "                        [\n",
    "                            get_source_rank_probs(x, inst_src) #for x  in\n",
    "                            for x in probs_softm[seed][nsim][i]\n",
    "                        ]\n",
    "                        for i, inst_src in enumerate(srcs)\n",
    "                    ]\n",
    "                    for seed, srcs in sources.items()\n",
    "                ])\n",
    "    #print(source_found.shape)\n",
    "    #print(source_found)\n",
    "    \n",
    "    ranks_softm[nsim] = source_found.sum(0).sum(0)\n",
    "    #print(ranks_softm)\n",
    "    #break\n"
   ]
  },
  {
   "cell_type": "code",
   "execution_count": 83,
   "id": "24d2749e-dc54-4542-83bc-ee013397ea2d",
   "metadata": {},
   "outputs": [],
   "source": [
    "from analysis.sources import get_src_posit_obs_margs\n",
    "\n",
    "from utils.common import pretty_print_n"
   ]
  },
  {
   "cell_type": "markdown",
   "id": "7674d0a7-a79f-49c8-8e93-eecd16397294",
   "metadata": {},
   "source": [
    "#### Run"
   ]
  },
  {
   "cell_type": "code",
   "execution_count": 91,
   "id": "ea8f5e7d-b297-40cc-ae18-f737183cbc2c",
   "metadata": {},
   "outputs": [],
   "source": [
    "pzero_accu = {name: \n",
    "            np.stack([\n",
    "                np.array([get_source_rank(m,source) \n",
    "                          for m, source in zip(marg[s], sources[s])])\n",
    "                for s in sources.keys()\n",
    "            ]).sum(0).sum(0)\n",
    "            for name, marg in margs_all.items()}"
   ]
  },
  {
   "cell_type": "code",
   "execution_count": 92,
   "id": "6fbcefd6-ca55-4a2f-b0f5-04ce19053e37",
   "metadata": {},
   "outputs": [],
   "source": [
    "pzero_pos_scaled = {name: \n",
    "            np.stack([\n",
    "                np.array([get_src_posit_obs_margs(m,source, candids) \n",
    "                 for m, source, candids in zip(marg[s], sources[s], SOURCE_CANDIDS[s])])\n",
    "                for s in sorted(sources.keys())\n",
    "            ])\n",
    "            for name, marg in margs_all.items()}"
   ]
  },
  {
   "cell_type": "code",
   "execution_count": 93,
   "id": "5d5d80fd-2117-4c4f-ba58-1ffd376799ba",
   "metadata": {},
   "outputs": [],
   "source": [
    "pzero_pos_softm = {nsi: \n",
    "            np.stack([\n",
    "                np.array([\n",
    "                    [get_src_posit_obs_margs(np.stack((np.zeros_like(m),m),axis=1)[:,np.newaxis]\n",
    "                                                  ,source, candids)\n",
    "                          for m in probs]\n",
    "                 for probs, source, candids in zip(probs_softm[s][nsi], sources[s], SOURCE_CANDIDS[s])])\n",
    "                for s in sorted(sources.keys())\n",
    "            ])\n",
    "            for nsi in nsims_softm}"
   ]
  },
  {
   "cell_type": "code",
   "execution_count": 94,
   "id": "55755191-8169-4b8f-bda5-1ab6b1d39b80",
   "metadata": {},
   "outputs": [
    {
     "data": {
      "text/plain": [
       "<module 'analysis.generic' from '../../../src/analysis/generic.py'>"
      ]
     },
     "execution_count": 94,
     "metadata": {},
     "output_type": "execute_result"
    }
   ],
   "source": [
    "import analysis.generic as analy\n",
    "reload(analy)"
   ]
  },
  {
   "cell_type": "code",
   "execution_count": 96,
   "id": "a0ce8a9d-0f58-4ad7-9feb-224a8cefaeb5",
   "metadata": {},
   "outputs": [
    {
     "data": {
      "image/png": "[encoded data removed]",
      "text/plain": [
       "<Figure size 576x432 with 1 Axes>"
      ]
     },
     "metadata": {
      "needs_background": "light"
     },
     "output_type": "display_data"
    }
   ],
   "source": [
    "plt.figure(figsize=(8,6))\n",
    "d=analy.make_histo_cumsum(pzero_pos_scaled[\"sib\"],)\n",
    "plt.plot(*d, \"-.\", label=f\"sib -- auc: {auc(*d):.3f}\", linewidth=\"2\")\n",
    "\n",
    "#d=get_curve_all(pzero_pos_scaled[\"ann_old_redo\"], scale=100,)\n",
    "#plt.plot(*d, label=f\"nn old redo -- auc: {auc(*d):.3f}\", linewidth=\"2\")\n",
    "#d=analy.make_histo_cumsum(pzero_pos_scaled[\"ann_less_deep_alln\"],)\n",
    "#plt.plot(*d, label=f\"nn less deep -- auc: {auc(*d):.3f}\", linewidth=\"2\")\n",
    "\n",
    "d=analy.make_histo_cumsum(pzero_pos_scaled[\"ann_3lpow1\"],)\n",
    "plt.plot(*d, label=f\"nn 3lpow1 -- auc: {auc(*d):.3f}\", linewidth=\"2\")\n",
    "d=analy.make_histo_cumsum(pzero_pos_scaled[\"ann_less_deep\"],)\n",
    "plt.plot(*d, label=f\"nn less deep -- auc: {auc(*d):.3f}\", linewidth=\"2\")\n",
    "\n",
    "d=analy.make_histo_cumsum(pzero_pos_scaled[\"ann_3lpow1_alln\"],)\n",
    "plt.plot(*d, \"--\",label=f\"nn 3lpow1 all neighs -- auc: {auc(*d):.3f}\", linewidth=\"2\")\n",
    "#d=analy.make_histo_cumsum(pzero_pos_scaled[\"ann_old\"],)\n",
    "#plt.plot(*d, label=f\"nn old  -- auc: {auc(*d):.3f}\", linewidth=\"2\")\n",
    "\n",
    "d=analy.make_histo_cumsum(pzero_pos_scaled[\"random\"],)\n",
    "plt.plot(*d, \"-.\", label=f\"random -- auc: {auc(*d):.3f}\")\n",
    "#plt.plot(*d, label=f\"nn new -- auc: {auc(*d):.3f}\", linewidth=\"2\")\n",
    "#d=get_curve_all(pzero_pos_scaled[\"ann_new_check\"], scale=100,)\n",
    "#plt.plot(*d, \"--\",label=f\"nn new check -- auc: {auc(*d):.3f}\", linewidth=\"2\")\n",
    "'''\n",
    "softm_pars_idx = 25\n",
    "softm_alpha = softm_data[0][int(1e6)][0][softm_pars_idx]\n",
    "for k in pzero_pos_softm:\n",
    "    print(k)\n",
    "    d=analy.make_histo_cumsum(pzero_pos_softm[k][..., softm_pars_idx],)\n",
    "    plt.plot(*d,\"--\", label=\"sm {} sims -- auc {:.3f}\".format(pretty_print_n(k), auc(*d))) \n",
    "'''\n",
    "plt.legend()\n",
    "plt.ylabel(\"Fraction of patient zeros found on avg\")\n",
    "plt.xlabel(\"Fraction of individuals among I or R\")\n",
    "plt.savefig(\"pzero_accu_IR.svg\", bbox_inches=\"tight\")"
   ]
  },
  {
   "cell_type": "code",
   "execution_count": 98,
   "id": "c219509b-6bd3-4934-90fe-23af242adb6b",
   "metadata": {},
   "outputs": [
    {
     "data": {
      "image/png": "[encoded data removed]",
      "text/plain": [
       "<Figure size 576x432 with 1 Axes>"
      ]
     },
     "metadata": {
      "needs_background": "light"
     },
     "output_type": "display_data"
    }
   ],
   "source": [
    "plt.figure(figsize=(8,6))\n",
    "\n",
    "d=analy.make_histo_cumsum(pzero_pos_scaled[\"sib\"],)\n",
    "plt.plot(*d, \"-.\", label=f\"sib -- auc: {auc(*d):.3f}\", linewidth=\"2\")\n",
    "\n",
    "\n",
    "d=analy.make_histo_cumsum(pzero_pos_scaled[\"ann_3lpow1_1neigh\"],)\n",
    "plt.plot(*d, label=f\"nn 3lpow1 nearest neigh -- auc: {auc(*d):.3f}\", linewidth=\"2\")\n",
    "d=analy.make_histo_cumsum(pzero_pos_scaled[\"ann_3lpow1\"],)\n",
    "plt.plot(*d, label=f\"nn 3lpow1 -- auc: {auc(*d):.3f}\", linewidth=\"2\")\n",
    "\n",
    "d=analy.make_histo_cumsum(pzero_pos_scaled[\"ann_3lpow1_alln\"],)\n",
    "plt.plot(*d, \"--\",label=f\"nn 3lpow1 all neighs -- auc: {auc(*d):.3f}\", linewidth=\"2\")\n",
    "#d=analy.make_histo_cumsum(pzero_pos_scaled[\"ann_old\"],)\n",
    "#plt.plot(*d, label=f\"nn old  -- auc: {auc(*d):.3f}\", linewidth=\"2\")\n",
    "\n",
    "'''\n",
    "softm_pars_idx = 25\n",
    "softm_alpha = softm_data[0][int(1e6)][0][softm_pars_idx]\n",
    "for k in pzero_pos_softm:\n",
    "    print(k)\n",
    "    d=analy.make_histo_cumsum(pzero_pos_softm[k][..., softm_pars_idx],)\n",
    "    plt.plot(*d,\"--\", label=\"sm {} sims -- auc {:.3f}\".format(pretty_print_n(k), auc(*d))) \n",
    "'''\n",
    "plt.legend()\n",
    "plt.ylabel(\"Fraction of patient zeros found on avg\")\n",
    "plt.xlabel(\"Fraction of individuals among I or R\")\n",
    "plt.savefig(\"pzero_accu_IR.svg\", bbox_inches=\"tight\")"
   ]
  },
  {
   "cell_type": "code",
   "execution_count": 99,
   "id": "22eda897-1bc6-4d0d-bb51-3035dccc27f6",
   "metadata": {},
   "outputs": [],
   "source": [
    "pzero_auc = {name: \n",
    "            np.stack([\n",
    "                np.array([get_sources_auc(m,source) for m, source in zip(marg[s], sources[s])])\n",
    "                for s in sources.keys()\n",
    "            ]).mean(-1)\n",
    "            for name, marg in margs_all.items()}"
   ]
  },
  {
   "cell_type": "code",
   "execution_count": 100,
   "id": "7de0af23-a0ff-487b-93dd-3c00be47bebe",
   "metadata": {},
   "outputs": [],
   "source": [
    "pzero_auc_onlyI = {name: \n",
    "            np.stack([\n",
    "                np.array([get_sources_auc_cands(m,source, cds) for m, source, cds in zip(marg[s], sources[s], SOURCE_CANDIDS[s])])\n",
    "                for s in sources.keys()\n",
    "            ]).mean(-1)\n",
    "            for name, marg in margs_all.items()}"
   ]
  },
  {
   "cell_type": "code",
   "execution_count": 101,
   "id": "fdc1bbf2-8af0-4fea-b2d3-7711837f9a58",
   "metadata": {},
   "outputs": [
    {
     "name": "stdout",
     "output_type": "stream",
     "text": [
      "ann_3lpow1, 0.832 \\pm 0.021 \n",
      "ann_3lpow1_1neigh, 0.799 \\pm 0.023 \n",
      "ann_3lpow1_alln, 0.830 \\pm 0.022 \n",
      "ann_less_deep, 0.828 \\pm 0.021 \n",
      "random, 0.547 \\pm 0.029 \n",
      "sib, 0.828 \\pm 0.019 \n"
     ]
    }
   ],
   "source": [
    "for k in sorted(pzero_auc.keys()):\n",
    "    aal = pzero_auc[k]\n",
    "    print(\"{}, {:4.3f} \\pm {:4.3f} \".format(\n",
    "        k, np.nanmean(aal), np.nanstd(aal)/np.sqrt(np.prod(aal.shape)-np.isnan(aal).sum()))\n",
    "    )\n",
    "    #plt.plot(aal, label=k)\n",
    "    \n",
    "#plt.legend()"
   ]
  },
  {
   "cell_type": "code",
   "execution_count": 102,
   "id": "e5bbfc0b-eb49-4e7d-bb5e-d67c13df67a6",
   "metadata": {},
   "outputs": [
    {
     "name": "stdout",
     "output_type": "stream",
     "text": [
      "ann_3lpow1, 0.724 \\pm 0.029 \n",
      "ann_3lpow1_1neigh, 0.666 \\pm 0.030 \n",
      "ann_3lpow1_alln, 0.724 \\pm 0.029 \n",
      "ann_less_deep, 0.718 \\pm 0.030 \n",
      "random, 0.544 \\pm 0.029 \n",
      "sib, 0.680 \\pm 0.026 \n"
     ]
    }
   ],
   "source": [
    "for k in sorted(pzero_auc.keys()):\n",
    "    aal = pzero_auc_onlyI[k]\n",
    "    print(\"{}, {:4.3f} \\pm {:4.3f} \".format(\n",
    "        k, np.nanmean(aal), np.nanstd(aal)/np.sqrt(np.prod(aal.shape)-np.isnan(aal).sum()))\n",
    "    )\n",
    "    #plt.plot(aal, label=k)\n",
    "    "
   ]
  },
  {
   "cell_type": "code",
   "execution_count": 103,
   "id": "e96e5a64-b4a2-4dfc-8a7a-a2cd1a3b6fc7",
   "metadata": {},
   "outputs": [],
   "source": [
    "softm_pzero_auc = {nsim: \n",
    "            np.stack([\n",
    "                np.array([ [get_sources_auc(p,source,m_psrc=True) for p in m]\n",
    "                          for m, source in zip(probs_softm[s][nsim], sources[s])])\n",
    "                for s in sources.keys()\n",
    "            ])\n",
    "            for nsim in nsims_softm}"
   ]
  },
  {
   "cell_type": "code",
   "execution_count": 104,
   "id": "47289ac2-8626-45b8-af9f-1e372a33bcaa",
   "metadata": {},
   "outputs": [],
   "source": [
    "softm_pzero_auc_onlyI = {nsim: \n",
    "            np.stack([\n",
    "                np.array([ [get_sources_auc_cands(p,source,cds,m_psrc=True) for p in m] \n",
    "                          for m, source, cds in zip(probs_softm[s][nsim], sources[s],  SOURCE_CANDIDS[s])])\n",
    "                for s in sources.keys()\n",
    "            ])\n",
    "            for nsim in nsims_softm}"
   ]
  },
  {
   "cell_type": "code",
   "execution_count": 110,
   "id": "441aa9bd-4cbe-4682-9cad-aff865f14645",
   "metadata": {},
   "outputs": [
    {
     "name": "stdout",
     "output_type": "stream",
     "text": [
      "1000000\n",
      "10000000\n",
      "100000000\n"
     ]
    },
    {
     "data": {
      "image/png": "[encoded data removed]",
      "text/plain": [
       "<Figure size 576x432 with 1 Axes>"
      ]
     },
     "metadata": {
      "needs_background": "light"
     },
     "output_type": "display_data"
    }
   ],
   "source": [
    "plt.figure(figsize=(8,6))\n",
    "#for name,x in avg_count_probs.items():\n",
    "#    plt.plot(x, label=name)\n",
    "#    print()\n",
    "#for name,x in avg_count_risk.items():\n",
    "#    plt.plot(x, label=name)\n",
    "#plt.plot(ul.mean(0))\n",
    "x_data = np.arange(N)\n",
    "#plt.plot(x_data,pzero_accu[\"sib_psus60\"], \"--\",label=\"BP\")\n",
    "plt.plot(x_data,pzero_accu[\"sib\"], \"--\",label=\"sib\")\n",
    "#, auc: {:4.3f}\".format(auc_risk2[\"sib_psus60\"]))\n",
    "l = \"ann_\"\n",
    "\n",
    "plt.plot(x_data,pzero_accu[\"ann_3lpow1\"], label=\"ann 3lpow1\")\n",
    "#plt.plot(x_data,pzero_accu[\"ann_new\"], label=\"ann_new\")\n",
    "#plt.plot(x_data,pzero_accu[\"ann_new_check\"], label=\"ann_new all nodes\")\n",
    "\n",
    "#plt.plot(x_data,pzero_accu[\"ann_old_redo\"], label=\"ann_old redo\")\n",
    "\n",
    "plt.plot(x_data,pzero_accu[\"random\"],\"-.\", label=\"random\")\n",
    "softm_pars_idx = 25\n",
    "softm_alpha = softm_data[0][int(1e6)][0][softm_pars_idx]\n",
    "for k in ranks_softm:\n",
    "    print(k)\n",
    "    plt.plot(x_data,ranks_softm[k][softm_pars_idx],\"--\", label=\"sm {} sims\".format(pretty_print_n(k)))\n",
    "\n",
    "\n",
    "plt.legend()\n",
    "plt.ylabel(\"Sources found (cumulative)\")\n",
    "plt.xlabel(\"N individuals\")\n",
    "plt.grid(linestyle=\"--\")"
   ]
  },
  {
   "cell_type": "code",
   "execution_count": 106,
   "id": "35bd0e0f-8311-42be-8b8e-e8225a81278a",
   "metadata": {},
   "outputs": [],
   "source": [
    "softm_alphas=softm_data[0][int(1e6)][0]"
   ]
  },
  {
   "cell_type": "code",
   "execution_count": 107,
   "id": "8c9b4ee9-1cb3-4234-a69c-2d62ed0c44e5",
   "metadata": {},
   "outputs": [
    {
     "data": {
      "text/plain": [
       "<matplotlib.legend.Legend at 0x7f6a884a3af0>"
      ]
     },
     "execution_count": 107,
     "metadata": {},
     "output_type": "execute_result"
    },
    {
     "data": {
      "image/png": "[encoded data removed]",
      "text/plain": [
       "<Figure size 432x288 with 1 Axes>"
      ]
     },
     "metadata": {
      "needs_background": "light"
     },
     "output_type": "display_data"
    }
   ],
   "source": [
    "for k in softm_pzero_auc:\n",
    "    plt.plot(softm_pzero_auc[k].mean(0).flatten(), \"*-\", label=pretty_print_n(k))\n",
    "plt.hlines(pzero_auc[\"sib\"].mean(), 0, 30, colors=\"orange\", linestyles=\"dotted\")\n",
    "\n",
    "#plt.hlines(pzero_auc[\"sib\"].mean(), 0, 30, colors=\"black\", linestyles=\"dashed\")\n",
    "plt.legend()"
   ]
  },
  {
   "cell_type": "code",
   "execution_count": 108,
   "id": "87f13f67-ea20-415a-baab-286cfcbf06b4",
   "metadata": {},
   "outputs": [
    {
     "data": {
      "text/plain": [
       "Text(0, 0.5, 'AUCs in finding the source (between I/R)')"
      ]
     },
     "execution_count": 108,
     "metadata": {},
     "output_type": "execute_result"
    },
    {
     "data": {
      "image/png": "[encoded data removed]",
      "text/plain": [
       "<Figure size 504x360 with 1 Axes>"
      ]
     },
     "metadata": {
      "needs_background": "light"
     },
     "output_type": "display_data"
    }
   ],
   "source": [
    "plt.figure(figsize=(7,5))\n",
    "x=softm_alphas\n",
    "for k in softm_pzero_auc_onlyI:\n",
    "    plt.plot(x,softm_pzero_auc_onlyI[k].mean(0).flatten(), \"*-\", label=pretty_print_n(k))\n",
    "\n",
    "xlims=plt.gca().get_xlim()\n",
    "plt.hlines(pzero_auc_onlyI[\"sib\"].mean(), min(x), max(x), colors=\"orange\", linestyles=\"dotted\", label=\"sib\")\n",
    "\n",
    "#plt.hlines(pzero_auc_onlyI[\"ann_old\"].mean(), min(x), max(x), colors=\"black\", linestyles=\"dashed\", label=\"ANN\")\n",
    "plt.legend(loc=\"lower right\")\n",
    "plt.xlim(xlims)\n",
    "plt.xlabel(\"Soft margin $\\\\alpha$\")\n",
    "plt.ylabel(\"AUCs in finding the source (between I/R)\")"
   ]
  },
  {
   "cell_type": "code",
   "execution_count": null,
   "id": "1dbb3f88-b702-45f8-a2d8-2a5a6018e8e2",
   "metadata": {},
   "outputs": [],
   "source": []
  }
 ],
 "metadata": {
  "kernelspec": {
   "display_name": "Python 3.8 (torche)",
   "language": "python",
   "name": "python38torche"
  },
  "language_info": {
   "codemirror_mode": {
    "name": "ipython",
    "version": 3
   },
   "file_extension": ".py",
   "mimetype": "text/x-python",
   "name": "python",
   "nbconvert_exporter": "python",
   "pygments_lexer": "ipython3",
   "version": "3.8.8"
  }
 },
 "nbformat": 4,
 "nbformat_minor": 5
}
