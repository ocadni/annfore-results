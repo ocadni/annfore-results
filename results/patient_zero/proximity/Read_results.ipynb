{
 "cells": [
  {
   "cell_type": "markdown",
   "id": "palestinian-elite",
   "metadata": {},
   "source": [
    "## Parse results from algos"
   ]
  },
  {
   "cell_type": "code",
   "execution_count": 1,
   "id": "rubber-brazilian",
   "metadata": {},
   "outputs": [],
   "source": [
    "import numpy as np\n",
    "import numba as nb\n",
    "import pandas as pd\n",
    "\n",
    "import matplotlib.pyplot as plt\n",
    "\n",
    "import sys\n",
    "sys.path.insert(0, '../../../src')\n",
    "import networkx as nx"
   ]
  },
  {
   "cell_type": "code",
   "execution_count": 2,
   "id": "informal-vegetation",
   "metadata": {},
   "outputs": [],
   "source": [
    "import io_m.libsaving as libsaving\n",
    "import io_m.io_utils as io_utils\n",
    "\n",
    "from importlib import reload"
   ]
  },
  {
   "cell_type": "code",
   "execution_count": 3,
   "id": "fleet-hardwood",
   "metadata": {},
   "outputs": [],
   "source": [
    "from epigen import epidemy_gen"
   ]
  },
  {
   "cell_type": "code",
   "execution_count": 4,
   "id": "8be48b9d-7f9d-42e3-8be4-02e9e834e102",
   "metadata": {},
   "outputs": [],
   "source": [
    "from epigen.base import EpInstance"
   ]
  },
  {
   "cell_type": "code",
   "execution_count": 5,
   "id": "cordless-transport",
   "metadata": {},
   "outputs": [],
   "source": [
    "type_graph=\"proximity\"\n",
    "N=100\n",
    "d=10\n",
    "height=3\n",
    "lam=0.03\n",
    "mu=0.02\n",
    "t_limit=15\n",
    "scale=2\n",
    "#gamma=1e-3\n",
    "#path_contacts=\"../patient_zero/work/work_13_contacts.npz\"\n",
    "#small_lambda_limit=0\n",
    "\n",
    "gamma=None\n",
    "small_lambda_limit=0\n",
    "path_contacts=\" \"\n",
    "\n",
    "p_edge=1\n",
    "nsrc=1\n"
   ]
  },
  {
   "cell_type": "code",
   "execution_count": null,
   "id": "92fd4650-2487-4318-b6b3-7d8fe1e5b8ac",
   "metadata": {},
   "outputs": [],
   "source": []
  },
  {
   "cell_type": "code",
   "execution_count": 6,
   "id": "899d2c89-9f09-498f-8b77-b3c142a4f5ce",
   "metadata": {},
   "outputs": [],
   "source": [
    "seeds=range(0,100)"
   ]
  },
  {
   "cell_type": "code",
   "execution_count": 7,
   "id": "auburn-lemon",
   "metadata": {},
   "outputs": [],
   "source": [
    "INSTANCES = {s:EpInstance(type_graph, N, d, t_limit, \n",
    "                                    lam, mu, s, float(p_edge), \n",
    "                                    n_source=nsrc) for s in seeds}"
   ]
  },
  {
   "cell_type": "code",
   "execution_count": 8,
   "id": "f6fc7176-1ec1-4cd9-afe7-97f2b1f60094",
   "metadata": {},
   "outputs": [
    {
     "data": {
      "text/plain": [
       "'proximity_n_100_d_10_tlim_15_lam_0.03_mu_0.02_s_0_pe_1.0'"
      ]
     },
     "execution_count": 8,
     "metadata": {},
     "output_type": "execute_result"
    }
   ],
   "source": [
    "str(INSTANCES[0])"
   ]
  },
  {
   "cell_type": "code",
   "execution_count": 9,
   "id": "286f60e1-7b60-43f7-8d5f-9f45bbf53808",
   "metadata": {},
   "outputs": [],
   "source": [
    "extra_gen = {\"h\":height,\n",
    "            \"scale\":scale}\n",
    "\n",
    "extra_gen.update({\"gamma\":gamma, \n",
    "                  \"small_lambda_limit\":small_lambda_limit, \n",
    "                  \"path_contacts\": path_contacts})"
   ]
  },
  {
   "cell_type": "code",
   "execution_count": 10,
   "id": "announced-decline",
   "metadata": {},
   "outputs": [],
   "source": [
    "\n",
    "start_conf=0\n",
    "num_conf=1"
   ]
  },
  {
   "cell_type": "code",
   "execution_count": 11,
   "id": "waiting-immunology",
   "metadata": {
    "tags": []
   },
   "outputs": [],
   "source": [
    "%%capture\n",
    "reload(epidemy_gen)\n",
    "DATA_ALL = {s: \n",
    "            epidemy_gen.epidemy_gen_epinstance(inst, \n",
    "                                               lim_infected=1, num_conf=num_conf,\n",
    "                                               extra_gen=extra_gen, \n",
    "                                               verbose=False,\n",
    "                                              num_sources=nsrc) \n",
    "            for s, inst in INSTANCES.items()}"
   ]
  },
  {
   "cell_type": "code",
   "execution_count": 12,
   "id": "2a8babd3-b8ea-4de2-8465-bc5a2827d837",
   "metadata": {},
   "outputs": [
    {
     "name": "stderr",
     "output_type": "stream",
     "text": [
      "/home/fmazza/app/miniconda3/envs/torche/lib/python3.8/site-packages/IPython/core/interactiveshell.py:3437: FutureWarning: arrays to stack must be passed as a \"sequence\" type such as list or tuple. Support for non-sequence iterables such as generators is deprecated as of NumPy 1.16 and will raise an error in the future.\n",
      "  exec(code_obj, self.user_global_ns, self.user_ns)\n"
     ]
    }
   ],
   "source": [
    "confs={s: np.array(mdata[\"test\"]) for s, mdata in DATA_ALL.items()}\n",
    "\n",
    "final_confs = {\n",
    "    s: c[...,1,:] for s, c in confs.items()\n",
    "} #np.stack(tuple(confs.values()) )[...,1,:]\n",
    "\n",
    "\n",
    "idx_source = {k: np.stack((np.where(c[0]==1)[0] for c in x)) for k, x in confs.items()}"
   ]
  },
  {
   "cell_type": "code",
   "execution_count": 13,
   "id": "dec30caf-97d3-42d0-bb08-66dfcd8e6750",
   "metadata": {},
   "outputs": [
    {
     "data": {
      "text/plain": [
       "array([[17]])"
      ]
     },
     "execution_count": 13,
     "metadata": {},
     "output_type": "execute_result"
    }
   ],
   "source": [
    "idx_source[1]"
   ]
  },
  {
   "cell_type": "code",
   "execution_count": 14,
   "id": "5ece1d5c-6fd2-4ce3-991e-20b06c388566",
   "metadata": {},
   "outputs": [
    {
     "data": {
      "image/png": "[encoded data removed]",
      "text/plain": [
       "<Figure size 432x288 with 1 Axes>"
      ]
     },
     "metadata": {
      "needs_background": "light"
     },
     "output_type": "display_data"
    },
    {
     "data": {
      "image/png": "[encoded data removed]",
      "text/plain": [
       "<Figure size 432x288 with 1 Axes>"
      ]
     },
     "metadata": {
      "needs_background": "light"
     },
     "output_type": "display_data"
    }
   ],
   "source": [
    "r = np.stack(tuple(final_confs.values())).sum(-1).flatten()\n",
    "plt.figure()\n",
    "plt.hist(r,bins=max(r)+1)\n",
    "\n",
    "plt.figure()\n",
    "x,vals = np.unique(r, return_counts=True)\n",
    "allvals = np.zeros(max(x)+1)\n",
    "allvals[x] = vals\n",
    "plt.plot(allvals.cumsum(),\".--\")\n",
    "plt.grid()"
   ]
  },
  {
   "cell_type": "code",
   "execution_count": 15,
   "id": "60607ea9-ef1e-4772-90f3-7f6fbf8de5c5",
   "metadata": {},
   "outputs": [],
   "source": [
    "from epigen import generators"
   ]
  },
  {
   "cell_type": "code",
   "execution_count": 16,
   "id": "classical-color",
   "metadata": {},
   "outputs": [],
   "source": [
    "EPIDEMIES = {s: generators.calc_epidemies(mdata[\"epidemy\"], mdata[\"test\"], t_limit) \n",
    "             for s, mdata in DATA_ALL.items()}"
   ]
  },
  {
   "cell_type": "markdown",
   "id": "binding-charge",
   "metadata": {},
   "source": [
    "## Read marginals"
   ]
  },
  {
   "cell_type": "code",
   "execution_count": 17,
   "id": "identified-diesel",
   "metadata": {},
   "outputs": [],
   "source": [
    "from io_m import read_results"
   ]
  },
  {
   "cell_type": "code",
   "execution_count": 18,
   "id": "secure-organizer",
   "metadata": {},
   "outputs": [],
   "source": [
    "def load_many_inst(method, folder, instances, *args, **kwargs):\n",
    "    #if \"legacy\" in kwargs.keys():\n",
    "    #    for inst in \n",
    "    return {s: method(folder, inst, *args,**kwargs) for s, inst in instances.items()}"
   ]
  },
  {
   "cell_type": "code",
   "execution_count": 19,
   "id": "executed-friendship",
   "metadata": {},
   "outputs": [],
   "source": [
    "margs_all = {}"
   ]
  },
  {
   "cell_type": "code",
   "execution_count": 20,
   "id": "66c3ff2c-a0f8-44ec-956e-fcd329ef9e9b",
   "metadata": {},
   "outputs": [
    {
     "data": {
      "text/plain": [
       "<module 'io_m.read_results' from '../../../src/io_m/read_results.py'>"
      ]
     },
     "execution_count": 20,
     "metadata": {},
     "output_type": "execute_result"
    }
   ],
   "source": [
    "reload(read_results)"
   ]
  },
  {
   "cell_type": "code",
   "execution_count": 21,
   "id": "czech-parade",
   "metadata": {},
   "outputs": [],
   "source": [
    "for inst in INSTANCES.values():\n",
    "    inst.p_edge=int(inst.p_edge)"
   ]
  },
  {
   "cell_type": "code",
   "execution_count": 22,
   "id": "30a47565-819b-4fa7-b28a-6abaed26debf",
   "metadata": {},
   "outputs": [],
   "source": [
    "confs_load=(0,num_conf)"
   ]
  },
  {
   "cell_type": "code",
   "execution_count": null,
   "id": "8ec88a4a-14f0-4bf5-ace1-77c4ff1bf258",
   "metadata": {},
   "outputs": [],
   "source": []
  },
  {
   "cell_type": "code",
   "execution_count": 23,
   "id": "53f74be3-1a42-447a-9f35-9f7e22d049e8",
   "metadata": {},
   "outputs": [],
   "source": [
    "folder=f\"data/\"\n",
    "#folder=f\"sib/{INSTANCE.type_graph}_nsrc{nsrc}/\"\n",
    "name_file=\"\"\n",
    "margs_all[\"sib\"] =load_many_inst(read_results.read_sib_data_def,\n",
    "                                        #\"sib/{type_graph}_nsrc1/\",\n",
    "                                        folder+\"sib\",\n",
    "                                        #f\"sib/{type_graph}/\",\n",
    "                                        INSTANCES, height, name_file,\n",
    "                                        range_confs=confs_load, outprint=False)"
   ]
  },
  {
   "cell_type": "markdown",
   "id": "acb7827d-29fa-4197-8b4f-1b8f5a6313b9",
   "metadata": {},
   "source": [
    "## ANN results"
   ]
  },
  {
   "cell_type": "code",
   "execution_count": 24,
   "id": "5a063d67-9e40-4203-93b1-d85957d1ebe0",
   "metadata": {},
   "outputs": [
    {
     "data": {
      "text/plain": [
       "<module 'io_m.read_results' from '../../../src/io_m/read_results.py'>"
      ]
     },
     "execution_count": 24,
     "metadata": {},
     "output_type": "execute_result"
    }
   ],
   "source": [
    "reload(read_results)"
   ]
  },
  {
   "cell_type": "code",
   "execution_count": 25,
   "id": "dd2e496e-3785-4a20-8495-eb8ca4e3d593",
   "metadata": {},
   "outputs": [
    {
     "data": {
      "text/plain": [
       "'proximity_n_100_d_10_tlim_15_lam_0.03_mu_0.02_s_0_pe_1'"
      ]
     },
     "execution_count": 25,
     "metadata": {},
     "output_type": "execute_result"
    }
   ],
   "source": [
    "str(INSTANCES[0])"
   ]
  },
  {
   "cell_type": "code",
   "execution_count": 26,
   "id": "deeec1ee-cb54-4d5d-bc16-b1c36e79c9b8",
   "metadata": {},
   "outputs": [],
   "source": [
    "margs_all[\"ann_old\"] = load_many_inst(read_results.read_margs_inst,\n",
    "                                        #\"sib/{type_graph}_nsrc1/\",\n",
    "                                        folder+\"ann\",\n",
    "                                        #f\"sib/{type_graph}/\",\n",
    "                                        INSTANCES, prefix=name_file, algo=\"ann\",\n",
    "                                        range_confs=confs_load, outprint=False)"
   ]
  },
  {
   "cell_type": "code",
   "execution_count": null,
   "id": "989ecbfc-4ce8-4d6b-aa7a-46240ca396b7",
   "metadata": {},
   "outputs": [],
   "source": [
    "margs_all[\"ann_new\"] = load_many_inst(read_results.read_margs_inst,\n",
    "                                        #\"sib/{type_graph}_nsrc1/\",\n",
    "                                        \"data_new/ann\",\n",
    "                                        #f\"sib/{type_graph}/\",\n",
    "                                        INSTANCES, prefix=name_file,\n",
    "                                        range_confs=confs_load, outprint=False)"
   ]
  },
  {
   "cell_type": "code",
   "execution_count": null,
   "id": "d92ab7c0-9454-490e-80c4-44737cbda580",
   "metadata": {},
   "outputs": [],
   "source": [
    "margs_all[\"ann_new_check\"] = load_many_inst(read_results.read_margs_inst,\n",
    "                                        #\"sib/{type_graph}_nsrc1/\",\n",
    "                                        \"data_new/ann_check/\",\n",
    "                                        #f\"sib/{type_graph}/\",\n",
    "                                        INSTANCES, prefix=\"ann_test_\",\n",
    "                                        range_confs=confs_load, outprint=False)"
   ]
  },
  {
   "cell_type": "code",
   "execution_count": null,
   "id": "c407652f-3f65-4fcd-bfc1-5e67aa370108",
   "metadata": {},
   "outputs": [],
   "source": [
    "margs_all[\"ann_old_redo\"] = load_many_inst(read_results.read_margs_inst,\n",
    "                                        #\"sib/{type_graph}_nsrc1/\",\n",
    "                                        \"data/ann_old_lays/\",\n",
    "                                        #f\"sib/{type_graph}/\",\n",
    "                                        INSTANCES, prefix=\"\",\n",
    "                                        range_confs=confs_load, outprint=False)"
   ]
  },
  {
   "cell_type": "markdown",
   "id": "e9d04c7a-e45d-4b9b-af26-3f7cf968f90e",
   "metadata": {},
   "source": [
    "## Soft Margin"
   ]
  },
  {
   "cell_type": "code",
   "execution_count": 28,
   "id": "2387f9d9-3df9-4402-9177-a3c5f7a5a242",
   "metadata": {},
   "outputs": [],
   "source": [
    "from pathlib import Path"
   ]
  },
  {
   "cell_type": "code",
   "execution_count": 29,
   "id": "3faa75d9-c431-4a95-891d-c8e05e94ee2c",
   "metadata": {},
   "outputs": [],
   "source": [
    "from soft_margin.saving import load_data_softmargin"
   ]
  },
  {
   "cell_type": "code",
   "execution_count": 30,
   "id": "3b3f13aa-c07f-4465-856c-435dd0894d96",
   "metadata": {},
   "outputs": [],
   "source": [
    "def load_softm_res(instance, path_fold, nsim_r, verbose=False):\n",
    "    smfold=Path(path_fold)\n",
    "    base_file_name = (smfold / (str(instance)+f\"_nc_1_softm_nsims_{nsim_r}_rep_0\")).as_posix()\n",
    "    if verbose: print(base_file_name)\n",
    "    res = load_data_softmargin(base_file_name)\n",
    "    return res"
   ]
  },
  {
   "cell_type": "code",
   "execution_count": 31,
   "id": "554c4d5f-92e1-4aeb-83ae-dc4be7e5c5d2",
   "metadata": {},
   "outputs": [],
   "source": [
    "from collections import defaultdict"
   ]
  },
  {
   "cell_type": "code",
   "execution_count": 32,
   "id": "b4a0e176-c621-4503-b850-84849b3a05a6",
   "metadata": {},
   "outputs": [],
   "source": [
    "softm_data = defaultdict(dict)\n",
    "probs_softm = defaultdict(dict)"
   ]
  },
  {
   "cell_type": "code",
   "execution_count": 33,
   "id": "0696e607-6e96-4405-a685-1ab4b6204b29",
   "metadata": {},
   "outputs": [],
   "source": [
    "nsims_softm=[int(1e6), int(1e7), int(1e8)]"
   ]
  },
  {
   "cell_type": "code",
   "execution_count": 34,
   "id": "9bfe2e58-f9b8-4f9c-9dd5-0292c20fd4b4",
   "metadata": {},
   "outputs": [],
   "source": [
    "for s, inst in INSTANCES.items():\n",
    "    for nsim in nsims_softm:\n",
    "        #print(s, nsim)\n",
    "        softm_data[s][nsim]=load_softm_res(inst, \"data/sm\", nsim, verbose=False)\n",
    "        x = softm_data[s][nsim][1]\n",
    "        probs_softm[s][nsim] = [x[v] for v in sorted(x.keys())]"
   ]
  },
  {
   "cell_type": "markdown",
   "id": "74d549d8-8ecf-4e84-ab08-3e1fb4be5039",
   "metadata": {},
   "source": [
    "## Patient zero"
   ]
  },
  {
   "cell_type": "code",
   "execution_count": 53,
   "id": "0f5e906a-2161-48e8-841e-e2b3718a7a20",
   "metadata": {},
   "outputs": [],
   "source": [
    "def get_random_margs():\n",
    "    x = np.random.rand(N,t_limit+1,3)\n",
    "    return x / x.sum(-1)[...,np.newaxis]\n",
    "\n",
    "margs_all[\"random\"] = {s: [get_random_margs() for _ in range(start_conf, start_conf+num_conf)]\n",
    "                      for s in DATA_ALL.keys()}"
   ]
  },
  {
   "cell_type": "code",
   "execution_count": 36,
   "id": "bd6b12f4-6f41-43d9-80c1-4f65ede05b86",
   "metadata": {},
   "outputs": [],
   "source": [
    "N_inf = {s:[np.sum(np.array(c[1])!=0) for c in mdata[\"test\"] ]\n",
    "         for s, mdata in DATA_ALL.items()}"
   ]
  },
  {
   "cell_type": "code",
   "execution_count": 37,
   "id": "e084539c-e5fb-41d4-ae95-3c7562f2e383",
   "metadata": {},
   "outputs": [],
   "source": [
    "sources = {s:\n",
    "    np.stack( [np.where(np.array(c[0])==1)[0] for c in mdata[\"test\"] ])\n",
    "           for s, mdata in DATA_ALL.items()}"
   ]
  },
  {
   "cell_type": "code",
   "execution_count": 38,
   "id": "f9109fe5-ef74-4db5-8d68-6bdd7398696f",
   "metadata": {},
   "outputs": [],
   "source": [
    "SOURCE_CANDIDS = {s:\n",
    "     [np.where(np.array(c[1])!=0)[0] for c in mdata[\"test\"] ]\n",
    "           for s, mdata in DATA_ALL.items()}"
   ]
  },
  {
   "cell_type": "code",
   "execution_count": 39,
   "id": "28ae1d00-c860-45d7-bea2-8a72e0a73d09",
   "metadata": {},
   "outputs": [],
   "source": [
    "from sklearn.metrics import auc, roc_curve"
   ]
  },
  {
   "cell_type": "code",
   "execution_count": 40,
   "id": "08a26fa7-a7e8-481c-bc86-2f74da4159a2",
   "metadata": {},
   "outputs": [],
   "source": [
    "def get_source_rank(m, msources):\n",
    "    psources = m[:,0,1]\n",
    "    idx=psources.argsort()[::-1]\n",
    "\n",
    "    rg = sum(((idx == s for s in msources)))\n",
    "    #print(rg)\n",
    "    return rg.cumsum()\n",
    "\n",
    "def get_sources_auc(m, msources, m_psrc=False):\n",
    "    \n",
    "    if m_psrc: \n",
    "        psources = m\n",
    "    else:\n",
    "        psources = m[:,0,1]\n",
    "\n",
    "    idx=psources.argsort()[::-1]\n",
    "    truey = np.zeros(psources.shape, dtype=int)\n",
    "    #rg = sum(((idx == s for s in msources)))\n",
    "    truey[msources] = 1\n",
    "    #print(rg)\n",
    "    fpr,tpr,thr= roc_curve(truey, psources)#rg.cumsum()\n",
    "    return auc(fpr,tpr)"
   ]
  },
  {
   "cell_type": "code",
   "execution_count": 41,
   "id": "dd7549d6-7f2d-4a7a-991d-fb44c6b33433",
   "metadata": {},
   "outputs": [],
   "source": [
    "def get_sources_auc_cands(m, msources, cands, m_psrc=False):\n",
    "    \n",
    "    if m_psrc: \n",
    "        psrc = m\n",
    "    else:\n",
    "        psrc = m[:,0,1]\n",
    "    \n",
    "    psources = psrc[cands]\n",
    "\n",
    "    truey = sum(cands == s for s in msources)\n",
    "    #print(rg)\n",
    "    fpr,tpr,thr= roc_curve(truey, psources)#rg.cumsum()\n",
    "    return auc(fpr,tpr)"
   ]
  },
  {
   "cell_type": "code",
   "execution_count": null,
   "id": "12ea7805-8867-437e-8056-66ca3f1bad0f",
   "metadata": {},
   "outputs": [],
   "source": []
  },
  {
   "cell_type": "code",
   "execution_count": 42,
   "id": "d49632d5-3143-4dd5-bbaa-5a2ab86e40f9",
   "metadata": {},
   "outputs": [],
   "source": [
    "def get_source_posit(m, msources):\n",
    "    psources = m[:,0,1]\n",
    "    idx=psources.argsort()[::-1]\n",
    "    pos = [np.argmax(idx == s) for s in msources]\n",
    "    return pos"
   ]
  },
  {
   "cell_type": "code",
   "execution_count": 44,
   "id": "e28696b9-fe75-49bd-b476-040edebcfacd",
   "metadata": {},
   "outputs": [],
   "source": [
    "def get_source_rank_probs(psources, msources):\n",
    "    idx=psources.argsort()[::-1]\n",
    "    #print(idx.shape)\n",
    "\n",
    "    rg = sum((idx == s for s in msources))\n",
    "    #print(rg)\n",
    "    #print(rg.shape)\n",
    "    #print(np.where(idx==msources[0]))\n",
    "    return rg.cumsum(-1)"
   ]
  },
  {
   "cell_type": "code",
   "execution_count": 45,
   "id": "ae4fc13e-1ad7-4bb6-8f79-4aa37fa24d1e",
   "metadata": {},
   "outputs": [],
   "source": [
    "ranks_softm = {}\n",
    "for nsim in nsims_softm:\n",
    "    \n",
    "    source_found = np.stack([\n",
    "                    [\n",
    "                        [\n",
    "                            get_source_rank_probs(x, inst_src) #for x  in\n",
    "                            for x in probs_softm[seed][nsim][i]\n",
    "                        ]\n",
    "                        for i, inst_src in enumerate(srcs)\n",
    "                    ]\n",
    "                    for seed, srcs in sources.items()\n",
    "                ])\n",
    "    #print(source_found.shape)\n",
    "    #print(source_found)\n",
    "    \n",
    "    ranks_softm[nsim] = source_found.sum(0).sum(0)\n",
    "    #print(ranks_softm)\n",
    "    #break\n"
   ]
  },
  {
   "cell_type": "code",
   "execution_count": 54,
   "id": "3a5240d1-d35b-4b28-8075-dfc4f5281683",
   "metadata": {},
   "outputs": [],
   "source": [
    "pzero_accu = {name: \n",
    "            np.stack([\n",
    "                np.array([get_source_rank(m,source) \n",
    "                          for m, source in zip(marg[s], sources[s])])\n",
    "                for s in sources.keys()\n",
    "            ]).sum(0).sum(0)\n",
    "            for name, marg in margs_all.items()}"
   ]
  },
  {
   "cell_type": "code",
   "execution_count": 47,
   "id": "285c6bdc-e392-4a76-ac88-a70eb1cfa459",
   "metadata": {},
   "outputs": [],
   "source": [
    "from analysis.sources import get_src_posit_obs_margs"
   ]
  },
  {
   "cell_type": "code",
   "execution_count": 59,
   "id": "44cb4ce4-fbf6-460b-8b1e-9bbe914d4cdb",
   "metadata": {},
   "outputs": [],
   "source": [
    "from utils.common import pretty_print_n"
   ]
  },
  {
   "cell_type": "code",
   "execution_count": 55,
   "id": "6fbcefd6-ca55-4a2f-b0f5-04ce19053e37",
   "metadata": {},
   "outputs": [],
   "source": [
    "pzero_pos_scaled = {name: \n",
    "            np.stack([\n",
    "                np.array([get_src_posit_obs_margs(m,source, candids) \n",
    "                 for m, source, candids in zip(marg[s], sources[s], SOURCE_CANDIDS[s])])\n",
    "                for s in sorted(sources.keys())\n",
    "            ])\n",
    "            for name, marg in margs_all.items()}"
   ]
  },
  {
   "cell_type": "code",
   "execution_count": 56,
   "id": "5d5d80fd-2117-4c4f-ba58-1ffd376799ba",
   "metadata": {},
   "outputs": [],
   "source": [
    "pzero_pos_softm = {nsi: \n",
    "            np.stack([\n",
    "                np.array([\n",
    "                    [get_src_posit_obs_margs(np.stack((np.zeros_like(m),m),axis=1)[:,np.newaxis]\n",
    "                                                  ,source, candids)\n",
    "                          for m in probs]\n",
    "                 for probs, source, candids in zip(probs_softm[s][nsi], sources[s], SOURCE_CANDIDS[s])])\n",
    "                for s in sorted(sources.keys())\n",
    "            ])\n",
    "            for nsi in nsims_softm}"
   ]
  },
  {
   "cell_type": "code",
   "execution_count": 57,
   "id": "55755191-8169-4b8f-bda5-1ab6b1d39b80",
   "metadata": {},
   "outputs": [
    {
     "data": {
      "text/plain": [
       "<module 'analysis.generic' from '../../../src/analysis/generic.py'>"
      ]
     },
     "execution_count": 57,
     "metadata": {},
     "output_type": "execute_result"
    }
   ],
   "source": [
    "import analysis.generic as analy\n",
    "reload(analy)"
   ]
  },
  {
   "cell_type": "code",
   "execution_count": 60,
   "id": "a0ce8a9d-0f58-4ad7-9feb-224a8cefaeb5",
   "metadata": {},
   "outputs": [
    {
     "name": "stdout",
     "output_type": "stream",
     "text": [
      "1000000\n",
      "10000000\n",
      "100000000\n"
     ]
    },
    {
     "data": {
      "text/plain": [
       "<matplotlib.legend.Legend at 0x7faef8f407c0>"
      ]
     },
     "execution_count": 60,
     "metadata": {},
     "output_type": "execute_result"
    },
    {
     "data": {
      "image/png": "[encoded data removed]",
      "text/plain": [
       "<Figure size 576x432 with 1 Axes>"
      ]
     },
     "metadata": {
      "needs_background": "light"
     },
     "output_type": "display_data"
    }
   ],
   "source": [
    "plt.figure(figsize=(8,6))\n",
    "d=analy.make_histo_cumsum(pzero_pos_scaled[\"sib\"],)\n",
    "plt.plot(*d, \"-.\", label=f\"sib -- auc: {auc(*d):.3f}\", linewidth=\"2\")\n",
    "\n",
    "#d=get_curve_all(pzero_pos_scaled[\"ann_old_redo\"], scale=100,)\n",
    "#plt.plot(*d, label=f\"nn old redo -- auc: {auc(*d):.3f}\", linewidth=\"2\")\n",
    "d=analy.make_histo_cumsum(pzero_pos_scaled[\"ann_old\"],)\n",
    "plt.plot(*d, label=f\"nn old -- auc: {auc(*d):.3f}\", linewidth=\"2\")\n",
    "#d=get_curve_all(pzero_pos_scaled[\"ann_new\"], scale=100,)\n",
    "\n",
    "d=analy.make_histo_cumsum(pzero_pos_scaled[\"random\"],)\n",
    "plt.plot(*d, \"-.\", label=f\"random -- auc: {auc(*d):.3f}\")\n",
    "#plt.plot(*d, label=f\"nn new -- auc: {auc(*d):.3f}\", linewidth=\"2\")\n",
    "#d=get_curve_all(pzero_pos_scaled[\"ann_new_check\"], scale=100,)\n",
    "#plt.plot(*d, \"--\",label=f\"nn new check -- auc: {auc(*d):.3f}\", linewidth=\"2\")\n",
    "softm_pars_idx = 25\n",
    "softm_alpha = softm_data[0][int(1e6)][0][softm_pars_idx]\n",
    "for k in pzero_pos_softm:\n",
    "    print(k)\n",
    "    d=analy.make_histo_cumsum(pzero_pos_softm[k][..., softm_pars_idx],)\n",
    "    plt.plot(*d,\"--\", label=\"sm {} sims -- auc {:.3f}\".format(pretty_print_n(k), auc(*d))) \n",
    "plt.legend()"
   ]
  },
  {
   "cell_type": "code",
   "execution_count": 62,
   "id": "22eda897-1bc6-4d0d-bb51-3035dccc27f6",
   "metadata": {},
   "outputs": [],
   "source": [
    "pzero_auc = {name: \n",
    "            np.stack([\n",
    "                np.array([get_sources_auc(m,source) for m, source in zip(marg[s], sources[s])])\n",
    "                for s in sources.keys()\n",
    "            ]).mean(-1)\n",
    "            for name, marg in margs_all.items()}"
   ]
  },
  {
   "cell_type": "code",
   "execution_count": 63,
   "id": "7de0af23-a0ff-487b-93dd-3c00be47bebe",
   "metadata": {},
   "outputs": [],
   "source": [
    "pzero_auc_onlyI = {name: \n",
    "            np.stack([\n",
    "                np.array([get_sources_auc_cands(m,source, cds) for m, source, cds in zip(marg[s], sources[s], SOURCE_CANDIDS[s])])\n",
    "                for s in sources.keys()\n",
    "            ]).mean(-1)\n",
    "            for name, marg in margs_all.items()}"
   ]
  },
  {
   "cell_type": "code",
   "execution_count": 64,
   "id": "e96e5a64-b4a2-4dfc-8a7a-a2cd1a3b6fc7",
   "metadata": {},
   "outputs": [],
   "source": [
    "softm_pzero_auc = {nsim: \n",
    "            np.stack([\n",
    "                np.array([ [get_sources_auc(p,source,m_psrc=True) for p in m] for m, source in zip(probs_softm[s][nsim], sources[s])])\n",
    "                for s in sources.keys()\n",
    "            ])\n",
    "            for nsim in nsims_softm}"
   ]
  },
  {
   "cell_type": "code",
   "execution_count": 65,
   "id": "47289ac2-8626-45b8-af9f-1e372a33bcaa",
   "metadata": {},
   "outputs": [],
   "source": [
    "softm_pzero_auc_onlyI = {nsim: \n",
    "            np.stack([\n",
    "                np.array([ [get_sources_auc_cands(p,source,cds,m_psrc=True) for p in m] \n",
    "                          for m, source, cds in zip(probs_softm[s][nsim], sources[s],  SOURCE_CANDIDS[s])])\n",
    "                for s in sources.keys()\n",
    "            ])\n",
    "            for nsim in nsims_softm}"
   ]
  },
  {
   "cell_type": "code",
   "execution_count": 68,
   "id": "fdc1bbf2-8af0-4fea-b2d3-7711837f9a58",
   "metadata": {},
   "outputs": [
    {
     "name": "stdout",
     "output_type": "stream",
     "text": [
      "ann_old, 0.828 \\pm 0.021 \n",
      "random, 0.547 \\pm 0.029 \n",
      "sib, 0.828 \\pm 0.019 \n"
     ]
    }
   ],
   "source": [
    "for k in sorted(pzero_auc.keys()):\n",
    "    aal = pzero_auc[k]\n",
    "    print(\"{}, {:4.3f} \\pm {:4.3f} \".format(\n",
    "        k, np.nanmean(aal), np.nanstd(aal)/np.sqrt(np.prod(aal.shape)-np.isnan(aal).sum()))\n",
    "    )\n",
    "    #plt.plot(aal, label=k)\n",
    "    \n",
    "#plt.legend()"
   ]
  },
  {
   "cell_type": "code",
   "execution_count": 69,
   "id": "e5bbfc0b-eb49-4e7d-bb5e-d67c13df67a6",
   "metadata": {},
   "outputs": [
    {
     "name": "stdout",
     "output_type": "stream",
     "text": [
      "ann_old, 0.717 \\pm 0.029 \n",
      "random, 0.544 \\pm 0.029 \n",
      "sib, 0.680 \\pm 0.026 \n"
     ]
    }
   ],
   "source": [
    "for k in sorted(pzero_auc.keys()):\n",
    "    aal = pzero_auc_onlyI[k]\n",
    "    print(\"{}, {:4.3f} \\pm {:4.3f} \".format(\n",
    "        k, np.nanmean(aal), np.nanstd(aal)/np.sqrt(np.prod(aal.shape)-np.isnan(aal).sum()))\n",
    "    )\n",
    "    #plt.plot(aal, label=k)\n",
    "    "
   ]
  },
  {
   "cell_type": "code",
   "execution_count": 70,
   "id": "441aa9bd-4cbe-4682-9cad-aff865f14645",
   "metadata": {},
   "outputs": [
    {
     "name": "stdout",
     "output_type": "stream",
     "text": [
      "1000000\n",
      "10000000\n",
      "100000000\n"
     ]
    },
    {
     "data": {
      "image/png": "[encoded data removed]",
      "text/plain": [
       "<Figure size 576x432 with 1 Axes>"
      ]
     },
     "metadata": {
      "needs_background": "light"
     },
     "output_type": "display_data"
    }
   ],
   "source": [
    "plt.figure(figsize=(8,6))\n",
    "#for name,x in avg_count_probs.items():\n",
    "#    plt.plot(x, label=name)\n",
    "#    print()\n",
    "#for name,x in avg_count_risk.items():\n",
    "#    plt.plot(x, label=name)\n",
    "#plt.plot(ul.mean(0))\n",
    "x_data = np.arange(N)\n",
    "#plt.plot(x_data,pzero_accu[\"sib_psus60\"], \"--\",label=\"BP\")\n",
    "plt.plot(x_data,pzero_accu[\"sib\"], \"--\",label=\"sib\")\n",
    "#, auc: {:4.3f}\".format(auc_risk2[\"sib_psus60\"]))\n",
    "l = \"ann_\"\n",
    "#plt.plot(x_data,pzero_accu[\"ann_psus06_4lpow\"], label=\"ANN\")#, auc: {:4.3f}\".format(auc_risk2[\"ann_psus06Fin\"]))\n",
    "\n",
    "plt.plot(x_data,pzero_accu[\"ann_old\"], label=\"ann_old\")\n",
    "#plt.plot(x_data,pzero_accu[\"ann_new\"], label=\"ann_new\")\n",
    "#plt.plot(x_data,pzero_accu[\"ann_new_check\"], label=\"ann_new all nodes\")\n",
    "\n",
    "#plt.plot(x_data,pzero_accu[\"ann_old_redo\"], label=\"ann_old redo\")\n",
    "\n",
    "plt.plot(x_data,pzero_accu[\"random\"],\"-.\", label=\"random\")\n",
    "softm_pars_idx = 25\n",
    "softm_alpha = softm_data[0][int(1e6)][0][softm_pars_idx]\n",
    "for k in ranks_softm:\n",
    "    print(k)\n",
    "    plt.plot(x_data,ranks_softm[k][softm_pars_idx],\"--\", label=\"sm {} sims\".format(pretty_print_n(k)))\n",
    "\n",
    "\n",
    "plt.legend()\n",
    "plt.ylabel(\"Sources found (cumulative)\")\n",
    "plt.xlabel(\"N individuals\")\n",
    "plt.grid(linestyle=\"--\")"
   ]
  },
  {
   "cell_type": "code",
   "execution_count": 75,
   "id": "35bd0e0f-8311-42be-8b8e-e8225a81278a",
   "metadata": {},
   "outputs": [],
   "source": [
    "softm_alphas=softm_data[0][int(1e6)][0]"
   ]
  },
  {
   "cell_type": "code",
   "execution_count": 76,
   "id": "8c9b4ee9-1cb3-4234-a69c-2d62ed0c44e5",
   "metadata": {},
   "outputs": [
    {
     "data": {
      "text/plain": [
       "<matplotlib.legend.Legend at 0x7faeea4033d0>"
      ]
     },
     "execution_count": 76,
     "metadata": {},
     "output_type": "execute_result"
    },
    {
     "data": {
      "image/png": "[encoded data removed]",
      "text/plain": [
       "<Figure size 432x288 with 1 Axes>"
      ]
     },
     "metadata": {
      "needs_background": "light"
     },
     "output_type": "display_data"
    }
   ],
   "source": [
    "for k in softm_pzero_auc:\n",
    "    plt.plot(softm_pzero_auc[k].mean(0).flatten(), \"*-\", label=pretty_print_n(k))\n",
    "plt.hlines(pzero_auc[\"sib\"].mean(), 0, 30, colors=\"orange\", linestyles=\"dotted\")\n",
    "\n",
    "plt.hlines(pzero_auc[\"ann_old\"].mean(), 0, 30, colors=\"black\", linestyles=\"dashed\")\n",
    "plt.legend()"
   ]
  },
  {
   "cell_type": "code",
   "execution_count": 79,
   "id": "87f13f67-ea20-415a-baab-286cfcbf06b4",
   "metadata": {},
   "outputs": [
    {
     "data": {
      "text/plain": [
       "Text(0, 0.5, 'AUCs in finding the source (between I/R)')"
      ]
     },
     "execution_count": 79,
     "metadata": {},
     "output_type": "execute_result"
    },
    {
     "data": {
      "image/png": "[encoded data removed]",
      "text/plain": [
       "<Figure size 504x360 with 1 Axes>"
      ]
     },
     "metadata": {
      "needs_background": "light"
     },
     "output_type": "display_data"
    }
   ],
   "source": [
    "plt.figure(figsize=(7,5))\n",
    "x=softm_alphas\n",
    "for k in softm_pzero_auc_onlyI:\n",
    "    plt.plot(x,softm_pzero_auc_onlyI[k].mean(0).flatten(), \"*-\", label=pretty_print_n(k))\n",
    "\n",
    "xlims=plt.gca().get_xlim()\n",
    "plt.hlines(pzero_auc_onlyI[\"sib\"].mean(), min(x), max(x), colors=\"orange\", linestyles=\"dotted\", label=\"sib\")\n",
    "\n",
    "plt.hlines(pzero_auc_onlyI[\"ann_old\"].mean(), min(x), max(x), colors=\"black\", linestyles=\"dashed\", label=\"ANN\")\n",
    "plt.legend(loc=\"lower right\")\n",
    "plt.xlim(xlims)\n",
    "plt.xlabel(\"Soft margin $\\\\alpha$\")\n",
    "plt.ylabel(\"AUCs in finding the source (between I/R)\")"
   ]
  },
  {
   "cell_type": "code",
   "execution_count": null,
   "id": "1dbb3f88-b702-45f8-a2d8-2a5a6018e8e2",
   "metadata": {},
   "outputs": [],
   "source": []
  }
 ],
 "metadata": {
  "kernelspec": {
   "display_name": "Python 3.8 (torche)",
   "language": "python",
   "name": "python38torche"
  },
  "language_info": {
   "codemirror_mode": {
    "name": "ipython",
    "version": 3
   },
   "file_extension": ".py",
   "mimetype": "text/x-python",
   "name": "python",
   "nbconvert_exporter": "python",
   "pygments_lexer": "ipython3",
   "version": "3.8.8"
  }
 },
 "nbformat": 4,
 "nbformat_minor": 5
}
