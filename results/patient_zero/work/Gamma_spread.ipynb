{
 "cells": [
  {
   "cell_type": "markdown",
   "id": "palestinian-elite",
   "metadata": {},
   "source": [
    "## Parse patient zero results - WORK"
   ]
  },
  {
   "cell_type": "code",
   "execution_count": null,
   "id": "rubber-brazilian",
   "metadata": {},
   "outputs": [],
   "source": [
    "import numpy as np\n",
    "import numba as nb\n",
    "import pandas as pd\n",
    "\n",
    "import matplotlib.pyplot as plt\n",
    "\n",
    "import sys\n",
    "sys.path.insert(0, '../../../src')\n",
    "import networkx as nx"
   ]
  },
  {
   "cell_type": "code",
   "execution_count": null,
   "id": "informal-vegetation",
   "metadata": {},
   "outputs": [],
   "source": [
    "import io_m.libsaving as libsaving\n",
    "import io_m.io_utils as io_utils\n",
    "\n",
    "from importlib import reload"
   ]
  },
  {
   "cell_type": "code",
   "execution_count": null,
   "id": "5907161a-c5d7-47c5-ac14-20a49308b38c",
   "metadata": {},
   "outputs": [],
   "source": [
    "from epigen import epidemy_gen\n",
    "\n",
    "from epigen.base import EpInstance"
   ]
  },
  {
   "cell_type": "code",
   "execution_count": null,
   "id": "f4bfcc56-a407-45a3-bdb4-9bfc9a4048c4",
   "metadata": {},
   "outputs": [],
   "source": [
    "## GAMMA 0.6e-3\n",
    "type_graph=\"i_bird\"\n",
    "N=10\n",
    "d=3\n",
    "height=3\n",
    "lam=0.06\n",
    "mu=0.02\n",
    "t_limit=12\n",
    "scale=2\n",
    "#gamma=1e-3\n",
    "#path_contacts=\"../patient_zero/work/work_13_contacts.npz\"\n",
    "#small_lambda_limit=0\n",
    "\n",
    "gamma=0.6e-3\n",
    "small_lambda_limit=0\n",
    "path_contacts=\"work_13_contacts.npz\"\n",
    "\n",
    "p_edge=1\n",
    "nsrc=1\n",
    "seeds=[1]\n",
    "\n",
    "start_conf=0\n",
    "num_conf=20\n"
   ]
  },
  {
   "cell_type": "code",
   "execution_count": null,
   "id": "c0230a70-919d-4e86-9675-8e1696d770ac",
   "metadata": {},
   "outputs": [],
   "source": [
    "## GAMMA 0.8e-3\n",
    "type_graph=\"i_bird\"\n",
    "N=10\n",
    "d=3\n",
    "height=3\n",
    "lam=float(8e-4)\n",
    "mu=0.02\n",
    "t_limit=12\n",
    "scale=2\n",
    "#gamma=1e-3\n",
    "#path_contacts=\"../patient_zero/work/work_13_contacts.npz\"\n",
    "#small_lambda_limit=0\n",
    "\n",
    "gamma=0.8e-3\n",
    "small_lambda_limit=0\n",
    "path_contacts=\"work_13_contacts.npz\"\n",
    "\n",
    "p_edge=1\n",
    "nsrc=1\n",
    "seeds=range(1,21)\n",
    "\n",
    "\n",
    "start_conf=0\n",
    "num_conf=1\n"
   ]
  },
  {
   "cell_type": "code",
   "execution_count": null,
   "id": "2235785b-5034-4b28-9397-607ecfc8052e",
   "metadata": {},
   "outputs": [],
   "source": [
    "## GAMMA 1.2e-3\n",
    "type_graph=\"i_bird\"\n",
    "N=10\n",
    "d=3\n",
    "height=3\n",
    "lam=float(12e-4)\n",
    "mu=0.02\n",
    "t_limit=12\n",
    "scale=2\n",
    "#gamma=1e-3\n",
    "#path_contacts=\"../patient_zero/work/work_13_contacts.npz\"\n",
    "#small_lambda_limit=0\n",
    "\n",
    "gamma=1.2e-3\n",
    "small_lambda_limit=0\n",
    "path_contacts=\"work_13_contacts.npz\"\n",
    "\n",
    "p_edge=1\n",
    "nsrc=1\n",
    "seeds=range(1,21)\n",
    "\n",
    "\n",
    "start_conf=0\n",
    "num_conf=1\n"
   ]
  },
  {
   "cell_type": "code",
   "execution_count": null,
   "id": "6f2fa305-8539-4c0a-9084-865fb81f6e72",
   "metadata": {},
   "outputs": [],
   "source": [
    "## GAMMA 1.4e-3\n",
    "type_graph=\"i_bird\"\n",
    "N=10\n",
    "d=3\n",
    "height=3\n",
    "lam=0.14\n",
    "mu=0.02\n",
    "t_limit=12\n",
    "scale=2\n",
    "#gamma=1e-3\n",
    "#path_contacts=\"../patient_zero/work/work_13_contacts.npz\"\n",
    "#small_lambda_limit=0\n",
    "\n",
    "gamma=1.4e-3\n",
    "small_lambda_limit=0\n",
    "path_contacts=\"work_13_contacts.npz\"\n",
    "\n",
    "p_edge=1\n",
    "nsrc=1\n",
    "seeds=[1]\n",
    "\n",
    "start_conf=0\n",
    "num_conf=20\n"
   ]
  },
  {
   "cell_type": "code",
   "execution_count": null,
   "id": "92fd4650-2487-4318-b6b3-7d8fe1e5b8ac",
   "metadata": {},
   "outputs": [],
   "source": []
  },
  {
   "cell_type": "code",
   "execution_count": null,
   "id": "auburn-lemon",
   "metadata": {},
   "outputs": [],
   "source": [
    "INSTANCES = {s:EpInstance(type_graph, N, d, t_limit, \n",
    "                                    lam, mu, s, float(p_edge), \n",
    "                                    n_source=nsrc) for s in seeds}"
   ]
  },
  {
   "cell_type": "code",
   "execution_count": null,
   "id": "f6fc7176-1ec1-4cd9-afe7-97f2b1f60094",
   "metadata": {},
   "outputs": [],
   "source": [
    "str(INSTANCES[1])"
   ]
  },
  {
   "cell_type": "code",
   "execution_count": null,
   "id": "286f60e1-7b60-43f7-8d5f-9f45bbf53808",
   "metadata": {},
   "outputs": [],
   "source": [
    "extra_gen = {\"h\":height,\n",
    "            \"scale\":scale}\n",
    "\n",
    "extra_gen.update({\"gamma\":gamma, \n",
    "                  \"small_lambda_limit\":small_lambda_limit, \n",
    "                  \"path_contacts\": path_contacts})"
   ]
  },
  {
   "cell_type": "code",
   "execution_count": null,
   "id": "announced-decline",
   "metadata": {},
   "outputs": [],
   "source": []
  },
  {
   "cell_type": "code",
   "execution_count": null,
   "id": "waiting-immunology",
   "metadata": {
    "tags": []
   },
   "outputs": [],
   "source": [
    "#%%capture\n",
    "reload(epidemy_gen)\n",
    "DATA_ALL = {s: \n",
    "            epidemy_gen.epidemy_gen_epinstance(inst, \n",
    "                                               lim_infected=1, num_conf=num_conf,\n",
    "                                               extra_gen=extra_gen, \n",
    "                                               verbose=False,\n",
    "                                              ) \n",
    "            for s, inst in INSTANCES.items()}"
   ]
  },
  {
   "cell_type": "code",
   "execution_count": null,
   "id": "b46fb62c-d31f-4750-8ef5-c3700d77e7a2",
   "metadata": {},
   "outputs": [],
   "source": [
    "confs={s: np.array(mdata[\"test\"]) for s, mdata in DATA_ALL.items()}\n",
    "\n",
    "final_confs = {\n",
    "    s: c[...,1,:] for s, c in confs.items()\n",
    "} #np.stack(tuple(confs.values()) )[...,1,:]\n",
    "\n",
    "\n",
    "idx_source = {k: np.stack((np.where(c[0]==1)[0] for c in x)) for k, x in confs.items()}\n",
    "\n",
    "N = INSTANCES[1].n"
   ]
  },
  {
   "cell_type": "code",
   "execution_count": null,
   "id": "6d88d9db-3865-40c3-8482-fa8f4207ebfb",
   "metadata": {},
   "outputs": [],
   "source": [
    "r = np.concatenate([(d != 0).sum(-1) for k, d in final_confs.items()])\n",
    "plt.figure()\n",
    "plt.hist(r,bins=max(r)+1)\n",
    "plt.xticks(np.arange(0,100,10))\n",
    "plt.xlim((None,N))\n",
    "plt.figure()\n",
    "x,vals = np.unique(r, return_counts=True)\n",
    "allvals = np.zeros(max(x)+1)\n",
    "allvals[x] = vals\n",
    "plt.plot(allvals.cumsum(),\".--\")\n",
    "plt.grid()\n",
    "plt.xlim((None,N))\n",
    "x,vals"
   ]
  },
  {
   "cell_type": "code",
   "execution_count": null,
   "id": "ce281041-3434-4fc9-b083-6ce47d4365e6",
   "metadata": {},
   "outputs": [],
   "source": [
    "np.save(f\"resu/ninf_{INSTANCES[1].base_str()}\",r)"
   ]
  },
  {
   "cell_type": "code",
   "execution_count": null,
   "id": "1950c3d9-b3c8-4d9d-94f5-e4d43568cdee",
   "metadata": {},
   "outputs": [],
   "source": [
    "r.mean(), r.var(), r.std()"
   ]
  },
  {
   "cell_type": "code",
   "execution_count": null,
   "id": "60607ea9-ef1e-4772-90f3-7f6fbf8de5c5",
   "metadata": {},
   "outputs": [],
   "source": [
    "from epigen import generators"
   ]
  },
  {
   "cell_type": "code",
   "execution_count": null,
   "id": "classical-color",
   "metadata": {},
   "outputs": [],
   "source": [
    "EPIDEMIES = {s: generators.calc_epidemies(mdata[\"epidemy\"], mdata[\"test\"], t_limit) \n",
    "             for s, mdata in DATA_ALL.items()}"
   ]
  },
  {
   "cell_type": "markdown",
   "id": "binding-charge",
   "metadata": {},
   "source": [
    "## Read marginals"
   ]
  },
  {
   "cell_type": "code",
   "execution_count": null,
   "id": "identified-diesel",
   "metadata": {},
   "outputs": [],
   "source": [
    "from io_m import read_results"
   ]
  },
  {
   "cell_type": "code",
   "execution_count": null,
   "id": "secure-organizer",
   "metadata": {},
   "outputs": [],
   "source": [
    "def load_many_inst(method, folder, instances, *args, **kwargs):\n",
    "    #if \"legacy\" in kwargs.keys():\n",
    "    #    for inst in \n",
    "    return {s: method(folder, inst, *args,**kwargs) for s, inst in instances.items()}"
   ]
  },
  {
   "cell_type": "code",
   "execution_count": null,
   "id": "executed-friendship",
   "metadata": {},
   "outputs": [],
   "source": [
    "margs_all = {}"
   ]
  },
  {
   "cell_type": "code",
   "execution_count": null,
   "id": "66c3ff2c-a0f8-44ec-956e-fcd329ef9e9b",
   "metadata": {},
   "outputs": [],
   "source": [
    "reload(read_results)"
   ]
  },
  {
   "cell_type": "code",
   "execution_count": null,
   "id": "czech-parade",
   "metadata": {},
   "outputs": [],
   "source": [
    "for inst in INSTANCES.values():\n",
    "    inst.p_edge=int(inst.p_edge)"
   ]
  },
  {
   "cell_type": "code",
   "execution_count": null,
   "id": "30a47565-819b-4fa7-b28a-6abaed26debf",
   "metadata": {},
   "outputs": [],
   "source": [
    "confs_load=(0,num_conf)"
   ]
  },
  {
   "cell_type": "code",
   "execution_count": null,
   "id": "8ec88a4a-14f0-4bf5-ace1-77c4ff1bf258",
   "metadata": {},
   "outputs": [],
   "source": []
  },
  {
   "cell_type": "code",
   "execution_count": null,
   "id": "53f74be3-1a42-447a-9f35-9f7e22d049e8",
   "metadata": {},
   "outputs": [],
   "source": [
    "folder=f\"data/\"\n",
    "#folder=f\"sib/{INSTANCE.type_graph}_nsrc{nsrc}/\"\n",
    "name_file=\"\"\n"
   ]
  },
  {
   "cell_type": "code",
   "execution_count": null,
   "id": "6e4b5083-c8b0-4cd7-9b4e-be65240d408f",
   "metadata": {},
   "outputs": [],
   "source": [
    "## GAMMA 0.6\n",
    "margs_all[\"sib\"] =load_many_inst(read_results.read_sib_data_def,\n",
    "                                        #\"sib/{type_graph}_nsrc1/\",\n",
    "                                        \"data/sib/g06/\",\n",
    "                                        #f\"sib/{type_graph}/\",\n",
    "                                        INSTANCES, height,name_file,\n",
    "                                        range_confs=confs_load, outprint=False)"
   ]
  },
  {
   "cell_type": "code",
   "execution_count": null,
   "id": "5628436f-030b-4428-9818-2b12670afde8",
   "metadata": {},
   "outputs": [],
   "source": [
    "## GAMMA 0.8e-3\n",
    "margs_all[\"sib\"] =load_many_inst(read_results.read_sib_data_def,\n",
    "                                        #\"sib/{type_graph}_nsrc1/\",\n",
    "                                        \"data/sib/g08/\",\n",
    "                                        #f\"sib/{type_graph}/\",\n",
    "                                        INSTANCES, height,name_file,\n",
    "                                        range_confs=confs_load, outprint=False)"
   ]
  },
  {
   "cell_type": "code",
   "execution_count": null,
   "id": "968d945e-9c01-4501-9d2b-6954499c45d5",
   "metadata": {},
   "outputs": [],
   "source": [
    "## GAMMA 1.2e-3\n",
    "margs_all[\"sib\"] =load_many_inst(read_results.read_sib_data_def,\n",
    "                                        #\"sib/{type_graph}_nsrc1/\",\n",
    "                                        \"data/sib/g12/\",\n",
    "                                        #f\"sib/{type_graph}/\",\n",
    "                                        INSTANCES, height,name_file,\n",
    "                                        range_confs=confs_load, outprint=False)"
   ]
  },
  {
   "cell_type": "code",
   "execution_count": null,
   "id": "d09f87a7-5e85-4fd6-927f-3590f447cb2c",
   "metadata": {},
   "outputs": [],
   "source": [
    "## GAMMA 1.4e-3\n",
    "margs_all[\"sib\"] =load_many_inst(read_results.read_sib_data_def,\n",
    "                                        #\"sib/{type_graph}_nsrc1/\",\n",
    "                                        \"data/sib/g14/\",\n",
    "                                        #f\"sib/{type_graph}/\",\n",
    "                                        INSTANCES, height,name_file,\n",
    "                                        range_confs=confs_load, outprint=False)"
   ]
  },
  {
   "cell_type": "markdown",
   "id": "acb7827d-29fa-4197-8b4f-1b8f5a6313b9",
   "metadata": {},
   "source": [
    "## ANN results"
   ]
  },
  {
   "cell_type": "code",
   "execution_count": null,
   "id": "5a063d67-9e40-4203-93b1-d85957d1ebe0",
   "metadata": {},
   "outputs": [],
   "source": [
    "reload(read_results)"
   ]
  },
  {
   "cell_type": "raw",
   "id": "68344433-bc2d-469d-934e-dd6351a0b796",
   "metadata": {},
   "source": [
    "margs_all[\"ann_old\"] = load_many_inst(read_results.read_margs_default,\n",
    "                                        #\"sib/{type_graph}_nsrc1/\",\n",
    "                                        folder+\"ann\",\n",
    "                                        #f\"sib/{type_graph}/\",\n",
    "                                        INSTANCES, h=height, prefix=name_file, algo=\"ann\",\n",
    "                                        range_confs=confs_load, outprint=False, pedge_float=False)"
   ]
  },
  {
   "cell_type": "code",
   "execution_count": null,
   "id": "989ecbfc-4ce8-4d6b-aa7a-46240ca396b7",
   "metadata": {},
   "outputs": [],
   "source": [
    "## GAMMA 0.6e-3\n",
    "margs_all[\"ann_3lpow1\"] = load_many_inst(read_results.read_margs_inst,\n",
    "                                        #\"sib/{type_graph}_nsrc1/\",\n",
    "                                        \"data/ann_g06_3lpow1/\",\n",
    "                                        #f\"sib/{type_graph}/\",\n",
    "                                        INSTANCES, prefix=\"\",\n",
    "                                        range_confs=confs_load, outprint=True)"
   ]
  },
  {
   "cell_type": "code",
   "execution_count": null,
   "id": "422ddeaf-3ce3-478a-a4b4-81dd2849e2ba",
   "metadata": {},
   "outputs": [],
   "source": [
    "## GAMMA 0.8e-3 & 1.2e-3\n",
    "margs_all[\"ann_3lpow1\"] = load_many_inst(read_results.read_margs_inst,\n",
    "                                        #\"sib/{type_graph}_nsrc1/\",\n",
    "                                        \"data/ann_3lpow1/\",\n",
    "                                        #f\"sib/{type_graph}/\",\n",
    "                                        INSTANCES, prefix=\"epfl_\",\n",
    "                                        range_confs=confs_load, outprint=False)"
   ]
  },
  {
   "cell_type": "code",
   "execution_count": null,
   "id": "811ea40b-0a2e-47de-beb4-c9f15fb8f427",
   "metadata": {},
   "outputs": [],
   "source": [
    "## GAMMA 1.4e-3\n",
    "margs_all[\"ann_3lpow1\"] = load_many_inst(read_results.read_margs_inst,\n",
    "                                        #\"sib/{type_graph}_nsrc1/\",\n",
    "                                        \"data/ann_g14_3lpow1/\",\n",
    "                                        #f\"sib/{type_graph}/\",\n",
    "                                        INSTANCES, prefix=\"gam14_\",\n",
    "                                        range_confs=confs_load, outprint=True)"
   ]
  },
  {
   "cell_type": "code",
   "execution_count": null,
   "id": "1e942d70-b68c-4b8d-86ea-4e3e1f0606ea",
   "metadata": {},
   "outputs": [],
   "source": [
    "margs_all[\"ann_deep_eq\"] = load_many_inst(read_results.read_margs_inst,\n",
    "                                        #\"sib/{type_graph}_nsrc1/\",\n",
    "                                        \"data/ann_deep\",\n",
    "                                        #f\"sib/{type_graph}/\",\n",
    "                                        INSTANCES, prefix=name_file,\n",
    "                                        range_confs=confs_load, outprint=False)"
   ]
  },
  {
   "cell_type": "code",
   "execution_count": null,
   "id": "f6943212-3738-4248-a643-1f3716912202",
   "metadata": {},
   "outputs": [],
   "source": [
    "margs_all[\"ann_less_deep\"] = load_many_inst(read_results.read_margs_inst,\n",
    "                                        #\"sib/{type_graph}_nsrc1/\",\n",
    "                                        \"data/ann_less_deep/\",\n",
    "                                        #f\"sib/{type_graph}/\",\n",
    "                                        INSTANCES, prefix=name_file,\n",
    "                                        range_confs=confs_load, outprint=False)"
   ]
  },
  {
   "cell_type": "markdown",
   "id": "e9d04c7a-e45d-4b9b-af26-3f7cf968f90e",
   "metadata": {},
   "source": [
    "## Soft Margin"
   ]
  },
  {
   "cell_type": "code",
   "execution_count": null,
   "id": "2387f9d9-3df9-4402-9177-a3c5f7a5a242",
   "metadata": {},
   "outputs": [],
   "source": [
    "from pathlib import Path"
   ]
  },
  {
   "cell_type": "code",
   "execution_count": null,
   "id": "324070c8-607d-44f0-a463-f63cea46a4d5",
   "metadata": {},
   "outputs": [],
   "source": [
    "import importlib"
   ]
  },
  {
   "cell_type": "code",
   "execution_count": null,
   "id": "3faa75d9-c431-4a95-891d-c8e05e94ee2c",
   "metadata": {},
   "outputs": [],
   "source": [
    "from soft_margin.saving import load_data_softmargin"
   ]
  },
  {
   "cell_type": "code",
   "execution_count": null,
   "id": "3b3f13aa-c07f-4465-856c-435dd0894d96",
   "metadata": {},
   "outputs": [],
   "source": [
    "def load_softm_res(instance, path_fold, nsim_r, nc, prefix=\"\", verbose=False):\n",
    "    smfold=Path(path_fold)\n",
    "    base_file_name = (smfold / (prefix+str(instance)+f\"_nc_{nc}_softm_nsims_{nsim_r}_rep_0\")).as_posix()\n",
    "    if verbose: print(base_file_name)\n",
    "    res = load_data_softmargin(base_file_name)\n",
    "    return res"
   ]
  },
  {
   "cell_type": "code",
   "execution_count": null,
   "id": "554c4d5f-92e1-4aeb-83ae-dc4be7e5c5d2",
   "metadata": {},
   "outputs": [],
   "source": [
    "from collections import defaultdict"
   ]
  },
  {
   "cell_type": "code",
   "execution_count": null,
   "id": "b4a0e176-c621-4503-b850-84849b3a05a6",
   "metadata": {},
   "outputs": [],
   "source": [
    "softm_data = defaultdict(dict)\n",
    "probs_softm = defaultdict(dict)"
   ]
  },
  {
   "cell_type": "code",
   "execution_count": null,
   "id": "0696e607-6e96-4405-a685-1ab4b6204b29",
   "metadata": {},
   "outputs": [],
   "source": [
    "nsims_softm=np.array([1,10,100])*int(1e6)\n",
    "nsims_softm"
   ]
  },
  {
   "cell_type": "code",
   "execution_count": null,
   "id": "313fe6ba-bcb3-4de7-bf44-2e545dfee52f",
   "metadata": {},
   "outputs": [],
   "source": [
    "fold_softm=\"data/sm_g06/\"\n",
    "prefix=\"gam14_\""
   ]
  },
  {
   "cell_type": "code",
   "execution_count": null,
   "id": "791b99af-03f3-4759-b0c7-66f4deb3a74b",
   "metadata": {},
   "outputs": [],
   "source": [
    "fold_softm=\"data/sm_g08/\"\n",
    "prefix=\"gam14_\""
   ]
  },
  {
   "cell_type": "code",
   "execution_count": null,
   "id": "822b6ad1-e2e1-42b7-b91b-cf8c11439320",
   "metadata": {},
   "outputs": [],
   "source": [
    "fold_softm=\"data/sm_g12/\"\n",
    "prefix=\"gam12_\""
   ]
  },
  {
   "cell_type": "code",
   "execution_count": null,
   "id": "c272cc1d-42ae-4d9b-b308-6e31770c8296",
   "metadata": {},
   "outputs": [],
   "source": [
    "fold_softm=\"data/sm_g14/\"\n",
    "prefix=\"gam14_\""
   ]
  },
  {
   "cell_type": "code",
   "execution_count": null,
   "id": "9bfe2e58-f9b8-4f9c-9dd5-0292c20fd4b4",
   "metadata": {},
   "outputs": [],
   "source": [
    "for s, inst in INSTANCES.items():\n",
    "    for nsim in nsims_softm:\n",
    "        #print(s, nsim)\n",
    "        nsim = int(nsim)\n",
    "        softm_data[s][nsim]=load_softm_res(inst, fold_softm, nsim,nc=num_conf,prefix=prefix,\n",
    "                                           verbose=False)\n",
    "        x = softm_data[s][nsim][1]\n",
    "        probs_softm[s][nsim] = [x[v] for v in sorted(x.keys())]"
   ]
  },
  {
   "cell_type": "markdown",
   "id": "74d549d8-8ecf-4e84-ab08-3e1fb4be5039",
   "metadata": {},
   "source": [
    "## Patient zero"
   ]
  },
  {
   "cell_type": "code",
   "execution_count": null,
   "id": "e11fe3d1-4be0-4cd1-b07f-2c6ae05648b6",
   "metadata": {},
   "outputs": [],
   "source": []
  },
  {
   "cell_type": "code",
   "execution_count": null,
   "id": "15a8eb93-407d-4190-b441-fb5350367dc4",
   "metadata": {},
   "outputs": [],
   "source": [
    "N = tuple(INSTANCES.values())[0].n"
   ]
  },
  {
   "cell_type": "code",
   "execution_count": null,
   "id": "0f5e906a-2161-48e8-841e-e2b3718a7a20",
   "metadata": {},
   "outputs": [],
   "source": [
    "def get_random_margs(n):\n",
    "    x = np.random.rand(n,t_limit+1,3)\n",
    "    return x / x.sum(-1)[...,np.newaxis]\n",
    "\n",
    "margs_all[\"random\"] = {s: [get_random_margs(INSTANCES[s].n) for _ in range(start_conf, start_conf+num_conf)]\n",
    "                      for s in DATA_ALL.keys()}"
   ]
  },
  {
   "cell_type": "code",
   "execution_count": null,
   "id": "bd6b12f4-6f41-43d9-80c1-4f65ede05b86",
   "metadata": {},
   "outputs": [],
   "source": [
    "N_inf = {s:[np.sum(np.array(c[1])!=0) for c in mdata[\"test\"] ]\n",
    "         for s, mdata in DATA_ALL.items()}"
   ]
  },
  {
   "cell_type": "code",
   "execution_count": null,
   "id": "e084539c-e5fb-41d4-ae95-3c7562f2e383",
   "metadata": {},
   "outputs": [],
   "source": [
    "sources = {s:\n",
    "    np.stack( [np.where(np.array(c[0])==1)[0] for c in mdata[\"test\"] ])\n",
    "           for s, mdata in DATA_ALL.items()}"
   ]
  },
  {
   "cell_type": "code",
   "execution_count": null,
   "id": "f9109fe5-ef74-4db5-8d68-6bdd7398696f",
   "metadata": {},
   "outputs": [],
   "source": [
    "SOURCE_CANDIDS = {s:\n",
    "     [np.where(np.array(c[1])!=0)[0] for c in mdata[\"test\"] ]\n",
    "           for s, mdata in DATA_ALL.items()}"
   ]
  },
  {
   "cell_type": "code",
   "execution_count": null,
   "id": "28ae1d00-c860-45d7-bea2-8a72e0a73d09",
   "metadata": {},
   "outputs": [],
   "source": [
    "from sklearn.metrics import auc, roc_curve"
   ]
  },
  {
   "cell_type": "code",
   "execution_count": null,
   "id": "f79844ad-bea0-413e-8a19-81080546aa4e",
   "metadata": {},
   "outputs": [],
   "source": [
    "def get_source_rank(m, msources):\n",
    "    psources = m[:,0,1]\n",
    "    idx=psources.argsort()[::-1]\n",
    "\n",
    "    rg = sum(((idx == s for s in msources)))\n",
    "    #print(rg)\n",
    "    return rg.cumsum()\n",
    "\n",
    "def get_sources_auc(m, msources, m_psrc=False):\n",
    "    \n",
    "    if m_psrc: \n",
    "        psources = m\n",
    "    else:\n",
    "        psources = m[:,0,1]\n",
    "\n",
    "    idx=psources.argsort()[::-1]\n",
    "    truey = np.zeros(psources.shape, dtype=int)\n",
    "    #rg = sum(((idx == s for s in msources)))\n",
    "    truey[msources] = 1\n",
    "    #print(rg)\n",
    "    fpr,tpr,thr= roc_curve(truey, psources)#rg.cumsum()\n",
    "    return auc(fpr,tpr)\n",
    "\n",
    "def get_sources_auc_cands(m, msources, cands, m_psrc=False):\n",
    "    \n",
    "    if m_psrc: \n",
    "        psrc = m\n",
    "    else:\n",
    "        psrc = m[:,0,1]\n",
    "    \n",
    "    psources = psrc[cands]\n",
    "\n",
    "    truey = sum(cands == s for s in msources)\n",
    "    #print(rg)\n",
    "    fpr,tpr,thr= roc_curve(truey, psources)#rg.cumsum()\n",
    "    return auc(fpr,tpr)\n",
    "\n",
    "\n",
    "\n",
    "def get_source_posit(m, msources):\n",
    "    psources = m[:,0,1]\n",
    "    idx=psources.argsort()[::-1]\n",
    "    pos = [np.argmax(idx == s) for s in msources]\n",
    "    return pos\n",
    "\n",
    "def get_source_rank_probs(psources, msources):\n",
    "    idx=psources.argsort()[::-1]\n",
    "    #print(idx.shape)\n",
    "\n",
    "    rg = sum((idx == s for s in msources))\n",
    "    #print(rg)\n",
    "    #print(rg.shape)\n",
    "    #print(np.where(idx==msources[0]))\n",
    "    return rg.cumsum(-1)"
   ]
  },
  {
   "cell_type": "code",
   "execution_count": null,
   "id": "ae4fc13e-1ad7-4bb6-8f79-4aa37fa24d1e",
   "metadata": {},
   "outputs": [],
   "source": [
    "ranks_softm = {}\n",
    "for nsim in nsims_softm:\n",
    "    \n",
    "    source_found = np.stack([\n",
    "                    [\n",
    "                        [\n",
    "                            get_source_rank_probs(x, inst_src) #for x  in\n",
    "                            for x in probs_softm[seed][nsim][i]\n",
    "                        ]\n",
    "                        for i, inst_src in enumerate(srcs)\n",
    "                    ]\n",
    "                    for seed, srcs in sources.items()\n",
    "                ])\n",
    "    #print(source_found.shape)\n",
    "    #print(source_found)\n",
    "    \n",
    "    ranks_softm[nsim] = source_found.sum(0).sum(0)\n",
    "    #print(ranks_softm)\n",
    "    #break\n"
   ]
  },
  {
   "cell_type": "code",
   "execution_count": null,
   "id": "3a5240d1-d35b-4b28-8075-dfc4f5281683",
   "metadata": {},
   "outputs": [],
   "source": [
    "pzero_accu = {name: \n",
    "            np.stack([\n",
    "                np.array([get_source_rank(m,source) \n",
    "                          for m, source in zip(marg[s], sources[s])])\n",
    "                for s in sources.keys()\n",
    "            ]).sum(0).sum(0)\n",
    "            for name, marg in margs_all.items()}"
   ]
  },
  {
   "cell_type": "code",
   "execution_count": null,
   "id": "285c6bdc-e392-4a76-ac88-a70eb1cfa459",
   "metadata": {},
   "outputs": [],
   "source": [
    "from analysis.sources import get_src_posit_obs_margs"
   ]
  },
  {
   "cell_type": "code",
   "execution_count": null,
   "id": "44cb4ce4-fbf6-460b-8b1e-9bbe914d4cdb",
   "metadata": {},
   "outputs": [],
   "source": [
    "from utils.common import pretty_print_n"
   ]
  },
  {
   "cell_type": "code",
   "execution_count": null,
   "id": "6fbcefd6-ca55-4a2f-b0f5-04ce19053e37",
   "metadata": {},
   "outputs": [],
   "source": [
    "pzero_pos_scaled = {name: \n",
    "            np.stack([\n",
    "                np.array([get_src_posit_obs_margs(m,source, candids) \n",
    "                 for m, source, candids in zip(marg[s], sources[s], SOURCE_CANDIDS[s])])\n",
    "                for s in sorted(sources.keys())\n",
    "            ])\n",
    "            for name, marg in margs_all.items()}"
   ]
  },
  {
   "cell_type": "code",
   "execution_count": null,
   "id": "5d5d80fd-2117-4c4f-ba58-1ffd376799ba",
   "metadata": {},
   "outputs": [],
   "source": [
    "pzero_pos_softm = {nsi: \n",
    "            np.stack([\n",
    "                np.array([\n",
    "                    [get_src_posit_obs_margs(np.stack((np.zeros_like(m),m),axis=1)[:,np.newaxis]\n",
    "                                                  ,source, candids)\n",
    "                          for m in probs]\n",
    "                 for probs, source, candids in zip(probs_softm[s][nsi], sources[s], SOURCE_CANDIDS[s])])\n",
    "                for s in sorted(sources.keys())\n",
    "            ])\n",
    "            for nsi in nsims_softm}"
   ]
  },
  {
   "cell_type": "code",
   "execution_count": null,
   "id": "55755191-8169-4b8f-bda5-1ab6b1d39b80",
   "metadata": {},
   "outputs": [],
   "source": [
    "import analysis.generic as analy\n",
    "reload(analy)"
   ]
  },
  {
   "cell_type": "code",
   "execution_count": null,
   "id": "a0ce8a9d-0f58-4ad7-9feb-224a8cefaeb5",
   "metadata": {},
   "outputs": [],
   "source": [
    "plt.figure(figsize=(7,5))\n",
    "pars=dict(nbins=100)\n",
    "d=analy.make_histo_cumsum(pzero_pos_scaled[\"sib\"],**pars)\n",
    "plt.plot(*d, \"-.\", label=f\"sib -- auc: {auc(*d):.3f}\", linewidth=\"2\")\n",
    "\n",
    "#d=analy.make_histo_cumsum(pzero_pos_scaled[\"sib_new\"],**pars)\n",
    "#plt.plot(*d, \"-.\", label=f\"sib new -- auc: {auc(*d):.3f}\", linewidth=\"2\")\n",
    "\n",
    "#d=analy.make_histo_cumsum(pzero_pos_scaled[\"ann_old\"],**pars)\n",
    "#plt.plot(*d, label=f\"nn old -- auc: {auc(*d):.3f}\", linewidth=\"2\")\n",
    "\n",
    "d=analy.make_histo_cumsum(pzero_pos_scaled[\"ann_3lpow1\"],**pars)\n",
    "plt.plot(*d, label=f\"nn 3lpow1 -- auc: {auc(*d):.3f}\", linewidth=\"2\")\n",
    "\n",
    "\n",
    "#d=analy.make_histo_cumsum(pzero_pos_scaled[\"ann_less_deep\"],**pars)\n",
    "#plt.plot(*d, label=f\"nn less deep -- auc: {auc(*d):.3f}\", linewidth=\"2\")\n",
    "#d=analy.make_histo_cumsum(pzero_pos_scaled[\"ann_less_deep\"],**pars)\n",
    "#plt.plot(*d, label=f\"nn less deep -- auc: {auc(*d):.3f}\", linewidth=\"2\")\n",
    "\n",
    "#d=analy.make_histo_cumsum(pzero_pos_scaled[\"ann_3lpow1\"],)\n",
    "#plt.plot(*d, label=f\"nn 3lpow1 -- auc: {auc(*d):.3f}\", linewidth=\"2\")\n",
    "\n",
    "d=analy.make_histo_cumsum(pzero_pos_scaled[\"random\"],)\n",
    "plt.plot(*d, \"-.\", label=f\"random -- auc: {auc(*d):.3f}\")\n",
    "\n",
    "\n",
    "softm_pars_idx = 15\n",
    "softm_alpha = tuple(softm_data.values())[0][int(1e6)][0][softm_pars_idx]\n",
    "getcolor=plt.get_cmap(\"Greens\")\n",
    "colors=getcolor(np.linspace(0.4,0.8,len(nsims_softm)))\n",
    "c=0\n",
    "softm_chosen={}\n",
    "for k in nsims_softm:\n",
    "    print(k)\n",
    "    z=pzero_pos_softm[k][..., softm_pars_idx]\n",
    "\n",
    "    d=analy.make_histo_cumsum(pzero_pos_softm[k][..., softm_pars_idx],)\n",
    "    plt.plot(*d,\"--\", label=\"sm $a = {:.2f}$ - {} sims -- auc {:4.3f}\".format(softm_alpha,pretty_print_n(k),\n",
    "                                                                       auc(*d)),\n",
    "            color=colors[c] )#getcolor(np.clip(c/len(nsims_softm), 0.4, 1)))\n",
    "    c+=1\n",
    "    a=round(softm_alpha,2)\n",
    "    softm_chosen[f\"sm_a{a}_{k}\"] = z\n",
    "\n",
    "plt.legend(loc=\"lower right\")\n",
    "plt.ylabel(\"Fraction of sources found (avg)\", fontsize=\"large\")\n",
    "plt.xlabel(\"Fraction of infected nodes considered\",fontsize=\"large\")\n",
    "\n",
    "plt.xlim((-0.01, 1.01))\n",
    "plt.ylim((-0.01, 1.01))"
   ]
  },
  {
   "cell_type": "code",
   "execution_count": null,
   "id": "4f797864-0b4c-4083-a138-310ac88a1583",
   "metadata": {},
   "outputs": [],
   "source": [
    "insta=tuple(INSTANCES.values())[0]\n",
    "\n",
    "insta.base_str()\n",
    "\n",
    "str(insta)"
   ]
  },
  {
   "cell_type": "code",
   "execution_count": null,
   "id": "be194892-488f-461e-8ce4-ee5aeb31c248",
   "metadata": {},
   "outputs": [],
   "source": [
    "out=dict(pzero_pos_scaled)\n",
    "out.update(softm_chosen)"
   ]
  },
  {
   "cell_type": "code",
   "execution_count": null,
   "id": "754412a7-baba-4a0b-ade1-4d6b3e145207",
   "metadata": {},
   "outputs": [],
   "source": []
  },
  {
   "cell_type": "code",
   "execution_count": null,
   "id": "c7bdb51b-235c-4d93-9d00-299cda241510",
   "metadata": {},
   "outputs": [],
   "source": [
    "np.savez_compressed(f\"resu/frac_pzero_g06_{insta.base_str()}.npz\", **out)"
   ]
  },
  {
   "cell_type": "code",
   "execution_count": null,
   "id": "1231598b-ba29-488e-a0a0-6a9e077f3f1e",
   "metadata": {},
   "outputs": [],
   "source": [
    "for k in out:\n",
    "    \n",
    "    z=np.quantile(out[k], [.1,.5,.9])\n",
    "    s=out[k].std()/np.sqrt(np.prod(out[k].shape) -1) \n",
    "    g=int(-np.floor(np.log10(s)))\n",
    "    #print(s,g)\n",
    "    print(k, f\"${out[k].mean():{g+1}.{g}f} +- {s:{g+1}.{g}f}$\")#out[k].mean(),s)\n",
    "    plt.plot(z, label=k)\n",
    "plt.legend()"
   ]
  },
  {
   "cell_type": "code",
   "execution_count": null,
   "id": "88db1db8-204d-45f2-9527-31bcc64ae7ba",
   "metadata": {},
   "outputs": [],
   "source": []
  },
  {
   "cell_type": "code",
   "execution_count": null,
   "id": "37c6f23f-ec80-4523-973d-b2045bac97fd",
   "metadata": {},
   "outputs": [],
   "source": []
  },
  {
   "cell_type": "code",
   "execution_count": null,
   "id": "be7febd9-fecb-4da2-a266-e7a523c11f0c",
   "metadata": {},
   "outputs": [],
   "source": [
    "from analysis.plotting import plot_pzero_roc_new"
   ]
  },
  {
   "cell_type": "code",
   "execution_count": null,
   "id": "ef39cf94-11e1-4dc0-b5e6-e41a8e8eefcf",
   "metadata": {},
   "outputs": [],
   "source": [
    "softm_alphas_all = tuple(softm_data.values())[0][int(1e6)][0]"
   ]
  },
  {
   "cell_type": "code",
   "execution_count": null,
   "id": "ec7daa3e-1fc3-4bd4-80a7-10731faeee2b",
   "metadata": {},
   "outputs": [],
   "source": [
    "plot_pzero_roc_new(pzero_pos_scaled, \n",
    "                  {\"sib\": (\"sib\",\"-.\"),\"ann_3lpow1\": (\"ANN\",\"-\"),  \"random\": (\"random guessing\",\"--\", \"grey\")},\n",
    "                  pzero_pos_softm,\n",
    "                  softm_alphas=softm_alphas_all,\n",
    "                   softm_alpha_idx=14,\n",
    "                  cmap_softm=\"Greens\",\n",
    "                  labels=True)\n",
    "plt.legend()"
   ]
  },
  {
   "cell_type": "code",
   "execution_count": null,
   "id": "f8a896f3-bfcd-4f16-a9e0-d70879ec4bcd",
   "metadata": {},
   "outputs": [],
   "source": [
    "np.savez_compressed(\"pzero_pos_scaled.npz\", **pzero_pos_scaled)\n",
    "\n",
    "np.savez_compressed(\"pzero_pos_softm_sc.npz\", **{str(k):v for k,v in pzero_pos_softm.items()})"
   ]
  },
  {
   "cell_type": "code",
   "execution_count": null,
   "id": "c5350d5f-c29c-454b-ab68-01699a7e2010",
   "metadata": {},
   "outputs": [],
   "source": []
  },
  {
   "cell_type": "code",
   "execution_count": null,
   "id": "a952a33e-507a-4218-811a-1c95a47a3dbc",
   "metadata": {},
   "outputs": [],
   "source": [
    "make_histo_cumsum = analy.make_histo_cumsum"
   ]
  },
  {
   "cell_type": "code",
   "execution_count": null,
   "id": "22eda897-1bc6-4d0d-bb51-3035dccc27f6",
   "metadata": {},
   "outputs": [],
   "source": [
    "pzero_auc = {name: \n",
    "            np.stack([\n",
    "                np.array([get_sources_auc(m,source) for m, source in zip(marg[s], sources[s])])\n",
    "                for s in sources.keys()\n",
    "            ]).flatten()\n",
    "            for name, marg in margs_all.items()}"
   ]
  },
  {
   "cell_type": "code",
   "execution_count": null,
   "id": "7de0af23-a0ff-487b-93dd-3c00be47bebe",
   "metadata": {},
   "outputs": [],
   "source": [
    "pzero_auc_onlyI = {name: \n",
    "            np.stack([\n",
    "                np.array([get_sources_auc_cands(m,source, cds) for m, source, cds in zip(marg[s], sources[s], SOURCE_CANDIDS[s])])\n",
    "                for s in sources.keys()\n",
    "            ]).flatten()\n",
    "            for name, marg in margs_all.items()}"
   ]
  },
  {
   "cell_type": "code",
   "execution_count": null,
   "id": "e96e5a64-b4a2-4dfc-8a7a-a2cd1a3b6fc7",
   "metadata": {},
   "outputs": [],
   "source": [
    "softm_pzero_auc = {nsim: \n",
    "            np.stack([\n",
    "                np.array([ [get_sources_auc(p,source,m_psrc=True) for p in m] for m, source in zip(probs_softm[s][nsim], sources[s])])\n",
    "                for s in sources.keys()\n",
    "            ])\n",
    "            for nsim in nsims_softm}"
   ]
  },
  {
   "cell_type": "code",
   "execution_count": null,
   "id": "47289ac2-8626-45b8-af9f-1e372a33bcaa",
   "metadata": {},
   "outputs": [],
   "source": [
    "softm_pzero_auc_onlyI = {nsim: \n",
    "            np.stack([\n",
    "                np.array([ [get_sources_auc_cands(p,source,cds,m_psrc=True) for p in m] \n",
    "                          for m, source, cds in zip(probs_softm[s][nsim], sources[s],  SOURCE_CANDIDS[s])])\n",
    "                for s in sources.keys()\n",
    "            ])\n",
    "            for nsim in nsims_softm}"
   ]
  },
  {
   "cell_type": "code",
   "execution_count": null,
   "id": "fdc1bbf2-8af0-4fea-b2d3-7711837f9a58",
   "metadata": {},
   "outputs": [],
   "source": [
    "for k in sorted(pzero_auc.keys()):\n",
    "    v = pzero_auc[k]\n",
    "    print(\"{}, {:4.3f} \\pm {:4.3f} \".format(\n",
    "        k, np.nanmean(v), np.nanstd(v)/np.sqrt(np.prod(v.shape)-np.isnan(v).sum()))\n",
    "    )\n",
    "    #plt.plot(aal, label=k)\n",
    "    \n",
    "#plt.legend()"
   ]
  },
  {
   "cell_type": "code",
   "execution_count": null,
   "id": "e5bbfc0b-eb49-4e7d-bb5e-d67c13df67a6",
   "metadata": {},
   "outputs": [],
   "source": [
    "for k in sorted(pzero_auc.keys()):\n",
    "    v = pzero_auc_onlyI[k]\n",
    "    print(\"{}, {:4.3f} \\pm {:4.3f} \".format(\n",
    "        k, np.nanmean(v), np.nanstd(v)/np.sqrt(np.prod(v.shape)-np.isnan(v).sum()))\n",
    "    )\n",
    "    #plt.plot(aal, label=k)\n",
    "    "
   ]
  },
  {
   "cell_type": "code",
   "execution_count": null,
   "id": "441aa9bd-4cbe-4682-9cad-aff865f14645",
   "metadata": {},
   "outputs": [],
   "source": [
    "plt.figure(figsize=(8,6))\n",
    "#for name,x in avg_count_probs.items():\n",
    "#    plt.plot(x, label=name)\n",
    "#    print()\n",
    "#for name,x in avg_count_risk.items():\n",
    "#    plt.plot(x, label=name)\n",
    "#plt.plot(ul.mean(0))\n",
    "x_data = np.arange(N)\n",
    "#plt.plot(x_data,pzero_accu[\"sib_psus60\"], \"--\",label=\"BP\")\n",
    "plt.plot(x_data,pzero_accu[\"sib\"], \"--\",label=\"sib\")\n",
    "#, auc: {:4.3f}\".format(auc_risk2[\"sib_psus60\"]))\n",
    "l = \"ann_\"\n",
    "#plt.plot(x_data,pzero_accu[\"ann_psus06_4lpow\"], label=\"ANN\")#, auc: {:4.3f}\".format(auc_risk2[\"ann_psus06Fin\"]))\n",
    "\n",
    "#plt.plot(x_data,pzero_accu[\"ann_less_deep\"], label=\"ANN less deep\")\n",
    "plt.plot(x_data,pzero_accu[\"ann_3lpow1\"], label=\"ANN 3lpow\")\n",
    "plt.plot(x_data,pzero_accu[\"ann_less_deep\"], label=\"ANN less deep\")\n",
    "\n",
    "#plt.plot(x_data,pzero_accu[\"ann_new\"], label=\"ann_new\")\n",
    "#plt.plot(x_data,pzero_accu[\"ann_new_check\"], label=\"ann_new all nodes\")\n",
    "\n",
    "#plt.plot(x_data,pzero_accu[\"ann_old_redo\"], label=\"ann_old redo\")\n",
    "\n",
    "plt.plot(x_data,pzero_accu[\"random\"],\"-.\", label=\"random\")\n",
    "softm_pars_idx = 14\n",
    "softm_alpha = softm_alphas_all[softm_pars_idx]\n",
    "for k in ranks_softm:\n",
    "    print(k)\n",
    "    plt.plot(x_data,ranks_softm[k][softm_pars_idx],\"--\", label=\"sm {} sims\".format(pretty_print_n(k)))\n",
    "\n",
    "\n",
    "plt.legend()\n",
    "plt.ylabel(\"Sources found (cumulative)\")\n",
    "plt.xlabel(\"N individuals\")\n",
    "plt.grid(linestyle=\"--\")"
   ]
  },
  {
   "cell_type": "code",
   "execution_count": null,
   "id": "8c9b4ee9-1cb3-4234-a69c-2d62ed0c44e5",
   "metadata": {},
   "outputs": [],
   "source": [
    "plt.figure(figsize=(7,5))\n",
    "\n",
    "for k in softm_pzero_auc:\n",
    "    plt.plot(softm_pzero_auc[k].reshape(-1,len(softm_alphas_all)).mean(0).flatten(), \"*-\", label=pretty_print_n(k))\n",
    "plt.hlines(pzero_auc[\"sib\"].mean(), 0, 30, colors=\"orange\", linestyles=\"dotted\")\n",
    "\n",
    "plt.hlines(pzero_auc[\"ann_3lpow1\"].mean(), 0, 30, colors=\"black\", linestyles=\"dashed\")\n",
    "plt.legend()"
   ]
  },
  {
   "cell_type": "code",
   "execution_count": null,
   "id": "691c8027-050c-4531-b936-b0c28ba3cfad",
   "metadata": {},
   "outputs": [],
   "source": [
    "softm_pzero_auc_onlyI[int(1e6)].shape"
   ]
  },
  {
   "cell_type": "code",
   "execution_count": null,
   "id": "87f13f67-ea20-415a-baab-286cfcbf06b4",
   "metadata": {},
   "outputs": [],
   "source": [
    "plt.figure(figsize=(7,5))\n",
    "x=softm_alphas_all\n",
    "#x = np.arange(len(softm_alphas_all))\n",
    "for k in softm_pzero_auc_onlyI:\n",
    "    sac = softm_pzero_auc_onlyI[k].reshape(-1,len(softm_alphas_all))\n",
    "    mean = sac.mean(0).flatten()\n",
    "    err = np.nanstd(sac,0).flatten() / np.sqrt(sac.shape[0])\n",
    "    print(k)\n",
    "    quas = (np.quantile(sac,[0.4,0.5,0.6], axis=0))\n",
    "    #plt.fill_between(x, mean-err,mean+err,  label=pretty_print_n(k), alpha=0.4) # \n",
    "    plt.plot(x, mean,\"*-\", label=pretty_print_n(k))\n",
    "\n",
    "xlims=plt.gca().get_xlim()\n",
    "plt.hlines(pzero_auc_onlyI[\"sib\"].mean(), min(x), max(x), colors=\"orange\", linestyles=\"dotted\", label=\"sib\")\n",
    "\n",
    "#plt.hlines(pzero_auc_onlyI[\"ann_less_deep\"].mean(), min(x), max(x), colors=\"black\", linestyles=\"dashed\", label=\"ANN less deep\")\n",
    "plt.hlines(pzero_auc_onlyI[\"ann_3lpow1\"].mean(), min(x), max(x), colors=\"blue\", linestyles=\"dashdot\", label=\"ANN 3lpow1\")\n",
    "\n",
    "plt.legend(loc=\"lower right\")\n",
    "plt.xlim(xlims)\n",
    "plt.xlabel(\"Soft margin $\\\\alpha$\")\n",
    "plt.ylabel(\"AUCs in finding the source (between I/R)\")\n",
    "plt.savefig(f\"SoftmAUC_redo_{inst.base_str()}.svg\")"
   ]
  },
  {
   "cell_type": "code",
   "execution_count": null,
   "id": "1dbb3f88-b702-45f8-a2d8-2a5a6018e8e2",
   "metadata": {},
   "outputs": [],
   "source": []
  }
 ],
 "metadata": {
  "kernelspec": {
   "display_name": "Python 3.8 (torche)",
   "language": "python",
   "name": "python38torche"
  },
  "language_info": {
   "codemirror_mode": {
    "name": "ipython",
    "version": 3
   },
   "file_extension": ".py",
   "mimetype": "text/x-python",
   "name": "python",
   "nbconvert_exporter": "python",
   "pygments_lexer": "ipython3",
   "version": "3.8.8"
  }
 },
 "nbformat": 4,
 "nbformat_minor": 5
}
