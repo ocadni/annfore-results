{
 "cells": [
  {
   "cell_type": "code",
   "execution_count": 1,
   "metadata": {},
   "outputs": [],
   "source": [
    "import pandas as pd\n",
    "import numpy as np\n",
    "import torch\n",
    "import sys\n",
    "\n",
    "sys.path.insert(0, '../../../src/')\n",
    "from utils.script_utils import create_parser, create_data_\n",
    "sys.path.insert(0, '../../../scripts/')\n",
    "from softmargin_run_new import add_arg_parser"
   ]
  },
  {
   "cell_type": "code",
   "execution_count": 17,
   "metadata": {},
   "outputs": [],
   "source": [
    "seeds = np.arange(0,100).tolist()\n",
    "num_conf = [1]*len(seeds)\n",
    "num_conf = dict(zip(range(len(num_conf)), num_conf))\n",
    "\n",
    "parser = create_parser()\n",
    "add_arg_parser(parser)\n",
    "args = parser.parse_args(\"\")\n",
    "args.type_graph=\"i_bird\"\n",
    "\n",
    "args.N = 330\n",
    "args.d = 10\n",
    "args.h = 3\n",
    "args.t_limit = 14 # Numbers of epoch of our epidemics spreading [0,1,...,T_limit-1]\n",
    "args.lambda_ = 0.5 # probability of infection\n",
    "args.gamma = 2e-4 # probability of infection\n",
    "args.mu = 0.02 # probability of recovery\n",
    "args.small_lambda_limit=300\n",
    "args.p_edge = 1\n",
    "args.scale=2\n",
    "args.a_min=0.01\n",
    "args.a_max=0.22\n",
    "args.a_step=0.01\n",
    "args.path_contacts=\"i_bird_contacts.npz\"\n",
    "nsims=[int(1e6), 10_000_000, 100_000_000]\n",
    "nsims_str = [\"10000000\", \"100000000\"]\n",
    "path_dir = \"./data\"\n",
    "if path_dir == \"not_setted\":\n",
    "    path_dir = type_graph"
   ]
  },
  {
   "cell_type": "code",
   "execution_count": 4,
   "metadata": {
    "tags": [
     "outputPrepend"
    ]
   },
   "outputs": [],
   "source": [
    "%%capture\n",
    "from epigen.epidemy_gen import epidemy_gen_new\n",
    "\n",
    "list_contacts = {}\n",
    "data_={}\n",
    "INSTANCES = []\n",
    "for i_seed, seed in enumerate(seeds):\n",
    "    print(f\"\\nSEED: {seed}\")\n",
    "    \n",
    "    args.seed=seed\n",
    "    args.num_conf=num_conf[i_seed]\n",
    "    #print(args)\n",
    "    temp, name_file, INSTANCE = create_data_(args, give_instance=True)\n",
    "    INSTANCES.append(INSTANCE)\n",
    "    #Ns[cl] = int(max(temp[\"contacts\"][:, 1]) + 1)\n",
    "    list_contacts[seed] = temp[\"contacts\"]\n",
    "    data_[seed] = temp\n",
    "N=args.N\n",
    "data_.keys()"
   ]
  },
  {
   "cell_type": "markdown",
   "metadata": {},
   "source": [
    "# READ DATA\n",
    "\n",
    "create name_files"
   ]
  },
  {
   "cell_type": "code",
   "execution_count": 18,
   "metadata": {},
   "outputs": [],
   "source": [
    "name_files_nn = {}\n",
    "Ns = [args.N]\n",
    "args.d=10\n",
    "for i_seed, seed in enumerate(seeds):\n",
    "    #print(f\"\\nSEED: {seed}\")\n",
    "    name_files_nn[seed] = {}\n",
    "    name_file_init = path_dir + \"/ann/\"\n",
    "    #print(step, name_file_init)\n",
    "    name_file_temp = name_file_init + f\"N_{N}_d_{args.d}_h_{args.h}_T_{args.t_limit}_lam_{args.lambda_}_mu_{args.mu}_p_edge_{args.p_edge}\"\n",
    "    name_file_temp += f\"_s_{seed}\"\n",
    "    name_files_nn[seed] = name_file_temp\n",
    "\n",
    "name_files_nn2 = {}\n",
    "for i_seed, seed in enumerate(seeds):\n",
    "    #print(f\"\\nSEED: {seed}\")\n",
    "    name_files_nn2[seed] = {}\n",
    "    name_file_init = path_dir + \"/ann/\"\n",
    "    #print(step, name_file_init)\n",
    "    name_file_temp = name_file_init + str(INSTANCES[i_seed])\n",
    "    name_file_temp = name_file_temp.replace(\"d_3\", \"d_10\")\n",
    "    name_files_nn2[seed] = name_file_temp\n",
    "\n",
    "\n",
    "name_files_sib = {}\n",
    "for i_seed, seed in enumerate(seeds):\n",
    "    #print(f\"\\nSEED: {seed}\")\n",
    "    name_files_sib[seed] = {}\n",
    "    name_file_init = path_dir + \"/sib/\"\n",
    "    #print(step, name_file_init)\n",
    "    name_file_temp = name_file_init + f\"N_{N}_d_{args.d}_h_{args.h}_T_{args.t_limit}_lam_{args.lambda_}_mu_{args.mu}_p_edge_{args.p_edge}\"\n",
    "    name_file_temp += f\"_s_{seed}\"\n",
    "    name_files_sib[seed] = name_file_temp\n",
    "            #print(name_file_temp)\n",
    "        \n",
    "name_files_sm = {}\n",
    "for i_sim, nsim in enumerate(nsims):\n",
    "    name_files_sm[nsim]={}\n",
    "    for i_seed, seed in enumerate(seeds):\n",
    "        #print(f\"\\nSEED: {seed}\")\n",
    "        name_files_sm[nsim][seed] = {}\n",
    "        name_file = path_dir + \"/sm_good/\" + str(INSTANCES[i_seed])\n",
    "        name_file += f\"_nc_{num_conf[seed]}\"\n",
    "        #name_file+= f\"_softm_nsims_{nsim}_nit_{args.n_iter}\"\n",
    "        name_file+= f\"_softm_nsims_{nsim}_rep_0\"\n",
    "        #print(name_file)\n",
    "        name_files_sm[nsim][seed] = name_file\n"
   ]
  },
  {
   "cell_type": "markdown",
   "metadata": {},
   "source": [
    "### READ FILES"
   ]
  },
  {
   "cell_type": "code",
   "execution_count": 6,
   "metadata": {},
   "outputs": [],
   "source": [
    "#create dictorary containing data\n",
    "ress = {}\n",
    "for i_seed, seed in enumerate(seeds):\n",
    "    #print(f\"SEED: {seed}\")\n",
    "    ress[seed] = {}\n",
    "    ress[seed] = []\n",
    "    for instance_num in range(num_conf[i_seed]):\n",
    "        #print(f\" N: {N_cl} instance {instance_num}\")\n",
    "        ress[seed].append({})\n"
   ]
  },
  {
   "cell_type": "code",
   "execution_count": 6,
   "metadata": {},
   "outputs": [
    {
     "data": {
      "text/plain": [
       "'./data/ann/i_bird_n_330_d_10_tlim_14_lam_0.5_mu_0.02_s_99_pe_1_0'"
      ]
     },
     "execution_count": 6,
     "metadata": {},
     "output_type": "execute_result"
    }
   ],
   "source": [
    "name_files_nn2[seed] +\"_\" + str(instance_num)"
   ]
  },
  {
   "cell_type": "code",
   "execution_count": 8,
   "metadata": {},
   "outputs": [
    {
     "name": "stdout",
     "output_type": "stream",
     "text": [
      " 0new not found. try next\n",
      " 1new not found. try next\n",
      " 2new not found. try next\n",
      " 3new not found. try next\n",
      " 4new not found. try next\n",
      " 5new not found. try next\n",
      " 6new not found. try next\n",
      " 7new not found. try next\n",
      " 8new not found. try next\n",
      " 9new not found. try next\n",
      " 10new not found. try next\n",
      " 11new not found. try next\n",
      " 12new not found. try next\n",
      " 13new not found. try next\n",
      " 14new not found. try next\n",
      " 15new not found. try next\n",
      " 16new not found. try next\n",
      " 17new not found. try next\n",
      " 18new not found. try next\n",
      " 19new not found. try next\n",
      " 20new not found. try next\n",
      " 21new not found. try next\n",
      " 22new not found. try next\n",
      " 23new not found. try next\n",
      " 24new not found. try next\n",
      " 25new not found. try next\n",
      " 26new not found. try next\n",
      " 27 28 29new not found. try next\n",
      " 30new not found. try next\n",
      " 31 32new not found. try next\n",
      " 33new not found. try next\n",
      " 34new not found. try next\n",
      " 35new not found. try next\n",
      " 36new not found. try next\n",
      " 37new not found. try next\n",
      " 38new not found. try next\n",
      " 39new not found. try next\n",
      " 40new not found. try next\n",
      " 41new not found. try next\n",
      " 42new not found. try next\n",
      " 43 44new not found. try next\n",
      " 45 46new not found. try next\n",
      " 47new not found. try next\n",
      " 48new not found. try next\n",
      " 49new not found. try next\n",
      " 50new not found. try next\n",
      " 51new not found. try next\n",
      " 52new not found. try next\n",
      " 53new not found. try next\n",
      " 54new not found. try next\n",
      " 55new not found. try next\n",
      " 56new not found. try next\n",
      " 57new not found. try next\n",
      " 58new not found. try next\n",
      " 59new not found. try next\n",
      " 60new not found. try next\n",
      " 61new not found. try next\n",
      " 62new not found. try next\n",
      " 63new not found. try next\n",
      " 64new not found. try next\n",
      " 65new not found. try next\n",
      " 66 67new not found. try next\n",
      " 68new not found. try next\n",
      " 69new not found. try next\n",
      " 70new not found. try next\n",
      " 71new not found. try next\n",
      " 72new not found. try next\n",
      " 73new not found. try next\n",
      " 74new not found. try next\n",
      " 75new not found. try next\n",
      " 76 77new not found. try next\n",
      " 78new not found. try next\n",
      " 79new not found. try next\n",
      " 80new not found. try next\n",
      " 81new not found. try next\n",
      " 82new not found. try next\n",
      " 83new not found. try next\n",
      " 84new not found. try next\n",
      " 85new not found. try next\n",
      " 86new not found. try next\n",
      " 87 88new not found. try next\n",
      " 89new not found. try next\n",
      " 90new not found. try next\n",
      " 91new not found. try next\n",
      " 92new not found. try next\n",
      " 93new not found. try next\n",
      " 94new not found. try next\n",
      " 95new not found. try next\n",
      " 96new not found. try next\n",
      " 97new not found. try next\n",
      " 98new not found. try next\n",
      " 99new not found. try next\n"
     ]
    }
   ],
   "source": [
    "for i_seed, seed in enumerate(seeds):\n",
    "    print(f\" {seed}\", end=\"\")\n",
    "    for instance_num in range(num_conf[i_seed]):\n",
    "        ress[seed][instance_num][\"regressive\"] = {}\n",
    "        #print(f\"Read instance {instance_num}\")\n",
    "        name_temp = name_files_nn[seed] +\"_\" + str(instance_num)\n",
    "        try:\n",
    "            name_temp = name_files_nn2[seed] +\"_\" + str(instance_num)\n",
    "            ress[seed][instance_num][\"regressive\"] = {}\n",
    "            ress[seed][instance_num][\"regressive\"][\"marginals\"] = np.load(name_temp + \"_margs.npz\",\n",
    "                                                                    \"r+\",\n",
    "                                                                   allow_pickle=True,\n",
    "                                                                   fix_imports=True)[\"marginals\"]\n",
    "        except:\n",
    "            print(\"new not found. try next\")\n",
    "            name_temp = name_files_nn[seed] +\"_\" + str(instance_num)\n",
    "            ress[seed][instance_num][\"regressive\"] = {}\n",
    "            ress[seed][instance_num][\"regressive\"][\"marginals\"] = np.load(name_temp + \"_margs.npz\",\n",
    "                                                                    \"r+\",\n",
    "                                                                   allow_pickle=True,\n",
    "                                                                   fix_imports=True)[\"marginals\"]\n",
    "        try:\n",
    "            ress[seed][instance_num][\"regressive\"][\"run\"] = pd.read_csv(name_temp + \".gz\")\n",
    "            beta = ress[seed][instance_num][\"regressive\"][\"run\"][\"beta\"].iloc[-1]\n",
    "            if beta < 1:\n",
    "                print(f\"***** beta {beta} {seed}\")\n",
    "            #print(f\"  instance_num: {instance_num}\")\n",
    "        except:\n",
    "            print(\"no gz\")\n",
    "        try:\n",
    "            '''ress[seed][N_cl][instance_num][\"regressive\"][\"net\"] = torch.load(name_temp + \".pt\",\n",
    "                                                                  map_location=device)\n",
    "            #ress[N_cl][instance_num][\"regressive\"][\"net\"].to(device)\n",
    "            ress[seed][N_cl][instance_num][\"regressive\"][\"net\"].device = device\n",
    "            for ll in ress[seed][N_cl][instance_num][\"regressive\"][\"net\"].sublayers:\n",
    "                for l in ll:\n",
    "                    l.device=device\n",
    "            print(f\"  NN net: {instance_num}\")'''\n",
    "            pass\n",
    "        except:\n",
    "            print(f\"  NN net: {instance_num} NON FOUND\")"
   ]
  },
  {
   "cell_type": "code",
   "execution_count": 9,
   "metadata": {},
   "outputs": [
    {
     "name": "stdout",
     "output_type": "stream",
     "text": [
      " 0 1 2 3 4 5 6 7 8 9 10 11 12 13 14 15 16 17 18 19 20 21 22 23 24 25 26 27 28 29 30 31 32 33 34 35 36 37 38 39 40 41 42 43 44 45 46 47 48 49 50 51 52 53 54 55 56 57 58 59 60 61 62 63 64 65 66 67 68 69 70 71 72 73 74 75 76 77 78 79 80 81 82 83 84 85 86 87 88 89 90 91 92 93 94 95 96 97 98 99"
     ]
    }
   ],
   "source": [
    "for i_seed, seed in enumerate(seeds):\n",
    "    print(f\" {seed}\", end=\"\")\n",
    "    for instance_num in range(num_conf[i_seed]):\n",
    "        #print(f\"Read instance {instance_num}\")\n",
    "        name_temp = name_files_sib[seed] +\"_\" + str(instance_num)\n",
    "        ress[seed][instance_num][\"sib\"] = {}\n",
    "        try:\n",
    "            ress[seed][instance_num][\"sib\"][\"marginals\"] = np.load(name_temp + \"_sib_margs.npz\",\n",
    "                                                                    \"r+\",\n",
    "                                                                   allow_pickle=True,\n",
    "                                                                   fix_imports=True)[\"marginals\"]\n",
    "            #print(\"load SIB\")\n",
    "        except:\n",
    "            print(f\"SIB not found\")\n"
   ]
  },
  {
   "cell_type": "code",
   "execution_count": 19,
   "metadata": {},
   "outputs": [
    {
     "name": "stdout",
     "output_type": "stream",
     "text": [
      " 0 1 2 3 4 5 6 7 8 9 10 11 12 13 14 15 16 17 18 19 20 21 22 23 24 25 26 27 28 29 30 31 32 33 34 35 36 37 38 39 40 41 42 43 44 45 46 47 48 49 50 51 52 53 54 55 56 57 58 59 60 61 62 63 64 65 66 67 68 69 70 71 72 73 74 75 76 77 78 79 80 81 82 83 84 85 86 87 88 89 90 91 92 93 94 95 96 97 98 99"
     ]
    }
   ],
   "source": [
    "for i_seed, seed in enumerate(seeds):\n",
    "    print(f\" {seed}\", end=\"\")\n",
    "    for instance_num in range(num_conf[i_seed]):\n",
    "        ress[seed][instance_num][\"sm\"] = {}\n",
    "        for nsim in nsims:\n",
    "            ress[seed][instance_num][\"sm\"][nsim] = {}\n",
    "            #print(f\"Read instance {instance_num}, nsim: {nsim}\")\n",
    "            #for nsim in nsims:\n",
    "            name_temp_sm = name_files_sm[nsim][seed]\n",
    "            ffname=name_temp_sm + \"_probs.npz\"\n",
    "            try:\n",
    "                    #ress[seed][N_cl][instance_num][\"sm\"][nsim] = {}\n",
    "                '''ress[seed][N_cl][instance_num][\"sm\"][nsim][\"marginals\"] = np.load(name_temp_sm + \"_margs.npz\",\n",
    "                                                                                \"r+\",\n",
    "                                                                               allow_pickle=True,\n",
    "                                                                               fix_imports=True)[\"margs_0\"]'''\n",
    "                ress[seed][instance_num][\"sm\"][nsim][\"prob_zero\"] = np.load(ffname,\n",
    "                                                                                \"r+\",\n",
    "                                                                               allow_pickle=True,\n",
    "                                                                               fix_imports=True)[\"inst_\" + str(instance_num)]\n",
    "                #print(f\"loaded SF nsim: {instance_num} ...\")\n",
    "            except FileNotFoundError:\n",
    "                print(f\"not found SF {ffname} \")\n",
    "\n",
    "                    #ress[instance_num][\"regressive\"][\"net\"] = torch.load(name_temp + \".pt\")                          name_temp = name_files_nn[seed][N_cl][step] +\"_\" + str(instance_num)\n"
   ]
  },
  {
   "cell_type": "markdown",
   "metadata": {},
   "source": [
    "# results"
   ]
  },
  {
   "cell_type": "code",
   "execution_count": 12,
   "metadata": {},
   "outputs": [],
   "source": [
    "from analysis.results_analysis import sources_finder, plot_patient_zero_roc"
   ]
  },
  {
   "cell_type": "code",
   "execution_count": 13,
   "metadata": {},
   "outputs": [],
   "source": [
    "import analysis.results_analysis\n",
    "import imp\n",
    "imp.reload(analysis.results_analysis)\n",
    "from analysis.results_analysis import sources_finder, plot_patient_zero_roc"
   ]
  },
  {
   "cell_type": "code",
   "execution_count": 21,
   "metadata": {},
   "outputs": [],
   "source": [
    "marginals, pos_sources = sources_finder(ress, data_, num_conf, nsims)"
   ]
  },
  {
   "cell_type": "code",
   "execution_count": 22,
   "metadata": {},
   "outputs": [],
   "source": [
    "import pickle\n",
    "with open(\"pos_sources.pkl\", \"wb\") as f:\n",
    "    pickle.dump( pos_sources, f )"
   ]
  },
  {
   "cell_type": "code",
   "execution_count": 31,
   "metadata": {},
   "outputs": [
    {
     "data": {
      "image/png": "[encoded data removed]",
      "text/plain": [
       "<Figure size 432x288 with 1 Axes>"
      ]
     },
     "metadata": {
      "needs_background": "light"
     },
     "output_type": "display_data"
    }
   ],
   "source": [
    "import matplotlib.pyplot as plt\n",
    "bins=N\n",
    "plot_patient_zero_roc(plt,\n",
    "                          pos_sources, \n",
    "                          nsims, \n",
    "                      args,\n",
    "                          alpha=13, \n",
    "                          bins=bins,\n",
    "                          range_=(0,1),\n",
    "                          norm=N,\n",
    "                          colors=plt.get_cmap(\"Greens\"))\n",
    "plt.legend()\n",
    "plt.xlim(0,1)\n",
    "plt.ylim(0,1.01)\n",
    "plt.title(f\"{args.type_graph} N:{Ns[0]}, days:{args.t_limit}, lambda_:{args.lambda_}, mu:{args.mu} inst:{100}\")\n",
    "plt.xlabel(\"fraction of infected or recovery nodes\")\n",
    "plt.ylabel(\"fraction of true sources found\")\n",
    "#plt.ylim(0,17)\n",
    "plt.show()"
   ]
  },
  {
   "cell_type": "code",
   "execution_count": 30,
   "metadata": {},
   "outputs": [
    {
     "data": {
      "image/png": "[encoded data removed]",
      "text/plain": [
       "<Figure size 432x288 with 1 Axes>"
      ]
     },
     "metadata": {
      "needs_background": "light"
     },
     "output_type": "display_data"
    }
   ],
   "source": [
    "import matplotlib.pyplot as plt\n",
    "bins=100\n",
    "plot_patient_zero_roc(plt,\n",
    "                          pos_sources, \n",
    "                          nsims, \n",
    "                          args,\n",
    "                          alpha=13, \n",
    "                          bins=bins,\n",
    "                          range_=(0,1),\n",
    "                          norm=pos_sources[\"Is_len\"],\n",
    "                          colors=plt.get_cmap(\"Greens\"))\n",
    "plt.legend()\n",
    "plt.xlim(0,1)\n",
    "plt.ylim(0,1.01)\n",
    "plt.title(f\"{args.type_graph} N:{Ns[0]}, days:{args.t_limit}, lambda_:{args.lambda_}, mu:{args.mu} inst:{100}\")\n",
    "plt.xlabel(\"fraction of infected or recovery nodes\")\n",
    "plt.ylabel(\"fraction of true sources found\")\n",
    "#plt.ylim(0,17)\n",
    "plt.show()"
   ]
  },
  {
   "cell_type": "code",
   "execution_count": 27,
   "metadata": {},
   "outputs": [
    {
     "data": {
      "text/plain": [
       "<matplotlib.legend.Legend at 0x7f1e38490910>"
      ]
     },
     "execution_count": 27,
     "metadata": {},
     "output_type": "execute_result"
    },
    {
     "data": {
      "image/png": "[encoded data removed]",
      "text/plain": [
       "<Figure size 720x360 with 1 Axes>"
      ]
     },
     "metadata": {
      "needs_background": "light"
     },
     "output_type": "display_data"
    }
   ],
   "source": [
    "import matplotlib.pyplot as plt\n",
    "import numpy as np\n",
    "from sklearn.metrics import auc\n",
    "plt.figure(figsize=(10,5))\n",
    "norm=N\n",
    "bins=N\n",
    "range_=(0,1)\n",
    "for nsim in nsims:\n",
    "    alphas = []\n",
    "    y = []\n",
    "    for alpha in range(len(pos_sources[\"sm\"][0][nsim])):\n",
    "        pos_source_sm=np.array([pos_sources[\"sm\"][ii][nsim][alpha] for ii in range(len(pos_sources[\"sm\"]))])\n",
    "        s_sm,x = np.histogram(pos_source_sm/norm, bins=bins, range=range_)\n",
    "        y_sm = np.insert(np.cumsum(s_sm)/len(pos_sources[\"sm\"]),0,0)        \n",
    "        #print(alpha, np.cumsum(s_sm))\n",
    "        #plt.plot(x, y_sm, label=f\"sm - {a_min+alpha*a_step:.2f} -- auc {auc(x, y_sm):.3f} -- sims:{nsim}\")\n",
    "        y.append(auc(x, y_sm))\n",
    "        alphas.append(args.a_min+alpha*args.a_step)\n",
    "    plt.plot(alphas, y, \"*-\",label=f\"nsim: {nsim:.0e}\")\n",
    "plt.legend()\n",
    "#plt.xlim(0,1)\n",
    "#plt.title(f\"work95 N:{Ns[0]}, days:{t_limit}, gamma:{gamma[0]}, mu:{mu} inst:{len(true_sources[0])}\")\n",
    "#plt.ylim(0,17)"
   ]
  },
  {
   "cell_type": "code",
   "execution_count": 17,
   "metadata": {},
   "outputs": [
    {
     "data": {
      "text/plain": [
       "<matplotlib.legend.Legend at 0x7fd5175fc7c0>"
      ]
     },
     "execution_count": 17,
     "metadata": {},
     "output_type": "execute_result"
    },
    {
     "data": {
      "image/png": "[encoded data removed]",
      "text/plain": [
       "<Figure size 720x360 with 1 Axes>"
      ]
     },
     "metadata": {
      "needs_background": "light"
     },
     "output_type": "display_data"
    }
   ],
   "source": [
    "import matplotlib.pyplot as plt\n",
    "import numpy as np\n",
    "from sklearn.metrics import auc\n",
    "plt.figure(figsize=(10,5))\n",
    "norm=pos_sources[\"Is_len\"]\n",
    "bins=100\n",
    "range_=(0,1)\n",
    "for nsim in nsims:\n",
    "    alphas = []\n",
    "    y = []\n",
    "    for alpha in range(len(pos_sources[\"sm\"][0][nsim])):\n",
    "        pos_source_sm=np.array([pos_sources[\"sm\"][ii][nsim][alpha] for ii in range(len(pos_sources[\"sm\"]))])\n",
    "        s_sm,x = np.histogram(pos_source_sm/norm, bins=bins, range=range_)\n",
    "        y_sm = np.insert(np.cumsum(s_sm)/len(pos_sources[\"sm\"]),0,0)        \n",
    "        #print(alpha, np.cumsum(s_sm))\n",
    "        #plt.plot(x, y_sm, label=f\"sm - {a_min+alpha*a_step:.2f} -- auc {auc(x, y_sm):.3f} -- sims:{nsim}\")\n",
    "        y.append(auc(x, y_sm))\n",
    "        alphas.append(args.a_min+alpha*args.a_step)\n",
    "    plt.plot(alphas, y, label=f\"nsim: {nsim:.0e}\")\n",
    "plt.legend()\n",
    "#plt.xlim(0,1)\n",
    "#plt.title(f\"work95 N:{Ns[0]}, days:{t_limit}, gamma:{gamma[0]}, mu:{mu} inst:{len(true_sources[0])}\")\n",
    "#plt.ylim(0,17)"
   ]
  },
  {
   "cell_type": "code",
   "execution_count": 18,
   "metadata": {},
   "outputs": [
    {
     "name": "stdout",
     "output_type": "stream",
     "text": [
      "0 0 13 99 10098\n",
      "1 0 0 230 10098\n",
      "2 0 0 259 10098\n",
      "3 0 2 82 10098\n",
      "4 0 0 86 10098\n",
      "5 0 0 209 10098\n",
      "6 0 1 13 10098\n",
      "7 0 0 155 10098\n",
      "8 0 0 118 10098\n",
      "9 1 27 83 10098\n",
      "10 2 9 17 10098\n",
      "11 0 0 124 10098\n",
      "12 11 8 134 10098\n",
      "13 0 0 182 10098\n",
      "14 1 0 92 10098\n",
      "15 0 0 2 10098\n",
      "16 0 0 154 10098\n",
      "17 0 1 138 10098\n",
      "18 0 0 189 10098\n",
      "19 0 0 238 10098\n",
      "20 0 4 236 10098\n",
      "21 0 2 163 10098\n",
      "22 0 1 170 10098\n",
      "23 0 0 2 10098\n",
      "24 0 0 141 10098\n",
      "25 0 0 150 10098\n",
      "26 0 0 241 10098\n",
      "27 0 0 200 20098.0\n",
      "28 1 5 244 20098.0\n",
      "29 0 1 80 10098\n",
      "30 0 0 89 10098\n",
      "31 2 2 242 20098.0\n",
      "32 1 1 179 10098\n",
      "33 0 0 58 10098\n",
      "34 2 12 99 10098\n",
      "35 0 3 60 10098\n",
      "36 4 2 129 10098\n",
      "37 1 1 23 10098\n",
      "38 0 0 2 10098\n",
      "39 0 0 167 10098\n",
      "40 0 2 93 10098\n",
      "41 0 0 169 10098\n",
      "42 0 0 5 10098\n",
      "43 0 0 185 10098\n",
      "44 4 1 58 10098\n",
      "45 0 0 189 20098.0\n",
      "46 1 0 251 10098\n",
      "47 0 0 51 10098\n",
      "48 0 0 70 10098\n",
      "49 0 71 248 10098\n",
      "50 0 0 2 10098\n",
      "51 1 1 80 10098\n",
      "52 0 0 146 10098\n",
      "53 0 1 10 10098\n",
      "54 0 0 190 10098\n",
      "55 0 0 219 10098\n",
      "56 0 0 39 10098\n",
      "57 0 0 99 10098\n",
      "58 0 10 45 10098\n",
      "59 0 2 8 10098\n",
      "60 0 0 173 10098\n",
      "61 2 12 73 10098\n",
      "62 0 0 4 10098\n",
      "63 0 0 117 10098\n",
      "64 0 1 41 10098\n",
      "65 1 1 136 10098\n",
      "66 1 4 254 20098.0\n",
      "67 1 1 218 10098\n",
      "68 0 0 239 10098\n",
      "69 0 0 191 10098\n",
      "70 2 1 192 10098\n",
      "71 0 0 179 10098\n",
      "72 0 0 243 10098\n",
      "73 2 2 102 10098\n",
      "74 0 7 44 10098\n",
      "75 10 11 86 10098\n",
      "76 66 21 189 10098\n",
      "77 0 0 102 10098\n",
      "78 0 0 157 10098\n",
      "79 0 0 178 10098\n",
      "80 0 0 203 10098\n",
      "81 0 1 124 10098\n",
      "82 0 0 220 10098\n",
      "83 0 1 26 10098\n",
      "84 0 3 157 10098\n",
      "85 0 0 195 10098\n",
      "86 0 1 98 10098\n",
      "87 0 0 204 10098\n",
      "88 2 16 87 10098\n",
      "89 12 1 232 10098\n",
      "90 0 0 2 10098\n",
      "91 4 5 116 10098\n",
      "92 1 2 54 10098\n",
      "93 0 6 65 10098\n",
      "94 0 16 103 10098\n",
      "95 2 5 34 10098\n",
      "96 0 0 120 10098\n",
      "97 0 0 232 10098\n",
      "98 0 5 189 10098\n",
      "99 0 1 101 10098\n"
     ]
    }
   ],
   "source": [
    "count=0\n",
    "for i in seeds:\n",
    "    for instance in range(len(data_[i][\"epidemy\"])):\n",
    "        I = (data_[i][\"epidemy\"][instance][0][0] < np.inf).sum()\n",
    "        steps = ress[i][instance][\"regressive\"][\"run\"][\"step\"].iloc[-1]\n",
    "        print(i, pos_sources[\"regressive\"][count], pos_sources[\"sib\"][count], I, steps)\n",
    "        count += 1"
   ]
  },
  {
   "cell_type": "code",
   "execution_count": 19,
   "metadata": {},
   "outputs": [
    {
     "name": "stdout",
     "output_type": "stream",
     "text": [
      "0 0 13 99\n",
      "1 0 0 230\n",
      "2 0 0 259\n",
      "3 0 2 82\n",
      "4 0 0 86\n",
      "5 0 0 209\n",
      "6 0 1 13\n",
      "7 0 0 155\n",
      "8 0 0 118\n",
      "9 1 27 83\n",
      "10 2 9 17\n",
      "11 0 0 124\n",
      "12 11 8 134\n",
      "13 0 0 182\n",
      "14 1 0 92\n",
      "15 0 0 2\n",
      "16 0 0 154\n",
      "17 0 1 138\n",
      "18 0 0 189\n",
      "19 0 0 238\n",
      "20 0 4 236\n",
      "21 0 2 163\n",
      "22 0 1 170\n",
      "23 0 0 2\n",
      "24 0 0 141\n",
      "25 0 0 150\n",
      "26 0 0 241\n",
      "27 0 0 200\n",
      "28 1 5 244\n",
      "29 0 1 80\n",
      "30 0 0 89\n",
      "31 2 2 242\n",
      "32 1 1 179\n",
      "33 0 0 58\n",
      "34 2 12 99\n",
      "35 0 3 60\n",
      "36 4 2 129\n",
      "37 1 1 23\n",
      "38 0 0 2\n",
      "39 0 0 167\n",
      "40 0 2 93\n",
      "41 0 0 169\n",
      "42 0 0 5\n",
      "43 0 0 185\n",
      "44 4 1 58\n",
      "45 0 0 189\n",
      "46 1 0 251\n",
      "47 0 0 51\n",
      "48 0 0 70\n",
      "49 0 71 248\n",
      "50 0 0 2\n",
      "51 1 1 80\n",
      "52 0 0 146\n",
      "53 0 1 10\n",
      "54 0 0 190\n",
      "55 0 0 219\n",
      "56 0 0 39\n",
      "57 0 0 99\n",
      "58 0 10 45\n",
      "59 0 2 8\n",
      "60 0 0 173\n",
      "61 2 12 73\n",
      "62 0 0 4\n",
      "63 0 0 117\n",
      "64 0 1 41\n",
      "65 1 1 136\n",
      "66 1 4 254\n",
      "67 1 1 218\n",
      "68 0 0 239\n",
      "69 0 0 191\n",
      "70 2 1 192\n",
      "71 0 0 179\n",
      "72 0 0 243\n",
      "73 2 2 102\n",
      "74 0 7 44\n",
      "75 10 11 86\n",
      "76 66 21 189\n",
      "77 0 0 102\n",
      "78 0 0 157\n",
      "79 0 0 178\n",
      "80 0 0 203\n",
      "81 0 1 124\n",
      "82 0 0 220\n",
      "83 0 1 26\n",
      "84 0 3 157\n",
      "85 0 0 195\n",
      "86 0 1 98\n",
      "87 0 0 204\n",
      "88 2 16 87\n",
      "89 12 1 232\n",
      "90 0 0 2\n",
      "91 4 5 116\n",
      "92 1 2 54\n",
      "93 0 6 65\n",
      "94 0 16 103\n",
      "95 2 5 34\n",
      "96 0 0 120\n",
      "97 0 0 232\n",
      "98 0 5 189\n",
      "99 0 1 101\n"
     ]
    }
   ],
   "source": [
    "for i in range(len(pos_sources[\"regressive\"])):\n",
    "    I = (data_[i][\"epidemy\"][0][0][0] < np.inf).sum()\n",
    "    print(i, pos_sources[\"regressive\"][i], pos_sources[\"sib\"][i], I)\n"
   ]
  },
  {
   "cell_type": "code",
   "execution_count": null,
   "metadata": {},
   "outputs": [],
   "source": []
  },
  {
   "cell_type": "code",
   "execution_count": null,
   "metadata": {},
   "outputs": [],
   "source": []
  },
  {
   "cell_type": "code",
   "execution_count": null,
   "metadata": {},
   "outputs": [],
   "source": []
  }
 ],
 "metadata": {
  "interpreter": {
   "hash": "2e62f657b8d8ca5305e9e864a899c987e9ce197630d8440f981c5ae49f158ad2"
  },
  "kernelspec": {
   "display_name": "Python 3.8 (torche)",
   "language": "python",
   "name": "python38torche"
  },
  "language_info": {
   "codemirror_mode": {
    "name": "ipython",
    "version": 3
   },
   "file_extension": ".py",
   "mimetype": "text/x-python",
   "name": "python",
   "nbconvert_exporter": "python",
   "pygments_lexer": "ipython3",
   "version": "3.8.8"
  }
 },
 "nbformat": 4,
 "nbformat_minor": 4
}
